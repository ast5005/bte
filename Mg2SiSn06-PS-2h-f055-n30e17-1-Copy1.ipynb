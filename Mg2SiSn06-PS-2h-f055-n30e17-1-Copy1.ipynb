{
 "cells": [
  {
   "cell_type": "code",
   "execution_count": 1,
   "metadata": {},
   "outputs": [
    {
     "data": {
      "text/plain": [
       "kltSA (generic function with 1 method)"
      ]
     },
     "execution_count": 1,
     "metadata": {},
     "output_type": "execute_result"
    }
   ],
   "source": [
    "push!(LOAD_PATH,pwd())\n",
    "using ProfileView\n",
    "using constants\n",
    "using types10\n",
    "using Optim\n",
    "using PyPlot\n",
    "using data\n",
    "include(\"DOSfunctions.jl\")\n",
    "include(\"userfunctions.jl\")\n",
    "include(\"propertyfuncs.jl\")"
   ]
  },
  {
   "cell_type": "code",
   "execution_count": 2,
   "metadata": {},
   "outputs": [
    {
     "data": {
      "text/plain": [
       "3.0"
      ]
     },
     "execution_count": 2,
     "metadata": {},
     "output_type": "execute_result"
    }
   ],
   "source": [
    "Eoff=5.0\n",
    "Ts=collect(300.0:10.0:900.0)\n",
    "######################################################################################\n",
    "##for Liu x=0.6 best fit x=0.635 N=-1.45e20\n",
    "######################################################################################\n",
    "numofn=[-3.0e18]#,-1.22e18,-1.02e18,-0.94e18]#-9.5e19,-1.75e20,-3.0e19,-0.9e20]#Sample 1 -3.0e19, Sample 2 -1.25e20,\n",
    "numofnn=[1e17]#,1e18,1e18,1e18]\n",
    "#Sample 3 -1.75e20, Sample Sb 0.75% -1.03e20, #\n",
    "xs=[0.6]#,0.8,0.7,0.61]#collect(0.0:0.01:1.0)\n",
    "Es=collect(0.0:0.1:3.0)\n",
    "\n",
    "var0=[Ts[1],xs[1]]\n",
    "\n",
    "EX3(var)=Eoff#+Egx3(var[1],var[2])\n",
    "EX1(var)=Ec0(var[2])+EX3(var)\n",
    "ELH(var)=Eoff-Egx3(var[1],var[2])\n",
    "EHH(var)=Eoff-Egx3(var[1],var[2])\n",
    "\n",
    "effMassX1(var)=X1effMass(var[1])*me\n",
    "effMassX3(var)=0.38*me\n",
    "effMassLH(var)=-1.0*me\n",
    "effMassHH(var)=-1.5*me\n",
    "\n",
    "alphaX1(var)=0.0#EX1(var0)\n",
    "alphaX3(var)=0.0#EX1(var0)\n",
    "alphaLH(var)=0.0#EX3(var0)\n",
    "alphaHH(var)=0.0#EX3(var0)\n",
    "\n",
    "function Da(band::parBandTx,x::Float64)\n",
    "    Da=7.0#9.0-1.5*x*x\n",
    "    Dv=1.0\n",
    "    if band==bandX3 ||  band==bandX1\n",
    "        return Da\n",
    "    end\n",
    "    if band==bandHH ||  band==bandLH\n",
    "        return Dv\n",
    "    end\n",
    "end\n",
    "\n",
    "bandX3=parBandTx(true,1.0,effMassX3(var0),alphaX3(0.0),EX3(var0),[EX3],[effMassX3],[alphaX3],var0)\n",
    "bandX1=parBandTx(true,1.0,effMassX1(var0),alphaX1(0.0),EX1(var0),[EX1],[effMassX1],[alphaX1],var0)\n",
    "bandHH=parBandTx(true,1.0,effMassHH(var0),alphaHH(0.0),EHH(var0),[EHH],[effMassHH],[alphaHH],var0)\n",
    "bandLH=parBandTx(true,1.0,effMassLH(var0),alphaLH(0.0),ELH(var0),[ELH],[effMassLH],[alphaLH],var0)\n",
    "bndstTx=BandStrucTx([bandLH,bandHH,bandX1,bandX1,bandX1,bandX3,bandX3,bandX3],var0)#\n",
    "#bndstTx=BandStrucTx([bandLH,bandX1],var0)#\n",
    "\n",
    "#vartau0=[bandC.effMass,Ts[1],Ec(var0),xs[1],Ec(var0),bandC,numofn[1]*1e6,bndstTx,numofnn[1]*1e6,bandV]\n",
    "vartau0=[bandX3.effMass,Ts[1],EX1(var0),xs[1],EX1(var0),bandX3,numofn[1]*1e6,bndstTx,numofnn[1]*1e6,bandLH]\n",
    "#var array: var[1]: effMass , var[2]:T, var[3]:E, var[4]:x, var[5]:Ef, \n",
    "#var[6]:band, var[7]:NII var[8]:bndst\n",
    "#tauAC(var)=tauAC_func(Cl(var[4]),acPhDa(var[4]),var[2],var[1],var[3],var[6])\n",
    "tauAC(var)=tauAC_func(Cl(var[4]),Da(var[6],var[4]),var[2],var[1],var[3],var[6])\n",
    "tauPOP(var)=tauPOP_func(epsilon0_x(var[4]),epsilonhf_x(var[4]),var[6],var[5],var[2],var[1]\n",
    ",var[3],tauPOPIIint(var[5],var[2],var[4],var[6]),var[7],opPhE(var[4]),var[8])\n",
    "tauPOP2(var)=tauPOP2lowN_func(epsilon0_x(var[4]),epsilonhf_x(var[4]),var[6],var[5],var[2],var[1],\n",
    "var[3],opPhE(var[4]))\n",
    "tauPOP3(var)=tauPOP3_func(epsilon0_x(var[4]),epsilonhf_x(var[4]),var[6],var[5],var[2],var[1],\n",
    "var[3],opPhE(var[4]))\n",
    "tauII2(var)=tauII2_func(epsilon0_x(var[4]),epsilonhf_x(var[4]),var[6],var[5],var[2],var[7],var[1],var[3],var[8])\n",
    "tauNI(var)=tauNI_func(epsilon0_x(var[4]),var[1],var[9])\n",
    "tauTOTTx=tau_electron_B([tauAC,tauII2,tauNI,tauPOP3],vartau0)#,tauII2,tauPOP2,tauPOP3\n",
    "\n",
    "xmax=3.0"
   ]
  },
  {
   "cell_type": "code",
   "execution_count": 3,
   "metadata": {},
   "outputs": [
    {
     "name": "stdout",
     "output_type": "stream",
     "text": [
      " 40.914921 seconds (188.84 M allocations: 38.943 GiB, 11.11% gc time)\n"
     ]
    },
    {
     "data": {
      "text/plain": [
       "3.0"
      ]
     },
     "execution_count": 3,
     "metadata": {},
     "output_type": "execute_result"
    }
   ],
   "source": [
    "@time (Efs,sigmas,seebecks,kes,kees,kehs,kbis,sigmaes,sigmahs,seebeckes,seebeckhs)=electronicPropsiso(bndstTx,xs,Ts,numofn,numofnn,tauTOTTx,xmax)\n",
    "x=3.0"
   ]
  },
  {
   "cell_type": "code",
   "execution_count": 4,
   "metadata": {},
   "outputs": [
    {
     "name": "stdout",
     "output_type": "stream",
     "text": [
      "300.0 -0.04857792057782895\n",
      "310.0 -0.0519103453527654\n",
      "320.0 -0.0553048540367822\n",
      "330.0 -0.058759411978385856\n",
      "340.0 -0.062271905194831056\n",
      "350.0 -0.06584004210458172\n",
      "360.0 -0.06946120623457919\n",
      "370.0 -0.07313224213123082\n",
      "380.0 -0.07684915322032637\n",
      "390.0 -0.08060668807909988\n",
      "400.0 -0.08439779238664524\n",
      "410.0 -0.08821291095221007\n",
      "420.0 -0.0920391427385363\n",
      "430.0 -0.09585928847054603\n",
      "440.0 -0.09965089198087185\n",
      "450.0 -0.10338546438042329\n",
      "460.0 -0.10702818060179986\n",
      "470.0 -0.11053840903495704\n",
      "480.0 -0.11387140368880821\n",
      "490.0 -0.11698127762976807\n",
      "500.0 -0.11982497633700895\n",
      "510.0 -0.12236651185847336\n",
      "520.0 -0.12458045811351504\n",
      "530.0 -0.12645385403709142\n",
      "540.0 -0.1279861876196593\n",
      "550.0 -0.12918773924171223\n",
      "560.0 -0.13007687880809105\n",
      "570.0 -0.1306772477832201\n",
      "580.0 -0.13101514546544735\n",
      "590.0 -0.13111750020727087\n",
      "600.0 -0.13101045604889183\n",
      "610.0 -0.1307184992041801\n",
      "620.0 -0.13026399971676295\n",
      "630.0 -0.12966704299032017\n",
      "640.0 -0.12894544727246515\n",
      "650.0 -0.12811488993086506\n",
      "660.0 -0.1271890894876586\n",
      "670.0 -0.12618000919588024\n",
      "680.0 -0.12509806141344448\n",
      "690.0 -0.12395230111908617\n",
      "700.0 -0.12275060276144245\n",
      "710.0 -0.12149981823052514\n",
      "720.0 -0.1202059158456672\n",
      "730.0 -0.11887410140370136\n",
      "740.0 -0.11750892288777948\n",
      "750.0 -0.11611436064041758\n",
      "760.0 -0.11469390480412578\n",
      "770.0 -0.11325062172532885\n",
      "780.0 -0.11178721085842813\n",
      "790.0 -0.11030605353088863\n",
      "800.0 -0.10880925475594339\n",
      "810.0 -0.1072986791168633\n",
      "820.0 -0.1057759816000452\n",
      "830.0 -0.10424263412509127\n",
      "840.0 -0.10269994840778018\n",
      "850.0 -0.1011490956956429\n",
      "860.0 -0.09959112383354896\n",
      "870.0 -0.09802697204699218\n",
      "880.0 -0.09645748377169028\n",
      "890.0 -0.09488341780819631\n",
      "900.0 -0.09330545803812829\n"
     ]
    }
   ],
   "source": [
    "foreach(x->println(Ts[x],\" \",Efs[x,1,1,]-Eoff),1:length(Ts))"
   ]
  },
  {
   "cell_type": "code",
   "execution_count": 5,
   "metadata": {},
   "outputs": [
    {
     "ename": "MethodError",
     "evalue": "MethodError: no method matching -(::Array{Float64,1}, ::Float64)\nClosest candidates are:\n  -(!Matched::Float64, ::Float64) at float.jl:397\n  -(!Matched::Complex{Bool}, ::Real) at complex.jl:298\n  -(!Matched::Missing, ::Number) at missing.jl:93\n  ...",
     "output_type": "error",
     "traceback": [
      "MethodError: no method matching -(::Array{Float64,1}, ::Float64)\nClosest candidates are:\n  -(!Matched::Float64, ::Float64) at float.jl:397\n  -(!Matched::Complex{Bool}, ::Real) at complex.jl:298\n  -(!Matched::Missing, ::Number) at missing.jl:93\n  ...",
      "",
      "Stacktrace:",
      " [1] top-level scope at In[5]:1"
     ]
    }
   ],
   "source": [
    "plot(Ts,Efs[:,1,1]-Eoff,linestyle=\"-\",marker=\"o\",color=\"c\")\n",
    "#ylim(0,7)\n",
    "grid()"
   ]
  },
  {
   "cell_type": "code",
   "execution_count": 6,
   "metadata": {},
   "outputs": [
    {
     "data": {
      "image/png": "[encoded data removed]",
      "text/plain": [
       "Figure(PyObject <matplotlib.figure.Figure object at 0x7fc52a6c19b0>)"
      ]
     },
     "metadata": {},
     "output_type": "display_data"
    }
   ],
   "source": [
    "plot(Ts,sigmaes[:,1,1]/100,linestyle=\"-\",marker=\"o\",color=\"c\")\n",
    "#ylim(0,7)\n",
    "grid()"
   ]
  },
  {
   "cell_type": "code",
   "execution_count": 7,
   "metadata": {},
   "outputs": [
    {
     "data": {
      "text/plain": [
       "61-element Array{Float64,1}:\n",
       " 300.0\n",
       " 310.0\n",
       " 320.0\n",
       " 330.0\n",
       " 340.0\n",
       " 350.0\n",
       " 360.0\n",
       " 370.0\n",
       " 380.0\n",
       " 390.0\n",
       " 400.0\n",
       " 410.0\n",
       " 420.0\n",
       "   ⋮  \n",
       " 790.0\n",
       " 800.0\n",
       " 810.0\n",
       " 820.0\n",
       " 830.0\n",
       " 840.0\n",
       " 850.0\n",
       " 860.0\n",
       " 870.0\n",
       " 880.0\n",
       " 890.0\n",
       " 900.0"
      ]
     },
     "execution_count": 7,
     "metadata": {},
     "output_type": "execute_result"
    }
   ],
   "source": [
    "Ts"
   ]
  },
  {
   "cell_type": "code",
   "execution_count": 8,
   "metadata": {},
   "outputs": [
    {
     "data": {
      "image/png": "[encoded data removed]",
      "text/plain": [
       "Figure(PyObject <matplotlib.figure.Figure object at 0x7fc50fb52518>)"
      ]
     },
     "metadata": {},
     "output_type": "display_data"
    }
   ],
   "source": [
    "plot(Ts,kbis[:,1,1],linestyle=\"-\",color=\"c\")\n",
    "#ylim(0,7)\n",
    "grid()"
   ]
  },
  {
   "cell_type": "code",
   "execution_count": 9,
   "metadata": {},
   "outputs": [
    {
     "data": {
      "image/png": "[encoded data removed]",
      "text/plain": [
       "Figure(PyObject <matplotlib.figure.Figure object at 0x7fc52a11ee80>)"
      ]
     },
     "metadata": {},
     "output_type": "display_data"
    }
   ],
   "source": [
    "plot(Ts,seebecks[:,1,1]*1e6,linestyle=\"-\",color=\"c\")\n",
    "#plot(Ts,seebeckes[:,1,1]*1e6,linestyle=\"-\",color=\"y\")\n",
    "#plot(Ts,seebeckhs[:,1,1]*1e6,linestyle=\"-\",color=\"k\")\n",
    "#ylim(-250,-0)\n",
    "grid()"
   ]
  },
  {
   "cell_type": "code",
   "execution_count": 10,
   "metadata": {
    "scrolled": false
   },
   "outputs": [
    {
     "data": {
      "image/png": "[encoded data removed]",
      "text/plain": [
       "Figure(PyObject <matplotlib.figure.Figure object at 0x7fc506aba0b8>)"
      ]
     },
     "metadata": {},
     "output_type": "display_data"
    }
   ],
   "source": [
    "plot(Ts,sigmas[:,1,1]/100,linestyle=\"-\",color=\"c\")\n",
    "#ylim(0,3500)\n",
    "grid()"
   ]
  },
  {
   "cell_type": "code",
   "execution_count": 11,
   "metadata": {},
   "outputs": [],
   "source": [
    "T_EF_Dict=Dict()\n",
    "for (Ti,Tx) in enumerate(Ts)\n",
    "    T_EF_Dict[Tx]=(Efs[Ti])    \n",
    "end\n",
    "T_EF_Dict_Array=Array{Dict{Float64,Float64},2}(undef,length(numofn),length(xs))\n",
    "Dict_temp=Dict()\n",
    "Efsr=Array{Float64,3}(undef,length(Ts),length(numofn),length(xs))\n",
    "for (j,jn) in enumerate(numofn)\n",
    "    for (k,kx) in enumerate(xs) \n",
    "        for (i,iT) in enumerate(Ts)\n",
    "            Efsr[i,j,k]=Efs[i,j,k]-EX3(0.0)\n",
    "            Dict_temp[iT]=Efsr[i,j,k]\n",
    "            T_EF_Dict_Array[j,k]=Dict_temp \n",
    "        end\n",
    "    end\n",
    "end\n",
    "#foreach(i->println(\"$i= \",Ts[i]),1:length(Ts))\n",
    "#Efsr"
   ]
  },
  {
   "cell_type": "code",
   "execution_count": 12,
   "metadata": {},
   "outputs": [
    {
     "data": {
      "text/plain": [
       "1.0"
      ]
     },
     "execution_count": 12,
     "metadata": {},
     "output_type": "execute_result"
    }
   ],
   "source": [
    "#println(\"-1\")\n",
    "#############Lattice Thermal Conductivity Parameters###############\n",
    "\n",
    "function klpar(con::Float64,p::Float64,NP::Float64)\n",
    "    thetaL=52.3e12*hbar/kB # K \n",
    "    thetaT=29.7e12*hbar/kB  # K\n",
    "    vL=(1-con)*7700+con*4900    # m/s\n",
    "    vT=(1-con)*4900+con*3000    # m/s\n",
    "    gammaL=2.5*(1-con)+1.7*con\n",
    "    gammaT=2.5*(1-con)+1.7*con\n",
    "    M=(2*(24.305e-3)+(28.0855e-3*(1-con)+118.71e-3*con))/3/Nav\n",
    "    V=((1-con)*(6.39e-10)^3+con*(6.77e-10)^3)/12\n",
    "    a=V^(1.0/3.0)\n",
    "    ro=M/V\n",
    "    Vdj=(((6.39e-10)^3)/((1-con)*(6.39e-10)^3+con*(6.77e-10)^3))^(1/3)\n",
    "    jL=vL/7700*Vdj\n",
    "    jT=vT/4900*Vdj\n",
    "    thetaLx=thetaL*jL\n",
    "    thetaTx=thetaT*jT\n",
    "    ##########Boundary Scattering###############3\n",
    "    D=11e-9\n",
    "    #p=1.0\n",
    "    ##########Alloy Scattering###################\n",
    "    mbar=(28.0855*(1-con)+118.71*con)\n",
    "    GammaSiSn=(1-con)*((28.0855-mbar)/mbar)^2+con*((118.71-mbar)/mbar)^2\n",
    "    GammaMgSiSn=2*((mbar/(24.305+mbar))^2*GammaSiSn);         \n",
    "    ##########Electron Scattering###################\n",
    "    Eep=5.0*q\n",
    "    xsp=xs[1]\n",
    "    Tp=300.0\n",
    "    mdx1=0.67*me\n",
    "    mdx3=0.38*me\n",
    "    Efx3=0.2589\n",
    "    Efx1=0.2589\n",
    "    ##########Nanoparticle Scattering###################\n",
    "    #NP=0\n",
    "    #alpha=1.0\n",
    "    Rnp=1/2*15.0e-9#\n",
    "    Vnp=4/3*pi*(Rnp)^3\n",
    "    rhonp=NP/100/Vnp\n",
    "    rhoM=3.0\n",
    "    rhoT=3.78\n",
    "    alphaNP=0.2289#1-exp(-1*(rhoT-rhoM)/rhoM);\n",
    "#vartauPH0=[[0.02],Ts[1],gammaL,gammaT,xsp,thetaCLx,thetaCTx,thetaCTx,MSi,MGe,VSi,a,T_EF_Dict,0.0]\n",
    "    Tsindex=1#25\n",
    "    numberofnindex=1\n",
    "    xsindex=1\n",
    "    vartauPH0=[ [0.02],  Ts[1],   gammaL,  gammaT, con,#5\n",
    "        thetaLx, thetaTx, thetaTx, M,   M, #10\n",
    "        V, a, T_EF_Dict_Array, Eep, alphaNP, #15\n",
    "        Rnp, thetaLx, thetaTx, vL, vT, #20\n",
    "        vL, vT, p, NP,Tsindex,#25\n",
    "        numberofnindex,xsindex,p,D,GammaMgSiSn,#30\n",
    "        mdx1,mdx3,Efx1,Efx3,ro,#35,\n",
    "        NP,alphaNP,Rnp,Vnp,rhonp #40\n",
    "        ]  \n",
    "    thetaCLx=thetaCL(vartauPH0[12],vartauPH0[5],vartauPH0[17],vartauPH0[19],vartauPH0[11])\n",
    "    thetaCTx=thetaCT(vartauPH0[12],vartauPH0[5],vartauPH0[18],vartauPH0[19],vartauPH0[11])\n",
    "    #println(\"2\")\n",
    "    tauPHNLf(var)=tauPH_NL(var[3],var[11],var[1],var[2],var[9],var[21])\n",
    "    tauPHNTf(var)=tauPH_NT(var[4],var[11],var[1],var[2],var[9],var[22]) \n",
    "\n",
    "    tauPHULf(var)=tauPH_U(var[3],var[1],var[2],var[9],var[19],var[17])\n",
    "    tauPHUTf(var)=tauPH_U(var[4],var[1],var[2],var[9],var[20],var[18])\n",
    "\n",
    "    tauPHALLLf(var)=tauPH_ALL(var[30],var[11],var[1],var[2],var[19])\n",
    "    tauPHALLTf(var)=tauPH_ALL(var[30],var[11],var[1],var[2],var[20])\n",
    "\n",
    "    tauPHeLfX3(var)=tauPH_e(var[14],var[32],var[35],(var[13][var[26],var[27]])[var[2]],var[1],var[2],var[21])\n",
    "    tauPHeTfX3(var)=tauPH_e(var[14],var[32],var[35],(var[13][var[26],var[27]])[var[2]],var[1],var[2],var[22])\n",
    "\n",
    "    tauPHeLfX1(var)=tauPH_e(var[14],X1effMass(var[2])*me,var[35],(var[13][var[26],var[27]])[var[2]]-Ec0(0.6)\n",
    "        ,var[1],var[2],var[21])\n",
    "    tauPHeTfX1(var)=tauPH_e(var[14],X1effMass(var[2])*me,var[35],(var[13][var[26],var[27]])[var[2]]-Ec0(0.6)\n",
    "        ,var[1],var[2],var[22])\n",
    "\n",
    "    tauPHBLf(var)=tauPH_B(var[19],var[28],var[29])\n",
    "    tauPHBTf(var)=tauPH_B(var[20],var[28],var[29])\n",
    "    #println(\"3\")\n",
    "\n",
    "    tauPHNPLf(var)=tauPH_NP(var[37],var[40],var[38],var[1],var[2],var[19])\n",
    "    tauPHNPTf(var)=tauPH_NP(var[37],var[40],var[38],var[1],var[2],var[20])\n",
    "\n",
    "    tauPHTOTL=tau_phonon_B([tauPHNLf,tauPHULf,tauPHBLf,tauPHALLLf,tauPHeLfX3,tauPHeLfX1,tauPHNPLf],vartauPH0)#,tauPHNPLf,tauPHALLLf,tauPHeLf,tauPH_eLf ,tauPHALLLf ,tauPHBLf,,tauPHULf\n",
    "    tauPHNL=tau_phonon_B([tauPHNLf],vartauPH0)\n",
    "    tauPHRL=tau_phonon_B([tauPHULf,tauPHBLf,tauPHALLLf,tauPHeLfX3,tauPHeLfX1,tauPHNPLf],vartauPH0) #,tauPHNPLf,tauPHALLLf,tauPHeLf,tauPHALLLf,tauPH_eLf] ,tauPHBLf\n",
    "\n",
    "    tauPHTOTTx=tau_phonon_B([tauPHNTf,tauPHUTf,tauPHALLTf,tauPHeTfX3,tauPHeTfX1,tauPHBTf,tauPHNPTf],vartauPH0) #,tauPHNPTf,tauPHALLTf,tauPHeTf,tauPHALLTf,tauPH_eTf ,tauPHBTf\n",
    "    tauPHNTx=tau_phonon_B([tauPHNTf],vartauPH0)\n",
    "    tauPHRTx=tau_phonon_B([tauPHUTf,tauPHALLTf,tauPHeTfX3,tauPHeTfX1,tauPHBTf,tauPHNPTf],vartauPH0) #,tauPHNPTf,tauPHALLTf,tauPHeTf,tauPHALLTf,tauPH_eTf ,tauPHBTf#\n",
    "\n",
    "    tauPHTOTTy=tau_phonon_B([tauPHNTf,tauPHUTf,tauPHBTf,tauPHALLTf,tauPHeTfX3,tauPHeTfX1,tauPHNPTf],vartauPH0) #,tauPHNPTf,tauPHALLTf,tauPHeTf,tauPHALLTf,tauPH_eTf tauPHBTf\n",
    "    tauPHNTy=tau_phonon_B([tauPHNTf],vartauPH0)\n",
    "    tauPHRTy=tau_phonon_B([tauPHUTf,tauPHBTf,tauPHALLTf,tauPHeTfX3,tauPHeTfX1,tauPHNPTf],vartauPH0) #,tauPHNPTf,tauPHALLTf,tauPH_eTf ,tauPHBTf,tauPHALLTf,tauPHeTf\n",
    "    #println(\"4\")\n",
    "    tauPHL=[tauPHTOTL,tauPHNL,tauPHRL]\n",
    "    tauPHTx=[tauPHTOTTx,tauPHNTx,tauPHRTx]\n",
    "    tauPHTy=[tauPHTOTTx,tauPHNTx,tauPHRTx]\n",
    "    return (vartauPH0,tauPHTOTL,tauPHNL,tauPHRL,tauPHTOTTx,tauPHNTx,tauPHRTx,tauPHTOTTy,tauPHNTy,tauPHRTy,tauPHL,tauPHTx,tauPHTy)\n",
    "end\n",
    "xmax=1.0"
   ]
  },
  {
   "cell_type": "code",
   "execution_count": 13,
   "metadata": {},
   "outputs": [],
   "source": [
    "(vartauPH0,tauPHTOTL,tauPHNL,tauPHRL,tauPHTOTTx,tauPHNTx,tauPHRTx,tauPHTOTTy,tauPHNTy,tauPHRTy,tauPHL,tauPHTx,tauPHTy)=klpar(0.6,0.65,0.0)\n",
    "klsM=Array{Float64}(undef,length(Ts),length(numofn),length(xs))\n",
    "for (iT,iTx) in enumerate(Ts)    \n",
    "   (IL1,ITx1,IL2,ITx2,IL3,ITx3,kL,kTx,kTy,klsM[iT,1,1])= klt(tauPHTOTL,tauPHNL,tauPHRL,tauPHTOTTx,tauPHNTx,tauPHRTx,tauPHTOTTy,tauPHNTy,\n",
    "        tauPHRTy,iTx,[vartauPH0[21],vartauPH0[22],vartauPH0[22]])\n",
    "    #println(\"T=\", iTx, \" kl= \" ,round(klsM[iT,1,1]*10000)/10000)\n",
    "   # println(\"IL1= \",IL1,\" IL2= \",IL2,\" IL3= \",IL3,\" ITx1= \",ITx1,\" ITx2= \",ITx2,\" ITx3= \",ITx3,\" kL/3=\",kL,    \" kTx/3=\",kTx,\" kTy/3=\",kTy)\n",
    "end"
   ]
  },
  {
   "cell_type": "code",
   "execution_count": 14,
   "metadata": {},
   "outputs": [
    {
     "name": "stdout",
     "output_type": "stream",
     "text": [
      "0.8541996313970371\n",
      "0.8374640461561377\n",
      "0.821371907547754\n",
      "0.8059128100213279\n",
      "0.7910738093309151\n",
      "0.7768399471162409\n",
      "0.7631946802407178\n",
      "0.7501202398913467\n",
      "0.7375979371538636\n",
      "0.7256084261362461\n",
      "0.7141319320001149\n",
      "0.7031484489043849\n",
      "0.6926379114389402\n",
      "0.6825803423125767\n",
      "0.6729559786303357\n",
      "0.6637453788818855\n",
      "0.6549295126316997\n",
      "0.6464898347422835\n",
      "0.6384083456930115\n",
      "0.6306676391674566\n",
      "0.6232509376737835\n",
      "0.6161421167397323\n",
      "0.6093257183636288\n",
      "0.6027869548783306\n",
      "0.5965117049332389\n",
      "0.5904865035504159\n",
      "0.5846985279263865\n",
      "0.5791355807691336\n",
      "0.5737860716591083\n",
      "0.5686389971997453\n",
      "0.5636839202436448\n",
      "0.5589109484285902\n",
      "0.5543107122277412\n",
      "0.5498743427122487\n",
      "0.5455934492199038\n",
      "0.5414600971122682\n",
      "0.537466785784842\n",
      "0.5336064270725059\n",
      "0.5298723241684787\n",
      "0.5262581511513981\n",
      "0.5227579331931806\n",
      "0.5193660275007114\n",
      "0.5160771050274066\n",
      "0.5128861329762888\n",
      "0.5097883581041728\n",
      "0.506779290826756\n",
      "0.5038546901164375\n",
      "0.5010105491784317\n",
      "0.4982430818858321\n",
      "0.4955487099505938\n",
      "0.49292405080468277\n",
      "0.49036590616374326\n",
      "0.4878712512444181\n",
      "0.48543722460578415\n",
      "0.4830611185851419\n",
      "0.4807403702985318\n",
      "0.4784725531767518\n",
      "0.47625536900830046\n",
      "0.4740866404614435\n",
      "0.47196430405855133\n",
      "0.4698864035768339\n"
     ]
    }
   ],
   "source": [
    "foreach(x->println(klsM[x,1,1]),1:length(Ts))"
   ]
  },
  {
   "cell_type": "code",
   "execution_count": 15,
   "metadata": {},
   "outputs": [
    {
     "data": {
      "image/png": "[encoded data removed]",
      "text/plain": [
       "Figure(PyObject <matplotlib.figure.Figure object at 0x7fc52a184ef0>)"
      ]
     },
     "metadata": {},
     "output_type": "display_data"
    }
   ],
   "source": [
    "plot(Ts,klsM[:,1,1],linestyle=\"-\",color=\"b\")\n",
    "grid()"
   ]
  },
  {
   "cell_type": "code",
   "execution_count": 16,
   "metadata": {},
   "outputs": [],
   "source": [
    "(vartauPH0,tauPHTOTL,tauPHNL,tauPHRL,tauPHTOTTx,tauPHNTx,tauPHRTx,tauPHTOTTy,tauPHNTy,tauPHRTy,tauPHL,tauPHTx,tauPHTy)=klpar(0.0,0.65,0.0)\n",
    "kls0=Array{Float64}(undef,length(Ts),length(numofn),length(xs))\n",
    "for (iT,iTx) in enumerate(Ts)    \n",
    "   (IL1,ITx1,IL2,ITx2,IL3,ITx3,kL,kTx,kTy,kls0[iT,1,1])= klt(tauPHTOTL,tauPHNL,tauPHRL,tauPHTOTTx,tauPHNTx,tauPHRTx,tauPHTOTTy,tauPHNTy,tauPHRTy,iTx,[vartauPH0[21],vartauPH0[22],vartauPH0[22]])\n",
    "    #println(\"T=\", iTx, \" kl= \" ,round(kls0[iT,1,1]*10000)/10000)\n",
    "    #println(\"IL1= \",IL1,\" IL2= \",IL2,\" IL3= \",IL3,\" ITx1= \",ITx1,\" ITx2= \",ITx2,\" ITx3= \",ITx3,\" kL/3=\",kL,    \" kTx/3=\",kTx,\" kTy/3=\",kTy)\n",
    "end"
   ]
  },
  {
   "cell_type": "code",
   "execution_count": 17,
   "metadata": {},
   "outputs": [
    {
     "name": "stdout",
     "output_type": "stream",
     "text": [
      "5.761504531260077\n",
      "5.615937771086632\n",
      "5.475997540694537\n",
      "5.341515883617077\n",
      "5.212306550692604\n",
      "5.088172216016999\n",
      "4.968909895864875\n",
      "4.854314989209877\n",
      "4.744184260270227\n",
      "4.638318008983997\n",
      "4.536521618608686\n",
      "4.43860662637747\n",
      "4.344391430082513\n",
      "4.253701718166425\n",
      "4.16637069155054\n",
      "4.082239130583075\n",
      "4.001155348969257\n",
      "3.922975067306364\n",
      "3.847561230982635\n",
      "3.7747837901050603\n",
      "3.7045194527814043\n",
      "3.636651418177092\n",
      "3.571069093213474\n",
      "3.507667796782132\n",
      "3.446348456925968\n",
      "3.3870173076412455\n",
      "3.329585590983267\n",
      "3.273969271598945\n",
      "3.2200887643066136\n",
      "3.1678686769693063\n",
      "3.1172375683385973\n",
      "3.0681277201900614\n",
      "3.0204749228848775\n",
      "2.974218273505134\n",
      "2.9292999857931146\n",
      "2.885665211212596\n",
      "2.843261870520376\n",
      "2.8020404952857922\n",
      "2.7619540788298362\n",
      "2.72295793607941\n",
      "2.6850095718508022\n",
      "2.6480685570929956\n",
      "2.612096412637506\n",
      "2.5770565000181196\n",
      "2.5429139189412884\n",
      "2.5096354110061836\n",
      "2.477189269292155\n",
      "2.4455452534504887\n",
      "2.4146745099563693\n",
      "2.3845494971960925\n",
      "2.355143915083056\n",
      "2.3264326389142327\n",
      "2.298391657196272\n",
      "2.2709980131870986\n",
      "2.2442297499149624\n",
      "2.2180658584519914\n",
      "2.1924862292337672\n",
      "2.167471606229971\n",
      "2.143003543783997\n",
      "2.1190643659514232\n",
      "2.0956371281784736\n"
     ]
    }
   ],
   "source": [
    "foreach(x->println(kls0[x,1,1]),1:length(Ts))"
   ]
  },
  {
   "cell_type": "code",
   "execution_count": 18,
   "metadata": {},
   "outputs": [],
   "source": [
    "(vartauPH0,tauPHTOTL,tauPHNL,tauPHRL,tauPHTOTTx,tauPHNTx,tauPHRTx,tauPHTOTTy,tauPHNTy,tauPHRTy,tauPHL,tauPHTx,tauPHTy)=klpar(1.0,0.5,0.0)\n",
    "kls1=Array{Float64}(undef,length(Ts),length(numofn),length(xs))\n",
    "for (iT,iTx) in enumerate(Ts)    \n",
    "   (IL1,ITx1,IL2,ITx2,IL3,ITx3,kL,kTx,kTy,kls1[iT,1,1])= klt(tauPHTOTL,tauPHNL,tauPHRL,tauPHTOTTx,tauPHNTx,tauPHRTx,tauPHTOTTy,tauPHNTy,tauPHRTy,iTx,[vartauPH0[21],vartauPH0[22],vartauPH0[22]])\n",
    "   # println(\"T=\", iTx, \" kl= \" ,round(kls1[iT,1,1]*10000)/10000)\n",
    "   # println(\"IL1= \",IL1,\" IL2= \",IL2,\" IL3= \",IL3,\" ITx1= \",ITx1,\" ITx2= \",ITx2,\" ITx3= \",ITx3,\" kL/3=\",kL,    \" kTx/3=\",kTx,\" kTy/3=\",kTy)\n",
    "end"
   ]
  },
  {
   "cell_type": "code",
   "execution_count": 19,
   "metadata": {},
   "outputs": [
    {
     "name": "stdout",
     "output_type": "stream",
     "text": [
      "3.3263610068926615\n",
      "3.2742150036302102\n",
      "3.2233958962300684\n",
      "3.1738877571907484\n",
      "3.1256688285949266\n",
      "3.0787130706952044\n",
      "3.0329913712827\n",
      "2.9884724905933164\n",
      "2.9451237991304553\n",
      "2.902911852694217\n",
      "2.861802838994931\n",
      "2.8217629226944414\n",
      "2.782758509986239\n",
      "2.7447564494784036\n",
      "2.7077241828725644\n",
      "2.6716298564880265\n",
      "2.6364424028211526\n",
      "2.602131599779844\n",
      "2.568668113678792\n",
      "2.5360235302715797\n",
      "2.5041703760382052\n",
      "2.4730821300628683\n",
      "2.442733225812419\n",
      "2.4130990423887817\n",
      "2.3841558861213006\n",
      "2.3558809646871306\n",
      "2.3282523560772628\n",
      "2.3012489763792785\n",
      "2.2748505468353866\n",
      "2.2490375619106815\n",
      "2.223791258630228\n",
      "2.1990935872231003\n",
      "2.174927182964107\n",
      "2.1512753390779085\n",
      "2.128121980595727\n",
      "2.1054516390923985\n",
      "2.0832494282634166\n",
      "2.0615010203233157\n",
      "2.0401926232186636\n",
      "2.019310958653887\n",
      "1.9988432409284798\n",
      "1.9787771565819685\n",
      "1.9591008448396094\n",
      "1.9398028788480548\n",
      "1.9208722476868028\n",
      "1.9022983391379995\n",
      "1.8840709231947514\n",
      "1.8661801362859967\n",
      "1.8486164661945157\n",
      "1.8313707376436745\n",
      "1.8144340985277898\n",
      "1.7977980067607493\n",
      "1.7814542177175199\n",
      "1.7653947722433185\n",
      "1.7496119852056486\n",
      "1.7340984345649444\n",
      "1.7188469509400985\n",
      "1.703850607645977\n",
      "1.6891027111806884\n",
      "1.6745967921412392\n",
      "1.6603265965469909\n"
     ]
    }
   ],
   "source": [
    "foreach(x->println(kls1[x,1,1]),1:length(Ts))"
   ]
  },
  {
   "cell_type": "code",
   "execution_count": 20,
   "metadata": {},
   "outputs": [
    {
     "data": {
      "image/png": "[encoded data removed]",
      "text/plain": [
       "Figure(PyObject <matplotlib.figure.Figure object at 0x7fc506a76b00>)"
      ]
     },
     "metadata": {},
     "output_type": "display_data"
    }
   ],
   "source": [
    "plot(Ts,klsM[:,1,1],linestyle=\"-\",color=\"b\")\n",
    "plot(Ts,kls0[:,1,1],linestyle=\"-\",color=\"r\")\n",
    "\n",
    "plot(Ts,kls1[:,1,1],linestyle=\"-\",color=\"k\")\n",
    "grid()"
   ]
  },
  {
   "cell_type": "code",
   "execution_count": 21,
   "metadata": {},
   "outputs": [
    {
     "data": {
      "text/plain": [
       "6.77e-10"
      ]
     },
     "execution_count": 21,
     "metadata": {},
     "output_type": "execute_result"
    }
   ],
   "source": [
    "yaa=0.6\n",
    "aMgSi=6.39e-10\n",
    "aMgSn=6.77e-10"
   ]
  },
  {
   "cell_type": "code",
   "execution_count": 22,
   "metadata": {},
   "outputs": [],
   "source": [
    "ks=Array{Float64}(undef,length(Ts),length(numofn),length(xs))\n",
    "klsT=Array{Float64}(undef,length(Ts),length(numofn),length(xs))\n",
    "f=0.55\n",
    "for (iT,iTx) in enumerate(Ts)  \n",
    "    klsT[iT,1,1]=(1-f)*klsM[iT,1,1]+f*(kls1[iT,1,1]*(1-yaa)aMgSn^3/((1-yaa)*aMgSn^3+yaa*aMgSi^3)+kls0[iT,1,1]*(yaa)aMgSi^3/((1-yaa)*aMgSn^3+yaa*aMgSi^3))\n",
    "       ks[iT,1,1]=klsT[iT,1,1]+kes[iT,1,1]+kbis[iT,1,1,] \n",
    "    #println(\"T=\", iTx, \" kl= \" ,round(klsT[iT,1,1]*10000)/10000)\n",
    "    #println(\"IL1= \",IL1,\" IL2= \",IL2,\" IL3= \",IL3,\" ITx1= \",ITx1,\" ITx2= \",ITx2,\" ITx3= \",ITx3,\" kL/3=\",kL,    \" kTx/3=\",kTx,\" kTy/3=\",kTy)\n",
    "end"
   ]
  },
  {
   "cell_type": "code",
   "execution_count": 23,
   "metadata": {},
   "outputs": [
    {
     "data": {
      "text/plain": [
       "5-element Array{Float64,1}:\n",
       " 7.16256157635468\n",
       " 5.26108374384236\n",
       " 4.14778325123153\n",
       " 3.38916256157635\n",
       " 2.89655172413793"
      ]
     },
     "execution_count": 23,
     "metadata": {},
     "output_type": "execute_result"
    }
   ],
   "source": [
    "MgSn_KL_T=[303.381209787804   ,404.509621648526   ,508.944674606021   ,609.64854815216    ,715.169193157614]\n",
    "MgSn_KL_K=[ 7.16256157635468, 5.26108374384236, 4.14778325123153, 3.38916256157635, 2.89655172413793]"
   ]
  },
  {
   "cell_type": "code",
   "execution_count": 24,
   "metadata": {},
   "outputs": [
    {
     "data": {
      "image/png": "[encoded data removed]",
      "text/plain": [
       "Figure(PyObject <matplotlib.figure.Figure object at 0x7fc506985518>)"
      ]
     },
     "metadata": {},
     "output_type": "display_data"
    }
   ],
   "source": [
    "figure()\n",
    "#semilogy(Ts,kls[:,1,1],linestyle=\"-\",color=\"c\")\n",
    "#plot(Ts,kls0[:,1,1],linestyle=\"-\",color=\"b\")\n",
    "#plot(Ts,kls1[:,1,1],linestyle=\"-\",color=\"c\")\n",
    "#plot(Ts,klsM[:,1,1],linestyle=\"-\",color=\"k\")\n",
    "plot(Ts,klsT[:,1,1]+kes[:,1,1]+kbis[:,1,1],linestyle=\"-\",color=\"r\")\n",
    "#ylim(0,4.5)\n",
    "grid(true)\n",
    "#kes,kees,kehs,kbis"
   ]
  },
  {
   "cell_type": "code",
   "execution_count": 25,
   "metadata": {},
   "outputs": [
    {
     "data": {
      "text/plain": [
       "9-element Array{Float64,1}:\n",
       "  1.6\n",
       "  1.7\n",
       "  3.8\n",
       "  7.8\n",
       " 12.2\n",
       " 25.6\n",
       " 40.8\n",
       " 68.0\n",
       " 62.0"
      ]
     },
     "execution_count": 25,
     "metadata": {},
     "output_type": "execute_result"
    }
   ],
   "source": [
    "MgSiSn4hECE=[10,12.4,20.5,35.8,43.2,69.6,82.8,100,110]\n",
    "MgSiSn2hECE=[3,4.4,8.5,15.8,22.2,55.6,50.8,68,80]\n",
    "MgSiSn1hECE=[2,4.2,3.7,11.8,22.2,25.6,30.8,48,64]\n",
    "MgSiSn0hECE=[1.6,1.7,3.8,7.8,12.2,25.6,40.8,68,62]"
   ]
  },
  {
   "cell_type": "code",
   "execution_count": 26,
   "metadata": {},
   "outputs": [
    {
     "data": {
      "text/plain": [
       "9-element Array{Float64,1}:\n",
       " 2.1168755981\n",
       " 2.0268355263\n",
       " 1.9150855263\n",
       " 1.8140986842\n",
       " 1.7209888158\n",
       " 1.8544934211\n",
       " 1.9231644737\n",
       " 2.0605065789\n",
       " 2.1816907895"
      ]
     },
     "execution_count": 26,
     "metadata": {},
     "output_type": "execute_result"
    }
   ],
   "source": [
    "MgSiSn4hKCT=[27.204980536447565,125.22263104569937,250.3986028902043, 300.61256865568174,350.4225990508186, 400.31661600810537,\n",
    "450.60323681544304,500.88852450274595,550.37460672959,]\n",
    "MgSiSn4hKCK=[ 2.8789473684210525, 2.7375, 2.609210526315789, 2.5121710526315786, 2.4184210526315786, 2.531907894736842, 2.614144736842105\n",
    ", 2.6930921052631573, 2.7999999999999994]\n",
    "MgSiSn2hKCT=[27.174994546327184, 125.66321921825845, 250.56521889830958, 300.8030294412153, 350.04276302458277,400.3366068836394, \n",
    "450.6409643790327, 500.95101524496823,550.7594666065552]\n",
    "MgSiSn2hKCK=[2.608956937799043, 2.4846513157894736, 2.4523355263157893, 2.3861330409356722, 2.3131756578947367\n",
    ", 2.385235380116959, 2.4832374999999995, 2.595288011695906, 2.697641746411483]\n",
    "MgSiSn05hKCT=[26.1867119039,124.6184700145,249.7991072943,300.1809590466,349.8324946796,399.3641637338,450.1016014407,\n",
    "450.7811561579,549.7232004091,500.4092678505]\n",
    "MgSiSn05hKCK=[2.4217028509,2.3627326555,2.2459551435,2.1025076754,2.0223385167,2.2370652412,2.3803594498,2.302875,\n",
    "2.5966549043,2.5105263158]\n",
    "MgSiSn2h2TiO2KCT=[450.7811561579,26.5677491601,125.429931211,250.6172345758,300.4185996907,350.6278995361,\n",
    "400.1639737642,500.3759398496,550.2639577668]\n",
    "MgSiSn2h2TiO2KCK=[2.302875,2.3065789474,2.2490131579,2.1486842105,2.0335526316,1.925,2.1552631579,2.4282894737,\n",
    "2.5269736842]\n",
    "MgSiSn2h5TiO2KCT=[27.3549565403,124.5907321495,250.1753052845,299.9806697595,350.1926358449,400.1339785634,\n",
    "450.0339945609,500.3299472084,550.6152348958]\n",
    "MgSiSn2h5TiO2KCK=[2.2490131579,2.1782894737,2.0582236842,1.9529605263,1.8509868421,2.08125,2.2095394737,2.3148026316,\n",
    "2.39375]\n",
    "MgSiSn0hKCT=[26.9755694846,125.1437396683,250.3474884019,300.0735322348,349.8027683571,400.6191835973,449.916314723,\n",
    "500.2366154749,550.052698235]\n",
    "MgSiSn0hKCK=[2.1168755981,2.0268355263,1.9150855263,1.8140986842,1.7209888158,1.8544934211,1.9231644737,2.0605065789,\n",
    "2.1816907895]"
   ]
  },
  {
   "cell_type": "code",
   "execution_count": 27,
   "metadata": {},
   "outputs": [
    {
     "data": {
      "image/png": "[encoded data removed]",
      "text/plain": [
       "Figure(PyObject <matplotlib.figure.Figure object at 0x7fc52a1c3e48>)"
      ]
     },
     "metadata": {},
     "output_type": "display_data"
    },
    {
     "data": {
      "image/png": "[encoded data removed]",
      "text/plain": [
       "Figure(PyObject <matplotlib.figure.Figure object at 0x7fc50693cb00>)"
      ]
     },
     "metadata": {},
     "output_type": "display_data"
    }
   ],
   "source": [
    "\n",
    "figure()\n",
    "plot(Ts,sigmas[:,1,1]/100,linestyle=\"-\",color=\"b\")\n",
    "#plot(Ts,sigmas[:,2,2]/100/6^(2/3),linestyle=\"-\",color=\"r\")\n",
    "#plot(Ts,sigmas[:,3,3]/100/6^(2/3),linestyle=\"-\",color=\"k\")\n",
    "#plot(Ts,sigmas[:,4,4]/100/6^(2/3),linestyle=\"-\",color=\"g\")\n",
    "plot(MgSiSn4hKCT .+273,MgSiSn4hECE,linestyle=\"None\",marker=\".\",markersize=10,color=\"r\")\n",
    "#plot(MgSiSn4hKCT .+273,MgSiSn2hECE,linestyle=\"None\",marker=\".\",markersize=10,color=\"k\")\n",
    "#plot(MgSiSn4hKCT .+273,MgSiSn1hECE,linestyle=\"None\",marker=\".\",markersize=10,color=\"b\")\n",
    "#plot(MgSiSn4hKCT .+273,MgSiSn0hECE,linestyle=\"None\",marker=\".\",markersize=10,color=\"g\")\n",
    "#plot(SiGe_Suin_EC_T,SiGe_Suin_Green_EC_E/100,linestyle=\"None\",marker=\"x\",markersize=2,color=\"g\")\n",
    "#plot(SiGe_Suin_EC_T,SiGe_Suin_Blue_EC_E/100,linestyle=\"None\",marker=\"o\",markersize=2,color=\"b\")\n",
    "#plot(SiGe_Suin_EC_T,SiGe_Suin_Pink_EC_E/100,linestyle=\"None\",marker=\"o\",markersize=2,color=\"r\")\n",
    "#plot(SiGe_Suin_EC_T,SiGe_Suin_Black_EC_E/100,linestyle=\"None\",marker=\"o\",markersize=2,color=\"k\")\n",
    "grid()\n",
    "\n",
    "figure()\n",
    "plot(Ts,-seebecks[:,1,1]*1e6,linestyle=\"-\",color=\"b\")\n",
    "#plot(Ts,-seebecks[:,2,2]*1e6,linestyle=\"-\",color=\"r\")\n",
    "#plot(Ts,-seebecks[:,3,3]*1e6,linestyle=\"-\",color=\"k\")\n",
    "#plot(Ts,-seebecks[:,4,4]*1e6,linestyle=\"-\",color=\"g\")\n",
    "#plot(Ts,-seebecks[:,2,2]*1e6,linestyle=\"-\",color=\"b\")\n",
    "#plot(SiGe_Vin_162_Bulk_SC_T,SiGe_Vin_162_Bulk_SC_S,linestyle=\"None\",marker=\".\",markersize=10,color=\"r\")\n",
    "#plot(SiGe_Suin_EC_T,-SiGe_Suin_Green_SC_S,linestyle=\"None\",marker=\"x\",markersize=2,color=\"g\")\n",
    "#plot(SiGe_Suin_EC_T,-SiGe_Suin_Blue_SC_S,linestyle=\"None\",marker=\"x\",markersize=2,color=\"b\")\n",
    "#plot(SiGe_Suin_EC_T,-SiGe_Suin_Pink_SC_S,linestyle=\"None\",marker=\"x\",markersize=2,color=\"r\")\n",
    "#plot(SiGe_Suin_EC_T,-SiGe_Suin_Black_SC_S,linestyle=\"None\",marker=\"x\",markersize=2,color=\"k\")\n",
    "grid()"
   ]
  },
  {
   "cell_type": "code",
   "execution_count": 28,
   "metadata": {},
   "outputs": [
    {
     "data": {
      "image/png": "[encoded data removed]",
      "text/plain": [
       "Figure(PyObject <matplotlib.figure.Figure object at 0x7fc506a24fd0>)"
      ]
     },
     "metadata": {},
     "output_type": "display_data"
    },
    {
     "name": "stderr",
     "output_type": "stream",
     "text": [
      "No handles with labels found to put in legend.\n"
     ]
    }
   ],
   "source": [
    "figure()\n",
    "title(\"k\")\n",
    "plot(Ts,klsT[:,1,1]+kes[:,1,1]+kbis[:,1,1],linestyle=\"-\",color=\"r\")\n",
    "#plot(Ts,klsT[:,1,1]+kes[:,1,1]+kbis[:,1,1],linestyle=\"-\",color=\"r\")\n",
    "#plot(Ts,klsT[:,1,1]+kes[:,1,1]+kbis[:,1,1],linestyle=\"-\",color=\"r\")\n",
    "#plot(Ts,klsT[:,1,1]+kes[:,1,1]+kbis[:,1,1],linestyle=\"-\",color=\"r\")\n",
    "plot(MgSiSn4hKCT .+273,MgSiSn4hKCK,linestyle=\"None\",marker=\"o\",markersize=7,color=\"k\")\n",
    "#plot(MgSiSn2hKCT .+273,MgSiSn2hKCK,linestyle=\"None\",marker=\"^\",markersize=7,color=\"b\")\n",
    "#plot(MgSiSn05hKCT .+273,MgSiSn05hKCK,linestyle=\"None\",marker=\"D\",markersize=7,color=\"g\")\n",
    "#plot(MgSiSn2h2TiO2KCT  .+273,MgSiSn2h2TiO2KCK,linestyle=\"None\",marker=\"8\",markersize=7,color=\"tab:pink\")\n",
    "#plot(MgSiSn2h5TiO2KCT .+273,MgSiSn2h5TiO2KCK,linestyle=\"None\",marker=\"*\",markersize=7,color=\"tab:purple\")\n",
    "#plot(MgSiSn0hKCT .+273,MgSiSn0hKCK,linestyle=\"None\",marker=\"s\",markersize=7,color=\"r\",label=\"4 h\")\n",
    "#plot(SiGe_SA_162_Bulk_KC_T,SiGe_SA_162_Bulk_KC_KL,linestyle=\"None\",marker=\"o\",markersize=7,color=\"b\")\n",
    "#plot(SiGe_SA_162_Bulk_KC_T2,SiGe_SA_162_Bulk_KC_K2,linestyle=\"None\",marker=\"o\",markersize=7,color=\"g\")\n",
    "legend(loc=\"upper left\")\n",
    "#ylim(1.5,5.0)\n",
    "grid()"
   ]
  },
  {
   "cell_type": "code",
   "execution_count": 29,
   "metadata": {
    "scrolled": false
   },
   "outputs": [
    {
     "data": {
      "text/plain": [
       "61-element Array{Float64,1}:\n",
       " 300.0\n",
       " 310.0\n",
       " 320.0\n",
       " 330.0\n",
       " 340.0\n",
       " 350.0\n",
       " 360.0\n",
       " 370.0\n",
       " 380.0\n",
       " 390.0\n",
       " 400.0\n",
       " 410.0\n",
       " 420.0\n",
       "   ⋮  \n",
       " 790.0\n",
       " 800.0\n",
       " 810.0\n",
       " 820.0\n",
       " 830.0\n",
       " 840.0\n",
       " 850.0\n",
       " 860.0\n",
       " 870.0\n",
       " 880.0\n",
       " 890.0\n",
       " 900.0"
      ]
     },
     "execution_count": 29,
     "metadata": {},
     "output_type": "execute_result"
    }
   ],
   "source": [
    "Ts"
   ]
  },
  {
   "cell_type": "code",
   "execution_count": 30,
   "metadata": {},
   "outputs": [
    {
     "name": "stdout",
     "output_type": "stream",
     "text": [
      "3.0058837020758618\n",
      "2.9408497651636902\n",
      "2.8781282265092796\n",
      "2.817679169658765\n",
      "2.7594620890487573\n",
      "2.703442839892589\n",
      "2.649601361321369\n",
      "2.5979406335597344\n",
      "2.5484972650073967\n",
      "2.5013539797722206\n",
      "2.456654036614696\n",
      "2.4146171778832177\n",
      "2.3755627094791096\n",
      "2.339907357162177\n",
      "2.308186778692177\n",
      "2.281054056443078\n",
      "2.2592575030833144\n",
      "2.243599435806749\n",
      "2.2348709969343363\n",
      "2.233770949754147\n",
      "2.2408259584238723\n",
      "2.2563353051238346\n",
      "2.280358257398763\n",
      "2.31274746827969\n",
      "2.35321484750149\n",
      "2.401407142478523\n",
      "2.4569702688350907\n",
      "2.519592776086369\n",
      "2.5890264585173686\n",
      "2.665089835046869\n",
      "2.7476612020806086\n",
      "2.837807712945163\n",
      "2.9338516104767915\n",
      "3.0360934029660838\n",
      "3.144625357936651\n",
      "3.259485717215693\n",
      "3.380700763933902\n",
      "3.5082905782052825\n",
      "3.642269503541678\n",
      "3.7826456803221453\n",
      "3.9294205710754224\n",
      "4.082588673102441\n",
      "4.242137427588018\n",
      "4.408047288521038\n",
      "4.58029190944084\n",
      "4.7588384119992195\n",
      "4.943647708331515\n",
      "5.134674856456535\n",
      "5.331869433693647\n",
      "5.535175917445152\n",
      "5.745970713287813\n",
      "5.961847862528422\n",
      "6.183432333231276\n",
      "6.410756690690332\n",
      "6.643785297370515\n",
      "6.882460374532641\n",
      "7.126713328686076\n",
      "7.376469018499073\n",
      "7.631647809505013\n",
      "7.892166750630932\n",
      "8.157940342025336\n"
     ]
    }
   ],
   "source": [
    "foreach(x->println(ks[x,1,1]),1:length(Ts))"
   ]
  },
  {
   "cell_type": "code",
   "execution_count": 36,
   "metadata": {},
   "outputs": [
    {
     "name": "stdout",
     "output_type": "stream",
     "text": [
      "75.37885902747844\n",
      "72.65914018490781\n",
      "70.09278427131149\n",
      "67.66818910126106\n",
      "65.37536501039142\n",
      "63.205953306434324\n",
      "61.15333011982882\n",
      "59.21280872844463\n",
      "57.38195316739101\n",
      "55.66101361577651\n",
      "54.05348790773298\n",
      "52.56680096959856\n",
      "51.22002812922521\n",
      "50.02604974622728\n",
      "49.00711386198891\n",
      "48.19465053493193\n",
      "47.62588676386491\n",
      "47.34349953928351\n",
      "47.393887396950575\n",
      "47.824505736571545\n",
      "48.68065878317804\n",
      "50.002384663900806\n",
      "51.8221374006124\n",
      "54.163747645072455\n",
      "57.04271752413442\n",
      "60.46751664754411\n",
      "64.4414310502279\n",
      "68.9642966985932\n",
      "74.03402347910742\n",
      "79.6476897822894\n",
      "85.80224419230348\n",
      "92.70861674934233\n",
      "100.049793158827\n",
      "107.88824954261501\n",
      "116.24102075801994\n",
      "125.1129312216576\n",
      "134.50586106751916\n",
      "144.42057380633767\n",
      "154.85725632354624\n",
      "165.81569955464573\n",
      "177.2953559024381\n",
      "189.29535103173265\n",
      "201.8144796162577\n",
      "214.8511972052361\n",
      "228.40361328964377\n",
      "242.46948753801757\n",
      "257.0462297539123\n",
      "272.1309034593723\n",
      "287.7202327291632\n",
      "303.8106118001706\n",
      "320.63752356187484\n",
      "337.80611139192166\n",
      "355.42821307889903\n",
      "373.51643645770645\n",
      "392.07229945291357\n",
      "411.0938930012874\n",
      "430.5777354682261\n",
      "450.51945005417605\n",
      "470.91407540752937\n",
      "491.7562321086678\n",
      "513.0402232265493\n"
     ]
    }
   ],
   "source": [
    "foreach(x->println(sigmas[x,1,1]/100),1:length(Ts))"
   ]
  },
  {
   "cell_type": "code",
   "execution_count": 32,
   "metadata": {},
   "outputs": [
    {
     "name": "stdout",
     "output_type": "stream",
     "text": [
      "385.6257868627584\n",
      "391.60158658160384\n",
      "397.3739864626432\n",
      "402.94691755417534\n",
      "408.3213062416354\n",
      "413.49332849687477\n",
      "418.4520018720867\n",
      "423.175917285803\n",
      "427.62891212776094\n",
      "431.75452808914\n",
      "435.4692211417933\n",
      "438.6545595857908\n",
      "441.13291514017567\n",
      "442.7032207101503\n",
      "443.1053736364611\n",
      "442.0258999287331\n",
      "439.1236262196643\n",
      "434.0631681087381\n",
      "426.5660475054634\n",
      "416.47110632674656\n",
      "403.7882928975629\n",
      "388.7260162409372\n",
      "371.67801526841635\n",
      "353.1705012254953\n",
      "333.78602244662085\n",
      "314.0874971054907\n",
      "294.5615551142619\n",
      "275.5882794285631\n",
      "257.4354840646544\n",
      "240.26944878758079\n",
      "224.17381312551126\n",
      "209.07320677676913\n",
      "195.10968016982739\n",
      "182.19004022111892\n",
      "170.23642160930964\n",
      "159.1715968525823\n",
      "148.91882066137265\n",
      "139.40406765792054\n",
      "130.55767475696328\n",
      "122.3152583727617\n",
      "114.61808107740832\n",
      "107.41304871821889\n",
      "100.65247859325089\n",
      "94.29373831312961\n",
      "88.29882244831443\n",
      "82.63391032305684\n",
      "77.26893174640671\n",
      "72.17715624066543\n",
      "67.33481391344986\n",
      "62.72075135320857\n",
      "58.29442394036604\n",
      "54.07564369982632\n",
      "50.03815295986116\n",
      "46.166630470286584\n",
      "42.448264663909306\n",
      "38.87182256450682\n",
      "35.42731124651376\n",
      "32.10577813511407\n",
      "28.899166322494974\n",
      "25.800199735137355\n",
      "22.80228796587278\n"
     ]
    }
   ],
   "source": [
    "foreach(x->println(-seebecks[x,1,1]*1e6),1:length(Ts))"
   ]
  },
  {
   "cell_type": "code",
   "execution_count": 37,
   "metadata": {},
   "outputs": [
    {
     "name": "stdout",
     "output_type": "stream",
     "text": [
      "0.044923551425272386\n",
      "0.04474093227702497\n",
      "0.04451465781281572\n",
      "0.04425164474172292\n",
      "0.043958288530758206\n",
      "0.04364068114867942\n",
      "0.04330489739341172\n",
      "0.04295736826406366\n",
      "0.04260536280057751\n",
      "0.042257600693716625\n",
      "0.04192501509625954\n",
      "0.04162167571749398\n",
      "0.04137168097506224\n",
      "0.04119513168250333\n",
      "0.04112108063439515\n",
      "0.04118838521602122\n",
      "0.04144355246571144\n",
      "0.04194102203695514\n",
      "0.04274208849250206\n",
      "0.04391269892509635\n",
      "0.04552037832799394\n",
      "0.047630844462326696\n",
      "0.050305049381902806\n",
      "0.05359727103589251\n",
      "0.05755450497897385\n",
      "0.06221699262879202\n",
      "0.06761953161344361\n",
      "0.07379290523932328\n",
      "0.08076529213913003\n",
      "0.08856337070241244\n",
      "0.09721309573166653\n",
      "0.10704613342854868\n",
      "0.11765033044082662\n",
      "0.12913682964419382\n",
      "0.14155606566200452\n",
      "0.15494160846549832\n",
      "0.1693228921840526\n",
      "0.18472773209344595\n",
      "0.20118308073124458\n",
      "0.21871528803391593\n",
      "0.23735018628458693\n",
      "0.25711310604433457\n",
      "0.2780288643546789\n",
      "0.30012174293834293\n",
      "0.3234154644176057\n",
      "0.3479331701993651\n",
      "0.3736974015912271\n",
      "0.4007300846833315\n",
      "0.4290525190207888\n",
      "0.4586853698451041\n",
      "0.49013738937017415\n",
      "0.5226382945899206\n",
      "0.5564392294512861\n",
      "0.5915924256285443\n",
      "0.6281280505936633\n",
      "0.666069419286063\n",
      "0.7054366213856946\n",
      "0.7462478185906938\n",
      "0.7885198215170224\n",
      "0.8322683862482942\n",
      "0.8775083842888267\n"
     ]
    }
   ],
   "source": [
    "foreach(x->println(kes[x,1,1]),1:length(Ts))"
   ]
  },
  {
   "cell_type": "code",
   "execution_count": 38,
   "metadata": {},
   "outputs": [
    {
     "name": "stdout",
     "output_type": "stream",
     "text": [
      "1.8380215493851337e-5\n",
      "3.79994086032906e-5\n",
      "7.528668084094715e-5\n",
      "0.00014349094203942202\n",
      "0.0002639655544550583\n",
      "0.000470074056677939\n",
      "0.0008124772157964887\n",
      "0.0013660858651870136\n",
      "0.002238934198985598\n",
      "0.0035831305725584944\n",
      "0.005607827623687955\n",
      "0.00859374666182851\n",
      "0.01290900721932291\n",
      "0.019020762407617502\n",
      "0.027503599948178897\n",
      "0.039037086369059205\n",
      "0.05438568155867587\n",
      "0.07435722102412382\n",
      "0.09973883246293028\n",
      "0.1312179725341809\n",
      "0.16930583587192075\n",
      "0.21428552548696278\n",
      "0.26620245900966005\n",
      "0.32489976833907325\n",
      "0.39008487833435707\n",
      "0.4614046633172054\n",
      "0.5385085725801233\n",
      "0.6210907695094446\n",
      "0.7089094327890492\n",
      "0.8017892274137962\n",
      "0.8996136719813407\n",
      "1.0031478698428375\n",
      "1.111154355156316\n",
      "1.2238492315746556\n",
      "1.341299745219048\n",
      "1.463534727197904\n",
      "1.5905739993025723\n",
      "1.7224316767754728\n",
      "1.8591159393668675\n",
      "2.0006283622184053\n",
      "2.146963410659506\n",
      "2.2981081883916556\n",
      "2.4540424070466242\n",
      "2.6147385228376887\n",
      "2.7801619904299937\n",
      "2.9502715944976887\n",
      "3.1250198295227807\n",
      "3.3043533066439608\n",
      "3.4882131726388215\n",
      "3.676535530725207\n",
      "3.8701997777716852\n",
      "4.067581462682021\n",
      "4.269065142230047\n",
      "4.474641416179141\n",
      "4.684254303108503\n",
      "4.897832112944954\n",
      "5.115295167423374\n",
      "5.336558789782658\n",
      "5.561534801491822\n",
      "5.790132420073887\n",
      "6.022258873816902\n"
     ]
    }
   ],
   "source": [
    "foreach(x->println(kbis[x,1,1]),1:length(Ts))"
   ]
  },
  {
   "cell_type": "code",
   "execution_count": 39,
   "metadata": {},
   "outputs": [
    {
     "name": "stdout",
     "output_type": "stream",
     "text": [
      "2.9609417704350953\n",
      "2.896070833478062\n",
      "2.8335382820156227\n",
      "2.7732840339750027\n",
      "2.715239834963544\n",
      "2.6593320846872315\n",
      "2.605483986712161\n",
      "2.553617179430484\n",
      "2.5036529680078337\n",
      "2.4555132485059454\n",
      "2.4091211938947485\n",
      "2.364401755503895\n",
      "2.3212820212847243\n",
      "2.2796914630720564\n",
      "2.239562098109603\n",
      "2.2008285848579976\n",
      "2.163428269058927\n",
      "2.12730119274567\n",
      "2.0923900759789036\n",
      "2.05864027829487\n",
      "2.0259997442239577\n",
      "1.9944189351745454\n",
      "1.9638507490072004\n",
      "1.9342504289047242\n",
      "1.9055754641881588\n",
      "1.8777854865325254\n",
      "1.8508421646415238\n",
      "1.824709101337601\n",
      "1.7993517335891895\n",
      "1.7747372369306604\n",
      "1.7508344343676012\n",
      "1.7276137096737767\n",
      "1.7050469248796487\n",
      "1.6831073417472346\n",
      "1.6617695470555984\n",
      "1.6410093815522901\n",
      "1.620803872447277\n",
      "1.6011311693363635\n",
      "1.5819704834435657\n",
      "1.5633020300698242\n",
      "1.5451069741313295\n",
      "1.5273673786664503\n",
      "1.5100661561867148\n",
      "1.493187022745006\n",
      "1.4767144545932405\n",
      "1.4606336473021655\n",
      "1.444930477217507\n",
      "1.429591465129243\n",
      "1.414603742034037\n",
      "1.3999550168748405\n",
      "1.3856335461459528\n",
      "1.37162810525648\n",
      "1.3579279615499433\n",
      "1.3445228488826464\n",
      "1.3314029436683494\n",
      "1.3185588423016241\n",
      "1.3059815398770076\n",
      "1.2936624101257208\n",
      "1.2815931864961685\n",
      "1.2697659443087514\n",
      "1.2581730839196068\n"
     ]
    }
   ],
   "source": [
    "foreach(x->println(klsT[x,1,1]),1:length(Ts))"
   ]
  }
 ],
 "metadata": {
  "kernelspec": {
   "display_name": "Julia 1.0.1",
   "language": "julia",
   "name": "julia-1.0"
  },
  "language_info": {
   "file_extension": ".jl",
   "mimetype": "application/julia",
   "name": "julia",
   "version": "1.0.1"
  }
 },
 "nbformat": 4,
 "nbformat_minor": 1
}
