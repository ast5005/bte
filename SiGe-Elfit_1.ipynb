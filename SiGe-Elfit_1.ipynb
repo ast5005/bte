{
 "cells": [
  {
   "cell_type": "code",
   "execution_count": 1,
   "metadata": {
    "collapsed": false
   },
   "outputs": [
    {
     "data": {
      "text/plain": [
       "3.0"
      ]
     },
     "execution_count": 1,
     "metadata": {},
     "output_type": "execute_result"
    }
   ],
   "source": [
    "using constants\n",
    "using types\n",
    "using Optim\n",
    "using PyPlot\n",
    "using data\n",
    "include(\"DOSfunctions.jl\")\n",
    "include(\"userfunctions.jl\")\n",
    "include(\"propertyfuncs.jl\")\n",
    "\n",
    "Ts=collect(300.0:10.0:800.0)\n",
    "numofn=[-1.5e20]#,-1.75e20,-3.0e19,-0.9e20]#Sample 1 -3.0e19, Sample 2 -1.25e20,\n",
    "#Sample 3 -1.75e20, Sample Sb 0.75% -1.03e20, #\n",
    "numofnn=[1e17]\n",
    "xs=[0.287]#collect(0.0:0.01:1.0)\n",
    "\n",
    "var0=[Ts[1],xs[1]]\n",
    "Eoff=0.0\n",
    "Ev(var)=Eoff\n",
    "Ec(var)=Ev(var)+EgSiGe(var[1],var[2]) #var[1]:T var[2]:x\n",
    "\n",
    "effMassV(var)=-1.2*me\n",
    "effMassC(var)=1.4*me#1.4/6^(2/3)*me\n",
    "\n",
    "bandC=parBandTx(effMassC(var0),0.0,Ec(var0),[Ec],[effMassC],var0)\n",
    "bandV=parBandTx(effMassV(var0),0.0,Ev(var0),[Ev],[effMassV],var0)\n",
    "#bndstTx=BandStrucTx([bandV,bandC,bandC,bandC,bandC,bandC,bandC],var0)\n",
    "bndstTx=BandStrucTx([bandC],var0)\n",
    "#var array: var[1]: effMass , var[2]:T, var[3]:E, var[4]:x, var[5]:Ef, \n",
    "#var[6]:band, var[7]:NII var[8]:bndst var[9]:NNI\n",
    "#DefP=[3.8,7.0]\n",
    "ksi=21.0\n",
    "tauAC(var)=tauAC_func(ClSiGe(var[4],var[2]),DefP(var[1]),var[2],var[1],var[3],var[6])\n",
    "tauII2(var)=tauII2_func(ksi*eps0,eps0,var[6],var[5],var[2],var[7],var[1],var[3],var[8])\n",
    "tauNI(var)=tauNI_func(ksi*eps0,var[1],var[9])\n",
    "vartau0=[bandC.effMass,Ts[1],Ec(var0),xs[1],Ec(var0),bandC,numofn[1]*1e6,bndstTx,numofnn[1]*1e6]\n",
    "#vartau0=[bandC.effMass,Ts[1],1.0,xs[1],1.5,bandC,numofn[1]*1e6,bndstTx,numofnn[1]*1e6]\n",
    "tauTOTTx=tau_electron_B([tauAC],vartau0)#tauNI,,tauII2\n",
    "xmax=3.0"
   ]
  },
  {
   "cell_type": "code",
   "execution_count": 2,
   "metadata": {
    "collapsed": false
   },
   "outputs": [
    {
     "data": {
      "image/png": "[encoded data removed]",
      "text/plain": [
       "PyPlot.Figure(PyObject <matplotlib.figure.Figure object at 0x7f727c210a90>)"
      ]
     },
     "metadata": {},
     "output_type": "display_data"
    }
   ],
   "source": [
    "Es=collect(0:0.1:5.0)\n",
    "ne_calc_test=Array{Float64}(length(Es))\n",
    "#integrand(E)=q*getDOS_SingleBand_E(bandC,E).*(-1*fermiStat_Temp_Ef_E(300.0,0.0,E))\n",
    "integrand(E)=q*(-1*fermiStat_Temp_Ef_E(300.0,0.0,E))\n",
    "for (Esi,Esx) in enumerate(Es)\n",
    "    ne_calc_test[Esi]=integrand(Esx)\n",
    "    #a=quadgk(integrand,band.offset,band.offset+20kBe*Temp)\n",
    "    #nodes, weights = qnwlege(100, band.offset, band.offset+20kBe*Temp)\n",
    "    #a= do_quad(integrand,nodes, weights)\n",
    "end\n",
    "plot(Es,ne_calc_test,Linestyle=\"-\",Linewidth=\"2\",color=\"b\")\n",
    "grid()"
   ]
  },
  {
   "cell_type": "code",
   "execution_count": 2,
   "metadata": {
    "collapsed": false
   },
   "outputs": [
    {
     "data": {
      "text/plain": [
       "0.42399480499416586"
      ]
     },
     "execution_count": 2,
     "metadata": {},
     "output_type": "execute_result"
    }
   ],
   "source": [
    "1.4/6^(2/3)"
   ]
  },
  {
   "cell_type": "code",
   "execution_count": 3,
   "metadata": {
    "collapsed": false
   },
   "outputs": [
    {
     "data": {
      "text/plain": [
       "1.0562152064870782"
      ]
     },
     "execution_count": 3,
     "metadata": {},
     "output_type": "execute_result"
    }
   ],
   "source": [
    "Es=collect(0:0.1:5.0)\n",
    "Efx=Fermilevel_n(numofn[1],bndstTx,300.0,3.0)"
   ]
  },
  {
   "cell_type": "code",
   "execution_count": 4,
   "metadata": {
    "collapsed": false
   },
   "outputs": [
    {
     "data": {
      "text/plain": [
       "51-element Array{Float64,1}:\n",
       "   -914.661     \n",
       " -43771.1       \n",
       "     -2.09466e6 \n",
       "     -1.0024e8  \n",
       "     -4.79697e9 \n",
       "     -2.29559e11\n",
       "     -1.09855e13\n",
       "     -5.25708e14\n",
       "     -2.51525e16\n",
       "     -1.19179e18\n",
       "     -4.08822e19\n",
       "     -2.88596e20\n",
       "     -7.29705e20\n",
       "      ⋮         \n",
       "     -2.79687e21\n",
       "     -2.79687e21\n",
       "     -2.79687e21\n",
       "     -2.79687e21\n",
       "     -2.79687e21\n",
       "     -2.79687e21\n",
       "     -2.79687e21\n",
       "     -2.79687e21\n",
       "     -2.79687e21\n",
       "     -2.79687e21\n",
       "     -2.79687e21\n",
       "     -2.79687e21"
      ]
     },
     "execution_count": 4,
     "metadata": {},
     "output_type": "execute_result"
    }
   ],
   "source": [
    "Eftest=collect(0.0:0.1:5.0)\n",
    "ne_test=Array{Float64}(length(Eftest))\n",
    "for (Efi,Efx) in enumerate(Eftest)\n",
    "    ne_test[Efi]=NumofnMultiBand2(bndstTx,Efx,300.0,3.0)\n",
    "end\n",
    "ne_test*1e-6"
   ]
  },
  {
   "cell_type": "code",
   "execution_count": 5,
   "metadata": {
    "collapsed": false
   },
   "outputs": [
    {
     "data": {
      "text/plain": [
       "51-element Array{Float64,1}:\n",
       "   -914.661     \n",
       " -43771.1       \n",
       "     -2.09466e6 \n",
       "     -1.0024e8  \n",
       "     -4.79697e9 \n",
       "     -2.29559e11\n",
       "     -1.09855e13\n",
       "     -5.25708e14\n",
       "     -2.51525e16\n",
       "     -1.19179e18\n",
       "     -4.08822e19\n",
       "     -2.88596e20\n",
       "     -7.29705e20\n",
       "      ⋮         \n",
       "     -2.79687e21\n",
       "     -2.79687e21\n",
       "     -2.79687e21\n",
       "     -2.79687e21\n",
       "     -2.79687e21\n",
       "     -2.79687e21\n",
       "     -2.79687e21\n",
       "     -2.79687e21\n",
       "     -2.79687e21\n",
       "     -2.79687e21\n",
       "     -2.79687e21\n",
       "     -2.79687e21"
      ]
     },
     "execution_count": 5,
     "metadata": {},
     "output_type": "execute_result"
    }
   ],
   "source": [
    "Eftest=collect(0.0:0.1:5.0)\n",
    "ne_test=Array{Float64}(length(Eftest))\n",
    "for (Efi,Efx) in enumerate(Eftest)\n",
    "    ne_test[Efi]=Numofn2(bandC,Efx,300.0,3.0)\n",
    "end\n",
    "ne_test*1e-6"
   ]
  },
  {
   "cell_type": "code",
   "execution_count": 3,
   "metadata": {
    "collapsed": false,
    "scrolled": true
   },
   "outputs": [
    {
     "name": "stdout",
     "output_type": "stream",
     "text": [
      " 13.424423 seconds (36.46 M allocations: 4.351 GB, 6.76% gc time)\n"
     ]
    },
    {
     "data": {
      "text/plain": [
       "(\n",
       "[1.05621; 1.05261; … ; 0.824259; 0.818678],\n",
       "\n",
       "[70207.9; 67572.3; … ; 20632.2; 20282.4],\n",
       "\n",
       "[-9.79407e-5; -0.000100746; … ; -0.000196894; -0.000198344],\n",
       "\n",
       "[0.0; 0.0; … ; 0.0; 0.0],\n",
       "\n",
       "[0.404968; 0.399877; … ; 0.264826; 0.263254],\n",
       "\n",
       "[0.0; 0.0; … ; 0.0; 0.0],\n",
       "\n",
       "[0.0; 0.0; … ; 0.0; 0.0])"
      ]
     },
     "execution_count": 3,
     "metadata": {},
     "output_type": "execute_result"
    }
   ],
   "source": [
    "@time (Efs,sigmas,seebecks,kes,kees,kehs,kbis)=electronicProps(bndstTx,xs,Ts,numofn,tauTOTTx,xmax)"
   ]
  },
  {
   "cell_type": "code",
   "execution_count": 4,
   "metadata": {
    "collapsed": false
   },
   "outputs": [
    {
     "data": {
      "text/plain": [
       "51×1×1 Array{Float64,3}:\n",
       "[:, :, 1] =\n",
       " 70207.9\n",
       " 67572.3\n",
       " 65100.9\n",
       " 62779.2\n",
       " 60594.4\n",
       " 58535.1\n",
       " 56591.1\n",
       " 54753.4\n",
       " 53013.7\n",
       " 51364.8\n",
       " 49800.0\n",
       " 48313.3\n",
       " 46899.3\n",
       "     ⋮  \n",
       " 24758.2\n",
       " 24286.6\n",
       " 23829.6\n",
       " 23386.7\n",
       " 22957.1\n",
       " 22540.4\n",
       " 22136.1\n",
       " 21743.5\n",
       " 21362.3\n",
       " 20992.0\n",
       " 20632.2\n",
       " 20282.4"
      ]
     },
     "execution_count": 4,
     "metadata": {},
     "output_type": "execute_result"
    }
   ],
   "source": [
    "sigmas"
   ]
  }
 ],
 "metadata": {
  "kernelspec": {
   "display_name": "Julia 0.5.1",
   "language": "julia",
   "name": "julia-0.5"
  },
  "language_info": {
   "file_extension": ".jl",
   "mimetype": "application/julia",
   "name": "julia",
   "version": "0.5.2"
  }
 },
 "nbformat": 4,
 "nbformat_minor": 0
}
