{
 "cells": [
  {
   "cell_type": "code",
   "execution_count": 1,
   "metadata": {
    "collapsed": false
   },
   "outputs": [
    {
     "data": {
      "text/plain": [
       "electronicthermalPropsiso (generic function with 1 method)"
      ]
     },
     "execution_count": 1,
     "metadata": {},
     "output_type": "execute_result"
    }
   ],
   "source": [
    "using constants\n",
    "using types\n",
    "using Optim\n",
    "using PyPlot\n",
    "using data\n",
    "include(\"DOSfunctions.jl\")\n",
    "include(\"userfunctions.jl\")\n",
    "include(\"propertyfuncs.jl\")"
   ]
  },
  {
   "cell_type": "code",
   "execution_count": 1,
   "metadata": {
    "collapsed": false
   },
   "outputs": [
    {
     "ename": "LoadError",
     "evalue": "\u001b[91mUndefVarError: qnwlege not defined\u001b[39m",
     "output_type": "error",
     "traceback": [
      "\u001b[91mUndefVarError: qnwlege not defined\u001b[39m",
      "",
      "Stacktrace:",
      " [1] \u001b[1minclude_string\u001b[22m\u001b[22m\u001b[1m(\u001b[22m\u001b[22m::String, ::String\u001b[1m)\u001b[22m\u001b[22m at \u001b[1m./loading.jl:515\u001b[22m\u001b[22m"
     ]
    }
   ],
   "source": [
    "nodes, weights = qnwlege(500, 0.0,8.0)"
   ]
  },
  {
   "cell_type": "code",
   "execution_count": 2,
   "metadata": {
    "collapsed": false
   },
   "outputs": [
    {
     "data": {
      "text/html": [
       "3.0"
      ],
      "text/plain": [
       "3.0"
      ]
     },
     "execution_count": 2,
     "metadata": {},
     "output_type": "execute_result"
    }
   ],
   "source": [
    "Ts=collect(50.01:10:500.01)\n",
    "#Ts=collect(663.8:0.01:664.0)#[663.0,663.1]\n",
    "numofn=[-1.5e20]#,-7.3e19,-2.0e19,-0.15e19]#,-0.2e20]#,-1.75e20,-3.0e19,-0.9e20]#Sample 1 -3.0e19, Sample 2 -1.25e20,\n",
    "#Sample 3 -1.75e20, Sample Sb 0.75% -1.03e20, #\n",
    "numofnn=[1e17]#,1e17,1e17,1e17]#,1e17]\n",
    "xs=[0.287]#,0.3,0.3,0.3]#[0.287,0.3,0.262,0.332]#collect(0.0:0.01:1.0)\n",
    "\n",
    "var0=[Ts[1],xs[1]]\n",
    "Eoff=0.0\n",
    "Ev(var)=Eoff\n",
    "Ec(var)=Ev(var)+EgSiGe(var[1],var[2]) #var[1]:T var[2]:x\n",
    "alphanp=0.0#1/EgSiGe([Ts[1],xs[1]])\n",
    "\n",
    "\n",
    "effMassV(var)=-1.2*me\n",
    "effMassC(var)=1.4/6^(2/3)*me#0.321me#0.424*me#0.424*me#1.4/6^(2/3)*me\n",
    "\n",
    "bandC=parBandTx(effMassC(var0),alphanp,Ec(var0),[Ec],[effMassC],var0)\n",
    "bandV=parBandTx(effMassV(var0),0.0,Ev(var0),[Ev],[effMassV],var0)\n",
    "#bndstTx=BandStrucTx([bandV,bandC,bandC,bandC,bandC,bandC,bandC],var0)\n",
    "bndstTx=BandStrucTx([bandC,bandC,bandC,bandC,bandC,bandC],var0)#,bandC,bandC,bandC,bandC,bandC,bandV],var0)\n",
    "#var array: var[1]: effMass , var[2]:T, var[3]:E, var[4]:x, var[5]:Ef, \n",
    "#var[6]:band, var[7]:NII var[8]:bndst var[9]:NNI var[10]:bandV\n",
    "\n",
    "md=effMassC([Ts[1],xs[1]])*6^(2/3)#1.4*me;\n",
    "function Deftemp(band::parBandTx)\n",
    "    Da=7.0\n",
    "    Dv=3.8\n",
    "    if band==bandC\n",
    "        return [Da,Dv]#10.5#15.0\n",
    "    end\n",
    "    if band==bandV        \n",
    "        return [Dv,Da]#7.0\n",
    "    end\n",
    "end\n",
    "ksi=21.0\n",
    "#tauAC(var)=tauAC_func(ClSiGe(var[4],var[2]),Deftemp(var[6])[1],Deftemp(var[6])[2],var[2],var[1],var[3],var[6])#DefP(var[1])\n",
    "tauAC(var)=tauAC_func(ClSiGe(var[4],var[2]),Deftemp(var[6])[1],var[2],var[1],var[3],var[6])#DefP(var[1])\n",
    "tauII2(var)=tauII2_func(ksi*eps0,eps0,var[6],var[5],var[2],var[7],var[1],var[3],var[8])\n",
    "tauNI(var)=tauNI_func(ksi*eps0,var[1],var[9])\n",
    "vartau0=[bandC.effMass,Ts[1],Ec(var0),xs[1],Ec(var0),bandC,numofn[1]*1e6,bndstTx,numofnn[1]*1e6,bandV]\n",
    "#vartau0=[bandC.effMass,Ts[1],1.0,xs[1],1.5,bandC,numofn[1]*1e6,bndstTx,numofnn[1]*1e6]\n",
    "#tauTOTTx=tau_electron_B([tauAC,tauII2,tauNI],vartau0)#tauNI,,tauII2,tauAC,\n",
    "tauTOTTx=tau_electron_B([tauAC,tauII2,tauNI],vartau0)#tauNI,,tauII2,tauAC,\n",
    "xmax=3.0\n",
    "#T_EF_Dict=Dict()\n",
    "#println(\"-3\")"
   ]
  },
  {
   "cell_type": "code",
   "execution_count": 3,
   "metadata": {
    "collapsed": false
   },
   "outputs": [
    {
     "name": "stdout",
     "output_type": "stream",
     "text": [
      " 26.858713 seconds (125.84 M allocations: 37.652 GiB, 11.51% gc time)\n"
     ]
    }
   ],
   "source": [
    "@time (Efs,sigmas,seebecks,kes,kees,kehs,kbis)=electronicPropsiso(bndstTx,xs,Ts,numofn,tauTOTTx,xmax)"
   ]
  },
  {
   "cell_type": "code",
   "execution_count": 4,
   "metadata": {
    "collapsed": false
   },
   "outputs": [
    {
     "data": {
      "image/png": "[encoded data removed]",
      "text/plain": [
       "PyPlot.Figure(PyObject <matplotlib.figure.Figure object at 0x7feee45592b0>)"
      ]
     },
     "metadata": {},
     "output_type": "display_data"
    },
    {
     "data": {
      "text/plain": [
       "1-element Array{PyCall.PyObject,1}:\n",
       " PyObject <matplotlib.lines.Line2D object at 0x7feea8db96a0>"
      ]
     },
     "execution_count": 4,
     "metadata": {},
     "output_type": "execute_result"
    }
   ],
   "source": [
    "plot(Ts,sigmas[:,1,1]/100/6^(2/3),linestyle=\"-\",color=\"c\")"
   ]
  },
  {
   "cell_type": "code",
   "execution_count": 5,
   "metadata": {
    "collapsed": false
   },
   "outputs": [
    {
     "name": "stdout",
     "output_type": "stream",
     "text": [
      "1.7223936146769676e-13\n",
      "2.002058370514896e-13\n",
      "2.2230111357438416e-13\n",
      "2.393304102158883e-13\n",
      "2.522310048703473e-13\n",
      "2.6187934052570477e-13\n",
      "2.6896196570765295e-13\n",
      "2.740325671627418e-13\n",
      "2.7754052307916343e-13\n",
      "2.7982317578046367e-13\n",
      "2.8114065446174157e-13\n",
      "2.8170363348856584e-13\n",
      "2.816492021895812e-13\n",
      "2.8116329856299797e-13\n",
      "2.8029069042087956e-13\n",
      "2.7905487562604667e-13\n",
      "2.776982341253025e-13\n",
      "2.761497804366375e-13\n",
      "2.744458504788063e-13\n",
      "2.726086002412896e-13\n",
      "2.705671561610355e-13\n",
      "2.686721184281531e-13\n",
      "2.667238675436653e-13\n",
      "2.647354161698458e-13\n",
      "2.6271644446352697e-13\n",
      "2.6067307456797685e-13\n",
      "2.58606225349354e-13\n",
      "2.56503236146007e-13\n",
      "2.542336008865495e-13\n",
      "2.52308239204564e-13\n",
      "2.503925458627522e-13\n",
      "2.484891396993856e-13\n",
      "2.465999792955121e-13\n",
      "2.4472642432873623e-13\n",
      "2.428692614657434e-13\n",
      "2.4102868288131046e-13\n",
      "2.3920418877607026e-13\n",
      "2.3739434452955264e-13\n",
      "2.3559620689949506e-13\n",
      "2.338038253116263e-13\n",
      "2.3200323322055144e-13\n",
      "2.3014153354375345e-13\n",
      "2.2825906622252106e-13\n",
      "2.267154184946674e-13\n",
      "2.2519344925245008e-13\n",
      "2.2369298259703506e-13\n",
      "2.2221378230491946e-13\n",
      "2.2075555941188057e-13\n",
      "2.193179781301404e-13\n",
      "2.1790066019615643e-13\n",
      "2.1650318767468413e-13\n",
      "2.1479086166820346e-13\n",
      "2.1357484268876384e-13\n",
      "2.1244743249788695e-13\n",
      "2.109930960713457e-13\n",
      "2.093775551357174e-13\n",
      "2.082036020960992e-13\n",
      "2.0720355151156806e-13\n",
      "2.0587313068042074e-13\n",
      "2.0439883108890135e-13\n",
      "2.0282812533005138e-13\n",
      "2.0227580614891615e-13\n",
      "2.0110524686617513e-13\n",
      "1.9978547234813069e-13\n",
      "1.9837528736130284e-13\n",
      "1.9754755851176423e-13\n",
      "1.9661390694645007e-13\n",
      "1.9546439684547633e-13\n",
      "1.9421540836470663e-13\n",
      "1.9290391199429069e-13\n",
      "1.9227898827756652e-13\n",
      "1.9135537729448147e-13\n",
      "1.902779656931777e-13\n",
      "1.891237538961843e-13\n",
      "1.879219738714453e-13\n",
      "1.87320000918554e-13\n"
     ]
    },
    {
     "data": {
      "text/plain": [
       "76-element Array{Void,1}:\n",
       " nothing\n",
       " nothing\n",
       " nothing\n",
       " nothing\n",
       " nothing\n",
       " nothing\n",
       " nothing\n",
       " nothing\n",
       " nothing\n",
       " nothing\n",
       " nothing\n",
       " nothing\n",
       " nothing\n",
       " ⋮      \n",
       " nothing\n",
       " nothing\n",
       " nothing\n",
       " nothing\n",
       " nothing\n",
       " nothing\n",
       " nothing\n",
       " nothing\n",
       " nothing\n",
       " nothing\n",
       " nothing\n",
       " nothing"
      ]
     },
     "execution_count": 5,
     "metadata": {},
     "output_type": "execute_result"
    }
   ],
   "source": [
    "map(i->println(sigmas[i,1,1]/6^(2/3)),1:length(sigmas[:,1,1]))"
   ]
  },
  {
   "cell_type": "code",
   "execution_count": 6,
   "metadata": {
    "collapsed": false
   },
   "outputs": [],
   "source": [
    "T_EF_Dict=Dict()\n",
    "for (Ti,Tx) in enumerate(Ts)\n",
    "    T_EF_Dict[Tx]=(Efs[Ti])    \n",
    "end\n",
    "T_EF_Dict_Array=Array{Dict{Float64,Float64},2}(length(numofn),length(xs))\n",
    "Dict_temp=Dict()\n",
    "Efsr=Array{Float64,3}(length(Ts),length(numofn),length(xs))\n",
    "for (j,jn) in enumerate(numofn)\n",
    "    for (k,kx) in enumerate(xs) \n",
    "        for (i,iT) in enumerate(Ts)\n",
    "            Efsr[i,j,k]=Efs[i,j,k]-Ec([iT,kx])\n",
    "            Dict_temp[iT]=Efsr[i,j,k]\n",
    "            T_EF_Dict_Array[j,k]=Dict_temp \n",
    "        end\n",
    "    end\n",
    "end\n",
    "#foreach(i->println(\"$i= \",Ts[i]),1:length(Ts))"
   ]
  },
  {
   "cell_type": "code",
   "execution_count": 7,
   "metadata": {
    "collapsed": false,
    "scrolled": false
   },
   "outputs": [
    {
     "data": {
      "text/plain": [
       "76×1×1 Array{Float64,3}:\n",
       "[:, :, 1] =\n",
       " 0.0732565 \n",
       " 0.0731812 \n",
       " 0.0731178 \n",
       " 0.0730027 \n",
       " 0.0728314 \n",
       " 0.0726768 \n",
       " 0.0724991 \n",
       " 0.0722793 \n",
       " 0.0720576 \n",
       " 0.0718171 \n",
       " 0.0715464 \n",
       " 0.0712507 \n",
       " 0.0709344 \n",
       " ⋮         \n",
       " 0.0233752 \n",
       " 0.0219535 \n",
       " 0.0205163 \n",
       " 0.0190637 \n",
       " 0.0175959 \n",
       " 0.0161132 \n",
       " 0.0146155 \n",
       " 0.0131031 \n",
       " 0.0115762 \n",
       " 0.0100348 \n",
       " 0.00847917\n",
       " 0.00690938"
      ]
     },
     "execution_count": 7,
     "metadata": {},
     "output_type": "execute_result"
    }
   ],
   "source": [
    "Efsr"
   ]
  },
  {
   "cell_type": "code",
   "execution_count": 8,
   "metadata": {
    "collapsed": false
   },
   "outputs": [
    {
     "data": {
      "text/html": [
       "3.0"
      ],
      "text/plain": [
       "3.0"
      ]
     },
     "execution_count": 8,
     "metadata": {},
     "output_type": "execute_result"
    }
   ],
   "source": [
    "sigmaetest=[2778200.28109668,2312314.78954883,1979047.65108095,\n",
    "1728673.76291633,1533555.01584136,1377114.43355248,\n",
    "1248805.37673395,1141599.77536841,1050634.83341348,\n",
    "972439.919995827,904471.685107134,844824.119432157,792040.704331033,\n",
    "744989.051108251,702775.404932162,664684.741110955,630138.029017717,\n",
    "598661.203865750,569862.264585959,543414.122446974,519041.586412879,\n",
    "496511.367377109,475624.315110431,456209.326943280,438118.522494679,\n",
    "421223.387385095,405411.665863276,390584.837576167,376656.053874064,\n",
    "363548.438528403,351193.679615310,339530.855692561,328505.451770088,\n",
    "318068.529998983,308176.027240837,298788.157277877,289868.899786311,\n",
    "281385.561616717,273308.398626170,265610.288451872,258266.446329570,\n",
    "251254.177436508,244552.660350078,238142.757115445,232006.846151052,226128.674823646,\n",
    "20493.229020525,215086.617456580,209895.968793988,204909.339935751,\n",
    "200115.634091359,195504.527411760,191066.403158375,186792.292512520,\n",
    "182673.821251642,178703.161620907,174872.988815782,171176.441565810,\n",
    "167607.086373726,164158.885019091,160826.164983095,157603.592492233,\n",
    "154486.147914173,151469.103270028,148548.001654251,145718.638376829,\n",
    "142977.043663105,140319.466764544,137742.361349632,135242.372058065,\n",
    "132816.322113651,130461.201902250,128174.158430658,125952.485590895,\n",
    "123793.615161891,121695.108487312]\n",
    "x=3.0"
   ]
  },
  {
   "cell_type": "code",
   "execution_count": 9,
   "metadata": {
    "collapsed": false
   },
   "outputs": [
    {
     "data": {
      "text/plain": [
       "76×1×1 Array{Float64,3}:\n",
       "[:, :, 1] =\n",
       " 1.72239e-13\n",
       " 2.00206e-13\n",
       " 2.22301e-13\n",
       " 2.3933e-13 \n",
       " 2.52231e-13\n",
       " 2.61879e-13\n",
       " 2.68962e-13\n",
       " 2.74033e-13\n",
       " 2.77541e-13\n",
       " 2.79823e-13\n",
       " 2.81141e-13\n",
       " 2.81704e-13\n",
       " 2.81649e-13\n",
       " ⋮          \n",
       " 1.98375e-13\n",
       " 1.97548e-13\n",
       " 1.96614e-13\n",
       " 1.95464e-13\n",
       " 1.94215e-13\n",
       " 1.92904e-13\n",
       " 1.92279e-13\n",
       " 1.91355e-13\n",
       " 1.90278e-13\n",
       " 1.89124e-13\n",
       " 1.87922e-13\n",
       " 1.8732e-13 "
      ]
     },
     "execution_count": 9,
     "metadata": {},
     "output_type": "execute_result"
    }
   ],
   "source": [
    "sigmas/6^(2/3)"
   ]
  },
  {
   "cell_type": "code",
   "execution_count": 10,
   "metadata": {
    "collapsed": false
   },
   "outputs": [
    {
     "data": {
      "text/plain": [
       "76-element Array{Float64,1}:\n",
       " 5.68722e-13\n",
       " 6.61065e-13\n",
       " 7.34022e-13\n",
       " 7.90252e-13\n",
       " 8.32848e-13\n",
       " 8.64707e-13\n",
       " 8.88093e-13\n",
       " 9.04836e-13\n",
       " 9.16419e-13\n",
       " 9.23956e-13\n",
       " 9.28306e-13\n",
       " 9.30165e-13\n",
       " 9.29985e-13\n",
       " ⋮          \n",
       " 6.55021e-13\n",
       " 6.52288e-13\n",
       " 6.49205e-13\n",
       " 6.45409e-13\n",
       " 6.41285e-13\n",
       " 6.36955e-13\n",
       " 6.34891e-13\n",
       " 6.31842e-13\n",
       " 6.28284e-13\n",
       " 6.24473e-13\n",
       " 6.20505e-13\n",
       " 6.18517e-13"
      ]
     },
     "execution_count": 10,
     "metadata": {},
     "output_type": "execute_result"
    }
   ],
   "source": [
    "map(x->sigmas[x,1,1],1:76)"
   ]
  },
  {
   "cell_type": "code",
   "execution_count": 11,
   "metadata": {
    "collapsed": false
   },
   "outputs": [],
   "source": [
    "#map(x->sigmas[x,1,1]/sigmaetest[x],1:76)"
   ]
  },
  {
   "cell_type": "code",
   "execution_count": 12,
   "metadata": {
    "collapsed": false
   },
   "outputs": [
    {
     "data": {
      "text/html": [
       "3.0"
      ],
      "text/plain": [
       "3.0"
      ]
     },
     "execution_count": 12,
     "metadata": {},
     "output_type": "execute_result"
    }
   ],
   "source": [
    "vartau1=[bandC.effMass,Ts[1],Ec(var0),xs[1],Ec(var0),bandC,numofn[1]*1e6,bndstTx,numofnn[1]*1e6,bandV]\n",
    "Efxx=collect(0.0:0.1:3.0)\n",
    "tau_check=Array{Float64}(length(Efxx))\n",
    "vartau1[2]=300.0\n",
    "vartau1[5]=Efsr[26]+vartau1[6].offset\n",
    "for (li,l) in enumerate(Efxx)\n",
    "#var array: var[1]: effMass , var[2]:T, var[3]:E, var[4]:x, var[5]:Ef, \n",
    "#var[6]:band, var[7]:NII var[8]:bndst var[9]:NNI var[10]:bandV\n",
    "    vartau1[3]=l+vartau1[6].offset\n",
    "    tau_check[li]=1/(1/tauAC(vartau1)+1/tauII2(vartau1)+1/tauNI(vartau1))\n",
    "    #tau_check[li]=1/(1/tauAC(vartau1))\n",
    "    #tau_check[li]=1/(1/tauNI(vartau1))\n",
    "    #tau_check[li]=1/(1/tauII2(vartau1))\n",
    "end\n",
    "#figure()\n",
    "#plot(Efxx,tau_check,linestyle=\"-\",color=\"b\")\n",
    "#grid()\n",
    "x=3.0"
   ]
  },
  {
   "cell_type": "code",
   "execution_count": 13,
   "metadata": {
    "collapsed": false
   },
   "outputs": [
    {
     "data": {
      "text/plain": [
       "31-element Array{Float64,1}:\n",
       " NaN          \n",
       "   4.49683e-14\n",
       "   4.76184e-14\n",
       "   4.74594e-14\n",
       "   4.61088e-14\n",
       "   4.43672e-14\n",
       "   4.25665e-14\n",
       "   4.08378e-14\n",
       "   3.92277e-14\n",
       "   3.77469e-14\n",
       "   3.63915e-14\n",
       "   3.51516e-14\n",
       "   3.4016e-14 \n",
       "   ⋮          \n",
       "   2.81717e-14\n",
       "   2.75507e-14\n",
       "   2.69678e-14\n",
       "   2.64193e-14\n",
       "   2.59021e-14\n",
       "   2.54135e-14\n",
       "   2.4951e-14 \n",
       "   2.45123e-14\n",
       "   2.40957e-14\n",
       "   2.36992e-14\n",
       "   2.33214e-14\n",
       "   2.29609e-14"
      ]
     },
     "execution_count": 13,
     "metadata": {},
     "output_type": "execute_result"
    }
   ],
   "source": [
    "tau_check"
   ]
  }
 ],
 "metadata": {
  "kernelspec": {
   "display_name": "Julia 0.6.0",
   "language": "julia",
   "name": "julia-0.6"
  },
  "language_info": {
   "file_extension": ".jl",
   "mimetype": "application/julia",
   "name": "julia",
   "version": "0.6.0"
  }
 },
 "nbformat": 4,
 "nbformat_minor": 0
}
