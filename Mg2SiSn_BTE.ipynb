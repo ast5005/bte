{
 "cells": [
  {
   "cell_type": "code",
   "execution_count": null,
   "metadata": {
    "collapsed": true
   },
   "outputs": [],
   "source": [
    "using constants\n",
    "using types\n",
    "using Optim\n",
    "using PyPlot\n",
    "using data\n",
    "include(\"DOSfunctions.jl\")\n",
    "include(\"userfunctions.jl\")\n",
    "Eoff=2.0\n",
    "Ts=collect(300.0:10.0:900.0)\n",
    "xs=collect(0.0:0.01:1.0)\n",
    "Es=collect(0.0:0.1:3.0)\n",
    "x=0.6\n",
    "var0=[Ts[1],x]\n",
    "\n",
    "EX3(var)=Eoff#+Egx3(var[1],var[2])\n",
    "EX1(var)=Ec0(var[2])+EX3(var)\n",
    "ELH(var)=Eoff-Egx3(var[1],var[2])\n",
    "EHH(var)=Eoff-Egx3(var[1],var[2])\n",
    "\n",
    "effMassX1(var)=X1effMass(var[1])*me\n",
    "effMassX3(var)=0.38*me\n",
    "effMassLH(var)=-1.0*me\n",
    "effMassHH(var)=-1.5*me\n",
    "\n",
    "bandX3=parBandTx(effMassX3(var0),0.0,EX3(var0),[EX3],[effMassX3],var0)\n",
    "bandX1=parBandTx(effMassX1(var0),0.0,EX1(var0),[EX1],[effMassX1],var0)\n",
    "bandHH=parBandTx(effMassHH(var0),0.0,EHH(var0),[EHH],[effMassHH],var0)\n",
    "bandLH=parBandTx(effMassLH(var0),0.0,ELH(var0),[ELH],[effMassLH],var0)\n",
    "bndstTx=BandStrucTx([bandLH,bandHH,bandX1,bandX1,bandX1,bandX3,bandX3,bandX3],var0)\n",
    "\n",
    "NII=1e12*1e6\n",
    "vartau0=[bandX3.effMass,Ts[1],1.0,x,1.5,bandX3,NII,bndstTx]\n",
    "#var array: var[1]: effMass , var[2]:T, var[3]:E, var[4]:x, var[5]:Ef, \n",
    "#var[6]:band, var[7]:NII var[8]:bndst\n",
    "tauAC(var)=tauAC_func(Cl(var[4]),acPhDa(var[4]),var[2],var[1],var[3],var[6])\n",
    "tauPOP(var)=tauPOP_func(epsilon0_x(var[4]),epsilonhf_x(var[4]),var[6],var[5],var[2],var[1],var[3]\n",
    ",tauPOPIIint(var[5],var[2],var[4],var[6]),var[7],opPhE(var[4]),var[8])\n",
    "tauPOP2(var)=tauPOP2_func(epsilon0_x(var[4]),epsilonhf_x(var[4]),var[6],var[5],var[2],var[1],var[3]\n",
    ",opPhE(var[4]))\n",
    "tauII2(var)=tauII2_func(epsilon0_x(var[4]),epsilonhf_x(var[4]),var[6],var[5],var[2],var[7],var[1],var[3],var[8])\n",
    "tauII(var)=tauII_func(epsilon0_x(var[4]),epsilonhf_x(var[4]),var[6],var[5],var[2],var[7],var[1],var[3]\n",
    ",tauPOPIIint(var[5],var[2],var[4],var[6]))\n",
    "\n",
    "tauTOTTx=tau_electron_B([tauAC,tauPOP2,tauII2],vartau0)#tauAC,tauII2,tauPOP2\n",
    "tauACs=Array{Float64}(length(Es),length(Ts),length(numofn))\n",
    "tauPOPs=Array{Float64}(length(Es),length(Ts),length(numofn))\n",
    "tauIIs=Array{Float64}(length(Es),length(Ts),length(numofn))\n",
    "tauTOTs=Array{Float64}(length(Es),length(Ts),length(numofn))\n",
    "\n",
    "numofn=[-1.2e20,-1.75e20,-3.0e19,-0.9e20]#Sample 1 -3.0e19, Sample 2 -1.25e20,\n",
    "#Sample 3 -1.75e20, Sample Sb 0.75% -1.03e20, #\n",
    "numofnsout=Array{Float64}(length(Ts),length(numofn))\n",
    "numofnsoutn=Array{Float64}(length(Ts),length(numofn),length(bndstTx.bands))\n",
    "numofnsoutp=Array{Float64}(length(Ts),length(numofn),length(bndstTx.bands))\n",
    "\n",
    "xmax=3.0\n",
    "sigmas=Array{Float64}(length(Ts),length(numofn))\n",
    "seebecks=Array{Float64}(length(Ts),length(numofn))\n",
    "Efs=Array{Float64}(length(Ts),length(numofn))"
   ]
  }
 ],
 "metadata": {
  "kernelspec": {
   "display_name": "Julia 0.4.6",
   "language": "julia",
   "name": "julia-0.4"
  },
  "language_info": {
   "file_extension": ".jl",
   "mimetype": "application/julia",
   "name": "julia",
   "version": "0.4.6"
  }
 },
 "nbformat": 4,
 "nbformat_minor": 0
}
