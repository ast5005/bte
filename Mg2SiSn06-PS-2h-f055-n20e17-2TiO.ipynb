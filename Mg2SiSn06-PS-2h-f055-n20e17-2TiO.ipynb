{
 "cells": [
  {
   "cell_type": "code",
   "execution_count": 1,
   "metadata": {},
   "outputs": [
    {
     "data": {
      "text/plain": [
       "kltSA (generic function with 1 method)"
      ]
     },
     "execution_count": 1,
     "metadata": {},
     "output_type": "execute_result"
    }
   ],
   "source": [
    "push!(LOAD_PATH,pwd())\n",
    "using ProfileView\n",
    "using constants\n",
    "using types10\n",
    "using Optim\n",
    "using PyPlot\n",
    "using data\n",
    "include(\"DOSfunctions.jl\")\n",
    "include(\"userfunctions.jl\")\n",
    "include(\"propertyfuncs.jl\")"
   ]
  },
  {
   "cell_type": "code",
   "execution_count": 2,
   "metadata": {},
   "outputs": [
    {
     "data": {
      "text/plain": [
       "3.0"
      ]
     },
     "execution_count": 2,
     "metadata": {},
     "output_type": "execute_result"
    }
   ],
   "source": [
    "Eoff=5.0\n",
    "Ts=collect(300.0:10.0:900.0)\n",
    "######################################################################################\n",
    "##for Liu x=0.6 best fit x=0.635 N=-1.45e20\n",
    "######################################################################################\n",
    "numofn=[-2.0e18]#,-1.22e18,-1.02e18,-0.94e18]#-9.5e19,-1.75e20,-3.0e19,-0.9e20]#Sample 1 -3.0e19, Sample 2 -1.25e20,\n",
    "numofnn=[1e17]#,1e18,1e18,1e18]\n",
    "#Sample 3 -1.75e20, Sample Sb 0.75% -1.03e20, #\n",
    "xs=[0.6]#,0.8,0.7,0.61]#collect(0.0:0.01:1.0)\n",
    "Es=collect(0.0:0.1:3.0)\n",
    "\n",
    "var0=[Ts[1],xs[1]]\n",
    "\n",
    "EX3(var)=Eoff#+Egx3(var[1],var[2])\n",
    "EX1(var)=Ec0(var[2])+EX3(var)\n",
    "ELH(var)=Eoff-Egx3(var[1],var[2])\n",
    "EHH(var)=Eoff-Egx3(var[1],var[2])\n",
    "\n",
    "effMassX1(var)=X1effMass(var[1])*me\n",
    "effMassX3(var)=0.38*me\n",
    "effMassLH(var)=-1.0*me\n",
    "effMassHH(var)=-1.5*me\n",
    "\n",
    "alphaX1(var)=0.0#EX1(var0)\n",
    "alphaX3(var)=0.0#EX1(var0)\n",
    "alphaLH(var)=0.0#EX3(var0)\n",
    "alphaHH(var)=0.0#EX3(var0)\n",
    "\n",
    "function Da(band::parBandTx,x::Float64)\n",
    "    Da=7.0#9.0-1.5*x*x\n",
    "    Dv=1.0\n",
    "    if band==bandX3 ||  band==bandX1\n",
    "        return Da\n",
    "    end\n",
    "    if band==bandHH ||  band==bandLH\n",
    "        return Dv\n",
    "    end\n",
    "end\n",
    "\n",
    "bandX3=parBandTx(true,1.0,effMassX3(var0),alphaX3(0.0),EX3(var0),[EX3],[effMassX3],[alphaX3],var0)\n",
    "bandX1=parBandTx(true,1.0,effMassX1(var0),alphaX1(0.0),EX1(var0),[EX1],[effMassX1],[alphaX1],var0)\n",
    "bandHH=parBandTx(true,1.0,effMassHH(var0),alphaHH(0.0),EHH(var0),[EHH],[effMassHH],[alphaHH],var0)\n",
    "bandLH=parBandTx(true,1.0,effMassLH(var0),alphaLH(0.0),ELH(var0),[ELH],[effMassLH],[alphaLH],var0)\n",
    "bndstTx=BandStrucTx([bandLH,bandHH,bandX1,bandX1,bandX1,bandX3,bandX3,bandX3],var0)#\n",
    "#bndstTx=BandStrucTx([bandLH,bandX1],var0)#\n",
    "\n",
    "#vartau0=[bandC.effMass,Ts[1],Ec(var0),xs[1],Ec(var0),bandC,numofn[1]*1e6,bndstTx,numofnn[1]*1e6,bandV]\n",
    "vartau0=[bandX3.effMass,Ts[1],EX1(var0),xs[1],EX1(var0),bandX3,numofn[1]*1e6,bndstTx,numofnn[1]*1e6,bandLH]\n",
    "#var array: var[1]: effMass , var[2]:T, var[3]:E, var[4]:x, var[5]:Ef, \n",
    "#var[6]:band, var[7]:NII var[8]:bndst\n",
    "#tauAC(var)=tauAC_func(Cl(var[4]),acPhDa(var[4]),var[2],var[1],var[3],var[6])\n",
    "tauAC(var)=tauAC_func(Cl(var[4]),Da(var[6],var[4]),var[2],var[1],var[3],var[6])\n",
    "tauPOP(var)=tauPOP_func(epsilon0_x(var[4]),epsilonhf_x(var[4]),var[6],var[5],var[2],var[1]\n",
    ",var[3],tauPOPIIint(var[5],var[2],var[4],var[6]),var[7],opPhE(var[4]),var[8])\n",
    "tauPOP2(var)=tauPOP2lowN_func(epsilon0_x(var[4]),epsilonhf_x(var[4]),var[6],var[5],var[2],var[1],\n",
    "var[3],opPhE(var[4]))\n",
    "tauPOP3(var)=tauPOP3_func(epsilon0_x(var[4]),epsilonhf_x(var[4]),var[6],var[5],var[2],var[1],\n",
    "var[3],opPhE(var[4]))\n",
    "tauII2(var)=tauII2_func(epsilon0_x(var[4]),epsilonhf_x(var[4]),var[6],var[5],var[2],var[7],var[1],var[3],var[8])\n",
    "tauNI(var)=tauNI_func(epsilon0_x(var[4]),var[1],var[9])\n",
    "tauTOTTx=tau_electron_B([tauAC,tauII2,tauNI,tauPOP3],vartau0)#,tauII2,tauPOP2,tauPOP3\n",
    "\n",
    "xmax=3.0"
   ]
  },
  {
   "cell_type": "code",
   "execution_count": 3,
   "metadata": {},
   "outputs": [
    {
     "name": "stdout",
     "output_type": "stream",
     "text": [
      " 33.197231 seconds (188.61 M allocations: 38.890 GiB, 11.70% gc time)\n"
     ]
    },
    {
     "data": {
      "text/plain": [
       "3.0"
      ]
     },
     "execution_count": 3,
     "metadata": {},
     "output_type": "execute_result"
    }
   ],
   "source": [
    "@time (Efs,sigmas,seebecks,kes,kees,kehs,kbis,sigmaes,sigmahs,seebeckes,seebeckhs)=electronicPropsiso(bndstTx,xs,Ts,numofn,numofnn,tauTOTTx,xmax)\n",
    "x=3.0"
   ]
  },
  {
   "cell_type": "code",
   "execution_count": 4,
   "metadata": {},
   "outputs": [
    {
     "name": "stdout",
     "output_type": "stream",
     "text": [
      "300.0 -0.05944102967435594\n",
      "310.0 -0.06310866039023288\n",
      "320.0 -0.06683883515482503\n",
      "330.0 -0.07062923311579983\n",
      "340.0 -0.07447726250565356\n",
      "350.0 -0.07837984232604267\n",
      "360.0 -0.08233307602043727\n",
      "370.0 -0.08633178003179598\n",
      "380.0 -0.09036882652682277\n",
      "390.0 -0.09443426345527772\n",
      "400.0 -0.09851419478524903\n",
      "410.0 -0.10258945199555392\n",
      "420.0 -0.10663418043458694\n",
      "430.0 -0.11061461129310679\n",
      "440.0 -0.1144884760636593\n",
      "450.0 -0.11820567223030398\n",
      "460.0 -0.12171075770598083\n",
      "470.0 -0.12494746708927895\n",
      "480.0 -0.12786468341628066\n",
      "490.0 -0.13042247435041787\n",
      "500.0 -0.13259647264703478\n",
      "510.0 -0.13437940173053242\n",
      "520.0 -0.13577965411536308\n",
      "530.0 -0.13681782680530308\n",
      "540.0 -0.13752250224849227\n",
      "550.0 -0.1379263243247033\n",
      "560.0 -0.13806283561434718\n",
      "570.0 -0.13796447401947987\n",
      "580.0 -0.1376613081053497\n",
      "590.0 -0.1371804455950949\n",
      "600.0 -0.13654587009109598\n",
      "610.0 -0.13577853565351905\n",
      "620.0 -0.13489659914658958\n",
      "630.0 -0.1339157126326933\n",
      "640.0 -0.13284932909072733\n",
      "650.0 -0.13170899554561188\n",
      "660.0 -0.13050462082675818\n",
      "670.0 -0.1292447130241543\n",
      "680.0 -0.12793658614267844\n",
      "690.0 -0.12658653776973683\n",
      "700.0 -0.12520000062497516\n",
      "710.0 -0.12378167119586081\n",
      "720.0 -0.12233561860868214\n",
      "730.0 -0.12086537663954999\n",
      "740.0 -0.1193740214454575\n",
      "750.0 -0.11786423725517192\n",
      "760.0 -0.11633837193522822\n",
      "770.0 -0.11479848405295545\n",
      "780.0 -0.11324638280122556\n",
      "790.0 -0.11168366192864276\n",
      "800.0 -0.11011172863133911\n",
      "810.0 -0.10853182820483642\n",
      "820.0 -0.10694506512257629\n",
      "830.0 -0.1053524210977459\n",
      "840.0 -0.10375477059358662\n",
      "850.0 -0.10215289417152995\n",
      "860.0 -0.10054749000325014\n",
      "870.0 -0.09893918382046696\n",
      "880.0 -0.0973285375326256\n",
      "890.0 -0.09571605670636618\n",
      "900.0 -0.09410219707040657\n"
     ]
    }
   ],
   "source": [
    "foreach(x->println(Ts[x],\" \",Efs[x,1,1,]-Eoff),1:length(Ts))"
   ]
  },
  {
   "cell_type": "code",
   "execution_count": 5,
   "metadata": {},
   "outputs": [
    {
     "ename": "MethodError",
     "evalue": "MethodError: no method matching -(::Array{Float64,1}, ::Float64)\nClosest candidates are:\n  -(!Matched::Float64, ::Float64) at float.jl:397\n  -(!Matched::Complex{Bool}, ::Real) at complex.jl:298\n  -(!Matched::Missing, ::Number) at missing.jl:93\n  ...",
     "output_type": "error",
     "traceback": [
      "MethodError: no method matching -(::Array{Float64,1}, ::Float64)\nClosest candidates are:\n  -(!Matched::Float64, ::Float64) at float.jl:397\n  -(!Matched::Complex{Bool}, ::Real) at complex.jl:298\n  -(!Matched::Missing, ::Number) at missing.jl:93\n  ...",
      "",
      "Stacktrace:",
      " [1] top-level scope at In[5]:1"
     ]
    }
   ],
   "source": [
    "plot(Ts,Efs[:,1,1]-Eoff,linestyle=\"-\",marker=\"o\",color=\"c\")\n",
    "#ylim(0,7)\n",
    "grid()"
   ]
  },
  {
   "cell_type": "code",
   "execution_count": 6,
   "metadata": {},
   "outputs": [
    {
     "data": {
      "image/png": "[encoded data removed]",
      "text/plain": [
       "Figure(PyObject <matplotlib.figure.Figure object at 0x7f83512249b0>)"
      ]
     },
     "metadata": {},
     "output_type": "display_data"
    }
   ],
   "source": [
    "plot(Ts,sigmaes[:,1,1]/100,linestyle=\"-\",marker=\"o\",color=\"c\")\n",
    "#ylim(0,7)\n",
    "grid()"
   ]
  },
  {
   "cell_type": "code",
   "execution_count": 7,
   "metadata": {},
   "outputs": [
    {
     "data": {
      "text/plain": [
       "61-element Array{Float64,1}:\n",
       " 300.0\n",
       " 310.0\n",
       " 320.0\n",
       " 330.0\n",
       " 340.0\n",
       " 350.0\n",
       " 360.0\n",
       " 370.0\n",
       " 380.0\n",
       " 390.0\n",
       " 400.0\n",
       " 410.0\n",
       " 420.0\n",
       "   ⋮  \n",
       " 790.0\n",
       " 800.0\n",
       " 810.0\n",
       " 820.0\n",
       " 830.0\n",
       " 840.0\n",
       " 850.0\n",
       " 860.0\n",
       " 870.0\n",
       " 880.0\n",
       " 890.0\n",
       " 900.0"
      ]
     },
     "execution_count": 7,
     "metadata": {},
     "output_type": "execute_result"
    }
   ],
   "source": [
    "Ts"
   ]
  },
  {
   "cell_type": "code",
   "execution_count": 8,
   "metadata": {},
   "outputs": [
    {
     "data": {
      "image/png": "[encoded data removed]",
      "text/plain": [
       "Figure(PyObject <matplotlib.figure.Figure object at 0x7f832e6b5518>)"
      ]
     },
     "metadata": {},
     "output_type": "display_data"
    }
   ],
   "source": [
    "plot(Ts,kbis[:,1,1],linestyle=\"-\",color=\"c\")\n",
    "#ylim(0,7)\n",
    "grid()"
   ]
  },
  {
   "cell_type": "code",
   "execution_count": 9,
   "metadata": {},
   "outputs": [
    {
     "data": {
      "image/png": "[encoded data removed]",
      "text/plain": [
       "Figure(PyObject <matplotlib.figure.Figure object at 0x7f8350c800b8>)"
      ]
     },
     "metadata": {},
     "output_type": "display_data"
    }
   ],
   "source": [
    "plot(Ts,seebecks[:,1,1]*1e6,linestyle=\"-\",color=\"c\")\n",
    "#plot(Ts,seebeckes[:,1,1]*1e6,linestyle=\"-\",color=\"y\")\n",
    "#plot(Ts,seebeckhs[:,1,1]*1e6,linestyle=\"-\",color=\"k\")\n",
    "#ylim(-250,-0)\n",
    "grid()"
   ]
  },
  {
   "cell_type": "code",
   "execution_count": 10,
   "metadata": {
    "scrolled": false
   },
   "outputs": [
    {
     "data": {
      "image/png": "[encoded data removed]",
      "text/plain": [
       "Figure(PyObject <matplotlib.figure.Figure object at 0x7f832561b7b8>)"
      ]
     },
     "metadata": {},
     "output_type": "display_data"
    }
   ],
   "source": [
    "plot(Ts,sigmas[:,1,1]/100,linestyle=\"-\",color=\"c\")\n",
    "#ylim(0,3500)\n",
    "grid()"
   ]
  },
  {
   "cell_type": "code",
   "execution_count": 11,
   "metadata": {},
   "outputs": [],
   "source": [
    "T_EF_Dict=Dict()\n",
    "for (Ti,Tx) in enumerate(Ts)\n",
    "    T_EF_Dict[Tx]=(Efs[Ti])    \n",
    "end\n",
    "T_EF_Dict_Array=Array{Dict{Float64,Float64},2}(undef,length(numofn),length(xs))\n",
    "Dict_temp=Dict()\n",
    "Efsr=Array{Float64,3}(undef,length(Ts),length(numofn),length(xs))\n",
    "for (j,jn) in enumerate(numofn)\n",
    "    for (k,kx) in enumerate(xs) \n",
    "        for (i,iT) in enumerate(Ts)\n",
    "            Efsr[i,j,k]=Efs[i,j,k]-EX3(0.0)\n",
    "            Dict_temp[iT]=Efsr[i,j,k]\n",
    "            T_EF_Dict_Array[j,k]=Dict_temp \n",
    "        end\n",
    "    end\n",
    "end\n",
    "#foreach(i->println(\"$i= \",Ts[i]),1:length(Ts))\n",
    "#Efsr"
   ]
  },
  {
   "cell_type": "code",
   "execution_count": 12,
   "metadata": {},
   "outputs": [
    {
     "data": {
      "text/plain": [
       "1.0"
      ]
     },
     "execution_count": 12,
     "metadata": {},
     "output_type": "execute_result"
    }
   ],
   "source": [
    "#println(\"-1\")\n",
    "#############Lattice Thermal Conductivity Parameters###############\n",
    "\n",
    "function klpar(con::Float64,p::Float64,NP::Float64)\n",
    "    thetaL=52.3e12*hbar/kB # K \n",
    "    thetaT=29.7e12*hbar/kB  # K\n",
    "    vL=(1-con)*7700+con*4900    # m/s\n",
    "    vT=(1-con)*4900+con*3000    # m/s\n",
    "    gammaL=2.5*(1-con)+1.7*con\n",
    "    gammaT=2.5*(1-con)+1.7*con\n",
    "    M=(2*(24.305e-3)+(28.0855e-3*(1-con)+118.71e-3*con))/3/Nav\n",
    "    V=((1-con)*(6.39e-10)^3+con*(6.77e-10)^3)/12\n",
    "    a=V^(1.0/3.0)\n",
    "    ro=M/V\n",
    "    Vdj=(((6.39e-10)^3)/((1-con)*(6.39e-10)^3+con*(6.77e-10)^3))^(1/3)\n",
    "    jL=vL/7700*Vdj\n",
    "    jT=vT/4900*Vdj\n",
    "    thetaLx=thetaL*jL\n",
    "    thetaTx=thetaT*jT\n",
    "    ##########Boundary Scattering###############3\n",
    "    D=11e-9\n",
    "    #p=1.0\n",
    "    ##########Alloy Scattering###################\n",
    "    mbar=(28.0855*(1-con)+118.71*con)\n",
    "    GammaSiSn=(1-con)*((28.0855-mbar)/mbar)^2+con*((118.71-mbar)/mbar)^2\n",
    "    GammaMgSiSn=2*((mbar/(24.305+mbar))^2*GammaSiSn);         \n",
    "    ##########Electron Scattering###################\n",
    "    Eep=5.0*q\n",
    "    xsp=xs[1]\n",
    "    Tp=300.0\n",
    "    mdx1=0.67*me\n",
    "    mdx3=0.38*me\n",
    "    Efx3=0.2589\n",
    "    Efx1=0.2589\n",
    "    ##########Nanoparticle Scattering###################\n",
    "    #NP=0\n",
    "    #alpha=1.0\n",
    "    Rnp=1/2*15.0e-9#\n",
    "    Vnp=4/3*pi*(Rnp)^3\n",
    "    rhonp=NP/100/Vnp\n",
    "    rhoM=3.0\n",
    "    rhoT=3.78\n",
    "    alphaNP=0.2289#1-exp(-1*(rhoT-rhoM)/rhoM);\n",
    "#vartauPH0=[[0.02],Ts[1],gammaL,gammaT,xsp,thetaCLx,thetaCTx,thetaCTx,MSi,MGe,VSi,a,T_EF_Dict,0.0]\n",
    "    Tsindex=1#25\n",
    "    numberofnindex=1\n",
    "    xsindex=1\n",
    "    vartauPH0=[ [0.02],  Ts[1],   gammaL,  gammaT, con,#5\n",
    "        thetaLx, thetaTx, thetaTx, M,   M, #10\n",
    "        V, a, T_EF_Dict_Array, Eep, alphaNP, #15\n",
    "        Rnp, thetaLx, thetaTx, vL, vT, #20\n",
    "        vL, vT, p, NP,Tsindex,#25\n",
    "        numberofnindex,xsindex,p,D,GammaMgSiSn,#30\n",
    "        mdx1,mdx3,Efx1,Efx3,ro,#35,\n",
    "        NP,alphaNP,Rnp,Vnp,rhonp #40\n",
    "        ]  \n",
    "    thetaCLx=thetaCL(vartauPH0[12],vartauPH0[5],vartauPH0[17],vartauPH0[19],vartauPH0[11])\n",
    "    thetaCTx=thetaCT(vartauPH0[12],vartauPH0[5],vartauPH0[18],vartauPH0[19],vartauPH0[11])\n",
    "    #println(\"2\")\n",
    "    tauPHNLf(var)=tauPH_NL(var[3],var[11],var[1],var[2],var[9],var[21])\n",
    "    tauPHNTf(var)=tauPH_NT(var[4],var[11],var[1],var[2],var[9],var[22]) \n",
    "\n",
    "    tauPHULf(var)=tauPH_U(var[3],var[1],var[2],var[9],var[19],var[17])\n",
    "    tauPHUTf(var)=tauPH_U(var[4],var[1],var[2],var[9],var[20],var[18])\n",
    "\n",
    "    tauPHALLLf(var)=tauPH_ALL(var[30],var[11],var[1],var[2],var[19])\n",
    "    tauPHALLTf(var)=tauPH_ALL(var[30],var[11],var[1],var[2],var[20])\n",
    "\n",
    "    tauPHeLfX3(var)=tauPH_e(var[14],var[32],var[35],(var[13][var[26],var[27]])[var[2]],var[1],var[2],var[21])\n",
    "    tauPHeTfX3(var)=tauPH_e(var[14],var[32],var[35],(var[13][var[26],var[27]])[var[2]],var[1],var[2],var[22])\n",
    "\n",
    "    tauPHeLfX1(var)=tauPH_e(var[14],X1effMass(var[2])*me,var[35],(var[13][var[26],var[27]])[var[2]]-Ec0(0.6)\n",
    "        ,var[1],var[2],var[21])\n",
    "    tauPHeTfX1(var)=tauPH_e(var[14],X1effMass(var[2])*me,var[35],(var[13][var[26],var[27]])[var[2]]-Ec0(0.6)\n",
    "        ,var[1],var[2],var[22])\n",
    "\n",
    "    tauPHBLf(var)=tauPH_B(var[19],var[28],var[29])\n",
    "    tauPHBTf(var)=tauPH_B(var[20],var[28],var[29])\n",
    "    #println(\"3\")\n",
    "\n",
    "    tauPHNPLf(var)=tauPH_NP(var[37],var[40],var[38],var[1],var[2],var[19])\n",
    "    tauPHNPTf(var)=tauPH_NP(var[37],var[40],var[38],var[1],var[2],var[20])\n",
    "\n",
    "    tauPHTOTL=tau_phonon_B([tauPHNLf,tauPHULf,tauPHBLf,tauPHALLLf,tauPHeLfX3,tauPHeLfX1,tauPHNPLf],vartauPH0)#,tauPHNPLf,tauPHALLLf,tauPHeLf,tauPH_eLf ,tauPHALLLf ,tauPHBLf,,tauPHULf\n",
    "    tauPHNL=tau_phonon_B([tauPHNLf],vartauPH0)\n",
    "    tauPHRL=tau_phonon_B([tauPHULf,tauPHBLf,tauPHALLLf,tauPHeLfX3,tauPHeLfX1,tauPHNPLf],vartauPH0) #,tauPHNPLf,tauPHALLLf,tauPHeLf,tauPHALLLf,tauPH_eLf] ,tauPHBLf\n",
    "\n",
    "    tauPHTOTTx=tau_phonon_B([tauPHNTf,tauPHUTf,tauPHALLTf,tauPHeTfX3,tauPHeTfX1,tauPHBTf,tauPHNPTf],vartauPH0) #,tauPHNPTf,tauPHALLTf,tauPHeTf,tauPHALLTf,tauPH_eTf ,tauPHBTf\n",
    "    tauPHNTx=tau_phonon_B([tauPHNTf],vartauPH0)\n",
    "    tauPHRTx=tau_phonon_B([tauPHUTf,tauPHALLTf,tauPHeTfX3,tauPHeTfX1,tauPHBTf,tauPHNPTf],vartauPH0) #,tauPHNPTf,tauPHALLTf,tauPHeTf,tauPHALLTf,tauPH_eTf ,tauPHBTf#\n",
    "\n",
    "    tauPHTOTTy=tau_phonon_B([tauPHNTf,tauPHUTf,tauPHBTf,tauPHALLTf,tauPHeTfX3,tauPHeTfX1,tauPHNPTf],vartauPH0) #,tauPHNPTf,tauPHALLTf,tauPHeTf,tauPHALLTf,tauPH_eTf tauPHBTf\n",
    "    tauPHNTy=tau_phonon_B([tauPHNTf],vartauPH0)\n",
    "    tauPHRTy=tau_phonon_B([tauPHUTf,tauPHBTf,tauPHALLTf,tauPHeTfX3,tauPHeTfX1,tauPHNPTf],vartauPH0) #,tauPHNPTf,tauPHALLTf,tauPH_eTf ,tauPHBTf,tauPHALLTf,tauPHeTf\n",
    "    #println(\"4\")\n",
    "    tauPHL=[tauPHTOTL,tauPHNL,tauPHRL]\n",
    "    tauPHTx=[tauPHTOTTx,tauPHNTx,tauPHRTx]\n",
    "    tauPHTy=[tauPHTOTTx,tauPHNTx,tauPHRTx]\n",
    "    return (vartauPH0,tauPHTOTL,tauPHNL,tauPHRL,tauPHTOTTx,tauPHNTx,tauPHRTx,tauPHTOTTy,tauPHNTy,tauPHRTy,tauPHL,tauPHTx,tauPHTy)\n",
    "end\n",
    "xmax=1.0"
   ]
  },
  {
   "cell_type": "code",
   "execution_count": 13,
   "metadata": {},
   "outputs": [],
   "source": [
    "(vartauPH0,tauPHTOTL,tauPHNL,tauPHRL,tauPHTOTTx,tauPHNTx,tauPHRTx,tauPHTOTTy,tauPHNTy,tauPHRTy,tauPHL,tauPHTx,tauPHTy)=klpar(0.6,0.65,2.0)\n",
    "klsM=Array{Float64}(undef,length(Ts),length(numofn),length(xs))\n",
    "for (iT,iTx) in enumerate(Ts)    \n",
    "   (IL1,ITx1,IL2,ITx2,IL3,ITx3,kL,kTx,kTy,klsM[iT,1,1])= klt(tauPHTOTL,tauPHNL,tauPHRL,tauPHTOTTx,tauPHNTx,tauPHRTx,tauPHTOTTy,tauPHNTy,\n",
    "        tauPHRTy,iTx,[vartauPH0[21],vartauPH0[22],vartauPH0[22]])\n",
    "    #println(\"T=\", iTx, \" kl= \" ,round(klsM[iT,1,1]*10000)/10000)\n",
    "   # println(\"IL1= \",IL1,\" IL2= \",IL2,\" IL3= \",IL3,\" ITx1= \",ITx1,\" ITx2= \",ITx2,\" ITx3= \",ITx3,\" kL/3=\",kL,    \" kTx/3=\",kTx,\" kTy/3=\",kTy)\n",
    "end"
   ]
  },
  {
   "cell_type": "code",
   "execution_count": 14,
   "metadata": {},
   "outputs": [
    {
     "name": "stdout",
     "output_type": "stream",
     "text": [
      "0.8480913505997609\n",
      "0.8317153702654894\n",
      "0.8159585293291957\n",
      "0.8008117728520148\n",
      "0.7862634825262824\n",
      "0.7722999965438196\n",
      "0.7589060336135224\n",
      "0.7460650466595405\n",
      "0.7337595233454758\n",
      "0.721971244822532\n",
      "0.710681510293501\n",
      "0.6998713325660363\n",
      "0.6895216083094375\n",
      "0.6796132658967027\n",
      "0.6701273932367139\n",
      "0.661045347643168\n",
      "0.6523488493547008\n",
      "0.64402005973912\n",
      "0.6360416446273569\n",
      "0.6283968229771556\n",
      "0.6210694014467504\n",
      "0.6140437963321057\n",
      "0.6073050451365639\n",
      "0.6008388102899229\n",
      "0.5946313771766807\n",
      "0.588669647961099\n",
      "0.5829411319662521\n",
      "0.5774339335868833\n",
      "0.5721367376808827\n",
      "0.5670387930482271\n",
      "0.5621298943150156\n",
      "0.5574003625851195\n",
      "0.5528410252051332\n",
      "0.5484431949589744\n",
      "0.5441986489715608\n",
      "0.5400996075612337\n",
      "0.5361387132414717\n",
      "0.5323090100359656\n",
      "0.5286039232383533\n",
      "0.5250172397191708\n",
      "0.5215430888577922\n",
      "0.5181759241561087\n",
      "0.5149105055729877\n",
      "0.5117418826038697\n",
      "0.508665378117732\n",
      "0.5056765729538001\n",
      "0.5027712912724165\n",
      "0.4999455866481821\n",
      "0.4971957288885289\n",
      "0.49451819155710997\n",
      "0.4919096401785863\n",
      "0.48936692109937113\n",
      "0.48688705097756446\n",
      "0.48446720687449724\n",
      "0.48210471691996687\n",
      "0.4797970515232346\n",
      "0.47754181510214605\n",
      "0.4753367383032545\n",
      "0.4731796706864942\n",
      "0.4710685738487809\n",
      "0.4690015149618101\n"
     ]
    }
   ],
   "source": [
    "foreach(x->println(klsM[x,1,1]),1:length(Ts))"
   ]
  },
  {
   "cell_type": "code",
   "execution_count": 15,
   "metadata": {},
   "outputs": [
    {
     "data": {
      "image/png": "[encoded data removed]",
      "text/plain": [
       "Figure(PyObject <matplotlib.figure.Figure object at 0x7f8350ce7e48>)"
      ]
     },
     "metadata": {},
     "output_type": "display_data"
    }
   ],
   "source": [
    "plot(Ts,klsM[:,1,1],linestyle=\"-\",color=\"b\")\n",
    "grid()"
   ]
  },
  {
   "cell_type": "code",
   "execution_count": 16,
   "metadata": {},
   "outputs": [],
   "source": [
    "(vartauPH0,tauPHTOTL,tauPHNL,tauPHRL,tauPHTOTTx,tauPHNTx,tauPHRTx,tauPHTOTTy,tauPHNTy,tauPHRTy,tauPHL,tauPHTx,tauPHTy)=klpar(0.0,0.65,2.0)\n",
    "kls0=Array{Float64}(undef,length(Ts),length(numofn),length(xs))\n",
    "for (iT,iTx) in enumerate(Ts)    \n",
    "   (IL1,ITx1,IL2,ITx2,IL3,ITx3,kL,kTx,kTy,kls0[iT,1,1])= klt(tauPHTOTL,tauPHNL,tauPHRL,tauPHTOTTx,tauPHNTx,tauPHRTx,tauPHTOTTy,tauPHNTy,tauPHRTy,iTx,[vartauPH0[21],vartauPH0[22],vartauPH0[22]])\n",
    "    #println(\"T=\", iTx, \" kl= \" ,round(kls0[iT,1,1]*10000)/10000)\n",
    "    #println(\"IL1= \",IL1,\" IL2= \",IL2,\" IL3= \",IL3,\" ITx1= \",ITx1,\" ITx2= \",ITx2,\" ITx3= \",ITx3,\" kL/3=\",kL,    \" kTx/3=\",kTx,\" kTy/3=\",kTy)\n",
    "end"
   ]
  },
  {
   "cell_type": "code",
   "execution_count": 17,
   "metadata": {},
   "outputs": [
    {
     "name": "stdout",
     "output_type": "stream",
     "text": [
      "5.661630516632574\n",
      "5.521243711174546\n",
      "5.386134251800818\n",
      "5.256160292255135\n",
      "5.131159929605507\n",
      "5.010958440607731\n",
      "4.895373756092201\n",
      "4.784220578848285\n",
      "4.677313456158717\n",
      "4.574469046458188\n",
      "4.4755077649990875\n",
      "4.380254951772025\n",
      "4.28854167315886\n",
      "4.2002052445253\n",
      "4.115089542271333\n",
      "4.033045159063132\n",
      "3.9539294435569716\n",
      "3.8776064548243716\n",
      "3.8039468518203052\n",
      "3.732827730744832\n",
      "3.664132419467205\n",
      "3.597750238270996\n",
      "3.533576237856981\n",
      "3.471510926092439\n",
      "3.411459993388949\n",
      "3.3533340434403844\n",
      "3.297048332179964\n",
      "3.242522518826837\n",
      "3.1896804269997827\n",
      "3.138449817110105\n",
      "3.088762169582024\n",
      "3.0405524786736144\n",
      "2.9937590566686496\n",
      "2.9483233481976967\n",
      "2.9041897544218642\n",
      "2.861305466781275\n",
      "2.8196203099786583\n",
      "2.7790865938415705\n",
      "2.7396589736862267\n",
      "2.701294318792666\n",
      "2.6639515885945824\n",
      "2.627591716186631\n",
      "2.5921774987563553\n",
      "2.557673494556201\n",
      "2.524045926042233\n",
      "2.4912625888194864\n",
      "2.4592927660486863\n",
      "2.4281071479847904\n",
      "2.3976777563339478\n",
      "2.367977873131863\n",
      "2.338981973862806\n",
      "2.3106656645543704\n",
      "2.2830056225986985\n",
      "2.2559795410657064\n",
      "2.2295660762883114\n",
      "2.2037447985132363\n",
      "2.178496145424053\n",
      "2.1538013783553573\n",
      "2.1296425410286783\n",
      "2.106002420651588\n",
      "2.082864511231866\n"
     ]
    }
   ],
   "source": [
    "foreach(x->println(kls0[x,1,1]),1:length(Ts))"
   ]
  },
  {
   "cell_type": "code",
   "execution_count": 18,
   "metadata": {},
   "outputs": [],
   "source": [
    "(vartauPH0,tauPHTOTL,tauPHNL,tauPHRL,tauPHTOTTx,tauPHNTx,tauPHRTx,tauPHTOTTy,tauPHNTy,tauPHRTy,tauPHL,tauPHTx,tauPHTy)=klpar(1.0,0.5,2.0)\n",
    "kls1=Array{Float64}(undef,length(Ts),length(numofn),length(xs))\n",
    "for (iT,iTx) in enumerate(Ts)    \n",
    "   (IL1,ITx1,IL2,ITx2,IL3,ITx3,kL,kTx,kTy,kls1[iT,1,1])= klt(tauPHTOTL,tauPHNL,tauPHRL,tauPHTOTTx,tauPHNTx,tauPHRTx,tauPHTOTTy,tauPHNTy,tauPHRTy,iTx,[vartauPH0[21],vartauPH0[22],vartauPH0[22]])\n",
    "   # println(\"T=\", iTx, \" kl= \" ,round(kls1[iT,1,1]*10000)/10000)\n",
    "   # println(\"IL1= \",IL1,\" IL2= \",IL2,\" IL3= \",IL3,\" ITx1= \",ITx1,\" ITx2= \",ITx2,\" ITx3= \",ITx3,\" kL/3=\",kL,    \" kTx/3=\",kTx,\" kTy/3=\",kTy)\n",
    "end"
   ]
  },
  {
   "cell_type": "code",
   "execution_count": 19,
   "metadata": {},
   "outputs": [
    {
     "name": "stdout",
     "output_type": "stream",
     "text": [
      "3.269426802556362\n",
      "3.219033396902935\n",
      "3.169892062558334\n",
      "3.1219904245845296\n",
      "3.075310171194779\n",
      "3.0298285837932255\n",
      "2.9855197347313465\n",
      "2.942355425636783\n",
      "2.900305922282694\n",
      "2.8593405292563463\n",
      "2.8194280380898196\n",
      "2.7805370752741396\n",
      "2.742636371144218\n",
      "2.705694966578784\n",
      "2.669682371434494\n",
      "2.634568686211512\n",
      "2.6003246961430713\n",
      "2.5669219442957534\n",
      "2.534332787348902\n",
      "2.502530435161141\n",
      "2.471488974063291\n",
      "2.441183374483367\n",
      "2.4115894852291735\n",
      "2.3826840181113162\n",
      "2.3544445267841336\n",
      "2.3268493827760843\n",
      "2.2998777499535294\n",
      "2.273509559700168\n",
      "2.2477254855961495\n",
      "2.222506918437828\n",
      "2.1978359414575395\n",
      "2.1736953057672195\n",
      "2.150068406076883\n",
      "2.12693925675848\n",
      "2.104292468333098\n",
      "2.0821132244568843\n",
      "2.060387259472328\n",
      "2.039100836579847\n",
      "2.018240726671999\n",
      "1.9977941878607044\n",
      "1.977748945716946\n",
      "1.9580931742331655\n",
      "1.9388154775105724\n",
      "1.919904872167294\n",
      "1.901350770457997\n",
      "1.8831429640915915\n",
      "1.8652716087304475\n",
      "1.8477272091522743\n",
      "1.8305006050539498\n",
      "1.8135829574755746\n",
      "1.7969657358221662\n",
      "1.7806407054600577\n",
      "1.7645999158649506\n",
      "1.7488356892986727\n",
      "1.733340609992015\n",
      "1.7181075138113924\n",
      "1.7031294783876643\n",
      "1.6883998136860183\n",
      "1.6739120529965108\n",
      "1.6596599443255604\n",
      "1.64563744216942\n"
     ]
    }
   ],
   "source": [
    "foreach(x->println(kls1[x,1,1]),1:length(Ts))"
   ]
  },
  {
   "cell_type": "code",
   "execution_count": 20,
   "metadata": {},
   "outputs": [
    {
     "data": {
      "image/png": "[encoded data removed]",
      "text/plain": [
       "Figure(PyObject <matplotlib.figure.Figure object at 0x7f832555f710>)"
      ]
     },
     "metadata": {},
     "output_type": "display_data"
    }
   ],
   "source": [
    "plot(Ts,klsM[:,1,1],linestyle=\"-\",color=\"b\")\n",
    "plot(Ts,kls0[:,1,1],linestyle=\"-\",color=\"r\")\n",
    "\n",
    "plot(Ts,kls1[:,1,1],linestyle=\"-\",color=\"k\")\n",
    "grid()"
   ]
  },
  {
   "cell_type": "code",
   "execution_count": 21,
   "metadata": {},
   "outputs": [
    {
     "data": {
      "text/plain": [
       "6.77e-10"
      ]
     },
     "execution_count": 21,
     "metadata": {},
     "output_type": "execute_result"
    }
   ],
   "source": [
    "yaa=0.6\n",
    "aMgSi=6.39e-10\n",
    "aMgSn=6.77e-10"
   ]
  },
  {
   "cell_type": "code",
   "execution_count": 22,
   "metadata": {},
   "outputs": [],
   "source": [
    "ks=Array{Float64}(undef,length(Ts),length(numofn),length(xs))\n",
    "klsT=Array{Float64}(undef,length(Ts),length(numofn),length(xs))\n",
    "f=0.35\n",
    "for (iT,iTx) in enumerate(Ts)  \n",
    "    klsT[iT,1,1]=(1-f)*klsM[iT,1,1]+f*(kls1[iT,1,1]*(1-yaa)aMgSn^3/((1-yaa)*aMgSn^3+yaa*aMgSi^3)+kls0[iT,1,1]*(yaa)aMgSi^3/((1-yaa)*aMgSn^3+yaa*aMgSi^3))\n",
    "       ks[iT,1,1]=klsT[iT,1,1]+kes[iT,1,1]+kbis[iT,1,1,] \n",
    "    #println(\"T=\", iTx, \" kl= \" ,round(klsT[iT,1,1]*10000)/10000)\n",
    "    #println(\"IL1= \",IL1,\" IL2= \",IL2,\" IL3= \",IL3,\" ITx1= \",ITx1,\" ITx2= \",ITx2,\" ITx3= \",ITx3,\" kL/3=\",kL,    \" kTx/3=\",kTx,\" kTy/3=\",kTy)\n",
    "end"
   ]
  },
  {
   "cell_type": "code",
   "execution_count": 23,
   "metadata": {},
   "outputs": [
    {
     "data": {
      "text/plain": [
       "5-element Array{Float64,1}:\n",
       " 7.16256157635468\n",
       " 5.26108374384236\n",
       " 4.14778325123153\n",
       " 3.38916256157635\n",
       " 2.89655172413793"
      ]
     },
     "execution_count": 23,
     "metadata": {},
     "output_type": "execute_result"
    }
   ],
   "source": [
    "MgSn_KL_T=[303.381209787804   ,404.509621648526   ,508.944674606021   ,609.64854815216    ,715.169193157614]\n",
    "MgSn_KL_K=[ 7.16256157635468, 5.26108374384236, 4.14778325123153, 3.38916256157635, 2.89655172413793]"
   ]
  },
  {
   "cell_type": "code",
   "execution_count": 24,
   "metadata": {},
   "outputs": [
    {
     "data": {
      "image/png": "[encoded data removed]",
      "text/plain": [
       "Figure(PyObject <matplotlib.figure.Figure object at 0x7f8325572f98>)"
      ]
     },
     "metadata": {},
     "output_type": "display_data"
    }
   ],
   "source": [
    "figure()\n",
    "#semilogy(Ts,kls[:,1,1],linestyle=\"-\",color=\"c\")\n",
    "#plot(Ts,kls0[:,1,1],linestyle=\"-\",color=\"b\")\n",
    "#plot(Ts,kls1[:,1,1],linestyle=\"-\",color=\"c\")\n",
    "#plot(Ts,klsM[:,1,1],linestyle=\"-\",color=\"k\")\n",
    "plot(Ts,klsT[:,1,1]+kes[:,1,1]+kbis[:,1,1],linestyle=\"-\",color=\"r\")\n",
    "#ylim(0,4.5)\n",
    "grid(true)\n",
    "#kes,kees,kehs,kbis"
   ]
  },
  {
   "cell_type": "code",
   "execution_count": 25,
   "metadata": {},
   "outputs": [
    {
     "data": {
      "text/plain": [
       "9-element Array{Float64,1}:\n",
       "  1.6\n",
       "  1.7\n",
       "  3.8\n",
       "  7.8\n",
       " 12.2\n",
       " 25.6\n",
       " 40.8\n",
       " 68.0\n",
       " 62.0"
      ]
     },
     "execution_count": 25,
     "metadata": {},
     "output_type": "execute_result"
    }
   ],
   "source": [
    "MgSiSn4hECE=[10,12.4,20.5,35.8,43.2,69.6,82.8,100,110]\n",
    "MgSiSn2hECE=[3,4.4,8.5,15.8,22.2,55.6,50.8,68,80]\n",
    "MgSiSn1hECE=[2,4.2,3.7,11.8,22.2,25.6,30.8,48,64]\n",
    "MgSiSn0hECE=[1.6,1.7,3.8,7.8,12.2,25.6,40.8,68,62]"
   ]
  },
  {
   "cell_type": "code",
   "execution_count": 26,
   "metadata": {},
   "outputs": [
    {
     "data": {
      "text/plain": [
       "9-element Array{Float64,1}:\n",
       " 2.1168755981\n",
       " 2.0268355263\n",
       " 1.9150855263\n",
       " 1.8140986842\n",
       " 1.7209888158\n",
       " 1.8544934211\n",
       " 1.9231644737\n",
       " 2.0605065789\n",
       " 2.1816907895"
      ]
     },
     "execution_count": 26,
     "metadata": {},
     "output_type": "execute_result"
    }
   ],
   "source": [
    "MgSiSn4hKCT=[27.204980536447565,125.22263104569937,250.3986028902043, 300.61256865568174,350.4225990508186, 400.31661600810537,\n",
    "450.60323681544304,500.88852450274595,550.37460672959,]\n",
    "MgSiSn4hKCK=[ 2.8789473684210525, 2.7375, 2.609210526315789, 2.5121710526315786, 2.4184210526315786, 2.531907894736842, 2.614144736842105\n",
    ", 2.6930921052631573, 2.7999999999999994]\n",
    "MgSiSn2hKCT=[27.174994546327184, 125.66321921825845, 250.56521889830958, 300.8030294412153, 350.04276302458277,400.3366068836394, \n",
    "450.6409643790327, 500.95101524496823,550.7594666065552]\n",
    "MgSiSn2hKCK=[2.608956937799043, 2.4846513157894736, 2.4523355263157893, 2.3861330409356722, 2.3131756578947367\n",
    ", 2.385235380116959, 2.4832374999999995, 2.595288011695906, 2.697641746411483]\n",
    "MgSiSn05hKCT=[26.1867119039,124.6184700145,249.7991072943,300.1809590466,349.8324946796,399.3641637338,450.1016014407,\n",
    "450.7811561579,549.7232004091,500.4092678505]\n",
    "MgSiSn05hKCK=[2.4217028509,2.3627326555,2.2459551435,2.1025076754,2.0223385167,2.2370652412,2.3803594498,2.302875,\n",
    "2.5966549043,2.5105263158]\n",
    "MgSiSn2h2TiO2KCT=[450.7811561579,26.5677491601,125.429931211,250.6172345758,300.4185996907,350.6278995361,\n",
    "400.1639737642,500.3759398496,550.2639577668]\n",
    "MgSiSn2h2TiO2KCK=[2.302875,2.3065789474,2.2490131579,2.1486842105,2.0335526316,1.925,2.1552631579,2.4282894737,\n",
    "2.5269736842]\n",
    "MgSiSn2h5TiO2KCT=[27.3549565403,124.5907321495,250.1753052845,299.9806697595,350.1926358449,400.1339785634,\n",
    "450.0339945609,500.3299472084,550.6152348958]\n",
    "MgSiSn2h5TiO2KCK=[2.2490131579,2.1782894737,2.0582236842,1.9529605263,1.8509868421,2.08125,2.2095394737,2.3148026316,\n",
    "2.39375]\n",
    "MgSiSn0hKCT=[26.9755694846,125.1437396683,250.3474884019,300.0735322348,349.8027683571,400.6191835973,449.916314723,\n",
    "500.2366154749,550.052698235]\n",
    "MgSiSn0hKCK=[2.1168755981,2.0268355263,1.9150855263,1.8140986842,1.7209888158,1.8544934211,1.9231644737,2.0605065789,\n",
    "2.1816907895]"
   ]
  },
  {
   "cell_type": "code",
   "execution_count": 27,
   "metadata": {},
   "outputs": [
    {
     "data": {
      "image/png": "[encoded data removed]",
      "text/plain": [
       "Figure(PyObject <matplotlib.figure.Figure object at 0x7f8350d39cf8>)"
      ]
     },
     "metadata": {},
     "output_type": "display_data"
    },
    {
     "data": {
      "image/png": "[encoded data removed]",
      "text/plain": [
       "Figure(PyObject <matplotlib.figure.Figure object at 0x7f8325431be0>)"
      ]
     },
     "metadata": {},
     "output_type": "display_data"
    }
   ],
   "source": [
    "\n",
    "figure()\n",
    "plot(Ts,sigmas[:,1,1]/100,linestyle=\"-\",color=\"b\")\n",
    "#plot(Ts,sigmas[:,2,2]/100/6^(2/3),linestyle=\"-\",color=\"r\")\n",
    "#plot(Ts,sigmas[:,3,3]/100/6^(2/3),linestyle=\"-\",color=\"k\")\n",
    "#plot(Ts,sigmas[:,4,4]/100/6^(2/3),linestyle=\"-\",color=\"g\")\n",
    "plot(MgSiSn4hKCT .+273,MgSiSn4hECE,linestyle=\"None\",marker=\".\",markersize=10,color=\"r\")\n",
    "#plot(MgSiSn4hKCT .+273,MgSiSn2hECE,linestyle=\"None\",marker=\".\",markersize=10,color=\"k\")\n",
    "#plot(MgSiSn4hKCT .+273,MgSiSn1hECE,linestyle=\"None\",marker=\".\",markersize=10,color=\"b\")\n",
    "#plot(MgSiSn4hKCT .+273,MgSiSn0hECE,linestyle=\"None\",marker=\".\",markersize=10,color=\"g\")\n",
    "#plot(SiGe_Suin_EC_T,SiGe_Suin_Green_EC_E/100,linestyle=\"None\",marker=\"x\",markersize=2,color=\"g\")\n",
    "#plot(SiGe_Suin_EC_T,SiGe_Suin_Blue_EC_E/100,linestyle=\"None\",marker=\"o\",markersize=2,color=\"b\")\n",
    "#plot(SiGe_Suin_EC_T,SiGe_Suin_Pink_EC_E/100,linestyle=\"None\",marker=\"o\",markersize=2,color=\"r\")\n",
    "#plot(SiGe_Suin_EC_T,SiGe_Suin_Black_EC_E/100,linestyle=\"None\",marker=\"o\",markersize=2,color=\"k\")\n",
    "grid()\n",
    "\n",
    "figure()\n",
    "plot(Ts,-seebecks[:,1,1]*1e6,linestyle=\"-\",color=\"b\")\n",
    "#plot(Ts,-seebecks[:,2,2]*1e6,linestyle=\"-\",color=\"r\")\n",
    "#plot(Ts,-seebecks[:,3,3]*1e6,linestyle=\"-\",color=\"k\")\n",
    "#plot(Ts,-seebecks[:,4,4]*1e6,linestyle=\"-\",color=\"g\")\n",
    "#plot(Ts,-seebecks[:,2,2]*1e6,linestyle=\"-\",color=\"b\")\n",
    "#plot(SiGe_Vin_162_Bulk_SC_T,SiGe_Vin_162_Bulk_SC_S,linestyle=\"None\",marker=\".\",markersize=10,color=\"r\")\n",
    "#plot(SiGe_Suin_EC_T,-SiGe_Suin_Green_SC_S,linestyle=\"None\",marker=\"x\",markersize=2,color=\"g\")\n",
    "#plot(SiGe_Suin_EC_T,-SiGe_Suin_Blue_SC_S,linestyle=\"None\",marker=\"x\",markersize=2,color=\"b\")\n",
    "#plot(SiGe_Suin_EC_T,-SiGe_Suin_Pink_SC_S,linestyle=\"None\",marker=\"x\",markersize=2,color=\"r\")\n",
    "#plot(SiGe_Suin_EC_T,-SiGe_Suin_Black_SC_S,linestyle=\"None\",marker=\"x\",markersize=2,color=\"k\")\n",
    "grid()"
   ]
  },
  {
   "cell_type": "code",
   "execution_count": 28,
   "metadata": {},
   "outputs": [
    {
     "data": {
      "image/png": "[encoded data removed]",
      "text/plain": [
       "Figure(PyObject <matplotlib.figure.Figure object at 0x7f8325414dd8>)"
      ]
     },
     "metadata": {},
     "output_type": "display_data"
    },
    {
     "name": "stderr",
     "output_type": "stream",
     "text": [
      "No handles with labels found to put in legend.\n"
     ]
    }
   ],
   "source": [
    "figure()\n",
    "title(\"k\")\n",
    "plot(Ts,klsT[:,1,1]+kes[:,1,1]+kbis[:,1,1],linestyle=\"-\",color=\"r\")\n",
    "#plot(Ts,klsT[:,1,1]+kes[:,1,1]+kbis[:,1,1],linestyle=\"-\",color=\"r\")\n",
    "#plot(Ts,klsT[:,1,1]+kes[:,1,1]+kbis[:,1,1],linestyle=\"-\",color=\"r\")\n",
    "#plot(Ts,klsT[:,1,1]+kes[:,1,1]+kbis[:,1,1],linestyle=\"-\",color=\"r\")\n",
    "plot(MgSiSn4hKCT .+273,MgSiSn4hKCK,linestyle=\"None\",marker=\"o\",markersize=7,color=\"k\")\n",
    "#plot(MgSiSn2hKCT .+273,MgSiSn2hKCK,linestyle=\"None\",marker=\"^\",markersize=7,color=\"b\")\n",
    "#plot(MgSiSn05hKCT .+273,MgSiSn05hKCK,linestyle=\"None\",marker=\"D\",markersize=7,color=\"g\")\n",
    "#plot(MgSiSn2h2TiO2KCT  .+273,MgSiSn2h2TiO2KCK,linestyle=\"None\",marker=\"8\",markersize=7,color=\"tab:pink\")\n",
    "#plot(MgSiSn2h5TiO2KCT .+273,MgSiSn2h5TiO2KCK,linestyle=\"None\",marker=\"*\",markersize=7,color=\"tab:purple\")\n",
    "#plot(MgSiSn0hKCT .+273,MgSiSn0hKCK,linestyle=\"None\",marker=\"s\",markersize=7,color=\"r\",label=\"4 h\")\n",
    "#plot(SiGe_SA_162_Bulk_KC_T,SiGe_SA_162_Bulk_KC_KL,linestyle=\"None\",marker=\"o\",markersize=7,color=\"b\")\n",
    "#plot(SiGe_SA_162_Bulk_KC_T2,SiGe_SA_162_Bulk_KC_K2,linestyle=\"None\",marker=\"o\",markersize=7,color=\"g\")\n",
    "legend(loc=\"upper left\")\n",
    "#ylim(1.5,5.0)\n",
    "grid()"
   ]
  },
  {
   "cell_type": "code",
   "execution_count": 29,
   "metadata": {
    "scrolled": false
   },
   "outputs": [
    {
     "data": {
      "text/plain": [
       "61-element Array{Float64,1}:\n",
       " 300.0\n",
       " 310.0\n",
       " 320.0\n",
       " 330.0\n",
       " 340.0\n",
       " 350.0\n",
       " 360.0\n",
       " 370.0\n",
       " 380.0\n",
       " 390.0\n",
       " 400.0\n",
       " 410.0\n",
       " 420.0\n",
       "   ⋮  \n",
       " 790.0\n",
       " 800.0\n",
       " 810.0\n",
       " 820.0\n",
       " 830.0\n",
       " 840.0\n",
       " 850.0\n",
       " 860.0\n",
       " 870.0\n",
       " 880.0\n",
       " 890.0\n",
       " 900.0"
      ]
     },
     "execution_count": 29,
     "metadata": {},
     "output_type": "execute_result"
    }
   ],
   "source": [
    "Ts"
   ]
  },
  {
   "cell_type": "code",
   "execution_count": 30,
   "metadata": {},
   "outputs": [
    {
     "name": "stdout",
     "output_type": "stream",
     "text": [
      "2.1928344876797095\n",
      "2.1469019968705725\n",
      "2.102592369984007\n",
      "2.0598960810016327\n",
      "2.0188094751926773\n",
      "1.9793429895454322\n",
      "1.9415310531014955\n",
      "1.9054441344362483\n",
      "1.8712032206009728\n",
      "1.8389966230638584\n",
      "1.8090982675884966\n",
      "1.7818853654553046\n",
      "1.75786073334024\n",
      "1.7376329267912758\n",
      "1.7219154286129554\n",
      "1.7114843795792016\n",
      "1.7071027443988978\n",
      "1.7094309501621496\n",
      "1.7189421369203712\n",
      "1.7358720611989433\n",
      "1.7602230989159027\n",
      "1.7918187673830543\n",
      "1.830384502161703\n",
      "1.8756252861835687\n",
      "1.9272807596291406\n",
      "1.985153043715559\n",
      "2.049111994889056\n",
      "2.119088299385405\n",
      "2.1950602440285443\n",
      "2.2770398960750384\n",
      "2.365060966181031\n",
      "2.460189549869887\n",
      "2.560965406295935\n",
      "2.6677503844591577\n",
      "2.7806804929855127\n",
      "2.8998263181872908\n",
      "3.025236482356784\n",
      "3.1569460488931513\n",
      "3.2949791543780567\n",
      "3.4393501560747346\n",
      "3.5900643205214537\n",
      "3.747118358345828\n",
      "3.910500905734194\n",
      "4.080192986192008\n",
      "4.256168462853768\n",
      "4.4383944833382545\n",
      "4.626831916420991\n",
      "4.82143577912232\n",
      "5.022155652857281\n",
      "5.228936087552806\n",
      "5.442723957165634\n",
      "5.661807535937472\n",
      "5.886610037530793\n",
      "6.117134022993451\n",
      "6.353332762250982\n",
      "6.595142975284073\n",
      "6.8424929670994\n",
      "7.09530574737707\n",
      "7.353500572649383\n",
      "7.616993858907605\n",
      "7.885699798869478\n"
     ]
    }
   ],
   "source": [
    "foreach(x->println(ks[x,1,1]),1:length(Ts))"
   ]
  },
  {
   "cell_type": "code",
   "execution_count": 31,
   "metadata": {},
   "outputs": [
    {
     "name": "stdout",
     "output_type": "stream",
     "text": [
      "52.3103370157488\n",
      "50.360890398234204\n",
      "48.52451985697692\n",
      "46.7932242436255\n",
      "45.16041298485509\n",
      "43.621076186195175\n",
      "42.17206225307479\n",
      "40.81248292013864\n",
      "39.5442614269132\n",
      "38.37282885283163\n",
      "37.30795147767037\n",
      "36.364632224283135\n",
      "35.57225141624408\n",
      "34.952811621214195\n",
      "34.53895916982235\n",
      "34.372325646531436\n",
      "34.49769032555428\n",
      "34.96061597658175\n",
      "35.803971344775285\n",
      "37.06467433430115\n",
      "38.77157896224931\n",
      "40.94497292569153\n",
      "43.59753179061784\n",
      "46.73613583144993\n",
      "50.36387355967083\n",
      "54.48176286119717\n",
      "59.090062081611705\n",
      "64.1889761018985\n",
      "69.77907286082251\n",
      "75.86141931013864\n",
      "82.43756239514033\n",
      "89.68471109541525\n",
      "97.34272155770219\n",
      "105.46989760427203\n",
      "114.08442069777415\n",
      "123.1937289708995\n",
      "132.802354392324\n",
      "142.9134966548366\n",
      "153.52951229477\n",
      "164.65210033440556\n",
      "176.28238227333117\n",
      "188.420941146423\n",
      "201.06784427666338\n",
      "214.22265997049868\n",
      "227.8844726005054\n",
      "242.05189798284837\n",
      "256.72309979034475\n",
      "271.895807192494\n",
      "287.56733365749307\n",
      "303.73459673849106\n",
      "320.5621409520039\n",
      "337.77119959969536\n",
      "355.4399969662374\n",
      "373.5763977620472\n",
      "392.1803053613686\n",
      "411.2490936482513\n",
      "430.7789298122081\n",
      "450.76526312075293\n",
      "471.2030532185207\n",
      "492.0868957393891\n",
      "513.4111007066098\n"
     ]
    }
   ],
   "source": [
    "foreach(x->println(sigmas[x,1,1]/100),1:length(Ts))"
   ]
  },
  {
   "cell_type": "code",
   "execution_count": 32,
   "metadata": {},
   "outputs": [
    {
     "name": "stdout",
     "output_type": "stream",
     "text": [
      "417.47138417689484\n",
      "423.4652896473618\n",
      "429.25608082690843\n",
      "434.8407058969002\n",
      "440.20954059698835\n",
      "445.3425805201018\n",
      "450.2041672629103\n",
      "454.7358980060732\n",
      "458.8474741115636\n",
      "462.4055558397121\n",
      "465.2213695356057\n",
      "467.0390676112311\n",
      "467.5007446149665\n",
      "466.22575821751974\n",
      "462.77645384576937\n",
      "456.71130121048407\n",
      "447.67760965355234\n",
      "435.50283684337603\n",
      "420.27168135258734\n",
      "402.35219546103025\n",
      "382.35164917560274\n",
      "361.01451165713905\n",
      "339.10045809182395\n",
      "317.2826837462227\n",
      "296.0888690036768\n",
      "275.8852246471601\n",
      "256.89127847830304\n",
      "239.2086742884196\n",
      "222.85357513604566\n",
      "207.78539666340268\n",
      "193.92945210729252\n",
      "181.12450317159113\n",
      "169.38734582545948\n",
      "158.58796526079763\n",
      "148.62367033555458\n",
      "139.4046192484537\n",
      "130.85060812180413\n",
      "122.89025196682694\n",
      "115.46032166769014\n",
      "108.50502959071538\n",
      "101.97528256517417\n",
      "95.82794272732387\n",
      "90.02512635455079\n",
      "84.53355810658528\n",
      "79.32398842389765\n",
      "74.37067545541794\n",
      "69.65092904770039\n",
      "65.14471223697069\n",
      "60.83429473183527\n",
      "56.703952623995086\n",
      "52.72411151950348\n",
      "48.90877029420018\n",
      "45.23860885239143\n",
      "41.70229539098532\n",
      "38.29033395735375\n",
      "34.99438072269394\n",
      "31.806993783158404\n",
      "28.721485634439397\n",
      "25.731816768298046\n",
      "22.83251170770095\n",
      "20.018589816315277\n"
     ]
    }
   ],
   "source": [
    "foreach(x->println(-seebecks[x,1,1]*1e6),1:length(Ts))"
   ]
  },
  {
   "cell_type": "code",
   "execution_count": 33,
   "metadata": {},
   "outputs": [
    {
     "name": "stdout",
     "output_type": "stream",
     "text": [
      "0.03023141992357346\n",
      "0.030118567548337895\n",
      "0.029974171873603996\n",
      "0.029803468397784652\n",
      "0.02961151834581511\n",
      "0.029403484598511477\n",
      "0.029185012397529807\n",
      "0.028962742167768476\n",
      "0.02874498283261993\n",
      "0.028542568915883994\n",
      "0.028369908523649914\n",
      "0.028246194724691764\n",
      "0.028203510198724455\n",
      "0.028270075126207342\n",
      "0.028484975585579053\n",
      "0.02889790361713526\n",
      "0.029564832371057878\n",
      "0.03054616285553513\n",
      "0.031903492562390154\n",
      "0.033696126248101824\n",
      "0.035978278160007274\n",
      "0.03879762165609858\n",
      "0.042195286032495366\n",
      "0.04620690685326273\n",
      "0.050864137955566074\n",
      "0.05619613612150129\n",
      "0.06223081901039035\n",
      "0.06899562273332233\n",
      "0.07651801218908716\n",
      "0.08482571651154586\n",
      "0.0939467956771583\n",
      "0.1041694381255569\n",
      "0.11514336659987157\n",
      "0.1269743944859818\n",
      "0.13971294699866466\n",
      "0.15339441811115206\n",
      "0.16805029165165453\n",
      "0.1837103499615732\n",
      "0.2004033478547127\n",
      "0.21815725597978908\n",
      "0.23699935224677904\n",
      "0.2569562527874545\n",
      "0.2780539177110175\n",
      "0.3003176467235775\n",
      "0.3237720714671761\n",
      "0.34844114778191204\n",
      "0.3743481493656735\n",
      "0.40151566345099043\n",
      "0.42996558868782087\n",
      "0.45971913520239727\n",
      "0.49114522124146354\n",
      "0.5236986434800377\n",
      "0.5575659896171739\n",
      "0.5927903625107236\n",
      "0.6293987584313703\n",
      "0.6674130245117249\n",
      "0.7068524797575706\n",
      "0.7477348568975568\n",
      "0.7900767244027009\n",
      "0.8338937059524749\n",
      "0.879200608320176\n"
     ]
    }
   ],
   "source": [
    "foreach(x->println(kes[x,1,1]),1:length(Ts))"
   ]
  },
  {
   "cell_type": "code",
   "execution_count": 34,
   "metadata": {},
   "outputs": [
    {
     "name": "stdout",
     "output_type": "stream",
     "text": [
      "2.9568410821642e-5\n",
      "6.084915697537923e-5\n",
      "0.0001200427245790142\n",
      "0.00022788039872273063\n",
      "0.00041763963652188894\n",
      "0.0007411011315819092\n",
      "0.0012765387177046867\n",
      "0.002139074983617307\n",
      "0.003493577987332528\n",
      "0.00556991045847551\n",
      "0.008679635095397901\n",
      "0.01323206542651358\n",
      "0.019748172255186623\n",
      "0.028857239134374612\n",
      "0.04128115382154995\n",
      "0.05779227837693187\n",
      "0.07914185687507329\n",
      "0.10597245385334242\n",
      "0.13873640804440213\n",
      "0.17764921910333945\n",
      "0.22269636235534904\n",
      "0.2736892924458805\n",
      "0.33034626788158084\n",
      "0.3923689831289844\n",
      "0.4594962246570228\n",
      "0.5315302703430289\n",
      "0.6083409469006593\n",
      "0.6898580271656759\n",
      "0.7760575506095068\n",
      "0.8669478267756654\n",
      "0.9625572895704534\n",
      "1.0636854977382317\n",
      "1.1692430629222088\n",
      "1.27950557301705\n",
      "1.3945771924383765\n",
      "1.514510773017758\n",
      "1.6393402389765872\n",
      "1.7690868291384556\n",
      "1.9037610987379971\n",
      "2.0433638652033888\n",
      "2.1878868449468025\n",
      "2.3373131948579915\n",
      "2.491618023725283\n",
      "2.6507688922110644\n",
      "2.8147263048509488\n",
      "2.983444192939687\n",
      "3.1568703861748166\n",
      "3.334947071111917\n",
      "3.517611234964166\n",
      "3.704795093756349\n",
      "3.897085073930913\n",
      "4.09332273973625\n",
      "4.29375243998578\n",
      "4.498341010952241\n",
      "4.707021777580401\n",
      "4.919716354161764\n",
      "5.13634017427147\n",
      "5.356804683630543\n",
      "5.581018474470291\n",
      "5.808887992069424\n",
      "6.040318036771838\n"
     ]
    }
   ],
   "source": [
    "foreach(x->println(kbis[x,1,1]),1:length(Ts))"
   ]
  },
  {
   "cell_type": "code",
   "execution_count": 35,
   "metadata": {},
   "outputs": [
    {
     "name": "stdout",
     "output_type": "stream",
     "text": [
      "2.1625734993453145\n",
      "2.116722580165259\n",
      "2.072498155385824\n",
      "2.0298647322051253\n",
      "1.9887803172103402\n",
      "1.949198403815339\n",
      "1.911069501986261\n",
      "1.8743423172848626\n",
      "1.8389646597810203\n",
      "1.804884143689499\n",
      "1.7720487239694487\n",
      "1.7404071053040993\n",
      "1.709909050886329\n",
      "1.6805056125306939\n",
      "1.6521492992058266\n",
      "1.6247941975851345\n",
      "1.5983960551527667\n",
      "1.572912333453272\n",
      "1.5483022363135788\n",
      "1.524526715847502\n",
      "1.5015484584005463\n",
      "1.4793318532810753\n",
      "1.4578429482476265\n",
      "1.4370493962013218\n",
      "1.4169203970165518\n",
      "1.3974266372510287\n",
      "1.3785402289780062\n",
      "1.3602346494864066\n",
      "1.3424846812299502\n",
      "1.325266352787827\n",
      "1.3085568809334194\n",
      "1.2923346140060983\n",
      "1.276578976773855\n",
      "1.2612704169561262\n",
      "1.2463903535484715\n",
      "1.2319211270583805\n",
      "1.2178459517285423\n",
      "1.2041488697931226\n",
      "1.1908147077853468\n",
      "1.1778290348915565\n",
      "1.165178123327872\n",
      "1.1528489107003823\n",
      "1.1408289642978937\n",
      "1.1291064472573662\n",
      "1.117670086535643\n",
      "1.1065091426166556\n",
      "1.0956133808805006\n",
      "1.0849730445594128\n",
      "1.0745788292052945\n",
      "1.0644218585940597\n",
      "1.0544936619932574\n",
      "1.0447861527211841\n",
      "1.0352916079278391\n",
      "1.0260026495304864\n",
      "1.0169122262392114\n",
      "1.0080135966105839\n",
      "0.9993003130703592\n",
      "0.9907662068489711\n",
      "0.9824053737763918\n",
      "0.9742121608857058\n",
      "0.9661811537774634\n"
     ]
    }
   ],
   "source": [
    "foreach(x->println(klsT[x,1,1]),1:length(Ts))"
   ]
  }
 ],
 "metadata": {
  "kernelspec": {
   "display_name": "Julia 1.0.1",
   "language": "julia",
   "name": "julia-1.0"
  },
  "language_info": {
   "file_extension": ".jl",
   "mimetype": "application/julia",
   "name": "julia",
   "version": "1.0.1"
  }
 },
 "nbformat": 4,
 "nbformat_minor": 1
}
