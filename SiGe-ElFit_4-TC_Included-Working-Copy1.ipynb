{
 "cells": [
  {
   "cell_type": "code",
   "execution_count": 1,
   "metadata": {
    "collapsed": false
   },
   "outputs": [
    {
     "data": {
      "text/plain": [
       "electronicthermalPropsiso (generic function with 1 method)"
      ]
     },
     "execution_count": 1,
     "metadata": {},
     "output_type": "execute_result"
    }
   ],
   "source": [
    "using constants\n",
    "using types\n",
    "using Optim\n",
    "using PyPlot\n",
    "using data\n",
    "include(\"DOSfunctions.jl\")\n",
    "include(\"userfunctions.jl\")\n",
    "include(\"propertyfuncs.jl\")"
   ]
  },
  {
   "cell_type": "code",
   "execution_count": 2,
   "metadata": {
    "collapsed": false
   },
   "outputs": [
    {
     "data": {
      "text/html": [
       "3.0"
      ],
      "text/plain": [
       "3.0"
      ]
     },
     "execution_count": 2,
     "metadata": {},
     "output_type": "execute_result"
    }
   ],
   "source": [
    "Ts=collect(300.0:20.0:800.0)\n",
    "#Ts=collect(663.8:0.01:664.0)#[663.0,663.1]\n",
    "numofn=[-1.5e20]#,-7.3e19,-2.0e19,-0.22e19]#,-0.2e20]#,-1.75e20,-3.0e19,-0.9e20]#Sample 1 -3.0e19, Sample 2 -1.25e20,\n",
    "#Sample 3 -1.75e20, Sample Sb 0.75% -1.03e20, #\n",
    "numofnn=[1e17]#,1e17,1e17,1e17]#,1e17]\n",
    "xs=[0.3]#,0.3,0.3,0.3]#[0.287,0.3,0.262,0.332]#collect(0.0:0.01:1.0)\n",
    "\n",
    "var0=[Ts[1],xs[1]]\n",
    "Eoff=0.0\n",
    "Ev(var)=Eoff\n",
    "Ec(var)=Ev(var)+EgSiGe(var[1],var[2]) #var[1]:T var[2]:x\n",
    "\n",
    "effMassV(var)=-1.2*me\n",
    "effMassC(var)=0.321me#0.424*me#0.424*me#1.4/6^(2/3)*me\n",
    "\n",
    "bandC=parBandTx(effMassC(var0),5.0,Ec(var0),[Ec],[effMassC],var0)\n",
    "bandV=parBandTx(effMassV(var0),0.0,Ev(var0),[Ev],[effMassV],var0)\n",
    "#bndstTx=BandStrucTx([bandV,bandC,bandC,bandC,bandC,bandC,bandC],var0)\n",
    "bndstTx=BandStrucTx([bandC,bandC],var0)#,bandC,bandC,bandC,bandC,bandC,bandV],var0)\n",
    "#var array: var[1]: effMass , var[2]:T, var[3]:E, var[4]:x, var[5]:Ef, \n",
    "#var[6]:band, var[7]:NII var[8]:bndst var[9]:NNI\n",
    "\n",
    "md=effMassC([Ts[1],xs[1]])*6^(2/3)#1.4*me;\n",
    "function Deftemp(band::parBandTx)\n",
    "    if band==bandC\n",
    "        return 7.0#10.5#15.0\n",
    "    end\n",
    "    if band==bandV        \n",
    "        return 5.5#7.0\n",
    "    end\n",
    "end\n",
    "ksi=21.0\n",
    "tauAC(var)=tauAC_func(ClSiGe(var[4],var[2]),Deftemp(var[6]),var[2],var[1],var[3],var[6])#DefP(var[1])\n",
    "tauII2(var)=tauII2_func(ksi*eps0,eps0,var[6],var[5],var[2],var[7],var[1],var[3],var[8])\n",
    "tauNI(var)=tauNI_func(ksi*eps0,var[1],var[9])\n",
    "vartau0=[bandC.effMass,Ts[1],Ec(var0),xs[1],Ec(var0),bandC,numofn[1]*1e6,bndstTx,numofnn[1]*1e6]\n",
    "#vartau0=[bandC.effMass,Ts[1],1.0,xs[1],1.5,bandC,numofn[1]*1e6,bndstTx,numofnn[1]*1e6]\n",
    "tauTOTTx=tau_electron_B([tauAC,tauII2],vartau0)#tauNI,,tauII2,tauAC,\n",
    "xmax=3.0\n",
    "#T_EF_Dict=Dict()\n",
    "#println(\"-3\")"
   ]
  },
  {
   "cell_type": "markdown",
   "metadata": {
    "collapsed": false
   },
   "source": [
    "bandT1=parBandTx(effMassC(var0),0.0,Ec(var0),[Ec],[effMassC],var0)\n",
    "bandT2=parBandTx(effMassC(var0),0.2,Ec(var0),[Ec],[effMassC],var0)\n",
    "Es=collect(0.0:0.01:5.0)\n",
    "ds1=Array{Float64,1}(length(Es))\n",
    "ds2=Array{Float64,1}(length(Es))\n",
    "ds3=Array{Float64,1}(length(Es))\n",
    "ds4=Array{Float64,1}(length(Es))\n",
    "ax=0.0\n",
    "for (i,Ei) in enumerate(Es)\n",
    "    ds1[i]=getDOS_SingleBand_E(bandT1,Ei)\n",
    "    ds2[i]=getDOS_SingleBand_E(bandT2,Ei)    \n",
    "    ds3[i]=1e46*sqrt(Ei+ax*Ei*Ei)*(1+2*ax*Ei)\n",
    "    ds4[i]=1e46*sqrt(Ei)\n",
    "end\n",
    "plot(Es,ds1,linestyle=\"-\",color=\"r\")\n",
    "plot(Es,ds2,linestyle=\"-\",color=\"b\")\n",
    "plot(Es,ds3,linestyle=\"-\",color=\"k\")\n",
    "plot(Es,ds3,linestyle=\"-\",color=\"c\")"
   ]
  },
  {
   "cell_type": "code",
   "execution_count": 3,
   "metadata": {
    "collapsed": false
   },
   "outputs": [
    {
     "name": "stdout",
     "output_type": "stream",
     "text": [
      "  "
     ]
    }
   ],
   "source": [
    "@time (Efs,sigmas,seebecks,kes,kees,kehs,kbis)=electronicPropsiso(bndstTx,xs,Ts,numofn,tauTOTTx,xmax)\n",
    "\n",
    "Efsr=Array{Float64,3}(length(Ts),length(numofn),length(xs))\n",
    "for (i,iT) in enumerate(Ts)\n",
    "    for (k,kx) in enumerate(xs) \n",
    "        for (j,jn) in enumerate(numofn)\n",
    "            Efsr[i,j,k]=Efs[i,j,k]-Ec([iT,kx])\n",
    "        end\n",
    "    end\n",
    "end\n",
    "#println(\"-2\")\n",
    "T_EF_Dict=Dict()\n",
    "for (Ti,Tx) in enumerate(Ts)\n",
    "    T_EF_Dict[Tx]=(Efs[Ti])    \n",
    "end\n",
    "T_EF_Dict_Array=Array{Dict{Float64,Float64},2}(length(numofn),length(xs))\n",
    "Dict_temp=Dict()\n",
    "Efsr=Array{Float64,3}(length(Ts),length(numofn),length(xs))\n",
    "for (j,jn) in enumerate(numofn)\n",
    "    for (k,kx) in enumerate(xs) \n",
    "        for (i,iT) in enumerate(Ts)\n",
    "            Efsr[i,j,k]=Efs[i,j,k]-Ec([iT,kx])\n",
    "            Dict_temp[iT]=Efsr[i,j,k]\n",
    "            T_EF_Dict_Array[j,k]=Dict_temp \n",
    "        end\n",
    "    end\n",
    "end\n"
   ]
  },
  {
   "cell_type": "code",
   "execution_count": 4,
   "metadata": {
    "collapsed": false
   },
   "outputs": [
    {
     "data": {
      "text/html": [
       "1.0"
      ],
      "text/plain": [
       "1.0"
      ]
     },
     "execution_count": 4,
     "metadata": {},
     "output_type": "execute_result"
    }
   ],
   "source": [
    "#println(\"-1\")\n",
    "#############Lattice Thermal Conductivity Parameters###############\n",
    "thetaSiL=586.0 # K \n",
    "thetaSiT=240.0 # K\n",
    "vSiL=8430.0    # m/s\n",
    "vSiT=5840.0    # m/s\n",
    "vGeL=4920.0    # m/s\n",
    "vGeT=3540.0    # m/s\n",
    "gammaL=0.9\n",
    "gammaT=0.6\n",
    "MSi=4.6637e-26 # kg\n",
    "MGe=1.206e-25  # kg\n",
    "VSi=2.0024e-29\n",
    "#println(\"0\")\n",
    "Eh=3.8\n",
    "Eep=3*q\n",
    "xsp=xs[1]\n",
    "Tp=300.0\n",
    "p=1.0\n",
    "D=20e-9\n",
    "NP=0.0\n",
    "a=2.65#0.488\n",
    "alpha=0.5 #specularity factor\n",
    "d=97.0e-9#\n",
    "\n",
    "#println(\"1\")\n",
    "\n",
    "\n",
    "#vartauPH0=[[0.02],Ts[1],gammaL,gammaT,xsp,thetaCLx,thetaCTx,thetaCTx,MSi,MGe,VSi,a,T_EF_Dict,0.0]\n",
    "vartauPH0=[ [0.02],  Ts[1],   gammaL,  gammaT, xsp,\n",
    "    thetaSiL, thetaSiT, thetaSiT, MSi,   MGe, \n",
    "    VSi, a, T_EF_Dict_Array, Eep, alpha, \n",
    "    d, thetaSiL, thetaSiT, vSiL, vSiT, \n",
    "    vGeL, vGeT, p, NP,Tsindex=1,\n",
    "    numberofnindex=1,xsindex=1]\n",
    "thetaCLx=thetaCL(vartauPH0[12],vartauPH0[5],vartauPH0[17],vartauPH0[19],vartauPH0[11])\n",
    "thetaCTx=thetaCT(vartauPH0[12],vartauPH0[5],vartauPH0[18],vartauPH0[19],vartauPH0[11])\n",
    "#println(\"2\")\n",
    "tauPHNLf(var)=tauPH_NL(var[3],VSiGe(var[5]),var[1],var[2],MSiGe(var[5]),vSiGeL_PH(var[5]))\n",
    "tauPHNTf(var)=tauPH_NT(var[4],VSiGe(var[5]),var[1],var[2],MSiGe(var[5]),vSiGeT_PH(var[5]))\n",
    "\n",
    "\n",
    "tauPHULf(var)=tauPH_U(var[3],var[1],var[2],MSiGe(var[5]),vSiGeL_PH(var[5]),var[17])\n",
    "tauPHUTf(var)=tauPH_U(var[4],var[1],var[2],MSiGe(var[5]),vSiGeT_PH(var[5]),var[18])\n",
    "\n",
    "tauPHALLLf(var)=tauPH_ALL(var[9],var[10],var[5],VSiGe(var[5]),var[1],var[2],MSiGe(var[5]),vSiGeL_PH(var[5]))\n",
    "tauPHALLTf(var)=tauPH_ALL(var[9],var[10],var[5],VSiGe(var[5]),var[1],var[2],MSiGe(var[5]),vSiGeT_PH(var[5]))\n",
    "\n",
    "tauPHeLf(var)=tauPH_e(var[14],md,MSiGe(var[5])/VSiGe(var[5]),(var[13][var[26],var[27]])[var[2]],var[1],var[2],vSiGeL_PH(var[5]))\n",
    "tauPHeTf(var)=tauPH_e(var[14],md,MSiGe(var[5])/VSiGe(var[5]),(var[13][var[26],var[27]])[var[2]],var[1],var[2],vSiGeT_PH(var[5]))\n",
    "\n",
    "tauPHBLf(var)=tauPH_B(vSiGeL_PH(var[5]),var[14],var[15])\n",
    "tauPHBTf(var)=tauPH_B(vSiGeT_PH(var[5]),var[14],var[15])\n",
    "#println(\"3\")\n",
    "tauPHTOTL=tau_phonon_B([tauPHNLf,tauPHULf,tauPHALLLf,tauPHeLf],vartauPH0)#,tauPH_eLf ,tauPHALLLf ,tauPHBLf\n",
    "tauPHNL=tau_phonon_B([tauPHNLf],vartauPH0)\n",
    "tauPHRL=tau_phonon_B([tauPHULf,tauPHALLLf,tauPHeLf],vartauPH0) #,tauPHALLLf,tauPH_eLf] ,tauPHBLf\n",
    "\n",
    "\n",
    "tauPHTOTTx=tau_phonon_B([tauPHNTf,tauPHUTf,tauPHALLTf,tauPHeTf],vartauPH0) #tauPHALLTf,tauPH_eTf ,tauPHBTf\n",
    "tauPHNTx=tau_phonon_B([tauPHNTf],vartauPH0)\n",
    "tauPHRTx=tau_phonon_B([tauPHUTf,tauPHALLTf,tauPHeTf],vartauPH0) #,tauPHALLTf,tauPH_eTf ,tauPHBTf\n",
    "\n",
    "\n",
    "tauPHTOTTy=tau_phonon_B([tauPHNTf,tauPHUTf,tauPHALLTf,tauPHeTf],vartauPH0) #,tauPHALLTf,tauPH_eTf tauPHBTf\n",
    "tauPHNTy=tau_phonon_B([tauPHNTf],vartauPH0)\n",
    "tauPHRTy=tau_phonon_B([tauPHUTf,tauPHALLTf,tauPHeTf],vartauPH0) #,tauPHALLTf,tauPH_eTf ,tauPHBTf\n",
    "#println(\"4\")\n",
    "\n",
    "tauPHL=[tauPHTOTL,tauPHNL,tauPHRL]\n",
    "tauPHTx=[tauPHTOTTx,tauPHNTx,tauPHRTx]\n",
    "xmax=1.0"
   ]
  },
  {
   "cell_type": "code",
   "execution_count": 5,
   "metadata": {
    "collapsed": false
   },
   "outputs": [
    {
     "name": "stdout",
     "output_type": "stream",
     "text": [
      "  0.560462 seconds (808.87 k allocations: 282.951 MB, 5.16% gc time)\n"
     ]
    }
   ],
   "source": [
    "@time klattice=thermalPropsiso(tauPHL,tauPHTx,tauPHTx,[vSiGeL_PH(xsp),vSiGeT_PH(xsp),vSiGeT_PH(xsp)])\n",
    "xmax=3.0"
   ]
  },
  {
   "cell_type": "code",
   "execution_count": 6,
   "metadata": {
    "collapsed": false,
    "scrolled": false
   },
   "outputs": [
    {
     "data": {
      "image/png": "[encoded data removed]",
      "text/plain": [
       "PyPlot.Figure(PyObject <matplotlib.figure.Figure object at 0x7f4bf6d2c0f0>)"
      ]
     },
     "metadata": {},
     "output_type": "display_data"
    },
    {
     "data": {
      "image/png": "[encoded data removed]",
      "text/plain": [
       "PyPlot.Figure(PyObject <matplotlib.figure.Figure object at 0x7f4bf72b8390>)"
      ]
     },
     "metadata": {},
     "output_type": "display_data"
    }
   ],
   "source": [
    "SiGe_Min_1700_Bulk_EC_T=[309.4827586207,389.6551724138,450,479.3103448276,504.3103448276,589.6551724138,979.3103448276,\n",
    "    1039.6551724138,1110.3448275862,1189.6551724138,1199.1379310345]\n",
    "SiGe_Min_1700_Bulk_EC_E=[1252.3364485981,1113.707165109,1054.5171339564,1054.5171339564,912.7725856698,834.8909657321,\n",
    "    526.4797507788,434.5794392523,478.1931464174,557.6323987539,501.5576323988]\n",
    "SiGe_Min_730_Bulk_EC_T=[308.6206896552,360.3448275862,419.8275862069,509.2672413793,609.2432950192,957.662835249,\n",
    "    1009.1475095786,1098.9463601533,1149.2337164751,1218.0795019157]\n",
    "SiGe_Min_730_Bulk_EC_E=[771.0280373832,716.5109034268,626.1682242991,556.7670474213,455.0882658359,277.6912426445,\n",
    "        273.3644859813,241.9955001731,231.1786085151,213.8715818622]    \n",
    "SiGe_Min_230_Bulk_EC_T=[299.7365900383,398.5153256705,500.8860153257,598.4674329502,708.6206896552,868.4626436782,\n",
    "        979.8132183908,1019.3247126437,1088.1704980843,1148.0363984674]\n",
    "SiGe_Min_230_Bulk_EC_E=[314.4686742818,280.9363101419,249.5673243337,217.1166493596,184.6659743856,155.460366909,\n",
    "        130.5815160955,131.6632052613,126.2547594323,131.6632052613]\n",
    "SiGe_Min_22_Bulk_EC_T=[309.9137931034,348.2279693487,389.535440613,569.1331417625,690.0622605364,808.596743295,\n",
    "    909.7701149425,989.3917624521,1079.1906130268]\n",
    "SiGe_Min_22_Bulk_EC_E=[49.4548286604,54.8632744894,44.0463828314,38.6379370024,31.0661128418,25.6576670128,24.575977847,\n",
    "    31.0661128418,45.1280719972]\n",
    "xmax=1\n",
    "SiGe_Min_1700_Bulk_SC_T=[310.6382978723,450.2127659574,500.4255319149,579.5744680851,779.5744680851,970.2127659574,\n",
    "    1050.2127659575,1100.4255319149,1151.4893617021,1159.1489361702]\n",
    "SiGe_Min_1700_Bulk_SC_S=[-105.0763607884,-144.5542357395,-159.9686724971,-169.9060174912,-220.5195144237,-245.9652786842,\n",
    "    -276.149327764,-276.2263412087,-260.3537397207,-240.1200887613]\n",
    "SiGe_Min_730_Bulk_SC_T=[310.6382978723,361.7021276596,419.5744680851,509.7872340426,610.2127659574,1009.3617021277,\n",
    "    1219.5744680851]\n",
    "SiGe_Min_730_Bulk_SC_S=[-165.1990601749,-180.0013053126,-210.1514162642,-220.7192272549,-250.3211069051,-330.687899752,\n",
    "    -346.3477352826]\n",
    "SiGe_Min_230_Bulk_SC_T=[298.7234042553,400.8510638298,499.5744680851,600.8510638298,710.6382978723,859.5744680851,\n",
    "    978.7234042553,1039.1489361702,1090.2127659575,1159.1489361702]\n",
    "SiGe_Min_230_Bulk_SC_S=[-249.8433624853,-284.9693251534,-305.3661401906,-320.245398773,-335.7512074142,-342.1146064482,\n",
    "-342.9108471479,-330.7335856938,-309.3395118131,-251.1630335465]\n",
    "SiGe_Min_22_Bulk_SC_T=[309.7872340426,349.7872340426,380.4255319149,410.2127659574,550.6382978723,690.2127659574,\n",
    "824.6808510638,910.6382978723,979.5744680851]\n",
    "SiGe_Min_22_Bulk_SC_S=[-479.9216812427,-489.7989818562,-519.9073228038,-524.8609842057,-534.8923117087,-544.922333899,\n",
    "-540.2205978332,-480.8432319541,-372.9735021538]\n",
    "xmax=1\n",
    "SiGe_Min_1700_Bulk_KC_T=[314.5631067961,444.0129449838,499.2448759439,577.7777777778,769.3635382956,966.1272923409,\n",
    "    1032.5782092772,1105.9331175836,1168.932038835,1188.7810140237]\n",
    "SiGe_Min_1700_Bulk_KC_K=[4.6835063051,4.5239984377,4.4312520924,4.3076219172,4.4329985493,4.1911672804,4.0622865752,\n",
    "4.2179332664,4.4666164491,4.3891585761]\n",
    "SiGe_Min_22_Bulk_KC_T=[314.5631067961,378.4250269687,554.476806904,683.9266450917,814.2394822006,903.9913700108,\n",
    "    973.0312837109]\n",
    "SiGe_Min_22_Bulk_KC_K=[7.1197132017,6.4011605848,5.1350574713,4.6289978797,4.3608749024,4.4855931258,4.7291429528]\n",
    "SiGe_Vin_162_Bulk_KC_T=[440.3713548665536,497.3222430383224,574.0370374003198]\n",
    "SiGe_Vin_162_Bulk_KC_K=[3.3457249070631976,3.2416356877323427,3.074349442379183]\n",
    "\n",
    "SiGe_Dis_162_Bulk_KC_T=[323.4130104234,436.3766249262,465.5560008689,494.6582798193,568.7099409229,676.8421439083,\n",
    "    861.4563988974,997.8960475554,1141.7663777569,1201.6652338456]\n",
    "SiGe_Dis_162_Bulk_KC_K=[4.6738529713,4.5204119777,4.5006535608,4.430757327,4.3128769847,4.2031161293,3.9957878466,\n",
    "4.065915243,4.2121420299,4.3719065138]\n",
    "\n",
    "figure()\n",
    "plot(Ts,sigmas[:,1,1]/100,linestyle=\"-\",color=\"b\")\n",
    "#plot(Ts,sigmas[:,2,2]/100,linestyle=\"-\",color=\"r\")\n",
    "#plot(Ts,sigmas[:,3,3]/100,linestyle=\"-\",color=\"g\")\n",
    "#plot(Ts,sigmas[:,4,4]/100,linestyle=\"-\",color=\"#ff66cc\") \n",
    "#plot(SiGe_Min_1700_Bulk_EC_T,SiGe_Min_1700_Bulk_EC_E, linestyle=\"None\",marker=\"o\",markersize=7,color=\"b\")\n",
    "#plot(SiGe_Min_730_Bulk_EC_T,SiGe_Min_730_Bulk_EC_E, linestyle=\"None\",marker=\"s\",markersize=7,color=\"r\")\n",
    "#plot(SiGe_Min_230_Bulk_EC_T,SiGe_Min_230_Bulk_EC_E, linestyle=\"None\",marker=\"^\",markersize=7,color=\"g\")\n",
    "#plot(SiGe_Min_22_Bulk_EC_T,SiGe_Min_22_Bulk_EC_E, linestyle=\"None\",marker=\"D\",markersize=7,color=\"#ff66cc\")\n",
    "grid()\n",
    "\n",
    "figure()\n",
    "plot(Ts,-seebecks[:,1,1]*1e6,linestyle=\"-\",color=\"b\")\n",
    "#plot(Ts,-seebecks[:,2,2]*1e6,linestyle=\"-\",color=\"r\")\n",
    "#plot(Ts,-seebecks[:,3,3]*1e6,linestyle=\"-\",color=\"g\")\n",
    "#plot(Ts,-seebecks[:,4,4]*1e6,linestyle=\"-\",color=\"#ff66cc\") \n",
    "#plot(SiGe_Min_1700_Bulk_SC_T,-SiGe_Min_1700_Bulk_SC_S, linestyle=\"None\",marker=\"o\",markersize=7,color=\"b\")\n",
    "#plot(SiGe_Min_730_Bulk_SC_T,-SiGe_Min_730_Bulk_SC_S, linestyle=\"None\",marker=\"s\",markersize=7,color=\"r\")\n",
    "#plot(SiGe_Min_230_Bulk_SC_T,-SiGe_Min_230_Bulk_SC_S, linestyle=\"None\",marker=\"^\",markersize=7,color=\"g\")\n",
    "#plot(SiGe_Min_22_Bulk_SC_T,-SiGe_Min_22_Bulk_SC_S, linestyle=\"None\",marker=\"D\",markersize=7,color=\"#ff66cc\")\n",
    "grid()\n",
    "\n",
    "#figure()\n",
    "#plot(Ts,klattice[:,1,1]+kes[:,1,1]+kbis[:,1,1],linestyle=\"-\",color=\"b\")\n",
    "#plot(Ts,klattice[:,2,2]+kes[:,2,2]+kbis[:,2,2],linestyle=\"-\",color=\"r\")\n",
    "#plot(Ts,klattice[:,3,3]+kes[:,3,3]+kbis[:,3,3],linestyle=\"-\",color=\"g\")\n",
    "#plot(Ts,klattice[:,4,4]+kes[:,4,4]+kbis[:,4,4],linestyle=\"-\",color=\"#ff66cc\") \n",
    "#plot(SiGe_Min_1700_Bulk_KC_T,SiGe_Min_1700_Bulk_KC_K, linestyle=\"None\",marker=\"o\",markersize=7,color=\"b\")\n",
    "#plot(SiGe_Min_1700_Bulk_KC_T,SiGe_Min_1700_Bulk_KC_K,linestyle=\"None\",marker=\"o\",markersize=7,color=\"b\")\n",
    "#plot(SiGe_Min_730_Bulk_SC_T,SiGe_Min_730_Bulk_SC_S, linestyle=\"None\",marker=\"s\",markersize=7,color=\"r\")\n",
    "#plot(SiGe_Min_230_Bulk_SC_T,SiGe_Min_230_Bulk_SC_S, linestyle=\"None\",marker=\"^\",markersize=7,color=\"g\")\n",
    "#plot(SiGe_Min_22_Bulk_KC_T,SiGe_Min_22_Bulk_KC_K, linestyle=\"None\",marker=\"D\",markersize=7,color=\"#ff66cc\")\n",
    "#plot(SiGe_Dis_162_Bulk_KC_T,SiGe_Dis_162_Bulk_KC_K, linestyle=\"None\",marker=\"D\",markersize=7,color=\"k\")\n",
    "#grid()\n",
    "\n",
    "#figure()\n",
    "#plot(Ts,klattice[:,1,1],linestyle=\"-.\",color=\"b\")\n",
    "#plot(Ts,klattice[:,2,2],linestyle=\"-.\",color=\"r\")\n",
    "#plot(Ts,klattice[:,3,3],linestyle=\"-.\",color=\"g\")\n",
    "#plot(Ts,klattice[:,4,4],linestyle=\"-.\",color=\"#ff66cc\") \n",
    "#plot(Ts,kes[:,1,1],linestyle=\"--\",color=\"b\")\n",
    "#plot(Ts,kes[:,2,2],linestyle=\"--\",color=\"r\")\n",
    "#plot(Ts,kes[:,3,3],linestyle=\"--\",color=\"g\")\n",
    "#plot(Ts,kes[:,4,4],linestyle=\"--\",color=\"#ff66cc\") \n",
    "#plot(Ts,kbis[:,1,1],linestyle=\":\",color=\"b\")\n",
    "#plot(Ts,kbis[:,2,2],linestyle=\":\",color=\"r\")\n",
    "#plot(Ts,kbis[:,3,3],linestyle=\":\",color=\"g\")\n",
    "#plot(Ts,kbis[:,4,4],linestyle=\":\",color=\"#ff66cc\") \n",
    "#ylim()\n",
    "#grid()\n",
    "#plot(SiGe_Vin_162_Bulk_KC_T,SiGe_Vin_162_Bulk_KC_K, linestyle=\"None\",marker=\"s\",markersize=4,color=\"c\")\n",
    "#plot(Ts,kl_A,Linestyle=\"-\",Linewidth=\"2\",color=\"b\")\n",
    "\n",
    "\n"
   ]
  },
  {
   "cell_type": "code",
   "execution_count": 7,
   "metadata": {
    "collapsed": false
   },
   "outputs": [
    {
     "name": "stdout",
     "output_type": "stream",
     "text": [
      "1 T 300.0 sigma  47942.74826627248\n",
      "2 T 320.0 sigma  46904.2288768125\n",
      "3 T 340.0 sigma  45934.4116710224\n",
      "4 T 360.0 sigma  44982.28369092267\n",
      "5 T 380.0 sigma  44042.08277148149\n",
      "6 T 400.0 sigma  43115.284802995666\n",
      "7 T 420.0 sigma  42266.19768542079\n",
      "8 T 440.0 sigma  41431.82943350294\n",
      "9 T 460.0 sigma  40609.74890542168\n",
      "10 T 480.0 sigma  39792.01605294768\n",
      "11 T 500.0 sigma  38952.941397733215\n",
      "12 T 520.0 sigma  38248.052119674125\n",
      "13 T 540.0 sigma  37554.19102328744\n",
      "14 T 560.0 sigma  36871.3999459368\n",
      "15 T 580.0 sigma  36144.981696015486\n",
      "16 T 600.0 sigma  35529.66185319586\n",
      "17 T 620.0 sigma  34861.980767458095\n",
      "18 T 640.0 sigma  34256.904214737864\n",
      "19 T 660.0 sigma  33666.259123907206\n",
      "20 T 680.0 sigma  33012.36801012331\n",
      "21 T 700.0 sigma  32539.963972041904\n",
      "22 T 720.0 sigma  31904.9924403286\n",
      "23 T 740.0 sigma  31462.964930124646\n",
      "24 T 760.0 sigma  30927.701192128156\n",
      "25 T 780.0 sigma  30387.105854417925\n",
      "26 T 800.0 sigma  29980.55227672888\n"
     ]
    }
   ],
   "source": [
    "for j in 1:length(Ts)\n",
    "    println(j,\" T \",Ts[j],\" sigma  \",sigmas[j,1,1])\n",
    "    #println(Ts[j],\" fermi  \",Efs[j,1,1])\n",
    "end\n",
    "\n",
    "#sigma(tau_electron::types.tau_electron_Base,band,Ef,Temp) "
   ]
  },
  {
   "cell_type": "markdown",
   "metadata": {},
   "source": [
    "function sigmaT(tau_electron::types.tau_electron_Base,band,Ef,Temp,sigmaDT_A::Array{Float64,1})    \n",
    "    if band.effMass>0                \n",
    "        integrandp_sigma(E)=sigmaDT(tau_electron::types.tau_electron_Base,band,E,Ef,Temp,sigmaDT_A) \n",
    "        nodes, weights = qnwlege(100, 0,10)#band.offset-100kBe*Temp>0?band.offset-100kBe*Temp:0.0,band.offset+100kBe*Temp)\n",
    "        a= do_quad(integrandp_sigma,nodes, weights)\n",
    "        return a#quadgk(integrand,band.offset,band.offset+20kBe*Temp)[1]\n",
    "    elseif band.effMass<0\n",
    "        min=band.offset-100kBe*Temp<0 ? 0.0 : band.offset-100kBe*Temp    \n",
    "        integrandn_sigma(E)=sigmaDT(tau_electron::types.tau_electron_Base,band,E,Ef,Temp,sigmaDT_A) \n",
    "        nodes, weights = qnwlege(100, min,band.offset)\n",
    "        a= do_quad(integrandn_sigma,nodes, weights)\n",
    "        return a#quadgk(integrand,min,band.offset)[1]\n",
    "    else\n",
    "        error(\"Band EffMass cannot be =0\")\n",
    "        return 0.0\n",
    "    end\n",
    "end\n",
    "function sigmaDT(tau_electron::types.tau_electron_Base,band,E,Ef,Temp,sigmaDT_A::Array{Float64,1})   \n",
    "    tau_electron.variables[1]=band.effMass\n",
    "    tau_electron.variables[5]=Ef\n",
    "    tau_electron.variables[6]=band\n",
    "    tau=get_tau(tau_electron,E)\n",
    "    v=(square_velocity_E(band,E))\n",
    "    temp=q.*q.*v.*tau.*q.*getDOS_SingleBand_E(band,E).*-fermiDerivativeTemp_Ef_E(Ef,Temp,E) \n",
    "    #temp=tau#getDOS_SingleBand_E(band,E)#q.*q.*v.*tau.*q.*getDOS_SingleBand_E(band,E)#.*-fermiDerivativeTemp_Ef_E(Ef,Temp,E) \n",
    "    #temp=E.*-fermiDerivativeTemp_Ef_E(Ef,Temp,E) \n",
    "    #println(temp)\n",
    "    sigmaDT_A[:]=temp    \n",
    "    return temp#q.*q.*v.*tau.*q.*getDOS_SingleBand_E(band,E).*-fermiDerivativeTemp_Ef_E(Ef,Temp,E)  \n",
    "end\n",
    "#"
   ]
  },
  {
   "cell_type": "code",
   "execution_count": 8,
   "metadata": {
    "collapsed": false
   },
   "outputs": [],
   "source": [
    "#for k in 1:1:length(Tf)\n",
    " #   for j in 1:1:100\n",
    " #   println(j/10,\"  \",sigmaDT_Atot[1,j])#/sigmaDT_Atot[2,j])\n",
    " #   end\n",
    "#end"
   ]
  },
  {
   "cell_type": "markdown",
   "metadata": {
    "collapsed": false
   },
   "source": [
    "Tf=Ts#[663.83,663.95]#663.83#Ts#[663.83,663.95]\n",
    "Efz=collect(0.1:0.1:10.0)\n",
    "sigma_A=Array{Float64,1}(length(Tf))\n",
    "sigmaD_Aext=Array{Float64,1}(length(Tf))\n",
    "tau_A=Array{Float64,2}(length(Tf),length(Efz))\n",
    "tauAC_A=Array{Float64,2}(length(Tf),length(Efz))\n",
    "tauTOTTx_A=Array{Float64,2}(length(Tf),length(Efz))\n",
    "sigmaD_A=Array{Float64,2}(length(Tf),length(Efz))\n",
    "sigmaDT_A=Array{Float64,1}(100)\n",
    "sigmaDT_Atot=Array{Float64,2}(length(Tf),100)\n",
    "sigmaDT_Atot[:]=0.0\n",
    "for (i,Tx) in enumerate(Tf)\n",
    "    Temp=Tf[i]\n",
    "    xss=xs[1]\n",
    "    var0t=[Temp,xss]\n",
    "    bandC.effMass=effMassC(var0t)\n",
    "    bandC.alpha=5.0\n",
    "    bandC.offset=Ec(var0t)\n",
    "    bandC.funsofoffset=[Ec]\n",
    "    bandC.funsofeffMass=[effMassC]\n",
    "    bandC.var=var0t\n",
    "    vartau0t=[bandC.effMass,Temp,Ec(var0t),xs[1],Ec(var0t),bandC,numofn[1]*1e6,bndstTx,numofnn[1]*1e6]\n",
    "    tauTOTTx.tauMethods=[tauII2]#tauAC,tauII2\n",
    "    tauTOTTx.variables=vartau0t\n",
    "    #println(\"sigmaDT_A before calling function\")\n",
    "    #foreach(println,sigmaDT_A)\n",
    "    sigmaDT_A[:]=0.0\n",
    "    sigma_A[i]=sigmaT(tauTOTTx,bandC, T_EF_Dict[Temp],Temp,sigmaDT_A)*2#)\n",
    "    sigmaDT_Atot[i,:]=sigmaDT_A[:]\n",
    "    (sigmaD_Aext[i],ttt)=findmax(sigmaDT_A)\n",
    "    #println(\"sigmaDT_A after calling function\")\n",
    "    #foreach(println,sigmaDT_A)\n",
    "    #println(\"sigmaD_A\")\n",
    "    #sigmaD_A[i,:]=sigmaDT(tauTOTTx,bandC, Efz,T_EF_Dict[Temp],Temp)\n",
    "   # tau_A[i,:]=get_tau(tauTOTTx,Efz)\n",
    "   # tauAC_A[i,:]=tauAC_func(ClSiGe(vartau0t[4],vartau0t[2]),Deftemp(vartau0t[6]),vartau0t[2],vartau0t[1],Efz,vartau0t[6])\n",
    "   # tauTOTTx_A[i,:]=tauTOTTx.tauMethods[1]([bandC.effMass,Temp,Efz,xs[1],Ec(var0t),bandC,numofn[1]*1e6,\n",
    "   #     bndstTx,numofnn[1]*1e6])\n",
    "    println(\"Temp: \",Temp,\"  sigma: \",sigma_A[i])\n",
    "end\n",
    "sleep(1)\n",
    "figure()\n",
    "title(\"sigma\")\n",
    "plot(Tf,sigma_A,Linestyle=\"-\",color=\"r\")\n",
    "grid()\n",
    "figure()\n",
    "for j in length(Tf)\n",
    "    plot(Efz,sigmaDT_Atot[j,:],Linestyle=\":\",color=\"b\") \n",
    "end\n",
    "grid()\n",
    "figure()\n",
    "title(\"extremes\")\n",
    "plot(Tf,sigmaD_Aext)\n",
    "grid()\n",
    "#figure()\n",
    "#title(\"sigmaD\")\n",
    "#for j in 1:1:length(Tf)\n",
    "#    plot(Efz,sigmaD_A[j,:],Linestyle=\"-\",color=\"r\")\n",
    "#plot(Efz,tau_A[1,:],Linestyle=\"-\",color=\"r\")\n",
    "#plot(Efz,tau_A[2,:],Linestyle=\"-\",color=\"k\")\n",
    "#end\n",
    "#plot(Tf,sigmaD_A,Linestyle=\"-\",color=\"r\")\n",
    "#grid()\n",
    "#figure()\n",
    "#for j in 1:1:length(Tf)\n",
    "#    plot(Efz,tau_A[j,:],Linestyle=\"-\",color=\"r\")\n",
    "#plot(Efz,tau_A[1,:],Linestyle=\"-\",color=\"r\")\n",
    "#plot(Efz,tau_A[2,:],Linestyle=\"-\",color=\"k\")\n",
    "#end\n",
    "#grid()\n",
    "#figure()\n",
    "#for j in 1:1:length(Tf)\n",
    "#    plot(Efz,tauAC_A[j,:],Linestyle=\":\",color=\"k\")\n",
    "#plot(Efz,tau_A[1,:],Linestyle=\"-\",color=\"r\")\n",
    "#plot(Efz,tau_A[2,:],Linestyle=\"-\",color=\"k\")\n",
    "#end\n",
    "#grid()\n",
    "#figure()\n",
    "#for j in 1:1:length(Tf)\n",
    "#    plot(Efz,tauTOTTx_A[j,:],Linestyle=\":\",color=\"b\")\n",
    "#plot(Efz,tau_A[1,:],Linestyle=\"-\",color=\"r\")\n",
    "#plot(Efz,tau_A[2,:],Linestyle=\"-\",color=\"k\")\n",
    "#end\n",
    "#grid()\n",
    "#sigma_A\n",
    "#for j in 1:1:length(Tf)\n",
    "#    for k in 1:1:length(Efz)\n",
    "#        println(\"T:  \",Tf[j],\"  Ef:  \",Efz[k],\" tau: \",tau_A[j,k])\n",
    "#    end\n",
    "#end"
   ]
  },
  {
   "cell_type": "code",
   "execution_count": 9,
   "metadata": {
    "collapsed": false
   },
   "outputs": [],
   "source": [
    "#for j in 1:length(Ts)\n",
    "    \n",
    "    #println(j,\" T \",Ts[j],\" sigma  \",sigmas[j,1,1])\n",
    "#    println(Ts[j],\" fermi  \",Efs[j,1,1])\n",
    "#end\n",
    "#plot(Ts,Efs[:,1,1],Linestyle=\":\",color=\"r\")"
   ]
  }
 ],
 "metadata": {
  "kernelspec": {
   "display_name": "Julia 0.5.1",
   "language": "julia",
   "name": "julia-0.5"
  },
  "language_info": {
   "file_extension": ".jl",
   "mimetype": "application/julia",
   "name": "julia",
   "version": "0.5.2"
  }
 },
 "nbformat": 4,
 "nbformat_minor": 0
}
