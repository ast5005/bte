{
 "cells": [
  {
   "cell_type": "code",
   "execution_count": 1,
   "metadata": {
    "collapsed": false
   },
   "outputs": [
    {
     "data": {
      "text/plain": [
       "electronicthermalPropsiso (generic function with 1 method)"
      ]
     },
     "execution_count": 1,
     "metadata": {},
     "output_type": "execute_result"
    }
   ],
   "source": [
    "using constants\n",
    "using types\n",
    "using Optim\n",
    "using PyPlot\n",
    "using data\n",
    "include(\"DOSfunctions.jl\")\n",
    "include(\"userfunctions.jl\")\n",
    "include(\"propertyfuncs.jl\")"
   ]
  },
  {
   "cell_type": "code",
   "execution_count": 2,
   "metadata": {
    "collapsed": false
   },
   "outputs": [
    {
     "data": {
      "text/html": [
       "3.0"
      ],
      "text/plain": [
       "3.0"
      ]
     },
     "execution_count": 2,
     "metadata": {},
     "output_type": "execute_result"
    }
   ],
   "source": [
    "Ts=collect(50.1:10:800.1)\n",
    "#Ts=collect(663.8:0.01:664.0)#[663.0,663.1]\n",
    "numofn=[-1.5e20]#,-7.3e19,-2.0e19,-0.15e19]#,-0.2e20]#,-1.75e20,-3.0e19,-0.9e20]#Sample 1 -3.0e19, Sample 2 -1.25e20,\n",
    "#Sample 3 -1.75e20, Sample Sb 0.75% -1.03e20, #\n",
    "numofnn=[1e17]#,1e17,1e17,1e17]#,1e17]\n",
    "xs=[0.287]#,0.3,0.3,0.3]#[0.287,0.3,0.262,0.332]#collect(0.0:0.01:1.0)\n",
    "\n",
    "var0=[Ts[1],xs[1]]\n",
    "Eoff=0.0\n",
    "Ev(var)=Eoff\n",
    "Ec(var)=Ev(var)+EgSiGe(var[1],var[2]) #var[1]:T var[2]:x\n",
    "alphanp=0.0#1/EgSiGe([Ts[1],xs[1]])\n",
    "\n",
    "\n",
    "effMassV(var)=-1.2*me\n",
    "effMassC(var)=1.4/6^(2/3)*me#0.321me#0.424*me#0.424*me#1.4/6^(2/3)*me\n",
    "\n",
    "bandC=parBandTx(effMassC(var0),alphanp,Ec(var0),[Ec],[effMassC],var0)\n",
    "bandV=parBandTx(effMassV(var0),0.0,Ev(var0),[Ev],[effMassV],var0)\n",
    "#bndstTx=BandStrucTx([bandV,bandC,bandC,bandC,bandC,bandC,bandC],var0)\n",
    "bndstTx=BandStrucTx([bandC],var0)#,bandC,bandC,bandC,bandC,bandC,bandV],var0)\n",
    "#var array: var[1]: effMass , var[2]:T, var[3]:E, var[4]:x, var[5]:Ef, \n",
    "#var[6]:band, var[7]:NII var[8]:bndst var[9]:NNI var[10]:bandV\n",
    "\n",
    "md=effMassC([Ts[1],xs[1]])*6^(2/3)#1.4*me;\n",
    "function Deftemp(band::parBandTx)\n",
    "    Da=18.0\n",
    "    Dv=18.0\n",
    "    if band==bandC\n",
    "        return [Da,Dv]#10.5#15.0\n",
    "    end\n",
    "    if band==bandV        \n",
    "        return [Dv,Da]#7.0\n",
    "    end\n",
    "end\n",
    "ksi=21.0\n",
    "tauAC(var)=tauAC_func(ClSiGe(var[4],var[2]),Deftemp(var[6])[1],Deftemp(var[6])[2],var[2],var[1],var[3],var[6])#DefP(var[1])\n",
    "tauII2(var)=tauII2_func(ksi*eps0,eps0,var[6],var[5],var[2],var[7],var[1],var[3],var[8])\n",
    "tauNI(var)=tauNI_func(ksi*eps0,var[1],var[9])\n",
    "vartau0=[bandC.effMass,Ts[1],Ec(var0),xs[1],Ec(var0),bandC,numofn[1]*1e6,bndstTx,numofnn[1]*1e6,bandV]\n",
    "#vartau0=[bandC.effMass,Ts[1],1.0,xs[1],1.5,bandC,numofn[1]*1e6,bndstTx,numofnn[1]*1e6]\n",
    "tauTOTTx=tau_electron_B([tauAC,tauII2,tauNI],vartau0)#tauNI,,tauII2,tauAC,\n",
    "xmax=3.0\n",
    "#T_EF_Dict=Dict()\n",
    "#println(\"-3\")"
   ]
  },
  {
   "cell_type": "code",
   "execution_count": null,
   "metadata": {
    "collapsed": true
   },
   "outputs": [],
   "source": [
    "@time (Efs,sigmas,seebecks,kes,kees,kehs,kbis)=electronicPropsiso(bndstTx,xs,Ts,numofn,tauTOTTx,xmax)"
   ]
  },
  {
   "cell_type": "code",
   "execution_count": 4,
   "metadata": {
    "collapsed": false
   },
   "outputs": [],
   "source": [
    "#Efsr/kBe/500"
   ]
  },
  {
   "cell_type": "code",
   "execution_count": 5,
   "metadata": {
    "collapsed": false
   },
   "outputs": [],
   "source": [
    "#Efsr=map(x->(Efs[x,:,:]-5)/kBe/Ts[x],1:length(Ts))\n",
    "#(Efs-5)/kBe/500"
   ]
  },
  {
   "cell_type": "code",
   "execution_count": 6,
   "metadata": {
    "collapsed": false
   },
   "outputs": [
    {
     "data": {
      "text/html": [
       "1.0"
      ],
      "text/plain": [
       "1.0"
      ]
     },
     "execution_count": 6,
     "metadata": {},
     "output_type": "execute_result"
    }
   ],
   "source": [
    "#println(\"-1\")\n",
    "#############Lattice Thermal Conductivity Parameters###############\n",
    "thetaSiL=586.0 # K \n",
    "thetaSiT=240.0 # K\n",
    "vSiL=8430.0    # m/s\n",
    "vSiT=5840.0    # m/s\n",
    "vGeL=4920.0    # m/s\n",
    "vGeT=3540.0    # m/s\n",
    "gammaL=0.9\n",
    "gammaT=0.9\n",
    "MSi=4.6637e-26 # kg\n",
    "MGe=1.206e-25  # kg\n",
    "VSi=2.0024e-29 #m3\n",
    "VGe=2.2636e-29 #m3\n",
    "\n",
    "Eep=3.4*q\n",
    "xsp=xs[1]\n",
    "Tp=300.0\n",
    "p=1.0\n",
    "D=20e-9\n",
    "NP=0.0\n",
    "a=1.0\n",
    "alpha=0.5 #specularity factor\n",
    "d=97.0e-9#\n",
    "\n",
    "#println(\"1\")\n",
    "\n",
    "\n",
    "#vartauPH0=[[0.02],Ts[1],gammaL,gammaT,xsp,thetaCLx,thetaCTx,thetaCTx,MSi,MGe,VSi,a,T_EF_Dict,0.0]\n",
    "vartauPH0=[ [0.02],  Ts[1],   gammaL,  gammaT, xsp,\n",
    "    thetaSiL, thetaSiT, thetaSiT, MSi,   MGe, \n",
    "    VSi, a, T_EF_Dict_Array, Eep, alpha, \n",
    "    d, thetaSiL, thetaSiT, vSiL, vSiT, \n",
    "    vGeL, vGeT, p, NP,Tsindex=1,\n",
    "    numberofnindex=1,xsindex=1]\n",
    "thetaCLx=thetaCL(vartauPH0[12],vartauPH0[5],vartauPH0[17],vartauPH0[19],vartauPH0[11])\n",
    "thetaCTx=thetaCT(vartauPH0[12],vartauPH0[5],vartauPH0[18],vartauPH0[19],vartauPH0[11])\n",
    "#println(\"2\")\n",
    "tauPHNLf(var)=tauPH_NL(var[3],VSiGe(var[5]),var[1],var[2],MSiGe(var[5]),vSiGeL_PH(var[5]))\n",
    "tauPHNTf(var)=tauPH_NT(var[4],VSiGe(var[5]),var[1],var[2],MSiGe(var[5]),vSiGeT_PH(var[5]))\n",
    "\n",
    "\n",
    "tauPHULf(var)=tauPH_U(var[3],var[1],var[2],MSiGe(var[5]),vSiGeL_PH(var[5]),var[17])\n",
    "tauPHUTf(var)=tauPH_U(var[4],var[1],var[2],MSiGe(var[5]),vSiGeT_PH(var[5]),var[18])\n",
    "\n",
    "tauPHALLLf(var)=tauPH_ALL(var[9],var[10],var[5],VSiGe(var[5]),var[1],var[2],MSiGe(var[5]),vSiGeL_PH(var[5]))\n",
    "tauPHALLTf(var)=tauPH_ALL(var[9],var[10],var[5],VSiGe(var[5]),var[1],var[2],MSiGe(var[5]),vSiGeT_PH(var[5]))\n",
    "\n",
    "tauPHeLf(var)=tauPH_e(var[14],md,MSiGe(var[5])/VSiGe(var[5]),(var[13][var[26],var[27]])[var[2]],var[1],var[2],\n",
    "vSiGeL_PH(var[5]))\n",
    "tauPHeTf(var)=tauPH_e(var[14],md,MSiGe(var[5])/VSiGe(var[5]),(var[13][var[26],var[27]])[var[2]],var[1],var[2],\n",
    "vSiGeT_PH(var[5]))\n",
    "\n",
    "tauPHBLf(var)=tauPH_B(vSiGeL_PH(var[5]),var[14],var[15])\n",
    "tauPHBTf(var)=tauPH_B(vSiGeT_PH(var[5]),var[14],var[15])\n",
    "#println(\"3\")\n",
    "tauPHTOTL=tau_phonon_B([tauPHNLf,tauPHULf,tauPHALLLf,tauPHeLf],vartauPH0)#,tauPH_eLf ,tauPHALLLf ,tauPHBLf\n",
    "tauPHNL=tau_phonon_B([tauPHNLf],vartauPH0)\n",
    "tauPHRL=tau_phonon_B([tauPHULf,tauPHALLLf,tauPHeLf],vartauPH0) #,tauPHALLLf,tauPH_eLf] ,tauPHBLf\n",
    "\n",
    "\n",
    "tauPHTOTTx=tau_phonon_B([tauPHNTf,tauPHUTf,tauPHALLTf,tauPHeTf],vartauPH0) #tauPHALLTf,tauPH_eTf ,tauPHBTf\n",
    "tauPHNTx=tau_phonon_B([tauPHNTf],vartauPH0)\n",
    "tauPHRTx=tau_phonon_B([tauPHUTf,tauPHALLTf,tauPHeTf],vartauPH0) #,tauPHALLTf,tauPH_eTf ,tauPHBTf\n",
    "\n",
    "\n",
    "tauPHTOTTy=tau_phonon_B([tauPHNTf,tauPHUTf,tauPHALLTf,tauPHeTf],vartauPH0) #,tauPHALLTf,tauPH_eTf tauPHBTf\n",
    "tauPHNTy=tau_phonon_B([tauPHNTf],vartauPH0)\n",
    "tauPHRTy=tau_phonon_B([tauPHUTf,tauPHALLTf,tauPHeTf],vartauPH0) #,tauPHALLTf,tauPH_eTf ,tauPHBTf\n",
    "#println(\"4\")\n",
    "\n",
    "tauPHL=[tauPHTOTL,tauPHNL,tauPHRL]\n",
    "tauPHTx=[tauPHTOTTx,tauPHNTx,tauPHRTx]\n",
    "xmax=1.0"
   ]
  },
  {
   "cell_type": "code",
   "execution_count": 7,
   "metadata": {
    "collapsed": false
   },
   "outputs": [
    {
     "data": {
      "text/html": [
       "3.0"
      ],
      "text/plain": [
       "3.0"
      ]
     },
     "execution_count": 7,
     "metadata": {},
     "output_type": "execute_result"
    }
   ],
   "source": [
    "SiGe_SA_162_Bulk_KC_T2=[316.1300512139,339.4744149914,362.8181885196,386.1603880493,409.5019823392,432.8491156044,\n",
    "456.1917086338,479.5343016631,502.8765011929,526.2187007226,549.5626710006,572.9062477789,596.2542579861,619.5928110862,\n",
    "642.9357976151,666.2789808939,689.6269255178,712.9667902833,736.3081372305,759.6511237595,782.991552541,806.3289851042,\n",
    "829.6769353495,853.0193316291,876.1484117754,899.6962916723,923.0457334685,946.3873427489,969.729148779,993.0705613095,\n",
    "1016.4127608393,1038.1038360469,1063.0961761498,1086.4350309329,1109.7758532141,1133.119823492,1156.460842523,\n",
    "1180.2265263224,1193.5942192882]\n",
    "\n",
    "SiGe_SA_162_Bulk_KC_K2=[0.038212563,0.0379416779,0.0376824928,0.0374545079,0.0372385202,0.0369127377,0.0366769527,\n",
    "0.0364411677,0.0362131828,0.0359851979,0.0357221128,0.0354668277,0.0351236623,0.0349679577,0.0347243727,0.0344768877,\n",
    "0.0341350222,0.0339533175,0.0337422327,0.0334986477,0.0333057629,0.0331722699,0.032830293,0.032598408,0.032390684,\n",
    "0.032289896,0.0319183533,0.0317020684,0.0314818835,0.0312694987,0.0310415138,0.030842846,0.030605044,0.0304433594,\n",
    "0.0302426746,0.0299795895,0.0297750047,0.0295610983,0.0294507698]\n",
    "x=3.0"
   ]
  },
  {
   "cell_type": "code",
   "execution_count": 1,
   "metadata": {
    "collapsed": false,
    "scrolled": false
   },
   "outputs": [
    {
     "ename": "LoadError",
     "evalue": "\u001b[91mUndefVarError: VSi not defined\u001b[39m",
     "output_type": "error",
     "traceback": [
      "\u001b[91mUndefVarError: VSi not defined\u001b[39m",
      "",
      "Stacktrace:",
      " [1] \u001b[1minclude_string\u001b[22m\u001b[22m\u001b[1m(\u001b[22m\u001b[22m::String, ::String\u001b[1m)\u001b[22m\u001b[22m at \u001b[1m./loading.jl:515\u001b[22m\u001b[22m"
     ]
    }
   ],
   "source": [
    "function tauPH_U_SAT(gamma::Float64,intx::Array{Float64},T::Float64,M::Float64,\n",
    "    theta::Float64,omegaD::Float64,beta::Float64,delta::Float64)\n",
    "    #intx is different from x in oither phonon calculations intx=omega/omegaD\n",
    "    Mcgs=M\n",
    "    #println(\"Mcgs= \",Mcgs)\n",
    "    deltacgs=delta*100\n",
    "    #println(\"deltacgs= \",deltacgs)\n",
    "    #println(\"1/Mcgs/deltacgs^2/(theta/T)= \",(1/Mcgs/deltacgs^2/(theta/T)))\n",
    "    return 1./((3.264e-2)*((1+beta*(5/9))/(1+beta))*gamma^2.*intx.^2./Mcgs/deltacgs^2/(theta/T))    \n",
    "end\n",
    "\n",
    "function tauPH_EP_SAT(Eep::Float64,md::Float64,x::Array{Float64},Ef::Float64,\n",
    "    T::Float64,M::Float64,theta::Float64,delta::Float64)\n",
    "    eta=Ef#Ef*q/kB/T\n",
    "    deltacgs=delta*100\n",
    "    Mcgs=M\n",
    "    A=6.76e26(md/me)^2*deltacgs^2/Mcgs\n",
    "    y=3.72e9(md/me)*deltacgs^2*theta\n",
    "    D=1.68e-11/(md/me)/deltacgs^2/theta\n",
    "    alphat=thetaD/T\n",
    "    #println(\"alphat \",alphat)\n",
    "    lambda=6\n",
    "    ex1=1+exp.(-alphat*y+eta-D*alphat*x.*x+alphat.*x/2)\n",
    "    ex2=1+exp.(-alphat*y+eta-D*alphat*x.*x-alphat.*x/2)    \n",
    "    ext=ex1./ex2\n",
    "    logt=log.(ext)\n",
    "    return 1./(lambda*(A*Eep^2/alphat).*logt) \n",
    "end\n",
    "\n",
    "function tauPH_PD_SAT(GM::Float64,intx::Array{Float64},theta::Float64)\n",
    "    return 1./(6.17e11*theta*GM.*intx.^4)\n",
    "end\n",
    "\n",
    "function tauPH_U_VT(gamma::Float64,intx::Array{Float64},T::Float64,M::Float64,theta::Float64,\n",
    "omegaD::Float64,beta::Float64,delta::Float64)#intx is different from x in oither phonon calculations intx=omega/omegaD\n",
    "    bb=20*pi/3*hbar*6.02e23*(6*pi*pi/4)^(1/3)\n",
    "    M=M/1000\n",
    "    deltacgs=delta\n",
    "    #println(\"bb \",bb)\n",
    "    return 1./(bb*(1+beta*5/9)/(1+beta)*gamma^2/M/deltacgs^2*(T/theta)^3.*intx.^2)    \n",
    "end\n",
    "\n",
    "function tauPH_C_VT(gamma::Float64,intx::Array{Float64},T::Float64,M::Float64,theta::Float64,\n",
    "omegaD::Float64,beta::Float64,delta::Float64)#intx is different from x in oither phonon calculations intx=omega/omegaD\n",
    "   tau_u=tauPH_U_VT(gamma::Float64,intx::Array{Float64},T::Float64,M::Float64,theta::Float64,\n",
    "omegaD::Float64,beta::Float64,delta::Float64)#intx is different from x in oither phonon calcu\n",
    "    return tau_u#1./(1./(tau_u/beta)+1./tau_u)    \n",
    "end\n",
    "function tauPH_PD_VT(GM::Float64,Tt::Float64,intx::Array{Float64},vtt::Float64,delta::Float64)\n",
    "    return 1./(GM/4/pi*(delta/vtt)^3*(kB*Tt/hbar)^4.*intx.^4)\n",
    "end\n",
    "function tauPH_EP_VT(Eep::Float64,md::Float64,x::Array{Float64},Ef::Float64,v::Float64,T::Float64,d::Float64)\n",
    "    ts=md*v*v/(2*kB*T)\n",
    "    Efst=Ef#*q/kB/T\n",
    "    ex1=(1+exp.(-ts+Efst-x.*x/16/ts+x/2))\n",
    "    ex2=(1+exp.(-ts+Efst-x.*x/16/ts-x/2))    \n",
    "    return 1./((Eep^2*md^3*v)/(4*pi*hbar^4*d*ts).*log.(ex1./ex2))\n",
    "end\n",
    "\n",
    "function tauPH_eT(Eep::Float64,md::Float64,ro::Float64,Ef::Float64,x::Array{Float64},T::Float64,v::Float64)\n",
    "    #Ef=Ef*q/kB/T\n",
    "    beta=md*v^2/2/kB/T\n",
    "    logp=log.((1+exp.(-beta+Ef-x.*x/(16*beta)+x/2))./(1+exp.(-beta+Ef-x.*x/(16*beta)-x/2)))\n",
    "    return 4*pi*hbar^4*ro*beta./(Eep^2*md^3*v)./(logp) \n",
    "end\n",
    "#\n",
    "function I1(gammaSA,GM,Tt,MSiGecgs,thetaD,omegaD,beta,delta,Eep,mds,etha)\n",
    "    alphat=thetaD/Tt\n",
    "    tauPH_U_SA_Af(x)=tauPH_U_SAT(gammaSA,x,Tt,MSiGecgs,thetaD,omegaD,beta,delta)\n",
    "    #tauPH_N_SA_Af(x)=tauPH_U_SA_A(x)/(1+beta)\n",
    "    tauPH_EP_SA_Af(x)=tauPH_EP_SAT(Eep,mds,x,etha,Tt,MSiGecgs,thetaD,delta)\n",
    "    tauPH_PD_SA_Af(x)=tauPH_PD_SAT(GM,x,thetaD)\n",
    "    tauPH_C_SA_Af(x)=1./((beta+1)./tauPH_U_SA_Af(x)+1./tauPH_EP_SA_Af(x)+1./tauPH_PD_SA_Af(x))\n",
    "    \n",
    "    integrand(x)=tauPH_C_SA_Af(x).*(x.^4)*alphat^2.*exp.(alphat*x)./(exp.(alphat*x)-1).^2\n",
    "    \n",
    "    nodes, weights = qnwlege(1000,0.0,1.0)\n",
    "    return a= do_quad(integrand,nodes, weights)    \n",
    "end\n",
    "\n",
    "function I2(gammaSA,GM,Tt,MSiGecgs,thetaD,omegaD,beta,delta,Eep,mds,etha)\n",
    "    alphat=thetaD/Tt\n",
    "    tauPH_U_SA_Af(x)=tauPH_U_SAT(gammaSA,x,Tt,MSiGecgs,thetaD,omegaD,beta,delta)\n",
    "    #tauPH_N_SA_Af(x)=tauPH_U_SA_A(x)/(1+beta)\n",
    "    tauPH_EP_SA_Af(x)=tauPH_EP_SAT(Eep,mds,x,etha,Tt,MSiGecgs,thetaD,delta)\n",
    "    tauPH_PD_SA_Af(x)=tauPH_PD_SAT(GM,x,thetaD)\n",
    "    tauPH_C_SA_Af(x)=1./((beta+1)./tauPH_U_SA_Af(x)+1./tauPH_EP_SA_Af(x)+1./tauPH_PD_SA_Af(x))\n",
    "    \n",
    "    integrand(x)=beta*tauPH_C_SA_Af(x)./tauPH_U_SA_Af(x).*(x.^4)*alphat^2.*exp.(alphat*x)./(exp.(alphat*x)-1).^2\n",
    "    \n",
    "    nodes, weights = qnwlege(1000,0.0,1.0)\n",
    "    return a= do_quad(integrand,nodes, weights)    \n",
    "end\n",
    "\n",
    "function I3(gammaSA,GM,Tt,MSiGecgs,thetaD,omegaD,beta,delta,Eep,mds,etha)\n",
    "    alphat=thetaD/Tt\n",
    "    tauPH_U_SA_Af(x)=tauPH_U_SAT(gammaSA,x,Tt,MSiGecgs,thetaD,omegaD,beta,delta)\n",
    "    #tauPH_N_SA_Af(x)=tauPH_U_SA_A(x)/(1+beta)\n",
    "    tauPH_EP_SA_Af(x)=tauPH_EP_SAT(Eep,mds,x,etha,Tt,MSiGecgs,thetaD,delta)\n",
    "    tauPH_PD_SA_Af(x)=tauPH_PD_SAT(GM,x,thetaD)\n",
    "    tauPH_C_SA_Af(x)=1./((beta+1)./tauPH_U_SA_Af(x)+1./tauPH_EP_SA_Af(x)+1./tauPH_PD_SA_Af(x))\n",
    "    \n",
    "    integrand(x)=beta*1./tauPH_U_SA_Af(x).*\n",
    "    (1-beta*tauPH_C_SA_Af(x)./tauPH_U_SA_Af(x)).*(x.^4)*alphat^2.*exp.(alphat*x)./(exp.(alphat*x)-1).^2\n",
    "    \n",
    "    nodes, weights = qnwlege(1000,0.0,1.0)\n",
    "    return a= do_quad(integrand,nodes, weights)    \n",
    "end\n",
    "\n",
    "function klt(gammaSA,GM,Tt,MSiGecgs,thetaD,omegaD,beta,delta,Eep,mds,etha)    \n",
    "    I1t=I1(gammaSA,GM,Tt,MSiGecgs,thetaD,omegaD,beta,delta,Eep,mds,etha)\n",
    "    I2t=I2(gammaSA,GM,Tt,MSiGecgs,thetaD,omegaD,beta,delta,Eep,mds,etha)\n",
    "    I3t=I3(gammaSA,GM,Tt,MSiGecgs,thetaD,omegaD,beta,delta,Eep,mds,etha)\n",
    "    return 4.67e-2*(thetaD^2/delta/100)*(I1t+I2t.^2/I3t)#(I1t+I2t.^2/I3t)#(kB*thetaD/hbar)^3*(I1t+I2t.^2/I3t)    #4.67e-2*(thetaD^2/delta/100)*(I1t+I2t.^2/I3t)    \n",
    "end\n",
    "###########################################################################################################\n",
    "#\n",
    "\n",
    "function I1V(gammaSA,GM,Tt,MSiGecgs,thetaD,omegaD,beta,delta,Eep,mds,etha,vtt,dd) \n",
    "alphat=thetaD/Tt\n",
    "    tauPH_U_V_Af(x)=tauPH_U_SAT(gammaSA,x,Tt,MSiGecgs,thetaD,omegaD,beta,delta)\n",
    "    #tauPH_U_VT(gammaSA,x,Tt,MSiGecgs,thetaD,omegaD,beta,delta) \n",
    "    #tauPH_U_SAT(gammaSA,x,Tt,MSiGecgs,thetaD,omegaD,beta,delta)\n",
    "    #tauPH_N_SA_Af(x)=tauPH_U_SA_A(x)/(1+beta)\n",
    "    tauPH_EP_V_Af(x)=tauPH_EP_SAT(Eep,mds,x,etha,Tt,MSiGecgs,thetaD,delta)\n",
    "    #tauPH_EP_VT(Eep*q,mds,x,etha,vtt,Tt,dd)/6\n",
    "    #tauPH_EP_SAT(Eep,mds,x,etha,Tt,MSiGecgs,thetaD,delta)\n",
    "    tauPH_PD_V_Af(x)=tauPH_PD_SAT(GM,x,thetaD)\n",
    "    #tauPH_PD_VT(GM,Tt,x,vtt,delta)\n",
    "    #tauPH_PD_SAT(GM,x,thetaD)\n",
    "    tauPH_C_V_Af(x)=1./((beta+1)./tauPH_U_V_Af(x)+1./tauPH_EP_V_Af(x)+1./tauPH_PD_V_Af(x))\n",
    "    \n",
    "    integrand(x)=x#tauPH_C_V_Af(x)#.*(x.^4)#.*exp(x)./(exp(x)-1).^2\n",
    "    \n",
    "    nodes, weights = qnwlege(1000,0.0,alphat)\n",
    "    return a= do_quad(integrand,nodes, weights)\n",
    "   \n",
    "end\n",
    "\n",
    "function I2V(gammaSA,GM,Tt,MSiGecgs,thetaD,omegaD,beta,delta,Eep,mds,etha,vtt,dd)  \n",
    "    tauPH_U_V_Af(x)=tauPH_U_VT(gammaSA,x,Tt,MSiGecgs,thetaD,omegaD,beta,delta) \n",
    "    #tauPH_U_SAT(gammaSA,x,Tt,MSiGecgs,thetaD,omegaD,beta,delta)\n",
    "    #tauPH_N_SA_Af(x)=tauPH_U_SA_A(x)/(1+beta)\n",
    "    tauPH_EP_V_Af(x)=tauPH_EP_VT(Eep*q,mds,x,etha,vtt,Tt,dd)/6\n",
    "    #tauPH_EP_SAT(Eep,mds,x,etha,Tt,MSiGecgs,thetaD,delta)\n",
    "    tauPH_PD_V_Af(x)=tauPH_PD_VT(GM,Tt,x,vtt,delta)\n",
    "    #tauPH_PD_SAT(GM,x,thetaD)\n",
    "    tauPH_C_V_Af(x)=1./((beta+1)./tauPH_U_V_Af(x)+1./tauPH_EP_V_Af(x)+1./tauPH_PD_V_Af(x))\n",
    "    \n",
    "    integrand(x)=beta*tauPH_C_V_Af(x)./tauPH_U_V_Af(x).*(x.^4).*exp.(x)./(exp.(x)-1).^2    \n",
    "    nodes, weights = qnwlege(1000,0.0,thetaD/Tt)\n",
    "    return a= do_quad(integrand,nodes, weights)    \n",
    "end\n",
    "\n",
    "function I3V(gammaSA,GM,Tt,MSiGecgs,thetaD,omegaD,beta,delta,Eep,mds,etha,vtt,dd)  \n",
    "   alphat=thetaD/Tt\n",
    "    tauPH_U_SA_Af(x)=tauPH_U_VT(gammaSA,x,Tt,MSiGecgs,thetaD,omegaD,beta,delta) \n",
    "    #tauPH_N_SA_Af(x)=tauPH_U_SA_A(x)/(1+beta)\n",
    "    tauPH_EP_SA_Af(x)=tauPH_EP_VT(Eep*q,mds,x,etha,vtt,Tt,dd)/6\n",
    "    tauPH_PD_SA_Af(x)=tauPH_PD_VT(GM,Tt,x,vtt,delta)\n",
    "    tauPH_C_SA_Af(x)=1./((beta+1)./tauPH_U_SA_Af(x)+1./tauPH_EP_SA_Af(x)+1./tauPH_PD_SA_Af(x))    \n",
    "    integrand(x)=beta*1./tauPH_U_SA_Af(x).*\n",
    "    (1-beta*tauPH_C_SA_Af(x)./tauPH_U_SA_Af(x)).*(x.^4).*exp.(x)./(exp.(x)-1).^2    \n",
    "    nodes, weights = qnwlege(1000,0.0,alphat)\n",
    "    return a= do_quad(integrand,nodes, weights)    \n",
    "end\n",
    "function I3tt(gammaSA,GM,Tt,MSiGecgs,thetaD,omegaD,beta,delta,Eep,mds,etha)\n",
    "    alphat=thetaD/Tt\n",
    "    tauPH_U_SA_Af(x)=tauPH_U_SAT(gammaSA,x,Tt,MSiGecgs,thetaD,omegaD,beta,delta)\n",
    "    #tauPH_N_SA_Af(x)=tauPH_U_SA_A(x)/(1+beta)\n",
    "    tauPH_EP_SA_Af(x)=tauPH_EP_SAT(Eep,mds,x,etha,Tt,MSiGecgs,thetaD,delta)\n",
    "    tauPH_PD_SA_Af(x)=tauPH_PD_SAT(GM,x,thetaD)\n",
    "    tauPH_C_SA_Af(x)=1./((beta+1)./tauPH_U_SA_Af(x)+1./tauPH_EP_SA_Af(x)+1./tauPH_PD_SA_Af(x))    \n",
    "    integrand(x)=beta*1./tauPH_U_SA_Af(x).*\n",
    "    (1-beta*tauPH_C_SA_Af(x)./tauPH_U_SA_Af(x)).*(x.^4)*alphat^2.*exp.(alphat*x)./(exp.(alphat*x)-1).^2    \n",
    "    nodes, weights = qnwlege(1000,0.0,1.0)\n",
    "    return a= do_quad(integrand,nodes, weights)    \n",
    "end\n",
    "\n",
    "function kltV(gammaSA,Tt,MSiGecgs,thetaD,omegaD,beta,delta,Eep,mds,etha,vtt,dd)    \n",
    "    I1t=I1V(gammaSA,GM,Tt,MSiGecgs,thetaD,omegaD,beta,delta,Eep,mds,etha,vtt,dd)    \n",
    "    I2t=I2V(gammaSA,GM,Tt,MSiGecgs,thetaD,omegaD,beta,delta,Eep,mds,etha,vtt,dd)    \n",
    "    I3t=I3V(gammaSA,GM,Tt,MSiGecgs,thetaD,omegaD,beta,delta,Eep,mds,etha,vtt,dd)    \n",
    "    return (I1t+I2t.^2/I3t)#(kB*Tt/hbar)^3*(I1t+I2t.^2/I3t)#kB^4*Tt^3/2/pi/pi/hbar^3/vtt*(I1t+I2t.^2/I3t)    \n",
    "end\n",
    "\n",
    "###########################################################################################################\n",
    "\n",
    "xxsp=71.3\n",
    "xsp=(100-xxsp)/100\n",
    "Eep=3.0\n",
    "etha=0.96\n",
    "thetaD=524.0#524.0\n",
    "#gammaSA,GM,Tts[Tti],MSiGecgs(xsp),thetaD,omegaD,beta,delta,Eep,mds,etha\n",
    "\n",
    "Tt=thetaD\n",
    "gammaSA=0.92\n",
    "beta=2.0\n",
    "\n",
    "eps=39\n",
    "deltaSi=VSi^(1/3)\n",
    "deltaGe=VGe^(1/3)\n",
    "delta=deltaSi*(1-xsp)+deltaGe*xsp\n",
    "deltacgs=delta*100\n",
    "V=VSi*(1-xsp)+VGe*xsp\n",
    "MSiGecgs(xsp)=28.084*(1-xsp)+xsp*72.64\n",
    "G=1.033*(1-xsp)+1.017*xsp\n",
    "\n",
    "a3=(2.7155^3)*(1-xsp)+(2.8288^3)*xsp\n",
    "a1=a3^(1/3)\n",
    "vtt=kB/hbar*(6*pi*pi)^(-1/3)*thetaD*delta\n",
    "dd=(4.66e-26*(1-xsp)+1.206e-25*xsp)/(2e-29*(1-xsp)+2.2636e-29*xsp)\n",
    "\n",
    "delMSiGe=28.084-72.64\n",
    "deldelta=deltaSi-deltaGe\n",
    "GM=xsp*(1-xsp)*((delMSiGe/MSiGecgs(xsp))^2+eps*(deldelta/delta)^2)\n",
    "\n",
    "omegaD=thetaD*kB/hbar\n",
    "int=collect(0.0001:0.001:1.0) # int=hbar*omega/kB/T\n",
    "intx=int.*Tt/thetaD\n",
    "\n",
    "mds=0.427*me#0.427*me\n",
    "vt=5880.0\n",
    "#println(\"deltaSi \",deltaSi,\"    deltaGe \",deltaGe)\n",
    "\n",
    "tauPH_U_SA_A=Array{Float64,1}(length(intx))\n",
    "\n",
    "tauPH_U_SA_A=tauPH_U_SAT(gammaSA,intx,Tt,MSiGecgs(xsp),thetaD,omegaD,beta,delta)\n",
    "tauPH_C_SA_A=tauPH_U_SA_A/(1+beta)\n",
    "\n",
    "tauPH_U_V_A=tauPH_U_VT(gammaSA,int,Tt,MSiGecgs(xsp),thetaD,omegaD,beta,delta)\n",
    "tauPH_EP_V_A=tauPH_EP_VT(Eep*q,mds,int,etha,vtt,Tt,dd)/6\n",
    "tauPH_C_V_A=tauPH_U_V_A/(beta+1) #tauPH_C_VT(gammaSA,int,Tt,MSiGecgs(xsp),thetaD,omegaD,beta,delta)\n",
    "#plot(intx,tauPH_U_SA_A.*intx.^2,Linestyle=\"-\",color=\"k\")\n",
    "\n",
    "\n",
    "tauPH_EP_SA_A=tauPH_EP_SAT(Eep,mds,intx,etha,Tt,MSiGecgs(xsp),thetaD,delta)\n",
    "tauPH_PD_SA_A=tauPH_PD_SAT(GM,intx,thetaD)\n",
    "tauPH_CUNEP_SA_A=1./(1./tauPH_C_SA_A+1./tauPH_EP_SA_A)\n",
    "tauPH_CUNPD_SA_A=1./(1./tauPH_C_SA_A+1./tauPH_PD_SA_A)\n",
    "tauPH_CUNPDEP_SA_A=1./(1./tauPH_C_SA_A+1./tauPH_PD_SA_A+1./tauPH_EP_SA_A)\n",
    "tauPH_e_A=tauPH_eT(Eep*q,mds,dd,etha,int,Tt,vtt)/6\n",
    "\n",
    "Ttt=300.0\n",
    "I1_SA_A=I1(gammaSA,GM,Ttt,MSiGecgs(xsp),thetaD,omegaD,beta,delta,Eep,mds,etha)#*(kB*thetaD/hbar)^3\n",
    "I1_V_A=I1V(gammaSA,GM,Tt,MSiGecgs(xsp),thetaD,omegaD,beta,delta,Eep,mds,etha,vtt,dd)*(thetaD/Ttt)^4#*(kB*Ttt/hbar)^3\n",
    "I2_SA_A=I2(gammaSA,GM,Ttt,MSiGecgs(xsp),thetaD,omegaD,beta,delta,Eep,mds,etha)#*(kB*thetaD/hbar)^3\n",
    "I2_V_A=I2V(gammaSA,GM,Tt,MSiGecgs(xsp),thetaD,omegaD,beta,delta,Eep,mds,etha,vtt,dd)*(thetaD/Ttt)^2#*(kB*Ttt/hbar)^3\n",
    "I3_SA_A=I3(gammaSA,GM,Ttt,MSiGecgs(xsp),thetaD,omegaD,beta,delta,Eep,mds,etha)#*(kB*thetaD/hbar)^3\n",
    "I3_V_A=I3V(gammaSA,GM,Tt,MSiGecgs(xsp),thetaD,omegaD,beta,delta,Eep,mds,etha,vtt,dd)*(thetaD/Ttt)^2#*(kB*Ttt/hbar)^3\n",
    "\n",
    "Tts=collect(300.0:50:1200.0)#[300.0,500.0,800.0]\n",
    "klt_SA_A=Array{Float64,1}(length(Tts))\n",
    "\n",
    "klt_V_A=Array{Float64,1}(length(Tts))\n",
    "Efqq=[3.0,2.5,2.0,1.5,1.0,0.9,0.8,0.2,0.1,0.05,0.03,0.03,0.02,0.02,0.02,0.01,0.01,0.01,0.01]\n",
    "for Tti in 1:length(Tts)\n",
    "    klt_SA_A[Tti]=klt(gammaSA,GM,Tts[Tti],MSiGecgs(xsp),thetaD,omegaD,beta,delta,Eep,mds,\n",
    "        Efsr[Tti,1,1]/kBe/Tts[Tti])\n",
    "    klt_V_A[Tti]=kltV(gammaSA,Tts[Tti],MSiGecgs(xsp),thetaD,omegaD,beta,delta,Eep,mds,etha,vtt,dd)*(thetaD/Ttt)^2    \n",
    "end\n",
    "\n",
    "SiGe_SA_162_Bulk_KC_T=[298.201949929,399.8236245162,498.0843662731,598.5351036206,698.9858409681,797.1240997501,\n",
    "897.5356425457,997.8589975993,1097.300475234,1199.132820538]\n",
    "SiGe_SA_162_Bulk_KC_KL=[0.0394665342,0.0376127718,0.0362474716,0.0350157828,0.033784094,0.0335298893,0.0326537511,\n",
    "0.0325776017,0.0305013403,0.0267364936]\n",
    "\n",
    "figure()\n",
    "title(\"kl\")\n",
    "plot(Tts,klt_SA_A,Linestyle=\"-\",color=\"r\")\n",
    "#plot(Tts,klt_V_A,Linestyle=\"-\",color=\"b\")\n",
    "plot(SiGe_SA_162_Bulk_KC_T,SiGe_SA_162_Bulk_KC_KL,linestyle=\"None\",marker=\"o\",markersize=7,color=\"b\")\n",
    "plot(SiGe_SA_162_Bulk_KC_T2,SiGe_SA_162_Bulk_KC_K2,linestyle=\"None\",marker=\"o\",markersize=7,color=\"g\")\n",
    "\n",
    "#ylim(0.025,0.075)\n",
    "grid()\n",
    "\n",
    "#figure()\n",
    "#title(\"Vinnig EP\")\n",
    "#plot(intx,tauPH_EP_V_A.*intx.^2,Linestyle=\"-\",color=\"c\")\n",
    "#plot(intx,tauPH_EP_SA_A.*intx.^2,Linestyle=\"-\",color=\"k\")\n",
    "#plot(intx,tauPH_e_A.*intx.^2,Linestyle=\"-\",color=\"y\")\n",
    "#plot(int,tauPH_EP_V_A,Linestyle=\"-\",color=\"c\")\n",
    "#plot(intx,tauPH_EP_SA_A,Linestyle=\"-\",color=\"k\")\n",
    "#grid()\n",
    "\n",
    "figure()\n",
    "plot(intx,tauPH_C_SA_A.*intx.^2,Linestyle=\"-\",color=\"c\")\n",
    "plot((intx),tauPH_CUNEP_SA_A.*(intx).^2,Linestyle=\"-\",color=\"b\")\n",
    "plot((intx),tauPH_CUNPD_SA_A.*(intx).^2,Linestyle=\"-\",color=\"k\")\n",
    "plot((intx),tauPH_CUNPDEP_SA_A.*(intx).^2,Linestyle=\"-\",color=\"r\")\n",
    "\n",
    "#ylim(0.0,7e-13)\n",
    "grid()\n",
    "\n",
    "figure()\n",
    "title(\"Vining\")\n",
    "kk=1e10*vtt\n",
    "#plot((intx),kk*tauPH_C_V_A.*(intx).^2,Linestyle=\"-\",color=\"b\")\n",
    "plot((intx),kk*tauPH_C_SA_A.*(intx).^2,Linestyle=\"-\",color=\"b\")\n",
    "plot((intx),kk*tauPH_CUNEP_SA_A.*(intx).^2,Linestyle=\"-\",color=\"b\")\n",
    "plot((intx),kk*tauPH_CUNPD_SA_A.*(intx).^2,Linestyle=\"-\",color=\"k\")\n",
    "plot((intx),kk*tauPH_CUNPDEP_SA_A.*(intx).^2,Linestyle=\"-\",color=\"r\")\n",
    "#ylim(0.0,12)\n",
    "grid()\n",
    "\n",
    "#figure()\n",
    "#plot((intx),tauPH_EP_SA_A.*(intx).^2,Linestyle=\"-\",color=\"b\")\n",
    "#grid()\n",
    "\n",
    "#figure()\n",
    "#plot((intx),tauPH_CUNEP_SAT_A.*(intx).^2,Linestyle=\"-\",color=\"b\")\n",
    "#ylim(0.0,7e-13)\n",
    "#grid()"
   ]
  },
  {
   "cell_type": "code",
   "execution_count": 9,
   "metadata": {
    "collapsed": false
   },
   "outputs": [
    {
     "data": {
      "text/html": [
       "Inf"
      ],
      "text/plain": [
       "Inf"
      ]
     },
     "execution_count": 9,
     "metadata": {},
     "output_type": "execute_result"
    }
   ],
   "source": [
    "tauAC(vartau0)\n",
    "tauACq(var)=tauAC_func(ClSiGe(var[4],var[2]),Deftemp(var[6])[1],Deftemp(var[6])[2],var[2],var[1],var[3],var[6])#DefP(var[1])\n",
    "#tauII2(var)=tauII2_func(ksi*eps0,eps0,var[6],var[5],var[2],var[7],var[1],var[3],var[8])\n",
    "#tauNI(var)=tauNI_func(ksi*eps0,var[1],var[9])\n",
    "vartau0=[bandC.effMass,Ts[1],Ec(var0),xs[1],Ec(var0),bandC,numofn[1]*1e6,bndstTx,numofnn[1]*1e6,bandV]\n",
    "tauACq(vartau0)"
   ]
  },
  {
   "cell_type": "code",
   "execution_count": 10,
   "metadata": {
    "collapsed": false
   },
   "outputs": [
    {
     "data": {
      "text/plain": [
       "10-element Array{Any,1}:\n",
       "  3.86233e-31                                                                                                                                       \n",
       " 50.1                                                                                                                                               \n",
       "  0.811633                                                                                                                                          \n",
       "  0.287                                                                                                                                             \n",
       "  0.811633                                                                                                                                          \n",
       "   types.parBandTx(3.86233e-31, 0.0, 0.811633, Function[Ec], Function[effMassC], [800.1, 0.287])                                                    \n",
       " -1.5e26                                                                                                                                            \n",
       "   types.BandStrucTx(types.parBandTx[types.parBandTx(3.86233e-31, 0.0, 0.811633, Function[Ec], Function[effMassC], [800.1, 0.287])], [800.1, 0.287])\n",
       "  1.0e23                                                                                                                                            \n",
       "   types.parBandTx(-1.09313e-30, 0.0, 0.0, Function[Ev], Function[effMassV], [800.1, 0.287])                                                        "
      ]
     },
     "execution_count": 10,
     "metadata": {},
     "output_type": "execute_result"
    }
   ],
   "source": [
    "vartau0"
   ]
  },
  {
   "cell_type": "code",
   "execution_count": 27,
   "metadata": {
    "collapsed": false
   },
   "outputs": [
    {
     "data": {
      "image/png": "[encoded data removed]",
      "text/plain": [
       "PyPlot.Figure(PyObject <matplotlib.figure.Figure object at 0x7f63987bb0f0>)"
      ]
     },
     "metadata": {},
     "output_type": "display_data"
    }
   ],
   "source": [
    "Efxx=collect(0.0:0.1:3.0)\n",
    "tau_check=Array{Float64}(length(Efxx))\n",
    "vartau0[2]=300.0\n",
    "for (li,l) in enumerate(Efxx)\n",
    "#var array: var[1]: effMass , var[2]:T, var[3]:E, var[4]:x, var[5]:Ef, \n",
    "#var[6]:band, var[7]:NII var[8]:bndst var[9]:NNI var[10]:bandV\n",
    "    vartau0[3]=l+vartau0[6].offset\n",
    "    tau_check[li]=tauAC(vartau0)\n",
    "end\n",
    "figure()\n",
    "plot(Efxx,tau_check,linestyle=\"-\",color=\"b\")\n",
    "grid()"
   ]
  },
  {
   "cell_type": "code",
   "execution_count": 28,
   "metadata": {
    "collapsed": false
   },
   "outputs": [
    {
     "data": {
      "text/plain": [
       "31-element Array{Float64,1}:\n",
       " Inf          \n",
       "   1.99498e-14\n",
       "   1.41066e-14\n",
       "   1.1518e-14 \n",
       "   9.97489e-15\n",
       "   8.92181e-15\n",
       "   8.14446e-15\n",
       "   7.54031e-15\n",
       "   7.05331e-15\n",
       "   6.64992e-15\n",
       "   6.30867e-15\n",
       "   6.01508e-15\n",
       "   5.759e-15  \n",
       "   ⋮          \n",
       "   4.57679e-15\n",
       "   4.4609e-15 \n",
       "   4.3534e-15 \n",
       "   4.25331e-15\n",
       "   4.15982e-15\n",
       "   4.07223e-15\n",
       "   3.98995e-15\n",
       "   3.91247e-15\n",
       "   3.83934e-15\n",
       "   3.77015e-15\n",
       "   3.70458e-15\n",
       "   3.64231e-15"
      ]
     },
     "execution_count": 28,
     "metadata": {},
     "output_type": "execute_result"
    }
   ],
   "source": [
    "tau_check"
   ]
  },
  {
   "cell_type": "code",
   "execution_count": 12,
   "metadata": {
    "collapsed": false
   },
   "outputs": [
    {
     "name": "stdout",
     "output_type": "stream",
     "text": [
      "VSit 20.023934748875 VGet 22.636367183872007 Vt 20.5464212358744\n",
      "a3t 20.5464212358744 a1t 2.7389161019057777 Vcur 2.7389161019057777\n",
      "Comparison a1 2.7489782587837404 delta 2.7480148133085564e-10\n",
      "Mt 36.9868\n",
      "dt 1.8001577781059224 dtmks 2989.231950305256 dd 3268.2723684284065\n",
      "Vtmks 2.0546421235874404e-29 Mtmks 6.14296e-26 dtmks2 2989.7956094048564\n",
      "vttt 4820.587779732564 vtt 4836.601828855511 vt 5880.0\n"
     ]
    }
   ],
   "source": [
    "xspt=0.2\n",
    "G=1.033*(1-xspt)+1.017*xspt\n",
    "VSit=2.7155^3 #A^3\n",
    "VGet=2.8288^3 #A^3\n",
    "Vt=VSit*(1-xspt)+VGet*xspt #A^3\n",
    "Vcur=Vt^(1/3) #A\n",
    "println(\"VSit \",VSit,\" VGet \",VGet,\" Vt \",Vt)\n",
    "a3t=(2.7155^3)*(1-xspt)+(2.8288^3)*xspt #A^3\n",
    "a1t=a3t^(1/3) #A\n",
    "println(\"a3t \",a3t,\" a1t \",a1t,\" Vcur \",Vcur)\n",
    "println(\"Comparison a1 \",a1,\" delta \",delta)\n",
    "Mt=28.086*(1-xspt)+72.59*xspt  #g/mol\n",
    "println(\"Mt \",Mt)\n",
    "dt=Mt/a3t #g/A^3\n",
    "dtmks=dt/1000/Nav/(1e-30)\n",
    "println(\"dt \",dt,\" dtmks \",dtmks, \" dd \",dd)\n",
    "Vtmks=(1-xspt)*VSit*1e-30+xspt*VGet*1e-30\n",
    "Mtmks=(1-xspt)*4.6637e-26+xspt*1.206e-25\n",
    "dtmks2=Mtmks/Vtmks\n",
    "println(\"Vtmks \",Vtmks,\" Mtmks \",Mtmks,\" dtmks2 \",dtmks2)\n",
    "thetaDt=524.0\n",
    "vttt=kB/hbar*(6*pi*pi)^(-1/3)*thetaDt*a1t*1e-10 #m/s\n",
    "println(\"vttt \",vttt,\" vtt \",vtt,\" vt \",vt)"
   ]
  },
  {
   "cell_type": "code",
   "execution_count": 13,
   "metadata": {
    "collapsed": false
   },
   "outputs": [
    {
     "data": {
      "text/html": [
       "6.173050726012467e11"
      ],
      "text/plain": [
       "6.173050726012467e11"
      ]
     },
     "execution_count": 13,
     "metadata": {},
     "output_type": "execute_result"
    }
   ],
   "source": [
    "kbcgs=1.3807e-16\n",
    "hbarcgs=1.054e-27\n",
    "mecgs=9.109e-28\n",
    "yy=(1/2*mecgs)*kbcgs/hbarcgs/hbarcgs*(6*pi*pi)^(-2/3)\n",
    "DD=hbarcgs^2*(6*pi*pi)^(2/3)/8/mecgs/kbcgs\n",
    "aa=kbcgs^3/(2*pi*pi)/(6*pi*pi)^(-1/3)/hbarcgs^2/1000/100/100\n",
    "eee=kbcgs/hbarcgs*(6*pi)/4"
   ]
  },
  {
   "cell_type": "code",
   "execution_count": 14,
   "metadata": {
    "collapsed": false,
    "scrolled": true
   },
   "outputs": [],
   "source": [
    "#foreach(i->println(\"tauPH_EP_V_A \",[i],\" \",tauPH_EP_V_A[i],\n",
    "#\" tauPH_EP_SA_A\",[i],\" \",tauPH_EP_SA_A[i],\" tauPH_e_A\",[i],\" \",tauPH_e_A[i]),1:length(tauPH_EP_SA_A))"
   ]
  },
  {
   "cell_type": "code",
   "execution_count": 15,
   "metadata": {
    "collapsed": false
   },
   "outputs": [
    {
     "name": "stdout",
     "output_type": "stream",
     "text": [
      "  3.154625 seconds (3.04 M allocations: 843.963 MiB, 5.23% gc time)\n"
     ]
    }
   ],
   "source": [
    "@time klattice=thermalPropsiso(tauPHL,tauPHTx,tauPHTx,[vSiGeL_PH(xsp),vSiGeT_PH(xsp),vSiGeT_PH(xsp)])\n",
    "xmax=3.0"
   ]
  },
  {
   "cell_type": "code",
   "execution_count": 16,
   "metadata": {
    "collapsed": false,
    "scrolled": false
   },
   "outputs": [
    {
     "data": {
      "image/png": "[encoded data removed]",
      "text/plain": [
       "PyPlot.Figure(PyObject <matplotlib.figure.Figure object at 0x7f63d454d3c8>)"
      ]
     },
     "metadata": {},
     "output_type": "display_data"
    },
    {
     "data": {
      "image/png": "[encoded data removed]",
      "text/plain": [
       "PyPlot.Figure(PyObject <matplotlib.figure.Figure object at 0x7f63981ca128>)"
      ]
     },
     "metadata": {},
     "output_type": "display_data"
    },
    {
     "data": {
      "image/png": "[encoded data removed]",
      "text/plain": [
       "PyPlot.Figure(PyObject <matplotlib.figure.Figure object at 0x7f6395546d30>)"
      ]
     },
     "metadata": {},
     "output_type": "display_data"
    },
    {
     "data": {
      "image/png": "[encoded data removed]",
      "text/plain": [
       "PyPlot.Figure(PyObject <matplotlib.figure.Figure object at 0x7f639552c1d0>)"
      ]
     },
     "metadata": {},
     "output_type": "display_data"
    }
   ],
   "source": [
    "SiGe_Min_1700_Bulk_EC_T=[309.4827586207,389.6551724138,450,479.3103448276,504.3103448276,589.6551724138,979.3103448276,\n",
    "    1039.6551724138,1110.3448275862,1189.6551724138,1199.1379310345]\n",
    "SiGe_Min_1700_Bulk_EC_E=[1252.3364485981,1113.707165109,1054.5171339564,1054.5171339564,912.7725856698,834.8909657321,\n",
    "    526.4797507788,434.5794392523,478.1931464174,557.6323987539,501.5576323988]\n",
    "SiGe_Min_730_Bulk_EC_T=[308.6206896552,360.3448275862,419.8275862069,509.2672413793,609.2432950192,957.662835249,\n",
    "    1009.1475095786,1098.9463601533,1149.2337164751,1218.0795019157]\n",
    "SiGe_Min_730_Bulk_EC_E=[771.0280373832,716.5109034268,626.1682242991,556.7670474213,455.0882658359,277.6912426445,\n",
    "        273.3644859813,241.9955001731,231.1786085151,213.8715818622]    \n",
    "SiGe_Min_230_Bulk_EC_T=[299.7365900383,398.5153256705,500.8860153257,598.4674329502,708.6206896552,868.4626436782,\n",
    "        979.8132183908,1019.3247126437,1088.1704980843,1148.0363984674]\n",
    "SiGe_Min_230_Bulk_EC_E=[314.4686742818,280.9363101419,249.5673243337,217.1166493596,184.6659743856,155.460366909,\n",
    "        130.5815160955,131.6632052613,126.2547594323,131.6632052613]\n",
    "SiGe_Min_22_Bulk_EC_T=[309.9137931034,348.2279693487,389.535440613,569.1331417625,690.0622605364,808.596743295,\n",
    "    909.7701149425,989.3917624521,1079.1906130268]\n",
    "SiGe_Min_22_Bulk_EC_E=[49.4548286604,54.8632744894,44.0463828314,38.6379370024,31.0661128418,25.6576670128,24.575977847,\n",
    "    31.0661128418,45.1280719972]\n",
    "xmax=1\n",
    "SiGe_Min_1700_Bulk_SC_T=[310.6382978723,450.2127659574,500.4255319149,579.5744680851,779.5744680851,970.2127659574,\n",
    "    1050.2127659575,1100.4255319149,1151.4893617021,1159.1489361702]\n",
    "SiGe_Min_1700_Bulk_SC_S=[-105.0763607884,-144.5542357395,-159.9686724971,-169.9060174912,-220.5195144237,-245.9652786842,\n",
    "    -276.149327764,-276.2263412087,-260.3537397207,-240.1200887613]\n",
    "SiGe_Min_730_Bulk_SC_T=[310.6382978723,361.7021276596,419.5744680851,509.7872340426,610.2127659574,1009.3617021277,\n",
    "    1219.5744680851]\n",
    "SiGe_Min_730_Bulk_SC_S=[-165.1990601749,-180.0013053126,-210.1514162642,-220.7192272549,-250.3211069051,-330.687899752,\n",
    "    -346.3477352826]\n",
    "SiGe_Min_230_Bulk_SC_T=[298.7234042553,400.8510638298,499.5744680851,600.8510638298,710.6382978723,859.5744680851,\n",
    "    978.7234042553,1039.1489361702,1090.2127659575,1159.1489361702]\n",
    "SiGe_Min_230_Bulk_SC_S=[-249.8433624853,-284.9693251534,-305.3661401906,-320.245398773,-335.7512074142,-342.1146064482,\n",
    "-342.9108471479,-330.7335856938,-309.3395118131,-251.1630335465]\n",
    "SiGe_Min_22_Bulk_SC_T=[309.7872340426,349.7872340426,380.4255319149,410.2127659574,550.6382978723,690.2127659574,\n",
    "824.6808510638,910.6382978723,979.5744680851]\n",
    "SiGe_Min_22_Bulk_SC_S=[-479.9216812427,-489.7989818562,-519.9073228038,-524.8609842057,-534.8923117087,-544.922333899,\n",
    "-540.2205978332,-480.8432319541,-372.9735021538]\n",
    "xmax=1\n",
    "SiGe_Min_1700_Bulk_KC_T=[314.5631067961,444.0129449838,499.2448759439,577.7777777778,769.3635382956,966.1272923409,\n",
    "    1032.5782092772,1105.9331175836,1168.932038835,1188.7810140237]\n",
    "SiGe_Min_1700_Bulk_KC_K=[4.6835063051,4.5239984377,4.4312520924,4.3076219172,4.4329985493,4.1911672804,4.0622865752,\n",
    "4.2179332664,4.4666164491,4.3891585761]\n",
    "SiGe_Min_22_Bulk_KC_T=[314.5631067961,378.4250269687,554.476806904,683.9266450917,814.2394822006,903.9913700108,\n",
    "    973.0312837109]\n",
    "SiGe_Min_22_Bulk_KC_K=[7.1197132017,6.4011605848,5.1350574713,4.6289978797,4.3608749024,4.4855931258,4.7291429528]\n",
    "SiGe_Vin_162_Bulk_KCL_T=[440.3713548665536,497.3222430383224,574.0370374003198]\n",
    "SiGe_Vin_162_Bulk_KCL_KL=[3.3457249070631976,3.2416356877323427,3.074349442379183]\n",
    "\n",
    "SiGe_Su_162_Bulk_KCL_T=[51.5096343499,56.6540954115,60.7039902898,64.5349719314,68.5191928387,73.5104146347,78.545419078,\n",
    "84.2006776918,89.8194507662,96.7152177211,105.1433773327,115.103929601,126.5968745259,140.3884084357,156.4785313306,\n",
    "173.3348505538,190.191169777,207.0474890002,223.9038082233,240.7601274465,257.6164466697,274.4727658929,291.3290851161,\n",
    "308.1854043393,325.0417235624,341.8980427856,358.7543620088,375.610681232,392.4670004552,409.3233196784,424.6472462449,\n",
    "470.6190259445,487.4753451677,504.3316643908,521.187983614,538.0443028372,554.9006220604,571.7569412836,588.6132605068,\n",
    "605.4695797299,622.3258989531,639.1822181763,656.0385373995,672.8948566227,689.7511758459,706.607495069,723.4638142922,\n",
    "    740.3201335154,757.1764527386,774.0327719618,438.2642998028,452.4654832347]\n",
    "SiGe_Su_162_Bulk_KCL_KL=[1.912952409,2.0367544267,2.1416796981,2.2300607933,2.316951567,2.4101428367,2.4960198089,\n",
    "2.5805877859,2.6667920069,2.747450222,2.8331721816,2.9171373319,2.9981959963,3.0776786993,3.1519579117,3.2134462372,\n",
    "3.2637548671,3.3065007618,3.3406974776,3.3686467164,3.3926501804,3.4110637965,3.4258604524,3.4370401479,3.443945254,\n",
    "3.4469045852,3.4531520621,3.4482198435,3.4452605123,3.4409859228,3.4325828837,3.4025146176,3.3880467763,3.3719348622,\n",
    "3.355822948,3.3383957755,3.3196533448,3.3002532849,3.2795379667,3.2575073902,3.2371208866,3.2157479392,3.1940461773,\n",
    "3.1713579716,3.1483409514,3.1253239312,3.102306911,3.0792898907,3.0549576122,3.031940592,3.426443203,3.4189944134]\n",
    "\n",
    "SiGe_Dis_162_Bulk_KC_T=[323.4130104234,436.3766249262,465.5560008689,494.6582798193,568.7099409229,676.8421439083,\n",
    "    861.4563988974,997.8960475554,1141.7663777569,1201.6652338456]\n",
    "SiGe_Dis_162_Bulk_KC_K=[4.6738529713,4.5204119777,4.5006535608,4.430757327,4.3128769847,4.2031161293,3.9957878466,\n",
    "4.065915243,4.2121420299,4.3719065138]\n",
    "\n",
    "SiGe_SA_162_Bulk_KC_T=[398.7219168438,498.0855086789,598.5416158272,698.9878915666,797.1262440682,897.5381098765,\n",
    "997.8565773003,1097.3037361109,1199.1374694305]\n",
    "SiGe_SA_162_Bulk_KC_KL=[3.7593499332,3.62237734,3.494337284,3.3752157204,3.3497102368,3.2618033964,3.2586222334,\n",
    "3.0458424552,2.6680986582]\n",
    "\n",
    "figure()\n",
    "plot(Ts,sigmas[:,1,1]/100,linestyle=\"-\",color=\"b\")\n",
    "#plot(Ts,sigmas[:,2,2]/100,linestyle=\"-\",color=\"r\")\n",
    "#plot(Ts,sigmas[:,3,3]/100,linestyle=\"-\",color=\"g\")\n",
    "#plot(Ts,sigmas[:,4,4]/100,linestyle=\"-\",color=\"#ff66cc\") \n",
    "plot(SiGe_Min_1700_Bulk_EC_T,SiGe_Min_1700_Bulk_EC_E, linestyle=\"None\",marker=\"o\",markersize=7,color=\"b\")\n",
    "plot(SiGe_Min_730_Bulk_EC_T,SiGe_Min_730_Bulk_EC_E, linestyle=\"None\",marker=\"s\",markersize=7,color=\"r\")\n",
    "plot(SiGe_Min_230_Bulk_EC_T,SiGe_Min_230_Bulk_EC_E, linestyle=\"None\",marker=\"^\",markersize=7,color=\"g\")\n",
    "plot(SiGe_Min_22_Bulk_EC_T,SiGe_Min_22_Bulk_EC_E, linestyle=\"None\",marker=\"D\",markersize=7,color=\"#ff66cc\")\n",
    "ylim(0,2000)\n",
    "xlim(0,1500)\n",
    "grid()\n",
    "\n",
    "figure()\n",
    "plot(Ts,seebecks[:,1,1]*1e6,linestyle=\"-\",color=\"b\")\n",
    "#plot(Ts,seebecks[:,2,2]*1e6,linestyle=\"-\",color=\"r\")\n",
    "#plot(Ts,seebecks[:,3,3]*1e6,linestyle=\"-\",color=\"g\")\n",
    "#plot(Ts,seebecks[:,4,4]*1e6,linestyle=\"-\",color=\"#ff66cc\") \n",
    "plot(SiGe_Min_1700_Bulk_SC_T,SiGe_Min_1700_Bulk_SC_S, linestyle=\"None\",marker=\"o\",markersize=7,color=\"b\")\n",
    "plot(SiGe_Min_730_Bulk_SC_T,SiGe_Min_730_Bulk_SC_S, linestyle=\"None\",marker=\"s\",markersize=7,color=\"r\")\n",
    "plot(SiGe_Min_230_Bulk_SC_T,SiGe_Min_230_Bulk_SC_S, linestyle=\"None\",marker=\"^\",markersize=7,color=\"g\")\n",
    "plot(SiGe_Min_22_Bulk_SC_T,SiGe_Min_22_Bulk_SC_S, linestyle=\"None\",marker=\"D\",markersize=7,color=\"#ff66cc\")\n",
    "ylim(-600,0)\n",
    "grid()\n",
    "\n",
    "figure()\n",
    "plot(Ts,klattice[:,1,1]+kes[:,1,1],linestyle=\"-\",color=\"b\")\n",
    "#plot(Ts,klattice[:,2,2]+kes[:,2,2],linestyle=\"-\",color=\"r\")\n",
    "#plot(Ts,klattice[:,3,3]+kes[:,3,3],linestyle=\"-\",color=\"g\")\n",
    "#plot(Ts,klattice[:,4,4]+kes[:,4,4],linestyle=\"-\",color=\"#ff66cc\") \n",
    "plot(SiGe_Min_1700_Bulk_KC_T,SiGe_Min_1700_Bulk_KC_K, linestyle=\"None\",marker=\"o\",markersize=7,color=\"b\")\n",
    "#plot(SiGe_Min_1700_Bulk_KC_T,SiGe_Min_1700_Bulk_KC_K,linestyle=\"None\",marker=\"o\",markersize=7,color=\"b\")\n",
    "#plot(SiGe_Min_730_Bulk_KC_T,SiGe_Min_730_Bulk_SC_S, linestyle=\"None\",marker=\"s\",markersize=7,color=\"r\")\n",
    "#plot(SiGe_Min_230_Bulk_SC_T,SiGe_Min_230_Bulk_SC_S, linestyle=\"None\",marker=\"^\",markersize=7,color=\"g\")\n",
    "plot(SiGe_Min_22_Bulk_KC_T,SiGe_Min_22_Bulk_KC_K, linestyle=\"None\",marker=\"D\",markersize=7,color=\"#ff66cc\")\n",
    "plot(SiGe_Dis_162_Bulk_KC_T,SiGe_Dis_162_Bulk_KC_K, linestyle=\"None\",marker=\"D\",markersize=7,color=\"k\")\n",
    "ylim(3,8)\n",
    "grid()\n",
    "\n",
    "figure()\n",
    "plot(Ts,klattice[:,1,1],linestyle=\"-.\",color=\"b\",label=\"kl\")\n",
    "#plot(Ts,klattice[:,2,2],linestyle=\"-.\",color=\"r\")\n",
    "#plot(Ts,klattice[:,3,3],linestyle=\"-.\",color=\"g\")\n",
    "#plot(Ts,klattice[:,4,4],linestyle=\"-.\",color=\"#ff66cc\") \n",
    "plot(SiGe_Vin_162_Bulk_KCL_T,SiGe_Vin_162_Bulk_KCL_KL, linestyle=\"None\",marker=\"s\",markersize=4,color=\"c\")\n",
    "plot(SiGe_Su_162_Bulk_KCL_T,SiGe_Su_162_Bulk_KCL_KL, linestyle=\"None\",marker=\"s\",markersize=4,color=\"c\")\n",
    "plot(SiGe_SA_162_Bulk_KC_T,SiGe_SA_162_Bulk_KC_KL,linestyle=\"None\",marker=\"o\",markersize=7,color=\"b\")\n",
    "plot(Ts,kes[:,1,1],linestyle=\"--\",color=\"b\",label=\"ke\")\n",
    "plot(Ts,kees[:,1,1],linestyle=\"--\",color=\"k\",label=\"kee\")\n",
    "plot(Ts,kehs[:,1,1],linestyle=\"--\",color=\"y\",label=\"keh\")\n",
    "#plot(Ts,kes[:,2,2],linestyle=\"--\",color=\"r\")\n",
    "#plot(Ts,kes[:,3,3],linestyle=\"--\",color=\"g\")\n",
    "#plot(Ts,kes[:,4,4],linestyle=\"--\",color=\"#ff66cc\") \n",
    "plot(Ts,kbis[:,1,1],linestyle=\":\",color=\"b\",label=\"kbis\")\n",
    "#plot(Ts,kbis[:,2,2],linestyle=\":\",color=\"r\")\n",
    "#plot(Ts,kbis[:,3,3],linestyle=\":\",color=\"g\")\n",
    "#plot(Ts,kbis[:,4,4],linestyle=\":\",color=\"#ff66cc\") \n",
    "#ylim()\n",
    "legend(loc=1)\n",
    "grid()\n",
    "#plot(SiGe_Vin_162_Bulk_KC_T,SiGe_Vin_162_Bulk_KC_K, linestyle=\"None\",marker=\"s\",markersize=4,color=\"c\")\n",
    "#plot(Ts,kl_A,Linestyle=\"-\",Linewidth=\"2\",color=\"b\")\n",
    "\n",
    "\n"
   ]
  },
  {
   "cell_type": "code",
   "execution_count": 17,
   "metadata": {
    "collapsed": false,
    "scrolled": true
   },
   "outputs": [],
   "source": [
    "#kehs"
   ]
  }
 ],
 "metadata": {
  "kernelspec": {
   "display_name": "Julia 0.6.0",
   "language": "julia",
   "name": "julia-0.6"
  },
  "language_info": {
   "file_extension": ".jl",
   "mimetype": "application/julia",
   "name": "julia",
   "version": "0.6.0"
  }
 },
 "nbformat": 4,
 "nbformat_minor": 0
}
