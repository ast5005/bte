{
 "cells": [
  {
   "cell_type": "code",
   "execution_count": 1,
   "metadata": {
    "collapsed": false,
    "scrolled": true
   },
   "outputs": [
    {
     "name": "stderr",
     "output_type": "stream",
     "text": [
      "WARNING: module inheritance should explicitly import + from Base\n"
     ]
    },
    {
     "name": "stdout",
     "output_type": "stream",
     "text": [
      "I am object A"
     ]
    },
    {
     "name": "stderr",
     "output_type": "stream",
     "text": [
      "WARNING: Base.String is deprecated"
     ]
    },
    {
     "name": "stdout",
     "output_type": "stream",
     "text": [
      "\n"
     ]
    },
    {
     "ename": "LoadError",
     "evalue": "LoadError: TypeError: fieldtype: expected DataType, got inheritance_test_types.A\nwhile loading In[1], in expression starting on line 6",
     "output_type": "error",
     "traceback": [
      "LoadError: TypeError: fieldtype: expected DataType, got inheritance_test_types.A\nwhile loading In[1], in expression starting on line 6",
      "",
      " [inlined code] from C:\\Users\\astazebay\\OneDrive\\Working Directory\\julia\\scienctific\\BTE\\inheritance.jl:14",
      " in anonymous at no file:0",
      " in call at C:\\Users\\astazebay\\OneDrive\\Working Directory\\julia\\scienctific\\BTE\\inheritance_test_types.jl:39"
     ]
    },
    {
     "name": "stderr",
     "output_type": "stream",
     "text": [
      ", use AbstractString instead.\n",
      "  likely near In[1]:6\n",
      "WARNING: Base.String is deprecated, use AbstractString instead.\n",
      "  likely near In[1]:6\n",
      "WARNING: names(v) is deprecated, use fieldnames(v) instead.\n",
      " in depwarn at deprecated.jl:73\n",
      " in names at deprecated.jl:50\n",
      " [inlined code] from C:\\Users\\astazebay\\OneDrive\\Working Directory\\julia\\scienctific\\BTE\\inheritance.jl:10\n",
      " in anonymous at no file:0\n",
      " in call at C:\\Users\\astazebay\\OneDrive\\Working Directory\\julia\\scienctific\\BTE\\inheritance_test_types.jl:39\n",
      " in include_string at loading.jl:266\n",
      " in execute_request_0x535c5df2 at C:\\Users\\astazebay\\.julia\\v0.4\\IJulia\\src\\execute_request.jl:177\n",
      " in eventloop at C:\\Users\\astazebay\\.julia\\v0.4\\IJulia\\src\\IJulia.jl:141\n",
      " in anonymous at task.jl:447\n",
      "while loading In[1], in expression starting on line 6\n"
     ]
    }
   ],
   "source": [
    "using inheritance_test_types\n",
    "#include(\"inheritance_test.jl\")\n",
    "a = A()\n",
    "a.whoAmI()\n",
    " \n",
    "b = B()\n",
    "b.whoAmI()\n",
    " \n",
    "b.uniqueFunctionA()\n",
    "b.uniqueFunctionB()"
   ]
  }
 ],
 "metadata": {
  "kernelspec": {
   "display_name": "Julia 0.4.1",
   "language": "julia",
   "name": "julia-0.4"
  },
  "language_info": {
   "file_extension": ".jl",
   "mimetype": "application/julia",
   "name": "julia",
   "version": "0.4.1"
  }
 },
 "nbformat": 4,
 "nbformat_minor": 0
}
