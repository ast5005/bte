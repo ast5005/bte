{
 "cells": [
  {
   "cell_type": "code",
   "execution_count": 3,
   "metadata": {
    "collapsed": false
   },
   "outputs": [],
   "source": [
    "using ProfileView\n",
    "using Cubature\n",
    "using QuantEcon"
   ]
  },
  {
   "cell_type": "code",
   "execution_count": 4,
   "metadata": {
    "collapsed": false
   },
   "outputs": [
    {
     "data": {
      "text/plain": [
       "([4.6173e-5, 0.000243281, 0.000597885, 0.00111005, 0.00177976, 0.00260701, 0.00359174, 0.00473393, 0.00603354, 0.0074905  …  7.99251, 7.99397, 7.99527, 7.99641, 7.99739, 7.99822, 7.99889, 7.9994, 7.99976, 7.99995], [0.000118495, 0.000275828, 0.000433384, 0.000590943, 0.000748483, 0.000905994, 0.00106347, 0.00122091, 0.00137829, 0.00153562  …  0.00153562, 0.00137829, 0.00122091, 0.00106347, 0.000905994, 0.000748483, 0.000590943, 0.000433384, 0.000275828, 0.000118495])"
      ]
     },
     "execution_count": 4,
     "metadata": {},
     "output_type": "execute_result"
    }
   ],
   "source": [
    "nodes, weights = qnwlege(500, 0.0,8.0)"
   ]
  },
  {
   "cell_type": "code",
   "execution_count": 9,
   "metadata": {
    "collapsed": false
   },
   "outputs": [
    {
     "data": {
      "text/plain": [
       "5-element Array{Float64,1}:\n",
       " 1.0e17\n",
       " 1.0e17\n",
       " 1.0e17\n",
       " 1.0e17\n",
       " 1.0e17"
      ]
     },
     "execution_count": 9,
     "metadata": {},
     "output_type": "execute_result"
    }
   ],
   "source": [
    "defnumofnn=Array{Float64}(5)\n",
    "    for (inn,) in enumerate(defnumofnn)\n",
    "       defnumofnn[inn]=1e17 \n",
    "    end\n",
    "defnumofnn"
   ]
  }
 ],
 "metadata": {
  "kernelspec": {
   "display_name": "Julia 0.6.0",
   "language": "julia",
   "name": "julia-0.6"
  },
  "language_info": {
   "file_extension": ".jl",
   "mimetype": "application/julia",
   "name": "julia",
   "version": "0.6.0"
  }
 },
 "nbformat": 4,
 "nbformat_minor": 2
}
