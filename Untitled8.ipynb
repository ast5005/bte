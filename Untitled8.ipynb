{
 "cells": [
  {
   "cell_type": "code",
   "execution_count": null,
   "metadata": {
    "collapsed": true
   },
   "outputs": [],
   "source": [
    "sigma 0.0\n",
    "sigma 93177.20135855094\n",
    "sigma 186354.40271710188\n",
    "sigma 279531.60407565284\n",
    "sigma 372708.80543420376\n",
    "sigma 465886.0067927547\n",
    "sigma 0.0\n",
    "sigma 47545.427532908245\n",
    "sigma 95090.85506581649\n",
    "sigma 142636.28259872473\n",
    "sigma 190181.71013163298\n",
    "sigma 237727.13766454122\n",
    "sigma 0.0\n",
    "sigma 42839.89615425758\n",
    "sigma 85679.79230851516\n",
    "sigma 128519.68846277273\n",
    "sigma 171359.5846170303\n",
    "sigma 214199.4807712879\n",
    "sigma 0.0\n",
    "sigma 19946.196692925678\n",
    "sigma 39892.393385851356\n",
    "sigma 59838.59007877704\n",
    "sigma 79784.78677170271\n",
    "sigma 99730.98346462839\n",
    "sigma 0.0\n",
    "sigma 24314.323319327406\n",
    "sigma 48628.64663865481\n",
    "sigma 72942.96995798222\n",
    "sigma 97257.29327730963\n",
    "sigma 121571.61659663703\n",
    "sigma 0.0\n",
    "sigma 11165.529786469968\n",
    "sigma 22331.059572939936\n",
    "sigma 33496.5893594099\n",
    "sigma 44662.11914587987\n",
    "sigma 55827.64893234984\n",
    " 11.747611 seconds (7.61 "
   ]
  },
  {
   "cell_type": "code",
   "execution_count": 1,
   "metadata": {
    "collapsed": false
   },
   "outputs": [
    {
     "data": {
      "text/plain": [
       "5"
      ]
     },
     "execution_count": 1,
     "metadata": {},
     "output_type": "execute_result"
    }
   ],
   "source": [
    "x=5"
   ]
  },
  {
   "cell_type": "code",
   "execution_count": 2,
   "metadata": {
    "collapsed": false
   },
   "outputs": [
    {
     "name": "stdout",
     "output_type": "stream",
     "text": [
      "x , 5 \n"
     ]
    }
   ],
   "source": [
    "println(\"x , $x \")"
   ]
  },
  {
   "cell_type": "code",
   "execution_count": 3,
   "metadata": {
    "collapsed": false
   },
   "outputs": [
    {
     "data": {
      "text/plain": [
       "559063.2"
      ]
     },
     "execution_count": 3,
     "metadata": {},
     "output_type": "execute_result"
    }
   ],
   "source": [
    "93177.2*6"
   ]
  }
 ],
 "metadata": {
  "kernelspec": {
   "display_name": "Julia 0.6.0",
   "language": "julia",
   "name": "julia-0.6"
  },
  "language_info": {
   "file_extension": ".jl",
   "mimetype": "application/julia",
   "name": "julia",
   "version": "0.6.0"
  }
 },
 "nbformat": 4,
 "nbformat_minor": 2
}
