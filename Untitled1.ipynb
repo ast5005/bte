{
 "cells": [
  {
   "cell_type": "code",
   "execution_count": 1,
   "metadata": {
    "collapsed": false
   },
   "outputs": [
    {
     "data": {
      "text/plain": [
       "electronicthermalPropsiso (generic function with 1 method)"
      ]
     },
     "execution_count": 1,
     "metadata": {},
     "output_type": "execute_result"
    }
   ],
   "source": [
    "using constants\n",
    "using types\n",
    "using Optim\n",
    "using PyPlot\n",
    "using data\n",
    "include(\"DOSfunctions.jl\")\n",
    "include(\"userfunctions.jl\")\n",
    "include(\"propertyfuncs.jl\")"
   ]
  },
  {
   "cell_type": "code",
   "execution_count": 2,
   "metadata": {
    "collapsed": false
   },
   "outputs": [
    {
     "data": {
      "text/html": [
       "3.0"
      ],
      "text/plain": [
       "3.0"
      ]
     },
     "execution_count": 2,
     "metadata": {},
     "output_type": "execute_result"
    }
   ],
   "source": [
    "#Ts=collect(300.0:10.0:800.0)\n",
    "Ts=collect(200:10.0:1200)\n",
    "numofn=[-1.5e20,-7.3e19,-2.0e19,-0.22e19]#,-0.2e20]#,-1.75e20,-3.0e19,-0.9e20]#Sample 1 -3.0e19, Sample 2 -1.25e20,\n",
    "#Sample 3 -1.75e20, Sample Sb 0.75% -1.03e20, #\n",
    "numofnn=[1e17,1e17,1e17,1e17]#,1e17]\n",
    "xs=[0.3,0.3,0.3,0.3]#[0.287,0.3,0.262,0.332]#collect(0.0:0.01:1.0)\n",
    "\n",
    "var0=[Ts[1],xs[1]]\n",
    "Eoff=2.0\n",
    "Ev(var)=Eoff\n",
    "Ec(var)=Ev(var)+EgSiGe(var[1],var[2]) #var[1]:T var[2]:x\n",
    "\n",
    "effMassV(var)=-1.2*me\n",
    "effMassC(var)=0.321me#0.424*me#0.424*me#1.4/6^(2/3)*me\n",
    "\n",
    "bandC=parBandTx(effMassC(var0),0.0,Ec(var0),[Ec],[effMassC],var0)\n",
    "bandV=parBandTx(effMassV(var0),0.0,Ev(var0),[Ev],[effMassV],var0)\n",
    "#bndstTx=BandStrucTx([bandV,bandC,bandC,bandC,bandC,bandC,bandC],var0)\n",
    "bndstTx=BandStrucTx([bandC,bandC,bandC,bandC,bandC,bandC,bandV],var0)\n",
    "#var array: var[1]: effMass , var[2]:T, var[3]:E, var[4]:x, var[5]:Ef, \n",
    "#var[6]:band, var[7]:NII var[8]:bndst var[9]:NNI\n",
    "\n",
    "md=effMassC([Ts[1],xs[1]])*6^(2/3)#1.4*me;\n",
    "function Deftemp(band::parBandTx)\n",
    "    if band==bandC\n",
    "        return 7.0#10.5#15.0\n",
    "    end\n",
    "    if band==bandV        \n",
    "        return 5.5#7.0\n",
    "    end\n",
    "end\n",
    "ksi=21.0\n",
    "tauAC(var)=tauAC_func(ClSiGe(var[4],var[2]),Deftemp(var[6]),var[2],var[1],var[3],var[6])#DefP(var[1])\n",
    "tauII2(var)=tauII2_func(ksi*eps0,eps0,var[6],var[5],var[2],var[7],var[1],var[3],var[8])\n",
    "tauNI(var)=tauNI_func(ksi*eps0,var[1],var[9])\n",
    "vartau0=[bandC.effMass,Ts[1],Ec(var0),xs[1],Ec(var0),bandC,numofn[1]*1e6,bndstTx,numofnn[1]*1e6]\n",
    "#vartau0=[bandC.effMass,Ts[1],1.0,xs[1],1.5,bandC,numofn[1]*1e6,bndstTx,numofnn[1]*1e6]\n",
    "tauTOTTx=tau_electron_B([tauAC,tauII2],vartau0)#tauNI,,tauII2\n",
    "xmax=3.0\n",
    "#T_EF_Dict=Dict()\n",
    "#println(\"-3\")"
   ]
  },
  {
   "cell_type": "code",
   "execution_count": 17,
   "metadata": {
    "collapsed": false
   },
   "outputs": [
    {
     "data": {
      "image/png": "[encoded data removed]",
      "text/plain": [
       "PyPlot.Figure(PyObject <matplotlib.figure.Figure object at 0x7f276654abe0>)"
      ]
     },
     "metadata": {},
     "output_type": "display_data"
    },
    {
     "data": {
      "text/plain": [
       "1-element Array{Any,1}:\n",
       " PyObject <matplotlib.lines.Line2D object at 0x7f27665116a0>"
      ]
     },
     "execution_count": 17,
     "metadata": {},
     "output_type": "execute_result"
    }
   ],
   "source": [
    "bandT1=parBandTx(effMassC(var0),0.0,Ec(var0),[Ec],[effMassC],var0)\n",
    "bandT2=parBandTx(effMassC(var0),1.0,Ec(var0),[Ec],[effMassC],var0)\n",
    "Es=collect(2.8:0.001:3.2)\n",
    "ds1=Array{Float64,1}(length(Es))\n",
    "ds2=Array{Float64,1}(length(Es))\n",
    "ds3=Array{Float64,1}(length(Es))\n",
    "ds4=Array{Float64,1}(length(Es))\n",
    "ax=0.0\n",
    "for (i,Ei) in enumerate(Es)\n",
    "    ds1[i]=getDOS_SingleBand_E(bandT1,Ei)\n",
    "    ds2[i]=getDOS_SingleBand_E(bandT2,Ei)    \n",
    "    ds3[i]=1e46*sqrt(Ei+ax*Ei*Ei)*(1+2*ax*Ei)\n",
    "    ds4[i]=1e46*sqrt(Ei)\n",
    "end\n",
    "plot(Es,ds1,linestyle=\"-\",color=\"r\")\n",
    "plot(Es,ds2,linestyle=\"-\",color=\"b\")\n",
    "#plot(Es,ds3,linestyle=\"-\",color=\"k\")\n",
    "#plot(Es,ds3,linestyle=\"-\",color=\"c\")"
   ]
  },
  {
   "cell_type": "code",
   "execution_count": null,
   "metadata": {
    "collapsed": true
   },
   "outputs": [],
   "source": [
    "function sigmaD(tau_electron::types.tau_electron_Base,band,E,Ef,Temp)   \n",
    "    tau_electron.variables[1]=band.effMass\n",
    "    tau_electron.variables[5]=Ef\n",
    "    tau_electron.variables[6]=band\n",
    "    tau=get_tau(tau_electron,E)\n",
    "    v=(square_velocity_E(band,E))\n",
    "    return q.*q.*v.*tau.*q.*getDOS_SingleBand_E(band,E).*-fermiDerivativeTemp_Ef_E(Ef,Temp,E)  \n",
    "end\n"
   ]
  }
 ],
 "metadata": {
  "kernelspec": {
   "display_name": "Julia 0.5.1",
   "language": "julia",
   "name": "julia-0.5"
  },
  "language_info": {
   "file_extension": ".jl",
   "mimetype": "application/julia",
   "name": "julia",
   "version": "0.5.2"
  }
 },
 "nbformat": 4,
 "nbformat_minor": 0
}
