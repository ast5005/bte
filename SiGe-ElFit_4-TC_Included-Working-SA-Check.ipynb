{
 "cells": [
  {
   "cell_type": "code",
   "execution_count": 1,
   "metadata": {
    "collapsed": false
   },
   "outputs": [
    {
     "ename": "LoadError",
     "evalue": "LoadError: syntax: invalid type signature\nwhile loading /home/abdullah/working_directory/jupyter_wd/julia/scienctific/BTE/types.jl, in expression starting on line 8",
     "output_type": "error",
     "traceback": [
      "LoadError: syntax: invalid type signature\nwhile loading /home/abdullah/working_directory/jupyter_wd/julia/scienctific/BTE/types.jl, in expression starting on line 8",
      "",
      " in include_from_node1(::String) at ./loading.jl:488",
      " in eval(::Module, ::Any) at ./boot.jl:234",
      " in require(::Symbol) at ./loading.jl:415"
     ]
    }
   ],
   "source": [
    "using constants\n",
    "using types\n",
    "using Optim\n",
    "using PyPlot\n",
    "using data\n",
    "include(\"DOSfunctions.jl\")\n",
    "include(\"userfunctions.jl\")\n",
    "include(\"propertyfuncs.jl\")"
   ]
  },
  {
   "cell_type": "code",
   "execution_count": 2,
   "metadata": {
    "collapsed": false
   },
   "outputs": [
    {
     "ename": "LoadError",
     "evalue": "UndefVarError: parBandTx not defined",
     "output_type": "error",
     "traceback": [
      "UndefVarError: parBandTx not defined",
      ""
     ]
    }
   ],
   "source": [
    "Ts=collect(150.01:50.0:800.01)\n",
    "#Ts=collect(663.8:0.01:664.0)#[663.0,663.1]\n",
    "numofn=[-1.5e20,-7.3e19,-2.0e19,-0.15e19]#,-0.2e20]#,-1.75e20,-3.0e19,-0.9e20]#Sample 1 -3.0e19, Sample 2 -1.25e20,\n",
    "#Sample 3 -1.75e20, Sample Sb 0.75% -1.03e20, #\n",
    "numofnn=[1e17,1e17,1e17,1e17]#,1e17]\n",
    "xs=[0.287,0.3,0.3,0.3]#[0.287,0.3,0.262,0.332]#collect(0.0:0.01:1.0)\n",
    "\n",
    "var0=[Ts[1],xs[1]]\n",
    "Eoff=5.0\n",
    "Ev(var)=Eoff\n",
    "Ec(var)=Ev(var)+EgSiGe(var[1],var[2]) #var[1]:T var[2]:x\n",
    "alphanp=0.0#0.2#1/EgSiGe([Ts[1],xs[1]])\n",
    "\n",
    "\n",
    "effMassV(var)=-1.2*me\n",
    "effMassC(var)=1.4/6^(2/3)*me#0.321me#0.424*me#0.424*me#1.4/6^(2/3)*me\n",
    "\n",
    "bandC=parBandTx(effMassC(var0),alphanp,Ec(var0),[Ec],[effMassC],var0)\n",
    "bandV=parBandTx(effMassV(var0),0.0,Ev(var0),[Ev],[effMassV],var0)\n",
    "#bndstTx=BandStrucTx([bandV,bandC,bandC,bandC,bandC,bandC,bandC],var0)\n",
    "bndstTx=BandStrucTx([bandC,bandC,bandC,bandC,bandC,bandC,bandV],var0)#,bandC,bandC,bandC,bandC,bandC,bandV],var0)\n",
    "#var array: var[1]: effMass , var[2]:T, var[3]:E, var[4]:x, var[5]:Ef, \n",
    "#var[6]:band, var[7]:NII var[8]:bndst var[9]:NNI var[10]:bandV\n",
    "\n",
    "md=effMassC([Ts[1],xs[1]])*6^(2/3)#1.4*me;\n",
    "function Deftemp(band::parBandTx)\n",
    "    Da=7.0\n",
    "    Dv=3.8\n",
    "    if band==bandC\n",
    "        return [Da,Dv]#10.5#15.0\n",
    "    end\n",
    "    if band==bandV        \n",
    "        return [Dv,Da]#7.0\n",
    "    end\n",
    "end\n",
    "ksi=21.0\n",
    "tauAC(var)=tauAC_func(ClSiGe(var[4],var[2]),Deftemp(var[6])[1],Deftemp(var[6])[2],var[2],var[1],var[3],var[6])#DefP(var[1])\n",
    "tauII2(var)=tauII2_func(ksi*eps0,eps0,var[6],var[5],var[2],var[7],var[1],var[3],var[8])\n",
    "tauNI(var)=tauNI_func(ksi*eps0,var[1],var[9])\n",
    "vartau0=[bandC.effMass,Ts[1],Ec(var0),xs[1],Ec(var0),bandC,numofn[1]*1e6,bndstTx,numofnn[1]*1e6,bandV]\n",
    "#vartau0=[bandC.effMass,Ts[1],1.0,xs[1],1.5,bandC,numofn[1]*1e6,bndstTx,numofnn[1]*1e6]\n",
    "tauTOTTx=tau_electron_B([tauAC,tauII2,tauNI],vartau0)#tauNI,,tauII2,tauAC,\n",
    "xmax=3.0\n",
    "#T_EF_Dict=Dict()\n",
    "#println(\"-3\")"
   ]
  },
  {
   "cell_type": "code",
   "execution_count": 3,
   "metadata": {
    "collapsed": false
   },
   "outputs": [
    {
     "ename": "LoadError",
     "evalue": "UndefVarError: electronicPropsiso not defined",
     "output_type": "error",
     "traceback": [
      "UndefVarError: electronicPropsiso not defined",
      ""
     ]
    }
   ],
   "source": [
    "@time (Efs,sigmas,seebecks,kes,kees,kehs,kbis)=electronicPropsiso(bndstTx,xs,Ts,numofn,tauTOTTx,xmax)\n",
    "\n",
    "Efsr=Array{Float64,3}(length(Ts),length(numofn),length(xs))\n",
    "for (i,iT) in enumerate(Ts)\n",
    "    for (k,kx) in enumerate(xs) \n",
    "        for (j,jn) in enumerate(numofn)\n",
    "            Efsr[i,j,k]=Efs[i,j,k]-Ec([iT,kx])\n",
    "        end\n",
    "    end\n",
    "end\n",
    "#println(\"-2\")\n",
    "T_EF_Dict=Dict()\n",
    "for (Ti,Tx) in enumerate(Ts)\n",
    "    T_EF_Dict[Tx]=(Efs[Ti])    \n",
    "end\n",
    "T_EF_Dict_Array=Array{Dict{Float64,Float64},2}(length(numofn),length(xs))\n",
    "Dict_temp=Dict()\n",
    "Efsr=Array{Float64,3}(length(Ts),length(numofn),length(xs))\n",
    "for (j,jn) in enumerate(numofn)\n",
    "    for (k,kx) in enumerate(xs) \n",
    "        for (i,iT) in enumerate(Ts)\n",
    "            Efsr[i,j,k]=Efs[i,j,k]-Ec([iT,kx])\n",
    "            Dict_temp[iT]=Efsr[i,j,k]\n",
    "            T_EF_Dict_Array[j,k]=Dict_temp \n",
    "        end\n",
    "    end\n",
    "end"
   ]
  },
  {
   "cell_type": "code",
   "execution_count": 4,
   "metadata": {
    "collapsed": false
   },
   "outputs": [
    {
     "ename": "LoadError",
     "evalue": "UndefVarError: T_EF_Dict_Array not defined",
     "output_type": "error",
     "traceback": [
      "UndefVarError: T_EF_Dict_Array not defined",
      ""
     ]
    }
   ],
   "source": [
    "#println(\"-1\")\n",
    "#############Lattice Thermal Conductivity Parameters###############\n",
    "thetaSiL=586.0 # K \n",
    "thetaSiT=240.0 # K\n",
    "vSiL=8430.0    # m/s\n",
    "vSiT=5840.0    # m/s\n",
    "vGeL=4920.0    # m/s\n",
    "vGeT=3540.0    # m/s\n",
    "gammaL=0.9\n",
    "gammaT=0.9\n",
    "MSi=4.6637e-26 # kg\n",
    "MGe=1.206e-25  # kg\n",
    "VSi=2.0024e-29 #m3\n",
    "VGe=2.2636e-29 #m3\n",
    "\n",
    "Eep=3.4*q\n",
    "xsp=xs[1]\n",
    "Tp=300.0\n",
    "p=1.0\n",
    "D=20e-9\n",
    "NP=0.0\n",
    "a=1.0\n",
    "alpha=0.5 #specularity factor\n",
    "d=97.0e-9#\n",
    "\n",
    "#println(\"1\")\n",
    "\n",
    "#vartauPH0=[[0.02],Ts[1],gammaL,gammaT,xsp,thetaCLx,thetaCTx,thetaCTx,MSi,MGe,VSi,a,T_EF_Dict,0.0]\n",
    "vartauPH0=[ [0.02],  Ts[1],   gammaL,  gammaT, xsp,\n",
    "    thetaSiL, thetaSiT, thetaSiT, MSi,   MGe, \n",
    "    VSi, a, T_EF_Dict_Array, Eep, alpha, \n",
    "    d, thetaSiL, thetaSiT, vSiL, vSiT, \n",
    "    vGeL, vGeT, p, NP,Tsindex=1,\n",
    "    numberofnindex=1,xsindex=1]\n",
    "thetaCLx=thetaCL(vartauPH0[12],vartauPH0[5],vartauPH0[17],vartauPH0[19],vartauPH0[11])\n",
    "thetaCTx=thetaCT(vartauPH0[12],vartauPH0[5],vartauPH0[18],vartauPH0[19],vartauPH0[11])\n",
    "#println(\"2\")\n",
    "tauPHNLf(var)=tauPH_NL(var[3],VSiGe(var[5]),var[1],var[2],MSiGe(var[5]),vSiGeL_PH(var[5]))\n",
    "tauPHNTf(var)=tauPH_NT(var[4],VSiGe(var[5]),var[1],var[2],MSiGe(var[5]),vSiGeT_PH(var[5]))\n",
    "\n",
    "tauPHULf(var)=tauPH_U(var[3],var[1],var[2],MSiGe(var[5]),vSiGeL_PH(var[5]),var[17])\n",
    "tauPHUTf(var)=tauPH_U(var[4],var[1],var[2],MSiGe(var[5]),vSiGeT_PH(var[5]),var[18])\n",
    "\n",
    "tauPHALLLf(var)=tauPH_ALL(var[9],var[10],var[5],VSiGe(var[5]),var[1],var[2],MSiGe(var[5]),vSiGeL_PH(var[5]))\n",
    "tauPHALLTf(var)=tauPH_ALL(var[9],var[10],var[5],VSiGe(var[5]),var[1],var[2],MSiGe(var[5]),vSiGeT_PH(var[5]))\n",
    "\n",
    "tauPHeLf(var)=tauPH_e(var[14],md,MSiGe(var[5])/VSiGe(var[5]),(var[13][var[26],var[27]])[var[2]],var[1],var[2],\n",
    "vSiGeL_PH(var[5]))\n",
    "tauPHeTf(var)=tauPH_e(var[14],md,MSiGe(var[5])/VSiGe(var[5]),(var[13][var[26],var[27]])[var[2]],var[1],var[2],\n",
    "vSiGeT_PH(var[5]))\n",
    "\n",
    "tauPHBLf(var)=tauPH_B(vSiGeL_PH(var[5]),var[14],var[15])\n",
    "tauPHBTf(var)=tauPH_B(vSiGeT_PH(var[5]),var[14],var[15])\n",
    "#println(\"3\")\n",
    "tauPHTOTL=tau_phonon_B([tauPHNLf,tauPHULf,tauPHALLLf,tauPHeLf],vartauPH0)#,tauPH_eLf ,tauPHALLLf ,tauPHBLf\n",
    "tauPHNL=tau_phonon_B([tauPHNLf],vartauPH0)\n",
    "tauPHRL=tau_phonon_B([tauPHULf,tauPHALLLf,tauPHeLf],vartauPH0) #,tauPHALLLf,tauPH_eLf] ,tauPHBLf\n",
    "\n",
    "tauPHTOTTx=tau_phonon_B([tauPHNTf,tauPHUTf,tauPHALLTf,tauPHeTf],vartauPH0) #tauPHALLTf,tauPH_eTf ,tauPHBTf\n",
    "tauPHNTx=tau_phonon_B([tauPHNTf],vartauPH0)\n",
    "tauPHRTx=tau_phonon_B([tauPHUTf,tauPHALLTf,tauPHeTf],vartauPH0) #,tauPHALLTf,tauPH_eTf ,tauPHBTf\n",
    "\n",
    "tauPHTOTTy=tau_phonon_B([tauPHNTf,tauPHUTf,tauPHALLTf,tauPHeTf],vartauPH0) #,tauPHALLTf,tauPH_eTf tauPHBTf\n",
    "tauPHNTy=tau_phonon_B([tauPHNTf],vartauPH0)\n",
    "tauPHRTy=tau_phonon_B([tauPHUTf,tauPHALLTf,tauPHeTf],vartauPH0) #,tauPHALLTf,tauPH_eTf ,tauPHBTf\n",
    "#println(\"4\")\n",
    "\n",
    "tauPHL=[tauPHTOTL,tauPHNL,tauPHRL]\n",
    "tauPHTx=[tauPHTOTTx,tauPHNTx,tauPHRTx]\n",
    "xmax=1.0"
   ]
  },
  {
   "cell_type": "code",
   "execution_count": 5,
   "metadata": {
    "collapsed": false
   },
   "outputs": [
    {
     "data": {
      "text/plain": [
       "1"
      ]
     },
     "execution_count": 5,
     "metadata": {},
     "output_type": "execute_result"
    }
   ],
   "source": [
    "tau=0\n",
    "tau+=1"
   ]
  },
  {
   "cell_type": "code",
   "execution_count": 6,
   "metadata": {
    "collapsed": false,
    "scrolled": false
   },
   "outputs": [
    {
     "ename": "LoadError",
     "evalue": "UndefVarError: qnwlege not defined",
     "output_type": "error",
     "traceback": [
      "UndefVarError: qnwlege not defined",
      "",
      " in I1(::Float64, ::Float64, ::Float64, ::Float64, ::Float64, ::Float64, ::Float64, ::Float64, ::Float64, ::Float64, ::Float64) at ./In[6]:153"
     ]
    }
   ],
   "source": [
    "function tauPH_U_SAT(gamma::Float64,intx::Array{Float64},T::Float64,M::Float64,\n",
    "    theta::Float64,omegaD::Float64,beta::Float64,delta::Float64)\n",
    "    #intx is different from x in oither phonon calculations intx=omega/omegaD\n",
    "    Mcgs=M\n",
    "    #println(\"Mcgs= \",Mcgs)\n",
    "    deltacgs=delta*100\n",
    "    #println(\"deltacgs= \",deltacgs)\n",
    "    #println(\"1/Mcgs/deltacgs^2/(theta/T)= \",(1/Mcgs/deltacgs^2/(theta/T)))\n",
    "    return 1./((3.264e-2)*((1+beta*(5/9))/(1+beta))*gamma^2.*intx.^2./Mcgs/deltacgs^2/(theta/T))    \n",
    "end\n",
    "\n",
    "function tauPH_EP_SAT(Eep::Float64,md::Float64,x::Array{Float64},Ef::Float64,\n",
    "    T::Float64,M::Float64,theta::Float64,delta::Float64)\n",
    "    eta=Ef#Ef*q/kB/T\n",
    "    deltacgs=delta*100\n",
    "    Mcgs=M\n",
    "    A=6.76e26(md/me)^2*deltacgs^2/Mcgs\n",
    "    y=3.72e9(md/me)*deltacgs^2*theta\n",
    "    D=1.68e-11/(md/me)/deltacgs^2/theta\n",
    "    alphat=thetaD/T\n",
    "    #println(\"alphat \",alphat)\n",
    "    lambda=6\n",
    "    ex1=1+exp(-alphat*y+eta-D*alphat*x.*x+alphat.*x/2)\n",
    "    ex2=1+exp(-alphat*y+eta-D*alphat*x.*x-alphat.*x/2)    \n",
    "    ext=ex1./ex2\n",
    "    logt=log(ext)\n",
    "    return 1./(lambda*(A*Eep^2/alphat).*logt) \n",
    "end\n",
    "\n",
    "function tauPH_PD_SAT(GM::Float64,intx::Array{Float64},theta::Float64)\n",
    "    return 1./(6.17e11*theta*GM.*intx.^4)\n",
    "end\n",
    "#++++++++++++++++++++++++++++++++++++++++++++++++++++++++++++++++++++++++++++++++++++++++++++++++++++++++++++#\n",
    "function tauPH_U_VT(gamma::Float64,intx::Array{Float64},T::Float64,M::Float64,theta::Float64,\n",
    "omegaD::Float64,beta::Float64,delta::Float64)#intx is different from x in oither phonon calculations intx=omega/omegaD\n",
    "    bb=20*pi/3*hbar*6.02e23*(6*pi*pi/4)^(1/3)\n",
    "    M=M/1000\n",
    "    deltacgs=delta\n",
    "    #println(\"bb \",bb)\n",
    "    return 1./(bb*(1+beta*5/9)/(1+beta)*gamma^2/M/deltacgs^2*(T/theta)^3.*intx.^2)    \n",
    "end\n",
    "function tauPH_C_VT(gamma::Float64,intx::Array{Float64},T::Float64,M::Float64,theta::Float64,\n",
    "omegaD::Float64,beta::Float64,delta::Float64)#intx is different from x in oither phonon calculations intx=omega/omegaD\n",
    "   tau_u=tauPH_U_VT(gamma::Float64,intx::Array{Float64},T::Float64,M::Float64,theta::Float64,\n",
    "omegaD::Float64,beta::Float64,delta::Float64)#intx is different from x in oither phonon calcu\n",
    "    return tau_u#1./(1./(tau_u/beta)+1./tau_u)    \n",
    "end\n",
    "function tauPH_PD_VT(GM::Float64,Tt::Float64,intx::Array{Float64},vtt::Float64,delta::Float64)\n",
    "    return 1./(GM/4/pi*(delta/vtt)^3*(kB*Tt/hbar)^4.*intx.^4)\n",
    "end\n",
    "function tauPH_EP_VT(Eep::Float64,md::Float64,x::Array{Float64},Ef::Float64,v::Float64,T::Float64,d::Float64)\n",
    "    ts=md*v*v/(2*kB*T)\n",
    "    Efst=Ef#*q/kB/T\n",
    "    ex1=(1+exp(-ts+Efst-x.*x/16/ts+x/2))\n",
    "    ex2=(1+exp(-ts+Efst-x.*x/16/ts-x/2))    \n",
    "    return 1./((Eep^2*md^3*v)/(4*pi*hbar^4*d*ts).*log(ex1./ex2))\n",
    "end\n",
    "\n",
    "#++++++++++++++++++++++++++++++++++++++++++++++++++++++++++++++++++++++++++++++++++++++++++++++++++++++++++++#\n",
    "function tauPH_NLT(gamma::Float64,V::Float64,x::Array{Float64},T::Float64,M::Float64,v::Float64)\n",
    "    \n",
    "    return M*v^5*hbar^4./(kB^5*gamma^2*V*x.*x*T^5)    \n",
    "end\n",
    "function tauPH_UT(gamma::Float64,x::Array{Float64},T::Float64,M::Float64,v::Float64,theta::Float64)   \n",
    "    return 1./((hbar*gamma^2*kB^2.*x.^2*T^3*exp(-theta/3/T)/(M*v^2*theta*hbar^2)))\n",
    "end\n",
    "function tauPH_ALLT(Gamma::Float64,MI::Float64,MII::Float64,y::Float64,V::Float64,\n",
    "    x::Array{Float64},T::Float64,M::Float64,v::Float64)\n",
    "     GammaT=(1-y)*((MI-M)/M)^2+y*((MII-M)/M)^2\n",
    "    return 1./(Gamma*V/v^3./4./pi)./(kB*T*x/hbar).^4 #4*pi*v^3*hbar^4./(Gamma*V*(kB*T*x).^4)\n",
    "end\n",
    "function tauPH_eT(Eep::Float64,md::Float64,ro::Float64,Ef::Float64,x::Array{Float64},T::Float64,v::Float64)\n",
    "    #Ef=Ef*q/kB/T\n",
    "    beta=md*v^2/2/kB/T\n",
    "    logp=log((1+exp(-beta+Ef-x.*x/(16*beta)+x/2))./(1+exp(-beta+Ef-x.*x/(16*beta)-x/2)))\n",
    "    return 4*pi*hbar^4*ro*beta./(Eep^2*md^3*v)./(logp) \n",
    "end\n",
    "#++++++++++++++++++++++++++++++++++++++++++++++++++++++++++++++++++++++++++++++++++++++++++++++++++++++++++++#\n",
    "############################################################################################################\n",
    "function I1SS(gammaSA,GM,Tt,MSiGecgs,V,thetaD,omegaD,beta,delta,Eep,mds,etha,vtt,dd) \n",
    "    alphat=thetaD/Tt\n",
    "    M=MSiGecgs\n",
    "    T=Tt\n",
    "    v=vtt\n",
    "    Ef=etha\n",
    "    gamma=gammaSA\n",
    "    ro=dd\n",
    "    md=mds\n",
    "    tauPH_U_SS_Af(x)=tauPH_UT(gamma,x,T,M,v,thetaD)\n",
    "    tauPH_N_SS_Af(x)=tauPH_NLT(gamma,V,x,T,M,vtt)\n",
    "    tauPH_EP_SS_Af(x)=tauPH_eT(Eep*q,md,ro,Ef,x,T,v)/6   \n",
    "    tauPH_PD_SS_Af(x)=tauPH_ALLT(GM,4.6637e-26,1.206e-25,0.3,V,x,T,M,v)    \n",
    "    tauPH_C_SS_Af(x)=1./(1./tauPH_N_SS_Af(x)+1./tauPH_U_SS_Af(x)+1./tauPH_EP_SS_Af(x)+1./tauPH_PD_SS_Af(x))    \n",
    "    integrand(x)=tauPH_C_SS_Af(x).*(x.^4).*exp(x)./(exp(x)-1).^2    \n",
    "    nodes, weights = qnwlege(1000,0.0,alphat)\n",
    "    return a= do_quad(integrand,nodes, weights)   \n",
    "end\n",
    "function I2SS(gammaSA,GM,Tt,MSiGecgs,V,thetaD,omegaD,beta,delta,Eep,mds,etha,vtt,dd) \n",
    "    alphat=thetaD/Tt\n",
    "    M=MSiGecgs\n",
    "    T=Tt\n",
    "    v=vtt\n",
    "    Ef=etha\n",
    "    gamma=gammaSA\n",
    "    ro=dd\n",
    "    md=mds\n",
    "    tauPH_U_SS_Af(x)=tauPH_UT(gamma,x,T,M,v,thetaD)\n",
    "    tauPH_N_SS_Af(x)=tauPH_NLT(gamma,V,x,T,M,vtt)\n",
    "    tauPH_EP_SS_Af(x)=tauPH_eT(Eep*q,md,ro,Ef,x,T,v)/6   \n",
    "    tauPH_PD_SS_Af(x)=tauPH_ALLT(GM,4.6637e-26,1.206e-25,0.3,V,x,T,M,v)    \n",
    "    tauPH_C_SS_Af(x)=1./(1./tauPH_N_SS_Af(x)+1./tauPH_U_SS_Af(x)+1./tauPH_EP_SS_Af(x)+1./tauPH_PD_SS_Af(x)) \n",
    "    tauPH_R_SS_Af(x)=1./(1./tauPH_U_SS_Af(x)+1./tauPH_EP_SS_Af(x)+1./tauPH_PD_SS_Af(x)) \n",
    "    integrand(x)=tauPH_C_SS_Af(x)./tauPH_N_SS_Af(x).*(x.^4).*exp(x)./(exp(x)-1).^2    \n",
    "    nodes, weights = qnwlege(1000,0.0,thetaD/Tt)\n",
    "    return a= do_quad(integrand,nodes, weights)    \n",
    "end\n",
    "\n",
    "function I3SS(gammaSA,GM,Tt,MSiGecgs,V,thetaD,omegaD,beta,delta,Eep,mds,etha,vtt,dd) \n",
    "alphat=thetaD/Tt\n",
    "    M=MSiGecgs\n",
    "    T=Tt\n",
    "    v=vtt\n",
    "    Ef=etha\n",
    "    gamma=gammaSA\n",
    "    ro=dd\n",
    "    md=mds\n",
    "    tauPH_U_SS_Af(x)=tauPH_UT(gamma,x,T,M,v,thetaD)\n",
    "    tauPH_N_SS_Af(x)=tauPH_NLT(gamma,V,x,T,M,vtt)\n",
    "    tauPH_EP_SS_Af(x)=tauPH_eT(Eep*q,md,ro,Ef,x,T,v)/6   \n",
    "    tauPH_PD_SS_Af(x)=tauPH_ALLT(GM,4.6637e-26,1.206e-25,0.3,V,x,T,M,v)    \n",
    "    tauPH_C_SS_Af(x)=1./(1./tauPH_N_SS_Af(x)+1./tauPH_U_SS_Af(x)+1./tauPH_EP_SS_Af(x)+1./tauPH_PD_SS_Af(x)) \n",
    "    tauPH_R_SS_Af(x)=1./(1./tauPH_U_SS_Af(x)+1./tauPH_EP_SS_Af(x)+1./tauPH_PD_SS_Af(x))    \n",
    "    integrand(x)=tauPH_C_SS_Af(x)./tauPH_N_SS_Af(x)./tauPH_R_SS_Af(x).*(x.^4).*exp(x)./(exp(x)-1).^2    \n",
    "    nodes, weights = qnwlege(1000,0.0,alphat)\n",
    "    return a= do_quad(integrand,nodes, weights)    \n",
    "end\n",
    "function kltSS(gammaSA,GM,Tt,MM,VV,thetaD,omegaD,beta,delta,Eep,mds,etha,vtt,dd) \n",
    "    \n",
    "    I1t=I1SS(gammaSA,GM,Tt,MM,VV,thetaD,omegaD,beta,delta,Eep,mds,etha,vtt,dd)    \n",
    "    I2t=I2SS(gammaSA,GM,Tt,MM,VV,thetaD,omegaD,beta,delta,Eep,mds,etha,vtt,dd)    \n",
    "    I3t=I3SS(gammaSA,GM,Tt,MM,VV,thetaD,omegaD,beta,delta,Eep,mds,etha,vtt,dd)    \n",
    "    return kB^4*Tt^3/2/pi/pi/hbar^3/vtt*(I1t+I2t.^2/I3t)    \n",
    "end\n",
    "\n",
    "###########################################################################################################\n",
    "function I1(gammaSA,GM,Tt,MSiGecgs,thetaD,omegaD,beta,delta,Eep,mds,etha)\n",
    "    alphat=thetaD/Tt\n",
    "    tauPH_U_SA_Af(x)=tauPH_U_SAT(gammaSA,x,Tt,MSiGecgs,thetaD,omegaD,beta,delta)   \n",
    "    tauPH_EP_SA_Af(x)=tauPH_EP_SAT(Eep,mds,x,etha,Tt,MSiGecgs,thetaD,delta)\n",
    "    tauPH_PD_SA_Af(x)=tauPH_PD_SAT(GM,x,thetaD)\n",
    "    tauPH_C_SA_Af(x)=1./((beta+1)./tauPH_U_SA_Af(x)+1./tauPH_EP_SA_Af(x)+1./tauPH_PD_SA_Af(x))    \n",
    "    integrand(x)=tauPH_C_SA_Af(x).*alphat.*(x.^4)*alphat^4.*exp(alphat*x)./(exp(alphat*x)-1).^2    \n",
    "    nodes, weights = qnwlege(1000,0.0,1.0)\n",
    "    return a= do_quad(integrand,nodes, weights)    \n",
    "end\n",
    "\n",
    "function I2(gammaSA,GM,Tt,MSiGecgs,thetaD,omegaD,beta,delta,Eep,mds,etha)\n",
    "    alphat=thetaD/Tt\n",
    "    tauPH_U_SA_Af(x)=tauPH_U_SAT(gammaSA,x,Tt,MSiGecgs,thetaD,omegaD,beta,delta)    \n",
    "    tauPH_EP_SA_Af(x)=tauPH_EP_SAT(Eep,mds,x,etha,Tt,MSiGecgs,thetaD,delta)\n",
    "    tauPH_PD_SA_Af(x)=tauPH_PD_SAT(GM,x,thetaD)\n",
    "    tauPH_C_SA_Af(x)=1./((beta+1)./tauPH_U_SA_Af(x)+1./tauPH_EP_SA_Af(x)+1./tauPH_PD_SA_Af(x))    \n",
    "    integrand(x)=beta*tauPH_C_SA_Af(x)./tauPH_U_SA_Af(x).*(x.^4)*alphat^5.*exp(alphat*x)./(exp(alphat*x)-1).^2    \n",
    "    nodes, weights = qnwlege(1000,0.0,1.0)\n",
    "    return a= do_quad(integrand,nodes, weights)    \n",
    "end\n",
    "\n",
    "function I3(gammaSA,GM,Tt,MSiGecgs,thetaD,omegaD,beta,delta,Eep,mds,etha)\n",
    "    alphat=thetaD/Tt\n",
    "    tauPH_U_SA_Af(x)=tauPH_U_SAT(gammaSA,x,Tt,MSiGecgs,thetaD,omegaD,beta,delta)    \n",
    "    tauPH_EP_SA_Af(x)=tauPH_EP_SAT(Eep,mds,x,etha,Tt,MSiGecgs,thetaD,delta)\n",
    "    tauPH_PD_SA_Af(x)=tauPH_PD_SAT(GM,x,thetaD)\n",
    "    tauPH_C_SA_Af(x)=1./((beta+1)./tauPH_U_SA_Af(x)+1./tauPH_EP_SA_Af(x)+1./tauPH_PD_SA_Af(x))    \n",
    "    integrand(x)=beta*1./tauPH_U_SA_Af(x).*\n",
    "    (1-beta*tauPH_C_SA_Af(x)./tauPH_U_SA_Af(x)).*(x.^4)*alphat^5.*exp(alphat*x)./(exp(alphat*x)-1).^2    \n",
    "    nodes, weights = qnwlege(1000,0.0,1.0)\n",
    "    return a= do_quad(integrand,nodes, weights)    \n",
    "end\n",
    "\n",
    "function klt(gammaSA,GM,Tt,MSiGecgs,thetaD,omegaD,beta,delta,Eep,mds,etha)    \n",
    "    alphat=thetaD/Tt\n",
    "    I1t=I1(gammaSA,GM,Tt,MSiGecgs,thetaD,omegaD,beta,delta,Eep,mds,etha)\n",
    "    I2t=I2(gammaSA,GM,Tt,MSiGecgs,thetaD,omegaD,beta,delta,Eep,mds,etha)\n",
    "    I3t=I3(gammaSA,GM,Tt,MSiGecgs,thetaD,omegaD,beta,delta,Eep,mds,etha)\n",
    "    return 4.67e-2*(thetaD^2/delta/100/alphat^3)*(I1t+I2t.^2/I3t)    \n",
    "end\n",
    "###########################################################################################################\n",
    "#\n",
    "\n",
    "function I1V(gammaSA,GM,Tt,MSiGecgs,thetaD,omegaD,beta,delta,Eep,mds,etha,vtt,dd) \n",
    "alphat=thetaD/Tt\n",
    "    tauPH_U_V_Af(x)=tauPH_U_VT(gammaSA,x,Tt,MSiGecgs,thetaD,omegaD,beta,delta)     \n",
    "    tauPH_EP_V_Af(x)=tauPH_EP_VT(Eep*q,mds,x,etha,vtt,Tt,dd)/6    \n",
    "    tauPH_PD_V_Af(x)=tauPH_PD_VT(GM,Tt,x,vtt,delta)    \n",
    "    tauPH_C_V_Af(x)=1./((beta+1)./tauPH_U_V_Af(x)+1./tauPH_EP_V_Af(x)+1./tauPH_PD_V_Af(x))    \n",
    "    integrand(x)=tauPH_C_V_Af(x).*(x.^4).*exp(x)./(exp(x)-1).^2    \n",
    "    nodes, weights = qnwlege(1000,0.0,alphat)\n",
    "    return a= do_quad(integrand,nodes, weights)   \n",
    "end\n",
    "\n",
    "function I2V(gammaSA,GM,Tt,MSiGecgs,thetaD,omegaD,beta,delta,Eep,mds,etha,vtt,dd)  \n",
    "    tauPH_U_V_Af(x)=tauPH_U_VT(gammaSA,x,Tt,MSiGecgs,thetaD,omegaD,beta,delta)    \n",
    "    tauPH_EP_V_Af(x)=tauPH_EP_VT(Eep*q,mds,x,etha,vtt,Tt,dd)/6    \n",
    "    tauPH_PD_V_Af(x)=tauPH_PD_VT(GM,Tt,x,vtt,delta)    \n",
    "    tauPH_C_V_Af(x)=1./((beta+1)./tauPH_U_V_Af(x)+1./tauPH_EP_V_Af(x)+1./tauPH_PD_V_Af(x))    \n",
    "    integrand(x)=beta*tauPH_C_V_Af(x)./tauPH_U_V_Af(x).*(x.^4).*exp(x)./(exp(x)-1).^2    \n",
    "    nodes, weights = qnwlege(1000,0.0,thetaD/Tt)\n",
    "    return a= do_quad(integrand,nodes, weights)    \n",
    "end\n",
    "\n",
    "function I3V(gammaSA,GM,Tt,MSiGecgs,thetaD,omegaD,beta,delta,Eep,mds,etha,vtt,dd)  \n",
    "   alphat=thetaD/Tt\n",
    "    tauPH_U_SA_Af(x)=tauPH_U_VT(gammaSA,x,Tt,MSiGecgs,thetaD,omegaD,beta,delta)    \n",
    "    tauPH_EP_SA_Af(x)=tauPH_EP_VT(Eep*q,mds,x,etha,vtt,Tt,dd)/6\n",
    "    tauPH_PD_SA_Af(x)=tauPH_PD_VT(GM,Tt,x,vtt,delta)\n",
    "    tauPH_C_SA_Af(x)=1./((beta+1)./tauPH_U_SA_Af(x)+1./tauPH_EP_SA_Af(x)+1./tauPH_PD_SA_Af(x))    \n",
    "    integrand(x)=beta*1./tauPH_U_SA_Af(x).*\n",
    "    (1-beta*tauPH_C_SA_Af(x)./tauPH_U_SA_Af(x)).*(x.^4).*exp(x)./(exp(x)-1).^2    \n",
    "    nodes, weights = qnwlege(1000,0.0,alphat)\n",
    "    return a= do_quad(integrand,nodes, weights)    \n",
    "end\n",
    "function kltV(gammaSA,Tt,MSiGecgs,thetaD,omegaD,beta,delta,Eep,mds,etha,vtt,dd)    \n",
    "    I1t=I1V(gammaSA,GM,Tt,MSiGecgs,thetaD,omegaD,beta,delta,Eep,mds,etha,vtt,dd)    \n",
    "    I2t=I2V(gammaSA,GM,Tt,MSiGecgs,thetaD,omegaD,beta,delta,Eep,mds,etha,vtt,dd)    \n",
    "    I3t=I3V(gammaSA,GM,Tt,MSiGecgs,thetaD,omegaD,beta,delta,Eep,mds,etha,vtt,dd)    \n",
    "    return kB^4*Tt^3/2/pi/pi/hbar^3/vtt*(I1t+I2t.^2/I3t)    \n",
    "end\n",
    "\n",
    "###########################################################################################################\n",
    "\n",
    "\n",
    "xxsp=71.3\n",
    "xsp=(100-xxsp)/100\n",
    "Eep=5.0\n",
    "etha=0.96\n",
    "thetaD=524.0#524.0\n",
    "#gammaSA,GM,Tts[Tti],MSiGecgs(xsp),thetaD,omegaD,beta,delta,Eep,mds,etha\n",
    "\n",
    "Tt=300.0#thetaD\n",
    "gammaSA=0.91\n",
    "beta=2.0\n",
    "\n",
    "MSi=4.6637e-26 # kg\n",
    "MGe=1.206e-25  # kg\n",
    "VSi=2.0024e-29 #m3\n",
    "VGe=2.2636e-29 #m3\n",
    "MM=MSi*(1-xsp)+MGe*xsp\n",
    "VV=VSi*(1-xsp)+VGe*xsp\n",
    "\n",
    "eps=39\n",
    "deltaSi=VSi^(1/3)\n",
    "deltaGe=VGe^(1/3)\n",
    "delta=deltaSi*(1-xsp)+deltaGe*xsp\n",
    "deltacgs=delta*100\n",
    "V=VSi*(1-xsp)+VGe*xsp\n",
    "MSiGecgs(xsp)=28.084*(1-xsp)+xsp*72.64\n",
    "G=1.033*(1-xsp)+1.017*xsp\n",
    "\n",
    "a3=(2.7155^3)*(1-xsp)+(2.8288^3)*xsp\n",
    "a1=a3^(1/3)\n",
    "vtt=kB/hbar*(6*pi*pi)^(-1/3)*thetaD*delta\n",
    "dd=(4.66e-26*(1-xsp)+1.206e-25*xsp)/(2e-29*(1-xsp)+2.2636e-29*xsp)\n",
    "\n",
    "delMSiGe=28.084-72.64\n",
    "deldelta=deltaSi-deltaGe\n",
    "GM=xsp*(1-xsp)*((delMSiGe/MSiGecgs(xsp))^2+eps*(deldelta/delta)^2)\n",
    "\n",
    "omegaD=thetaD*kB/hbar\n",
    "int=collect(0.01:0.01:0.5)#collect(0.0001:0.001:1.0) # int=hbar*omega/kB/T\n",
    "intx=int.*Tt/thetaD\n",
    "\n",
    "mds=0.427*me\n",
    "vt=5880.0\n",
    "#println(\"deltaSi \",deltaSi,\"    deltaGe \",deltaGe)\n",
    "\n",
    "tauPH_U_SA_A=Array{Float64,1}(length(intx))\n",
    "\n",
    "tauPH_U_SA_A=tauPH_U_SAT(gammaSA,intx,Tt,MSiGecgs(xsp),thetaD,omegaD,beta,delta)\n",
    "tauPH_C_SA_A=tauPH_U_SA_A/(1+beta)\n",
    "\n",
    "tauPH_U_V_A=tauPH_U_VT(gammaSA,int,Tt,MSiGecgs(xsp),thetaD,omegaD,beta,delta)\n",
    "tauPH_EP_V_A=tauPH_EP_VT(Eep*q,mds,int,etha,vtt,Tt,dd)/6\n",
    "tauPH_C_V_A=tauPH_U_V_A/(beta+1) #tauPH_C_VT(gammaSA,int,Tt,MSiGecgs(xsp),thetaD,omegaD,beta,delta)\n",
    "#plot(intx,tauPH_U_SA_A.*intx.^2,Linestyle=\"-\",color=\"k\")\n",
    "\n",
    "\n",
    "tauPH_EP_SA_A=tauPH_EP_SAT(Eep,mds,intx,etha,Tt,MSiGecgs(xsp),thetaD,delta)\n",
    "tauPH_PD_SA_A=tauPH_PD_SAT(GM,intx,thetaD)\n",
    "tauPH_CUNEP_SA_A=1./(1./tauPH_C_SA_A+1./tauPH_EP_SA_A)\n",
    "tauPH_CUNPD_SA_A=1./(1./tauPH_C_SA_A+1./tauPH_PD_SA_A)\n",
    "tauPH_CUNPDEP_SA_A=1./(1./tauPH_C_SA_A+1./tauPH_PD_SA_A+1./tauPH_EP_SA_A)\n",
    "tauPH_e_A=tauPH_eT(Eep*q,mds,dd,etha,int,Tt,vtt)/6\n",
    "\n",
    "tauPH_U_SS_A=tauPH_UT(gammaSA,int,Tt,MM,vtt,thetaD)\n",
    "#tauPH_U_SS_A=tauPH_UT(0.3,int,50.01,6.786e-26,7.4226e3,586.0)\n",
    "#tauPH_U_SAT(gammaSA,intx,Tt,MSiGecgs(xsp),thetaD,omegaD,beta,delta)\n",
    "\n",
    "Ttt=300.0\n",
    "I1_SA_A=I1(gammaSA,GM,Ttt,MSiGecgs(xsp),thetaD,omegaD,beta,delta,Eep,mds,etha)\n",
    "I1_V_A=I1V(gammaSA,GM,Ttt,MSiGecgs(xsp),thetaD,omegaD,beta,delta,Eep,mds,etha,vtt,dd)\n",
    "I1_SS_A=I1SS(gammaSA,GM,Ttt,MM,VV,thetaD,omegaD,beta,delta,Eep,mds,etha,vtt,dd) \n",
    "I2_SA_A=I2(gammaSA,GM,Ttt,MSiGecgs(xsp),thetaD,omegaD,beta,delta,Eep,mds,etha)\n",
    "I2_V_A=I2V(gammaSA,GM,Ttt,MSiGecgs(xsp),thetaD,omegaD,beta,delta,Eep,mds,etha,vtt,dd)\n",
    "I2_SS_A=I2SS(gammaSA,GM,Ttt,MM,VV,thetaD,omegaD,beta,delta,Eep,mds,etha,vtt,dd) \n",
    "I3_SA_A=I3(gammaSA,GM,Ttt,MSiGecgs(xsp),thetaD,omegaD,beta,delta,Eep,mds,etha)\n",
    "I3_V_A=I3V(gammaSA,GM,Ttt,MSiGecgs(xsp),thetaD,omegaD,beta,delta,Eep,mds,etha,vtt,dd)\n",
    "I3_SS_A=I3SS(gammaSA,GM,Ttt,MM,VV,thetaD,omegaD,beta,delta,Eep,mds,etha,vtt,dd) \n",
    "\n",
    "Tts=collect(300.0:50:1200.0)#[300.0,500.0,800.0]\n",
    "klt_SA_A=Array{Float64,1}(length(Tts))\n",
    "klt_V_A=Array{Float64,1}(length(Tts))\n",
    "klt_SS_A=Array{Float64,1}(length(Tts))\n",
    "for Tti in 1:length(Tts)\n",
    "    klt_SA_A[Tti]=klt(gammaSA,GM,Tts[Tti],MSiGecgs(xsp),thetaD,omegaD,beta,delta,Eep,mds,etha)\n",
    "    klt_V_A[Tti]=kltV(gammaSA,Tts[Tti],MSiGecgs(xsp),thetaD,omegaD,beta,delta,Eep,mds,etha,vtt,dd)    \n",
    "    klt_SS_A[Tti]=kltSS(gammaSA,GM,Tts[Tti],MM,VV,thetaD,omegaD,beta,delta,Eep,mds,etha,vtt,dd)    \n",
    "end\n",
    "\n",
    "SiGe_SA_162_Bulk_KC_T=[298.201949929,399.8236245162,498.0843662731,598.5351036206,698.9858409681,797.1240997501,\n",
    "897.5356425457,997.8589975993,1097.300475234,1199.132820538]\n",
    "SiGe_SA_162_Bulk_KC_KL=[0.0394665342,0.0376127718,0.0362474716,0.0350157828,0.033784094,0.0335298893,0.0326537511,\n",
    "0.0325776017,0.0305013403,0.0267364936]\n",
    "\n",
    "figure()\n",
    "plot(intx,tauPH_U_SA_A,Linestyle=\"-\",color=\"r\")\n",
    "plot(intx,tauPH_U_SS_A,Linestyle=\"-\",color=\"b\")\n",
    "grid()\n",
    "\n",
    "figure()\n",
    "title(\"kl\")\n",
    "plot(Tts,klt_SA_A,Linestyle=\"-\",color=\"r\")\n",
    "plot(Tts,klt_V_A/100,Linestyle=\"-\",color=\"b\")\n",
    "plot(Tts,klt_SS_A/100,Linestyle=\"-\",color=\"k\")\n",
    "plot(SiGe_SA_162_Bulk_KC_T,SiGe_SA_162_Bulk_KC_KL,linestyle=\"None\",marker=\"o\",markersize=7,color=\"b\")\n",
    "#ylim(0.025,0.075)\n",
    "grid()\n",
    "\n",
    "figure()\n",
    "title(\"Vinnig EP\")\n",
    "plot(intx,tauPH_EP_V_A.*intx.^2,Linestyle=\"-\",color=\"c\")\n",
    "plot(intx,tauPH_EP_SA_A.*intx.^2,Linestyle=\"-\",color=\"k\")\n",
    "plot(intx,tauPH_e_A.*intx.^2,Linestyle=\"-\",color=\"y\")\n",
    "#plot(int,tauPH_EP_V_A,Linestyle=\"-\",color=\"c\")\n",
    "#plot(intx,tauPH_EP_SA_A,Linestyle=\"-\",color=\"k\")\n",
    "grid()\n",
    "\n",
    "figure()\n",
    "plot(intx,tauPH_C_SA_A.*intx.^2,Linestyle=\"-\",color=\"c\")\n",
    "plot((intx),tauPH_CUNEP_SA_A.*(intx).^2,Linestyle=\"-\",color=\"b\")\n",
    "plot((intx),tauPH_CUNPD_SA_A.*(intx).^2,Linestyle=\"-\",color=\"k\")\n",
    "plot((intx),tauPH_CUNPDEP_SA_A.*(intx).^2,Linestyle=\"-\",color=\"r\")\n",
    "\n",
    "#ylim(0.0,7e-13)\n",
    "grid()\n",
    "\n",
    "figure()\n",
    "title(\"Vining\")\n",
    "kk=1e10*vtt\n",
    "#plot((intx),kk*tauPH_C_V_A.*(intx).^2,Linestyle=\"-\",color=\"b\")\n",
    "plot((intx),kk*tauPH_C_SA_A.*(intx).^2,Linestyle=\"-\",color=\"b\")\n",
    "plot((intx),kk*tauPH_CUNEP_SA_A.*(intx).^2,Linestyle=\"-\",color=\"b\")\n",
    "plot((intx),kk*tauPH_CUNPD_SA_A.*(intx).^2,Linestyle=\"-\",color=\"k\")\n",
    "plot((intx),kk*tauPH_CUNPDEP_SA_A.*(intx).^2,Linestyle=\"-\",color=\"r\")\n",
    "#ylim(0.0,12)\n",
    "grid()\n",
    "\n",
    "#figure()\n",
    "#plot((intx),tauPH_EP_SA_A.*(intx).^2,Linestyle=\"-\",color=\"b\")\n",
    "#grid()\n",
    "\n",
    "#figure()\n",
    "#plot((intx),tauPH_CUNEP_SAT_A.*(intx).^2,Linestyle=\"-\",color=\"b\")\n",
    "#ylim(0.0,7e-13)\n",
    "#grid()"
   ]
  },
  {
   "cell_type": "code",
   "execution_count": 7,
   "metadata": {
    "collapsed": false
   },
   "outputs": [
    {
     "ename": "LoadError",
     "evalue": "UndefVarError: I1_SA_A not defined",
     "output_type": "error",
     "traceback": [
      "UndefVarError: I1_SA_A not defined",
      ""
     ]
    }
   ],
   "source": [
    "println(I1_SA_A,\" \",I1_V_A,\" \",I1_SS_A)\n",
    "println(I2_SA_A,\" \",I2_V_A,\" \",I2_SS_A)\n",
    "println(I3_SA_A,\" \",I3_V_A,\" \",I3_SS_A)"
   ]
  },
  {
   "cell_type": "code",
   "execution_count": 8,
   "metadata": {
    "collapsed": false
   },
   "outputs": [
    {
     "data": {
      "text/plain": [
       "4836.601828855511"
      ]
     },
     "execution_count": 8,
     "metadata": {},
     "output_type": "execute_result"
    }
   ],
   "source": [
    "vtt"
   ]
  },
  {
   "cell_type": "code",
   "execution_count": 9,
   "metadata": {
    "collapsed": false
   },
   "outputs": [
    {
     "name": "stdout",
     "output_type": "stream",
     "text": [
      "U_V:[1], 8.644808209850447e-8 U_SA[1], 8.647026821401672e-8 U_SS[1], 3.684453591832207e-7, 0.2346293146157271\n",
      "U_V:[2], 2.1612020524626117e-8 U_SA[2], 2.161756705350418e-8 U_SS[2], 9.211133979580517e-8, 0.2346293146157271\n",
      "U_V:[3], 9.605342455389386e-9 U_SA[3], 9.607807579335188e-9 U_SS[3], 4.093837324258008e-8, 0.2346293146157271\n",
      "U_V:[4], 5.403005131156529e-9 U_SA[4], 5.404391763376045e-9 U_SS[4], 2.3027834948951293e-8, 0.2346293146157271\n",
      "U_V:[5], 3.4579232839401778e-9 U_SA[5], 3.4588107285606686e-9 U_SS[5], 1.4737814367328826e-8, 0.23462931461572709\n",
      "U_V:[6], 2.4013356138473465e-9 U_SA[6], 2.401951894833797e-9 U_SS[6], 1.023459331064502e-8, 0.2346293146157271\n",
      "U_V:[7], 1.7642465734388663e-9 U_SA[7], 1.7646993513064628e-9 U_SS[7], 7.519293044555525e-9, 0.23462931461572706\n",
      "U_V:[8], 1.3507512827891323e-9 U_SA[8], 1.3510979408440112e-9 U_SS[8], 5.756958737237823e-9, 0.2346293146157271\n",
      "U_V:[9], 1.0672602728210429e-9 U_SA[9], 1.0675341754816876e-9 U_SS[9], 4.548708138064453e-9, 0.2346293146157271\n",
      "U_V:[10], 8.644808209850444e-10 U_SA[10], 8.647026821401672e-10 U_SS[10], 3.6844535918322064e-9, 0.23462931461572709\n",
      "U_V:[11], 7.144469594917724e-10 U_SA[11], 7.1463031581832e-10 U_SS[11], 3.0450029684563692e-9, 0.2346293146157271\n",
      "U_V:[12], 6.003339034618366e-10 U_SA[12], 6.004879737084492e-10 U_SS[12], 2.558648327661255e-9, 0.2346293146157271\n",
      "U_V:[13], 5.115271130089021e-10 U_SA[13], 5.116583917989153e-10 U_SS[13], 2.180150054338583e-9, 0.23462931461572717\n",
      "U_V:[14], 4.410616433597166e-10 U_SA[14], 4.411748378266157e-10 U_SS[14], 1.879823261138881e-9, 0.23462931461572706\n",
      "U_V:[15], 3.8421369821557543e-10 U_SA[15], 3.843123031734075e-10 U_SS[15], 1.637534929703203e-9, 0.23462931461572714\n",
      "U_V:[16], 3.3768782069728307e-10 U_SA[16], 3.377744852110028e-10 U_SS[16], 1.4392396843094558e-9, 0.2346293146157271\n",
      "U_V:[17], 2.99128311759531e-10 U_SA[17], 2.992050803253172e-10 U_SS[17], 1.2748974366201406e-9, 0.2346293146157271\n",
      "U_V:[18], 2.668150682052607e-10 U_SA[18], 2.668835438704219e-10 U_SS[18], 1.1371770345161133e-9, 0.2346293146157271\n",
      "U_V:[19], 2.394683714640013e-10 U_SA[19], 2.3952982884769167e-10 U_SS[19], 1.0206242636654312e-9, 0.23462931461572714\n",
      "U_V:[20], 2.161202052462611e-10 U_SA[20], 2.161756705350418e-10 U_SS[20], 9.211133979580516e-10, 0.23462931461572709\n",
      "U_V:[21], 1.96027397048763e-10 U_SA[21], 1.960777057007181e-10 U_SS[21], 8.35477004950614e-10, 0.2346293146157271\n",
      "U_V:[22], 1.786117398729431e-10 U_SA[22], 1.7865757895458e-10 U_SS[22], 7.612507421140923e-10, 0.2346293146157271\n",
      "U_V:[23], 1.634179245718421e-10 U_SA[23], 1.6345986429870833e-10 U_SS[23], 6.964940627282054e-10, 0.23462931461572714\n",
      "U_V:[24], 1.5008347586545915e-10 U_SA[24], 1.501219934271123e-10 U_SS[24], 6.396620819153138e-10, 0.2346293146157271\n",
      "U_V:[25], 1.3831693135760715e-10 U_SA[25], 1.3835242914242674e-10 U_SS[25], 5.895125746931531e-10, 0.2346293146157271\n",
      "U_V:[26], 1.2788177825222552e-10 U_SA[26], 1.2791459794972883e-10 U_SS[26], 5.450375135846458e-10, 0.23462931461572717\n",
      "U_V:[27], 1.1858447475789364e-10 U_SA[27], 1.1861490838685418e-10 U_SS[27], 5.054120153404948e-10, 0.23462931461572709\n",
      "U_V:[28], 1.1026541083992914e-10 U_SA[28], 1.1029370945665393e-10 U_SS[28], 4.699558152847203e-10, 0.23462931461572706\n",
      "U_V:[29], 1.0279201200773422e-10 U_SA[29], 1.0281839264449073e-10 U_SS[29], 4.3810387536649314e-10, 0.2346293146157271\n",
      "U_V:[30], 9.605342455389386e-11 U_SA[30], 9.607807579335187e-11 U_SS[30], 4.0938373242580073e-10, 0.23462931461572714\n",
      "U_V:[31], 8.995638095577988e-11 U_SA[31], 8.99794674443462e-11 U_SS[31], 3.8339787636131185e-10, 0.2346293146157271\n",
      "U_V:[32], 8.442195517432077e-11 U_SA[32], 8.44436213027507e-11 U_SS[32], 3.5980992107736395e-10, 0.2346293146157271\n",
      "U_V:[33], 7.938299549908581e-11 U_SA[33], 7.940336842425777e-11 U_SS[33], 3.3833366316181877e-10, 0.23462931461572709\n",
      "U_V:[34], 7.478207793988275e-11 U_SA[34], 7.48012700813293e-11 U_SS[34], 3.1872435915503515e-10, 0.2346293146157271\n",
      "U_V:[35], 7.056986293755468e-11 U_SA[35], 7.058797405225852e-11 U_SS[35], 3.00771721782221e-10, 0.2346293146157271\n",
      "U_V:[36], 6.670376705131518e-11 U_SA[36], 6.672088596760547e-11 U_SS[36], 2.8429425862902833e-10, 0.2346293146157271\n",
      "U_V:[37], 6.314688246786302e-11 U_SA[37], 6.316308854201365e-11 U_SS[37], 2.6913466704398886e-10, 0.23462931461572709\n",
      "U_V:[38], 5.986709286600033e-11 U_SA[38], 5.988245721192292e-11 U_SS[38], 2.551560659163578e-10, 0.23462931461572714\n",
      "U_V:[39], 5.683634588987802e-11 U_SA[39], 5.685093242210171e-11 U_SS[39], 2.4223889492650926e-10, 0.23462931461572717\n",
      "U_V:[40], 5.403005131156528e-11 U_SA[40], 5.404391763376045e-11 U_SS[40], 2.302783494895129e-10, 0.23462931461572709\n",
      "U_V:[41], 5.142658066538042e-11 U_SA[41], 5.143977883046801e-11 U_SS[41], 2.191822481756221e-10, 0.23462931461572714\n",
      "U_V:[42], 4.900684926219075e-11 U_SA[42], 4.901942642517953e-11 U_SS[42], 2.088692512376535e-10, 0.2346293146157271\n",
      "U_V:[43], 4.6753965439969976e-11 U_SA[43], 4.6765964420777013e-11 U_SS[43], 1.9926736570212047e-10, 0.23462931461572714\n",
      "U_V:[44], 4.4652934968235777e-11 U_SA[44], 4.4664394738645e-11 U_SS[44], 1.9031268552852308e-10, 0.2346293146157271\n",
      "U_V:[45], 4.269041091284171e-11 U_SA[45], 4.27013670192675e-11 U_SS[45], 1.8194832552257806e-10, 0.2346293146157272\n",
      "U_V:[46], 4.085448114296052e-11 U_SA[46], 4.086496607467708e-11 U_SS[46], 1.7412351568205134e-10, 0.23462931461572714\n",
      "U_V:[47], 3.913448714282684e-11 U_SA[47], 3.9144530653697016e-11 U_SS[47], 1.6679282896478984e-10, 0.2346293146157271\n",
      "U_V:[48], 3.752086896636479e-11 U_SA[48], 3.7530498356778077e-11 U_SS[48], 1.5991552047882844e-10, 0.2346293146157271\n",
      "U_V:[49], 3.600503211099729e-11 U_SA[49], 3.6014272475642104e-11 U_SS[49], 1.534549600929699e-10, 0.23462931461572714\n",
      "U_V:[50], 3.457923283940179e-11 U_SA[50], 3.4588107285606686e-11 U_SS[50], 1.4737814367328827e-10, 0.2346293146157271\n"
     ]
    }
   ],
   "source": [
    "foreach(i->println(\"U_V:\",[i],\", \",tauPH_U_V_A[i],\n",
    "\" U_SA\",[i],\", \",tauPH_U_SA_A[i],\" U_SS\",[i],\", \",tauPH_U_SS_A[i],\", \",\n",
    "tauPH_U_V_A[i]/tauPH_U_SS_A[i]),1:length(tauPH_U_SA_A))"
   ]
  },
  {
   "cell_type": "code",
   "execution_count": 10,
   "metadata": {
    "collapsed": false
   },
   "outputs": [],
   "source": [
    "#foreach(i->println(\"tauPH_EP_V_A \",[i],\" \",tauPH_EP_V_A[i],\n",
    "#\" tauPH_EP_SA_A\",[i],\" \",tauPH_EP_SA_A[i],\" tauPH_e_A\",[i],\" \",tauPH_e_A[i]),1:length(tauPH_EP_SA_A))"
   ]
  },
  {
   "cell_type": "code",
   "execution_count": 11,
   "metadata": {
    "collapsed": false
   },
   "outputs": [
    {
     "ename": "LoadError",
     "evalue": "UndefVarError: Tts not defined",
     "output_type": "error",
     "traceback": [
      "UndefVarError: Tts not defined",
      ""
     ]
    }
   ],
   "source": [
    "foreach(i->println(Tts[i],\" \",klt_SA_A[i],\"  \",klt_V_A[i]),1:length(Tts))"
   ]
  },
  {
   "cell_type": "code",
   "execution_count": 12,
   "metadata": {
    "collapsed": false
   },
   "outputs": [
    {
     "ename": "LoadError",
     "evalue": "UndefVarError: klt_A not defined",
     "output_type": "error",
     "traceback": [
      "UndefVarError: klt_A not defined",
      ""
     ]
    }
   ],
   "source": [
    "klt_A"
   ]
  },
  {
   "cell_type": "code",
   "execution_count": 13,
   "metadata": {
    "collapsed": false
   },
   "outputs": [
    {
     "ename": "LoadError",
     "evalue": "UndefVarError: klt_A not defined",
     "output_type": "error",
     "traceback": [
      "UndefVarError: klt_A not defined",
      ""
     ]
    }
   ],
   "source": [
    "klt_A"
   ]
  },
  {
   "cell_type": "code",
   "execution_count": 14,
   "metadata": {
    "collapsed": false
   },
   "outputs": [
    {
     "ename": "LoadError",
     "evalue": "UndefVarError: klt_A not defined",
     "output_type": "error",
     "traceback": [
      "UndefVarError: klt_A not defined",
      ""
     ]
    }
   ],
   "source": [
    "klt_A"
   ]
  },
  {
   "cell_type": "code",
   "execution_count": 15,
   "metadata": {
    "collapsed": false
   },
   "outputs": [
    {
     "data": {
      "text/plain": [
       "21.644536641781535"
      ]
     },
     "execution_count": 15,
     "metadata": {},
     "output_type": "execute_result"
    }
   ],
   "source": [
    "(0.0162^2/3.488e11+4.64102e-11)*4.66367e11"
   ]
  },
  {
   "cell_type": "code",
   "execution_count": 16,
   "metadata": {
    "collapsed": false
   },
   "outputs": [
    {
     "data": {
      "text/plain": [
       "4.666168150877512e11"
      ]
     },
     "execution_count": 16,
     "metadata": {},
     "output_type": "execute_result"
    }
   ],
   "source": [
    "(thetaD^2/delta/100)*4.67e-2"
   ]
  },
  {
   "cell_type": "code",
   "execution_count": 17,
   "metadata": {
    "collapsed": false
   },
   "outputs": [
    {
     "name": "stdout",
     "output_type": "stream",
     "text": [
      "VSit 20.023934748875 VGet 22.636367183872007 Vt 20.5464212358744\n",
      "a3t 20.5464212358744 a1t 2.7389161019057777 Vcur 2.7389161019057777\n",
      "Comparison a1 2.7489782587837404 delta 2.7480148133085564e-10\n",
      "Mt 36.9868\n",
      "dt 1.8001577781059224 dtmks 2989.231950305256 dd 3268.2723684284065\n",
      "Vtmks 2.0546421235874404e-29 Mtmks 6.14296e-26 dtmks2 2989.7956094048564\n",
      "vttt 4820.587779732564 vtt 4836.601828855511 vt 5880.0\n"
     ]
    }
   ],
   "source": [
    "xspt=0.2\n",
    "G=1.033*(1-xspt)+1.017*xspt\n",
    "VSit=2.7155^3 #A^3\n",
    "VGet=2.8288^3 #A^3\n",
    "Vt=VSit*(1-xspt)+VGet*xspt #A^3\n",
    "Vcur=Vt^(1/3) #A\n",
    "println(\"VSit \",VSit,\" VGet \",VGet,\" Vt \",Vt)\n",
    "a3t=(2.7155^3)*(1-xspt)+(2.8288^3)*xspt #A^3\n",
    "a1t=a3t^(1/3) #A\n",
    "println(\"a3t \",a3t,\" a1t \",a1t,\" Vcur \",Vcur)\n",
    "println(\"Comparison a1 \",a1,\" delta \",delta)\n",
    "Mt=28.086*(1-xspt)+72.59*xspt  #g/mol\n",
    "println(\"Mt \",Mt)\n",
    "dt=Mt/a3t #g/A^3\n",
    "dtmks=dt/1000/Nav/(1e-30)\n",
    "println(\"dt \",dt,\" dtmks \",dtmks, \" dd \",dd)\n",
    "Vtmks=(1-xspt)*VSit*1e-30+xspt*VGet*1e-30\n",
    "Mtmks=(1-xspt)*4.6637e-26+xspt*1.206e-25\n",
    "dtmks2=Mtmks/Vtmks\n",
    "println(\"Vtmks \",Vtmks,\" Mtmks \",Mtmks,\" dtmks2 \",dtmks2)\n",
    "thetaDt=524.0\n",
    "vttt=kB/hbar*(6*pi*pi)^(-1/3)*thetaDt*a1t*1e-10 #m/s\n",
    "println(\"vttt \",vttt,\" vtt \",vtt,\" vt \",vt)"
   ]
  },
  {
   "cell_type": "code",
   "execution_count": 18,
   "metadata": {
    "collapsed": false
   },
   "outputs": [
    {
     "data": {
      "text/plain": [
       "1.6783226027805357e-11"
      ]
     },
     "execution_count": 18,
     "metadata": {},
     "output_type": "execute_result"
    }
   ],
   "source": [
    "(1.054e-27)^2*(6*pi*pi)^(2/3)/8/(9.109e-28)/1.38e-16"
   ]
  },
  {
   "cell_type": "code",
   "execution_count": 19,
   "metadata": {
    "collapsed": false
   },
   "outputs": [
    {
     "data": {
      "text/plain": [
       "6.173050726012467e11"
      ]
     },
     "execution_count": 19,
     "metadata": {},
     "output_type": "execute_result"
    }
   ],
   "source": [
    "kbcgs=1.3807e-16\n",
    "hbarcgs=1.054e-27\n",
    "mecgs=9.109e-28\n",
    "yy=(1/2*mecgs)*kbcgs/hbarcgs/hbarcgs*(6*pi*pi)^(-2/3)\n",
    "DD=hbarcgs^2*(6*pi*pi)^(2/3)/8/mecgs/kbcgs\n",
    "aa=kbcgs^3/(2*pi*pi)/(6*pi*pi)^(-1/3)/hbarcgs^2/1000/100/100\n",
    "eee=kbcgs/hbarcgs*(6*pi)/4"
   ]
  },
  {
   "cell_type": "code",
   "execution_count": 20,
   "metadata": {
    "collapsed": false
   },
   "outputs": [
    {
     "data": {
      "text/plain": [
       "0.04678471738321031"
      ]
     },
     "execution_count": 20,
     "metadata": {},
     "output_type": "execute_result"
    }
   ],
   "source": [
    "aa"
   ]
  },
  {
   "cell_type": "code",
   "execution_count": 21,
   "metadata": {
    "collapsed": false
   },
   "outputs": [
    {
     "data": {
      "text/plain": [
       "4836.601828855511"
      ]
     },
     "execution_count": 21,
     "metadata": {},
     "output_type": "execute_result"
    }
   ],
   "source": [
    "vtt"
   ]
  },
  {
   "cell_type": "code",
   "execution_count": 22,
   "metadata": {
    "collapsed": false
   },
   "outputs": [
    {
     "name": "stdout",
     "output_type": "stream",
     "text": [
      "tauPH_U_V_A [1] 8.644808209850447e-8 tauPH_U_SA_A[1] 8.647026821401672e-8 tauPH_U_SS_A[1] 3.684453591832207e-7\n",
      "tauPH_U_V_A [2] 2.1612020524626117e-8 tauPH_U_SA_A[2] 2.161756705350418e-8 tauPH_U_SS_A[2] 9.211133979580517e-8\n",
      "tauPH_U_V_A [3] 9.605342455389386e-9 tauPH_U_SA_A[3] 9.607807579335188e-9 tauPH_U_SS_A[3] 4.093837324258008e-8\n",
      "tauPH_U_V_A [4] 5.403005131156529e-9 tauPH_U_SA_A[4] 5.404391763376045e-9 tauPH_U_SS_A[4] 2.3027834948951293e-8\n",
      "tauPH_U_V_A [5] 3.4579232839401778e-9 tauPH_U_SA_A[5] 3.4588107285606686e-9 tauPH_U_SS_A[5] 1.4737814367328826e-8\n",
      "tauPH_U_V_A [6] 2.4013356138473465e-9 tauPH_U_SA_A[6] 2.401951894833797e-9 tauPH_U_SS_A[6] 1.023459331064502e-8\n",
      "tauPH_U_V_A [7] 1.7642465734388663e-9 tauPH_U_SA_A[7] 1.7646993513064628e-9 tauPH_U_SS_A[7] 7.519293044555525e-9\n",
      "tauPH_U_V_A [8] 1.3507512827891323e-9 tauPH_U_SA_A[8] 1.3510979408440112e-9 tauPH_U_SS_A[8] 5.756958737237823e-9\n",
      "tauPH_U_V_A [9] 1.0672602728210429e-9 tauPH_U_SA_A[9] 1.0675341754816876e-9 tauPH_U_SS_A[9] 4.548708138064453e-9\n",
      "tauPH_U_V_A [10] 8.644808209850444e-10 tauPH_U_SA_A[10] 8.647026821401672e-10 tauPH_U_SS_A[10] 3.6844535918322064e-9\n",
      "tauPH_U_V_A [11] 7.144469594917724e-10 tauPH_U_SA_A[11] 7.1463031581832e-10 tauPH_U_SS_A[11] 3.0450029684563692e-9\n",
      "tauPH_U_V_A [12] 6.003339034618366e-10 tauPH_U_SA_A[12] 6.004879737084492e-10 tauPH_U_SS_A[12] 2.558648327661255e-9\n",
      "tauPH_U_V_A [13] 5.115271130089021e-10 tauPH_U_SA_A[13] 5.116583917989153e-10 tauPH_U_SS_A[13] 2.180150054338583e-9\n",
      "tauPH_U_V_A [14] 4.410616433597166e-10 tauPH_U_SA_A[14] 4.411748378266157e-10 tauPH_U_SS_A[14] 1.879823261138881e-9\n",
      "tauPH_U_V_A [15] 3.8421369821557543e-10 tauPH_U_SA_A[15] 3.843123031734075e-10 tauPH_U_SS_A[15] 1.637534929703203e-9\n",
      "tauPH_U_V_A [16] 3.3768782069728307e-10 tauPH_U_SA_A[16] 3.377744852110028e-10 tauPH_U_SS_A[16] 1.4392396843094558e-9\n",
      "tauPH_U_V_A [17] 2.99128311759531e-10 tauPH_U_SA_A[17] 2.992050803253172e-10 tauPH_U_SS_A[17] 1.2748974366201406e-9\n",
      "tauPH_U_V_A [18] 2.668150682052607e-10 tauPH_U_SA_A[18] 2.668835438704219e-10 tauPH_U_SS_A[18] 1.1371770345161133e-9\n",
      "tauPH_U_V_A [19] 2.394683714640013e-10 tauPH_U_SA_A[19] 2.3952982884769167e-10 tauPH_U_SS_A[19] 1.0206242636654312e-9\n",
      "tauPH_U_V_A [20] 2.161202052462611e-10 tauPH_U_SA_A[20] 2.161756705350418e-10 tauPH_U_SS_A[20] 9.211133979580516e-10\n",
      "tauPH_U_V_A [21] 1.96027397048763e-10 tauPH_U_SA_A[21] 1.960777057007181e-10 tauPH_U_SS_A[21] 8.35477004950614e-10\n",
      "tauPH_U_V_A [22] 1.786117398729431e-10 tauPH_U_SA_A[22] 1.7865757895458e-10 tauPH_U_SS_A[22] 7.612507421140923e-10\n",
      "tauPH_U_V_A [23] 1.634179245718421e-10 tauPH_U_SA_A[23] 1.6345986429870833e-10 tauPH_U_SS_A[23] 6.964940627282054e-10\n",
      "tauPH_U_V_A [24] 1.5008347586545915e-10 tauPH_U_SA_A[24] 1.501219934271123e-10 tauPH_U_SS_A[24] 6.396620819153138e-10\n",
      "tauPH_U_V_A [25] 1.3831693135760715e-10 tauPH_U_SA_A[25] 1.3835242914242674e-10 tauPH_U_SS_A[25] 5.895125746931531e-10\n",
      "tauPH_U_V_A [26] 1.2788177825222552e-10 tauPH_U_SA_A[26] 1.2791459794972883e-10 tauPH_U_SS_A[26] 5.450375135846458e-10\n",
      "tauPH_U_V_A [27] 1.1858447475789364e-10 tauPH_U_SA_A[27] 1.1861490838685418e-10 tauPH_U_SS_A[27] 5.054120153404948e-10\n",
      "tauPH_U_V_A [28] 1.1026541083992914e-10 tauPH_U_SA_A[28] 1.1029370945665393e-10 tauPH_U_SS_A[28] 4.699558152847203e-10\n",
      "tauPH_U_V_A [29] 1.0279201200773422e-10 tauPH_U_SA_A[29] 1.0281839264449073e-10 tauPH_U_SS_A[29] 4.3810387536649314e-10\n",
      "tauPH_U_V_A [30] 9.605342455389386e-11 tauPH_U_SA_A[30] 9.607807579335187e-11 tauPH_U_SS_A[30] 4.0938373242580073e-10\n",
      "tauPH_U_V_A [31] 8.995638095577988e-11 tauPH_U_SA_A[31] 8.99794674443462e-11 tauPH_U_SS_A[31] 3.8339787636131185e-10\n",
      "tauPH_U_V_A [32] 8.442195517432077e-11 tauPH_U_SA_A[32] 8.44436213027507e-11 tauPH_U_SS_A[32] 3.5980992107736395e-10\n",
      "tauPH_U_V_A [33] 7.938299549908581e-11 tauPH_U_SA_A[33] 7.940336842425777e-11 tauPH_U_SS_A[33] 3.3833366316181877e-10\n",
      "tauPH_U_V_A [34] 7.478207793988275e-11 tauPH_U_SA_A[34] 7.48012700813293e-11 tauPH_U_SS_A[34] 3.1872435915503515e-10\n",
      "tauPH_U_V_A [35] 7.056986293755468e-11 tauPH_U_SA_A[35] 7.058797405225852e-11 tauPH_U_SS_A[35] 3.00771721782221e-10\n",
      "tauPH_U_V_A [36] 6.670376705131518e-11 tauPH_U_SA_A[36] 6.672088596760547e-11 tauPH_U_SS_A[36] 2.8429425862902833e-10\n",
      "tauPH_U_V_A [37] 6.314688246786302e-11 tauPH_U_SA_A[37] 6.316308854201365e-11 tauPH_U_SS_A[37] 2.6913466704398886e-10\n",
      "tauPH_U_V_A [38] 5.986709286600033e-11 tauPH_U_SA_A[38] 5.988245721192292e-11 tauPH_U_SS_A[38] 2.551560659163578e-10\n",
      "tauPH_U_V_A [39] 5.683634588987802e-11 tauPH_U_SA_A[39] 5.685093242210171e-11 tauPH_U_SS_A[39] 2.4223889492650926e-10\n",
      "tauPH_U_V_A [40] 5.403005131156528e-11 tauPH_U_SA_A[40] 5.404391763376045e-11 tauPH_U_SS_A[40] 2.302783494895129e-10\n",
      "tauPH_U_V_A [41] 5.142658066538042e-11 tauPH_U_SA_A[41] 5.143977883046801e-11 tauPH_U_SS_A[41] 2.191822481756221e-10\n",
      "tauPH_U_V_A [42] 4.900684926219075e-11 tauPH_U_SA_A[42] 4.901942642517953e-11 tauPH_U_SS_A[42] 2.088692512376535e-10\n",
      "tauPH_U_V_A [43] 4.6753965439969976e-11 tauPH_U_SA_A[43] 4.6765964420777013e-11 tauPH_U_SS_A[43] 1.9926736570212047e-10\n",
      "tauPH_U_V_A [44] 4.4652934968235777e-11 tauPH_U_SA_A[44] 4.4664394738645e-11 tauPH_U_SS_A[44] 1.9031268552852308e-10\n",
      "tauPH_U_V_A [45] 4.269041091284171e-11 tauPH_U_SA_A[45] 4.27013670192675e-11 tauPH_U_SS_A[45] 1.8194832552257806e-10\n",
      "tauPH_U_V_A [46] 4.085448114296052e-11 tauPH_U_SA_A[46] 4.086496607467708e-11 tauPH_U_SS_A[46] 1.7412351568205134e-10\n",
      "tauPH_U_V_A [47] 3.913448714282684e-11 tauPH_U_SA_A[47] 3.9144530653697016e-11 tauPH_U_SS_A[47] 1.6679282896478984e-10\n",
      "tauPH_U_V_A [48] 3.752086896636479e-11 tauPH_U_SA_A[48] 3.7530498356778077e-11 tauPH_U_SS_A[48] 1.5991552047882844e-10\n",
      "tauPH_U_V_A [49] 3.600503211099729e-11 tauPH_U_SA_A[49] 3.6014272475642104e-11 tauPH_U_SS_A[49] 1.534549600929699e-10\n",
      "tauPH_U_V_A [50] 3.457923283940179e-11 tauPH_U_SA_A[50] 3.4588107285606686e-11 tauPH_U_SS_A[50] 1.4737814367328827e-10\n"
     ]
    }
   ],
   "source": [
    "foreach(i->println(\"tauPH_U_V_A \",[i],\" \",tauPH_U_V_A[i],\n",
    "\" tauPH_U_SA_A\",[i],\" \",tauPH_U_SA_A[i],\" tauPH_U_SS_A\",[i],\" \",tauPH_U_SS_A[i]),1:length(tauPH_U_SA_A))"
   ]
  },
  {
   "cell_type": "code",
   "execution_count": 23,
   "metadata": {
    "collapsed": false
   },
   "outputs": [
    {
     "data": {
      "text/plain": [
       "50×50 Array{Float64,2}:\n",
       " 9.51387e-9  4.77974e-9   3.21241e-9   …  2.69704e-5  4.58735e-5  7.89511e-5\n",
       " 4.77973e-9  2.40132e-9   1.6139e-9       1.35498e-5  2.30466e-5  3.96647e-5\n",
       " 3.2124e-9   1.6139e-9    1.08469e-9      9.10667e-6  1.54894e-5  2.66582e-5\n",
       " 2.43745e-9  1.22457e-9   8.2302e-10      6.90981e-6  1.17528e-5  2.02272e-5\n",
       " 1.98027e-9  9.94879e-10  6.68649e-10     5.61376e-6  9.54834e-6  1.64333e-5\n",
       " 1.6829e-9   8.45482e-10  5.6824e-10   …  4.77076e-6  8.1145e-6   1.39656e-5\n",
       " 1.47792e-9  7.42504e-10  4.99029e-10     4.18969e-6  7.12617e-6  1.22646e-5\n",
       " 1.33193e-9  6.69158e-10  4.49735e-10     3.77583e-6  6.42224e-6  1.10531e-5\n",
       " 1.2267e-9   6.16289e-10  4.14201e-10     3.4775e-6   5.91482e-6  1.01798e-5\n",
       " 1.15168e-9  5.78598e-10  3.8887e-10      3.26483e-6  5.55309e-6  9.55721e-6\n",
       " 1.10063e-9  5.52951e-10  3.71633e-10  …  3.12011e-6  5.30694e-6  9.13357e-6\n",
       " 1.06995e-9  5.3754e-10   3.61276e-10     3.03315e-6  5.15904e-6  8.87902e-6\n",
       " 1.05786e-9  5.31464e-10  3.57192e-10     2.99887e-6  5.10072e-6  8.77866e-6\n",
       " ⋮                                     ⋱                                    \n",
       " 3.84883e-7  1.93364e-7   1.29958e-7      0.00109109  0.00185581  0.00319396\n",
       " 5.8795e-7   2.95384e-7   1.98525e-7      0.00166675  0.00283495  0.00487912\n",
       " 9.09048e-7  4.56703e-7   3.06946e-7   …  0.00257702  0.0043832   0.00754376\n",
       " 1.42249e-6  7.14652e-7   4.80311e-7      0.00403253  0.00685886  0.0118045 \n",
       " 2.25271e-6  1.13175e-6   7.6064e-7       0.00638609  0.010862    0.0186941 \n",
       " 3.61029e-6  1.8138e-6    1.21904e-6      0.0102346   0.0174079   0.0299601 \n",
       " 5.85528e-6  2.94168e-6   1.97707e-6      0.0165989   0.0282327   0.0485902 \n",
       " 9.60969e-6  4.82788e-6   3.24477e-6   …  0.027242    0.0463355   0.0797463 \n",
       " 1.59594e-5  8.01796e-6   5.38879e-6      0.0452426   0.0769523   0.13244   \n",
       " 2.68201e-5  1.34744e-5   9.05598e-6      0.0760311   0.12932     0.222568  \n",
       " 4.56072e-5  2.29129e-5   1.53995e-5      0.12929     0.219906    0.378472  \n",
       " 7.84739e-5  3.9425e-5    2.64972e-5      0.222462    0.378381    0.651217  "
      ]
     },
     "execution_count": 23,
     "metadata": {},
     "output_type": "execute_result"
    }
   ],
   "source": [
    "tauPH_EP_V_A/tauPH_EP_SA_A"
   ]
  },
  {
   "cell_type": "code",
   "execution_count": 24,
   "metadata": {
    "collapsed": false
   },
   "outputs": [
    {
     "data": {
      "text/plain": [
       "50-element Array{Float64,1}:\n",
       " 7.08446e-10\n",
       " 3.55921e-10\n",
       " 2.39211e-10\n",
       " 1.81506e-10\n",
       " 1.47462e-10\n",
       " 1.2532e-10 \n",
       " 1.10057e-10\n",
       " 9.91871e-11\n",
       " 9.13521e-11\n",
       " 8.57674e-11\n",
       " 8.1968e-11 \n",
       " 7.96864e-11\n",
       " 7.8789e-11 \n",
       " ⋮          \n",
       " 2.8766e-8  \n",
       " 4.39516e-8 \n",
       " 6.79683e-8 \n",
       " 1.06379e-7 \n",
       " 1.68501e-7 \n",
       " 2.70104e-7 \n",
       " 4.38157e-7 \n",
       " 7.19263e-7 \n",
       " 1.19479e-6 \n",
       " 2.00834e-6 \n",
       " 3.41595e-6 \n",
       " 5.87906e-6 "
      ]
     },
     "execution_count": 24,
     "metadata": {},
     "output_type": "execute_result"
    }
   ],
   "source": [
    "tauPH_EP_SA_A"
   ]
  },
  {
   "cell_type": "code",
   "execution_count": 25,
   "metadata": {
    "collapsed": false
   },
   "outputs": [
    {
     "data": {
      "text/plain": [
       "4836.601828855511"
      ]
     },
     "execution_count": 25,
     "metadata": {},
     "output_type": "execute_result"
    }
   ],
   "source": [
    "kB/hbar*(6*pi*pi)^(-1/3)*thetaD*delta"
   ]
  },
  {
   "cell_type": "code",
   "execution_count": 26,
   "metadata": {
    "collapsed": false
   },
   "outputs": [
    {
     "data": {
      "text/plain": [
       "50-element Array{Float64,1}:\n",
       " 0.00572519\n",
       " 0.0114504 \n",
       " 0.0171756 \n",
       " 0.0229008 \n",
       " 0.028626  \n",
       " 0.0343511 \n",
       " 0.0400763 \n",
       " 0.0458015 \n",
       " 0.0515267 \n",
       " 0.0572519 \n",
       " 0.0629771 \n",
       " 0.0687023 \n",
       " 0.0744275 \n",
       " ⋮         \n",
       " 0.223282  \n",
       " 0.229008  \n",
       " 0.234733  \n",
       " 0.240458  \n",
       " 0.246183  \n",
       " 0.251908  \n",
       " 0.257634  \n",
       " 0.263359  \n",
       " 0.269084  \n",
       " 0.274809  \n",
       " 0.280534  \n",
       " 0.28626   "
      ]
     },
     "execution_count": 26,
     "metadata": {},
     "output_type": "execute_result"
    }
   ],
   "source": [
    "intx"
   ]
  },
  {
   "cell_type": "code",
   "execution_count": 27,
   "metadata": {
    "collapsed": false
   },
   "outputs": [
    {
     "ename": "LoadError",
     "evalue": "UndefVarError: tauPH_EP_SAT_A not defined",
     "output_type": "error",
     "traceback": [
      "UndefVarError: tauPH_EP_SAT_A not defined",
      ""
     ]
    }
   ],
   "source": [
    "foreach(println,tauPH_EP_SAT_A)"
   ]
  },
  {
   "cell_type": "code",
   "execution_count": 28,
   "metadata": {
    "collapsed": false
   },
   "outputs": [
    {
     "data": {
      "text/plain": [
       "5113.506513713651"
      ]
     },
     "execution_count": 28,
     "metadata": {},
     "output_type": "execute_result"
    }
   ],
   "source": [
    "kB/hbar*(6*pi*pi)^(-1/3)*554.0*delta"
   ]
  },
  {
   "cell_type": "code",
   "execution_count": 29,
   "metadata": {
    "collapsed": false
   },
   "outputs": [
    {
     "name": "stdout",
     "output_type": "stream",
     "text": [
      "2.8816027366168154e-8\n",
      "7.2040068415420386e-9\n",
      "3.2017808184631286e-9\n",
      "1.8010017103855096e-9\n",
      "1.152641094646726e-9\n",
      "8.004452046157822e-10\n",
      "5.880821911462887e-10\n",
      "4.502504275963774e-10\n",
      "3.55753424273681e-10\n",
      "2.881602736616815e-10\n",
      "2.381489864972575e-10\n",
      "2.0011130115394554e-10\n",
      "1.7050903766963403e-10\n",
      "1.4702054778657218e-10\n",
      "1.2807123273852514e-10\n",
      "1.1256260689909435e-10\n",
      "9.9709437253177e-11\n",
      "8.893835606842024e-11\n",
      "7.982279048800043e-11\n",
      "7.204006841542037e-11\n",
      "6.5342465682921e-11\n",
      "5.953724662431437e-11\n",
      "5.447264152394736e-11\n",
      "5.0027825288486385e-11\n",
      "4.610564378586905e-11\n",
      "4.262725941740851e-11\n",
      "3.9528158252631216e-11\n",
      "3.6755136946643046e-11\n",
      "3.4264004002578074e-11\n",
      "3.2017808184631286e-11\n",
      "2.998546031859329e-11\n",
      "2.8140651724773588e-11\n",
      "2.646099849969527e-11\n",
      "2.492735931329425e-11\n",
      "2.352328764585156e-11\n",
      "2.223458901710506e-11\n",
      "2.1048960822621004e-11\n",
      "1.995569762200011e-11\n",
      "1.894544862995934e-11\n",
      "1.8010017103855093e-11\n",
      "1.7142193555126807e-11\n",
      "1.633561642073025e-11\n",
      "1.558465514665666e-11\n",
      "1.4884311656078592e-11\n",
      "1.4230136970947238e-11\n",
      "1.361816038098684e-11\n",
      "1.3044829047608946e-11\n",
      "1.2506956322121596e-11\n",
      "1.2001677370332429e-11\n",
      "1.1526410946467262e-11\n"
     ]
    }
   ],
   "source": [
    "foreach(println,tauPH_C_V_A)"
   ]
  },
  {
   "cell_type": "code",
   "execution_count": null,
   "metadata": {
    "collapsed": true
   },
   "outputs": [],
   "source": []
  },
  {
   "cell_type": "code",
   "execution_count": 30,
   "metadata": {
    "collapsed": false
   },
   "outputs": [
    {
     "ename": "LoadError",
     "evalue": "UndefVarError: thermalPropsiso not defined",
     "output_type": "error",
     "traceback": [
      "UndefVarError: thermalPropsiso not defined",
      ""
     ]
    }
   ],
   "source": [
    "@time klattice=thermalPropsiso(tauPHL,tauPHTx,tauPHTx,[vSiGeL_PH(xsp),vSiGeT_PH(xsp),vSiGeT_PH(xsp)])\n",
    "xmax=3.0"
   ]
  },
  {
   "cell_type": "code",
   "execution_count": 31,
   "metadata": {
    "collapsed": false,
    "scrolled": false
   },
   "outputs": [
    {
     "ename": "LoadError",
     "evalue": "UndefVarError: figure not defined",
     "output_type": "error",
     "traceback": [
      "UndefVarError: figure not defined",
      ""
     ]
    }
   ],
   "source": [
    "SiGe_Min_1700_Bulk_EC_T=[309.4827586207,389.6551724138,450,479.3103448276,504.3103448276,589.6551724138,979.3103448276,\n",
    "    1039.6551724138,1110.3448275862,1189.6551724138,1199.1379310345]\n",
    "SiGe_Min_1700_Bulk_EC_E=[1252.3364485981,1113.707165109,1054.5171339564,1054.5171339564,912.7725856698,834.8909657321,\n",
    "    526.4797507788,434.5794392523,478.1931464174,557.6323987539,501.5576323988]\n",
    "SiGe_Min_730_Bulk_EC_T=[308.6206896552,360.3448275862,419.8275862069,509.2672413793,609.2432950192,957.662835249,\n",
    "    1009.1475095786,1098.9463601533,1149.2337164751,1218.0795019157]\n",
    "SiGe_Min_730_Bulk_EC_E=[771.0280373832,716.5109034268,626.1682242991,556.7670474213,455.0882658359,277.6912426445,\n",
    "        273.3644859813,241.9955001731,231.1786085151,213.8715818622]    \n",
    "SiGe_Min_230_Bulk_EC_T=[299.7365900383,398.5153256705,500.8860153257,598.4674329502,708.6206896552,868.4626436782,\n",
    "        979.8132183908,1019.3247126437,1088.1704980843,1148.0363984674]\n",
    "SiGe_Min_230_Bulk_EC_E=[314.4686742818,280.9363101419,249.5673243337,217.1166493596,184.6659743856,155.460366909,\n",
    "        130.5815160955,131.6632052613,126.2547594323,131.6632052613]\n",
    "SiGe_Min_22_Bulk_EC_T=[309.9137931034,348.2279693487,389.535440613,569.1331417625,690.0622605364,808.596743295,\n",
    "    909.7701149425,989.3917624521,1079.1906130268]\n",
    "SiGe_Min_22_Bulk_EC_E=[49.4548286604,54.8632744894,44.0463828314,38.6379370024,31.0661128418,25.6576670128,24.575977847,\n",
    "    31.0661128418,45.1280719972]\n",
    "xmax=1\n",
    "SiGe_Min_1700_Bulk_SC_T=[310.6382978723,450.2127659574,500.4255319149,579.5744680851,779.5744680851,970.2127659574,\n",
    "    1050.2127659575,1100.4255319149,1151.4893617021,1159.1489361702]\n",
    "SiGe_Min_1700_Bulk_SC_S=[-105.0763607884,-144.5542357395,-159.9686724971,-169.9060174912,-220.5195144237,-245.9652786842,\n",
    "    -276.149327764,-276.2263412087,-260.3537397207,-240.1200887613]\n",
    "SiGe_Min_730_Bulk_SC_T=[310.6382978723,361.7021276596,419.5744680851,509.7872340426,610.2127659574,1009.3617021277,\n",
    "    1219.5744680851]\n",
    "SiGe_Min_730_Bulk_SC_S=[-165.1990601749,-180.0013053126,-210.1514162642,-220.7192272549,-250.3211069051,-330.687899752,\n",
    "    -346.3477352826]\n",
    "SiGe_Min_230_Bulk_SC_T=[298.7234042553,400.8510638298,499.5744680851,600.8510638298,710.6382978723,859.5744680851,\n",
    "    978.7234042553,1039.1489361702,1090.2127659575,1159.1489361702]\n",
    "SiGe_Min_230_Bulk_SC_S=[-249.8433624853,-284.9693251534,-305.3661401906,-320.245398773,-335.7512074142,-342.1146064482,\n",
    "-342.9108471479,-330.7335856938,-309.3395118131,-251.1630335465]\n",
    "SiGe_Min_22_Bulk_SC_T=[309.7872340426,349.7872340426,380.4255319149,410.2127659574,550.6382978723,690.2127659574,\n",
    "824.6808510638,910.6382978723,979.5744680851]\n",
    "SiGe_Min_22_Bulk_SC_S=[-479.9216812427,-489.7989818562,-519.9073228038,-524.8609842057,-534.8923117087,-544.922333899,\n",
    "-540.2205978332,-480.8432319541,-372.9735021538]\n",
    "xmax=1\n",
    "SiGe_Min_1700_Bulk_KC_T=[314.5631067961,444.0129449838,499.2448759439,577.7777777778,769.3635382956,966.1272923409,\n",
    "    1032.5782092772,1105.9331175836,1168.932038835,1188.7810140237]\n",
    "SiGe_Min_1700_Bulk_KC_K=[4.6835063051,4.5239984377,4.4312520924,4.3076219172,4.4329985493,4.1911672804,4.0622865752,\n",
    "4.2179332664,4.4666164491,4.3891585761]\n",
    "SiGe_Min_22_Bulk_KC_T=[314.5631067961,378.4250269687,554.476806904,683.9266450917,814.2394822006,903.9913700108,\n",
    "    973.0312837109]\n",
    "SiGe_Min_22_Bulk_KC_K=[7.1197132017,6.4011605848,5.1350574713,4.6289978797,4.3608749024,4.4855931258,4.7291429528]\n",
    "SiGe_Vin_162_Bulk_KCL_T=[440.3713548665536,497.3222430383224,574.0370374003198]\n",
    "SiGe_Vin_162_Bulk_KCL_KL=[3.3457249070631976,3.2416356877323427,3.074349442379183]\n",
    "\n",
    "SiGe_Su_162_Bulk_KCL_T=[51.5096343499,56.6540954115,60.7039902898,64.5349719314,68.5191928387,73.5104146347,78.545419078,\n",
    "84.2006776918,89.8194507662,96.7152177211,105.1433773327,115.103929601,126.5968745259,140.3884084357,156.4785313306,\n",
    "173.3348505538,190.191169777,207.0474890002,223.9038082233,240.7601274465,257.6164466697,274.4727658929,291.3290851161,\n",
    "308.1854043393,325.0417235624,341.8980427856,358.7543620088,375.610681232,392.4670004552,409.3233196784,424.6472462449,\n",
    "470.6190259445,487.4753451677,504.3316643908,521.187983614,538.0443028372,554.9006220604,571.7569412836,588.6132605068,\n",
    "605.4695797299,622.3258989531,639.1822181763,656.0385373995,672.8948566227,689.7511758459,706.607495069,723.4638142922,\n",
    "    740.3201335154,757.1764527386,774.0327719618,438.2642998028,452.4654832347]\n",
    "SiGe_Su_162_Bulk_KCL_KL=[1.912952409,2.0367544267,2.1416796981,2.2300607933,2.316951567,2.4101428367,2.4960198089,\n",
    "2.5805877859,2.6667920069,2.747450222,2.8331721816,2.9171373319,2.9981959963,3.0776786993,3.1519579117,3.2134462372,\n",
    "3.2637548671,3.3065007618,3.3406974776,3.3686467164,3.3926501804,3.4110637965,3.4258604524,3.4370401479,3.443945254,\n",
    "3.4469045852,3.4531520621,3.4482198435,3.4452605123,3.4409859228,3.4325828837,3.4025146176,3.3880467763,3.3719348622,\n",
    "3.355822948,3.3383957755,3.3196533448,3.3002532849,3.2795379667,3.2575073902,3.2371208866,3.2157479392,3.1940461773,\n",
    "3.1713579716,3.1483409514,3.1253239312,3.102306911,3.0792898907,3.0549576122,3.031940592,3.426443203,3.4189944134]\n",
    "\n",
    "SiGe_Dis_162_Bulk_KC_T=[323.4130104234,436.3766249262,465.5560008689,494.6582798193,568.7099409229,676.8421439083,\n",
    "    861.4563988974,997.8960475554,1141.7663777569,1201.6652338456]\n",
    "SiGe_Dis_162_Bulk_KC_K=[4.6738529713,4.5204119777,4.5006535608,4.430757327,4.3128769847,4.2031161293,3.9957878466,\n",
    "4.065915243,4.2121420299,4.3719065138]\n",
    "\n",
    "SiGe_SA_162_Bulk_KC_T=[398.7219168438,498.0855086789,598.5416158272,698.9878915666,797.1262440682,897.5381098765,\n",
    "997.8565773003,1097.3037361109,1199.1374694305]\n",
    "SiGe_SA_162_Bulk_KC_KL=[3.7593499332,3.62237734,3.494337284,3.3752157204,3.3497102368,3.2618033964,3.2586222334,\n",
    "3.0458424552,2.6680986582]\n",
    "\n",
    "figure()\n",
    "plot(Ts,sigmas[:,1,1]/100,linestyle=\"-\",color=\"b\")\n",
    "plot(Ts,sigmas[:,2,2]/100,linestyle=\"-\",color=\"r\")\n",
    "plot(Ts,sigmas[:,3,3]/100,linestyle=\"-\",color=\"g\")\n",
    "plot(Ts,sigmas[:,4,4]/100,linestyle=\"-\",color=\"#ff66cc\") \n",
    "plot(SiGe_Min_1700_Bulk_EC_T,SiGe_Min_1700_Bulk_EC_E, linestyle=\"None\",marker=\"o\",markersize=7,color=\"b\")\n",
    "plot(SiGe_Min_730_Bulk_EC_T,SiGe_Min_730_Bulk_EC_E, linestyle=\"None\",marker=\"s\",markersize=7,color=\"r\")\n",
    "plot(SiGe_Min_230_Bulk_EC_T,SiGe_Min_230_Bulk_EC_E, linestyle=\"None\",marker=\"^\",markersize=7,color=\"g\")\n",
    "plot(SiGe_Min_22_Bulk_EC_T,SiGe_Min_22_Bulk_EC_E, linestyle=\"None\",marker=\"D\",markersize=7,color=\"#ff66cc\")\n",
    "ylim(0,1500)\n",
    "grid()\n",
    "\n",
    "figure()\n",
    "plot(Ts,seebecks[:,1,1]*1e6,linestyle=\"-\",color=\"b\")\n",
    "plot(Ts,seebecks[:,2,2]*1e6,linestyle=\"-\",color=\"r\")\n",
    "plot(Ts,seebecks[:,3,3]*1e6,linestyle=\"-\",color=\"g\")\n",
    "plot(Ts,seebecks[:,4,4]*1e6,linestyle=\"-\",color=\"#ff66cc\") \n",
    "plot(SiGe_Min_1700_Bulk_SC_T,SiGe_Min_1700_Bulk_SC_S, linestyle=\"None\",marker=\"o\",markersize=7,color=\"b\")\n",
    "plot(SiGe_Min_730_Bulk_SC_T,SiGe_Min_730_Bulk_SC_S, linestyle=\"None\",marker=\"s\",markersize=7,color=\"r\")\n",
    "plot(SiGe_Min_230_Bulk_SC_T,SiGe_Min_230_Bulk_SC_S, linestyle=\"None\",marker=\"^\",markersize=7,color=\"g\")\n",
    "plot(SiGe_Min_22_Bulk_SC_T,SiGe_Min_22_Bulk_SC_S, linestyle=\"None\",marker=\"D\",markersize=7,color=\"#ff66cc\")\n",
    "ylim(-600,0)\n",
    "grid()\n",
    "\n",
    "figure()\n",
    "plot(Ts,klattice[:,1,1]+kes[:,1,1],linestyle=\"-\",color=\"b\")\n",
    "#plot(Ts,klattice[:,2,2]+kes[:,2,2],linestyle=\"-\",color=\"r\")\n",
    "#plot(Ts,klattice[:,3,3]+kes[:,3,3],linestyle=\"-\",color=\"g\")\n",
    "plot(Ts,klattice[:,4,4]+kes[:,4,4],linestyle=\"-\",color=\"#ff66cc\") \n",
    "plot(SiGe_Min_1700_Bulk_KC_T,SiGe_Min_1700_Bulk_KC_K, linestyle=\"None\",marker=\"o\",markersize=7,color=\"b\")\n",
    "#plot(SiGe_Min_1700_Bulk_KC_T,SiGe_Min_1700_Bulk_KC_K,linestyle=\"None\",marker=\"o\",markersize=7,color=\"b\")\n",
    "#plot(SiGe_Min_730_Bulk_KC_T,SiGe_Min_730_Bulk_SC_S, linestyle=\"None\",marker=\"s\",markersize=7,color=\"r\")\n",
    "#plot(SiGe_Min_230_Bulk_SC_T,SiGe_Min_230_Bulk_SC_S, linestyle=\"None\",marker=\"^\",markersize=7,color=\"g\")\n",
    "plot(SiGe_Min_22_Bulk_KC_T,SiGe_Min_22_Bulk_KC_K, linestyle=\"None\",marker=\"D\",markersize=7,color=\"#ff66cc\")\n",
    "plot(SiGe_Dis_162_Bulk_KC_T,SiGe_Dis_162_Bulk_KC_K, linestyle=\"None\",marker=\"D\",markersize=7,color=\"k\")\n",
    "ylim(3,8)\n",
    "grid()\n",
    "\n",
    "figure()\n",
    "plot(Ts,klattice[:,1,1],linestyle=\"-.\",color=\"b\",label=\"kl\")\n",
    "#plot(Ts,klattice[:,2,2],linestyle=\"-.\",color=\"r\")\n",
    "#plot(Ts,klattice[:,3,3],linestyle=\"-.\",color=\"g\")\n",
    "#plot(Ts,klattice[:,4,4],linestyle=\"-.\",color=\"#ff66cc\") \n",
    "plot(SiGe_Vin_162_Bulk_KCL_T,SiGe_Vin_162_Bulk_KCL_KL, linestyle=\"None\",marker=\"s\",markersize=4,color=\"c\")\n",
    "plot(SiGe_Su_162_Bulk_KCL_T,SiGe_Su_162_Bulk_KCL_KL, linestyle=\"None\",marker=\"s\",markersize=4,color=\"c\")\n",
    "plot(SiGe_SA_162_Bulk_KC_T,SiGe_SA_162_Bulk_KC_KL,linestyle=\"None\",marker=\"o\",markersize=7,color=\"b\")\n",
    "plot(Ts,kes[:,1,1],linestyle=\"--\",color=\"b\",label=\"ke\")\n",
    "plot(Ts,kees[:,1,1],linestyle=\"--\",color=\"k\",label=\"kee\")\n",
    "plot(Ts,kehs[:,1,1],linestyle=\"--\",color=\"y\",label=\"keh\")\n",
    "#plot(Ts,kes[:,2,2],linestyle=\"--\",color=\"r\")\n",
    "#plot(Ts,kes[:,3,3],linestyle=\"--\",color=\"g\")\n",
    "#plot(Ts,kes[:,4,4],linestyle=\"--\",color=\"#ff66cc\") \n",
    "plot(Ts,kbis[:,1,1],linestyle=\":\",color=\"b\",label=\"kbis\")\n",
    "#plot(Ts,kbis[:,2,2],linestyle=\":\",color=\"r\")\n",
    "#plot(Ts,kbis[:,3,3],linestyle=\":\",color=\"g\")\n",
    "#plot(Ts,kbis[:,4,4],linestyle=\":\",color=\"#ff66cc\") \n",
    "#ylim()\n",
    "legend(loc=1)\n",
    "grid()\n",
    "#plot(SiGe_Vin_162_Bulk_KC_T,SiGe_Vin_162_Bulk_KC_K, linestyle=\"None\",marker=\"s\",markersize=4,color=\"c\")\n",
    "#plot(Ts,kl_A,Linestyle=\"-\",Linewidth=\"2\",color=\"b\")\n",
    "\n",
    "\n"
   ]
  },
  {
   "cell_type": "code",
   "execution_count": 32,
   "metadata": {
    "collapsed": false,
    "scrolled": true
   },
   "outputs": [],
   "source": [
    "#kehs"
   ]
  }
 ],
 "metadata": {
  "kernelspec": {
   "display_name": "Julia 0.6.0",
   "language": "julia",
   "name": "julia-0.6"
  },
  "language_info": {
   "file_extension": ".jl",
   "mimetype": "application/julia",
   "name": "julia",
   "version": "0.6.0"
  }
 },
 "nbformat": 4,
 "nbformat_minor": 0
}
