{
 "cells": [
  {
   "cell_type": "code",
   "execution_count": 1,
   "metadata": {},
   "outputs": [
    {
     "data": {
      "text/plain": [
       "kltSA (generic function with 1 method)"
      ]
     },
     "execution_count": 1,
     "metadata": {},
     "output_type": "execute_result"
    }
   ],
   "source": [
    "push!(LOAD_PATH,pwd())\n",
    "using ProfileView\n",
    "using constants\n",
    "using types10\n",
    "using Optim\n",
    "using PyPlot\n",
    "using data\n",
    "include(\"DOSfunctions.jl\")\n",
    "include(\"userfunctions.jl\")\n",
    "include(\"propertyfuncs.jl\")"
   ]
  },
  {
   "cell_type": "code",
   "execution_count": 2,
   "metadata": {},
   "outputs": [
    {
     "data": {
      "text/plain": [
       "3.0"
      ]
     },
     "execution_count": 2,
     "metadata": {},
     "output_type": "execute_result"
    }
   ],
   "source": [
    "Eoff=5.0\n",
    "Ts=collect(300.0:10.0:900.0)\n",
    "######################################################################################\n",
    "##for Liu x=0.6 best fit x=0.635 N=-1.45e20\n",
    "######################################################################################\n",
    "numofn=[-1.0e18]#,-1.22e18,-1.02e18,-0.94e18]#-9.5e19,-1.75e20,-3.0e19,-0.9e20]#Sample 1 -3.0e19, Sample 2 -1.25e20,\n",
    "numofnn=[1e17]#,1e18,1e18,1e18]\n",
    "#Sample 3 -1.75e20, Sample Sb 0.75% -1.03e20, #\n",
    "xs=[0.6]#,0.8,0.7,0.61]#collect(0.0:0.01:1.0)\n",
    "Es=collect(0.0:0.1:3.0)\n",
    "\n",
    "var0=[Ts[1],xs[1]]\n",
    "\n",
    "EX3(var)=Eoff#+Egx3(var[1],var[2])\n",
    "EX1(var)=Ec0(var[2])+EX3(var)\n",
    "ELH(var)=Eoff-Egx3(var[1],var[2])\n",
    "EHH(var)=Eoff-Egx3(var[1],var[2])\n",
    "\n",
    "effMassX1(var)=X1effMass(var[1])*me\n",
    "effMassX3(var)=0.38*me\n",
    "effMassLH(var)=-1.0*me\n",
    "effMassHH(var)=-1.5*me\n",
    "\n",
    "alphaX1(var)=0.0#EX1(var0)\n",
    "alphaX3(var)=0.0#EX1(var0)\n",
    "alphaLH(var)=0.0#EX3(var0)\n",
    "alphaHH(var)=0.0#EX3(var0)\n",
    "\n",
    "function Da(band::parBandTx,x::Float64)\n",
    "    Da=7.0#9.0-1.5*x*x\n",
    "    Dv=1.0\n",
    "    if band==bandX3 ||  band==bandX1\n",
    "        return Da\n",
    "    end\n",
    "    if band==bandHH ||  band==bandLH\n",
    "        return Dv\n",
    "    end\n",
    "end\n",
    "\n",
    "bandX3=parBandTx(true,1.0,effMassX3(var0),alphaX3(0.0),EX3(var0),[EX3],[effMassX3],[alphaX3],var0)\n",
    "bandX1=parBandTx(true,1.0,effMassX1(var0),alphaX1(0.0),EX1(var0),[EX1],[effMassX1],[alphaX1],var0)\n",
    "bandHH=parBandTx(true,1.0,effMassHH(var0),alphaHH(0.0),EHH(var0),[EHH],[effMassHH],[alphaHH],var0)\n",
    "bandLH=parBandTx(true,1.0,effMassLH(var0),alphaLH(0.0),ELH(var0),[ELH],[effMassLH],[alphaLH],var0)\n",
    "bndstTx=BandStrucTx([bandLH,bandHH,bandX1,bandX1,bandX1,bandX3,bandX3,bandX3],var0)#\n",
    "#bndstTx=BandStrucTx([bandLH,bandX1],var0)#\n",
    "\n",
    "#vartau0=[bandC.effMass,Ts[1],Ec(var0),xs[1],Ec(var0),bandC,numofn[1]*1e6,bndstTx,numofnn[1]*1e6,bandV]\n",
    "vartau0=[bandX3.effMass,Ts[1],EX1(var0),xs[1],EX1(var0),bandX3,numofn[1]*1e6,bndstTx,numofnn[1]*1e6,bandLH]\n",
    "#var array: var[1]: effMass , var[2]:T, var[3]:E, var[4]:x, var[5]:Ef, \n",
    "#var[6]:band, var[7]:NII var[8]:bndst\n",
    "#tauAC(var)=tauAC_func(Cl(var[4]),acPhDa(var[4]),var[2],var[1],var[3],var[6])\n",
    "tauAC(var)=tauAC_func(Cl(var[4]),Da(var[6],var[4]),var[2],var[1],var[3],var[6])\n",
    "tauPOP(var)=tauPOP_func(epsilon0_x(var[4]),epsilonhf_x(var[4]),var[6],var[5],var[2],var[1]\n",
    ",var[3],tauPOPIIint(var[5],var[2],var[4],var[6]),var[7],opPhE(var[4]),var[8])\n",
    "tauPOP2(var)=tauPOP2lowN_func(epsilon0_x(var[4]),epsilonhf_x(var[4]),var[6],var[5],var[2],var[1],\n",
    "var[3],opPhE(var[4]))\n",
    "tauPOP3(var)=tauPOP3_func(epsilon0_x(var[4]),epsilonhf_x(var[4]),var[6],var[5],var[2],var[1],\n",
    "var[3],opPhE(var[4]))\n",
    "tauII2(var)=tauII2_func(epsilon0_x(var[4]),epsilonhf_x(var[4]),var[6],var[5],var[2],var[7],var[1],var[3],var[8])\n",
    "tauNI(var)=tauNI_func(epsilon0_x(var[4]),var[1],var[9])\n",
    "tauTOTTx=tau_electron_B([tauAC,tauII2,tauNI,tauPOP3],vartau0)#,tauII2,tauPOP2,tauPOP3\n",
    "\n",
    "xmax=3.0"
   ]
  },
  {
   "cell_type": "code",
   "execution_count": 3,
   "metadata": {},
   "outputs": [
    {
     "name": "stdout",
     "output_type": "stream",
     "text": [
      " 36.711164 seconds (189.11 M allocations: 39.005 GiB, 11.07% gc time)\n"
     ]
    },
    {
     "data": {
      "text/plain": [
       "3.0"
      ]
     },
     "execution_count": 3,
     "metadata": {},
     "output_type": "execute_result"
    }
   ],
   "source": [
    "@time (Efs,sigmas,seebecks,kes,kees,kehs,kbis,sigmaes,sigmahs,seebeckes,seebeckhs)=electronicPropsiso(bndstTx,xs,Ts,numofn,numofnn,tauTOTTx,xmax)\n",
    "x=3.0"
   ]
  },
  {
   "cell_type": "code",
   "execution_count": 4,
   "metadata": {},
   "outputs": [
    {
     "name": "stdout",
     "output_type": "stream",
     "text": [
      "300.0 -0.07774318676740588\n",
      "310.0 -0.08199265467267125\n",
      "320.0 -0.086303930136169\n",
      "330.0 -0.09067330858360378\n",
      "340.0 -0.09509578656652273\n",
      "350.0 -0.09956421191153186\n",
      "360.0 -0.10406804180207274\n",
      "370.0 -0.1085916218762053\n",
      "380.0 -0.11311196516011979\n",
      "390.0 -0.11759617940741318\n",
      "400.0 -0.12199901962743187\n",
      "410.0 -0.12626152913610333\n",
      "420.0 -0.1303121965759857\n",
      "430.0 -0.1340720217168876\n",
      "440.0 -0.13746375681142542\n",
      "450.0 -0.14042339257658476\n",
      "460.0 -0.14291002008251485\n",
      "470.0 -0.1449103898644557\n",
      "480.0 -0.14643705974194088\n",
      "490.0 -0.14752196916202287\n",
      "500.0 -0.1482085193763858\n",
      "510.0 -0.14854459358275918\n",
      "520.0 -0.14857759194224585\n",
      "530.0 -0.14835149499260947\n",
      "540.0 -0.14790549432212607\n",
      "550.0 -0.14727363695872864\n",
      "560.0 -0.14648492242961986\n",
      "570.0 -0.14556390349541726\n",
      "580.0 -0.14453121783670309\n",
      "590.0 -0.1434041629982099\n",
      "600.0 -0.14219722462366313\n",
      "610.0 -0.14092253978654856\n",
      "620.0 -0.1395902924633754\n",
      "630.0 -0.1382090455637055\n",
      "640.0 -0.1367860169353241\n",
      "650.0 -0.13532730748176114\n",
      "660.0 -0.13383808914066897\n",
      "670.0 -0.13232275961613826\n",
      "680.0 -0.1307850697694013\n",
      "690.0 -0.12922822861299466\n",
      "700.0 -0.12765498999294778\n",
      "710.0 -0.1260677243047299\n",
      "720.0 -0.12446847796988347\n",
      "730.0 -0.12285902289014938\n",
      "740.0 -0.12124089767954427\n",
      "750.0 -0.11961544213681474\n",
      "760.0 -0.11798382614721614\n",
      "770.0 -0.11634707398182531\n",
      "780.0 -0.11470608478414235\n",
      "790.0 -0.11306164988980605\n",
      "800.0 -0.11141446750856776\n",
      "810.0 -0.10976515520338381\n",
      "820.0 -0.1081142605247356\n",
      "830.0 -0.10646227009600828\n",
      "840.0 -0.10480961739482986\n",
      "850.0 -0.10315668943376455\n",
      "860.0 -0.1015038325096258\n",
      "870.0 -0.09985135716273241\n",
      "880.0 -0.09819954246429585\n",
      "890.0 -0.09654863973115013\n",
      "900.0 -0.0948988757512188\n"
     ]
    }
   ],
   "source": [
    "foreach(x->println(Ts[x],\" \",Efs[x,1,1,]-Eoff),1:length(Ts))"
   ]
  },
  {
   "cell_type": "code",
   "execution_count": 5,
   "metadata": {},
   "outputs": [
    {
     "ename": "MethodError",
     "evalue": "MethodError: no method matching -(::Array{Float64,1}, ::Float64)\nClosest candidates are:\n  -(!Matched::Float64, ::Float64) at float.jl:397\n  -(!Matched::Complex{Bool}, ::Real) at complex.jl:298\n  -(!Matched::Missing, ::Number) at missing.jl:93\n  ...",
     "output_type": "error",
     "traceback": [
      "MethodError: no method matching -(::Array{Float64,1}, ::Float64)\nClosest candidates are:\n  -(!Matched::Float64, ::Float64) at float.jl:397\n  -(!Matched::Complex{Bool}, ::Real) at complex.jl:298\n  -(!Matched::Missing, ::Number) at missing.jl:93\n  ...",
      "",
      "Stacktrace:",
      " [1] top-level scope at In[5]:1"
     ]
    }
   ],
   "source": [
    "plot(Ts,Efs[:,1,1]-Eoff,linestyle=\"-\",marker=\"o\",color=\"c\")\n",
    "#ylim(0,7)\n",
    "grid()"
   ]
  },
  {
   "cell_type": "code",
   "execution_count": 6,
   "metadata": {},
   "outputs": [
    {
     "data": {
      "image/png": "[encoded data removed]",
      "text/plain": [
       "Figure(PyObject <matplotlib.figure.Figure object at 0x7f609c112940>)"
      ]
     },
     "metadata": {},
     "output_type": "display_data"
    }
   ],
   "source": [
    "plot(Ts,sigmaes[:,1,1]/100,linestyle=\"-\",marker=\"o\",color=\"c\")\n",
    "#ylim(0,7)\n",
    "grid()"
   ]
  },
  {
   "cell_type": "code",
   "execution_count": 7,
   "metadata": {},
   "outputs": [
    {
     "data": {
      "text/plain": [
       "61-element Array{Float64,1}:\n",
       " 300.0\n",
       " 310.0\n",
       " 320.0\n",
       " 330.0\n",
       " 340.0\n",
       " 350.0\n",
       " 360.0\n",
       " 370.0\n",
       " 380.0\n",
       " 390.0\n",
       " 400.0\n",
       " 410.0\n",
       " 420.0\n",
       "   ⋮  \n",
       " 790.0\n",
       " 800.0\n",
       " 810.0\n",
       " 820.0\n",
       " 830.0\n",
       " 840.0\n",
       " 850.0\n",
       " 860.0\n",
       " 870.0\n",
       " 880.0\n",
       " 890.0\n",
       " 900.0"
      ]
     },
     "execution_count": 7,
     "metadata": {},
     "output_type": "execute_result"
    }
   ],
   "source": [
    "Ts"
   ]
  },
  {
   "cell_type": "code",
   "execution_count": 8,
   "metadata": {},
   "outputs": [
    {
     "data": {
      "image/png": "[encoded data removed]",
      "text/plain": [
       "Figure(PyObject <matplotlib.figure.Figure object at 0x7f60768c3518>)"
      ]
     },
     "metadata": {},
     "output_type": "display_data"
    }
   ],
   "source": [
    "plot(Ts,kbis[:,1,1],linestyle=\"-\",color=\"c\")\n",
    "#ylim(0,7)\n",
    "grid()"
   ]
  },
  {
   "cell_type": "code",
   "execution_count": 9,
   "metadata": {},
   "outputs": [
    {
     "data": {
      "image/png": "[encoded data removed]",
      "text/plain": [
       "Figure(PyObject <matplotlib.figure.Figure object at 0x7f6094e13e80>)"
      ]
     },
     "metadata": {},
     "output_type": "display_data"
    }
   ],
   "source": [
    "plot(Ts,seebecks[:,1,1]*1e6,linestyle=\"-\",color=\"c\")\n",
    "#plot(Ts,seebeckes[:,1,1]*1e6,linestyle=\"-\",color=\"y\")\n",
    "#plot(Ts,seebeckhs[:,1,1]*1e6,linestyle=\"-\",color=\"k\")\n",
    "#ylim(-250,-0)\n",
    "grid()"
   ]
  },
  {
   "cell_type": "code",
   "execution_count": 10,
   "metadata": {
    "scrolled": false
   },
   "outputs": [
    {
     "data": {
      "image/png": "[encoded data removed]",
      "text/plain": [
       "Figure(PyObject <matplotlib.figure.Figure object at 0x7f606d82b0b8>)"
      ]
     },
     "metadata": {},
     "output_type": "display_data"
    }
   ],
   "source": [
    "plot(Ts,sigmas[:,1,1]/100,linestyle=\"-\",color=\"c\")\n",
    "#ylim(0,3500)\n",
    "grid()"
   ]
  },
  {
   "cell_type": "code",
   "execution_count": 11,
   "metadata": {},
   "outputs": [],
   "source": [
    "T_EF_Dict=Dict()\n",
    "for (Ti,Tx) in enumerate(Ts)\n",
    "    T_EF_Dict[Tx]=(Efs[Ti])    \n",
    "end\n",
    "T_EF_Dict_Array=Array{Dict{Float64,Float64},2}(undef,length(numofn),length(xs))\n",
    "Dict_temp=Dict()\n",
    "Efsr=Array{Float64,3}(undef,length(Ts),length(numofn),length(xs))\n",
    "for (j,jn) in enumerate(numofn)\n",
    "    for (k,kx) in enumerate(xs) \n",
    "        for (i,iT) in enumerate(Ts)\n",
    "            Efsr[i,j,k]=Efs[i,j,k]-EX3(0.0)\n",
    "            Dict_temp[iT]=Efsr[i,j,k]\n",
    "            T_EF_Dict_Array[j,k]=Dict_temp \n",
    "        end\n",
    "    end\n",
    "end\n",
    "#foreach(i->println(\"$i= \",Ts[i]),1:length(Ts))\n",
    "#Efsr"
   ]
  },
  {
   "cell_type": "code",
   "execution_count": 12,
   "metadata": {},
   "outputs": [
    {
     "data": {
      "text/plain": [
       "1.0"
      ]
     },
     "execution_count": 12,
     "metadata": {},
     "output_type": "execute_result"
    }
   ],
   "source": [
    "#println(\"-1\")\n",
    "#############Lattice Thermal Conductivity Parameters###############\n",
    "\n",
    "function klpar(con::Float64,p::Float64,NP::Float64)\n",
    "    thetaL=52.3e12*hbar/kB # K \n",
    "    thetaT=29.7e12*hbar/kB  # K\n",
    "    vL=(1-con)*7700+con*4900    # m/s\n",
    "    vT=(1-con)*4900+con*3000    # m/s\n",
    "    gammaL=2.5*(1-con)+1.7*con\n",
    "    gammaT=2.5*(1-con)+1.7*con\n",
    "    M=(2*(24.305e-3)+(28.0855e-3*(1-con)+118.71e-3*con))/3/Nav\n",
    "    V=((1-con)*(6.39e-10)^3+con*(6.77e-10)^3)/12\n",
    "    a=V^(1.0/3.0)\n",
    "    ro=M/V\n",
    "    Vdj=(((6.39e-10)^3)/((1-con)*(6.39e-10)^3+con*(6.77e-10)^3))^(1/3)\n",
    "    jL=vL/7700*Vdj\n",
    "    jT=vT/4900*Vdj\n",
    "    thetaLx=thetaL*jL\n",
    "    thetaTx=thetaT*jT\n",
    "    ##########Boundary Scattering###############3\n",
    "    D=11e-9\n",
    "    #p=1.0\n",
    "    ##########Alloy Scattering###################\n",
    "    mbar=(28.0855*(1-con)+118.71*con)\n",
    "    GammaSiSn=(1-con)*((28.0855-mbar)/mbar)^2+con*((118.71-mbar)/mbar)^2\n",
    "    GammaMgSiSn=2*((mbar/(24.305+mbar))^2*GammaSiSn);         \n",
    "    ##########Electron Scattering###################\n",
    "    Eep=5.0*q\n",
    "    xsp=xs[1]\n",
    "    Tp=300.0\n",
    "    mdx1=0.67*me\n",
    "    mdx3=0.38*me\n",
    "    Efx3=0.2589\n",
    "    Efx1=0.2589\n",
    "    ##########Nanoparticle Scattering###################\n",
    "    #NP=0\n",
    "    #alpha=1.0\n",
    "    Rnp=1/2*15.0e-9#\n",
    "    Vnp=4/3*pi*(Rnp)^3\n",
    "    rhonp=NP/100/Vnp\n",
    "    rhoM=3.0\n",
    "    rhoT=3.78\n",
    "    alphaNP=0.2289#1-exp(-1*(rhoT-rhoM)/rhoM);\n",
    "#vartauPH0=[[0.02],Ts[1],gammaL,gammaT,xsp,thetaCLx,thetaCTx,thetaCTx,MSi,MGe,VSi,a,T_EF_Dict,0.0]\n",
    "    Tsindex=1#25\n",
    "    numberofnindex=1\n",
    "    xsindex=1\n",
    "    vartauPH0=[ [0.02],  Ts[1],   gammaL,  gammaT, con,#5\n",
    "        thetaLx, thetaTx, thetaTx, M,   M, #10\n",
    "        V, a, T_EF_Dict_Array, Eep, alphaNP, #15\n",
    "        Rnp, thetaLx, thetaTx, vL, vT, #20\n",
    "        vL, vT, p, NP,Tsindex,#25\n",
    "        numberofnindex,xsindex,p,D,GammaMgSiSn,#30\n",
    "        mdx1,mdx3,Efx1,Efx3,ro,#35,\n",
    "        NP,alphaNP,Rnp,Vnp,rhonp #40\n",
    "        ]  \n",
    "    thetaCLx=thetaCL(vartauPH0[12],vartauPH0[5],vartauPH0[17],vartauPH0[19],vartauPH0[11])\n",
    "    thetaCTx=thetaCT(vartauPH0[12],vartauPH0[5],vartauPH0[18],vartauPH0[19],vartauPH0[11])\n",
    "    #println(\"2\")\n",
    "    tauPHNLf(var)=tauPH_NL(var[3],var[11],var[1],var[2],var[9],var[21])\n",
    "    tauPHNTf(var)=tauPH_NT(var[4],var[11],var[1],var[2],var[9],var[22]) \n",
    "\n",
    "    tauPHULf(var)=tauPH_U(var[3],var[1],var[2],var[9],var[19],var[17])\n",
    "    tauPHUTf(var)=tauPH_U(var[4],var[1],var[2],var[9],var[20],var[18])\n",
    "\n",
    "    tauPHALLLf(var)=tauPH_ALL(var[30],var[11],var[1],var[2],var[19])\n",
    "    tauPHALLTf(var)=tauPH_ALL(var[30],var[11],var[1],var[2],var[20])\n",
    "\n",
    "    tauPHeLfX3(var)=tauPH_e(var[14],var[32],var[35],(var[13][var[26],var[27]])[var[2]],var[1],var[2],var[21])\n",
    "    tauPHeTfX3(var)=tauPH_e(var[14],var[32],var[35],(var[13][var[26],var[27]])[var[2]],var[1],var[2],var[22])\n",
    "\n",
    "    tauPHeLfX1(var)=tauPH_e(var[14],X1effMass(var[2])*me,var[35],(var[13][var[26],var[27]])[var[2]]-Ec0(0.6)\n",
    "        ,var[1],var[2],var[21])\n",
    "    tauPHeTfX1(var)=tauPH_e(var[14],X1effMass(var[2])*me,var[35],(var[13][var[26],var[27]])[var[2]]-Ec0(0.6)\n",
    "        ,var[1],var[2],var[22])\n",
    "\n",
    "    tauPHBLf(var)=tauPH_B(var[19],var[28],var[29])\n",
    "    tauPHBTf(var)=tauPH_B(var[20],var[28],var[29])\n",
    "    #println(\"3\")\n",
    "\n",
    "    tauPHNPLf(var)=tauPH_NP(var[37],var[40],var[38],var[1],var[2],var[19])\n",
    "    tauPHNPTf(var)=tauPH_NP(var[37],var[40],var[38],var[1],var[2],var[20])\n",
    "\n",
    "    tauPHTOTL=tau_phonon_B([tauPHNLf,tauPHULf,tauPHBLf,tauPHALLLf,tauPHeLfX3,tauPHeLfX1,tauPHNPLf],vartauPH0)#,tauPHNPLf,tauPHALLLf,tauPHeLf,tauPH_eLf ,tauPHALLLf ,tauPHBLf,,tauPHULf\n",
    "    tauPHNL=tau_phonon_B([tauPHNLf],vartauPH0)\n",
    "    tauPHRL=tau_phonon_B([tauPHULf,tauPHBLf,tauPHALLLf,tauPHeLfX3,tauPHeLfX1,tauPHNPLf],vartauPH0) #,tauPHNPLf,tauPHALLLf,tauPHeLf,tauPHALLLf,tauPH_eLf] ,tauPHBLf\n",
    "\n",
    "    tauPHTOTTx=tau_phonon_B([tauPHNTf,tauPHUTf,tauPHALLTf,tauPHeTfX3,tauPHeTfX1,tauPHBTf,tauPHNPTf],vartauPH0) #,tauPHNPTf,tauPHALLTf,tauPHeTf,tauPHALLTf,tauPH_eTf ,tauPHBTf\n",
    "    tauPHNTx=tau_phonon_B([tauPHNTf],vartauPH0)\n",
    "    tauPHRTx=tau_phonon_B([tauPHUTf,tauPHALLTf,tauPHeTfX3,tauPHeTfX1,tauPHBTf,tauPHNPTf],vartauPH0) #,tauPHNPTf,tauPHALLTf,tauPHeTf,tauPHALLTf,tauPH_eTf ,tauPHBTf#\n",
    "\n",
    "    tauPHTOTTy=tau_phonon_B([tauPHNTf,tauPHUTf,tauPHBTf,tauPHALLTf,tauPHeTfX3,tauPHeTfX1,tauPHNPTf],vartauPH0) #,tauPHNPTf,tauPHALLTf,tauPHeTf,tauPHALLTf,tauPH_eTf tauPHBTf\n",
    "    tauPHNTy=tau_phonon_B([tauPHNTf],vartauPH0)\n",
    "    tauPHRTy=tau_phonon_B([tauPHUTf,tauPHBTf,tauPHALLTf,tauPHeTfX3,tauPHeTfX1,tauPHNPTf],vartauPH0) #,tauPHNPTf,tauPHALLTf,tauPH_eTf ,tauPHBTf,tauPHALLTf,tauPHeTf\n",
    "    #println(\"4\")\n",
    "    tauPHL=[tauPHTOTL,tauPHNL,tauPHRL]\n",
    "    tauPHTx=[tauPHTOTTx,tauPHNTx,tauPHRTx]\n",
    "    tauPHTy=[tauPHTOTTx,tauPHNTx,tauPHRTx]\n",
    "    return (vartauPH0,tauPHTOTL,tauPHNL,tauPHRL,tauPHTOTTx,tauPHNTx,tauPHRTx,tauPHTOTTy,tauPHNTy,tauPHRTy,tauPHL,tauPHTx,tauPHTy)\n",
    "end\n",
    "xmax=1.0"
   ]
  },
  {
   "cell_type": "code",
   "execution_count": 13,
   "metadata": {},
   "outputs": [],
   "source": [
    "(vartauPH0,tauPHTOTL,tauPHNL,tauPHRL,tauPHTOTTx,tauPHNTx,tauPHRTx,tauPHTOTTy,tauPHNTy,tauPHRTy,tauPHL,tauPHTx,tauPHTy)=klpar(0.6,0.65,0.0)\n",
    "klsM=Array{Float64}(undef,length(Ts),length(numofn),length(xs))\n",
    "for (iT,iTx) in enumerate(Ts)    \n",
    "   (IL1,ITx1,IL2,ITx2,IL3,ITx3,kL,kTx,kTy,klsM[iT,1,1])= klt(tauPHTOTL,tauPHNL,tauPHRL,tauPHTOTTx,tauPHNTx,tauPHRTx,tauPHTOTTy,tauPHNTy,\n",
    "        tauPHRTy,iTx,[vartauPH0[21],vartauPH0[22],vartauPH0[22]])\n",
    "    #println(\"T=\", iTx, \" kl= \" ,round(klsM[iT,1,1]*10000)/10000)\n",
    "   # println(\"IL1= \",IL1,\" IL2= \",IL2,\" IL3= \",IL3,\" ITx1= \",ITx1,\" ITx2= \",ITx2,\" ITx3= \",ITx3,\" kL/3=\",kL,    \" kTx/3=\",kTx,\" kTy/3=\",kTy)\n",
    "end"
   ]
  },
  {
   "cell_type": "code",
   "execution_count": 14,
   "metadata": {},
   "outputs": [
    {
     "name": "stdout",
     "output_type": "stream",
     "text": [
      "0.8544418125678096\n",
      "0.8376899857984905\n",
      "0.8215825554299149\n",
      "0.8061090833545528\n",
      "0.7912565885493161\n",
      "0.7770100717292688\n",
      "0.7633529445128749\n",
      "0.750267388238147\n",
      "0.7377346593330373\n",
      "0.7257353526150577\n",
      "0.7142496303367424\n",
      "0.7032574225605436\n",
      "0.692738602925707\n",
      "0.6826731424932334\n",
      "0.6730412428255477\n",
      "0.6638234481056821\n",
      "0.6550007358120016\n",
      "0.6465545867114065\n",
      "0.6384670368604316\n",
      "0.6307207153939182\n",
      "0.6232988715378724\n",
      "0.6161853931636596\n",
      "0.6093648182006149\n",
      "0.6028223397058877\n",
      "0.596543805264769\n",
      "0.5905157113940244\n",
      "0.584725193501048\n",
      "0.5791600125806428\n",
      "0.573808538828128\n",
      "0.568659733068622\n",
      "0.5637031265081655\n",
      "0.5589287992929961\n",
      "0.5543273582919238\n",
      "0.549889914450873\n",
      "0.5456080600095504\n",
      "0.5414738458179867\n",
      "0.537479758945293\n",
      "0.5336187007337395\n",
      "0.52988396541775\n",
      "0.5262692193988979\n",
      "0.5227684812439644\n",
      "0.5193761024530019\n",
      "0.5160867490275995\n",
      "0.512895383855757\n",
      "0.5097972499185106\n",
      "0.5067878543143162\n",
      "0.5038629530899364\n",
      "0.5010185368608507\n",
      "0.4982508171997882\n",
      "0.49555621376868525\n",
      "0.49293134216696216\n",
      "0.49037300246738863\n",
      "0.48787816840977954\n",
      "0.48544397722227633\n",
      "0.4830677200398681\n",
      "0.4807468328900464\n",
      "0.47847888821598983\n",
      "0.47626158690837467\n",
      "0.4740927508177559\n",
      "0.4719703157204422\n",
      "0.4698923247118139\n"
     ]
    }
   ],
   "source": [
    "foreach(x->println(klsM[x,1,1]),1:length(Ts))"
   ]
  },
  {
   "cell_type": "code",
   "execution_count": 15,
   "metadata": {},
   "outputs": [
    {
     "data": {
      "image/png": "[encoded data removed]",
      "text/plain": [
       "Figure(PyObject <matplotlib.figure.Figure object at 0x7f6094e832e8>)"
      ]
     },
     "metadata": {},
     "output_type": "display_data"
    }
   ],
   "source": [
    "plot(Ts,klsM[:,1,1],linestyle=\"-\",color=\"b\")\n",
    "grid()"
   ]
  },
  {
   "cell_type": "code",
   "execution_count": 16,
   "metadata": {},
   "outputs": [],
   "source": [
    "(vartauPH0,tauPHTOTL,tauPHNL,tauPHRL,tauPHTOTTx,tauPHNTx,tauPHRTx,tauPHTOTTy,tauPHNTy,tauPHRTy,tauPHL,tauPHTx,tauPHTy)=klpar(0.0,0.65,0.0)\n",
    "kls0=Array{Float64}(undef,length(Ts),length(numofn),length(xs))\n",
    "for (iT,iTx) in enumerate(Ts)    \n",
    "   (IL1,ITx1,IL2,ITx2,IL3,ITx3,kL,kTx,kTy,kls0[iT,1,1])= klt(tauPHTOTL,tauPHNL,tauPHRL,tauPHTOTTx,tauPHNTx,tauPHRTx,tauPHTOTTy,tauPHNTy,tauPHRTy,iTx,[vartauPH0[21],vartauPH0[22],vartauPH0[22]])\n",
    "    #println(\"T=\", iTx, \" kl= \" ,round(kls0[iT,1,1]*10000)/10000)\n",
    "    #println(\"IL1= \",IL1,\" IL2= \",IL2,\" IL3= \",IL3,\" ITx1= \",ITx1,\" ITx2= \",ITx2,\" ITx3= \",ITx3,\" kL/3=\",kL,    \" kTx/3=\",kTx,\" kTy/3=\",kTy)\n",
    "end"
   ]
  },
  {
   "cell_type": "code",
   "execution_count": 17,
   "metadata": {},
   "outputs": [
    {
     "name": "stdout",
     "output_type": "stream",
     "text": [
      "5.762164765986154\n",
      "5.616570104083581\n",
      "5.476602878578155\n",
      "5.34209516150399\n",
      "5.2128607146267525\n",
      "5.088702204516006\n",
      "4.969416619594072\n",
      "4.854799308021804\n",
      "4.744646957363269\n",
      "4.638759762987944\n",
      "4.536942976269761\n",
      "4.439007981248429\n",
      "4.344773015582954\n",
      "4.254063624730432\n",
      "4.166712914668342\n",
      "4.082561648043986\n",
      "4.001458214274083\n",
      "3.9232584983593792\n",
      "3.8478256736230114\n",
      "3.7750299439661963\n",
      "3.704748257621054\n",
      "3.636864007931844\n",
      "3.571266730566034\n",
      "3.5078518024623704\n",
      "3.4465201457323364\n",
      "3.3871779386031964\n",
      "3.3297363340546977\n",
      "3.2741111898469466\n",
      "3.2202228081155506\n",
      "3.1679956865509666\n",
      "3.117358281228333\n",
      "3.068242781218144\n",
      "3.020584894929217\n",
      "2.9743236479954795\n",
      "2.929401192412166\n",
      "2.8857626265503007\n",
      "2.843355825625021\n",
      "2.8021312821591713\n",
      "2.762041955964115\n",
      "2.7230431331519456\n",
      "2.685092293694083\n",
      "2.648148987048718\n",
      "2.6121747153917725\n",
      "2.5771328240016174\n",
      "2.542988398365781\n",
      "2.5097081675972253\n",
      "2.4772604137680214\n",
      "2.445614886788796\n",
      "2.4147427244828332\n",
      "2.3846163775238303\n",
      "2.3552095389260437\n",
      "2.3264970777944063\n",
      "2.298454977060486\n",
      "2.271060274947439\n",
      "2.2442910099236086\n",
      "2.21812616892005\n",
      "2.1925456386019353\n",
      "2.167530159497642\n",
      "2.1430612828024223\n",
      "2.119121329685615\n",
      "2.095693352941899\n"
     ]
    }
   ],
   "source": [
    "foreach(x->println(kls0[x,1,1]),1:length(Ts))"
   ]
  },
  {
   "cell_type": "code",
   "execution_count": 18,
   "metadata": {},
   "outputs": [],
   "source": [
    "(vartauPH0,tauPHTOTL,tauPHNL,tauPHRL,tauPHTOTTx,tauPHNTx,tauPHRTx,tauPHTOTTy,tauPHNTy,tauPHRTy,tauPHL,tauPHTx,tauPHTy)=klpar(1.0,0.5,0.0)\n",
    "kls1=Array{Float64}(undef,length(Ts),length(numofn),length(xs))\n",
    "for (iT,iTx) in enumerate(Ts)    \n",
    "   (IL1,ITx1,IL2,ITx2,IL3,ITx3,kL,kTx,kTy,kls1[iT,1,1])= klt(tauPHTOTL,tauPHNL,tauPHRL,tauPHTOTTx,tauPHNTx,tauPHRTx,tauPHTOTTy,tauPHNTy,tauPHRTy,iTx,[vartauPH0[21],vartauPH0[22],vartauPH0[22]])\n",
    "   # println(\"T=\", iTx, \" kl= \" ,round(kls1[iT,1,1]*10000)/10000)\n",
    "   # println(\"IL1= \",IL1,\" IL2= \",IL2,\" IL3= \",IL3,\" ITx1= \",ITx1,\" ITx2= \",ITx2,\" ITx3= \",ITx3,\" kL/3=\",kL,    \" kTx/3=\",kTx,\" kTy/3=\",kTy)\n",
    "end"
   ]
  },
  {
   "cell_type": "code",
   "execution_count": 19,
   "metadata": {},
   "outputs": [
    {
     "name": "stdout",
     "output_type": "stream",
     "text": [
      "3.326578993473054\n",
      "3.2744291155275014\n",
      "3.223606190150995\n",
      "3.1740942957121487\n",
      "3.1258716759613754\n",
      "3.078912287686695\n",
      "3.0331870086130057\n",
      "2.988664580309532\n",
      "2.9453123436238493\n",
      "2.903096811338765\n",
      "2.86198411328161\n",
      "2.8219403421503286\n",
      "2.782931822981746\n",
      "2.744925324432734\n",
      "2.707888224938497\n",
      "2.6717886413866654\n",
      "2.63659552378538\n",
      "2.6022787183934675\n",
      "2.568809003669418\n",
      "2.536158105575729\n",
      "2.50429869903155\n",
      "2.4732044007175644\n",
      "2.4428497563883025\n",
      "2.4132102243468547\n",
      "2.3842621560060033\n",
      "2.355982774103074\n",
      "2.328350148457392\n",
      "2.301343171279309\n",
      "2.274941530778541\n",
      "2.249125684313588\n",
      "2.223876831242982\n",
      "2.1991768857564318\n",
      "2.1750084499126094\n",
      "2.1513547870643808\n",
      "2.1281997958122134\n",
      "2.1055279845929147\n",
      "2.083324446982732\n",
      "2.061574837770869\n",
      "2.0402653498407735\n",
      "2.0193826918814026\n",
      "1.998914066938627\n",
      "1.9788471518073463\n",
      "1.9591700772572886\n",
      "1.9398714090796323\n",
      "1.9209401299370834\n",
      "1.902365621996638\n",
      "1.8841376503217784\n",
      "1.8662463469991424\n",
      "1.8486821959735058\n",
      "1.8314360185642524\n",
      "1.8144989596362937\n",
      "1.7978624743982554\n",
      "1.781518315801159\n",
      "1.7654585225111508\n",
      "1.7496754074304874\n",
      "1.734161546741605\n",
      "1.7189097694499111\n",
      "1.703913147401776\n",
      "1.689164985754983\n",
      "1.674658813879895\n",
      "1.6603883766703549\n"
     ]
    }
   ],
   "source": [
    "foreach(x->println(kls1[x,1,1]),1:length(Ts))"
   ]
  },
  {
   "cell_type": "code",
   "execution_count": 20,
   "metadata": {},
   "outputs": [
    {
     "data": {
      "image/png": "[encoded data removed]",
      "text/plain": [
       "Figure(PyObject <matplotlib.figure.Figure object at 0x7f606d798518>)"
      ]
     },
     "metadata": {},
     "output_type": "display_data"
    }
   ],
   "source": [
    "plot(Ts,klsM[:,1,1],linestyle=\"-\",color=\"b\")\n",
    "plot(Ts,kls0[:,1,1],linestyle=\"-\",color=\"r\")\n",
    "\n",
    "plot(Ts,kls1[:,1,1],linestyle=\"-\",color=\"k\")\n",
    "grid()"
   ]
  },
  {
   "cell_type": "code",
   "execution_count": 21,
   "metadata": {},
   "outputs": [
    {
     "data": {
      "text/plain": [
       "6.77e-10"
      ]
     },
     "execution_count": 21,
     "metadata": {},
     "output_type": "execute_result"
    }
   ],
   "source": [
    "yaa=0.6\n",
    "aMgSi=6.39e-10\n",
    "aMgSn=6.77e-10"
   ]
  },
  {
   "cell_type": "code",
   "execution_count": 22,
   "metadata": {},
   "outputs": [],
   "source": [
    "ks=Array{Float64}(undef,length(Ts),length(numofn),length(xs))\n",
    "klsT=Array{Float64}(undef,length(Ts),length(numofn),length(xs))\n",
    "f=0.25\n",
    "for (iT,iTx) in enumerate(Ts)  \n",
    "    klsT[iT,1,1]=(1-f)*klsM[iT,1,1]+f*(kls1[iT,1,1]*(1-yaa)aMgSn^3/((1-yaa)*aMgSn^3+yaa*aMgSi^3)+kls0[iT,1,1]*(yaa)aMgSi^3/((1-yaa)*aMgSn^3+yaa*aMgSi^3))\n",
    "       ks[iT,1,1]=klsT[iT,1,1]+kes[iT,1,1]+kbis[iT,1,1,] \n",
    "    #println(\"T=\", iTx, \" kl= \" ,round(klsT[iT,1,1]*10000)/10000)\n",
    "    #println(\"IL1= \",IL1,\" IL2= \",IL2,\" IL3= \",IL3,\" ITx1= \",ITx1,\" ITx2= \",ITx2,\" ITx3= \",ITx3,\" kL/3=\",kL,    \" kTx/3=\",kTx,\" kTy/3=\",kTy)\n",
    "end"
   ]
  },
  {
   "cell_type": "code",
   "execution_count": 23,
   "metadata": {},
   "outputs": [
    {
     "data": {
      "text/plain": [
       "5-element Array{Float64,1}:\n",
       " 7.16256157635468\n",
       " 5.26108374384236\n",
       " 4.14778325123153\n",
       " 3.38916256157635\n",
       " 2.89655172413793"
      ]
     },
     "execution_count": 23,
     "metadata": {},
     "output_type": "execute_result"
    }
   ],
   "source": [
    "MgSn_KL_T=[303.381209787804   ,404.509621648526   ,508.944674606021   ,609.64854815216    ,715.169193157614]\n",
    "MgSn_KL_K=[ 7.16256157635468, 5.26108374384236, 4.14778325123153, 3.38916256157635, 2.89655172413793]"
   ]
  },
  {
   "cell_type": "code",
   "execution_count": 24,
   "metadata": {},
   "outputs": [
    {
     "data": {
      "image/png": "[encoded data removed]",
      "text/plain": [
       "Figure(PyObject <matplotlib.figure.Figure object at 0x7f606d6ff128>)"
      ]
     },
     "metadata": {},
     "output_type": "display_data"
    }
   ],
   "source": [
    "figure()\n",
    "#semilogy(Ts,kls[:,1,1],linestyle=\"-\",color=\"c\")\n",
    "#plot(Ts,kls0[:,1,1],linestyle=\"-\",color=\"b\")\n",
    "#plot(Ts,kls1[:,1,1],linestyle=\"-\",color=\"c\")\n",
    "#plot(Ts,klsM[:,1,1],linestyle=\"-\",color=\"k\")\n",
    "plot(Ts,klsT[:,1,1]+kes[:,1,1]+kbis[:,1,1],linestyle=\"-\",color=\"r\")\n",
    "#ylim(0,4.5)\n",
    "grid(true)\n",
    "#kes,kees,kehs,kbis"
   ]
  },
  {
   "cell_type": "code",
   "execution_count": 25,
   "metadata": {},
   "outputs": [
    {
     "data": {
      "text/plain": [
       "9-element Array{Float64,1}:\n",
       "  1.6\n",
       "  1.7\n",
       "  3.8\n",
       "  7.8\n",
       " 12.2\n",
       " 25.6\n",
       " 40.8\n",
       " 68.0\n",
       " 62.0"
      ]
     },
     "execution_count": 25,
     "metadata": {},
     "output_type": "execute_result"
    }
   ],
   "source": [
    "MgSiSn4hECE=[10,12.4,20.5,35.8,43.2,69.6,82.8,100,110]\n",
    "MgSiSn2hECE=[3,4.4,8.5,15.8,22.2,55.6,50.8,68,80]\n",
    "MgSiSn1hECE=[2,4.2,3.7,11.8,22.2,25.6,30.8,48,64]\n",
    "MgSiSn0hECE=[1.6,1.7,3.8,7.8,12.2,25.6,40.8,68,62]"
   ]
  },
  {
   "cell_type": "code",
   "execution_count": 26,
   "metadata": {},
   "outputs": [
    {
     "data": {
      "text/plain": [
       "9-element Array{Float64,1}:\n",
       " 2.1168755981\n",
       " 2.0268355263\n",
       " 1.9150855263\n",
       " 1.8140986842\n",
       " 1.7209888158\n",
       " 1.8544934211\n",
       " 1.9231644737\n",
       " 2.0605065789\n",
       " 2.1816907895"
      ]
     },
     "execution_count": 26,
     "metadata": {},
     "output_type": "execute_result"
    }
   ],
   "source": [
    "MgSiSn4hKCT=[27.204980536447565,125.22263104569937,250.3986028902043, 300.61256865568174,350.4225990508186, 400.31661600810537,\n",
    "450.60323681544304,500.88852450274595,550.37460672959,]\n",
    "MgSiSn4hKCK=[ 2.8789473684210525, 2.7375, 2.609210526315789, 2.5121710526315786, 2.4184210526315786, 2.531907894736842, 2.614144736842105\n",
    ", 2.6930921052631573, 2.7999999999999994]\n",
    "MgSiSn2hKCT=[27.174994546327184, 125.66321921825845, 250.56521889830958, 300.8030294412153, 350.04276302458277,400.3366068836394, \n",
    "450.6409643790327, 500.95101524496823,550.7594666065552]\n",
    "MgSiSn2hKCK=[2.608956937799043, 2.4846513157894736, 2.4523355263157893, 2.3861330409356722, 2.3131756578947367\n",
    ", 2.385235380116959, 2.4832374999999995, 2.595288011695906, 2.697641746411483]\n",
    "MgSiSn05hKCT=[26.1867119039,124.6184700145,249.7991072943,300.1809590466,349.8324946796,399.3641637338,450.1016014407,\n",
    "450.7811561579,549.7232004091,500.4092678505]\n",
    "MgSiSn05hKCK=[2.4217028509,2.3627326555,2.2459551435,2.1025076754,2.0223385167,2.2370652412,2.3803594498,2.302875,\n",
    "2.5966549043,2.5105263158]\n",
    "MgSiSn2h2TiO2KCT=[450.7811561579,26.5677491601,125.429931211,250.6172345758,300.4185996907,350.6278995361,\n",
    "400.1639737642,500.3759398496,550.2639577668]\n",
    "MgSiSn2h2TiO2KCK=[2.302875,2.3065789474,2.2490131579,2.1486842105,2.0335526316,1.925,2.1552631579,2.4282894737,\n",
    "2.5269736842]\n",
    "MgSiSn2h5TiO2KCT=[27.3549565403,124.5907321495,250.1753052845,299.9806697595,350.1926358449,400.1339785634,\n",
    "450.0339945609,500.3299472084,550.6152348958]\n",
    "MgSiSn2h5TiO2KCK=[2.2490131579,2.1782894737,2.0582236842,1.9529605263,1.8509868421,2.08125,2.2095394737,2.3148026316,\n",
    "2.39375]\n",
    "MgSiSn0hKCT=[26.9755694846,125.1437396683,250.3474884019,300.0735322348,349.8027683571,400.6191835973,449.916314723,\n",
    "500.2366154749,550.052698235]\n",
    "MgSiSn0hKCK=[2.1168755981,2.0268355263,1.9150855263,1.8140986842,1.7209888158,1.8544934211,1.9231644737,2.0605065789,\n",
    "2.1816907895]"
   ]
  },
  {
   "cell_type": "code",
   "execution_count": 27,
   "metadata": {},
   "outputs": [
    {
     "data": {
      "image/png": "[encoded data removed]",
      "text/plain": [
       "Figure(PyObject <matplotlib.figure.Figure object at 0x7f606d66e940>)"
      ]
     },
     "metadata": {},
     "output_type": "display_data"
    },
    {
     "data": {
      "image/png": "[encoded data removed]",
      "text/plain": [
       "Figure(PyObject <matplotlib.figure.Figure object at 0x7f606d6495f8>)"
      ]
     },
     "metadata": {},
     "output_type": "display_data"
    }
   ],
   "source": [
    "\n",
    "figure()\n",
    "plot(Ts,sigmas[:,1,1]/100,linestyle=\"-\",color=\"b\")\n",
    "#plot(Ts,sigmas[:,2,2]/100/6^(2/3),linestyle=\"-\",color=\"r\")\n",
    "#plot(Ts,sigmas[:,3,3]/100/6^(2/3),linestyle=\"-\",color=\"k\")\n",
    "#plot(Ts,sigmas[:,4,4]/100/6^(2/3),linestyle=\"-\",color=\"g\")\n",
    "plot(MgSiSn4hKCT .+273,MgSiSn4hECE,linestyle=\"None\",marker=\".\",markersize=10,color=\"r\")\n",
    "#plot(MgSiSn4hKCT .+273,MgSiSn2hECE,linestyle=\"None\",marker=\".\",markersize=10,color=\"k\")\n",
    "#plot(MgSiSn4hKCT .+273,MgSiSn1hECE,linestyle=\"None\",marker=\".\",markersize=10,color=\"b\")\n",
    "#plot(MgSiSn4hKCT .+273,MgSiSn0hECE,linestyle=\"None\",marker=\".\",markersize=10,color=\"g\")\n",
    "#plot(SiGe_Suin_EC_T,SiGe_Suin_Green_EC_E/100,linestyle=\"None\",marker=\"x\",markersize=2,color=\"g\")\n",
    "#plot(SiGe_Suin_EC_T,SiGe_Suin_Blue_EC_E/100,linestyle=\"None\",marker=\"o\",markersize=2,color=\"b\")\n",
    "#plot(SiGe_Suin_EC_T,SiGe_Suin_Pink_EC_E/100,linestyle=\"None\",marker=\"o\",markersize=2,color=\"r\")\n",
    "#plot(SiGe_Suin_EC_T,SiGe_Suin_Black_EC_E/100,linestyle=\"None\",marker=\"o\",markersize=2,color=\"k\")\n",
    "grid()\n",
    "\n",
    "figure()\n",
    "plot(Ts,-seebecks[:,1,1]*1e6,linestyle=\"-\",color=\"b\")\n",
    "#plot(Ts,-seebecks[:,2,2]*1e6,linestyle=\"-\",color=\"r\")\n",
    "#plot(Ts,-seebecks[:,3,3]*1e6,linestyle=\"-\",color=\"k\")\n",
    "#plot(Ts,-seebecks[:,4,4]*1e6,linestyle=\"-\",color=\"g\")\n",
    "#plot(Ts,-seebecks[:,2,2]*1e6,linestyle=\"-\",color=\"b\")\n",
    "#plot(SiGe_Vin_162_Bulk_SC_T,SiGe_Vin_162_Bulk_SC_S,linestyle=\"None\",marker=\".\",markersize=10,color=\"r\")\n",
    "#plot(SiGe_Suin_EC_T,-SiGe_Suin_Green_SC_S,linestyle=\"None\",marker=\"x\",markersize=2,color=\"g\")\n",
    "#plot(SiGe_Suin_EC_T,-SiGe_Suin_Blue_SC_S,linestyle=\"None\",marker=\"x\",markersize=2,color=\"b\")\n",
    "#plot(SiGe_Suin_EC_T,-SiGe_Suin_Pink_SC_S,linestyle=\"None\",marker=\"x\",markersize=2,color=\"r\")\n",
    "#plot(SiGe_Suin_EC_T,-SiGe_Suin_Black_SC_S,linestyle=\"None\",marker=\"x\",markersize=2,color=\"k\")\n",
    "grid()"
   ]
  },
  {
   "cell_type": "code",
   "execution_count": 28,
   "metadata": {},
   "outputs": [
    {
     "data": {
      "image/png": "[encoded data removed]",
      "text/plain": [
       "Figure(PyObject <matplotlib.figure.Figure object at 0x7f606d626240>)"
      ]
     },
     "metadata": {},
     "output_type": "display_data"
    },
    {
     "name": "stderr",
     "output_type": "stream",
     "text": [
      "No handles with labels found to put in legend.\n"
     ]
    }
   ],
   "source": [
    "figure()\n",
    "title(\"k\")\n",
    "plot(Ts,klsT[:,1,1]+kes[:,1,1]+kbis[:,1,1],linestyle=\"-\",color=\"r\")\n",
    "#plot(Ts,klsT[:,1,1]+kes[:,1,1]+kbis[:,1,1],linestyle=\"-\",color=\"r\")\n",
    "#plot(Ts,klsT[:,1,1]+kes[:,1,1]+kbis[:,1,1],linestyle=\"-\",color=\"r\")\n",
    "#plot(Ts,klsT[:,1,1]+kes[:,1,1]+kbis[:,1,1],linestyle=\"-\",color=\"r\")\n",
    "plot(MgSiSn4hKCT .+273,MgSiSn4hKCK,linestyle=\"None\",marker=\"o\",markersize=7,color=\"k\")\n",
    "#plot(MgSiSn2hKCT .+273,MgSiSn2hKCK,linestyle=\"None\",marker=\"^\",markersize=7,color=\"b\")\n",
    "#plot(MgSiSn05hKCT .+273,MgSiSn05hKCK,linestyle=\"None\",marker=\"D\",markersize=7,color=\"g\")\n",
    "#plot(MgSiSn2h2TiO2KCT  .+273,MgSiSn2h2TiO2KCK,linestyle=\"None\",marker=\"8\",markersize=7,color=\"tab:pink\")\n",
    "#plot(MgSiSn2h5TiO2KCT .+273,MgSiSn2h5TiO2KCK,linestyle=\"None\",marker=\"*\",markersize=7,color=\"tab:purple\")\n",
    "#plot(MgSiSn0hKCT .+273,MgSiSn0hKCK,linestyle=\"None\",marker=\"s\",markersize=7,color=\"r\",label=\"4 h\")\n",
    "#plot(SiGe_SA_162_Bulk_KC_T,SiGe_SA_162_Bulk_KC_KL,linestyle=\"None\",marker=\"o\",markersize=7,color=\"b\")\n",
    "#plot(SiGe_SA_162_Bulk_KC_T2,SiGe_SA_162_Bulk_KC_K2,linestyle=\"None\",marker=\"o\",markersize=7,color=\"g\")\n",
    "legend(loc=\"upper left\")\n",
    "#ylim(1.5,5.0)\n",
    "grid()"
   ]
  },
  {
   "cell_type": "code",
   "execution_count": 29,
   "metadata": {
    "scrolled": false
   },
   "outputs": [
    {
     "data": {
      "text/plain": [
       "61-element Array{Float64,1}:\n",
       " 300.0\n",
       " 310.0\n",
       " 320.0\n",
       " 330.0\n",
       " 340.0\n",
       " 350.0\n",
       " 360.0\n",
       " 370.0\n",
       " 380.0\n",
       " 390.0\n",
       " 400.0\n",
       " 410.0\n",
       " 420.0\n",
       "   ⋮  \n",
       " 790.0\n",
       " 800.0\n",
       " 810.0\n",
       " 820.0\n",
       " 830.0\n",
       " 840.0\n",
       " 850.0\n",
       " 860.0\n",
       " 870.0\n",
       " 880.0\n",
       " 890.0\n",
       " 900.0"
      ]
     },
     "execution_count": 29,
     "metadata": {},
     "output_type": "execute_result"
    }
   ],
   "source": [
    "Ts"
   ]
  },
  {
   "cell_type": "code",
   "execution_count": 30,
   "metadata": {},
   "outputs": [
    {
     "name": "stdout",
     "output_type": "stream",
     "text": [
      "1.8274345278662694\n",
      "1.7888194743515968\n",
      "1.7516625138381599\n",
      "1.7159780488815566\n",
      "1.6818018558381216\n",
      "1.6492049773699173\n",
      "1.6183108581782863\n",
      "1.589315522228925\n",
      "1.562509176423864\n",
      "1.5382950977621717\n",
      "1.517197970196929\n",
      "1.4998501521425027\n",
      "1.4869639914599289\n",
      "1.4792028237212866\n",
      "1.4771066369363985\n",
      "1.4810115673841915\n",
      "1.4910157120434875\n",
      "1.507026057423794\n",
      "1.528847501271152\n",
      "1.5562714051379638\n",
      "1.5891343652042718\n",
      "1.6273420056527024\n",
      "1.6708677601347697\n",
      "1.719739457149286\n",
      "1.7740229820577935\n",
      "1.8338076901200213\n",
      "1.8991943648369487\n",
      "1.9702877533698966\n",
      "2.047190824592405\n",
      "2.130001208233394\n",
      "2.2188089932098265\n",
      "2.3144001973931463\n",
      "2.415769470082198\n",
      "2.523219561587274\n",
      "2.636870295352488\n",
      "2.756787186443686\n",
      "2.8830147580971826\n",
      "3.0155837578880895\n",
      "3.154513801691791\n",
      "3.2998147065659937\n",
      "3.451487341812037\n",
      "3.6095242721938283\n",
      "3.77391029997151\n",
      "3.944622952184633\n",
      "4.121632935044914\n",
      "4.304904566280065\n",
      "4.4943961909608605\n",
      "4.690060583640035\n",
      "4.891845338196962\n",
      "5.0996932460041\n",
      "5.3140726905619085\n",
      "5.534047358171459\n",
      "5.7598094969519975\n",
      "5.991325888076149\n",
      "6.22853565432149\n",
      "6.4713678372510115\n",
      "6.7197458731834345\n",
      "6.973589388655593\n",
      "7.232815147477611\n",
      "7.4973376554041655\n",
      "7.767069601142002\n"
     ]
    }
   ],
   "source": [
    "foreach(x->println(ks[x,1,1]),1:length(Ts))"
   ]
  },
  {
   "cell_type": "code",
   "execution_count": 36,
   "metadata": {},
   "outputs": [
    {
     "name": "stdout",
     "output_type": "stream",
     "text": [
      "0.015261572752062883\n",
      "0.015210038191674805\n",
      "0.015141846142768194\n",
      "0.015060529306572899\n",
      "0.01497009946538368\n",
      "0.014875538191635685\n",
      "0.014783487859773793\n",
      "0.014703178722528742\n",
      "0.014647600454142751\n",
      "0.014634861948769009\n",
      "0.01468956478601327\n",
      "0.014843846556296322\n",
      "0.015146085683658822\n",
      "0.01563693065989162\n",
      "0.01636484611831962\n",
      "0.017381838466748768\n",
      "0.018736084759403207\n",
      "0.020470494625449448\n",
      "0.022622455809583816\n",
      "0.0252248550395915\n",
      "0.028307650776696558\n",
      "0.03189936251871406\n",
      "0.03602816603502321\n",
      "0.04072255238594963\n",
      "0.046011633413875735\n",
      "0.051925212456736536\n",
      "0.05849378293279578\n",
      "0.06574834410259395\n",
      "0.0737202730541256\n",
      "0.08244117302260823\n",
      "0.09194273074919668\n",
      "0.10243054239684946\n",
      "0.11367616806758996\n",
      "0.1257671377439773\n",
      "0.1387498810258737\n",
      "0.15265992954681606\n",
      "0.16752970913971044\n",
      "0.18339011018569928\n",
      "0.20027097876610012\n",
      "0.21820130233541501\n",
      "0.23720928609649228\n",
      "0.25732238485465353\n",
      "0.27856731555954517\n",
      "0.3009700614823041\n",
      "0.324555873142111\n",
      "0.34934926847668546\n",
      "0.37537403348995824\n",
      "0.4026532239690104\n",
      "0.4312091685256414\n",
      "0.4610634730350871\n",
      "0.4924240998346263\n",
      "0.5250065487207976\n",
      "0.5589212714265845\n",
      "0.5942004367515898\n",
      "0.6308671362729861\n",
      "0.6689413410521778\n",
      "0.708441334042341\n",
      "0.7493842298426405\n",
      "0.7917862116088226\n",
      "0.8356626576752988\n",
      "0.8810282182951248\n"
     ]
    }
   ],
   "source": [
    "foreach(x->println(kes[x,1,1]),1:length(Ts))"
   ]
  },
  {
   "cell_type": "code",
   "execution_count": 37,
   "metadata": {},
   "outputs": [
    {
     "name": "stdout",
     "output_type": "stream",
     "text": [
      "1.8121074966173305\n",
      "1.7734757057712374\n",
      "1.7362586333319685\n",
      "1.7004232737171432\n",
      "1.6659315158303216\n",
      "1.6327417137607683\n",
      "1.6008098975790264\n",
      "1.5700907097565793\n",
      "1.5405381309999362\n",
      "1.512106043409015\n",
      "1.4847486673594228\n",
      "1.4584209001518111\n",
      "1.4330785781616668\n",
      "1.4086786789143004\n",
      "1.3851794745051245\n",
      "1.3625406433221514\n",
      "1.340723344348547\n",
      "1.3196902583436496\n",
      "1.299405601916427\n",
      "1.2798351216176644\n",
      "1.2609460744443381\n",
      "1.2427071992351069\n",
      "1.2250886816045465\n",
      "1.208062113938261\n",
      "1.191600451504475\n",
      "1.1756779655404046\n",
      "1.160270193806664\n",
      "1.1453538902337637\n",
      "1.130906973401947\n",
      "1.1169084749477864\n",
      "1.1033384883038058\n",
      "1.0901781181847756\n",
      "1.0774094311501958\n",
      "1.0650154074984708\n",
      "1.0529798946847486\n",
      "1.0412875624008342\n",
      "1.029923859410978\n",
      "1.0188749722006265\n",
      "1.0081277854652932\n",
      "0.9976698444425789\n",
      "0.9874893190711197\n",
      "0.9775749699451542\n",
      "0.9679161160216803\n",
      "0.9585026040283742\n",
      "0.9493247795140025\n",
      "0.940373459478519\n",
      "0.9316399065171551\n",
      "0.9231158044111831\n",
      "0.9147932350974504\n",
      "0.9066646569490384\n",
      "0.8987228843003234\n",
      "0.8909610681511091\n",
      "0.8833726779863278\n",
      "0.8759514846498849\n",
      "0.8686915442135223\n",
      "0.8615871827839998\n",
      "0.8546329821944103\n",
      "0.8478237665279909\n",
      "0.8411545894253416\n",
      "0.8346207221284889\n",
      "0.8282176422176972\n"
     ]
    }
   ],
   "source": [
    "foreach(x->println(klsT[x,1,1]),1:length(Ts))"
   ]
  },
  {
   "cell_type": "code",
   "execution_count": 38,
   "metadata": {},
   "outputs": [
    {
     "name": "stdout",
     "output_type": "stream",
     "text": [
      "6.54584968759455e-5\n",
      "0.0001337303886846484\n",
      "0.0002620343634232066\n",
      "0.0004942458578405893\n",
      "0.0009002405424162997\n",
      "0.0015877254175133712\n",
      "0.002717472739486146\n",
      "0.004521633749817103\n",
      "0.007323444969785218\n",
      "0.011554192404387622\n",
      "0.017759738051492904\n",
      "0.026585405434395304\n",
      "0.03873932761460325\n",
      "0.05488721414709465\n",
      "0.0755623163129544\n",
      "0.10108908559529119\n",
      "0.13155628293553737\n",
      "0.16686530445469475\n",
      "0.20681944354514123\n",
      "0.251211428480708\n",
      "0.29988063998323694\n",
      "0.35273544389888145\n",
      "0.40975091249519996\n",
      "0.47095479082507546\n",
      "0.5364108971394428\n",
      "0.60620451212288\n",
      "0.6804303880974889\n",
      "0.7591855190335391\n",
      "0.8425635781363326\n",
      "0.9306515602629993\n",
      "1.023527774156824\n",
      "1.121791536811521\n",
      "1.224683870864412\n",
      "1.332437016344826\n",
      "1.4451405196418654\n",
      "1.5628396944960357\n",
      "1.6855611895464941\n",
      "1.8133186755017636\n",
      "1.9461150374603973\n",
      "2.0839435597879996\n",
      "2.226788736644425\n",
      "2.3746269173940204\n",
      "2.5274268683902847\n",
      "2.685150286673955\n",
      "2.8477522823888006\n",
      "3.0151818383248603\n",
      "3.187382250953747\n",
      "3.364291555259841\n",
      "3.5458429345738702\n",
      "3.7319651160199747\n",
      "3.9229257064269585\n",
      "4.118079741299552\n",
      "4.317515547539085\n",
      "4.521173966674675\n",
      "4.728976973834982\n",
      "4.940839313414834\n",
      "5.156671556946683\n",
      "5.376381392284961\n",
      "5.599874346443447\n",
      "5.827054275600378\n",
      "6.05782374062918\n"
     ]
    }
   ],
   "source": [
    "foreach(x->println(kbis[x,1,1]),1:length(Ts))"
   ]
  },
  {
   "cell_type": "code",
   "execution_count": 39,
   "metadata": {},
   "outputs": [
    {
     "name": "stdout",
     "output_type": "stream",
     "text": [
      "27.91544417329677\n",
      "26.809307046113123\n",
      "25.773167505816776\n",
      "24.803249298780088\n",
      "23.89742734626593\n",
      "23.055710045444997\n",
      "22.280905122826756\n",
      "21.579479780739707\n",
      "20.962584086619174\n",
      "20.44712612599056\n",
      "20.05665878774222\n",
      "19.821680362077835\n",
      "19.7893342523592\n",
      "19.992134159083303\n",
      "20.468308670137752\n",
      "21.25613762904567\n",
      "22.38591049346847\n",
      "23.879552124279545\n",
      "25.751546202239513\n",
      "28.0109939565834\n",
      "30.66388106042319\n",
      "33.714904192104306\n",
      "37.168645314181575\n",
      "41.0301689533814\n",
      "45.30521330659423\n",
      "50.000145344634696\n",
      "55.12186736619277\n",
      "60.677564782303506\n",
      "66.6745402238559\n",
      "73.12004525677463\n",
      "80.02113829734301\n",
      "87.49658778304627\n",
      "95.3815890162563\n",
      "103.72061859195779\n",
      "112.52975535815466\n",
      "121.81741770496733\n",
      "131.5896145953033\n",
      "141.85103624801837\n",
      "152.6054169204168\n",
      "163.85569057750126\n",
      "175.604072176081\n",
      "187.8521084467106\n",
      "200.60071518626785\n",
      "213.85020837076536\n",
      "227.60033243493464\n",
      "241.85028729647286\n",
      "256.5987548615472\n",
      "271.84392532990364\n",
      "287.58352340521037\n",
      "303.81483440747184\n",
      "320.6234242010803\n",
      "337.8601321295854\n",
      "355.5649913420209\n",
      "373.74035601809214\n",
      "392.38417662644025\n",
      "411.49290717433985\n",
      "431.062223315815\n",
      "451.08729513550514\n",
      "471.562920363952\n",
      "492.4836022287099\n",
      "513.8436015764399\n"
     ]
    }
   ],
   "source": [
    "foreach(x->println(sigmas[x,1,1]/100),1:length(Ts))"
   ]
  },
  {
   "cell_type": "code",
   "execution_count": 40,
   "metadata": {},
   "outputs": [
    {
     "name": "stdout",
     "output_type": "stream",
     "text": [
      "471.91633643541286\n",
      "477.9596611578856\n",
      "483.7697229446148\n",
      "489.3112314807641\n",
      "494.5224401310775\n",
      "499.30093472264906\n",
      "503.48466689023576\n",
      "506.8285843225339\n",
      "508.9795883511378\n",
      "509.4571125441623\n",
      "507.65357677172994\n",
      "502.8760285870559\n",
      "494.387291738226\n",
      "481.7520600207121\n",
      "464.8765052468857\n",
      "444.1405496635517\n",
      "420.40110422258164\n",
      "394.8073530753897\n",
      "368.5510210595554\n",
      "342.65703149629525\n",
      "317.87500413507587\n",
      "294.66747892349935\n",
      "273.25662933561085\n",
      "253.69091105194417\n",
      "235.90758974310293\n",
      "219.78142199001414\n",
      "205.1591797911458\n",
      "191.88029371728652\n",
      "179.7896066598252\n",
      "168.74386758424006\n",
      "158.6144836507715\n",
      "149.24875405086\n",
      "140.6131649398813\n",
      "132.60482523711775\n",
      "125.14503256411409\n",
      "118.16862914491142\n",
      "111.62028001012231\n",
      "105.4526643500934\n",
      "99.62516073716893\n",
      "94.10278973819483\n",
      "88.85533855026578\n",
      "83.85662976620368\n",
      "79.0839087185679\n",
      "74.51732956548075\n",
      "70.1395238566271\n",
      "65.93523801382236\n",
      "61.891028367467605\n",
      "57.99500424624051\n",
      "54.23661118749592\n",
      "50.60644765870025\n",
      "47.087577340603566\n",
      "43.687028352926106\n",
      "40.39344188334809\n",
      "37.19993009127898\n",
      "34.10063842909057\n",
      "31.09036332968958\n",
      "28.164412150293717\n",
      "25.31852083664473\n",
      "22.54879478504074\n",
      "19.851662350442556\n",
      "17.223836643715682\n"
     ]
    }
   ],
   "source": [
    "foreach(x->println(-seebecks[x,1,1]*1e6),1:length(Ts))"
   ]
  },
  {
   "cell_type": "code",
   "execution_count": 33,
   "metadata": {},
   "outputs": [
    {
     "name": "stdout",
     "output_type": "stream",
     "text": [
      "0.015261572752062883\n",
      "0.015210038191674805\n",
      "0.015141846142768194\n",
      "0.015060529306572899\n",
      "0.01497009946538368\n",
      "0.014875538191635685\n",
      "0.014783487859773793\n",
      "0.014703178722528742\n",
      "0.014647600454142751\n",
      "0.014634861948769009\n",
      "0.01468956478601327\n",
      "0.014843846556296322\n",
      "0.015146085683658822\n",
      "0.01563693065989162\n",
      "0.01636484611831962\n",
      "0.017381838466748768\n",
      "0.018736084759403207\n",
      "0.020470494625449448\n",
      "0.022622455809583816\n",
      "0.0252248550395915\n",
      "0.028307650776696558\n",
      "0.03189936251871406\n",
      "0.03602816603502321\n",
      "0.04072255238594963\n",
      "0.046011633413875735\n",
      "0.051925212456736536\n",
      "0.05849378293279578\n",
      "0.06574834410259395\n",
      "0.0737202730541256\n",
      "0.08244117302260823\n",
      "0.09194273074919668\n",
      "0.10243054239684946\n",
      "0.11367616806758996\n",
      "0.1257671377439773\n",
      "0.1387498810258737\n",
      "0.15265992954681606\n",
      "0.16752970913971044\n",
      "0.18339011018569928\n",
      "0.20027097876610012\n",
      "0.21820130233541501\n",
      "0.23720928609649228\n",
      "0.25732238485465353\n",
      "0.27856731555954517\n",
      "0.3009700614823041\n",
      "0.324555873142111\n",
      "0.34934926847668546\n",
      "0.37537403348995824\n",
      "0.4026532239690104\n",
      "0.4312091685256414\n",
      "0.4610634730350871\n",
      "0.4924240998346263\n",
      "0.5250065487207976\n",
      "0.5589212714265845\n",
      "0.5942004367515898\n",
      "0.6308671362729861\n",
      "0.6689413410521778\n",
      "0.708441334042341\n",
      "0.7493842298426405\n",
      "0.7917862116088226\n",
      "0.8356626576752988\n",
      "0.8810282182951248\n"
     ]
    }
   ],
   "source": [
    "foreach(x->println(kes[x,1,1]),1:length(Ts))"
   ]
  },
  {
   "cell_type": "code",
   "execution_count": 34,
   "metadata": {},
   "outputs": [
    {
     "name": "stdout",
     "output_type": "stream",
     "text": [
      "6.54584968759455e-5\n",
      "0.0001337303886846484\n",
      "0.0002620343634232066\n",
      "0.0004942458578405893\n",
      "0.0009002405424162997\n",
      "0.0015877254175133712\n",
      "0.002717472739486146\n",
      "0.004521633749817103\n",
      "0.007323444969785218\n",
      "0.011554192404387622\n",
      "0.017759738051492904\n",
      "0.026585405434395304\n",
      "0.03873932761460325\n",
      "0.05488721414709465\n",
      "0.0755623163129544\n",
      "0.10108908559529119\n",
      "0.13155628293553737\n",
      "0.16686530445469475\n",
      "0.20681944354514123\n",
      "0.251211428480708\n",
      "0.29988063998323694\n",
      "0.35273544389888145\n",
      "0.40975091249519996\n",
      "0.47095479082507546\n",
      "0.5364108971394428\n",
      "0.60620451212288\n",
      "0.6804303880974889\n",
      "0.7591855190335391\n",
      "0.8425635781363326\n",
      "0.9306515602629993\n",
      "1.023527774156824\n",
      "1.121791536811521\n",
      "1.224683870864412\n",
      "1.332437016344826\n",
      "1.4451405196418654\n",
      "1.5628396944960357\n",
      "1.6855611895464941\n",
      "1.8133186755017636\n",
      "1.9461150374603973\n",
      "2.0839435597879996\n",
      "2.226788736644425\n",
      "2.3746269173940204\n",
      "2.5274268683902847\n",
      "2.685150286673955\n",
      "2.8477522823888006\n",
      "3.0151818383248603\n",
      "3.187382250953747\n",
      "3.364291555259841\n",
      "3.5458429345738702\n",
      "3.7319651160199747\n",
      "3.9229257064269585\n",
      "4.118079741299552\n",
      "4.317515547539085\n",
      "4.521173966674675\n",
      "4.728976973834982\n",
      "4.940839313414834\n",
      "5.156671556946683\n",
      "5.376381392284961\n",
      "5.599874346443447\n",
      "5.827054275600378\n",
      "6.05782374062918\n"
     ]
    }
   ],
   "source": [
    "foreach(x->println(kbis[x,1,1]),1:length(Ts))"
   ]
  },
  {
   "cell_type": "code",
   "execution_count": 35,
   "metadata": {},
   "outputs": [
    {
     "name": "stdout",
     "output_type": "stream",
     "text": [
      "1.8121074966173305\n",
      "1.7734757057712374\n",
      "1.7362586333319685\n",
      "1.7004232737171432\n",
      "1.6659315158303216\n",
      "1.6327417137607683\n",
      "1.6008098975790264\n",
      "1.5700907097565793\n",
      "1.5405381309999362\n",
      "1.512106043409015\n",
      "1.4847486673594228\n",
      "1.4584209001518111\n",
      "1.4330785781616668\n",
      "1.4086786789143004\n",
      "1.3851794745051245\n",
      "1.3625406433221514\n",
      "1.340723344348547\n",
      "1.3196902583436496\n",
      "1.299405601916427\n",
      "1.2798351216176644\n",
      "1.2609460744443381\n",
      "1.2427071992351069\n",
      "1.2250886816045465\n",
      "1.208062113938261\n",
      "1.191600451504475\n",
      "1.1756779655404046\n",
      "1.160270193806664\n",
      "1.1453538902337637\n",
      "1.130906973401947\n",
      "1.1169084749477864\n",
      "1.1033384883038058\n",
      "1.0901781181847756\n",
      "1.0774094311501958\n",
      "1.0650154074984708\n",
      "1.0529798946847486\n",
      "1.0412875624008342\n",
      "1.029923859410978\n",
      "1.0188749722006265\n",
      "1.0081277854652932\n",
      "0.9976698444425789\n",
      "0.9874893190711197\n",
      "0.9775749699451542\n",
      "0.9679161160216803\n",
      "0.9585026040283742\n",
      "0.9493247795140025\n",
      "0.940373459478519\n",
      "0.9316399065171551\n",
      "0.9231158044111831\n",
      "0.9147932350974504\n",
      "0.9066646569490384\n",
      "0.8987228843003234\n",
      "0.8909610681511091\n",
      "0.8833726779863278\n",
      "0.8759514846498849\n",
      "0.8686915442135223\n",
      "0.8615871827839998\n",
      "0.8546329821944103\n",
      "0.8478237665279909\n",
      "0.8411545894253416\n",
      "0.8346207221284889\n",
      "0.8282176422176972\n"
     ]
    }
   ],
   "source": [
    "foreach(x->println(klsT[x,1,1]),1:length(Ts))"
   ]
  }
 ],
 "metadata": {
  "kernelspec": {
   "display_name": "Julia 1.0.1",
   "language": "julia",
   "name": "julia-1.0"
  },
  "language_info": {
   "file_extension": ".jl",
   "mimetype": "application/julia",
   "name": "julia",
   "version": "1.0.1"
  }
 },
 "nbformat": 4,
 "nbformat_minor": 1
}
