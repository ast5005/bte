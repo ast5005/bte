{
 "cells": [
  {
   "cell_type": "code",
   "execution_count": 1,
   "metadata": {
    "collapsed": false
   },
   "outputs": [
    {
     "data": {
      "text/plain": [
       "3.0"
      ]
     },
     "execution_count": 1,
     "metadata": {},
     "output_type": "execute_result"
    }
   ],
   "source": [
    "using constants\n",
    "using types\n",
    "using Optim\n",
    "using PyPlot\n",
    "using data\n",
    "include(\"DOSfunctions.jl\")\n",
    "include(\"userfunctions.jl\")\n",
    "include(\"propertyfuncs.jl\")\n",
    "Eoff=3.0\n",
    "Ts=collect(300.0:10.0:800.0)\n",
    "numofn=[-1.5e20]#,-1.75e20,-3.0e19,-0.9e20]#Sample 1 -3.0e19, Sample 2 -1.25e20,\n",
    "#Sample 3 -1.75e20, Sample Sb 0.75% -1.03e20, #\n",
    "numofnn=[1e17]\n",
    "xs=[0.287]#collect(0.0:0.01:1.0)\n",
    "\n",
    "var0=[Ts[1],xs[1]]\n",
    "Eoff=0.0\n",
    "Ev(var)=Eoff\n",
    "Ec(var)=0.0 #Ev(var)+EgSiGe(var[1],var[2]) #var[1]:T var[2]:x\n",
    "\n",
    "effMassV(var)=-1.2*me\n",
    "effMassC(var)=1.4*me#1.4/6^(2/3)*me\n",
    "\n",
    "bandC=parBandTx(effMassC(var0),0.0,Ec(var0),[Ec],[effMassC],var0)\n",
    "bandV=parBandTx(effMassV(var0),0.0,Ev(var0),[Ev],[effMassV],var0)\n",
    "#bndstTx=BandStrucTx([bandV,bandC,bandC,bandC,bandC,bandC,bandC],var0)\n",
    "bndstTx=BandStrucTx([bandC],var0)\n",
    "#var array: var[1]: effMass , var[2]:T, var[3]:E, var[4]:x, var[5]:Ef, \n",
    "#var[6]:band, var[7]:NII var[8]:bndst var[9]:NNI\n",
    "#DefP=[3.8,7.0]\n",
    "ksi=21.0\n",
    "tauAC(var)=tauAC_func(ClSiGe(var[4],var[2]),DefP(var[1]),var[2],var[1],var[3],var[6])\n",
    "tauII2(var)=tauII2_func(ksi*eps0,eps0,var[6],var[5],var[2],var[7],var[1],var[3],var[8])\n",
    "tauNI(var)=tauNI_func(ksi*eps0,var[1],var[9])\n",
    "vartau0=[bandC.effMass,Ts[1],Ec(var0),xs[1],Ec(var0),bandC,numofn[1]*1e6,bndstTx,numofnn[1]*1e6]\n",
    "#vartau0=[bandC.effMass,Ts[1],1.0,xs[1],1.5,bandC,numofn[1]*1e6,bndstTx,numofnn[1]*1e6]\n",
    "tauTOTTx=tau_electron_B([tauAC],vartau0)#tauNI,,tauII2\n",
    "xmax=3.0"
   ]
  },
  {
   "cell_type": "code",
   "execution_count": null,
   "metadata": {
    "collapsed": false
   },
   "outputs": [],
   "source": [
    "NumofnMultiBand2(bndstTx,5.0+2.0,300.0,3.0)"
   ]
  },
  {
   "cell_type": "code",
   "execution_count": null,
   "metadata": {
    "collapsed": false
   },
   "outputs": [],
   "source": [
    "@time Numofn2(bandC,5.0+2.0,300.0,3.0)"
   ]
  },
  {
   "cell_type": "code",
   "execution_count": null,
   "metadata": {
    "collapsed": false
   },
   "outputs": [],
   "source": [
    "@time Numofn(bandC,5.0+2.0,300.0,3.0)"
   ]
  },
  {
   "cell_type": "code",
   "execution_count": 2,
   "metadata": {
    "collapsed": false,
    "scrolled": false
   },
   "outputs": [
    {
     "data": {
      "image/png": "[encoded data removed]",
      "text/plain": [
       "PyPlot.Figure(PyObject <matplotlib.figure.Figure object at 0x7f254e3a7a90>)"
      ]
     },
     "metadata": {},
     "output_type": "display_data"
    }
   ],
   "source": [
    "E=collect(0.0:0.02:1.98)\n",
    "Energy=Array{Float64}(length(E))\n",
    "numofn_test=Array{Float64}(length(E))\n",
    "for (e,ex) in enumerate(E)\n",
    "    numofn_test[e]=-NumofnMultiBand2(bndstTx,ex+0.0,300.0,3.0)\n",
    "end\n",
    "semilogy(E,numofn_test*1e-6,Linestyle=\"-\",Linewidth=\"2\",color=\"b\")\n",
    "grid()"
   ]
  },
  {
   "cell_type": "code",
   "execution_count": null,
   "metadata": {
    "collapsed": false,
    "scrolled": false
   },
   "outputs": [],
   "source": [
    "E=collect(1.0:1.0:100)\n",
    "Energy=Array{Float64}(length(E))\n",
    "tauAC_test=Array{Float64}(length(E))\n",
    "for (e,ex) in enumerate(E)\n",
    "    vartau_test=[bandC.effMass,300.01,ex+Ec([300.01,0.287]),0.287,0.0,bandC,numofn[1]*1e6,bndstTx,numofnn[1]*1e6]\n",
    "    #vartau_test=[bandV.effMass,300.01,ex+Ec([300.01,0.287]),0.287,0.0,bandV,numofn[1]*1e6,bndstTx,numofnn[1]*1e6]\n",
    "    #Energy[e]=EgSiGe(300.0,0.287)#Ec(vartau_test)\n",
    "    tauAC_test[e]=tauAC(vartau_test)\n",
    "end\n",
    "plot(E,tauAC_test,Linestyle=\"-\",Linewidth=\"2\",color=\"b\")\n",
    "grid()"
   ]
  },
  {
   "cell_type": "code",
   "execution_count": null,
   "metadata": {
    "collapsed": false
   },
   "outputs": [],
   "source": [
    "E=collect(1.0:1.0:100)\n",
    "Energy=Array{Float64}(length(E))\n",
    "tauII2_test=Array{Float64}(length(E))\n",
    "for (e,ex) in enumerate(E)\n",
    "    vartau_test=[bandC.effMass,300.01,ex+Ec([300.01,0.287]),0.287,0.0,bandC,numofn[1]*1e6,bndstTx,numofnn[1]*1e6]\n",
    "    #vartau_test=[bandV.effMass,300.01,ex+Ec([300.01,0.287]),0.287,0.0,bandV,numofn[1]*1e6,bndstTx,numofnn[1]*1e6]\n",
    "    #Energy[e]=EgSiGe(300.0,0.287)#Ec(vartau_test)\n",
    "    tauII2_test[e]=tauII2(vartau_test)\n",
    "end\n",
    "plot(E,tauII2_test,Linestyle=\"-\",Linewidth=\"2\",color=\"b\")\n",
    "grid()"
   ]
  },
  {
   "cell_type": "code",
   "execution_count": null,
   "metadata": {
    "collapsed": false
   },
   "outputs": [],
   "source": [
    "tauNI2_test=Array{Float64}(length(E))\n",
    "for (e,ex) in enumerate(E)\n",
    "    vartau_test=[bandC.effMass,300.01,ex+Ec([300.01,0.287]),0.287,0.0,bandC,numofn[1]*1e6,bndstTx,numofnn[1]*1e6]\n",
    "    #vartau_test=[bandV.effMass,300.01,ex+Ec([300.01,0.287]),0.287,0.0,bandV,numofn[1]*1e6,bndstTx,numofnn[1]*1e6]\n",
    "    #Energy[e]=EgSiGe(300.0,0.287)#Ec(vartau_test)\n",
    "    tauNI2_test[e]=tauNI(vartau_test)\n",
    "end\n",
    "plot(E,tauNI2_test,Linestyle=\"-\",Linewidth=\"2\",color=\"b\")\n",
    "grid()"
   ]
  },
  {
   "cell_type": "code",
   "execution_count": null,
   "metadata": {
    "collapsed": false
   },
   "outputs": [],
   "source": [
    "@time (Efs,sigmas,seebecks,kes,kees,kehs,kbis)=electronicProps(bndstTx,xs,Ts,numofn,tauTOTTx,xmax)\n",
    "x=1"
   ]
  },
  {
   "cell_type": "code",
   "execution_count": null,
   "metadata": {
    "collapsed": true
   },
   "outputs": [],
   "source": []
  },
  {
   "cell_type": "code",
   "execution_count": null,
   "metadata": {
    "collapsed": false,
    "scrolled": false
   },
   "outputs": [],
   "source": [
    "colors=[\"b\",\"g\",\"r\",\"c\",\"m\",\"y\",\"k\"]\n",
    "PS_Sn06_0PAEC=[10.0,13.0,17.0,25.0\n",
    "    ,30.0,46.0,88.0,108.0,232.0]\n",
    "PS_Sn06_0PASC=[327.0,241.0,105.0,98.0,74.0,62.0\n",
    "    ,42.0,35.0,15.0]\n",
    "PS_Sn06_0PAEC_1=[85.0,80.0,70.0,72.0\n",
    "    ,98.0,109.0,131.0,172.0,229.0]\n",
    "PS_Sn06_0PASC_1=[348.0,385.0,406.0,371.0,352.0,338.0\n",
    "    ,301.0,277.0,271.0]\n",
    "plots=Array{Any}(length(numofn)*length(xs))\n",
    "figure()\n",
    "k=1\n",
    "for p in 1:1:length(numofn)\n",
    "    for q in 1:1:length(xs)                \n",
    "        plot(Ts,sigmas[:,p,q]/100,linestyle=\"-\",color=colors[mod(k,length(colors))]\n",
    "        ,label=string(\"N: $(numofn[p]) x: $(xs[q])\"))\n",
    "        #push!(plots,p)\n",
    "        k+=1\n",
    "    end\n",
    "end\n",
    "#plot(Tdata.+273.15,PS_Sn06_0PAEC, linestyle=\"None\",marker=\".\",markersize=20,color=\"r\")\n",
    "#plot(Tdata.+273.15,PS_Sn06_0PAEC_1, linestyle=\"None\",marker=\".\",markersize=20,color=\"g\")\n",
    "#ylim(0,3000)\n",
    "legend(loc=\"upper left\")\n",
    "figure()\n",
    "k=1\n",
    "for p in 1:1:length(numofn)\n",
    "    for q in 1:1:length(xs)\n",
    "        plot(Ts,1e6*seebecks[:,p,q],color=colors[mod(k,length(colors))]\n",
    "        ,label=string(\"N:$(numofn[p]) x:$(xs[q])\")) \n",
    "        k+=1\n",
    "    end\n",
    "end\n",
    "#plot(Tdata+273.15,-PS_Sn06_0PASC, linestyle=\"None\",marker=\".\",markersize=20,color=\"r\")\n",
    "#plot(Tdata+273.15,-PS_Sn06_0PASC_1, linestyle=\"None\",marker=\".\",markersize=20,color=\"g\")\n",
    "#ylim(90,260)\n",
    "legend(loc=\"upper left\")"
   ]
  },
  {
   "cell_type": "code",
   "execution_count": null,
   "metadata": {
    "collapsed": true
   },
   "outputs": [],
   "source": [
    "#vartauPhLSi=[0.3,2.0024e-29,x]\n",
    "#var[1]: gamma, var[2]:V, var[3]:x, var[4]:T, var[5]:T, \n",
    "#var[6]: M, var[7]:v, var[8]:theta, var[9]:MI, var[10]:MII, \n",
    "#var[11]:alpha, var[12]:Nc, var[13]:Dc, var[14]:Eep, \n",
    "#var[15]:md, var[16]:ro, var[17]:Ef\n",
    "#vartauPhT=[]"
   ]
  }
 ],
 "metadata": {
  "kernelspec": {
   "display_name": "Julia 0.5.0",
   "language": "julia",
   "name": "julia-0.5"
  },
  "language_info": {
   "file_extension": ".jl",
   "mimetype": "application/julia",
   "name": "julia",
   "version": "0.5.0"
  }
 },
 "nbformat": 4,
 "nbformat_minor": 0
}
