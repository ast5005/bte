{
 "cells": [
  {
   "cell_type": "code",
   "execution_count": 1,
   "metadata": {
    "collapsed": false
   },
   "outputs": [
    {
     "data": {
      "text/plain": [
       "electronicthermalPropsiso (generic function with 1 method)"
      ]
     },
     "execution_count": 1,
     "metadata": {},
     "output_type": "execute_result"
    }
   ],
   "source": [
    "using constants\n",
    "using types\n",
    "using Optim\n",
    "using PyPlot\n",
    "using data\n",
    "include(\"DOSfunctions.jl\")\n",
    "include(\"userfunctions.jl\")\n",
    "include(\"propertyfuncs.jl\")"
   ]
  },
  {
   "cell_type": "code",
   "execution_count": 2,
   "metadata": {
    "collapsed": false
   },
   "outputs": [
    {
     "data": {
      "text/html": [
       "3.0"
      ],
      "text/plain": [
       "3.0"
      ]
     },
     "execution_count": 2,
     "metadata": {},
     "output_type": "execute_result"
    }
   ],
   "source": [
    "Ts=collect(150.01:50.0:1200.01)\n",
    "#Ts=collect(663.8:0.01:664.0)#[663.0,663.1]\n",
    "numofn=[-1.5e20]#,-7.3e19,-2.0e19,-0.15e19]#,-0.2e20]#,-1.75e20,-3.0e19,-0.9e20]#Sample 1 -3.0e19, Sample 2 -1.25e20,\n",
    "#Sample 3 -1.75e20, Sample Sb 0.75% -1.03e20, #\n",
    "numofnn=[1e17]#,1e17,1e17,1e17]#,1e17]\n",
    "xs=[0.287]#,0.3,0.3,0.3]#[0.287,0.3,0.262,0.332]#collect(0.0:0.01:1.0)\n",
    "\n",
    "var0=[Ts[1],xs[1]]\n",
    "Eoff=5.0\n",
    "Ev(var)=Eoff\n",
    "Ec(var)=Ev(var)+EgSiGe(var[1],var[2]) #var[1]:T var[2]:x\n",
    "alphanp=0.2#1/EgSiGe([Ts[1],xs[1]])\n",
    "\n",
    "\n",
    "effMassV(var)=-1.2*me\n",
    "effMassC(var)=0.427*me#1.4/6^(2/3)*me#0.321me#0.424*me#0.424*me#1.4/6^(2/3)*me\n",
    "\n",
    "bandC=parBandTx(effMassC(var0),alphanp,Ec(var0),[Ec],[effMassC],var0)\n",
    "bandV=parBandTx(effMassV(var0),0.0,Ev(var0),[Ev],[effMassV],var0)\n",
    "#bndstTx=BandStrucTx([bandV,bandC,bandC,bandC,bandC,bandC,bandC],var0)\n",
    "bndstTx=BandStrucTx([bandC,bandC,bandC,bandC,bandC,bandC,bandV],var0)#,bandC,bandC,bandC,bandC,bandC,bandV],var0)\n",
    "#var array: var[1]: effMass , var[2]:T, var[3]:E, var[4]:x, var[5]:Ef, \n",
    "#var[6]:band, var[7]:NII var[8]:bndst var[9]:NNI var[10]:bandV\n",
    "\n",
    "md=effMassC([Ts[1],xs[1]])*6^(2/3)#1.4*me;\n",
    "function Deftemp(band::parBandTx)\n",
    "    Da=8.0\n",
    "    Dv=3.0\n",
    "    if band==bandC\n",
    "        return [Da,Dv]#10.5#15.0\n",
    "    end\n",
    "    if band==bandV        \n",
    "        return [Dv,Da]#7.0\n",
    "    end\n",
    "end\n",
    "ksi=21.0\n",
    "tauAC(var)=tauAC_func(ClSiGe(var[4],var[2]),Deftemp(var[6])[1],Deftemp(var[6])[2],var[2],var[1],var[3],var[6])#DefP(var[1])\n",
    "tauII2(var)=tauII2_func(ksi*eps0,eps0,var[6],var[5],var[2],var[7],var[1],var[3],var[8])\n",
    "tauNI(var)=tauNI_func(ksi*eps0,var[1],var[9])\n",
    "vartau0=[bandC.effMass,Ts[1],Ec(var0),xs[1],Ec(var0),bandC,numofn[1]*1e6,bndstTx,numofnn[1]*1e6,bandV]\n",
    "#vartau0=[bandC.effMass,Ts[1],1.0,xs[1],1.5,bandC,numofn[1]*1e6,bndstTx,numofnn[1]*1e6]\n",
    "tauTOTTx=tau_electron_B([tauAC,tauII2,tauNI],vartau0)#tauNI,,tauII2,tauAC,\n",
    "xmax=3.0\n",
    "#T_EF_Dict=Dict()\n",
    "#println(\"-3\")"
   ]
  },
  {
   "cell_type": "code",
   "execution_count": 3,
   "metadata": {
    "collapsed": false
   },
   "outputs": [
    {
     "name": "stdout",
     "output_type": "stream",
     "text": [
      " 17.698027 seconds (94.53 M allocations: 25.646 GB, 16.87% gc time)\n"
     ]
    }
   ],
   "source": [
    "@time (Efs,sigmas,seebecks,kes,kees,kehs,kbis)=electronicPropsiso(bndstTx,xs,Ts,numofn,tauTOTTx,xmax)\n",
    "\n",
    "Efsr=Array{Float64,3}(length(Ts),length(numofn),length(xs))\n",
    "for (i,iT) in enumerate(Ts)\n",
    "    for (k,kx) in enumerate(xs) \n",
    "        for (j,jn) in enumerate(numofn)\n",
    "            Efsr[i,j,k]=Efs[i,j,k]-Ec([iT,kx])\n",
    "        end\n",
    "    end\n",
    "end\n",
    "#println(\"-2\")\n",
    "T_EF_Dict=Dict()\n",
    "for (Ti,Tx) in enumerate(Ts)\n",
    "    T_EF_Dict[Tx]=(Efs[Ti])    \n",
    "end\n",
    "T_EF_Dict_Array=Array{Dict{Float64,Float64},2}(length(numofn),length(xs))\n",
    "Dict_temp=Dict()\n",
    "Efsr=Array{Float64,3}(length(Ts),length(numofn),length(xs))\n",
    "for (j,jn) in enumerate(numofn)\n",
    "    for (k,kx) in enumerate(xs) \n",
    "        for (i,iT) in enumerate(Ts)\n",
    "            Efsr[i,j,k]=Efs[i,j,k]-Ec([iT,kx])\n",
    "            Dict_temp[iT]=Efsr[i,j,k]\n",
    "            T_EF_Dict_Array[j,k]=Dict_temp \n",
    "        end\n",
    "    end\n",
    "end"
   ]
  },
  {
   "cell_type": "code",
   "execution_count": 4,
   "metadata": {
    "collapsed": false
   },
   "outputs": [
    {
     "data": {
      "text/html": [
       "1.0"
      ],
      "text/plain": [
       "1.0"
      ]
     },
     "execution_count": 4,
     "metadata": {},
     "output_type": "execute_result"
    }
   ],
   "source": [
    "#println(\"-1\")\n",
    "#############Lattice Thermal Conductivity Parameters###############\n",
    "thetaSiL=586.0 # K \n",
    "thetaSiT=240.0 # K\n",
    "vSiL=8430.0    # m/s\n",
    "vSiT=5840.0    # m/s\n",
    "vGeL=4920.0    # m/s\n",
    "vGeT=3540.0    # m/s\n",
    "gammaL=0.9\n",
    "gammaT=0.9\n",
    "MSi=4.6637e-26 # kg\n",
    "MGe=1.206e-25  # kg\n",
    "VSi=2.0024e-29 #m3\n",
    "VGe=2.2636e-29 #m3\n",
    "\n",
    "Eep=3.4*q\n",
    "xsp=xs[1]\n",
    "Tp=300.0\n",
    "p=1.0\n",
    "D=20e-9\n",
    "NP=0.0\n",
    "a=1.0\n",
    "alpha=0.5 #specularity factor\n",
    "d=97.0e-9#\n",
    "\n",
    "#println(\"1\")\n",
    "\n",
    "#vartauPH0=[[0.02],Ts[1],gammaL,gammaT,xsp,thetaCLx,thetaCTx,thetaCTx,MSi,MGe,VSi,a,T_EF_Dict,0.0]\n",
    "vartauPH0=[ [0.02],  Ts[1],   gammaL,  gammaT, xsp,\n",
    "    thetaSiL, thetaSiT, thetaSiT, MSi,   MGe, \n",
    "    VSi, a, T_EF_Dict_Array, Eep, alpha, \n",
    "    d, thetaSiL, thetaSiT, vSiL, vSiT, \n",
    "    vGeL, vGeT, p, NP,Tsindex=1,\n",
    "    numberofnindex=1,xsindex=1]\n",
    "thetaCLx=thetaCL(vartauPH0[12],vartauPH0[5],vartauPH0[17],vartauPH0[19],vartauPH0[11])\n",
    "thetaCTx=thetaCT(vartauPH0[12],vartauPH0[5],vartauPH0[18],vartauPH0[19],vartauPH0[11])\n",
    "#println(\"2\")\n",
    "tauPHNLf(var)=tauPH_NL(var[3],VSiGe(var[5]),var[1],var[2],MSiGe(var[5]),vSiGeL_PH(var[5]))\n",
    "tauPHNTf(var)=tauPH_NT(var[4],VSiGe(var[5]),var[1],var[2],MSiGe(var[5]),vSiGeT_PH(var[5]))\n",
    "\n",
    "tauPHULf(var)=tauPH_U(var[3],var[1],var[2],MSiGe(var[5]),vSiGeL_PH(var[5]),var[17])\n",
    "tauPHUTf(var)=tauPH_U(var[4],var[1],var[2],MSiGe(var[5]),vSiGeT_PH(var[5]),var[18])\n",
    "\n",
    "tauPHALLLf(var)=tauPH_ALL(var[9],var[10],var[5],VSiGe(var[5]),var[1],var[2],MSiGe(var[5]),vSiGeL_PH(var[5]))\n",
    "tauPHALLTf(var)=tauPH_ALL(var[9],var[10],var[5],VSiGe(var[5]),var[1],var[2],MSiGe(var[5]),vSiGeT_PH(var[5]))\n",
    "\n",
    "tauPHeLf(var)=tauPH_e(var[14],md,MSiGe(var[5])/VSiGe(var[5]),(var[13][var[26],var[27]])[var[2]],var[1],var[2],\n",
    "vSiGeL_PH(var[5]))\n",
    "tauPHeTf(var)=tauPH_e(var[14],md,MSiGe(var[5])/VSiGe(var[5]),(var[13][var[26],var[27]])[var[2]],var[1],var[2],\n",
    "vSiGeT_PH(var[5]))\n",
    "\n",
    "tauPHBLf(var)=tauPH_B(vSiGeL_PH(var[5]),var[14],var[15])\n",
    "tauPHBTf(var)=tauPH_B(vSiGeT_PH(var[5]),var[14],var[15])\n",
    "#println(\"3\")\n",
    "tauPHTOTL=tau_phonon_B([tauPHNLf,tauPHULf,tauPHALLLf,tauPHeLf],vartauPH0)#,tauPH_eLf ,tauPHALLLf ,tauPHBLf\n",
    "tauPHNL=tau_phonon_B([tauPHNLf],vartauPH0)\n",
    "tauPHRL=tau_phonon_B([tauPHULf,tauPHALLLf,tauPHeLf],vartauPH0) #,tauPHALLLf,tauPH_eLf] ,tauPHBLf\n",
    "\n",
    "tauPHTOTTx=tau_phonon_B([tauPHNTf,tauPHUTf,tauPHALLTf,tauPHeTf],vartauPH0) #tauPHALLTf,tauPH_eTf ,tauPHBTf\n",
    "tauPHNTx=tau_phonon_B([tauPHNTf],vartauPH0)\n",
    "tauPHRTx=tau_phonon_B([tauPHUTf,tauPHALLTf,tauPHeTf],vartauPH0) #,tauPHALLTf,tauPH_eTf ,tauPHBTf\n",
    "\n",
    "tauPHTOTTy=tau_phonon_B([tauPHNTf,tauPHUTf,tauPHALLTf,tauPHeTf],vartauPH0) #,tauPHALLTf,tauPH_eTf tauPHBTf\n",
    "tauPHNTy=tau_phonon_B([tauPHNTf],vartauPH0)\n",
    "tauPHRTy=tau_phonon_B([tauPHUTf,tauPHALLTf,tauPHeTf],vartauPH0) #,tauPHALLTf,tauPH_eTf ,tauPHBTf\n",
    "#println(\"4\")\n",
    "\n",
    "tauPHL=[tauPHTOTL,tauPHNL,tauPHRL]\n",
    "tauPHTx=[tauPHTOTTx,tauPHNTx,tauPHRTx]\n",
    "xmax=1.0"
   ]
  },
  {
   "cell_type": "code",
   "execution_count": 5,
   "metadata": {
    "collapsed": false
   },
   "outputs": [
    {
     "data": {
      "text/html": [
       "1"
      ],
      "text/plain": [
       "1"
      ]
     },
     "execution_count": 5,
     "metadata": {},
     "output_type": "execute_result"
    }
   ],
   "source": [
    "tau=0\n",
    "tau+=1"
   ]
  },
  {
   "cell_type": "code",
   "execution_count": 6,
   "metadata": {
    "collapsed": false,
    "scrolled": false
   },
   "outputs": [
    {
     "data": {
      "image/png": "[encoded data removed]",
      "text/plain": [
       "PyPlot.Figure(PyObject <matplotlib.figure.Figure object at 0x7f0a5bda5208>)"
      ]
     },
     "metadata": {},
     "output_type": "display_data"
    },
    {
     "data": {
      "image/png": "[encoded data removed]",
      "text/plain": [
       "PyPlot.Figure(PyObject <matplotlib.figure.Figure object at 0x7f0a44a52ef0>)"
      ]
     },
     "metadata": {},
     "output_type": "display_data"
    },
    {
     "data": {
      "image/png": "[encoded data removed]",
      "text/plain": [
       "PyPlot.Figure(PyObject <matplotlib.figure.Figure object at 0x7f0a45240390>)"
      ]
     },
     "metadata": {},
     "output_type": "display_data"
    },
    {
     "data": {
      "image/png": "[encoded data removed]",
      "text/plain": [
       "PyPlot.Figure(PyObject <matplotlib.figure.Figure object at 0x7f0a451c82b0>)"
      ]
     },
     "metadata": {},
     "output_type": "display_data"
    },
    {
     "data": {
      "image/png": "[encoded data removed]",
      "text/plain": [
       "PyPlot.Figure(PyObject <matplotlib.figure.Figure object at 0x7f0a4519d128>)"
      ]
     },
     "metadata": {},
     "output_type": "display_data"
    },
    {
     "data": {
      "image/png": "[encoded data removed]",
      "text/plain": [
       "PyPlot.Figure(PyObject <matplotlib.figure.Figure object at 0x7f0a450fc3c8>)"
      ]
     },
     "metadata": {},
     "output_type": "display_data"
    },
    {
     "data": {
      "image/png": "[encoded data removed]",
      "text/plain": [
       "PyPlot.Figure(PyObject <matplotlib.figure.Figure object at 0x7f0a450d2160>)"
      ]
     },
     "metadata": {},
     "output_type": "display_data"
    }
   ],
   "source": [
    "function tauPH_U_SAT(gamma::Float64,intx::Array{Float64},T::Float64,M::Float64,\n",
    "    theta::Float64,omegaD::Float64,beta::Float64,delta::Float64)\n",
    "    #intx is different from x in oither phonon calculations intx=omega/omegaD\n",
    "    Mcgs=M\n",
    "    #println(\"Mcgs= \",Mcgs)\n",
    "    deltacgs=delta*100\n",
    "    #println(\"deltacgs= \",deltacgs)\n",
    "    #println(\"1/Mcgs/deltacgs^2/(theta/T)= \",(1/Mcgs/deltacgs^2/(theta/T)))\n",
    "    return 1./((3.264e-2)*((1+beta*(5/9))/(1+beta))*gamma^2.*intx.^2./Mcgs/deltacgs^2/(theta/T))    \n",
    "end\n",
    "\n",
    "function tauPH_EP_SAT(Eep::Float64,md::Float64,x::Array{Float64},Ef::Float64,\n",
    "    T::Float64,M::Float64,theta::Float64,delta::Float64)\n",
    "    eta=Ef#Ef*q/kB/T\n",
    "    deltacgs=delta*100\n",
    "    Mcgs=M\n",
    "    A=6.76e26(md/me)^2*deltacgs^2/Mcgs\n",
    "    y=3.72e9(md/me)*deltacgs^2*theta\n",
    "    D=1.68e-11/(md/me)/deltacgs^2/theta\n",
    "    alphat=thetaD/T\n",
    "    #println(\"alphat \",alphat)\n",
    "    lambda=6\n",
    "    ex1=1+exp(-alphat*y+eta-D*alphat*x.*x+alphat.*x/2)\n",
    "    ex2=1+exp(-alphat*y+eta-D*alphat*x.*x-alphat.*x/2)    \n",
    "    ext=ex1./ex2\n",
    "    logt=log(ext)\n",
    "    return 1./(lambda*(A*Eep^2/alphat).*logt) \n",
    "end\n",
    "\n",
    "function tauPH_PD_SAT(GM::Float64,intx::Array{Float64},theta::Float64)\n",
    "    return 1./(6.17e11*theta*GM.*intx.^4)\n",
    "end\n",
    "#++++++++++++++++++++++++++++++++++++++++++++++++++++++++++++++++++++++++++++++++++++++++++++++++++++++++++++#\n",
    "function tauPH_U_VT(gamma::Float64,intx::Array{Float64},T::Float64,M::Float64,theta::Float64,\n",
    "omegaD::Float64,beta::Float64,delta::Float64)#intx is different from x in oither phonon calculations intx=omega/omegaD\n",
    "    bb=20*pi/3*hbar*6.02e23*(6*pi*pi/4)^(1/3)\n",
    "    M=M/1000\n",
    "    deltacgs=delta\n",
    "    #println(\"bb \",bb)\n",
    "    return 1./(bb*(1+beta*5/9)/(1+beta)*gamma^2/M/deltacgs^2*(T/theta)^3.*intx.^2)    \n",
    "end\n",
    "function tauPH_C_VT(gamma::Float64,intx::Array{Float64},T::Float64,M::Float64,theta::Float64,\n",
    "omegaD::Float64,beta::Float64,delta::Float64)#intx is different from x in oither phonon calculations intx=omega/omegaD\n",
    "   tau_u=tauPH_U_VT(gamma::Float64,intx::Array{Float64},T::Float64,M::Float64,theta::Float64,\n",
    "omegaD::Float64,beta::Float64,delta::Float64)#intx is different from x in oither phonon calcu\n",
    "    return tau_u#1./(1./(tau_u/beta)+1./tau_u)    \n",
    "end\n",
    "function tauPH_PD_VT(GM::Float64,Tt::Float64,intx::Array{Float64},vtt::Float64,delta::Float64)\n",
    "    return 1./(GM/4/pi*(delta/vtt)^3*(kB*Tt/hbar)^4.*intx.^4)\n",
    "end\n",
    "function tauPH_EP_VT(Eep::Float64,md::Float64,x::Array{Float64},Ef::Float64,v::Float64,T::Float64,d::Float64)\n",
    "    ts=md*v*v/(2*kB*T)\n",
    "    Efst=Ef#*q/kB/T\n",
    "    ex1=(1+exp(-ts+Efst-x.*x/16/ts+x/2))\n",
    "    ex2=(1+exp(-ts+Efst-x.*x/16/ts-x/2))    \n",
    "    return 1./((Eep^2*md^3*v)/(4*pi*hbar^4*d*ts).*log(ex1./ex2))\n",
    "end\n",
    "\n",
    "#++++++++++++++++++++++++++++++++++++++++++++++++++++++++++++++++++++++++++++++++++++++++++++++++++++++++++++#\n",
    "function tauPH_NLT(gamma::Float64,V::Float64,x::Array{Float64},T::Float64,M::Float64,v::Float64)\n",
    "    \n",
    "    return M*v^5*hbar^4./(kB^5*gamma^2*V*x.*x*T^5)    \n",
    "end\n",
    "function tauPH_UT(gamma::Float64,x::Array{Float64},T::Float64,M::Float64,v::Float64,theta::Float64)   \n",
    "    return 1./((hbar*gamma^2*kB^2.*x.^2*T^3*exp(-theta/3/T)/(M*v^2*theta*hbar^2)))\n",
    "end\n",
    "function tauPH_ALLT(Gamma::Float64,MI::Float64,MII::Float64,y::Float64,V::Float64,\n",
    "    x::Array{Float64},T::Float64,M::Float64,v::Float64)\n",
    "     GammaT=(1-y)*((MI-M)/M)^2+y*((MII-M)/M)^2\n",
    "    return 1./(Gamma*V/v^3./4./pi)./(kB*T*x/hbar).^4 #4*pi*v^3*hbar^4./(Gamma*V*(kB*T*x).^4)\n",
    "end\n",
    "function tauPH_eT(Eep::Float64,md::Float64,ro::Float64,Ef::Float64,x::Array{Float64},T::Float64,v::Float64)\n",
    "    #Ef=Ef*q/kB/T\n",
    "    beta=md*v^2/2/kB/T\n",
    "    logp=log((1+exp(-beta+Ef-x.*x/(16*beta)+x/2))./(1+exp(-beta+Ef-x.*x/(16*beta)-x/2)))\n",
    "    return 4*pi*hbar^4*ro*beta./(Eep^2*md^3*v)./(logp) \n",
    "end\n",
    "#++++++++++++++++++++++++++++++++++++++++++++++++++++++++++++++++++++++++++++++++++++++++++++++++++++++++++++#\n",
    "############################################################################################################\n",
    "function I1SS(gammaSA,GM,Tt,MSiGecgs,V,thetaD,omegaD,beta,delta,Eep,mds,etha,vtt,dd) \n",
    "    alphat=thetaD/Tt\n",
    "    M=MSiGecgs\n",
    "    T=Tt\n",
    "    v=vtt\n",
    "    Ef=etha\n",
    "    gamma=gammaSA\n",
    "    ro=dd\n",
    "    md=mds\n",
    "    tauPH_U_SS_Af(x)=tauPH_UT(gamma,x,T,M,v,thetaD)\n",
    "    tauPH_N_SS_Af(x)=tauPH_NLT(gamma,V,x,T,M,vtt)\n",
    "    tauPH_EP_SS_Af(x)=tauPH_eT(Eep*q,md,ro,Ef,x,T,v)/6   \n",
    "    tauPH_PD_SS_Af(x)=tauPH_ALLT(GM,4.6637e-26,1.206e-25,0.3,V,x,T,M,v)    \n",
    "    tauPH_C_SS_Af(x)=1./(1./tauPH_N_SS_Af(x)+1./tauPH_U_SS_Af(x)+1./tauPH_EP_SS_Af(x)+1./tauPH_PD_SS_Af(x))    \n",
    "    integrand(x)=tauPH_C_SS_Af(x).*(x.^4).*exp(x)./(exp(x)-1).^2    \n",
    "    nodes, weights = qnwlege(1000,0.0,alphat)\n",
    "    return a= do_quad(integrand,nodes, weights)   \n",
    "end\n",
    "function I2SS(gammaSA,GM,Tt,MSiGecgs,V,thetaD,omegaD,beta,delta,Eep,mds,etha,vtt,dd) \n",
    "    alphat=thetaD/Tt\n",
    "    M=MSiGecgs\n",
    "    T=Tt\n",
    "    v=vtt\n",
    "    Ef=etha\n",
    "    gamma=gammaSA\n",
    "    ro=dd\n",
    "    md=mds\n",
    "    tauPH_U_SS_Af(x)=tauPH_UT(gamma,x,T,M,v,thetaD)\n",
    "    tauPH_N_SS_Af(x)=tauPH_NLT(gamma,V,x,T,M,vtt)\n",
    "    tauPH_EP_SS_Af(x)=tauPH_eT(Eep*q,md,ro,Ef,x,T,v)/6   \n",
    "    tauPH_PD_SS_Af(x)=tauPH_ALLT(GM,4.6637e-26,1.206e-25,0.3,V,x,T,M,v)    \n",
    "    tauPH_C_SS_Af(x)=1./(1./tauPH_N_SS_Af(x)+1./tauPH_U_SS_Af(x)+1./tauPH_EP_SS_Af(x)+1./tauPH_PD_SS_Af(x)) \n",
    "    tauPH_R_SS_Af(x)=1./(1./tauPH_U_SS_Af(x)+1./tauPH_EP_SS_Af(x)+1./tauPH_PD_SS_Af(x)) \n",
    "    integrand(x)=tauPH_C_SS_Af(x)./tauPH_N_SS_Af(x).*(x.^4).*exp(x)./(exp(x)-1).^2    \n",
    "    nodes, weights = qnwlege(1000,0.0,thetaD/Tt)\n",
    "    return a= do_quad(integrand,nodes, weights)    \n",
    "end\n",
    "\n",
    "function I3SS(gammaSA,GM,Tt,MSiGecgs,V,thetaD,omegaD,beta,delta,Eep,mds,etha,vtt,dd) \n",
    "alphat=thetaD/Tt\n",
    "    M=MSiGecgs\n",
    "    T=Tt\n",
    "    v=vtt\n",
    "    Ef=etha\n",
    "    gamma=gammaSA\n",
    "    ro=dd\n",
    "    md=mds\n",
    "    tauPH_U_SS_Af(x)=tauPH_UT(gamma,x,T,M,v,thetaD)\n",
    "    tauPH_N_SS_Af(x)=tauPH_NLT(gamma,V,x,T,M,vtt)\n",
    "    tauPH_EP_SS_Af(x)=tauPH_eT(Eep*q,md,ro,Ef,x,T,v)/6   \n",
    "    tauPH_PD_SS_Af(x)=tauPH_ALLT(GM,4.6637e-26,1.206e-25,0.3,V,x,T,M,v)    \n",
    "    tauPH_C_SS_Af(x)=1./(1./tauPH_N_SS_Af(x)+1./tauPH_U_SS_Af(x)+1./tauPH_EP_SS_Af(x)+1./tauPH_PD_SS_Af(x)) \n",
    "    tauPH_R_SS_Af(x)=1./(1./tauPH_U_SS_Af(x)+1./tauPH_EP_SS_Af(x)+1./tauPH_PD_SS_Af(x))    \n",
    "    integrand(x)=tauPH_C_SS_Af(x)./tauPH_N_SS_Af(x)./tauPH_R_SS_Af(x).*(x.^4).*exp(x)./(exp(x)-1).^2    \n",
    "    nodes, weights = qnwlege(1000,0.0,alphat)\n",
    "    return a= do_quad(integrand,nodes, weights)    \n",
    "end\n",
    "function kltSS(gammaSA,GM,Tt,MM,VV,thetaD,omegaD,beta,delta,Eep,mds,etha,vtt,dd) \n",
    "    \n",
    "    I1t=I1SS(gammaSA,GM,Tt,MM,VV,thetaD,omegaD,beta,delta,Eep,mds,etha,vtt,dd)    \n",
    "    I2t=I2SS(gammaSA,GM,Tt,MM,VV,thetaD,omegaD,beta,delta,Eep,mds,etha,vtt,dd)    \n",
    "    I3t=I3SS(gammaSA,GM,Tt,MM,VV,thetaD,omegaD,beta,delta,Eep,mds,etha,vtt,dd)    \n",
    "    return kB^4*Tt^3/2/pi/pi/hbar^3/vtt*(I1t+I2t.^2/I3t)    \n",
    "end\n",
    "\n",
    "###########################################################################################################\n",
    "function I1(gammaSA,GM,Tt,MSiGecgs,thetaD,omegaD,beta,delta,Eep,mds,etha)\n",
    "    alphat=thetaD/Tt\n",
    "    tauPH_U_SA_Af(x)=tauPH_U_SAT(gammaSA,x,Tt,MSiGecgs,thetaD,omegaD,beta,delta)   \n",
    "    tauPH_EP_SA_Af(x)=tauPH_EP_SAT(Eep,mds,x,etha,Tt,MSiGecgs,thetaD,delta)\n",
    "    tauPH_PD_SA_Af(x)=tauPH_PD_SAT(GM,x,thetaD)\n",
    "    tauPH_C_SA_Af(x)=1./((beta+1)./tauPH_U_SA_Af(x)+1./tauPH_EP_SA_Af(x)+1./tauPH_PD_SA_Af(x))    \n",
    "    integrand(x)=tauPH_C_SA_Af(x).*alphat.*(x.^4)*alphat^4.*exp(alphat*x)./(exp(alphat*x)-1).^2    \n",
    "    nodes, weights = qnwlege(1000,0.0,1.0)\n",
    "    return a= do_quad(integrand,nodes, weights)    \n",
    "end\n",
    "\n",
    "function I2(gammaSA,GM,Tt,MSiGecgs,thetaD,omegaD,beta,delta,Eep,mds,etha)\n",
    "    alphat=thetaD/Tt\n",
    "    tauPH_U_SA_Af(x)=tauPH_U_SAT(gammaSA,x,Tt,MSiGecgs,thetaD,omegaD,beta,delta)    \n",
    "    tauPH_EP_SA_Af(x)=tauPH_EP_SAT(Eep,mds,x,etha,Tt,MSiGecgs,thetaD,delta)\n",
    "    tauPH_PD_SA_Af(x)=tauPH_PD_SAT(GM,x,thetaD)\n",
    "    tauPH_C_SA_Af(x)=1./((beta+1)./tauPH_U_SA_Af(x)+1./tauPH_EP_SA_Af(x)+1./tauPH_PD_SA_Af(x))    \n",
    "    integrand(x)=beta*tauPH_C_SA_Af(x)./tauPH_U_SA_Af(x).*(x.^4)*alphat^5.*exp(alphat*x)./(exp(alphat*x)-1).^2    \n",
    "    nodes, weights = qnwlege(1000,0.0,1.0)\n",
    "    return a= do_quad(integrand,nodes, weights)    \n",
    "end\n",
    "\n",
    "function I3(gammaSA,GM,Tt,MSiGecgs,thetaD,omegaD,beta,delta,Eep,mds,etha)\n",
    "    alphat=thetaD/Tt\n",
    "    tauPH_U_SA_Af(x)=tauPH_U_SAT(gammaSA,x,Tt,MSiGecgs,thetaD,omegaD,beta,delta)    \n",
    "    tauPH_EP_SA_Af(x)=tauPH_EP_SAT(Eep,mds,x,etha,Tt,MSiGecgs,thetaD,delta)\n",
    "    tauPH_PD_SA_Af(x)=tauPH_PD_SAT(GM,x,thetaD)\n",
    "    tauPH_C_SA_Af(x)=1./((beta+1)./tauPH_U_SA_Af(x)+1./tauPH_EP_SA_Af(x)+1./tauPH_PD_SA_Af(x))    \n",
    "    integrand(x)=beta*1./tauPH_U_SA_Af(x).*\n",
    "    (1-beta*tauPH_C_SA_Af(x)./tauPH_U_SA_Af(x)).*(x.^4)*alphat^5.*exp(alphat*x)./(exp(alphat*x)-1).^2    \n",
    "    nodes, weights = qnwlege(1000,0.0,1.0)\n",
    "    return a= do_quad(integrand,nodes, weights)    \n",
    "end\n",
    "\n",
    "function klt(gammaSA,GM,Tt,MSiGecgs,thetaD,omegaD,beta,delta,Eep,mds,etha)    \n",
    "    alphat=thetaD/Tt\n",
    "    I1t=I1(gammaSA,GM,Tt,MSiGecgs,thetaD,omegaD,beta,delta,Eep,mds,etha)\n",
    "    I2t=I2(gammaSA,GM,Tt,MSiGecgs,thetaD,omegaD,beta,delta,Eep,mds,etha)\n",
    "    I3t=I3(gammaSA,GM,Tt,MSiGecgs,thetaD,omegaD,beta,delta,Eep,mds,etha)\n",
    "    return 4.67e-2*(thetaD^2/delta/100/alphat^3)*(I1t+I2t.^2/I3t)    \n",
    "end\n",
    "###########################################################################################################\n",
    "#\n",
    "\n",
    "function I1V(gammaSA,GM,Tt,MSiGecgs,thetaD,omegaD,beta,delta,Eep,mds,etha,vtt,dd) \n",
    "alphat=thetaD/Tt\n",
    "    tauPH_U_V_Af(x)=tauPH_U_VT(gammaSA,x,Tt,MSiGecgs,thetaD,omegaD,beta,delta)     \n",
    "    tauPH_EP_V_Af(x)=tauPH_EP_VT(Eep*q,mds,x,etha,vtt,Tt,dd)/6    \n",
    "    tauPH_PD_V_Af(x)=tauPH_PD_VT(GM,Tt,x,vtt,delta)    \n",
    "    tauPH_C_V_Af(x)=1./((beta+1)./tauPH_U_V_Af(x)+1./tauPH_EP_V_Af(x)+1./tauPH_PD_V_Af(x))    \n",
    "    integrand(x)=tauPH_C_V_Af(x).*(x.^4).*exp(x)./(exp(x)-1).^2    \n",
    "    nodes, weights = qnwlege(1000,0.0,alphat)\n",
    "    return a= do_quad(integrand,nodes, weights)   \n",
    "end\n",
    "\n",
    "function I2V(gammaSA,GM,Tt,MSiGecgs,thetaD,omegaD,beta,delta,Eep,mds,etha,vtt,dd)  \n",
    "    tauPH_U_V_Af(x)=tauPH_U_VT(gammaSA,x,Tt,MSiGecgs,thetaD,omegaD,beta,delta)    \n",
    "    tauPH_EP_V_Af(x)=tauPH_EP_VT(Eep*q,mds,x,etha,vtt,Tt,dd)/6    \n",
    "    tauPH_PD_V_Af(x)=tauPH_PD_VT(GM,Tt,x,vtt,delta)    \n",
    "    tauPH_C_V_Af(x)=1./((beta+1)./tauPH_U_V_Af(x)+1./tauPH_EP_V_Af(x)+1./tauPH_PD_V_Af(x))    \n",
    "    integrand(x)=beta*tauPH_C_V_Af(x)./tauPH_U_V_Af(x).*(x.^4).*exp(x)./(exp(x)-1).^2    \n",
    "    nodes, weights = qnwlege(1000,0.0,thetaD/Tt)\n",
    "    return a= do_quad(integrand,nodes, weights)    \n",
    "end\n",
    "\n",
    "function I3V(gammaSA,GM,Tt,MSiGecgs,thetaD,omegaD,beta,delta,Eep,mds,etha,vtt,dd)  \n",
    "   alphat=thetaD/Tt\n",
    "    tauPH_U_SA_Af(x)=tauPH_U_VT(gammaSA,x,Tt,MSiGecgs,thetaD,omegaD,beta,delta)    \n",
    "    tauPH_EP_SA_Af(x)=tauPH_EP_VT(Eep*q,mds,x,etha,vtt,Tt,dd)/6\n",
    "    tauPH_PD_SA_Af(x)=tauPH_PD_VT(GM,Tt,x,vtt,delta)\n",
    "    tauPH_C_SA_Af(x)=1./((beta+1)./tauPH_U_SA_Af(x)+1./tauPH_EP_SA_Af(x)+1./tauPH_PD_SA_Af(x))    \n",
    "    integrand(x)=beta*1./tauPH_U_SA_Af(x).*\n",
    "    (1-beta*tauPH_C_SA_Af(x)./tauPH_U_SA_Af(x)).*(x.^4).*exp(x)./(exp(x)-1).^2    \n",
    "    nodes, weights = qnwlege(1000,0.0,alphat)\n",
    "    return a= do_quad(integrand,nodes, weights)    \n",
    "end\n",
    "function kltV(gammaSA,Tt,MSiGecgs,thetaD,omegaD,beta,delta,Eep,mds,etha,vtt,dd)    \n",
    "    I1t=I1V(gammaSA,GM,Tt,MSiGecgs,thetaD,omegaD,beta,delta,Eep,mds,etha,vtt,dd)    \n",
    "    I2t=I2V(gammaSA,GM,Tt,MSiGecgs,thetaD,omegaD,beta,delta,Eep,mds,etha,vtt,dd)    \n",
    "    I3t=I3V(gammaSA,GM,Tt,MSiGecgs,thetaD,omegaD,beta,delta,Eep,mds,etha,vtt,dd)    \n",
    "    return kB^4*Tt^3/2/pi/pi/hbar^3/vtt*(I1t+I2t.^2/I3t)    \n",
    "end\n",
    "\n",
    "###########################################################################################################\n",
    "\n",
    "\n",
    "xxsp=71.3\n",
    "xsp=(100-xxsp)/100\n",
    "Eep=5.0\n",
    "etha=0.96\n",
    "thetaD=524.0#524.0\n",
    "#gammaSA,GM,Tts[Tti],MSiGecgs(xsp),thetaD,omegaD,beta,delta,Eep,mds,etha\n",
    "\n",
    "Tt=thetaD\n",
    "gammaSA=0.91\n",
    "beta=2.0\n",
    "\n",
    "MSi=4.6637e-26 # kg\n",
    "MGe=1.206e-25  # kg\n",
    "VSi=2.0024e-29 #m3\n",
    "VGe=2.2636e-29 #m3\n",
    "MM=MSi*(1-xsp)+MGe*xsp\n",
    "VV=VSi*(1-xsp)+VGe*xsp\n",
    "\n",
    "eps=39.0\n",
    "deltaSi=VSi^(1/3)\n",
    "deltaGe=VGe^(1/3)\n",
    "delta=deltaSi*(1-xsp)+deltaGe*xsp\n",
    "deltacgs=delta*100\n",
    "V=VSi*(1-xsp)+VGe*xsp\n",
    "MSiGecgs(xsp)=28.084*(1-xsp)+xsp*72.64\n",
    "G=1.033*(1-xsp)+1.017*xsp\n",
    "\n",
    "a3=(2.7155^3)*(1-xsp)+(2.8288^3)*xsp\n",
    "a1=a3^(1/3)\n",
    "vtt=kB/hbar*(6*pi*pi)^(-1/3)*thetaD*delta\n",
    "dd=(4.66e-26*(1-xsp)+1.206e-25*xsp)/(2e-29*(1-xsp)+2.2636e-29*xsp)\n",
    "\n",
    "delMSiGe=28.084-72.64\n",
    "deldelta=deltaSi-deltaGe\n",
    "GM=xsp*(1-xsp)*((delMSiGe/MSiGecgs(xsp))^2+eps*(deldelta/delta)^2)\n",
    "GMt=Gamma(MSi,MGe,VSi^(1/3),VGe^(1/3),xsp,eps)\n",
    "omegaD=thetaD*kB/hbar\n",
    "int=collect(0.01:0.01:0.5)#collect(0.0001:0.001:1.0) # int=hbar*omega/kB/T\n",
    "intx=int.*Tt/thetaD\n",
    "\n",
    "mds=0.427*me\n",
    "vt=5880.0\n",
    "#println(\"deltaSi \",deltaSi,\"    deltaGe \",deltaGe)\n",
    "\n",
    "tauPH_U_SA_A=Array{Float64,1}(length(intx))\n",
    "\n",
    "tauPH_U_SA_A=tauPH_U_SAT(gammaSA,intx,Tt,MSiGecgs(xsp),thetaD,omegaD,beta,delta)\n",
    "tauPH_C_SA_A=tauPH_U_SA_A/(1+beta)\n",
    "\n",
    "tauPH_U_V_A=tauPH_U_VT(gammaSA,int,Tt,MSiGecgs(xsp),thetaD,omegaD,beta,delta)\n",
    "tauPH_EP_V_A=tauPH_EP_VT(Eep*q,mds,int,etha,vtt,Tt,dd)/6\n",
    "tauPH_C_V_A=tauPH_U_V_A/(beta+1) #tauPH_C_VT(gammaSA,int,Tt,MSiGecgs(xsp),thetaD,omegaD,beta,delta)\n",
    "tauPH_PD_V_A=tauPH_PD_VT(GM,Tt,int,vtt,delta)\n",
    "#plot(intx,tauPH_U_SA_A.*intx.^2,Linestyle=\"-\",color=\"k\")\n",
    "\n",
    "tauPH_U_Vi_A=tauPH_UV(gammaSA,int,Tt,MM,thetaD,delta,beta)\n",
    "tauPH_EP_Vi_A=tauPH_eV(bndstTx,Eep*q,mds,int,etha,vtt,Tt,dd)\n",
    "tauPH_PD_Vi_A=tauPH_PDV(GMt,Tt,int,vtt,delta)  \n",
    "tauPH_C_Vi_A=tauPH_U_V_A/(beta+1) #tauPH_C_VT(gammaSA,int,Tt,MSiGecgs(xsp),thetaD,omegaD,beta,delta)\n",
    "#plot(intx,tauPH_U_SA_A.*intx.^2,L\n",
    "\n",
    "tauPH_EP_SA_A=tauPH_EP_SAT(Eep,mds,intx,etha,Tt,MSiGecgs(xsp),thetaD,delta)\n",
    "tauPH_PD_SA_A=tauPH_PD_SAT(GM,intx,thetaD)\n",
    "tauPH_CUNEP_SA_A=1./(1./tauPH_C_SA_A+1./tauPH_EP_SA_A)\n",
    "tauPH_CUNPD_SA_A=1./(1./tauPH_C_SA_A+1./tauPH_PD_SA_A)\n",
    "tauPH_CUNPDEP_SA_A=1./(1./tauPH_C_SA_A+1./tauPH_PD_SA_A+1./tauPH_EP_SA_A)\n",
    "tauPH_e_A=tauPH_eT(Eep*q,mds,dd,etha,int,Tt,vtt)/6\n",
    "\n",
    "tauPH_U_SS_A=tauPH_UT(gammaSA,int,Tt,MM,vtt,thetaD)\n",
    "#tauPH_U_SS_A=tauPH_UT(0.3,int,50.01,6.786e-26,7.4226e3,586.0)\n",
    "#tauPH_U_SAT(gammaSA,intx,Tt,MSiGecgs(xsp),thetaD,omegaD,beta,delta)\n",
    "\n",
    "Ttt=300.0\n",
    "I1_SA_A=I1(gammaSA,GM,Ttt,MSiGecgs(xsp),thetaD,omegaD,beta,delta,Eep,mds,etha)\n",
    "I1_V_A=I1V(gammaSA,GM,Ttt,MSiGecgs(xsp),thetaD,omegaD,beta,delta,Eep,mds,etha,vtt,dd)\n",
    "I1_SS_A=I1SS(gammaSA,GM,Ttt,MM,VV,thetaD,omegaD,beta,delta,Eep,mds,etha,vtt,dd) \n",
    "I2_SA_A=I2(gammaSA,GM,Ttt,MSiGecgs(xsp),thetaD,omegaD,beta,delta,Eep,mds,etha)\n",
    "I2_V_A=I2V(gammaSA,GM,Ttt,MSiGecgs(xsp),thetaD,omegaD,beta,delta,Eep,mds,etha,vtt,dd)\n",
    "I2_SS_A=I2SS(gammaSA,GM,Ttt,MM,VV,thetaD,omegaD,beta,delta,Eep,mds,etha,vtt,dd) \n",
    "I3_SA_A=I3(gammaSA,GM,Ttt,MSiGecgs(xsp),thetaD,omegaD,beta,delta,Eep,mds,etha)\n",
    "I3_V_A=I3V(gammaSA,GM,Ttt,MSiGecgs(xsp),thetaD,omegaD,beta,delta,Eep,mds,etha,vtt,dd)\n",
    "I3_SS_A=I3SS(gammaSA,GM,Ttt,MM,VV,thetaD,omegaD,beta,delta,Eep,mds,etha,vtt,dd) \n",
    "\n",
    "Tts=collect(300.0:50:1200.0)#[300.0,500.0,800.0]\n",
    "klt_SA_A=Array{Float64,1}(length(Tts))\n",
    "klt_V_A=Array{Float64,1}(length(Tts))\n",
    "klt_SS_A=Array{Float64,1}(length(Tts))\n",
    "for Tti in 1:length(Tts)\n",
    "    klt_SA_A[Tti]=klt(gammaSA,GM,Tts[Tti],MSiGecgs(xsp),thetaD,omegaD,beta,delta,Eep,mds,etha)\n",
    "    klt_V_A[Tti]=kltV(gammaSA,Tts[Tti],MSiGecgs(xsp),thetaD,omegaD,beta,delta,Eep,mds,etha,vtt,dd)    \n",
    "    klt_SS_A[Tti]=kltSS(gammaSA,GM,Tts[Tti],MM,VV,thetaD,omegaD,beta,delta,Eep,mds,etha,vtt,dd)    \n",
    "end\n",
    "\n",
    "SiGe_SA_162_Bulk_KC_T=[298.201949929,399.8236245162,498.0843662731,598.5351036206,698.9858409681,797.1240997501,\n",
    "897.5356425457,997.8589975993,1097.300475234,1199.132820538]\n",
    "SiGe_SA_162_Bulk_KC_KL=[0.0394665342,0.0376127718,0.0362474716,0.0350157828,0.033784094,0.0335298893,0.0326537511,\n",
    "0.0325776017,0.0305013403,0.0267364936]\n",
    "\n",
    "figure()\n",
    "plot(intx,tauPH_U_SA_A,Linestyle=\"-\",color=\"r\")\n",
    "plot(intx,tauPH_U_SS_A,Linestyle=\"-\",color=\"b\")\n",
    "grid()\n",
    "\n",
    "figure()\n",
    "title(\"kl\")\n",
    "plot(Tts,klt_SA_A,Linestyle=\"-\",color=\"r\")\n",
    "plot(Tts,klt_V_A/100,Linestyle=\"-\",color=\"b\")\n",
    "plot(Tts,klt_SS_A/100,Linestyle=\"-\",color=\"k\")\n",
    "plot(SiGe_SA_162_Bulk_KC_T,SiGe_SA_162_Bulk_KC_KL,linestyle=\"None\",marker=\"o\",markersize=7,color=\"b\")\n",
    "ylim(0.025,0.075)\n",
    "grid()\n",
    "\n",
    "figure()\n",
    "title(\"Vinnig Vi comparison\")\n",
    "plot(intx,tauPH_U_V_A,Linestyle=\"-\",color=\"c\")\n",
    "plot(intx,tauPH_U_Vi_A,Linestyle=\"-\",color=\"k\")\n",
    "plot(intx,tauPH_e_A.*intx.^2,Linestyle=\"-\",color=\"y\")\n",
    "plot(int,tauPH_EP_V_A,Linestyle=\"-\",color=\"c\")\n",
    "plot(intx,tauPH_EP_SA_A,Linestyle=\"-\",color=\"k\")\n",
    "grid()\n",
    "\n",
    "figure()\n",
    "title(\"Vinnig EP\")\n",
    "plot(intx,tauPH_EP_V_A.*intx.^2,Linestyle=\"-\",color=\"c\")\n",
    "plot(intx,tauPH_EP_SA_A.*intx.^2,Linestyle=\"-\",color=\"k\")\n",
    "plot(intx,tauPH_e_A.*intx.^2,Linestyle=\"-\",color=\"y\")\n",
    "plot(int,tauPH_EP_V_A,Linestyle=\"-\",color=\"c\")\n",
    "plot(intx,tauPH_EP_SA_A,Linestyle=\"-\",color=\"k\")\n",
    "grid()\n",
    "\n",
    "figure()\n",
    "plot(intx,tauPH_C_SA_A.*intx.^2,Linestyle=\"-\",color=\"c\")\n",
    "plot((intx),tauPH_CUNEP_SA_A.*(intx).^2,Linestyle=\"-\",color=\"b\")\n",
    "plot((intx),tauPH_CUNPD_SA_A.*(intx).^2,Linestyle=\"-\",color=\"k\")\n",
    "plot((intx),tauPH_CUNPDEP_SA_A.*(intx).^2,Linestyle=\"-\",color=\"r\")\n",
    "\n",
    "ylim(0.0,7e-13)\n",
    "grid()\n",
    "\n",
    "figure()\n",
    "title(\"Vining\")\n",
    "kk=1e10*vtt\n",
    "plot((intx),kk*tauPH_C_V_A.*(intx).^2,Linestyle=\"-\",color=\"b\")\n",
    "plot((intx),kk*tauPH_C_SA_A.*(intx).^2,Linestyle=\"-\",color=\"b\")\n",
    "plot((intx),kk*tauPH_CUNEP_SA_A.*(intx).^2,Linestyle=\"-\",color=\"b\")\n",
    "plot((intx),kk*tauPH_CUNPD_SA_A.*(intx).^2,Linestyle=\"-\",color=\"k\")\n",
    "plot((intx),kk*tauPH_CUNPDEP_SA_A.*(intx).^2,Linestyle=\"-\",color=\"r\")\n",
    "ylim(0.0,12)\n",
    "grid()\n",
    "\n",
    "figure()\n",
    "plot((intx),tauPH_EP_SA_A.*(intx).^2,Linestyle=\"-\",color=\"b\")\n",
    "grid()\n",
    "\n",
    "#figure()\n",
    "#plot((intx),tauPH_CUNEP_SAT_A.*(intx).^2,Linestyle=\"-\",color=\"b\")\n",
    "#ylim(0.0,7e-13)\n",
    "#grid()"
   ]
  },
  {
   "cell_type": "code",
   "execution_count": 7,
   "metadata": {
    "collapsed": false
   },
   "outputs": [
    {
     "data": {
      "text/html": [
       "2.93322150632e-31"
      ],
      "text/plain": [
       "2.93322150632e-31"
      ]
     },
     "execution_count": 7,
     "metadata": {},
     "output_type": "execute_result"
    }
   ],
   "source": [
    "1/3.4092208782915727e30"
   ]
  },
  {
   "cell_type": "code",
   "execution_count": 8,
   "metadata": {
    "collapsed": false
   },
   "outputs": [
    {
     "name": "stdout",
     "output_type": "stream",
     "text": [
      "4.778857587947274e-13 4.775225783699887e-13 3.52897389297063e-13\n",
      "0.03373799621947597 0.03374686086080391 0.12237288910628226\n",
      "6.213287096929459e11 6.214852398765908e11 2.4318256902053994e12\n"
     ]
    }
   ],
   "source": [
    "println(I1_SA_A,\" \",I1_V_A,\" \",I1_SS_A)\n",
    "println(I2_SA_A,\" \",I2_V_A,\" \",I2_SS_A)\n",
    "println(I3_SA_A,\" \",I3_V_A,\" \",I3_SS_A)"
   ]
  },
  {
   "cell_type": "code",
   "execution_count": 9,
   "metadata": {
    "collapsed": false
   },
   "outputs": [
    {
     "name": "stdout",
     "output_type": "stream",
     "text": [
      "PD_V[1], 1.2047901760037558e-6, PD_Vi[1], 1.205380089682078e-6\n",
      "PD_V[2], 7.529938600023474e-8, PD_Vi[2], 7.533625560512987e-8\n",
      "PD_V[3], 1.4873952790169825e-8, PD_Vi[3], 1.4881235675087383e-8\n",
      "PD_V[4], 4.706211625014671e-9, PD_Vi[4], 4.708515975320617e-9\n",
      "PD_V[5], 1.9276642816060084e-9, PD_Vi[5], 1.928608143491324e-9\n",
      "PD_V[6], 9.296220493856141e-10, PD_Vi[6], 9.300772296929614e-10\n",
      "PD_V[7], 5.017868288228886e-10, PD_Vi[7], 5.020325238159424e-10\n",
      "PD_V[8], 2.9413822656341694e-10, PD_Vi[8], 2.9428224845753856e-10\n",
      "PD_V[9], 1.8362904679222005e-10, PD_Vi[9], 1.8371895895169613e-10\n",
      "PD_V[10], 1.2047901760037552e-10, PD_Vi[10], 1.2053800896820774e-10\n",
      "PD_V[11], 8.228879011022168e-11, PD_Vi[11], 8.23290820082015e-11\n",
      "PD_V[12], 5.810137808660088e-11, PD_Vi[12], 5.812982685581009e-11\n",
      "PD_V[13], 4.2183052974467127e-11, PD_Vi[13], 4.2203707492107345e-11\n",
      "PD_V[14], 3.136167680143054e-11, PD_Vi[14], 3.13770327384964e-11\n",
      "PD_V[15], 2.379832446427172e-11, PD_Vi[15], 2.3809977080139813e-11\n",
      "PD_V[16], 1.838363916021356e-11, PD_Vi[16], 1.839264052859616e-11\n",
      "PD_V[17], 1.442499701875882e-11, PD_Vi[17], 1.4432060076891772e-11\n",
      "PD_V[18], 1.1476815424513753e-11, PD_Vi[18], 1.1482434934481008e-11\n",
      "PD_V[19], 9.244789220492137e-12, PD_Vi[19], 9.249315840747678e-12\n",
      "PD_V[20], 7.52993860002347e-12, PD_Vi[20], 7.533625560512984e-12\n",
      "PD_V[21], 6.194899121270232e-12, PD_Vi[21], 6.1979323927894155e-12\n",
      "PD_V[22], 5.143049381888855e-12, PD_Vi[22], 5.1455676255125936e-12\n",
      "PD_V[23], 4.305266833679681e-12, PD_Vi[23], 4.307374865305934e-12\n",
      "PD_V[24], 3.631336130412555e-12, PD_Vi[24], 3.6331141784881306e-12\n",
      "PD_V[25], 3.0842628505696145e-12, PD_Vi[25], 3.0857730295861198e-12\n",
      "PD_V[26], 2.6364408109041954e-12, PD_Vi[26], 2.637731718256709e-12\n",
      "PD_V[27], 2.2670252690397533e-12, PD_Vi[27], 2.2681352956999514e-12\n",
      "PD_V[28], 1.9601048000894087e-12, PD_Vi[28], 1.961064546156025e-12\n",
      "PD_V[29], 1.703410915893055e-12, PD_Vi[29], 1.7042449743200766e-12\n",
      "PD_V[30], 1.4873952790169825e-12, PD_Vi[30], 1.4881235675087383e-12\n",
      "PD_V[31], 1.3045617544200463e-12, PD_Vi[31], 1.305200520271957e-12\n",
      "PD_V[32], 1.1489774475133474e-12, PD_Vi[32], 1.14954003303726e-12\n",
      "PD_V[33], 1.0159109890150825e-12, PD_Vi[33], 1.0164084198543392e-12\n",
      "PD_V[34], 9.015623136724262e-13, PD_Vi[34], 9.020037548057357e-13\n",
      "PD_V[35], 8.028589261166222e-13, PD_Vi[35], 8.032520381055083e-13\n",
      "PD_V[36], 7.173009640321096e-13, PD_Vi[36], 7.17652183405063e-13\n",
      "PD_V[37], 6.428424110862172e-13, PD_Vi[37], 6.431571725599232e-13\n",
      "PD_V[38], 5.777993262807586e-13, PD_Vi[38], 5.780822400467298e-13\n",
      "PD_V[39], 5.207784317835448e-13, PD_Vi[39], 5.210334258284857e-13\n",
      "PD_V[40], 4.706211625014669e-13, PD_Vi[40], 4.708515975320615e-13\n",
      "PD_V[41], 4.263595456246144e-13, PD_Vi[41], 4.265683083891661e-13\n",
      "PD_V[42], 3.871811950793895e-13, PD_Vi[42], 3.8737077454933847e-13\n",
      "PD_V[43], 3.52401375805072e-13, PD_Vi[43], 3.5257392567806033e-13\n",
      "PD_V[44], 3.2144058636805344e-13, PD_Vi[44], 3.215979765945371e-13\n",
      "PD_V[45], 2.93806474867552e-13, PD_Vi[45], 2.939503343227137e-13\n",
      "PD_V[46], 2.6907917710498006e-13, PD_Vi[46], 2.692109290816209e-13\n",
      "PD_V[47], 2.4689937231629604e-13, PD_Vi[47], 2.470202641693336e-13\n",
      "PD_V[48], 2.2695850815078468e-13, PD_Vi[48], 2.2706963615550816e-13\n",
      "PD_V[49], 2.089907658570965e-13, PD_Vi[49], 2.090930961332539e-13\n",
      "PD_V[50], 1.927664281606009e-13, PD_Vi[50], 1.9286081434913248e-13\n"
     ]
    }
   ],
   "source": [
    "foreach(i->println(\"PD_V\",[i],\", \",tauPH_PD_V_A[i],\", PD_Vi\",[i],\", \",tauPH_PD_Vi_A[i]),1:length(tauPH_PD_V_A))"
   ]
  },
  {
   "cell_type": "code",
   "execution_count": 10,
   "metadata": {
    "collapsed": false
   },
   "outputs": [
    {
     "name": "stdout",
     "output_type": "stream",
     "text": [
      "EP_V[1], 4.042473772611622e-10, EP_Vi[1], 4.0424737726116217e-10\n",
      "EP_V[2], 2.0383070530945235e-10, EP_Vi[2], 2.0383070530945237e-10\n",
      "EP_V[3], 1.378608589737468e-10, EP_Vi[3], 1.378608589737468e-10\n",
      "EP_V[4], 1.055955835067659e-10, EP_Vi[4], 1.0559558350676589e-10\n",
      "EP_V[5], 8.692679523746534e-11, EP_Vi[5], 8.692679523746534e-11\n",
      "EP_V[6], 7.51958577013376e-11, EP_Vi[6], 7.51958577013376e-11\n",
      "EP_V[7], 6.760048401852653e-11, EP_Vi[7], 6.760048401852654e-11\n",
      "EP_V[8], 6.280250420436695e-11, EP_Vi[8], 6.280250420436697e-11\n",
      "EP_V[9], 6.013850909523918e-11, EP_Vi[9], 6.013850909523917e-11\n",
      "EP_V[10], 5.931518195688964e-11, EP_Vi[10], 5.931518195688964e-11\n",
      "EP_V[11], 6.028642518087358e-11, EP_Vi[11], 6.028642518087357e-11\n",
      "EP_V[12], 6.321442081086869e-11, EP_Vi[12], 6.321442081086869e-11\n",
      "EP_V[13], 6.84817331300953e-11, EP_Vi[13], 6.84817331300953e-11\n",
      "EP_V[14], 7.67477523043357e-11, EP_Vi[14], 7.674775230433571e-11\n",
      "EP_V[15], 8.905807542593946e-11, EP_Vi[15], 8.905807542593946e-11\n",
      "EP_V[16], 1.0703002637323757e-10, EP_Vi[16], 1.0703002637323757e-10\n",
      "EP_V[17], 1.3315759132520747e-10, EP_Vi[17], 1.3315759132520747e-10\n",
      "EP_V[18], 1.7131147150765015e-10, EP_Vi[18], 1.7131147150765018e-10\n",
      "EP_V[19], 2.2756558821342858e-10, EP_Vi[19], 2.2756558821342858e-10\n",
      "EP_V[20], 3.1157947360782495e-10, EP_Vi[20], 3.1157947360782495e-10\n",
      "EP_V[21], 4.389420510219115e-10, EP_Vi[21], 4.3894205102191156e-10\n",
      "EP_V[22], 6.352031228942977e-10, EP_Vi[22], 6.352031228942977e-10\n",
      "EP_V[23], 9.4291192248337e-10, EP_Vi[23], 9.429119224833698e-10\n",
      "EP_V[24], 1.4340941832903576e-9, EP_Vi[24], 1.4340941832903576e-9\n",
      "EP_V[25], 2.2327150290584316e-9, EP_Vi[25], 2.2327150290584316e-9\n",
      "EP_V[26], 3.555759876064014e-9, EP_Vi[26], 3.555759876064014e-9\n",
      "EP_V[27], 5.789569563704131e-9, EP_Vi[27], 5.789569563704132e-9\n",
      "EP_V[28], 9.633986103959028e-9, EP_Vi[28], 9.633986103959026e-9\n",
      "EP_V[29], 1.6379015030860006e-8, EP_Vi[29], 1.6379015030860006e-8\n",
      "EP_V[30], 2.844463771109468e-8, EP_Vi[30], 2.8444637711094682e-8\n",
      "EP_V[31], 5.0451713442351805e-8, EP_Vi[31], 5.0451713442351805e-8\n",
      "EP_V[32], 9.138239398819774e-8, EP_Vi[32], 9.138239398819774e-8\n",
      "EP_V[33], 1.6901281325459364e-7, EP_Vi[33], 1.6901281325459366e-7\n",
      "EP_V[34], 3.1916432294276e-7, EP_Vi[34], 3.1916432294276007e-7\n",
      "EP_V[35], 6.15345706482428e-7, EP_Vi[35], 6.153457064824281e-7\n",
      "EP_V[36], 1.2111850820543027e-6, EP_Vi[36], 1.2111850820543027e-6\n",
      "EP_V[37], 2.4337029631114936e-6, EP_Vi[37], 2.433702963111493e-6\n",
      "EP_V[38], 4.9919674263805524e-6, EP_Vi[38], 4.9919674263805524e-6\n",
      "EP_V[39], 1.0452162690387759e-5, EP_Vi[39], 1.0452162690387759e-5\n",
      "EP_V[40], 2.233857138215934e-5, EP_Vi[40], 2.233857138215934e-5\n",
      "EP_V[41], 4.8730990726187215e-5, EP_Vi[41], 4.873099072618721e-5\n",
      "EP_V[42], 0.00010850320418765562, EP_Vi[42], 0.00010850320418765562\n",
      "EP_V[43], 0.00024657848304618515, EP_Vi[43], 0.00024657848304618515\n",
      "EP_V[44], 0.0005719153432442226, EP_Vi[44], 0.0005719153432442225\n",
      "EP_V[45], 0.001353822383223344, EP_Vi[45], 0.001353822383223344\n",
      "EP_V[46], 0.0032706583634618054, EP_Vi[46], 0.003270658363461805\n",
      "EP_V[47], 0.008063859283359625, EP_Vi[47], 0.008063859283359627\n",
      "EP_V[48], 0.020289747042207696, EP_Vi[48], 0.020289747042207696\n",
      "EP_V[49], 0.05209866132760477, EP_Vi[49], 0.05209866132760476\n",
      "EP_V[50], 0.13651766305003898, EP_Vi[50], 0.136517663050039\n"
     ]
    }
   ],
   "source": [
    "foreach(i->println(\"EP_V\",[i],\", \",tauPH_EP_V_A[i],\", EP_Vi\",[i],\", \",tauPH_EP_Vi_A[i]),1:length(tauPH_EP_V_A))"
   ]
  },
  {
   "cell_type": "code",
   "execution_count": null,
   "metadata": {
    "collapsed": true
   },
   "outputs": [],
   "source": []
  },
  {
   "cell_type": "code",
   "execution_count": 11,
   "metadata": {
    "collapsed": false
   },
   "outputs": [
    {
     "name": "stdout",
     "output_type": "stream",
     "text": [
      "U_V[1], 1.622277952062731e-8, U_Vi[1], 1.6215946671702355e-8\n",
      "U_V[2], 4.0556948801568276e-9, U_Vi[2], 4.053986667925589e-9\n",
      "U_V[3], 1.802531057847479e-9, U_Vi[3], 1.8017718524113728e-9\n",
      "U_V[4], 1.0139237200392069e-9, U_Vi[4], 1.0134966669813972e-9\n",
      "U_V[5], 6.489111808250923e-10, U_Vi[5], 6.486378668680941e-10\n",
      "U_V[6], 4.5063276446186973e-10, U_Vi[6], 4.504429631028432e-10\n",
      "U_V[7], 3.310771330740267e-10, U_Vi[7], 3.3093768717759905e-10\n",
      "U_V[8], 2.534809300098017e-10, U_Vi[8], 2.533741667453493e-10\n",
      "U_V[9], 2.0028122864971986e-10, U_Vi[9], 2.0019687249015254e-10\n",
      "U_V[10], 1.6222779520627307e-10, U_Vi[10], 1.6215946671702352e-10\n",
      "U_V[11], 1.340725580217133e-10, U_Vi[11], 1.3401608819588724e-10\n",
      "U_V[12], 1.1265819111546743e-10, U_Vi[12], 1.126107407757108e-10\n",
      "U_V[13], 9.599277822856395e-11, U_Vi[13], 9.595234716983641e-11\n",
      "U_V[14], 8.276928326850667e-11, U_Vi[14], 8.273442179439976e-11\n",
      "U_V[15], 7.210124231389915e-11, U_Vi[15], 7.207087409645491e-11\n",
      "U_V[16], 6.337023250245043e-11, U_Vi[16], 6.334354168633733e-11\n",
      "U_V[17], 5.6134185192482024e-11, U_Vi[17], 5.6110542116617135e-11\n",
      "U_V[18], 5.0070307162429965e-11, U_Vi[18], 5.0049218122538134e-11\n",
      "U_V[19], 4.4938447425560415e-11, U_Vi[19], 4.491951986621151e-11\n",
      "U_V[20], 4.0556948801568266e-11, U_Vi[20], 4.053986667925588e-11\n",
      "U_V[21], 3.678634811933631e-11, U_Vi[21], 3.677085413084435e-11\n",
      "U_V[22], 3.351813950542833e-11, U_Vi[22], 3.350402204897181e-11\n",
      "U_V[23], 3.066688000118584e-11, U_Vi[23], 3.065396346257534e-11\n",
      "U_V[24], 2.8164547778866858e-11, U_Vi[24], 2.81526851939277e-11\n",
      "U_V[25], 2.5956447233003693e-11, U_Vi[25], 2.5945514674723768e-11\n",
      "U_V[26], 2.3998194557140987e-11, U_Vi[26], 2.3988086792459102e-11\n",
      "U_V[27], 2.2253469849968873e-11, U_Vi[27], 2.2244096943350282e-11\n",
      "U_V[28], 2.069232081712667e-11, U_Vi[28], 2.068360544859994e-11\n",
      "U_V[29], 1.928986863332617e-11, U_Vi[29], 1.9281743961596142e-11\n",
      "U_V[30], 1.8025310578474788e-11, U_Vi[30], 1.8017718524113728e-11\n",
      "U_V[31], 1.6881144142172016e-11, U_Vi[31], 1.687403399760911e-11\n",
      "U_V[32], 1.5842558125612608e-11, U_Vi[32], 1.583588542158433e-11\n",
      "U_V[33], 1.4896950891301478e-11, U_Vi[33], 1.489067646620969e-11\n",
      "U_V[34], 1.4033546298120506e-11, U_Vi[34], 1.4027635529154284e-11\n",
      "U_V[35], 1.324308532296107e-11, U_Vi[35], 1.3237507487103965e-11\n",
      "U_V[36], 1.2517576790607491e-11, U_Vi[36], 1.2512304530634533e-11\n",
      "U_V[37], 1.1850094609662023e-11, U_Vi[37], 1.184510348553861e-11\n",
      "U_V[38], 1.1234611856390104e-11, U_Vi[38], 1.1229879966552877e-11\n",
      "U_V[39], 1.0665864247618217e-11, U_Vi[39], 1.0661371907759601e-11\n",
      "U_V[40], 1.0139237200392067e-11, U_Vi[40], 1.013496666981397e-11\n",
      "U_V[41], 9.65067193374617e-12, U_Vi[41], 9.646607181262556e-12\n",
      "U_V[42], 9.196587029834077e-12, U_Vi[42], 9.192713532711087e-12\n",
      "U_V[43], 8.773812612562093e-12, U_Vi[43], 8.770117183181372e-12\n",
      "U_V[44], 8.379534876357082e-12, U_Vi[44], 8.376005512242952e-12\n",
      "U_V[45], 8.011249145988795e-12, U_Vi[45], 8.007874899606102e-12\n",
      "U_V[46], 7.66672000029646e-12, U_Vi[46], 7.663490865643835e-12\n",
      "U_V[47], 7.343947270542016e-12, U_Vi[47], 7.340854084066255e-12\n",
      "U_V[48], 7.0411369447167145e-12, U_Vi[48], 7.038171298481925e-12\n",
      "U_V[49], 6.7566761851842195e-12, U_Vi[49], 6.753830350563247e-12\n",
      "U_V[50], 6.489111808250923e-12, U_Vi[50], 6.486378668680942e-12\n"
     ]
    }
   ],
   "source": [
    "foreach(i->println(\"U_V\",[i],\", \",tauPH_U_V_A[i],\", U_Vi\",[i],\", \",tauPH_U_Vi_A[i]),1:length(tauPH_U_V_A))"
   ]
  },
  {
   "cell_type": "code",
   "execution_count": 12,
   "metadata": {
    "collapsed": false
   },
   "outputs": [
    {
     "name": "stdout",
     "output_type": "stream",
     "text": [
      "U_V:[1], 1.622277952062731e-8 U_SA[1], 1.622694294972414e-8 U_SS[1], 5.390783902180523e-8, 0.30093544491860164\n",
      "U_V:[2], 4.0556948801568276e-9 U_SA[2], 4.056735737431035e-9 U_SS[2], 1.3476959755451307e-8, 0.30093544491860164\n",
      "U_V:[3], 1.802531057847479e-9 U_SA[3], 1.80299366108046e-9 U_SS[3], 5.989759891311695e-9, 0.30093544491860147\n",
      "U_V:[4], 1.0139237200392069e-9 U_SA[4], 1.0141839343577587e-9 U_SS[4], 3.369239938862827e-9, 0.30093544491860164\n",
      "U_V:[5], 6.489111808250923e-10 U_SA[5], 6.490777179889656e-10 U_SS[5], 2.1563135608722095e-9, 0.30093544491860147\n",
      "U_V:[6], 4.5063276446186973e-10 U_SA[6], 4.50748415270115e-10 U_SS[6], 1.4974399728279237e-9, 0.30093544491860147\n",
      "U_V:[7], 3.310771330740267e-10 U_SA[7], 3.3116210101477837e-10 U_SS[7], 1.1001599800368416e-9, 0.3009354449186015\n",
      "U_V:[8], 2.534809300098017e-10 U_SA[8], 2.535459835894397e-10 U_SS[8], 8.423099847157067e-10, 0.30093544491860164\n",
      "U_V:[9], 2.0028122864971986e-10 U_SA[9], 2.0033262900894005e-10 U_SS[9], 6.655288768124103e-10, 0.3009354449186015\n",
      "U_V:[10], 1.6222779520627307e-10 U_SA[10], 1.622694294972414e-10 U_SS[10], 5.390783902180524e-10, 0.30093544491860147\n",
      "U_V:[11], 1.340725580217133e-10 U_SA[11], 1.3410696652664582e-10 U_SS[11], 4.45519330758721e-10, 0.3009354449186015\n",
      "U_V:[12], 1.1265819111546743e-10 U_SA[12], 1.1268710381752875e-10 U_SS[12], 3.7435999320698094e-10, 0.30093544491860147\n",
      "U_V:[13], 9.599277822856395e-11 U_SA[13], 9.601741390369313e-11 U_SS[13], 3.1898129598701315e-10, 0.3009354449186016\n",
      "U_V:[14], 8.276928326850667e-11 U_SA[14], 8.279052525369459e-11 U_SS[14], 2.750399950092104e-10, 0.3009354449186015\n",
      "U_V:[15], 7.210124231389915e-11 U_SA[15], 7.211974644321842e-11 U_SS[15], 2.395903956524677e-10, 0.3009354449186016\n",
      "U_V:[16], 6.337023250245043e-11 U_SA[16], 6.338649589735992e-11 U_SS[16], 2.1057749617892668e-10, 0.30093544491860164\n",
      "U_V:[17], 5.6134185192482024e-11 U_SA[17], 5.6148591521536816e-11 U_SS[17], 1.8653231495434335e-10, 0.3009354449186015\n",
      "U_V:[18], 5.0070307162429965e-11 U_SA[18], 5.008315725223501e-11 U_SS[18], 1.6638221920310259e-10, 0.3009354449186015\n",
      "U_V:[19], 4.4938447425560415e-11 U_SA[19], 4.494998047014998e-11 U_SS[19], 1.493291939662195e-10, 0.3009354449186015\n",
      "U_V:[20], 4.0556948801568266e-11 U_SA[20], 4.056735737431035e-11 U_SS[20], 1.347695975545131e-10, 0.30093544491860147\n",
      "U_V:[21], 3.678634811933631e-11 U_SA[21], 3.679578900164205e-11 U_SS[21], 1.222399977818713e-10, 0.3009354449186016\n",
      "U_V:[22], 3.351813950542833e-11 U_SA[22], 3.3526741631661455e-11 U_SS[22], 1.1137983268968025e-10, 0.3009354449186015\n",
      "U_V:[23], 3.066688000118584e-11 U_SA[23], 3.067475037755036e-11 U_SS[23], 1.0190517773498152e-10, 0.3009354449186016\n",
      "U_V:[24], 2.8164547778866858e-11 U_SA[24], 2.8171775954382187e-11 U_SS[24], 9.358999830174523e-11, 0.30093544491860147\n",
      "U_V:[25], 2.5956447233003693e-11 U_SA[25], 2.5963108719558622e-11 U_SS[25], 8.625254243488838e-11, 0.3009354449186015\n",
      "U_V:[26], 2.3998194557140987e-11 U_SA[26], 2.4004353475923283e-11 U_SS[26], 7.974532399675329e-11, 0.3009354449186016\n",
      "U_V:[27], 2.2253469849968873e-11 U_SA[27], 2.2259181000993332e-11 U_SS[27], 7.39476529791567e-11, 0.3009354449186016\n",
      "U_V:[28], 2.069232081712667e-11 U_SA[28], 2.0697631313423648e-11 U_SS[28], 6.87599987523026e-11, 0.3009354449186015\n",
      "U_V:[29], 1.928986863332617e-11 U_SA[29], 1.9294819203001356e-11 U_SS[29], 6.409968968110017e-11, 0.3009354449186015\n",
      "U_V:[30], 1.8025310578474788e-11 U_SA[30], 1.8029936610804604e-11 U_SS[30], 5.989759891311693e-11, 0.3009354449186016\n",
      "U_V:[31], 1.6881144142172016e-11 U_SA[31], 1.6885476534572468e-11 U_SS[31], 5.609556609969328e-11, 0.30093544491860147\n",
      "U_V:[32], 1.5842558125612608e-11 U_SA[32], 1.584662397433998e-11 U_SS[32], 5.264437404473167e-11, 0.30093544491860164\n",
      "U_V:[33], 1.4896950891301478e-11 U_SA[33], 1.49007740585162e-11 U_SS[33], 4.950214786208011e-11, 0.3009354449186015\n",
      "U_V:[34], 1.4033546298120506e-11 U_SA[34], 1.4037147880384204e-11 U_SS[34], 4.663307873858584e-11, 0.3009354449186015\n",
      "U_V:[35], 1.324308532296107e-11 U_SA[35], 1.324648404059114e-11 U_SS[35], 4.400639920147367e-11, 0.3009354449186015\n",
      "U_V:[36], 1.2517576790607491e-11 U_SA[36], 1.2520789313058753e-11 U_SS[36], 4.1595554800775647e-11, 0.3009354449186015\n",
      "U_V:[37], 1.1850094609662023e-11 U_SA[37], 1.185313582887081e-11 U_SS[37], 3.937753033002574e-11, 0.3009354449186015\n",
      "U_V:[38], 1.1234611856390104e-11 U_SA[38], 1.1237495117537495e-11 U_SS[38], 3.7332298491554874e-11, 0.3009354449186015\n",
      "U_V:[39], 1.0665864247618217e-11 U_SA[39], 1.0668601544854794e-11 U_SS[39], 3.544236622077924e-11, 0.3009354449186016\n",
      "U_V:[40], 1.0139237200392067e-11 U_SA[40], 1.0141839343577588e-11 U_SS[40], 3.3692399388628274e-11, 0.30093544491860147\n",
      "U_V:[41], 9.65067193374617e-12 U_SA[41], 9.653148691091104e-12 U_SS[41], 3.206891078037196e-11, 0.30093544491860147\n",
      "U_V:[42], 9.196587029834077e-12 U_SA[42], 9.198947250410512e-12 U_SS[42], 3.0559999445467826e-11, 0.3009354449186016\n",
      "U_V:[43], 8.773812612562093e-12 U_SA[43], 8.776064331922198e-12 U_SS[43], 2.915513197501636e-11, 0.30093544491860147\n",
      "U_V:[44], 8.379534876357082e-12 U_SA[44], 8.381685407915364e-12 U_SS[44], 2.7844958172420064e-11, 0.3009354449186015\n",
      "U_V:[45], 8.011249145988795e-12 U_SA[45], 8.0133051603576e-12 U_SS[45], 2.6621155072496415e-11, 0.3009354449186015\n",
      "U_V:[46], 7.66672000029646e-12 U_SA[46], 7.66868759438759e-12 U_SS[46], 2.547629443374538e-11, 0.3009354449186016\n",
      "U_V:[47], 7.343947270542016e-12 U_SA[47], 7.345832027942121e-12 U_SS[47], 2.4403729751835786e-11, 0.3009354449186015\n",
      "U_V:[48], 7.0411369447167145e-12 U_SA[48], 7.042943988595547e-12 U_SS[48], 2.339749957543631e-11, 0.30093544491860147\n",
      "U_V:[49], 6.7566761851842195e-12 U_SA[49], 6.758410224791397e-12 U_SS[49], 2.245224449054779e-11, 0.3009354449186016\n",
      "U_V:[50], 6.489111808250923e-12 U_SA[50], 6.4907771798896556e-12 U_SS[50], 2.1563135608722095e-11, 0.3009354449186015\n"
     ]
    }
   ],
   "source": [
    "foreach(i->println(\"U_V:\",[i],\", \",tauPH_U_V_A[i],\n",
    "\" U_SA\",[i],\", \",tauPH_U_SA_A[i],\" U_SS\",[i],\", \",tauPH_U_SS_A[i],\", \",\n",
    "tauPH_U_V_A[i]/tauPH_U_SS_A[i]),1:length(tauPH_U_SA_A))"
   ]
  },
  {
   "cell_type": "code",
   "execution_count": 13,
   "metadata": {
    "collapsed": false
   },
   "outputs": [],
   "source": [
    "#foreach(i->println(\"tauPH_EP_V_A \",[i],\" \",tauPH_EP_V_A[i],\n",
    "#\" tauPH_EP_SA_A\",[i],\" \",tauPH_EP_SA_A[i],\" tauPH_e_A\",[i],\" \",tauPH_e_A[i]),1:length(tauPH_EP_SA_A))"
   ]
  },
  {
   "cell_type": "code",
   "execution_count": 14,
   "metadata": {
    "collapsed": false
   },
   "outputs": [
    {
     "name": "stdout",
     "output_type": "stream",
     "text": [
      "300.0 0.042006456964908956  4.200055745879914\n",
      "350.0 0.04019612014696554  4.019046243253794\n",
      "400.0 0.03864452813989034  3.863918649546708\n",
      "450.0 0.03729111810603334  3.7286137078316606\n",
      "500.0 0.03609342051511591  3.608882402168903\n",
      "550.0 0.03502082012675542  3.5016617977892333\n",
      "600.0 0.03405068066621431  3.4046873124274875\n",
      "650.0 0.033165878364515684  3.31624593110717\n",
      "700.0 0.03235319180280063  3.2350150938803157\n",
      "750.0 0.03160222446486468  3.1599548841896716\n",
      "800.0 0.03090466677463162  3.090234186207936\n",
      "850.0 0.0302537796283177  3.0251790056801227\n",
      "900.0 0.029644025694364032  2.964235577194938\n",
      "950.0 0.029070801366636447  2.9069435434661246\n",
      "1000.0 0.02853023861311899  2.8529161288265974\n",
      "1050.0 0.028019056233978927  2.8018252569391575\n",
      "1100.0 0.02753444662682189  2.753390221549522\n",
      "1150.0 0.027073988459500604  2.707368949651629\n",
      "1200.0 0.02663557851391112  2.6635511829402865\n"
     ]
    }
   ],
   "source": [
    "foreach(i->println(Tts[i],\" \",klt_SA_A[i],\"  \",klt_V_A[i]),1:length(Tts))"
   ]
  },
  {
   "cell_type": "code",
   "execution_count": 15,
   "metadata": {
    "collapsed": false
   },
   "outputs": [
    {
     "ename": "LoadError",
     "evalue": "UndefVarError: klt_A not defined",
     "output_type": "error",
     "traceback": [
      "UndefVarError: klt_A not defined",
      ""
     ]
    }
   ],
   "source": [
    "klt_A"
   ]
  },
  {
   "cell_type": "code",
   "execution_count": 16,
   "metadata": {
    "collapsed": false
   },
   "outputs": [
    {
     "ename": "LoadError",
     "evalue": "UndefVarError: klt_A not defined",
     "output_type": "error",
     "traceback": [
      "UndefVarError: klt_A not defined",
      ""
     ]
    }
   ],
   "source": [
    "klt_A"
   ]
  },
  {
   "cell_type": "code",
   "execution_count": 17,
   "metadata": {
    "collapsed": false
   },
   "outputs": [
    {
     "ename": "LoadError",
     "evalue": "UndefVarError: klt_A not defined",
     "output_type": "error",
     "traceback": [
      "UndefVarError: klt_A not defined",
      ""
     ]
    }
   ],
   "source": [
    "klt_A"
   ]
  },
  {
   "cell_type": "code",
   "execution_count": 18,
   "metadata": {
    "collapsed": false
   },
   "outputs": [
    {
     "data": {
      "text/html": [
       "21.644536641781535"
      ],
      "text/plain": [
       "21.644536641781535"
      ]
     },
     "execution_count": 18,
     "metadata": {},
     "output_type": "execute_result"
    }
   ],
   "source": [
    "(0.0162^2/3.488e11+4.64102e-11)*4.66367e11"
   ]
  },
  {
   "cell_type": "code",
   "execution_count": 19,
   "metadata": {
    "collapsed": false
   },
   "outputs": [
    {
     "data": {
      "text/html": [
       "4.666168150877512e11"
      ],
      "text/plain": [
       "4.666168150877512e11"
      ]
     },
     "execution_count": 19,
     "metadata": {},
     "output_type": "execute_result"
    }
   ],
   "source": [
    "(thetaD^2/delta/100)*4.67e-2"
   ]
  },
  {
   "cell_type": "code",
   "execution_count": 20,
   "metadata": {
    "collapsed": false
   },
   "outputs": [
    {
     "name": "stdout",
     "output_type": "stream",
     "text": [
      "VSit 20.023934748875 VGet 22.636367183872007 Vt 20.5464212358744\n",
      "a3t 20.5464212358744 a1t 2.7389161019057777 Vcur 2.7389161019057777\n",
      "Comparison a1 2.7489782587837404 delta 2.7480148133085564e-10\n",
      "Mt 36.9868\n",
      "dt 1.8001577781059224 dtmks 2989.231950305256 dd 3268.2723684284065\n",
      "Vtmks 2.0546421235874404e-29 Mtmks 6.14296e-26 dtmks2 2989.7956094048564\n",
      "vttt 4820.587779732564 vtt 4836.601828855511 vt 5880.0\n"
     ]
    }
   ],
   "source": [
    "xspt=0.2\n",
    "G=1.033*(1-xspt)+1.017*xspt\n",
    "VSit=2.7155^3 #A^3\n",
    "VGet=2.8288^3 #A^3\n",
    "Vt=VSit*(1-xspt)+VGet*xspt #A^3\n",
    "Vcur=Vt^(1/3) #A\n",
    "println(\"VSit \",VSit,\" VGet \",VGet,\" Vt \",Vt)\n",
    "a3t=(2.7155^3)*(1-xspt)+(2.8288^3)*xspt #A^3\n",
    "a1t=a3t^(1/3) #A\n",
    "println(\"a3t \",a3t,\" a1t \",a1t,\" Vcur \",Vcur)\n",
    "println(\"Comparison a1 \",a1,\" delta \",delta)\n",
    "Mt=28.086*(1-xspt)+72.59*xspt  #g/mol\n",
    "println(\"Mt \",Mt)\n",
    "dt=Mt/a3t #g/A^3\n",
    "dtmks=dt/1000/Nav/(1e-30)\n",
    "println(\"dt \",dt,\" dtmks \",dtmks, \" dd \",dd)\n",
    "Vtmks=(1-xspt)*VSit*1e-30+xspt*VGet*1e-30\n",
    "Mtmks=(1-xspt)*4.6637e-26+xspt*1.206e-25\n",
    "dtmks2=Mtmks/Vtmks\n",
    "println(\"Vtmks \",Vtmks,\" Mtmks \",Mtmks,\" dtmks2 \",dtmks2)\n",
    "thetaDt=524.0\n",
    "vttt=kB/hbar*(6*pi*pi)^(-1/3)*thetaDt*a1t*1e-10 #m/s\n",
    "println(\"vttt \",vttt,\" vtt \",vtt,\" vt \",vt)"
   ]
  },
  {
   "cell_type": "code",
   "execution_count": 21,
   "metadata": {
    "collapsed": false
   },
   "outputs": [
    {
     "data": {
      "text/html": [
       "1.6783226027805357e-11"
      ],
      "text/plain": [
       "1.6783226027805357e-11"
      ]
     },
     "execution_count": 21,
     "metadata": {},
     "output_type": "execute_result"
    }
   ],
   "source": [
    "(1.054e-27)^2*(6*pi*pi)^(2/3)/8/(9.109e-28)/1.38e-16"
   ]
  },
  {
   "cell_type": "code",
   "execution_count": 22,
   "metadata": {
    "collapsed": false
   },
   "outputs": [
    {
     "data": {
      "text/html": [
       "6.173050726012467e11"
      ],
      "text/plain": [
       "6.173050726012467e11"
      ]
     },
     "execution_count": 22,
     "metadata": {},
     "output_type": "execute_result"
    }
   ],
   "source": [
    "kbcgs=1.3807e-16\n",
    "hbarcgs=1.054e-27\n",
    "mecgs=9.109e-28\n",
    "yy=(1/2*mecgs)*kbcgs/hbarcgs/hbarcgs*(6*pi*pi)^(-2/3)\n",
    "DD=hbarcgs^2*(6*pi*pi)^(2/3)/8/mecgs/kbcgs\n",
    "aa=kbcgs^3/(2*pi*pi)/(6*pi*pi)^(-1/3)/hbarcgs^2/1000/100/100\n",
    "eee=kbcgs/hbarcgs*(6*pi)/4"
   ]
  },
  {
   "cell_type": "code",
   "execution_count": 23,
   "metadata": {
    "collapsed": false
   },
   "outputs": [
    {
     "data": {
      "text/html": [
       "0.04678471738321031"
      ],
      "text/plain": [
       "0.04678471738321031"
      ]
     },
     "execution_count": 23,
     "metadata": {},
     "output_type": "execute_result"
    }
   ],
   "source": [
    "aa"
   ]
  },
  {
   "cell_type": "code",
   "execution_count": 24,
   "metadata": {
    "collapsed": false
   },
   "outputs": [
    {
     "data": {
      "text/html": [
       "4836.601828855511"
      ],
      "text/plain": [
       "4836.601828855511"
      ]
     },
     "execution_count": 24,
     "metadata": {},
     "output_type": "execute_result"
    }
   ],
   "source": [
    "vtt"
   ]
  },
  {
   "cell_type": "code",
   "execution_count": 25,
   "metadata": {
    "collapsed": false
   },
   "outputs": [
    {
     "name": "stdout",
     "output_type": "stream",
     "text": [
      "tauPH_U_V_A [1] 1.622277952062731e-8 tauPH_U_SA_A[1] 1.622694294972414e-8 tauPH_U_SS_A[1] 5.390783902180523e-8\n",
      "tauPH_U_V_A [2] 4.0556948801568276e-9 tauPH_U_SA_A[2] 4.056735737431035e-9 tauPH_U_SS_A[2] 1.3476959755451307e-8\n",
      "tauPH_U_V_A [3] 1.802531057847479e-9 tauPH_U_SA_A[3] 1.80299366108046e-9 tauPH_U_SS_A[3] 5.989759891311695e-9\n",
      "tauPH_U_V_A [4] 1.0139237200392069e-9 tauPH_U_SA_A[4] 1.0141839343577587e-9 tauPH_U_SS_A[4] 3.369239938862827e-9\n",
      "tauPH_U_V_A [5] 6.489111808250923e-10 tauPH_U_SA_A[5] 6.490777179889656e-10 tauPH_U_SS_A[5] 2.1563135608722095e-9\n",
      "tauPH_U_V_A [6] 4.5063276446186973e-10 tauPH_U_SA_A[6] 4.50748415270115e-10 tauPH_U_SS_A[6] 1.4974399728279237e-9\n",
      "tauPH_U_V_A [7] 3.310771330740267e-10 tauPH_U_SA_A[7] 3.3116210101477837e-10 tauPH_U_SS_A[7] 1.1001599800368416e-9\n",
      "tauPH_U_V_A [8] 2.534809300098017e-10 tauPH_U_SA_A[8] 2.535459835894397e-10 tauPH_U_SS_A[8] 8.423099847157067e-10\n",
      "tauPH_U_V_A [9] 2.0028122864971986e-10 tauPH_U_SA_A[9] 2.0033262900894005e-10 tauPH_U_SS_A[9] 6.655288768124103e-10\n",
      "tauPH_U_V_A [10] 1.6222779520627307e-10 tauPH_U_SA_A[10] 1.622694294972414e-10 tauPH_U_SS_A[10] 5.390783902180524e-10\n",
      "tauPH_U_V_A [11] 1.340725580217133e-10 tauPH_U_SA_A[11] 1.3410696652664582e-10 tauPH_U_SS_A[11] 4.45519330758721e-10\n",
      "tauPH_U_V_A [12] 1.1265819111546743e-10 tauPH_U_SA_A[12] 1.1268710381752875e-10 tauPH_U_SS_A[12] 3.7435999320698094e-10\n",
      "tauPH_U_V_A [13] 9.599277822856395e-11 tauPH_U_SA_A[13] 9.601741390369313e-11 tauPH_U_SS_A[13] 3.1898129598701315e-10\n",
      "tauPH_U_V_A [14] 8.276928326850667e-11 tauPH_U_SA_A[14] 8.279052525369459e-11 tauPH_U_SS_A[14] 2.750399950092104e-10\n",
      "tauPH_U_V_A [15] 7.210124231389915e-11 tauPH_U_SA_A[15] 7.211974644321842e-11 tauPH_U_SS_A[15] 2.395903956524677e-10\n",
      "tauPH_U_V_A [16] 6.337023250245043e-11 tauPH_U_SA_A[16] 6.338649589735992e-11 tauPH_U_SS_A[16] 2.1057749617892668e-10\n",
      "tauPH_U_V_A [17] 5.6134185192482024e-11 tauPH_U_SA_A[17] 5.6148591521536816e-11 tauPH_U_SS_A[17] 1.8653231495434335e-10\n",
      "tauPH_U_V_A [18] 5.0070307162429965e-11 tauPH_U_SA_A[18] 5.008315725223501e-11 tauPH_U_SS_A[18] 1.6638221920310259e-10\n",
      "tauPH_U_V_A [19] 4.4938447425560415e-11 tauPH_U_SA_A[19] 4.494998047014998e-11 tauPH_U_SS_A[19] 1.493291939662195e-10\n",
      "tauPH_U_V_A [20] 4.0556948801568266e-11 tauPH_U_SA_A[20] 4.056735737431035e-11 tauPH_U_SS_A[20] 1.347695975545131e-10\n",
      "tauPH_U_V_A [21] 3.678634811933631e-11 tauPH_U_SA_A[21] 3.679578900164205e-11 tauPH_U_SS_A[21] 1.222399977818713e-10\n",
      "tauPH_U_V_A [22] 3.351813950542833e-11 tauPH_U_SA_A[22] 3.3526741631661455e-11 tauPH_U_SS_A[22] 1.1137983268968025e-10\n",
      "tauPH_U_V_A [23] 3.066688000118584e-11 tauPH_U_SA_A[23] 3.067475037755036e-11 tauPH_U_SS_A[23] 1.0190517773498152e-10\n",
      "tauPH_U_V_A [24] 2.8164547778866858e-11 tauPH_U_SA_A[24] 2.8171775954382187e-11 tauPH_U_SS_A[24] 9.358999830174523e-11\n",
      "tauPH_U_V_A [25] 2.5956447233003693e-11 tauPH_U_SA_A[25] 2.5963108719558622e-11 tauPH_U_SS_A[25] 8.625254243488838e-11\n",
      "tauPH_U_V_A [26] 2.3998194557140987e-11 tauPH_U_SA_A[26] 2.4004353475923283e-11 tauPH_U_SS_A[26] 7.974532399675329e-11\n",
      "tauPH_U_V_A [27] 2.2253469849968873e-11 tauPH_U_SA_A[27] 2.2259181000993332e-11 tauPH_U_SS_A[27] 7.39476529791567e-11\n",
      "tauPH_U_V_A [28] 2.069232081712667e-11 tauPH_U_SA_A[28] 2.0697631313423648e-11 tauPH_U_SS_A[28] 6.87599987523026e-11\n",
      "tauPH_U_V_A [29] 1.928986863332617e-11 tauPH_U_SA_A[29] 1.9294819203001356e-11 tauPH_U_SS_A[29] 6.409968968110017e-11\n",
      "tauPH_U_V_A [30] 1.8025310578474788e-11 tauPH_U_SA_A[30] 1.8029936610804604e-11 tauPH_U_SS_A[30] 5.989759891311693e-11\n",
      "tauPH_U_V_A [31] 1.6881144142172016e-11 tauPH_U_SA_A[31] 1.6885476534572468e-11 tauPH_U_SS_A[31] 5.609556609969328e-11\n",
      "tauPH_U_V_A [32] 1.5842558125612608e-11 tauPH_U_SA_A[32] 1.584662397433998e-11 tauPH_U_SS_A[32] 5.264437404473167e-11\n",
      "tauPH_U_V_A [33] 1.4896950891301478e-11 tauPH_U_SA_A[33] 1.49007740585162e-11 tauPH_U_SS_A[33] 4.950214786208011e-11\n",
      "tauPH_U_V_A [34] 1.4033546298120506e-11 tauPH_U_SA_A[34] 1.4037147880384204e-11 tauPH_U_SS_A[34] 4.663307873858584e-11\n",
      "tauPH_U_V_A [35] 1.324308532296107e-11 tauPH_U_SA_A[35] 1.324648404059114e-11 tauPH_U_SS_A[35] 4.400639920147367e-11\n",
      "tauPH_U_V_A [36] 1.2517576790607491e-11 tauPH_U_SA_A[36] 1.2520789313058753e-11 tauPH_U_SS_A[36] 4.1595554800775647e-11\n",
      "tauPH_U_V_A [37] 1.1850094609662023e-11 tauPH_U_SA_A[37] 1.185313582887081e-11 tauPH_U_SS_A[37] 3.937753033002574e-11\n",
      "tauPH_U_V_A [38] 1.1234611856390104e-11 tauPH_U_SA_A[38] 1.1237495117537495e-11 tauPH_U_SS_A[38] 3.7332298491554874e-11\n",
      "tauPH_U_V_A [39] 1.0665864247618217e-11 tauPH_U_SA_A[39] 1.0668601544854794e-11 tauPH_U_SS_A[39] 3.544236622077924e-11\n",
      "tauPH_U_V_A [40] 1.0139237200392067e-11 tauPH_U_SA_A[40] 1.0141839343577588e-11 tauPH_U_SS_A[40] 3.3692399388628274e-11\n",
      "tauPH_U_V_A [41] 9.65067193374617e-12 tauPH_U_SA_A[41] 9.653148691091104e-12 tauPH_U_SS_A[41] 3.206891078037196e-11\n",
      "tauPH_U_V_A [42] 9.196587029834077e-12 tauPH_U_SA_A[42] 9.198947250410512e-12 tauPH_U_SS_A[42] 3.0559999445467826e-11\n",
      "tauPH_U_V_A [43] 8.773812612562093e-12 tauPH_U_SA_A[43] 8.776064331922198e-12 tauPH_U_SS_A[43] 2.915513197501636e-11\n",
      "tauPH_U_V_A [44] 8.379534876357082e-12 tauPH_U_SA_A[44] 8.381685407915364e-12 tauPH_U_SS_A[44] 2.7844958172420064e-11\n",
      "tauPH_U_V_A [45] 8.011249145988795e-12 tauPH_U_SA_A[45] 8.0133051603576e-12 tauPH_U_SS_A[45] 2.6621155072496415e-11\n",
      "tauPH_U_V_A [46] 7.66672000029646e-12 tauPH_U_SA_A[46] 7.66868759438759e-12 tauPH_U_SS_A[46] 2.547629443374538e-11\n",
      "tauPH_U_V_A [47] 7.343947270542016e-12 tauPH_U_SA_A[47] 7.345832027942121e-12 tauPH_U_SS_A[47] 2.4403729751835786e-11\n",
      "tauPH_U_V_A [48] 7.0411369447167145e-12 tauPH_U_SA_A[48] 7.042943988595547e-12 tauPH_U_SS_A[48] 2.339749957543631e-11\n",
      "tauPH_U_V_A [49] 6.7566761851842195e-12 tauPH_U_SA_A[49] 6.758410224791397e-12 tauPH_U_SS_A[49] 2.245224449054779e-11\n",
      "tauPH_U_V_A [50] 6.489111808250923e-12 tauPH_U_SA_A[50] 6.4907771798896556e-12 tauPH_U_SS_A[50] 2.1563135608722095e-11\n"
     ]
    }
   ],
   "source": [
    "foreach(i->println(\"tauPH_U_V_A \",[i],\" \",tauPH_U_V_A[i],\n",
    "\" tauPH_U_SA_A\",[i],\" \",tauPH_U_SA_A[i],\" tauPH_U_SS_A\",[i],\" \",tauPH_U_SS_A[i]),1:length(tauPH_U_SA_A))"
   ]
  },
  {
   "cell_type": "code",
   "execution_count": 26,
   "metadata": {
    "collapsed": false
   },
   "outputs": [
    {
     "data": {
      "text/plain": [
       "50×50 Array{Float64,2}:\n",
       " 7.29423e-18  3.67793e-18  2.48758e-18  …  9.49678e-10  2.48955e-9 \n",
       " 3.67792e-18  1.8545e-18   1.2543e-18      4.78849e-10  1.25529e-9 \n",
       " 2.48756e-18  1.25429e-18  8.48343e-19     3.2387e-10   8.49013e-10\n",
       " 1.90536e-18  9.60732e-19  6.49795e-19     2.4807e-10   6.50308e-10\n",
       " 1.56851e-18  7.90879e-19  5.34914e-19     2.04213e-10  5.35337e-10\n",
       " 1.35683e-18  6.84148e-19  4.62726e-19  …  1.76654e-10  4.63092e-10\n",
       " 1.21978e-18  6.15044e-19  4.15987e-19     1.5881e-10   4.16316e-10\n",
       " 1.13321e-18  5.71391e-19  3.86463e-19     1.47539e-10  3.86768e-10\n",
       " 1.08514e-18  5.47153e-19  3.70069e-19     1.4128e-10   3.70362e-10\n",
       " 1.07028e-18  5.39662e-19  3.65003e-19     1.39346e-10  3.65291e-10\n",
       " 1.08781e-18  5.48499e-19  3.7098e-19   …  1.41628e-10  3.71273e-10\n",
       " 1.14064e-18  5.75139e-19  3.88997e-19     1.48506e-10  3.89304e-10\n",
       " 1.23568e-18  6.23062e-19  4.2141e-19      1.60881e-10  4.21743e-10\n",
       " ⋮                                      ⋱                          \n",
       " 1.88599e-13  9.5096e-14   6.43186e-14     2.45547e-5   6.43694e-5 \n",
       " 4.03077e-13  2.03241e-13  1.37463e-13     5.24789e-5   0.000137572\n",
       " 8.79301e-13  4.43365e-13  2.99872e-13  …  0.000114481  0.000300109\n",
       " 1.95783e-12  9.87186e-13  6.67687e-13     0.000254901  0.000668214\n",
       " 4.44926e-12  2.24342e-12  1.51735e-12     0.000579274  0.00151855 \n",
       " 1.03196e-11  5.20341e-12  3.51935e-12     0.00134357   0.00352213 \n",
       " 2.44283e-11  1.23174e-11  8.3309e-12      0.00318047   0.00833748 \n",
       " 5.90157e-11  2.97572e-11  2.01264e-11  …  0.00768359   0.0201423  \n",
       " 1.45504e-10  7.33667e-11  4.96219e-11     0.018944     0.0496611  \n",
       " 3.66108e-10  1.84601e-10  1.24855e-10     0.0476657    0.124954   \n",
       " 9.40067e-10  4.74005e-10  3.20595e-10     0.122393     0.320848   \n",
       " 2.46332e-9   1.24207e-9   8.40077e-10     0.320714     0.840741   "
      ]
     },
     "execution_count": 26,
     "metadata": {},
     "output_type": "execute_result"
    }
   ],
   "source": [
    "tauPH_EP_V_A/tauPH_EP_SA_A"
   ]
  },
  {
   "cell_type": "code",
   "execution_count": 27,
   "metadata": {
    "collapsed": false
   },
   "outputs": [
    {
     "data": {
      "text/plain": [
       "50-element Array{Float64,1}:\n",
       " 4.06026e-10\n",
       " 2.04728e-10\n",
       " 1.38469e-10\n",
       " 1.06062e-10\n",
       " 8.73123e-11\n",
       " 7.55308e-11\n",
       " 6.79033e-11\n",
       " 6.3086e-11 \n",
       " 6.04127e-11\n",
       " 5.9589e-11 \n",
       " 6.05691e-11\n",
       " 6.35164e-11\n",
       " 6.88162e-11\n",
       " ⋮          \n",
       " 1.0566e-5  \n",
       " 2.25895e-5 \n",
       " 4.92952e-5 \n",
       " 0.000109798\n",
       " 0.000249611\n",
       " 0.000579162\n",
       " 0.00137149 \n",
       " 0.00331463 \n",
       " 0.00817549 \n",
       " 0.0205789  \n",
       " 0.0528629  \n",
       " 0.138578   "
      ]
     },
     "execution_count": 27,
     "metadata": {},
     "output_type": "execute_result"
    }
   ],
   "source": [
    "tauPH_EP_SA_A"
   ]
  },
  {
   "cell_type": "code",
   "execution_count": 28,
   "metadata": {
    "collapsed": false
   },
   "outputs": [
    {
     "data": {
      "text/html": [
       "4836.601828855511"
      ],
      "text/plain": [
       "4836.601828855511"
      ]
     },
     "execution_count": 28,
     "metadata": {},
     "output_type": "execute_result"
    }
   ],
   "source": [
    "kB/hbar*(6*pi*pi)^(-1/3)*thetaD*delta"
   ]
  },
  {
   "cell_type": "code",
   "execution_count": 29,
   "metadata": {
    "collapsed": false
   },
   "outputs": [
    {
     "data": {
      "text/plain": [
       "50-element Array{Float64,1}:\n",
       " 0.01\n",
       " 0.02\n",
       " 0.03\n",
       " 0.04\n",
       " 0.05\n",
       " 0.06\n",
       " 0.07\n",
       " 0.08\n",
       " 0.09\n",
       " 0.1 \n",
       " 0.11\n",
       " 0.12\n",
       " 0.13\n",
       " ⋮   \n",
       " 0.39\n",
       " 0.4 \n",
       " 0.41\n",
       " 0.42\n",
       " 0.43\n",
       " 0.44\n",
       " 0.45\n",
       " 0.46\n",
       " 0.47\n",
       " 0.48\n",
       " 0.49\n",
       " 0.5 "
      ]
     },
     "execution_count": 29,
     "metadata": {},
     "output_type": "execute_result"
    }
   ],
   "source": [
    "intx"
   ]
  },
  {
   "cell_type": "code",
   "execution_count": 30,
   "metadata": {
    "collapsed": false
   },
   "outputs": [
    {
     "ename": "LoadError",
     "evalue": "UndefVarError: tauPH_EP_SAT_A not defined",
     "output_type": "error",
     "traceback": [
      "UndefVarError: tauPH_EP_SAT_A not defined",
      ""
     ]
    }
   ],
   "source": [
    "foreach(println,tauPH_EP_SAT_A)"
   ]
  },
  {
   "cell_type": "code",
   "execution_count": 31,
   "metadata": {
    "collapsed": false
   },
   "outputs": [
    {
     "data": {
      "text/html": [
       "5113.506513713651"
      ],
      "text/plain": [
       "5113.506513713651"
      ]
     },
     "execution_count": 31,
     "metadata": {},
     "output_type": "execute_result"
    }
   ],
   "source": [
    "kB/hbar*(6*pi*pi)^(-1/3)*554.0*delta"
   ]
  },
  {
   "cell_type": "code",
   "execution_count": 32,
   "metadata": {
    "collapsed": false
   },
   "outputs": [
    {
     "name": "stdout",
     "output_type": "stream",
     "text": [
      "5.407593173542437e-9\n",
      "1.3518982933856092e-9\n",
      "6.008436859491596e-10\n",
      "3.379745733464023e-10\n",
      "2.1630372694169742e-10\n",
      "1.502109214872899e-10\n",
      "1.103590443580089e-10\n",
      "8.449364333660057e-11\n",
      "6.676040954990662e-11\n",
      "5.4075931735424355e-11\n",
      "4.4690852673904436e-11\n",
      "3.7552730371822475e-11\n",
      "3.1997592742854647e-11\n",
      "2.7589761089502225e-11\n",
      "2.4033747437966383e-11\n",
      "2.1123410834150144e-11\n",
      "1.8711395064160675e-11\n",
      "1.6690102387476654e-11\n",
      "1.4979482475186806e-11\n",
      "1.3518982933856089e-11\n",
      "1.226211603977877e-11\n",
      "1.1172713168476109e-11\n",
      "1.0222293333728613e-11\n",
      "9.388182592955619e-12\n",
      "8.652149077667898e-12\n",
      "7.999398185713662e-12\n",
      "7.417823283322957e-12\n",
      "6.897440272375556e-12\n",
      "6.4299562111087234e-12\n",
      "6.008436859491596e-12\n",
      "5.627048047390672e-12\n",
      "5.280852708537536e-12\n",
      "4.9656502971004926e-12\n",
      "4.677848766040169e-12\n",
      "4.4143617743203564e-12\n",
      "4.1725255968691635e-12\n",
      "3.9500315365540075e-12\n",
      "3.7448706187967015e-12\n",
      "3.5552880825394055e-12\n",
      "3.379745733464022e-12\n",
      "3.2168906445820567e-12\n",
      "3.0655290099446925e-12\n",
      "2.9246042041873642e-12\n",
      "2.7931782921190273e-12\n",
      "2.670416381996265e-12\n",
      "2.5555733334321532e-12\n",
      "2.447982423514005e-12\n",
      "2.3470456482389047e-12\n",
      "2.2522253950614064e-12\n",
      "2.1630372694169744e-12\n"
     ]
    }
   ],
   "source": [
    "foreach(println,tauPH_C_V_A)"
   ]
  },
  {
   "cell_type": "code",
   "execution_count": null,
   "metadata": {
    "collapsed": true
   },
   "outputs": [],
   "source": []
  },
  {
   "cell_type": "code",
   "execution_count": 33,
   "metadata": {
    "collapsed": false
   },
   "outputs": [
    {
     "name": "stdout",
     "output_type": "stream",
     "text": [
      "  0.659215 seconds (675.54 k allocations: 238.669 MB, 3.21% gc time)\n"
     ]
    },
    {
     "data": {
      "text/html": [
       "3.0"
      ],
      "text/plain": [
       "3.0"
      ]
     },
     "execution_count": 33,
     "metadata": {},
     "output_type": "execute_result"
    }
   ],
   "source": [
    "@time klattice=thermalPropsiso(tauPHL,tauPHTx,tauPHTx,[vSiGeL_PH(xsp),vSiGeT_PH(xsp),vSiGeT_PH(xsp)])\n",
    "xmax=3.0"
   ]
  },
  {
   "cell_type": "code",
   "execution_count": 34,
   "metadata": {
    "collapsed": false,
    "scrolled": false
   },
   "outputs": [
    {
     "ename": "LoadError",
     "evalue": "BoundsError: attempt to access 22×1×1 Array{Float64,3} at index [Colon(),2,2]",
     "output_type": "error",
     "traceback": [
      "BoundsError: attempt to access 22×1×1 Array{Float64,3} at index [Colon(),2,2]",
      "",
      " in throw_boundserror(::Array{Float64,3}, ::Tuple{Colon,Int64,Int64}) at ./abstractarray.jl:363",
      " in checkbounds at ./abstractarray.jl:292 [inlined]",
      " in _getindex at ./multidimensional.jl:272 [inlined]",
      " in getindex(::Array{Float64,3}, ::Colon, ::Int64, ::Int64) at ./abstractarray.jl:760"
     ]
    }
   ],
   "source": [
    "SiGe_Min_1700_Bulk_EC_T=[309.4827586207,389.6551724138,450,479.3103448276,504.3103448276,589.6551724138,979.3103448276,\n",
    "    1039.6551724138,1110.3448275862,1189.6551724138,1199.1379310345]\n",
    "SiGe_Min_1700_Bulk_EC_E=[1252.3364485981,1113.707165109,1054.5171339564,1054.5171339564,912.7725856698,834.8909657321,\n",
    "    526.4797507788,434.5794392523,478.1931464174,557.6323987539,501.5576323988]\n",
    "SiGe_Min_730_Bulk_EC_T=[308.6206896552,360.3448275862,419.8275862069,509.2672413793,609.2432950192,957.662835249,\n",
    "    1009.1475095786,1098.9463601533,1149.2337164751,1218.0795019157]\n",
    "SiGe_Min_730_Bulk_EC_E=[771.0280373832,716.5109034268,626.1682242991,556.7670474213,455.0882658359,277.6912426445,\n",
    "        273.3644859813,241.9955001731,231.1786085151,213.8715818622]    \n",
    "SiGe_Min_230_Bulk_EC_T=[299.7365900383,398.5153256705,500.8860153257,598.4674329502,708.6206896552,868.4626436782,\n",
    "        979.8132183908,1019.3247126437,1088.1704980843,1148.0363984674]\n",
    "SiGe_Min_230_Bulk_EC_E=[314.4686742818,280.9363101419,249.5673243337,217.1166493596,184.6659743856,155.460366909,\n",
    "        130.5815160955,131.6632052613,126.2547594323,131.6632052613]\n",
    "SiGe_Min_22_Bulk_EC_T=[309.9137931034,348.2279693487,389.535440613,569.1331417625,690.0622605364,808.596743295,\n",
    "    909.7701149425,989.3917624521,1079.1906130268]\n",
    "SiGe_Min_22_Bulk_EC_E=[49.4548286604,54.8632744894,44.0463828314,38.6379370024,31.0661128418,25.6576670128,24.575977847,\n",
    "    31.0661128418,45.1280719972]\n",
    "xmax=1\n",
    "SiGe_Min_1700_Bulk_SC_T=[310.6382978723,450.2127659574,500.4255319149,579.5744680851,779.5744680851,970.2127659574,\n",
    "    1050.2127659575,1100.4255319149,1151.4893617021,1159.1489361702]\n",
    "SiGe_Min_1700_Bulk_SC_S=[-105.0763607884,-144.5542357395,-159.9686724971,-169.9060174912,-220.5195144237,-245.9652786842,\n",
    "    -276.149327764,-276.2263412087,-260.3537397207,-240.1200887613]\n",
    "SiGe_Min_730_Bulk_SC_T=[310.6382978723,361.7021276596,419.5744680851,509.7872340426,610.2127659574,1009.3617021277,\n",
    "    1219.5744680851]\n",
    "SiGe_Min_730_Bulk_SC_S=[-165.1990601749,-180.0013053126,-210.1514162642,-220.7192272549,-250.3211069051,-330.687899752,\n",
    "    -346.3477352826]\n",
    "SiGe_Min_230_Bulk_SC_T=[298.7234042553,400.8510638298,499.5744680851,600.8510638298,710.6382978723,859.5744680851,\n",
    "    978.7234042553,1039.1489361702,1090.2127659575,1159.1489361702]\n",
    "SiGe_Min_230_Bulk_SC_S=[-249.8433624853,-284.9693251534,-305.3661401906,-320.245398773,-335.7512074142,-342.1146064482,\n",
    "-342.9108471479,-330.7335856938,-309.3395118131,-251.1630335465]\n",
    "SiGe_Min_22_Bulk_SC_T=[309.7872340426,349.7872340426,380.4255319149,410.2127659574,550.6382978723,690.2127659574,\n",
    "824.6808510638,910.6382978723,979.5744680851]\n",
    "SiGe_Min_22_Bulk_SC_S=[-479.9216812427,-489.7989818562,-519.9073228038,-524.8609842057,-534.8923117087,-544.922333899,\n",
    "-540.2205978332,-480.8432319541,-372.9735021538]\n",
    "xmax=1\n",
    "SiGe_Min_1700_Bulk_KC_T=[314.5631067961,444.0129449838,499.2448759439,577.7777777778,769.3635382956,966.1272923409,\n",
    "    1032.5782092772,1105.9331175836,1168.932038835,1188.7810140237]\n",
    "SiGe_Min_1700_Bulk_KC_K=[4.6835063051,4.5239984377,4.4312520924,4.3076219172,4.4329985493,4.1911672804,4.0622865752,\n",
    "4.2179332664,4.4666164491,4.3891585761]\n",
    "SiGe_Min_22_Bulk_KC_T=[314.5631067961,378.4250269687,554.476806904,683.9266450917,814.2394822006,903.9913700108,\n",
    "    973.0312837109]\n",
    "SiGe_Min_22_Bulk_KC_K=[7.1197132017,6.4011605848,5.1350574713,4.6289978797,4.3608749024,4.4855931258,4.7291429528]\n",
    "SiGe_Vin_162_Bulk_KCL_T=[440.3713548665536,497.3222430383224,574.0370374003198]\n",
    "SiGe_Vin_162_Bulk_KCL_KL=[3.3457249070631976,3.2416356877323427,3.074349442379183]\n",
    "\n",
    "SiGe_Su_162_Bulk_KCL_T=[51.5096343499,56.6540954115,60.7039902898,64.5349719314,68.5191928387,73.5104146347,78.545419078,\n",
    "84.2006776918,89.8194507662,96.7152177211,105.1433773327,115.103929601,126.5968745259,140.3884084357,156.4785313306,\n",
    "173.3348505538,190.191169777,207.0474890002,223.9038082233,240.7601274465,257.6164466697,274.4727658929,291.3290851161,\n",
    "308.1854043393,325.0417235624,341.8980427856,358.7543620088,375.610681232,392.4670004552,409.3233196784,424.6472462449,\n",
    "470.6190259445,487.4753451677,504.3316643908,521.187983614,538.0443028372,554.9006220604,571.7569412836,588.6132605068,\n",
    "605.4695797299,622.3258989531,639.1822181763,656.0385373995,672.8948566227,689.7511758459,706.607495069,723.4638142922,\n",
    "    740.3201335154,757.1764527386,774.0327719618,438.2642998028,452.4654832347]\n",
    "SiGe_Su_162_Bulk_KCL_KL=[1.912952409,2.0367544267,2.1416796981,2.2300607933,2.316951567,2.4101428367,2.4960198089,\n",
    "2.5805877859,2.6667920069,2.747450222,2.8331721816,2.9171373319,2.9981959963,3.0776786993,3.1519579117,3.2134462372,\n",
    "3.2637548671,3.3065007618,3.3406974776,3.3686467164,3.3926501804,3.4110637965,3.4258604524,3.4370401479,3.443945254,\n",
    "3.4469045852,3.4531520621,3.4482198435,3.4452605123,3.4409859228,3.4325828837,3.4025146176,3.3880467763,3.3719348622,\n",
    "3.355822948,3.3383957755,3.3196533448,3.3002532849,3.2795379667,3.2575073902,3.2371208866,3.2157479392,3.1940461773,\n",
    "3.1713579716,3.1483409514,3.1253239312,3.102306911,3.0792898907,3.0549576122,3.031940592,3.426443203,3.4189944134]\n",
    "\n",
    "SiGe_Dis_162_Bulk_KC_T=[323.4130104234,436.3766249262,465.5560008689,494.6582798193,568.7099409229,676.8421439083,\n",
    "    861.4563988974,997.8960475554,1141.7663777569,1201.6652338456]\n",
    "SiGe_Dis_162_Bulk_KC_K=[4.6738529713,4.5204119777,4.5006535608,4.430757327,4.3128769847,4.2031161293,3.9957878466,\n",
    "4.065915243,4.2121420299,4.3719065138]\n",
    "\n",
    "SiGe_SA_162_Bulk_KC_T=[398.7219168438,498.0855086789,598.5416158272,698.9878915666,797.1262440682,897.5381098765,\n",
    "997.8565773003,1097.3037361109,1199.1374694305]\n",
    "SiGe_SA_162_Bulk_KC_KL=[3.7593499332,3.62237734,3.494337284,3.3752157204,3.3497102368,3.2618033964,3.2586222334,\n",
    "3.0458424552,2.6680986582]\n",
    "\n",
    "figure()\n",
    "plot(Ts,sigmas[:,1,1]/100,linestyle=\"-\",color=\"b\")\n",
    "plot(Ts,sigmas[:,2,2]/100,linestyle=\"-\",color=\"r\")\n",
    "plot(Ts,sigmas[:,3,3]/100,linestyle=\"-\",color=\"g\")\n",
    "plot(Ts,sigmas[:,4,4]/100,linestyle=\"-\",color=\"#ff66cc\") \n",
    "plot(SiGe_Min_1700_Bulk_EC_T,SiGe_Min_1700_Bulk_EC_E, linestyle=\"None\",marker=\"o\",markersize=7,color=\"b\")\n",
    "plot(SiGe_Min_730_Bulk_EC_T,SiGe_Min_730_Bulk_EC_E, linestyle=\"None\",marker=\"s\",markersize=7,color=\"r\")\n",
    "plot(SiGe_Min_230_Bulk_EC_T,SiGe_Min_230_Bulk_EC_E, linestyle=\"None\",marker=\"^\",markersize=7,color=\"g\")\n",
    "plot(SiGe_Min_22_Bulk_EC_T,SiGe_Min_22_Bulk_EC_E, linestyle=\"None\",marker=\"D\",markersize=7,color=\"#ff66cc\")\n",
    "ylim(0,1500)\n",
    "grid()\n",
    "\n",
    "figure()\n",
    "plot(Ts,seebecks[:,1,1]*1e6,linestyle=\"-\",color=\"b\")\n",
    "plot(Ts,seebecks[:,2,2]*1e6,linestyle=\"-\",color=\"r\")\n",
    "plot(Ts,seebecks[:,3,3]*1e6,linestyle=\"-\",color=\"g\")\n",
    "plot(Ts,seebecks[:,4,4]*1e6,linestyle=\"-\",color=\"#ff66cc\") \n",
    "plot(SiGe_Min_1700_Bulk_SC_T,SiGe_Min_1700_Bulk_SC_S, linestyle=\"None\",marker=\"o\",markersize=7,color=\"b\")\n",
    "plot(SiGe_Min_730_Bulk_SC_T,SiGe_Min_730_Bulk_SC_S, linestyle=\"None\",marker=\"s\",markersize=7,color=\"r\")\n",
    "plot(SiGe_Min_230_Bulk_SC_T,SiGe_Min_230_Bulk_SC_S, linestyle=\"None\",marker=\"^\",markersize=7,color=\"g\")\n",
    "plot(SiGe_Min_22_Bulk_SC_T,SiGe_Min_22_Bulk_SC_S, linestyle=\"None\",marker=\"D\",markersize=7,color=\"#ff66cc\")\n",
    "ylim(-600,0)\n",
    "grid()\n",
    "\n",
    "figure()\n",
    "plot(Ts,klattice[:,1,1]+kes[:,1,1],linestyle=\"-\",color=\"b\")\n",
    "#plot(Ts,klattice[:,2,2]+kes[:,2,2],linestyle=\"-\",color=\"r\")\n",
    "#plot(Ts,klattice[:,3,3]+kes[:,3,3],linestyle=\"-\",color=\"g\")\n",
    "plot(Ts,klattice[:,4,4]+kes[:,4,4],linestyle=\"-\",color=\"#ff66cc\") \n",
    "plot(SiGe_Min_1700_Bulk_KC_T,SiGe_Min_1700_Bulk_KC_K, linestyle=\"None\",marker=\"o\",markersize=7,color=\"b\")\n",
    "#plot(SiGe_Min_1700_Bulk_KC_T,SiGe_Min_1700_Bulk_KC_K,linestyle=\"None\",marker=\"o\",markersize=7,color=\"b\")\n",
    "#plot(SiGe_Min_730_Bulk_KC_T,SiGe_Min_730_Bulk_SC_S, linestyle=\"None\",marker=\"s\",markersize=7,color=\"r\")\n",
    "#plot(SiGe_Min_230_Bulk_SC_T,SiGe_Min_230_Bulk_SC_S, linestyle=\"None\",marker=\"^\",markersize=7,color=\"g\")\n",
    "plot(SiGe_Min_22_Bulk_KC_T,SiGe_Min_22_Bulk_KC_K, linestyle=\"None\",marker=\"D\",markersize=7,color=\"#ff66cc\")\n",
    "plot(SiGe_Dis_162_Bulk_KC_T,SiGe_Dis_162_Bulk_KC_K, linestyle=\"None\",marker=\"D\",markersize=7,color=\"k\")\n",
    "ylim(3,8)\n",
    "grid()\n",
    "\n",
    "figure()\n",
    "plot(Ts,klattice[:,1,1],linestyle=\"-.\",color=\"b\",label=\"kl\")\n",
    "#plot(Ts,klattice[:,2,2],linestyle=\"-.\",color=\"r\")\n",
    "#plot(Ts,klattice[:,3,3],linestyle=\"-.\",color=\"g\")\n",
    "#plot(Ts,klattice[:,4,4],linestyle=\"-.\",color=\"#ff66cc\") \n",
    "plot(SiGe_Vin_162_Bulk_KCL_T,SiGe_Vin_162_Bulk_KCL_KL, linestyle=\"None\",marker=\"s\",markersize=4,color=\"c\")\n",
    "plot(SiGe_Su_162_Bulk_KCL_T,SiGe_Su_162_Bulk_KCL_KL, linestyle=\"None\",marker=\"s\",markersize=4,color=\"c\")\n",
    "plot(SiGe_SA_162_Bulk_KC_T,SiGe_SA_162_Bulk_KC_KL,linestyle=\"None\",marker=\"o\",markersize=7,color=\"b\")\n",
    "plot(Ts,kes[:,1,1],linestyle=\"--\",color=\"b\",label=\"ke\")\n",
    "plot(Ts,kees[:,1,1],linestyle=\"--\",color=\"k\",label=\"kee\")\n",
    "plot(Ts,kehs[:,1,1],linestyle=\"--\",color=\"y\",label=\"keh\")\n",
    "#plot(Ts,kes[:,2,2],linestyle=\"--\",color=\"r\")\n",
    "#plot(Ts,kes[:,3,3],linestyle=\"--\",color=\"g\")\n",
    "#plot(Ts,kes[:,4,4],linestyle=\"--\",color=\"#ff66cc\") \n",
    "plot(Ts,kbis[:,1,1],linestyle=\":\",color=\"b\",label=\"kbis\")\n",
    "#plot(Ts,kbis[:,2,2],linestyle=\":\",color=\"r\")\n",
    "#plot(Ts,kbis[:,3,3],linestyle=\":\",color=\"g\")\n",
    "#plot(Ts,kbis[:,4,4],linestyle=\":\",color=\"#ff66cc\") \n",
    "#ylim()\n",
    "legend(loc=1)\n",
    "grid()\n",
    "#plot(SiGe_Vin_162_Bulk_KC_T,SiGe_Vin_162_Bulk_KC_K, linestyle=\"None\",marker=\"s\",markersize=4,color=\"c\")\n",
    "#plot(Ts,kl_A,Linestyle=\"-\",Linewidth=\"2\",color=\"b\")\n",
    "\n",
    "\n"
   ]
  },
  {
   "cell_type": "code",
   "execution_count": 35,
   "metadata": {
    "collapsed": false,
    "scrolled": true
   },
   "outputs": [],
   "source": [
    "#kehs"
   ]
  }
 ],
 "metadata": {
  "kernelspec": {
   "display_name": "Julia 0.5.2",
   "language": "julia",
   "name": "julia-0.5"
  },
  "language_info": {
   "file_extension": ".jl",
   "mimetype": "application/julia",
   "name": "julia",
   "version": "0.6.0"
  }
 },
 "nbformat": 4,
 "nbformat_minor": 0
}
