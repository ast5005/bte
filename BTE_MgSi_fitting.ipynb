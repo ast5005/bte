{
 "cells": [
  {
   "cell_type": "code",
   "execution_count": 1,
   "metadata": {
    "collapsed": false,
    "scrolled": false
   },
   "outputs": [],
   "source": [
    "using constants\n",
    "using types\n",
    "using Optim\n",
    "using PyPlot\n",
    "using data\n",
    "include(\"DOSfunctions.jl\")\n",
    "include(\"userfunctions.jl\")\n",
    "Eoff=2.0\n",
    "Ts=collect(300.0:50.0:900.0)\n",
    "xs=collect(0.0:0.01:1.0)\n",
    "Es=collect(0.0:0.1:3.0)\n",
    "x=1.0\n",
    "var0=[Ts[1],x]\n",
    "\n",
    "EX3(var)=Eoff#+Egx3(var[1],var[2])\n",
    "EX1(var)=Ec0(var[2])+EX3(var)\n",
    "ELH(var)=Eoff-Egx3(var[1],var[2])\n",
    "EHH(var)=Eoff-Egx3(var[1],var[2])\n",
    "\n",
    "effMassX1(var)=X1effMass(var[1])*me\n",
    "effMassX3(var)=0.38*me\n",
    "effMassLH(var)=-1.0*me\n",
    "effMassHH(var)=-1.5*me\n",
    "\n",
    "bandX3=parBandTx(effMassX3(var0),0.0,EX3(var0),[EX3],[effMassX3],var0)\n",
    "bandX1=parBandTx(effMassX1(var0),0.0,EX1(var0),[EX1],[effMassX1],var0)\n",
    "bandHH=parBandTx(effMassHH(var0),0.0,EHH(var0),[EHH],[effMassHH],var0)\n",
    "bandLH=parBandTx(effMassLH(var0),0.0,ELH(var0),[ELH],[effMassLH],var0)\n",
    "bndstTx=BandStrucTx([bandLH,bandHH,bandX1,bandX1,bandX3,bandX3,bandX3],var0)\n",
    "#bndstTx=BandStrucTx([bandLH,bandX3],var0)\n",
    "\n",
    "effMassesX1=Array{Float64}(length(xs),length(Ts))\n",
    "effMassesX3=Array{Float64}(length(xs),length(Ts))\n",
    "\n",
    "EX1s=Array{Float64}(length(xs),length(Ts))\n",
    "EX3s=Array{Float64}(length(xs),length(Ts))\n",
    "\n",
    "NII=1e12*1e6\n",
    "vartau0=[bandX3.effMass,Ts[1],1.0,x,1.5,bandX3,NII,bndstTx]\n",
    "#var array: var[1]: effMass , var[2]:T, var[3]:E, var[4]:x, var[5]:Ef, var[6]:band, var[7]:NII var[8]:bndst\n",
    "tauAC(var)=tauAC_func(Cl(var[4]),acPhDa(var[4]),var[2],var[1],var[3],var[6])\n",
    "tauPOP(var)=tauPOP_func(epsilon0_x(var[4]),epsilonhf_x(var[4]),var[6],var[5],var[2],var[1],var[3]\n",
    ",tauPOPIIint(var[5],var[2],var[4],var[6]),var[7],opPhE(var[4]),var[8])\n",
    "tauPOP2(var)=tauPOP2_func(epsilon0_x(var[4]),epsilonhf_x(var[4]),var[6],var[5],var[2],var[1],var[3]\n",
    ",opPhE(var[4]))\n",
    "tauII2(var)=tauII2_func(epsilon0_x(var[4]),epsilonhf_x(var[4]),var[6],var[5],var[2],var[7],var[1],var[3],var[8])\n",
    "tauII(var)=tauII_func(epsilon0_x(var[4]),epsilonhf_x(var[4]),var[6],var[5],var[2],var[7],var[1],var[3]\n",
    ",tauPOPIIint(var[5],var[2],var[4],var[6]))\n",
    "tauACTx=tau_electron_B([tauAC],vartau0)\n",
    "tauPOPTx=tau_electron_B([tauPOP],vartau0)\n",
    "tauPOPTx2=tau_electron_B([tauPOP2],vartau0)\n",
    "tauIITx=tau_electron_B([tauAC,tauPOP2,tauII],vartau0)\n",
    "#tauTOTTx=tau_electron_B([tauAC,tauPOP,tauII],vartau0)\n",
    "#tauTOTTx=tau_electron_B([tauAC,tauPOP],vartau0)\n",
    "#tauTOTTx=tau_electron_B([tauAC,tauPOP2],vartau0)\n",
    "tauTOTTx=tau_electron_B([tauAC,tauPOP2,tauII2],vartau0)#tauAC,tauII2,tauPOP2\n",
    "#tauTOTTx=tau_electron_B([tauAC],vartau0)\n",
    "\n",
    "#tauACs=Array{Float64}(length(xs),length(Ts),length(Es))\n",
    "#tauPOPs=Array{Float64}(length(xs),length(Ts),length(Es))\n",
    "#tauIIs=Array{Float64}(length(xs),length(Ts),length(Es))\n",
    "#tauTOTs=Array{Float64}(length(xs),length(Ts),length(Es))\n",
    "#tauplot=Array{Float64}(length(Es))\n",
    "\n",
    "numofn=[-9.5e19]#,-1.5e19,-2.5e19,-4.5e19][-2.5e19,-8.0e19]#\n",
    "Efxs=collect(0.0:0.01:3.0)\n",
    "eqvaluem=Array{Float64}(length(Ts),length(Efxs))\n",
    "EfcalcM=Array{Float64}(length(Ts))\n",
    "eqvalue=Array{Float64}(length(Ts))\n",
    "eqvalue=Array{Float64}(length(Ts))\n",
    "\n",
    "xmax=3.0\n",
    "sigmas=Array{Float64}(length(Ts),length(numofn))\n",
    "seebecks=Array{Float64}(length(Ts),length(numofn))\n",
    "Efs=Array{Float64}(length(Ts),length(numofn))\n",
    "numofnsout=Array{Float64}(length(Ts),length(numofn))\n",
    "numofnsoutn=Array{Float64}(length(Ts),length(numofn),length(bndstTx.bands))\n",
    "numofnsoutp=Array{Float64}(length(Ts),length(numofn),length(bndstTx.bands))\n",
    "numofnsoutnp=Array{Float64}(length(Ts),length(numofn),length(bndstTx.bands))\n",
    "numofnsoutTOT=Array{Float64}(length(Ts),length(numofn),length(bndstTx.bands))\n",
    "tauACs=Array{Float64}(length(Es),length(Ts),length(numofn))\n",
    "tauPOPs=Array{Float64}(length(Es),length(Ts),length(numofn))\n",
    "tauIIs=Array{Float64}(length(Es),length(Ts),length(numofn))\n",
    "tauTOTs=Array{Float64}(length(Es),length(Ts),length(numofn))\n",
    "taugetTOTs=Array{Float64}(length(Es),length(Ts),length(numofn))\n",
    "bandX3out=Array{Float64}(length(Es),length(Ts),length(numofn))\n",
    "bandX1out=Array{Float64}(length(Es),length(Ts),length(numofn))\n",
    "bandLHout=Array{Float64}(length(Es),length(Ts),length(numofn))\n",
    "bandHHout=Array{Float64}(length(Es),length(Ts),length(numofn))\n",
    "sigmaDX1out=Array{Float64}(length(Es),length(Ts),length(numofn))\n",
    "sigmaDX3out=Array{Float64}(length(Es),length(Ts),length(numofn))\n",
    "sigmaDLHout=Array{Float64}(length(Es),length(Ts),length(numofn))\n",
    "sigmaX3out=Array{Float64}(length(Ts),length(numofn))\n",
    "sigmaLHout=Array{Float64}(length(Ts),length(numofn))\n",
    "sigmabandsout=Array{Float64}(length(Ts),length(numofn),length(bndstTx.bands))\n",
    "seebeckbandsout=Array{Float64}(length(Ts),length(numofn),length(bndstTx.bands))\n",
    "xSn=x\n",
    "##Mg2Si Nv=1 tau(AC,POP2,II2) N-=8e19 \n",
    "#Efinput=[0.1751,0.17395,0.1725,0.1708,0.16885,0.16665,0.1642,0.1615,0.15855,0.15535,0.15185,0.14815,0.1442]\n",
    "##\n",
    "##Mg2Si Nv=2 tau(AC,POP2,II2) N-=6e19 \n",
    "#Efinput=[0.107,0.1048,0.10225,0.0993,0.09595,0.0922,0.0881,0.0836,0.0788,0.0736,0.06815,0.06235,0.05625]\n",
    "##\n",
    "##Mg2Si Nv=3 tau(AC,POP2,II2) N-=6e19 \n",
    "#Efinput=[0.07835,0.07535,0.07185,0.0679,0.06345,0.0585,0.05315,0.0474,0.04125,0.03475,0.0279,0.02065,0.01315]\n",
    "##\n",
    "\n",
    "##Mg2Si Nv=1 tau(AC,POP2,II2) N-=6e19 \n",
    "##Efinput=[0.14335,0.14175,0.1399,0.13775,0.1353,0.13255,0.12945,0.1261,0.12245,0.11845,0.11425,0.1097,0.10495]\n",
    "##\n",
    "##Mg2Si Nv=1 tau(AC,POP2,II2) N-=3e19\n",
    "#Efinput=[0.08605,0.0833,0.0801,0.0764,0.0723,0.06775,0.06275,0.0574,0.05165,0.04555,0.0391,0.0323,0.0252]\n",
    "##\n",
    "##Mg2Si Nv=2 tau(AC,POP2,II2) N-=3e19\n",
    "#Efinput=[0.04685,0.04235,0.0372,0.03145,0.02515,0.0183,0.01095,0.000315,-0.000505,-0.00137,-0.0227,-0.0321,-0.04185]\n",
    "##\n",
    "##Mg2Sn Nv 1 N-=3e19\n",
    "##Efinput=[0.08605,0.0833,0.0801,0.07645,0.0723,0.06775,0.0628, 0.0574,0.05165,0.04555, 0.0391, 0.0323, 0.0252]\n",
    "##\n",
    "\n",
    "for (j,Tx) in enumerate(Ts) \n",
    "    bndstTx.var[1]=Tx\n",
    "    #tauACTx.variables[2]=Tx\n",
    "    tauTOTTx.variables[2]=Tx    \n",
    "    types.updatebnstTx(bndstTx)\n",
    "    #equation(x)=(numofn*1e6-NumofnMultiBand(bndstTx,x,T,xmax))^2\n",
    "    #for (m,Efx) in enumerate(Efxs)\n",
    "    #   eqvaluem[j,m]=equation(Efx)\n",
    "    #end\n",
    "    #EfcalcM[j]=optimize(equation,EX3(var0)-5kBe*T,20.0,method=:golden_section)\n",
    "    for (k,nx) in enumerate(numofn)\n",
    "        tauTOTTx.variables[7]=nx*1e6\n",
    "        Efs[j,k]=Fermilevel_n(nx,bndstTx,Tx,xmax) # Efinput[j]+Eoff#\n",
    "        numofnsout[j,k]=NumofnMultiBand(bndstTx,Efs[j,k],Tx,xmax)        \n",
    "        numofnsoutnp[j,k]=numofnsoutn[j,1]+numofnsoutp[j,2]\n",
    "        #eqvalue[j]=equation(numofnsout[j]/1e6)\n",
    "        #sigmas[j,k]=sigma_Multiband(tauACTx,bndstTx,Efs[j,k],Tx) \n",
    "        #seebecks[j,k]=seebeck_Multiband(tauACTx,bndstTx,Efs[j,k],Tx)\n",
    "        sigmas[j,k]=sigma_Multiband(tauTOTTx,bndstTx,Efs[j,k],Tx)\n",
    "        \n",
    "        for (bs,band) in enumerate(bndstTx.bands)\n",
    "            numofnsoutTOT[j,k,bs]=Numofn(band,Efs[j,k],Tx,xmax)  \n",
    "            numofnsoutn[j,k,bs]=Numofn(band,Efs[j,k],Tx,xmax)  \n",
    "            sigmabandsout[j,k,bs]=sigma(tauTOTTx,band,Efs[j,k],Tx)\n",
    "            seebeckbandsout[j,k,bs]=seebeck(tauTOTTx,band,bndstTx,Efs[j,k],Tx)\n",
    "        end\n",
    "        sigmaX3out[j,k]=sigma(tauTOTTx,bandX3,Efs[j,k],Tx)\n",
    "        sigmaLHout[j,k]=sigma(tauTOTTx,bandLH,Efs[j,k],Tx)\n",
    "        seebecks[j,k]=seebeck_Multiband(tauTOTTx,bndstTx,Efs[j,k],Tx)\n",
    "        #seebecks[j,k]=seebeck_Nominator(tauTOTTx,bandX3,Efs[j,k],Tx)\n",
    "       for (l,Ex) in enumerate(Es)\n",
    "            #bandLHout[l,j,k]=getDOS_SingleBand_E(bandLH,Ex)\n",
    "            #bandHHout[l,j,k]=getDOS_SingleBand_E(bandHH,Ex)\n",
    "            #bandX1out[l,j,k]=getDOS_SingleBand_E(bandX1,Ex)\n",
    "            #bandX3out[l,j,k]=getDOS_SingleBand_E(bandX3,Ex)\n",
    "            #sigmaDX3out[l,j,k]=sigmaD(tauTOTTx,bandX3,Ex,Efs[j,k],Tx)\n",
    "            #sigmaDLHout[l,j,k]=sigmaD(tauTOTTx,bandLH,Ex,Efs[j,k],Tx)\n",
    "            #tauPOPs[l,j,k]=tauPOP_func(epsilon0_x(xSn),epsilonhf_x(xSn),bandX3,Efs[j,k],Tx,bandX3.effMass,Ex,\n",
    "            #tauPOPIIint(Efs[j,k],Tx,xSn,bandX3),nx*1e6,opPhE(0.0),bndstTx)\n",
    "            #tauIIs[l,j,k]=tauII_func(epsilon0_x(xSn),epsilonhf_x(xSn),bandX3,Efs[j,k],Tx,nx*1e6,bandX3.effMass,Ex,\n",
    "            #tauPOPIIint(Efs[j,k],Tx,xSn,bandX3))\n",
    "            #tauACs[l,j,k]=tauAC_func(Cl(xSn),acPhDa(xSn),Tx,bandX3.effMass,Ex,bandX3)\n",
    "            #tauTOTs[l,j,k]=1/(1/tauPOPs[l,j,k]+1/tauACs[l,j,k]) #1/(1/tauPOPs[l,j,k]+1/tauIIs[l,j,k]+1/tauACs[l,j,k]) \n",
    "            ##var array: var[1]: effMass , var[2]:T, var[3]:E, var[4]:x, var[5]:Ef, var[6]:band, var[7]:NII\n",
    "            #tauTOTTx.variables[1]=bandX3.effMass\n",
    "            #tauTOTTx.variables[6]=bandX3\n",
    "            #taugetTOTs[l,j,k]=get_tau(tauTOTTx,Ex)\n",
    "        end \n",
    "    end\n",
    "end"
   ]
  },
  {
   "cell_type": "code",
   "execution_count": 2,
   "metadata": {
    "collapsed": false
   },
   "outputs": [
    {
     "data": {
      "image/png": "[encoded data removed]",
      "text/plain": [
       "PyPlot.Figure(PyObject <matplotlib.figure.Figure object at 0x000000001E3BE240>)"
      ]
     },
     "metadata": {},
     "output_type": "display_data"
    },
    {
     "data": {
      "image/png": "[encoded data removed]",
      "text/plain": [
       "PyPlot.Figure(PyObject <matplotlib.figure.Figure object at 0x000000001E4FA8D0>)"
      ]
     },
     "metadata": {},
     "output_type": "display_data"
    },
    {
     "data": {
      "image/png": "[encoded data removed]",
      "text/plain": [
       "PyPlot.Figure(PyObject <matplotlib.figure.Figure object at 0x000000001E77D828>)"
      ]
     },
     "metadata": {},
     "output_type": "display_data"
    },
    {
     "data": {
      "image/png": "[encoded data removed]",
      "text/plain": [
       "PyPlot.Figure(PyObject <matplotlib.figure.Figure object at 0x000000001E94C3C8>)"
      ]
     },
     "metadata": {},
     "output_type": "display_data"
    }
   ],
   "source": [
    "#=figure()\n",
    "title(\"Num of carriers at LH\")\n",
    "semilogy(Ts,numofnsoutTOT[:,1,1]/1e6,color=\"k\")\n",
    "figure()\n",
    "title(\"Num of carriers at X3\")\n",
    "plot(Ts,numofnsoutTOT[:,1,2]/-1e6,color=\"g\")\n",
    "\n",
    "figure()\n",
    "plot(Es,tauPOPs[:,1,1])\n",
    "plot(Es,tauPOPs[:,6,1])\n",
    "plot(Es,tauPOPs[:,12,1])\n",
    "title(\"POP tau\")\n",
    "figure()\n",
    "plot(Es,taugetTOTs[:,1,1])\n",
    "plot(Es,taugetTOTs[:,6,1])\n",
    "plot(Es,taugetTOTs[:,12,1])\n",
    "title(\"getTOTTx\")\n",
    "figure()\n",
    "plot(Es,tauACs[:,1,1])\n",
    "plot(Es,tauACs[:,6,1])\n",
    "plot(Es,tauACs[:,12,1])\n",
    "title(\"AC tau\")\n",
    "figure()\n",
    "plot(Es,tauIIs[:,1,1])\n",
    "plot(Es,tauIIs[:,6,1])\n",
    "plot(Es,tauIIs[:,12,1])\n",
    "#ylim(0.021,0.0225)\n",
    "title(\"II tau\")\n",
    "figure()\n",
    "plot(Es,tauTOTs[:,1,1])\n",
    "plot(Es,tauTOTs[:,6,1])\n",
    "plot(Es,tauTOTs[:,12,1])\n",
    "title(\"TOT tau\")\n",
    "\n",
    "figure()\n",
    "title(\"Band Structure\")\n",
    "plot(Es,bandX3out[:,1,1],color=\"b\")\n",
    "plot(Es,bandX3out[:,6,1],color=\"g\")\n",
    "plot(Es,bandX3out[:,12,1],color=\"r\")\n",
    "#plot(Es,bandX1out[:,1,1])\n",
    "#plot(Es,bandX1out[:,6,1])\n",
    "#plot(Es,bandX1out[:,12,1])\n",
    "PyPlot.axvline(x=Efs[1,1], ymin=0.0, ymax =1.0 ,  color=\"b\")\n",
    "PyPlot.axvline(x=Efs[6,1], ymin=0.0, ymax =1.0 ,  color=\"g\")\n",
    "PyPlot.axvline(x=Efs[12,1], ymin=0.0, ymax =1.0 , color=\"r\")\n",
    "#plot(Es,bandHHout[:,1,1])\n",
    "#plot(Es,bandHHout[:,6,1])\n",
    "#plot(Es,bandHHout[:,12,1])\n",
    "plot(Es,bandLHout[:,1,1],color=\"b\")\n",
    "plot(Es,bandLHout[:,6,1],color=\"g\")\n",
    "plot(Es,bandLHout[:,12,1],color=\"r\")\n",
    "\n",
    "figure()\n",
    "plot(Es,sigmaDX3out[:,13,1],linestyle=\"-\",linewidth=\"3\",color=\"g\")\n",
    "plot(Es,sigmaDLHout[:,13,1],linestyle=\"-.\",linewidth=\"3\",color=\"c\")\n",
    "grid(\"on\")\n",
    "title(\"Differential Cond.\")=#\n",
    "figure()\n",
    "for p in 1:1:length(numofn)\n",
    "    plot(Ts,Efs[:,p])\n",
    "end\n",
    "figure()\n",
    "for p in 1:1:length(numofn)\n",
    "    plot(Ts,sigmas[:,p]/100,linestyle=\"-\",color=\"k\")   \n",
    "    plot(Ts,sigmabandsout[:,p,1],linestyle=\"-.\",linewidth=\"3\",color=\"k\")\n",
    "    plot(Ts,sigmabandsout[:,p,2],linestyle=\"-.\",linewidth=\"3\",color=\"b\")\n",
    "    plot(Ts,sigmabandsout[:,p,3],linestyle=\"-.\",linewidth=\"3\",color=\"g\")\n",
    "    plot(Ts,sigmabandsout[:,p,5],linestyle=\"-.\",linewidth=\"3\",color=\"r\")\n",
    "   # end\n",
    "end\n",
    "plot(TKMg2Si01T,TKMg2Si01S, linestyle=\"None\",marker=\".\",markersize=20)\n",
    "plot(TKMg2Si03T,TKMg2Si03S, linestyle=\"None\",marker=\".\",markersize=20)\n",
    "#plot(ASSimMg2SiT,ASSimMg2SiTE, linestyle=\"--\",marker=\"None\")\n",
    "plot(TKMg2Si05T,TKMg2Si05S, linestyle=\"None\",marker=\".\",markersize=20)\n",
    "plot(TKMg2Si1T,TKMg2Si1S, linestyle=\"None\",marker=\".\",markersize=20)\n",
    "plot(TKMg2Sn1T,TKMg2Sn1S, linestyle=\"None\",marker=\".\",markersize=20)\n",
    "ylim(0,1600)\n",
    "figure()\n",
    "for p in 1:1:length(numofn)\n",
    "    plot(Ts,-1e6*seebecks[:,p]) \n",
    "    plot(Ts,seebeckbandsout[:,p,1],linestyle=\"-.\",linewidth=\"3\",color=\"k\")\n",
    "    plot(Ts,seebeckbandsout[:,p,2],linestyle=\"-.\",linewidth=\"3\",color=\"b\")\n",
    "    plot(Ts,seebeckbandsout[:,p,3],linestyle=\"-.\",linewidth=\"3\",color=\"g\")\n",
    "    plot(Ts,seebeckbandsout[:,p,5],linestyle=\"-.\",linewidth=\"3\",color=\"r\")\n",
    "end\n",
    "plot(TKMg2Si01TS,TKMg2Si01Se, linestyle=\"None\",marker=\".\",markersize=20)\n",
    "plot(TKMg2Si03TS,TKMg2Si03Se, linestyle=\"None\",marker=\".\",markersize=20)\n",
    "#plot(ASSimMg2SiT,ASSimMg2SiTS*-1, linestyle=\"--\",marker=\"None\")\n",
    "plot(TKMg2Si05TS,TKMg2Si05Se, linestyle=\"None\",marker=\".\",markersize=20)\n",
    "plot(TKMg2Si1TS,TKMg2Si1Se, linestyle=\"None\",marker=\".\",markersize=20)\n",
    "plot(TKMg2Sn1TS,TKMg2Sn1Se, linestyle=\"None\",marker=\".\",markersize=20)\n",
    "ylim(0,600)\n",
    "figure()\n",
    "for p in 1:1:length(numofn)\n",
    "    plot(Ts,numofnsout[:,p]/1e6)\n",
    "end"
   ]
  },
  {
   "cell_type": "code",
   "execution_count": 3,
   "metadata": {
    "collapsed": false
   },
   "outputs": [
    {
     "data": {
      "text/plain": [
       "13-element Array{Float64,1}:\n",
       " 7.36624e15\n",
       " 5.54996e16\n",
       " 2.61699e17\n",
       " 8.86073e17\n",
       " 2.32304e18\n",
       " 4.95668e18\n",
       " 8.99359e18\n",
       " 1.44514e19\n",
       " 2.12573e19\n",
       " 2.9325e19 \n",
       " 3.85829e19\n",
       " 4.89771e19\n",
       " 6.04669e19"
      ]
     },
     "execution_count": 3,
     "metadata": {},
     "output_type": "execute_result"
    }
   ],
   "source": [
    "numofnsoutTOT[:,1,1]/1e6"
   ]
  },
  {
   "cell_type": "code",
   "execution_count": 4,
   "metadata": {
    "collapsed": false
   },
   "outputs": [
    {
     "data": {
      "text/plain": [
       "13-element Array{Float64,1}:\n",
       " 1.35326e16\n",
       " 1.01959e17\n",
       " 4.80772e17\n",
       " 1.62782e18\n",
       " 4.2677e18 \n",
       " 9.106e18  \n",
       " 1.65223e19\n",
       " 2.6549e19 \n",
       " 3.90522e19\n",
       " 5.38735e19\n",
       " 7.08814e19\n",
       " 8.99766e19\n",
       " 1.11085e20"
      ]
     },
     "execution_count": 4,
     "metadata": {},
     "output_type": "execute_result"
    }
   ],
   "source": [
    "numofnsoutTOT[:,1,2]/1e6"
   ]
  },
  {
   "cell_type": "code",
   "execution_count": 5,
   "metadata": {
    "collapsed": false
   },
   "outputs": [
    {
     "data": {
      "text/plain": [
       "13-element Array{Float64,1}:\n",
       " 2.08989e16\n",
       " 1.57459e17\n",
       " 7.42471e17\n",
       " 2.51389e18\n",
       " 6.59075e18\n",
       " 1.40627e19\n",
       " 2.55159e19\n",
       " 4.10004e19\n",
       " 6.03095e19\n",
       " 8.31985e19\n",
       " 1.09464e20\n",
       " 1.38954e20\n",
       " 1.71552e20"
      ]
     },
     "execution_count": 5,
     "metadata": {},
     "output_type": "execute_result"
    }
   ],
   "source": [
    "(numofnsoutTOT[:,1,1]+numofnsoutTOT[:,1,2])/1e6"
   ]
  },
  {
   "cell_type": "code",
   "execution_count": 6,
   "metadata": {
    "collapsed": false
   },
   "outputs": [],
   "source": [
    "using constants\n",
    "using types\n",
    "using Optim\n",
    "using PyPlot\n",
    "using data\n",
    "include(\"DOSfunctions.jl\")\n",
    "include(\"userfunctions.jl\")\n",
    "Eoff=2.0\n",
    "Ts=collect(300.0:50.0:900.0) \n",
    "x=1.0\n",
    "var0=[Ts[1],x]\n",
    "\n",
    "EX3(var)=Eoff#+Egx3(var[1],var[2])\n",
    "EX1(var)=Ec0(var[2])+EX3(var)\n",
    "ELH(var)=Eoff-Egx3(var[1],var[2])\n",
    "EHH(var)=Eoff-Egx3(var[1],var[2])\n",
    "\n",
    "effMassX1(var)=X1effMass(var[1])*me\n",
    "effMassX3(var)=0.38*me\n",
    "effMassLH(var)=-1.0*me\n",
    "effMassHH(var)=-1.5*me\n",
    "\n",
    "bandX3=parBandTx(effMassX3(var0),0.0,EX3(var0),[EX3],[effMassX3],var0)\n",
    "bandX1=parBandTx(effMassX1(var0),0.0,EX1(var0),[EX1],[effMassX1],var0)\n",
    "bandHH=parBandTx(effMassHH(var0),0.0,EHH(var0),[EHH],[effMassHH],var0)\n",
    "bandLH=parBandTx(effMassLH(var0),0.0,ELH(var0),[ELH],[effMassLH],var0)\n",
    "#bndstTx=BandStrucTx([bandLH,bandHH,bandX1,bandX1,bandX3,bandX3],var0)\n",
    "bndstTx=BandStrucTx([bandLH,bandX3],var0)\n",
    "Efin=[0.08605,0.0833,0.0801,0.07645,0.0723,0.06775,\n",
    "    0.0628, 0.0574,0.05165,0.04555, 0.0391, 0.0323, 0.0252]\n",
    "numn=Array{Float64}(length(Ts))\n",
    "nump=Array{Float64}(length(Ts))\n",
    "numnp=Array{Float64}(length(Ts))\n",
    "for (s,Tsx) in enumerate(Ts)\n",
    "    numn[s]=Numofn(bandX3,Efin[s]+Eoff,Tsx,3.0)\n",
    "    nump[s]=Numofn(bandLH,Efin[s]+Eoff,Tsx,3.0)\n",
    "    numnp[s]=numn[s]+nump[s]\n",
    "end"
   ]
  },
  {
   "cell_type": "code",
   "execution_count": 7,
   "metadata": {
    "collapsed": false
   },
   "outputs": [
    {
     "data": {
      "text/plain": [
       "13-element Array{Float64,1}:\n",
       " -3.00707e19\n",
       " -3.00483e19\n",
       " -3.00417e19\n",
       " -3.00442e19\n",
       " -3.00287e19\n",
       " -3.00276e19\n",
       " -3.00323e19\n",
       " -3.00182e19\n",
       " -3.00149e19\n",
       " -3.00155e19\n",
       " -3.00147e19\n",
       " -3.0008e19 \n",
       " -3.00065e19"
      ]
     },
     "execution_count": 7,
     "metadata": {},
     "output_type": "execute_result"
    }
   ],
   "source": [
    "numn/1e6"
   ]
  },
  {
   "cell_type": "code",
   "execution_count": 8,
   "metadata": {
    "collapsed": false
   },
   "outputs": [
    {
     "data": {
      "text/plain": [
       "13-element Array{Float64,1}:\n",
       " 9.58103e12\n",
       " 1.09222e14\n",
       " 7.05219e14\n",
       " 3.10771e15\n",
       " 1.04716e16\n",
       " 2.89225e16\n",
       " 6.87353e16\n",
       " 1.45509e17\n",
       " 2.80598e17\n",
       " 5.01868e17\n",
       " 8.4392e17 \n",
       " 1.34818e18\n",
       " 2.06151e18"
      ]
     },
     "execution_count": 8,
     "metadata": {},
     "output_type": "execute_result"
    }
   ],
   "source": [
    "nump/1e6"
   ]
  },
  {
   "cell_type": "code",
   "execution_count": 9,
   "metadata": {
    "collapsed": false
   },
   "outputs": [
    {
     "data": {
      "text/plain": [
       "13-element Array{Float64,1}:\n",
       " -3.00707e19\n",
       " -3.00482e19\n",
       " -3.0041e19 \n",
       " -3.00411e19\n",
       " -3.00183e19\n",
       " -2.99987e19\n",
       " -2.99636e19\n",
       " -2.98727e19\n",
       " -2.97343e19\n",
       " -2.95136e19\n",
       " -2.91707e19\n",
       " -2.86598e19\n",
       " -2.7945e19 "
      ]
     },
     "execution_count": 9,
     "metadata": {},
     "output_type": "execute_result"
    }
   ],
   "source": [
    "numnp/1e6"
   ]
  },
  {
   "cell_type": "code",
   "execution_count": 10,
   "metadata": {
    "collapsed": false
   },
   "outputs": [
    {
     "data": {
      "text/plain": [
       "13-element Array{Float64,1}:\n",
       " 7.36624e15\n",
       " 5.54996e16\n",
       " 2.61699e17\n",
       " 8.86073e17\n",
       " 2.32304e18\n",
       " 4.95668e18\n",
       " 8.99359e18\n",
       " 1.44514e19\n",
       " 2.12573e19\n",
       " 2.9325e19 \n",
       " 3.85829e19\n",
       " 4.89771e19\n",
       " 6.04669e19"
      ]
     },
     "execution_count": 10,
     "metadata": {},
     "output_type": "execute_result"
    }
   ],
   "source": [
    "numofnsoutTOT[:,1,1]/1e6"
   ]
  },
  {
   "cell_type": "code",
   "execution_count": 11,
   "metadata": {
    "collapsed": false
   },
   "outputs": [
    {
     "data": {
      "text/plain": [
       "13-element Array{Float64,1}:\n",
       " 2.08989e16\n",
       " 1.57459e17\n",
       " 7.42471e17\n",
       " 2.51389e18\n",
       " 6.59075e18\n",
       " 1.40627e19\n",
       " 2.55159e19\n",
       " 4.10004e19\n",
       " 6.03095e19\n",
       " 8.31985e19\n",
       " 1.09464e20\n",
       " 1.38954e20\n",
       " 1.71552e20"
      ]
     },
     "execution_count": 11,
     "metadata": {},
     "output_type": "execute_result"
    }
   ],
   "source": [
    "(numofnsoutTOT[:,1,2]+numofnsoutTOT[:,1,1])/1e6"
   ]
  },
  {
   "cell_type": "code",
   "execution_count": null,
   "metadata": {
    "collapsed": false
   },
   "outputs": [],
   "source": []
  },
  {
   "cell_type": "code",
   "execution_count": 12,
   "metadata": {
    "collapsed": false
   },
   "outputs": [
    {
     "data": {
      "image/png": "[encoded data removed]",
      "text/plain": [
       "PyPlot.Figure(PyObject <matplotlib.figure.Figure object at 0x000000001EAE10B8>)"
      ]
     },
     "metadata": {},
     "output_type": "display_data"
    },
    {
     "data": {
      "text/plain": [
       "PyObject <matplotlib.text.Text object at 0x000000001ECEF550>"
      ]
     },
     "execution_count": 12,
     "metadata": {},
     "output_type": "execute_result"
    }
   ],
   "source": [
    "figure()\n",
    "plot(Es,sigmaDX3out[:,13,1],linestyle=\"-\",linewidth=\"3\",color=\"k\")\n",
    "plot(Es,sigmaDLHout[:,13,1],linestyle=\"-.\",linewidth=\"3\",color=\"c\")\n",
    "grid(\"on\")\n",
    "title(\"Differential Cond.\")"
   ]
  },
  {
   "cell_type": "code",
   "execution_count": 13,
   "metadata": {
    "collapsed": false
   },
   "outputs": [
    {
     "data": {
      "text/plain": [
       "31"
      ]
     },
     "execution_count": 13,
     "metadata": {},
     "output_type": "execute_result"
    }
   ],
   "source": [
    "length(sigmaDLHout[:,13,1])"
   ]
  },
  {
   "cell_type": "code",
   "execution_count": 14,
   "metadata": {
    "collapsed": false
   },
   "outputs": [
    {
     "data": {
      "text/plain": [
       "13x1 Array{Float64,2}:\n",
       " -0.085736 \n",
       " -0.0906422\n",
       " -0.095918 \n",
       " -0.101021 \n",
       " -0.105105 \n",
       " -0.10737  \n",
       " -0.1075   \n",
       " -0.105694 \n",
       " -0.102378 \n",
       " -0.0979677\n",
       " -0.0927939\n",
       " -0.0870943\n",
       " -0.0810359"
      ]
     },
     "execution_count": 14,
     "metadata": {},
     "output_type": "execute_result"
    }
   ],
   "source": [
    "Efs-Eoff"
   ]
  },
  {
   "cell_type": "code",
   "execution_count": 15,
   "metadata": {
    "collapsed": false
   },
   "outputs": [
    {
     "data": {
      "text/plain": [
       "13x1 Array{Float64,2}:\n",
       " -118.256\n",
       " -134.895\n",
       " -150.277\n",
       " -162.779\n",
       " -170.361\n",
       " -172.927\n",
       " -171.754\n",
       " -168.453\n",
       " -164.688\n",
       " -161.195\n",
       " -157.924\n",
       " -154.925\n",
       " -152.255"
      ]
     },
     "execution_count": 15,
     "metadata": {},
     "output_type": "execute_result"
    }
   ],
   "source": [
    "seebecks*1e6"
   ]
  },
  {
   "cell_type": "code",
   "execution_count": 16,
   "metadata": {
    "collapsed": false,
    "scrolled": true
   },
   "outputs": [
    {
     "data": {
      "text/plain": [
       "13x1 Array{Float64,2}:\n",
       " 844.803\n",
       " 731.019\n",
       " 641.981\n",
       " 578.178\n",
       " 543.589\n",
       " 534.272\n",
       " 544.268\n",
       " 573.03 \n",
       " 609.362\n",
       " 650.026\n",
       " 694.668\n",
       " 741.728\n",
       " 789.413"
      ]
     },
     "execution_count": 16,
     "metadata": {},
     "output_type": "execute_result"
    }
   ],
   "source": [
    "sigmas/100"
   ]
  },
  {
   "cell_type": "code",
   "execution_count": 17,
   "metadata": {
    "collapsed": false
   },
   "outputs": [
    {
     "data": {
      "text/plain": [
       "7-element Array{Float64,1}:\n",
       " 137.8\n",
       " 147.6\n",
       " 166.2\n",
       " 184.7\n",
       " 208.2\n",
       " 226.7\n",
       " 242.8"
      ]
     },
     "execution_count": 17,
     "metadata": {},
     "output_type": "execute_result"
    }
   ],
   "source": [
    "TKMg2Si05Se"
   ]
  },
  {
   "cell_type": "code",
   "execution_count": 18,
   "metadata": {
    "collapsed": false
   },
   "outputs": [
    {
     "data": {
      "text/plain": [
       "7-element Array{Float64,1}:\n",
       " 164.9\n",
       " 177.3\n",
       " 202.0\n",
       " 223.0\n",
       " 245.3\n",
       " 258.9\n",
       " 265.1"
      ]
     },
     "execution_count": 18,
     "metadata": {},
     "output_type": "execute_result"
    }
   ],
   "source": [
    "TKMg2Si03Se"
   ]
  },
  {
   "cell_type": "code",
   "execution_count": 19,
   "metadata": {
    "collapsed": false
   },
   "outputs": [
    {
     "data": {
      "text/plain": [
       "0.0775559916"
      ]
     },
     "execution_count": 19,
     "metadata": {},
     "output_type": "execute_result"
    }
   ],
   "source": [
    "kBe*900"
   ]
  },
  {
   "cell_type": "code",
   "execution_count": 20,
   "metadata": {
    "collapsed": false
   },
   "outputs": [
    {
     "data": {
      "text/plain": [
       "2.49349336862736"
      ]
     },
     "execution_count": 20,
     "metadata": {},
     "output_type": "execute_result"
    }
   ],
   "source": [
    "1.17937/0.472979"
   ]
  },
  {
   "cell_type": "code",
   "execution_count": 21,
   "metadata": {
    "collapsed": false
   },
   "outputs": [
    {
     "data": {
      "text/plain": [
       "13x1 Array{Float64,2}:\n",
       " 844.803\n",
       " 731.019\n",
       " 641.981\n",
       " 578.178\n",
       " 543.589\n",
       " 534.272\n",
       " 544.268\n",
       " 573.03 \n",
       " 609.362\n",
       " 650.026\n",
       " 694.668\n",
       " 741.728\n",
       " 789.413"
      ]
     },
     "execution_count": 21,
     "metadata": {},
     "output_type": "execute_result"
    }
   ],
   "source": [
    "sigmas/100"
   ]
  },
  {
   "cell_type": "code",
   "execution_count": 22,
   "metadata": {
    "collapsed": false
   },
   "outputs": [
    {
     "data": {
      "text/plain": [
       "13x1 Array{Float64,2}:\n",
       " -118.256\n",
       " -134.895\n",
       " -150.277\n",
       " -162.779\n",
       " -170.361\n",
       " -172.927\n",
       " -171.754\n",
       " -168.453\n",
       " -164.688\n",
       " -161.195\n",
       " -157.924\n",
       " -154.925\n",
       " -152.255"
      ]
     },
     "execution_count": 22,
     "metadata": {},
     "output_type": "execute_result"
    }
   ],
   "source": [
    "seebecks*1e6"
   ]
  },
  {
   "cell_type": "code",
   "execution_count": 23,
   "metadata": {
    "collapsed": false
   },
   "outputs": [
    {
     "data": {
      "text/plain": [
       "13x1 Array{Float64,2}:\n",
       " -9.49998e25\n",
       " -9.49997e25\n",
       " -9.49997e25\n",
       " -9.49997e25\n",
       " -9.49996e25\n",
       " -9.49996e25\n",
       " -9.49997e25\n",
       " -9.49997e25\n",
       " -9.49998e25\n",
       " -9.49998e25\n",
       " -9.49999e25\n",
       " -9.49999e25\n",
       " -9.5e25    "
      ]
     },
     "execution_count": 23,
     "metadata": {},
     "output_type": "execute_result"
    }
   ],
   "source": [
    "numofnsout"
   ]
  },
  {
   "cell_type": "code",
   "execution_count": 24,
   "metadata": {
    "collapsed": false
   },
   "outputs": [
    {
     "data": {
      "text/plain": [
       "1.5067868016467014"
      ]
     },
     "execution_count": 24,
     "metadata": {},
     "output_type": "execute_result"
    }
   ],
   "source": [
    "4384.84/2910.06"
   ]
  },
  {
   "cell_type": "code",
   "execution_count": 25,
   "metadata": {
    "collapsed": false
   },
   "outputs": [
    {
     "data": {
      "text/plain": [
       "1.3354295024655523"
      ]
     },
     "execution_count": 25,
     "metadata": {},
     "output_type": "execute_result"
    }
   ],
   "source": [
    "6188.18/4633.85"
   ]
  },
  {
   "cell_type": "code",
   "execution_count": 26,
   "metadata": {
    "collapsed": false
   },
   "outputs": [
    {
     "data": {
      "text/plain": [
       "1.204042975465859"
      ]
     },
     "execution_count": 26,
     "metadata": {},
     "output_type": "execute_result"
    }
   ],
   "source": [
    "1995.93/1657.69"
   ]
  },
  {
   "cell_type": "code",
   "execution_count": 27,
   "metadata": {
    "collapsed": false
   },
   "outputs": [
    {
     "data": {
      "text/plain": [
       "123.83212765957447"
      ]
     },
     "execution_count": 27,
     "metadata": {},
     "output_type": "execute_result"
    }
   ],
   "source": [
    "5820.11/47"
   ]
  },
  {
   "cell_type": "code",
   "execution_count": 28,
   "metadata": {
    "collapsed": false
   },
   "outputs": [
    {
     "data": {
      "text/plain": [
       "31-element Array{Float64,1}:\n",
       " 0.0\n",
       " 0.1\n",
       " 0.2\n",
       " 0.3\n",
       " 0.4\n",
       " 0.5\n",
       " 0.6\n",
       " 0.7\n",
       " 0.8\n",
       " 0.9\n",
       " 1.0\n",
       " 1.1\n",
       " 1.2\n",
       " ⋮  \n",
       " 1.9\n",
       " 2.0\n",
       " 2.1\n",
       " 2.2\n",
       " 2.3\n",
       " 2.4\n",
       " 2.5\n",
       " 2.6\n",
       " 2.7\n",
       " 2.8\n",
       " 2.9\n",
       " 3.0"
      ]
     },
     "execution_count": 28,
     "metadata": {},
     "output_type": "execute_result"
    }
   ],
   "source": [
    "Es"
   ]
  },
  {
   "cell_type": "code",
   "execution_count": 29,
   "metadata": {
    "collapsed": false
   },
   "outputs": [
    {
     "data": {
      "text/plain": [
       "13-element Array{Float64,1}:\n",
       " 300.0\n",
       " 350.0\n",
       " 400.0\n",
       " 450.0\n",
       " 500.0\n",
       " 550.0\n",
       " 600.0\n",
       " 650.0\n",
       " 700.0\n",
       " 750.0\n",
       " 800.0\n",
       " 850.0\n",
       " 900.0"
      ]
     },
     "execution_count": 29,
     "metadata": {},
     "output_type": "execute_result"
    }
   ],
   "source": [
    "Ts"
   ]
  },
  {
   "cell_type": "code",
   "execution_count": 30,
   "metadata": {
    "collapsed": false
   },
   "outputs": [
    {
     "data": {
      "text/plain": [
       "13x1 Array{Float64,2}:\n",
       " -0.085736 \n",
       " -0.0906422\n",
       " -0.095918 \n",
       " -0.101021 \n",
       " -0.105105 \n",
       " -0.10737  \n",
       " -0.1075   \n",
       " -0.105694 \n",
       " -0.102378 \n",
       " -0.0979677\n",
       " -0.0927939\n",
       " -0.0870943\n",
       " -0.0810359"
      ]
     },
     "execution_count": 30,
     "metadata": {},
     "output_type": "execute_result"
    }
   ],
   "source": [
    "Efs-2.0"
   ]
  },
  {
   "cell_type": "code",
   "execution_count": 31,
   "metadata": {
    "collapsed": false
   },
   "outputs": [
    {
     "data": {
      "text/plain": [
       "13x1 Array{Float64,2}:\n",
       " 84480.3\n",
       " 73101.9\n",
       " 64198.1\n",
       " 57817.8\n",
       " 54358.9\n",
       " 53427.2\n",
       " 54426.8\n",
       " 57303.0\n",
       " 60936.2\n",
       " 65002.6\n",
       " 69466.8\n",
       " 74172.8\n",
       " 78941.3"
      ]
     },
     "execution_count": 31,
     "metadata": {},
     "output_type": "execute_result"
    }
   ],
   "source": [
    "sigmas"
   ]
  },
  {
   "cell_type": "code",
   "execution_count": 32,
   "metadata": {
    "collapsed": false
   },
   "outputs": [
    {
     "ename": "LoadError",
     "evalue": "LoadError: UndefVarError: Tj not defined\nwhile loading In[32], in expression starting on line 1",
     "output_type": "error",
     "traceback": [
      "LoadError: UndefVarError: Tj not defined\nwhile loading In[32], in expression starting on line 1",
      ""
     ]
    }
   ],
   "source": [
    "(Tj,sj)    "
   ]
  },
  {
   "cell_type": "code",
   "execution_count": 33,
   "metadata": {
    "collapsed": false
   },
   "outputs": [
    {
     "data": {
      "text/plain": [
       "13x1 Array{Float64,2}:\n",
       " -9.49998e13\n",
       " -9.49997e13\n",
       " -9.49997e13\n",
       " -9.49997e13\n",
       " -9.49996e13\n",
       " -9.49996e13\n",
       " -9.49997e13\n",
       " -9.49997e13\n",
       " -9.49998e13\n",
       " -9.49998e13\n",
       " -9.49999e13\n",
       " -9.49999e13\n",
       " -9.5e13    "
      ]
     },
     "execution_count": 33,
     "metadata": {},
     "output_type": "execute_result"
    }
   ],
   "source": [
    "numofnsout/1e12"
   ]
  },
  {
   "cell_type": "code",
   "execution_count": 34,
   "metadata": {
    "collapsed": false
   },
   "outputs": [
    {
     "data": {
      "text/plain": [
       "1.5391483516483517"
      ]
     },
     "execution_count": 34,
     "metadata": {},
     "output_type": "execute_result"
    }
   ],
   "source": [
    "2241/1456"
   ]
  },
  {
   "cell_type": "code",
   "execution_count": 35,
   "metadata": {
    "collapsed": false
   },
   "outputs": [
    {
     "data": {
      "text/plain": [
       "1.3626078028747435"
      ]
     },
     "execution_count": 35,
     "metadata": {},
     "output_type": "execute_result"
    }
   ],
   "source": [
    "663.59/487"
   ]
  },
  {
   "cell_type": "code",
   "execution_count": 36,
   "metadata": {
    "collapsed": false
   },
   "outputs": [
    {
     "data": {
      "text/plain": [
       "1.5633081135264542"
      ]
     },
     "execution_count": 36,
     "metadata": {},
     "output_type": "execute_result"
    }
   ],
   "source": [
    "1172.8/750.204"
   ]
  },
  {
   "cell_type": "code",
   "execution_count": 37,
   "metadata": {
    "collapsed": false
   },
   "outputs": [
    {
     "data": {
      "image/png": "[encoded data removed]",
      "text/plain": [
       "PyPlot.Figure(PyObject <matplotlib.figure.Figure object at 0x000000001EB45F28>)"
      ]
     },
     "metadata": {},
     "output_type": "display_data"
    },
    {
     "data": {
      "text/plain": [
       "PyObject <matplotlib.text.Text object at 0x000000001EDC9320>"
      ]
     },
     "execution_count": 37,
     "metadata": {},
     "output_type": "execute_result"
    }
   ],
   "source": [
    "eSi=11.9*8.85e-12\n",
    "T=300.0\n",
    "ni=[1e15,1e16,1e17,1e18,1e19,1e20,1e21]*1e6\n",
    "Ld=[sqrt(eSi*kB*T/q/q/(nl)) for nl in ni]\n",
    "loglog(ni,Ld)\n",
    "grid(\"on\")\n",
    "title(\"Si Debye Length\")\n",
    "xlabel(L\"Electron(hole) conc. $(1/m^3)$\")\n",
    "ylabel(L\"Debye Length $(m)$\")"
   ]
  },
  {
   "cell_type": "code",
   "execution_count": 38,
   "metadata": {
    "collapsed": false
   },
   "outputs": [
    {
     "ename": "LoadError",
     "evalue": "LoadError: MethodError: `tauPOP_func` has no method matching tauPOP_func(::Float64, ::Float64, ::types.parBandTx{Float64}, ::Float64, ::Float64, ::Float64, ::Float64, ::Float64, ::Float64)\nClosest candidates are:\n  tauPOP_func(::Any, ::Any, ::Any, ::Any, ::Any, ::Any, ::Any, ::Any, ::Any, !Matched::Any, !Matched::Any)\nwhile loading In[38], in expression starting on line 78",
     "output_type": "error",
     "traceback": [
      "LoadError: MethodError: `tauPOP_func` has no method matching tauPOP_func(::Float64, ::Float64, ::types.parBandTx{Float64}, ::Float64, ::Float64, ::Float64, ::Float64, ::Float64, ::Float64)\nClosest candidates are:\n  tauPOP_func(::Any, ::Any, ::Any, ::Any, ::Any, ::Any, ::Any, ::Any, ::Any, !Matched::Any, !Matched::Any)\nwhile loading In[38], in expression starting on line 78",
      "",
      " [inlined code] from In[38]:91",
      " in anonymous at no file:0"
     ]
    }
   ],
   "source": [
    "using constants\n",
    "using types\n",
    "using Optim\n",
    "using PyPlot\n",
    "using data\n",
    "include(\"DOSfunctions.jl\")\n",
    "include(\"userfunctions.jl\")\n",
    "Eoff=0.0\n",
    "Ef=0.1752\n",
    "Ts=collect(300.0:50.0:900.0)\n",
    "xs=collect(0.0:0.1:1.0)\n",
    "Es=collect(Eoff-1.0:0.02:Eoff+1.0)\n",
    "var0=[Ts[1],xs[1]]\n",
    "x=0.0\n",
    "\n",
    "\n",
    "EX3(var)=Eoff#+Egx3(var[1],var[2])\n",
    "EX1(var)=Ec0(var[2])+EX3(var)\n",
    "ELH(var)=Eoff-Egx3(var[1],var[2])\n",
    "EHH(var)=Eoff-Egx3(var[1],var[2])\n",
    "\n",
    "effMassX1(var)=X1effMass(var[1])*me\n",
    "effMassX3(var)=0.38*me\n",
    "effMassLH(var)=-1.0*me\n",
    "effMassHH(var)=-1.5*me\n",
    "\n",
    "bandX3=parBandTx(effMassX3(var0),0.0,EX3(var0),[EX3],[effMassX3],var0)\n",
    "bandX1=parBandTx(effMassX1(var0),0.0,EX1(var0),[EX1],[effMassX1],var0)\n",
    "bandHH=parBandTx(effMassHH(var0),0.0,EHH(var0),[EHH],[effMassHH],var0)\n",
    "bandLH=parBandTx(effMassLH(var0),0.0,ELH(var0),[ELH],[effMassLH],var0)\n",
    "#bndstTx=BandStrucTx([bandX1,bandX3,bandLH,bandHH],var0)\n",
    "bndstTx=BandStrucTx([bandX3,bandLH],var0)\n",
    "\n",
    "effMassesX1=Array{Float64}(length(xs),length(Ts))\n",
    "effMassesX3=Array{Float64}(length(xs),length(Ts))\n",
    "\n",
    "EX1s=Array{Float64}(length(xs),length(Ts))\n",
    "EX3s=Array{Float64}(length(xs),length(Ts))\n",
    "\n",
    "NII=-8e19*1e6\n",
    "vartau0=[bandX3.effMass,Ts[1],1.0,xs[1],1.5,bandX3,NII]\n",
    "#var array: var[1]: effMass , var[2]:T, var[3]:E, var[4]:x, var[5]:Ef, var[6]:band, var[7]:NII\n",
    "tauAC(var)=tauAC_func(Cl(var[4]),acPhDa(var[4]),var[2],var[1],var[3],var[6])\n",
    "tauPOP(var)=tauPOP_func(epsilon0_x(var[4]),epsilonhf_x(var[4]),var[6],var[5],var[2],var[1],var[3]\n",
    ",tauPOPIIint(var[5],var[2],var[4],var[6]),var[7])\n",
    "tauPOP2(var)=tauPOP2_func(epsilon0_x(var[4]),epsilonhf_x(var[4]),var[6],var[5],var[2],var[1],var[3]\n",
    ",opPhE(var[4]))\n",
    "tauII(var)=tauII_func(epsilon0_x(var[4]),epsilonhf_x(var[4]),var[6],var[5],var[2],var[7],var[1],var[3]\n",
    ",tauPOPIIint(var[5],var[2],var[4],var[6]))\n",
    "tauACTx=tau_electron_B([tauAC],vartau0)\n",
    "tauPOPTx=tau_electron_B([tauPOP],vartau0)\n",
    "tauIITx=tau_electron_B([tauII],vartau0)\n",
    "#tauTOTTx=tau_electron_B([tauAC,tauPOP,tauII],vartau0)\n",
    "#tauTOTTx=tau_electron_B([tauAC,tauPOP],vartau0)\n",
    "tauTOTTx=tau_electron_B([tauAC,tauPOP2],vartau0)\n",
    "#tauTOTTx=tau_electron_B([tauAC,tauII],vartau0)\n",
    "#tauTOTTx=tau_electron_B([tauAC],vartau0)\n",
    "\n",
    "xmax=3.0\n",
    "sigmas=Array{Float64}(length(Ts))\n",
    "seebecks=Array{Float64}(length(Ts))\n",
    "numofnsout=Array{Float64}(length(Ts))\n",
    "tauACs=Array{Float64}(length(Es),length(Ts))\n",
    "tauPOPs=Array{Float64}(length(Es),length(Ts))\n",
    "tauIIs=Array{Float64}(length(Es),length(Ts))\n",
    "tauTOTs=Array{Float64}(length(Es),length(Ts))\n",
    "taugetTOTs=Array{Float64}(length(Es),length(Ts))\n",
    "bandX3out=Array{Float64}(length(Es),length(Ts))\n",
    "bandX1out=Array{Float64}(length(Es),length(Ts))\n",
    "bandLHout=Array{Float64}(length(Es),length(Ts))\n",
    "bandHHout=Array{Float64}(length(Es),length(Ts))\n",
    "sigmaDX1out=Array{Float64}(length(Es),length(Ts))\n",
    "sigmaDX3out=Array{Float64}(length(Es),length(Ts))\n",
    "xSn=x\n",
    "\n",
    "Efout=Fermilevel_n(NII/1e6,bndstTx,Ts[1],3.0)\n",
    "\n",
    "for (j,Tx) in enumerate(Ts) \n",
    "    bndstTx.var[1]=Tx    \n",
    "    tauTOTTx.variables[2]=Tx    \n",
    "    types.updatebnstTx(bndstTx)   \n",
    "    sigmas[j]=sigma_Multiband(tauTOTTx,bndstTx,Ef,Tx)     \n",
    "    seebecks[j]=seebeck_Multiband(tauTOTTx,bndstTx,Ef,Tx)        \n",
    "    for (l,Ex) in enumerate(Es)\n",
    "        bandLHout[l,j]=getDOS_SingleBand_E(bandLH,Ex)\n",
    "        bandHHout[l,j]=getDOS_SingleBand_E(bandHH,Ex)\n",
    "        bandX1out[l,j]=getDOS_SingleBand_E(bandX1,Ex)\n",
    "        bandX3out[l,j]=getDOS_SingleBand_E(bandX3,Ex)\n",
    "        sigmaDX3out[l,j]=sigmaD(tauTOTTx,bandX3,Ex,Ef,Tx)\n",
    "        sigmaDX1out[l,j]=sigmaD(tauTOTTx,bandX3,Ex,Ef,Tx)\n",
    "        tauPOPs[l,j]=tauPOP_func(epsilon0_x(xSn),epsilonhf_x(xSn),bandX3,Ef,Tx,bandX3.effMass,Ex,\n",
    "        tauPOPIIint(Ef,Tx,xSn,bandX3),NII)\n",
    "        tauIIs[l,j]=tauII_func(epsilon0_x(xSn),epsilonhf_x(xSn),bandX3,Ef,Tx,NII,bandX3.effMass,Ex,\n",
    "        tauPOPIIint(Ef,Tx,xSn,bandX3))\n",
    "        tauACs[l,j]=tauAC_func(Cl(xSn),acPhDa(xSn),Tx,bandX3.effMass,Ex,bandX3)\n",
    "        tauTOTs[l,j]=1/(1/tauPOPs[l,j]+1/tauIIs[l,j]+1/tauACs[l,j]) \n",
    "            #var array: var[1]: effMass , var[2]:T, var[3]:E, var[4]:x, var[5]:Ef, var[6]:band, var[7]:NII\n",
    "        tauTOTTx.variables[1]=bandX3.effMass\n",
    "        tauTOTTx.variables[6]=bandX3\n",
    "        taugetTOTs[l,j]=get_tau(tauTOTTx,Ex)\n",
    "        \n",
    "    end\n",
    "end\n",
    "println(\"Ef found: \",Efout)\n",
    "#=figure()\n",
    "plot(Es,tauACs[:,1])\n",
    "plot(Es,tauACs[:,6])\n",
    "plot(Es,tauACs[:,12])\n",
    "title(\"AC tau\")\n",
    "figure()\n",
    "plot(Es,tauPOPs[:,1])\n",
    "plot(Es,tauPOPs[:,6])\n",
    "plot(Es,tauPOPs[:,12])\n",
    "title(\"POP tau\")\n",
    "figure()\n",
    "plot(Es,tauIIs[:,1])\n",
    "plot(Es,tauIIs[:,6])\n",
    "plot(Es,tauIIs[:,12])\n",
    "#ylim(0.021,0.0225)\n",
    "title(\"II tau\")\n",
    "figure()\n",
    "plot(Es,tauTOTs[:,1])\n",
    "plot(Es,tauTOTs[:,6])\n",
    "plot(Es,tauTOTs[:,12])\n",
    "title(\"TOT tau\")\n",
    "figure()\n",
    "plot(Es,taugetTOTs[:,1])\n",
    "plot(Es,taugetTOTs[:,6])\n",
    "plot(Es,taugetTOTs[:,12])\n",
    "figure()\n",
    "plot(Es,bandX3out[:,1])\n",
    "plot(Es,bandX3out[:,6])\n",
    "plot(Es,bandX3out[:,12])\n",
    "plot(Es,bandX1out[:,1])\n",
    "plot(Es,bandX1out[:,6])\n",
    "plot(Es,bandX1out[:,12])\n",
    "#plot(Es,bandHHout[:,1,1])\n",
    "#plot(Es,bandHHout[:,6,1])\n",
    "#plot(Es,bandHHout[:,12,1])\n",
    "#plot(Es,bandLHout[:,1,1])\n",
    "#plot(Es,bandLHout[:,6,1])\n",
    "#plot(Es,bandLHout[:,12,1])\n",
    "title(\"Band Structure\")\n",
    "figure()\n",
    "plot(Es,sigmaDX3out[:,1])\n",
    "title(\"Differential Cond.\")=#\n",
    "figure()\n",
    "plot(Ts,sigmas/100)\n",
    "plot(TKMg2Si01T,TKMg2Si01S, linestyle=\"None\",marker=\".\",markersize=20)\n",
    "plot(TKMg2Si03T,TKMg2Si03S, linestyle=\"None\",marker=\".\",markersize=20)\n",
    "plot(TKMg2Si05T,TKMg2Si05S, linestyle=\"None\",marker=\".\",markersize=20)\n",
    "plot(TKMg2Si1T,TKMg2Si1S, linestyle=\"None\",marker=\".\",markersize=20)\n",
    "#plot(TKMg2Sn1T,TKMg2Sn1S, linestyle=\"None\",marker=\".\",markersize=20)\n",
    "#ylim(0,1600)\n",
    "figure()\n",
    "plot(Ts,-1e6*seebecks) \n",
    "plot(TKMg2Si01TS,TKMg2Si01Se, linestyle=\"None\",marker=\".\",markersize=20)\n",
    "plot(TKMg2Si03TS,TKMg2Si03Se, linestyle=\"None\",marker=\".\",markersize=20)\n",
    "plot(TKMg2Si05TS,TKMg2Si05Se, linestyle=\"None\",marker=\".\",markersize=20)\n",
    "plot(TKMg2Si1TS,TKMg2Si1Se, linestyle=\"None\",marker=\".\",markersize=20)\n",
    "#plot(TKMg2Sn1TS,TKMg2Sn1Se, linestyle=\"None\",marker=\".\",markersize=20)\n",
    "ylim(0,600)"
   ]
  },
  {
   "cell_type": "code",
   "execution_count": 39,
   "metadata": {
    "collapsed": false
   },
   "outputs": [
    {
     "data": {
      "text/plain": [
       "13-element Array{Float64,1}:\n",
       " 1.45832e5   \n",
       " 1.06218e-314\n",
       " 1.06218e-314\n",
       " 1.06218e-314\n",
       " 1.06098e-314\n",
       " 1.06098e-314\n",
       " 1.06098e-314\n",
       " 1.06098e-314\n",
       " 1.06098e-314\n",
       " 1.06097e-314\n",
       " 1.06098e-314\n",
       " 1.06097e-314\n",
       " 1.06098e-314"
      ]
     },
     "execution_count": 39,
     "metadata": {},
     "output_type": "execute_result"
    }
   ],
   "source": [
    "sigmas\n"
   ]
  },
  {
   "cell_type": "code",
   "execution_count": 40,
   "metadata": {
    "collapsed": false
   },
   "outputs": [
    {
     "data": {
      "text/plain": [
       "1.0725163161711384"
      ]
     },
     "execution_count": 40,
     "metadata": {},
     "output_type": "execute_result"
    }
   ],
   "source": [
    "1479/1379"
   ]
  },
  {
   "cell_type": "code",
   "execution_count": 41,
   "metadata": {
    "collapsed": false
   },
   "outputs": [
    {
     "data": {
      "text/plain": [
       "1.0892006079810392"
      ]
     },
     "execution_count": 41,
     "metadata": {},
     "output_type": "execute_result"
    }
   ],
   "source": [
    "845.59/776.34"
   ]
  },
  {
   "cell_type": "code",
   "execution_count": 42,
   "metadata": {
    "collapsed": false
   },
   "outputs": [
    {
     "data": {
      "text/plain": [
       "13-element Array{Float64,1}:\n",
       " -5.46871e-5  \n",
       "  1.09734e-314\n",
       "  1.09736e-314\n",
       "  1.09736e-314\n",
       "  1.09734e-314\n",
       "  1.09734e-314\n",
       "  1.09734e-314\n",
       "  1.09734e-314\n",
       "  1.09734e-314\n",
       "  1.09734e-314\n",
       "  1.09734e-314\n",
       "  0.0         \n",
       "  0.0         "
      ]
     },
     "execution_count": 42,
     "metadata": {},
     "output_type": "execute_result"
    }
   ],
   "source": [
    "seebecks"
   ]
  },
  {
   "cell_type": "code",
   "execution_count": 43,
   "metadata": {
    "collapsed": false
   },
   "outputs": [
    {
     "data": {
      "text/plain": [
       "13-element Array{Float64,1}:\n",
       " 300.0\n",
       " 350.0\n",
       " 400.0\n",
       " 450.0\n",
       " 500.0\n",
       " 550.0\n",
       " 600.0\n",
       " 650.0\n",
       " 700.0\n",
       " 750.0\n",
       " 800.0\n",
       " 850.0\n",
       " 900.0"
      ]
     },
     "execution_count": 43,
     "metadata": {},
     "output_type": "execute_result"
    }
   ],
   "source": [
    "Ts"
   ]
  },
  {
   "cell_type": "code",
   "execution_count": null,
   "metadata": {
    "collapsed": true
   },
   "outputs": [],
   "source": []
  },
  {
   "cell_type": "code",
   "execution_count": null,
   "metadata": {
    "collapsed": true
   },
   "outputs": [],
   "source": []
  }
 ],
 "metadata": {
  "kernelspec": {
   "display_name": "Julia 0.4.6",
   "language": "julia",
   "name": "julia-0.4"
  },
  "language_info": {
   "file_extension": ".jl",
   "mimetype": "application/julia",
   "name": "julia",
   "version": "0.4.6"
  }
 },
 "nbformat": 4,
 "nbformat_minor": 0
}
