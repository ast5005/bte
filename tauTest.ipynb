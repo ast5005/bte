{
 "cells": [
  {
   "cell_type": "code",
   "execution_count": 3,
   "metadata": {
    "collapsed": false
   },
   "outputs": [
    {
     "name": "stdout",
     "output_type": "stream",
     "text": [
      "Any[4,8]\n"
     ]
    }
   ],
   "source": [
    "f(x)=x^2\n",
    "g(y)=y^3\n",
    "methodVector=[f,g]\n",
    "result=Array{Any}(length(methodVector))\n",
    "for (i,method) in enumerate(methodVector)\n",
    "    result[i]=method(2) \n",
    "end\n",
    "println(result)"
   ]
  },
  {
   "cell_type": "code",
   "execution_count": 5,
   "metadata": {
    "collapsed": false
   },
   "outputs": [
    {
     "name": "stdout",
     "output_type": "stream",
     "text": [
      "result is 1.6500427240482307e-14"
     ]
    }
   ],
   "source": [
    "using types\n",
    "using constants\n",
    "tauAC=tau_electron_AC([types.calc_tau_electron_AC],[0.5*me,300.0,00.5])\n",
    "results=types.update_tau(tauAC)\n",
    "types.calc_tau_electron_AC([0.5*me,300.0,0.5])\n",
    "print(\"result is \",convert(Float64,results[1]))"
   ]
  },
  {
   "cell_type": "code",
   "execution_count": 4,
   "metadata": {
    "collapsed": false
   },
   "outputs": [
    {
     "data": {
      "text/plain": [
       "1.4419584000000001e-18"
      ]
     },
     "execution_count": 4,
     "metadata": {},
     "output_type": "execute_result"
    }
   ],
   "source": [
    "using materialconstants\n",
    "Da"
   ]
  }
 ],
 "metadata": {
  "kernelspec": {
   "display_name": "Julia 0.4.6",
   "language": "julia",
   "name": "julia-0.4"
  },
  "language_info": {
   "file_extension": ".jl",
   "mimetype": "application/julia",
   "name": "julia",
   "version": "0.4.6"
  }
 },
 "nbformat": 4,
 "nbformat_minor": 0
}
