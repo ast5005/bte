{
 "cells": [
  {
   "cell_type": "code",
   "execution_count": 1,
   "metadata": {},
   "outputs": [
    {
     "data": {
      "text/plain": [
       "kltSA (generic function with 1 method)"
      ]
     },
     "execution_count": 1,
     "metadata": {},
     "output_type": "execute_result"
    }
   ],
   "source": [
    "push!(LOAD_PATH,pwd())\n",
    "using ProfileView\n",
    "using constants\n",
    "using types10\n",
    "using Optim\n",
    "using PyPlot\n",
    "using data\n",
    "include(\"DOSfunctions.jl\")\n",
    "include(\"userfunctions.jl\")\n",
    "include(\"propertyfuncs.jl\")"
   ]
  },
  {
   "cell_type": "code",
   "execution_count": 2,
   "metadata": {},
   "outputs": [
    {
     "data": {
      "text/plain": [
       "3.0"
      ]
     },
     "execution_count": 2,
     "metadata": {},
     "output_type": "execute_result"
    }
   ],
   "source": [
    "Eoff=5.0\n",
    "Ts=collect(300.0:10.0:900.0)\n",
    "######################################################################################\n",
    "##for Liu x=0.6 best fit x=0.635 N=-1.45e20\n",
    "######################################################################################\n",
    "numofn=[-1.5e18]#,-1.22e18,-1.02e18,-0.94e18]#-9.5e19,-1.75e20,-3.0e19,-0.9e20]#Sample 1 -3.0e19, Sample 2 -1.25e20,\n",
    "numofnn=[1e17]#,1e18,1e18,1e18]\n",
    "#Sample 3 -1.75e20, Sample Sb 0.75% -1.03e20, #\n",
    "xs=[0.6]#,0.8,0.7,0.61]#collect(0.0:0.01:1.0)\n",
    "Es=collect(0.0:0.1:3.0)\n",
    "\n",
    "var0=[Ts[1],xs[1]]\n",
    "\n",
    "EX3(var)=Eoff#+Egx3(var[1],var[2])\n",
    "EX1(var)=Ec0(var[2])+EX3(var)\n",
    "ELH(var)=Eoff-Egx3(var[1],var[2])\n",
    "EHH(var)=Eoff-Egx3(var[1],var[2])\n",
    "\n",
    "effMassX1(var)=X1effMass(var[1])*me\n",
    "effMassX3(var)=0.38*me\n",
    "effMassLH(var)=-1.0*me\n",
    "effMassHH(var)=-1.5*me\n",
    "\n",
    "alphaX1(var)=0.0#EX1(var0)\n",
    "alphaX3(var)=0.0#EX1(var0)\n",
    "alphaLH(var)=0.0#EX3(var0)\n",
    "alphaHH(var)=0.0#EX3(var0)\n",
    "\n",
    "function Da(band::parBandTx,x::Float64)\n",
    "    Da=7.0#9.0-1.5*x*x\n",
    "    Dv=1.0\n",
    "    if band==bandX3 ||  band==bandX1\n",
    "        return Da\n",
    "    end\n",
    "    if band==bandHH ||  band==bandLH\n",
    "        return Dv\n",
    "    end\n",
    "end\n",
    "\n",
    "bandX3=parBandTx(true,1.0,effMassX3(var0),alphaX3(0.0),EX3(var0),[EX3],[effMassX3],[alphaX3],var0)\n",
    "bandX1=parBandTx(true,1.0,effMassX1(var0),alphaX1(0.0),EX1(var0),[EX1],[effMassX1],[alphaX1],var0)\n",
    "bandHH=parBandTx(true,1.0,effMassHH(var0),alphaHH(0.0),EHH(var0),[EHH],[effMassHH],[alphaHH],var0)\n",
    "bandLH=parBandTx(true,1.0,effMassLH(var0),alphaLH(0.0),ELH(var0),[ELH],[effMassLH],[alphaLH],var0)\n",
    "bndstTx=BandStrucTx([bandLH,bandHH,bandX1,bandX1,bandX1,bandX3,bandX3,bandX3],var0)#\n",
    "#bndstTx=BandStrucTx([bandLH,bandX1],var0)#\n",
    "\n",
    "#vartau0=[bandC.effMass,Ts[1],Ec(var0),xs[1],Ec(var0),bandC,numofn[1]*1e6,bndstTx,numofnn[1]*1e6,bandV]\n",
    "vartau0=[bandX3.effMass,Ts[1],EX1(var0),xs[1],EX1(var0),bandX3,numofn[1]*1e6,bndstTx,numofnn[1]*1e6,bandLH]\n",
    "#var array: var[1]: effMass , var[2]:T, var[3]:E, var[4]:x, var[5]:Ef, \n",
    "#var[6]:band, var[7]:NII var[8]:bndst\n",
    "#tauAC(var)=tauAC_func(Cl(var[4]),acPhDa(var[4]),var[2],var[1],var[3],var[6])\n",
    "tauAC(var)=tauAC_func(Cl(var[4]),Da(var[6],var[4]),var[2],var[1],var[3],var[6])\n",
    "tauPOP(var)=tauPOP_func(epsilon0_x(var[4]),epsilonhf_x(var[4]),var[6],var[5],var[2],var[1]\n",
    ",var[3],tauPOPIIint(var[5],var[2],var[4],var[6]),var[7],opPhE(var[4]),var[8])\n",
    "tauPOP2(var)=tauPOP2lowN_func(epsilon0_x(var[4]),epsilonhf_x(var[4]),var[6],var[5],var[2],var[1],\n",
    "var[3],opPhE(var[4]))\n",
    "tauPOP3(var)=tauPOP3_func(epsilon0_x(var[4]),epsilonhf_x(var[4]),var[6],var[5],var[2],var[1],\n",
    "var[3],opPhE(var[4]))\n",
    "tauII2(var)=tauII2_func(epsilon0_x(var[4]),epsilonhf_x(var[4]),var[6],var[5],var[2],var[7],var[1],var[3],var[8])\n",
    "tauNI(var)=tauNI_func(epsilon0_x(var[4]),var[1],var[9])\n",
    "tauTOTTx=tau_electron_B([tauAC,tauII2,tauNI,tauPOP3],vartau0)#,tauII2,tauPOP2,tauPOP3\n",
    "\n",
    "xmax=3.0"
   ]
  },
  {
   "cell_type": "code",
   "execution_count": 3,
   "metadata": {},
   "outputs": [
    {
     "name": "stdout",
     "output_type": "stream",
     "text": [
      " 33.092496 seconds (189.11 M allocations: 39.005 GiB, 11.65% gc time)\n"
     ]
    },
    {
     "data": {
      "text/plain": [
       "3.0"
      ]
     },
     "execution_count": 3,
     "metadata": {},
     "output_type": "execute_result"
    }
   ],
   "source": [
    "@time (Efs,sigmas,seebecks,kes,kees,kehs,kbis,sigmaes,sigmahs,seebeckes,seebeckhs)=electronicPropsiso(bndstTx,xs,Ts,numofn,numofnn,tauTOTTx,xmax)\n",
    "x=3.0"
   ]
  },
  {
   "cell_type": "code",
   "execution_count": 4,
   "metadata": {},
   "outputs": [
    {
     "name": "stdout",
     "output_type": "stream",
     "text": [
      "300.0 -0.06706955755812682\n",
      "310.0 -0.07097770695190331\n",
      "320.0 -0.07494838645544899\n",
      "330.0 -0.0789789074122158\n",
      "340.0 -0.0830660424675731\n",
      "350.0 -0.08720564068233916\n",
      "360.0 -0.09139205547571283\n",
      "370.0 -0.09561732670331047\n",
      "380.0 -0.09987006174898916\n",
      "390.0 -0.10413398799664719\n",
      "400.0 -0.10838622196567371\n",
      "410.0 -0.11259544575251823\n",
      "420.0 -0.11672041555510848\n",
      "430.0 -0.12070951468275748\n",
      "440.0 -0.12450225740364207\n",
      "450.0 -0.1280334740123683\n",
      "460.0 -0.13124011017802673\n",
      "470.0 -0.13406928927884376\n",
      "480.0 -0.13648526177837716\n",
      "490.0 -0.13847300237354432\n",
      "500.0 -0.1400376187786989\n",
      "510.0 -0.14120044802161136\n",
      "520.0 -0.14199364077344612\n",
      "530.0 -0.14245489848496984\n",
      "540.0 -0.14262332854383253\n",
      "550.0 -0.14253666670094667\n",
      "560.0 -0.14222958883216297\n",
      "570.0 -0.14173309875200424\n",
      "580.0 -0.1410743388559066\n",
      "590.0 -0.14027676252861188\n",
      "600.0 -0.13936046843721162\n",
      "610.0 -0.13834259547870076\n",
      "620.0 -0.1372377207159694\n",
      "630.0 -0.13605823057535993\n",
      "640.0 -0.1348146523552307\n",
      "650.0 -0.13351594257031252\n",
      "660.0 -0.13216973363187812\n",
      "670.0 -0.13078254269096146\n",
      "680.0 -0.12935994731132272\n",
      "690.0 -0.12790673268684127\n",
      "700.0 -0.12642701477952833\n",
      "710.0 -0.12492434325686741\n",
      "720.0 -0.12340178757200349\n",
      "730.0 -0.12186200901988986\n",
      "740.0 -0.12030732114326259\n",
      "750.0 -0.11873974046378777\n",
      "760.0 -0.11716102917503335\n",
      "770.0 -0.11557273115004918\n",
      "780.0 -0.11397620238051331\n",
      "790.0 -0.11237263676960474\n",
      "800.0 -0.11076308804037094\n",
      "810.0 -0.10914848838953617\n",
      "820.0 -0.10752966440852951\n",
      "830.0 -0.10590735070452517\n",
      "840.0 -0.10428220158132628\n",
      "850.0 -0.10265480107976543\n",
      "860.0 -0.10102567162776843\n",
      "870.0 -0.09939528150937438\n",
      "880.0 -0.0977640513281699\n",
      "890.0 -0.09613235961260624\n",
      "900.0 -0.09450054768739413\n"
     ]
    }
   ],
   "source": [
    "foreach(x->println(Ts[x],\" \",Efs[x,1,1,]-Eoff),1:length(Ts))"
   ]
  },
  {
   "cell_type": "code",
   "execution_count": 5,
   "metadata": {},
   "outputs": [
    {
     "ename": "MethodError",
     "evalue": "MethodError: no method matching -(::Array{Float64,1}, ::Float64)\nClosest candidates are:\n  -(!Matched::Float64, ::Float64) at float.jl:397\n  -(!Matched::Complex{Bool}, ::Real) at complex.jl:298\n  -(!Matched::Missing, ::Number) at missing.jl:93\n  ...",
     "output_type": "error",
     "traceback": [
      "MethodError: no method matching -(::Array{Float64,1}, ::Float64)\nClosest candidates are:\n  -(!Matched::Float64, ::Float64) at float.jl:397\n  -(!Matched::Complex{Bool}, ::Real) at complex.jl:298\n  -(!Matched::Missing, ::Number) at missing.jl:93\n  ...",
      "",
      "Stacktrace:",
      " [1] top-level scope at In[5]:1"
     ]
    }
   ],
   "source": [
    "plot(Ts,Efs[:,1,1]-Eoff,linestyle=\"-\",marker=\"o\",color=\"c\")\n",
    "#ylim(0,7)\n",
    "grid()"
   ]
  },
  {
   "cell_type": "code",
   "execution_count": 6,
   "metadata": {},
   "outputs": [
    {
     "data": {
      "image/png": "[encoded data removed]",
      "text/plain": [
       "Figure(PyObject <matplotlib.figure.Figure object at 0x7fe52ecf7940>)"
      ]
     },
     "metadata": {},
     "output_type": "display_data"
    }
   ],
   "source": [
    "plot(Ts,sigmaes[:,1,1]/100,linestyle=\"-\",marker=\"o\",color=\"c\")\n",
    "#ylim(0,7)\n",
    "grid()"
   ]
  },
  {
   "cell_type": "code",
   "execution_count": 7,
   "metadata": {},
   "outputs": [
    {
     "data": {
      "text/plain": [
       "61-element Array{Float64,1}:\n",
       " 300.0\n",
       " 310.0\n",
       " 320.0\n",
       " 330.0\n",
       " 340.0\n",
       " 350.0\n",
       " 360.0\n",
       " 370.0\n",
       " 380.0\n",
       " 390.0\n",
       " 400.0\n",
       " 410.0\n",
       " 420.0\n",
       "   ⋮  \n",
       " 790.0\n",
       " 800.0\n",
       " 810.0\n",
       " 820.0\n",
       " 830.0\n",
       " 840.0\n",
       " 850.0\n",
       " 860.0\n",
       " 870.0\n",
       " 880.0\n",
       " 890.0\n",
       " 900.0"
      ]
     },
     "execution_count": 7,
     "metadata": {},
     "output_type": "execute_result"
    }
   ],
   "source": [
    "Ts"
   ]
  },
  {
   "cell_type": "code",
   "execution_count": 8,
   "metadata": {},
   "outputs": [
    {
     "data": {
      "image/png": "[encoded data removed]",
      "text/plain": [
       "Figure(PyObject <matplotlib.figure.Figure object at 0x7fe52e805cc0>)"
      ]
     },
     "metadata": {},
     "output_type": "display_data"
    }
   ],
   "source": [
    "plot(Ts,kbis[:,1,1],linestyle=\"-\",color=\"c\")\n",
    "#ylim(0,7)\n",
    "grid()"
   ]
  },
  {
   "cell_type": "code",
   "execution_count": 9,
   "metadata": {},
   "outputs": [
    {
     "data": {
      "image/png": "[encoded data removed]",
      "text/plain": [
       "Figure(PyObject <matplotlib.figure.Figure object at 0x7fe52e74c710>)"
      ]
     },
     "metadata": {},
     "output_type": "display_data"
    }
   ],
   "source": [
    "plot(Ts,seebecks[:,1,1]*1e6,linestyle=\"-\",color=\"c\")\n",
    "#plot(Ts,seebeckes[:,1,1]*1e6,linestyle=\"-\",color=\"y\")\n",
    "#plot(Ts,seebeckhs[:,1,1]*1e6,linestyle=\"-\",color=\"k\")\n",
    "#ylim(-250,-0)\n",
    "grid()"
   ]
  },
  {
   "cell_type": "code",
   "execution_count": 10,
   "metadata": {
    "scrolled": false
   },
   "outputs": [
    {
     "data": {
      "image/png": "[encoded data removed]",
      "text/plain": [
       "Figure(PyObject <matplotlib.figure.Figure object at 0x7fe506fa1400>)"
      ]
     },
     "metadata": {},
     "output_type": "display_data"
    }
   ],
   "source": [
    "plot(Ts,sigmas[:,1,1]/100,linestyle=\"-\",color=\"c\")\n",
    "#ylim(0,3500)\n",
    "grid()"
   ]
  },
  {
   "cell_type": "code",
   "execution_count": 11,
   "metadata": {},
   "outputs": [],
   "source": [
    "T_EF_Dict=Dict()\n",
    "for (Ti,Tx) in enumerate(Ts)\n",
    "    T_EF_Dict[Tx]=(Efs[Ti])    \n",
    "end\n",
    "T_EF_Dict_Array=Array{Dict{Float64,Float64},2}(undef,length(numofn),length(xs))\n",
    "Dict_temp=Dict()\n",
    "Efsr=Array{Float64,3}(undef,length(Ts),length(numofn),length(xs))\n",
    "for (j,jn) in enumerate(numofn)\n",
    "    for (k,kx) in enumerate(xs) \n",
    "        for (i,iT) in enumerate(Ts)\n",
    "            Efsr[i,j,k]=Efs[i,j,k]-EX3(0.0)\n",
    "            Dict_temp[iT]=Efsr[i,j,k]\n",
    "            T_EF_Dict_Array[j,k]=Dict_temp \n",
    "        end\n",
    "    end\n",
    "end\n",
    "#foreach(i->println(\"$i= \",Ts[i]),1:length(Ts))\n",
    "#Efsr"
   ]
  },
  {
   "cell_type": "code",
   "execution_count": 12,
   "metadata": {},
   "outputs": [
    {
     "data": {
      "text/plain": [
       "1.0"
      ]
     },
     "execution_count": 12,
     "metadata": {},
     "output_type": "execute_result"
    }
   ],
   "source": [
    "#println(\"-1\")\n",
    "#############Lattice Thermal Conductivity Parameters###############\n",
    "\n",
    "function klpar(con::Float64,p::Float64,NP::Float64)\n",
    "    thetaL=52.3e12*hbar/kB # K \n",
    "    thetaT=29.7e12*hbar/kB  # K\n",
    "    vL=(1-con)*7700+con*4900    # m/s\n",
    "    vT=(1-con)*4900+con*3000    # m/s\n",
    "    gammaL=2.5*(1-con)+1.7*con\n",
    "    gammaT=2.5*(1-con)+1.7*con\n",
    "    M=(2*(24.305e-3)+(28.0855e-3*(1-con)+118.71e-3*con))/3/Nav\n",
    "    V=((1-con)*(6.39e-10)^3+con*(6.77e-10)^3)/12\n",
    "    a=V^(1.0/3.0)\n",
    "    ro=M/V\n",
    "    Vdj=(((6.39e-10)^3)/((1-con)*(6.39e-10)^3+con*(6.77e-10)^3))^(1/3)\n",
    "    jL=vL/7700*Vdj\n",
    "    jT=vT/4900*Vdj\n",
    "    thetaLx=thetaL*jL\n",
    "    thetaTx=thetaT*jT\n",
    "    ##########Boundary Scattering###############3\n",
    "    D=11e-9\n",
    "    #p=1.0\n",
    "    ##########Alloy Scattering###################\n",
    "    mbar=(28.0855*(1-con)+118.71*con)\n",
    "    GammaSiSn=(1-con)*((28.0855-mbar)/mbar)^2+con*((118.71-mbar)/mbar)^2\n",
    "    GammaMgSiSn=2*((mbar/(24.305+mbar))^2*GammaSiSn);         \n",
    "    ##########Electron Scattering###################\n",
    "    Eep=5.0*q\n",
    "    xsp=xs[1]\n",
    "    Tp=300.0\n",
    "    mdx1=0.67*me\n",
    "    mdx3=0.38*me\n",
    "    Efx3=0.2589\n",
    "    Efx1=0.2589\n",
    "    ##########Nanoparticle Scattering###################\n",
    "    #NP=0\n",
    "    #alpha=1.0\n",
    "    Rnp=1/2*15.0e-9#\n",
    "    Vnp=4/3*pi*(Rnp)^3\n",
    "    rhonp=NP/100/Vnp\n",
    "    rhoM=3.0\n",
    "    rhoT=3.78\n",
    "    alphaNP=0.2289#1-exp(-1*(rhoT-rhoM)/rhoM);\n",
    "#vartauPH0=[[0.02],Ts[1],gammaL,gammaT,xsp,thetaCLx,thetaCTx,thetaCTx,MSi,MGe,VSi,a,T_EF_Dict,0.0]\n",
    "    Tsindex=1#25\n",
    "    numberofnindex=1\n",
    "    xsindex=1\n",
    "    vartauPH0=[ [0.02],  Ts[1],   gammaL,  gammaT, con,#5\n",
    "        thetaLx, thetaTx, thetaTx, M,   M, #10\n",
    "        V, a, T_EF_Dict_Array, Eep, alphaNP, #15\n",
    "        Rnp, thetaLx, thetaTx, vL, vT, #20\n",
    "        vL, vT, p, NP,Tsindex,#25\n",
    "        numberofnindex,xsindex,p,D,GammaMgSiSn,#30\n",
    "        mdx1,mdx3,Efx1,Efx3,ro,#35,\n",
    "        NP,alphaNP,Rnp,Vnp,rhonp #40\n",
    "        ]  \n",
    "    thetaCLx=thetaCL(vartauPH0[12],vartauPH0[5],vartauPH0[17],vartauPH0[19],vartauPH0[11])\n",
    "    thetaCTx=thetaCT(vartauPH0[12],vartauPH0[5],vartauPH0[18],vartauPH0[19],vartauPH0[11])\n",
    "    #println(\"2\")\n",
    "    tauPHNLf(var)=tauPH_NL(var[3],var[11],var[1],var[2],var[9],var[21])\n",
    "    tauPHNTf(var)=tauPH_NT(var[4],var[11],var[1],var[2],var[9],var[22]) \n",
    "\n",
    "    tauPHULf(var)=tauPH_U(var[3],var[1],var[2],var[9],var[19],var[17])\n",
    "    tauPHUTf(var)=tauPH_U(var[4],var[1],var[2],var[9],var[20],var[18])\n",
    "\n",
    "    tauPHALLLf(var)=tauPH_ALL(var[30],var[11],var[1],var[2],var[19])\n",
    "    tauPHALLTf(var)=tauPH_ALL(var[30],var[11],var[1],var[2],var[20])\n",
    "\n",
    "    tauPHeLfX3(var)=tauPH_e(var[14],var[32],var[35],(var[13][var[26],var[27]])[var[2]],var[1],var[2],var[21])\n",
    "    tauPHeTfX3(var)=tauPH_e(var[14],var[32],var[35],(var[13][var[26],var[27]])[var[2]],var[1],var[2],var[22])\n",
    "\n",
    "    tauPHeLfX1(var)=tauPH_e(var[14],X1effMass(var[2])*me,var[35],(var[13][var[26],var[27]])[var[2]]-Ec0(0.6)\n",
    "        ,var[1],var[2],var[21])\n",
    "    tauPHeTfX1(var)=tauPH_e(var[14],X1effMass(var[2])*me,var[35],(var[13][var[26],var[27]])[var[2]]-Ec0(0.6)\n",
    "        ,var[1],var[2],var[22])\n",
    "\n",
    "    tauPHBLf(var)=tauPH_B(var[19],var[28],var[29])\n",
    "    tauPHBTf(var)=tauPH_B(var[20],var[28],var[29])\n",
    "    #println(\"3\")\n",
    "\n",
    "    tauPHNPLf(var)=tauPH_NP(var[37],var[40],var[38],var[1],var[2],var[19])\n",
    "    tauPHNPTf(var)=tauPH_NP(var[37],var[40],var[38],var[1],var[2],var[20])\n",
    "\n",
    "    tauPHTOTL=tau_phonon_B([tauPHNLf,tauPHULf,tauPHBLf,tauPHALLLf,tauPHeLfX3,tauPHeLfX1,tauPHNPLf],vartauPH0)#,tauPHNPLf,tauPHALLLf,tauPHeLf,tauPH_eLf ,tauPHALLLf ,tauPHBLf,,tauPHULf\n",
    "    tauPHNL=tau_phonon_B([tauPHNLf],vartauPH0)\n",
    "    tauPHRL=tau_phonon_B([tauPHULf,tauPHBLf,tauPHALLLf,tauPHeLfX3,tauPHeLfX1,tauPHNPLf],vartauPH0) #,tauPHNPLf,tauPHALLLf,tauPHeLf,tauPHALLLf,tauPH_eLf] ,tauPHBLf\n",
    "\n",
    "    tauPHTOTTx=tau_phonon_B([tauPHNTf,tauPHUTf,tauPHALLTf,tauPHeTfX3,tauPHeTfX1,tauPHBTf,tauPHNPTf],vartauPH0) #,tauPHNPTf,tauPHALLTf,tauPHeTf,tauPHALLTf,tauPH_eTf ,tauPHBTf\n",
    "    tauPHNTx=tau_phonon_B([tauPHNTf],vartauPH0)\n",
    "    tauPHRTx=tau_phonon_B([tauPHUTf,tauPHALLTf,tauPHeTfX3,tauPHeTfX1,tauPHBTf,tauPHNPTf],vartauPH0) #,tauPHNPTf,tauPHALLTf,tauPHeTf,tauPHALLTf,tauPH_eTf ,tauPHBTf#\n",
    "\n",
    "    tauPHTOTTy=tau_phonon_B([tauPHNTf,tauPHUTf,tauPHBTf,tauPHALLTf,tauPHeTfX3,tauPHeTfX1,tauPHNPTf],vartauPH0) #,tauPHNPTf,tauPHALLTf,tauPHeTf,tauPHALLTf,tauPH_eTf tauPHBTf\n",
    "    tauPHNTy=tau_phonon_B([tauPHNTf],vartauPH0)\n",
    "    tauPHRTy=tau_phonon_B([tauPHUTf,tauPHBTf,tauPHALLTf,tauPHeTfX3,tauPHeTfX1,tauPHNPTf],vartauPH0) #,tauPHNPTf,tauPHALLTf,tauPH_eTf ,tauPHBTf,tauPHALLTf,tauPHeTf\n",
    "    #println(\"4\")\n",
    "    tauPHL=[tauPHTOTL,tauPHNL,tauPHRL]\n",
    "    tauPHTx=[tauPHTOTTx,tauPHNTx,tauPHRTx]\n",
    "    tauPHTy=[tauPHTOTTx,tauPHNTx,tauPHRTx]\n",
    "    return (vartauPH0,tauPHTOTL,tauPHNL,tauPHRL,tauPHTOTTx,tauPHNTx,tauPHRTx,tauPHTOTTy,tauPHNTy,tauPHRTy,tauPHL,tauPHTx,tauPHTy)\n",
    "end\n",
    "xmax=1.0"
   ]
  },
  {
   "cell_type": "code",
   "execution_count": 13,
   "metadata": {},
   "outputs": [],
   "source": [
    "(vartauPH0,tauPHTOTL,tauPHNL,tauPHRL,tauPHTOTTx,tauPHNTx,tauPHRTx,tauPHTOTTy,tauPHNTy,tauPHRTy,tauPHL,tauPHTx,tauPHTy)=klpar(0.6,0.65,5.0)\n",
    "klsM=Array{Float64}(undef,length(Ts),length(numofn),length(xs))\n",
    "for (iT,iTx) in enumerate(Ts)    \n",
    "   (IL1,ITx1,IL2,ITx2,IL3,ITx3,kL,kTx,kTy,klsM[iT,1,1])= klt(tauPHTOTL,tauPHNL,tauPHRL,tauPHTOTTx,tauPHNTx,tauPHRTx,tauPHTOTTy,tauPHNTy,\n",
    "        tauPHRTy,iTx,[vartauPH0[21],vartauPH0[22],vartauPH0[22]])\n",
    "    #println(\"T=\", iTx, \" kl= \" ,round(klsM[iT,1,1]*10000)/10000)\n",
    "   # println(\"IL1= \",IL1,\" IL2= \",IL2,\" IL3= \",IL3,\" ITx1= \",ITx1,\" ITx2= \",ITx2,\" ITx3= \",ITx3,\" kL/3=\",kL,    \" kTx/3=\",kTx,\" kTy/3=\",kTy)\n",
    "end"
   ]
  },
  {
   "cell_type": "code",
   "execution_count": 14,
   "metadata": {},
   "outputs": [
    {
     "name": "stdout",
     "output_type": "stream",
     "text": [
      "0.8391673983655618\n",
      "0.8233079331642417\n",
      "0.8080333573883811\n",
      "0.7933364598155913\n",
      "0.7792074371756733\n",
      "0.7656344077450384\n",
      "0.7526038281648795\n",
      "0.7401008396972927\n",
      "0.7281095616625026\n",
      "0.7166133439329573\n",
      "0.7055949864409773\n",
      "0.6950369311492044\n",
      "0.6849214303967907\n",
      "0.6752306945867544\n",
      "0.6659470214704644\n",
      "0.6570529085317921\n",
      "0.6485311491045741\n",
      "0.6403649121576492\n",
      "0.6325378056593781\n",
      "0.6250339242902342\n",
      "0.6178378835011827\n",
      "0.6109348426689581\n",
      "0.6043105199800632\n",
      "0.5979512009807701\n",
      "0.5918437420065311\n",
      "0.5859755692102545\n",
      "0.5803346735596626\n",
      "0.57490960270515\n",
      "0.5696894497429587\n",
      "0.5646638396127905\n",
      "0.5598229135615255\n",
      "0.5551573121197781\n",
      "0.5506581569923836\n",
      "0.5463170322134859\n",
      "0.5421259648665707\n",
      "0.5380774056222607\n",
      "0.534164209303484\n",
      "0.5303796156491892\n",
      "0.5267172304141906\n",
      "0.5231710069137302\n",
      "0.5197352280964965\n",
      "0.5164044892088281\n",
      "0.5131736810950723\n",
      "0.5100379741643116\n",
      "0.506992803041365\n",
      "0.5040338519099211\n",
      "0.5011570405474471\n",
      "0.49835851104493356\n",
      "0.4956346151992707\n",
      "0.49298190256201474\n",
      "0.49039710912514084\n",
      "0.48787714662211945\n",
      "0.485419092420984\n",
      "0.4830201799850273\n",
      "0.4806777898761083\n",
      "0.47838944127535976\n",
      "0.4761527839960938\n",
      "0.47396559096405566\n",
      "0.4718257511406197\n",
      "0.46973126286518835\n",
      "0.4676802275937748\n"
     ]
    }
   ],
   "source": [
    "foreach(x->println(klsM[x,1,1]),1:length(Ts))"
   ]
  },
  {
   "cell_type": "code",
   "execution_count": 15,
   "metadata": {},
   "outputs": [
    {
     "data": {
      "image/png": "[encoded data removed]",
      "text/plain": [
       "Figure(PyObject <matplotlib.figure.Figure object at 0x7fe52e7b4d68>)"
      ]
     },
     "metadata": {},
     "output_type": "display_data"
    }
   ],
   "source": [
    "plot(Ts,klsM[:,1,1],linestyle=\"-\",color=\"b\")\n",
    "grid()"
   ]
  },
  {
   "cell_type": "code",
   "execution_count": 16,
   "metadata": {},
   "outputs": [],
   "source": [
    "(vartauPH0,tauPHTOTL,tauPHNL,tauPHRL,tauPHTOTTx,tauPHNTx,tauPHRTx,tauPHTOTTy,tauPHNTy,tauPHRTy,tauPHL,tauPHTx,tauPHTy)=klpar(0.0,0.65,5.0)\n",
    "kls0=Array{Float64}(undef,length(Ts),length(numofn),length(xs))\n",
    "for (iT,iTx) in enumerate(Ts)    \n",
    "   (IL1,ITx1,IL2,ITx2,IL3,ITx3,kL,kTx,kTy,kls0[iT,1,1])= klt(tauPHTOTL,tauPHNL,tauPHRL,tauPHTOTTx,tauPHNTx,tauPHRTx,tauPHTOTTy,tauPHNTy,tauPHRTy,iTx,[vartauPH0[21],vartauPH0[22],vartauPH0[22]])\n",
    "    #println(\"T=\", iTx, \" kl= \" ,round(kls0[iT,1,1]*10000)/10000)\n",
    "    #println(\"IL1= \",IL1,\" IL2= \",IL2,\" IL3= \",IL3,\" ITx1= \",ITx1,\" ITx2= \",ITx2,\" ITx3= \",ITx3,\" kL/3=\",kL,    \" kTx/3=\",kTx,\" kTy/3=\",kTy)\n",
    "end"
   ]
  },
  {
   "cell_type": "code",
   "execution_count": 17,
   "metadata": {},
   "outputs": [
    {
     "name": "stdout",
     "output_type": "stream",
     "text": [
      "5.5184323124825845\n",
      "5.385300244972238\n",
      "5.256969376414878\n",
      "5.13333218847795\n",
      "5.014258959946293\n",
      "4.89960498878898\n",
      "4.789216106614551\n",
      "4.682932872160025\n",
      "4.580593741551018\n",
      "4.4820374453910485\n",
      "4.387104751151517\n",
      "4.295639749998113\n",
      "4.2074907771562176\n",
      "4.1225110517638734\n",
      "4.04055910370258\n",
      "3.9614990391879954\n",
      "3.8852006827718335\n",
      "3.81153962127784\n",
      "3.7403971669822234\n",
      "3.671660254420949\n",
      "3.605221286088771\n",
      "3.54097794331248\n",
      "3.4788329771090942\n",
      "3.418693990132614\n",
      "3.3604732167804805\n",
      "3.304087305344261\n",
      "3.2494571034458115\n",
      "3.1965074502407202\n",
      "3.1451669737612407\n",
      "3.0953678953052637\n",
      "3.04704584111494\n",
      "3.000139661708507\n",
      "2.954591259098439\n",
      "2.910345422007317\n",
      "2.8673496690858227\n",
      "2.8255541000475493\n",
      "2.7849112545636068\n",
      "2.745375978704771\n",
      "2.706905298678297\n",
      "2.6694583015780906\n",
      "2.632996022848655\n",
      "2.5974813401529295\n",
      "2.5628788733302046\n",
      "2.529154890131339\n",
      "2.4962772174231915\n",
      "2.4642151575617315\n",
      "2.4329394096427515\n",
      "2.4024219953501214\n",
      "2.37263618913319\n",
      "2.3435564524575354\n",
      "2.3151583718856616\n",
      "2.2874186007570176\n",
      "2.2603148042491594\n",
      "2.233825607614056\n",
      "2.2079305473954713\n",
      "2.182610025444672\n",
      "2.157845265562694\n",
      "2.1336182726078685\n",
      "2.109911793917158\n",
      "2.086709282899321\n",
      "2.0639948646667627\n"
     ]
    }
   ],
   "source": [
    "foreach(x->println(kls0[x,1,1]),1:length(Ts))"
   ]
  },
  {
   "cell_type": "code",
   "execution_count": 18,
   "metadata": {},
   "outputs": [],
   "source": [
    "(vartauPH0,tauPHTOTL,tauPHNL,tauPHRL,tauPHTOTTx,tauPHNTx,tauPHRTx,tauPHTOTTy,tauPHNTy,tauPHRTy,tauPHL,tauPHTx,tauPHTy)=klpar(1.0,0.5,5.0)\n",
    "kls1=Array{Float64}(undef,length(Ts),length(numofn),length(xs))\n",
    "for (iT,iTx) in enumerate(Ts)    \n",
    "   (IL1,ITx1,IL2,ITx2,IL3,ITx3,kL,kTx,kTy,kls1[iT,1,1])= klt(tauPHTOTL,tauPHNL,tauPHRL,tauPHTOTTx,tauPHNTx,tauPHRTx,tauPHTOTTy,tauPHNTy,tauPHRTy,iTx,[vartauPH0[21],vartauPH0[22],vartauPH0[22]])\n",
    "   # println(\"T=\", iTx, \" kl= \" ,round(kls1[iT,1,1]*10000)/10000)\n",
    "   # println(\"IL1= \",IL1,\" IL2= \",IL2,\" IL3= \",IL3,\" ITx1= \",ITx1,\" ITx2= \",ITx2,\" ITx3= \",ITx3,\" kL/3=\",kL,    \" kTx/3=\",kTx,\" kTy/3=\",kTy)\n",
    "end"
   ]
  },
  {
   "cell_type": "code",
   "execution_count": 19,
   "metadata": {},
   "outputs": [
    {
     "name": "stdout",
     "output_type": "stream",
     "text": [
      "3.187633307885672\n",
      "3.1397061396312758\n",
      "3.0929280060820514\n",
      "3.047291267459777\n",
      "3.00278222560468\n",
      "2.959382625036648\n",
      "2.9170708319157814\n",
      "2.8758227610604905\n",
      "2.8356126049952075\n",
      "2.7964134068408266\n",
      "2.7581975097284777\n",
      "2.7209369085952644\n",
      "2.684603525166215\n",
      "2.6491694231445417\n",
      "2.614606977555311\n",
      "2.580889009166589\n",
      "2.5479888914857383\n",
      "2.515880634246709\n",
      "2.48453894470483\n",
      "2.4539392675957488\n",
      "2.424057806106658\n",
      "2.3948715280278687\n",
      "2.3663581618687943\n",
      "2.338496186932216\n",
      "2.311264819983784\n",
      "2.2846439998871286\n",
      "2.2586143702903776\n",
      "2.2331572620875453\n",
      "2.208254674331957\n",
      "2.1838892545689257\n",
      "2.160044278632963\n",
      "2.136703630109324\n",
      "2.113851779648359\n",
      "2.0914737643014623\n",
      "2.0695551670232644\n",
      "2.0480820964600808\n",
      "2.0270411671210717\n",
      "2.006419480007578\n",
      "1.9862046037577439\n",
      "1.9663845563480937\n",
      "1.9469477873807002\n",
      "1.927883160974039\n",
      "1.9091799392668136\n",
      "1.890827766537187\n",
      "1.8728166539341229\n",
      "1.8551369648132383\n",
      "1.8377794006660622\n",
      "1.8207349876290104\n",
      "1.8039950635563713\n",
      "1.7875512656401649\n",
      "1.7713955185588055\n",
      "1.7555200231357482\n",
      "1.7399172454890575\n",
      "1.7245799066526535\n",
      "1.7095009726500916\n",
      "1.6946736450019333\n",
      "1.6800913516480929\n",
      "1.6657477382669958\n",
      "1.651636659973806\n",
      "1.6377521733806002\n",
      "1.6240885290018605\n"
     ]
    }
   ],
   "source": [
    "foreach(x->println(kls1[x,1,1]),1:length(Ts))"
   ]
  },
  {
   "cell_type": "code",
   "execution_count": 20,
   "metadata": {},
   "outputs": [
    {
     "data": {
      "image/png": "[encoded data removed]",
      "text/plain": [
       "Figure(PyObject <matplotlib.figure.Figure object at 0x7fe50701c8d0>)"
      ]
     },
     "metadata": {},
     "output_type": "display_data"
    }
   ],
   "source": [
    "plot(Ts,klsM[:,1,1],linestyle=\"-\",color=\"b\")\n",
    "plot(Ts,kls0[:,1,1],linestyle=\"-\",color=\"r\")\n",
    "\n",
    "plot(Ts,kls1[:,1,1],linestyle=\"-\",color=\"k\")\n",
    "grid()"
   ]
  },
  {
   "cell_type": "code",
   "execution_count": 21,
   "metadata": {},
   "outputs": [
    {
     "data": {
      "text/plain": [
       "6.77e-10"
      ]
     },
     "execution_count": 21,
     "metadata": {},
     "output_type": "execute_result"
    }
   ],
   "source": [
    "yaa=0.6\n",
    "aMgSi=6.39e-10\n",
    "aMgSn=6.77e-10"
   ]
  },
  {
   "cell_type": "code",
   "execution_count": 22,
   "metadata": {},
   "outputs": [],
   "source": [
    "ks=Array{Float64}(undef,length(Ts),length(numofn),length(xs))\n",
    "klsT=Array{Float64}(undef,length(Ts),length(numofn),length(xs))\n",
    "f=0.15\n",
    "for (iT,iTx) in enumerate(Ts)  \n",
    "    klsT[iT,1,1]=(1-f)*klsM[iT,1,1]+f*(kls1[iT,1,1]*(1-yaa)aMgSn^3/((1-yaa)*aMgSn^3+yaa*aMgSi^3)+kls0[iT,1,1]*(yaa)aMgSi^3/((1-yaa)*aMgSn^3+yaa*aMgSi^3))\n",
    "       ks[iT,1,1]=klsT[iT,1,1]+kes[iT,1,1]+kbis[iT,1,1,] \n",
    "    #println(\"T=\", iTx, \" kl= \" ,round(klsT[iT,1,1]*10000)/10000)\n",
    "    #println(\"IL1= \",IL1,\" IL2= \",IL2,\" IL3= \",IL3,\" ITx1= \",ITx1,\" ITx2= \",ITx2,\" ITx3= \",ITx3,\" kL/3=\",kL,    \" kTx/3=\",kTx,\" kTy/3=\",kTy)\n",
    "end"
   ]
  },
  {
   "cell_type": "code",
   "execution_count": 23,
   "metadata": {},
   "outputs": [
    {
     "data": {
      "text/plain": [
       "5-element Array{Float64,1}:\n",
       " 7.16256157635468\n",
       " 5.26108374384236\n",
       " 4.14778325123153\n",
       " 3.38916256157635\n",
       " 2.89655172413793"
      ]
     },
     "execution_count": 23,
     "metadata": {},
     "output_type": "execute_result"
    }
   ],
   "source": [
    "MgSn_KL_T=[303.381209787804   ,404.509621648526   ,508.944674606021   ,609.64854815216    ,715.169193157614]\n",
    "MgSn_KL_K=[ 7.16256157635468, 5.26108374384236, 4.14778325123153, 3.38916256157635, 2.89655172413793]"
   ]
  },
  {
   "cell_type": "code",
   "execution_count": 24,
   "metadata": {},
   "outputs": [
    {
     "data": {
      "image/png": "[encoded data removed]",
      "text/plain": [
       "Figure(PyObject <matplotlib.figure.Figure object at 0x7fe52e815f60>)"
      ]
     },
     "metadata": {},
     "output_type": "display_data"
    }
   ],
   "source": [
    "figure()\n",
    "#semilogy(Ts,kls[:,1,1],linestyle=\"-\",color=\"c\")\n",
    "#plot(Ts,kls0[:,1,1],linestyle=\"-\",color=\"b\")\n",
    "#plot(Ts,kls1[:,1,1],linestyle=\"-\",color=\"c\")\n",
    "#plot(Ts,klsM[:,1,1],linestyle=\"-\",color=\"k\")\n",
    "plot(Ts,klsT[:,1,1]+kes[:,1,1]+kbis[:,1,1],linestyle=\"-\",color=\"r\")\n",
    "#ylim(0,4.5)\n",
    "grid(true)\n",
    "#kes,kees,kehs,kbis"
   ]
  },
  {
   "cell_type": "code",
   "execution_count": 25,
   "metadata": {},
   "outputs": [
    {
     "data": {
      "text/plain": [
       "9-element Array{Float64,1}:\n",
       "  1.6\n",
       "  1.7\n",
       "  3.8\n",
       "  7.8\n",
       " 12.2\n",
       " 25.6\n",
       " 40.8\n",
       " 68.0\n",
       " 62.0"
      ]
     },
     "execution_count": 25,
     "metadata": {},
     "output_type": "execute_result"
    }
   ],
   "source": [
    "MgSiSn4hECE=[10,12.4,20.5,35.8,43.2,69.6,82.8,100,110]\n",
    "MgSiSn2hECE=[3,4.4,8.5,15.8,22.2,55.6,50.8,68,80]\n",
    "MgSiSn1hECE=[2,4.2,3.7,11.8,22.2,25.6,30.8,48,64]\n",
    "MgSiSn0hECE=[1.6,1.7,3.8,7.8,12.2,25.6,40.8,68,62]"
   ]
  },
  {
   "cell_type": "code",
   "execution_count": 26,
   "metadata": {},
   "outputs": [
    {
     "data": {
      "text/plain": [
       "9-element Array{Float64,1}:\n",
       " 2.1168755981\n",
       " 2.0268355263\n",
       " 1.9150855263\n",
       " 1.8140986842\n",
       " 1.7209888158\n",
       " 1.8544934211\n",
       " 1.9231644737\n",
       " 2.0605065789\n",
       " 2.1816907895"
      ]
     },
     "execution_count": 26,
     "metadata": {},
     "output_type": "execute_result"
    }
   ],
   "source": [
    "MgSiSn4hKCT=[27.204980536447565,125.22263104569937,250.3986028902043, 300.61256865568174,350.4225990508186, 400.31661600810537,\n",
    "450.60323681544304,500.88852450274595,550.37460672959,]\n",
    "MgSiSn4hKCK=[ 2.8789473684210525, 2.7375, 2.609210526315789, 2.5121710526315786, 2.4184210526315786, 2.531907894736842, 2.614144736842105\n",
    ", 2.6930921052631573, 2.7999999999999994]\n",
    "MgSiSn2hKCT=[27.174994546327184, 125.66321921825845, 250.56521889830958, 300.8030294412153, 350.04276302458277,400.3366068836394, \n",
    "450.6409643790327, 500.95101524496823,550.7594666065552]\n",
    "MgSiSn2hKCK=[2.608956937799043, 2.4846513157894736, 2.4523355263157893, 2.3861330409356722, 2.3131756578947367\n",
    ", 2.385235380116959, 2.4832374999999995, 2.595288011695906, 2.697641746411483]\n",
    "MgSiSn05hKCT=[26.1867119039,124.6184700145,249.7991072943,300.1809590466,349.8324946796,399.3641637338,450.1016014407,\n",
    "450.7811561579,549.7232004091,500.4092678505]\n",
    "MgSiSn05hKCK=[2.4217028509,2.3627326555,2.2459551435,2.1025076754,2.0223385167,2.2370652412,2.3803594498,2.302875,\n",
    "2.5966549043,2.5105263158]\n",
    "MgSiSn2h2TiO2KCT=[450.7811561579,26.5677491601,125.429931211,250.6172345758,300.4185996907,350.6278995361,\n",
    "400.1639737642,500.3759398496,550.2639577668]\n",
    "MgSiSn2h2TiO2KCK=[2.302875,2.3065789474,2.2490131579,2.1486842105,2.0335526316,1.925,2.1552631579,2.4282894737,\n",
    "2.5269736842]\n",
    "MgSiSn2h5TiO2KCT=[27.3549565403,124.5907321495,250.1753052845,299.9806697595,350.1926358449,400.1339785634,\n",
    "450.0339945609,500.3299472084,550.6152348958]\n",
    "MgSiSn2h5TiO2KCK=[2.2490131579,2.1782894737,2.0582236842,1.9529605263,1.8509868421,2.08125,2.2095394737,2.3148026316,\n",
    "2.39375]\n",
    "MgSiSn0hKCT=[26.9755694846,125.1437396683,250.3474884019,300.0735322348,349.8027683571,400.6191835973,449.916314723,\n",
    "500.2366154749,550.052698235]\n",
    "MgSiSn0hKCK=[2.1168755981,2.0268355263,1.9150855263,1.8140986842,1.7209888158,1.8544934211,1.9231644737,2.0605065789,\n",
    "2.1816907895]"
   ]
  },
  {
   "cell_type": "code",
   "execution_count": 27,
   "metadata": {},
   "outputs": [
    {
     "data": {
      "image/png": "[encoded data removed]",
      "text/plain": [
       "Figure(PyObject <matplotlib.figure.Figure object at 0x7fe506e9fd30>)"
      ]
     },
     "metadata": {},
     "output_type": "display_data"
    },
    {
     "data": {
      "image/png": "[encoded data removed]",
      "text/plain": [
       "Figure(PyObject <matplotlib.figure.Figure object at 0x7fe506e0e470>)"
      ]
     },
     "metadata": {},
     "output_type": "display_data"
    }
   ],
   "source": [
    "\n",
    "figure()\n",
    "plot(Ts,sigmas[:,1,1]/100,linestyle=\"-\",color=\"b\")\n",
    "#plot(Ts,sigmas[:,2,2]/100/6^(2/3),linestyle=\"-\",color=\"r\")\n",
    "#plot(Ts,sigmas[:,3,3]/100/6^(2/3),linestyle=\"-\",color=\"k\")\n",
    "#plot(Ts,sigmas[:,4,4]/100/6^(2/3),linestyle=\"-\",color=\"g\")\n",
    "plot(MgSiSn4hKCT .+273,MgSiSn4hECE,linestyle=\"None\",marker=\".\",markersize=10,color=\"r\")\n",
    "#plot(MgSiSn4hKCT .+273,MgSiSn2hECE,linestyle=\"None\",marker=\".\",markersize=10,color=\"k\")\n",
    "#plot(MgSiSn4hKCT .+273,MgSiSn1hECE,linestyle=\"None\",marker=\".\",markersize=10,color=\"b\")\n",
    "#plot(MgSiSn4hKCT .+273,MgSiSn0hECE,linestyle=\"None\",marker=\".\",markersize=10,color=\"g\")\n",
    "#plot(SiGe_Suin_EC_T,SiGe_Suin_Green_EC_E/100,linestyle=\"None\",marker=\"x\",markersize=2,color=\"g\")\n",
    "#plot(SiGe_Suin_EC_T,SiGe_Suin_Blue_EC_E/100,linestyle=\"None\",marker=\"o\",markersize=2,color=\"b\")\n",
    "#plot(SiGe_Suin_EC_T,SiGe_Suin_Pink_EC_E/100,linestyle=\"None\",marker=\"o\",markersize=2,color=\"r\")\n",
    "#plot(SiGe_Suin_EC_T,SiGe_Suin_Black_EC_E/100,linestyle=\"None\",marker=\"o\",markersize=2,color=\"k\")\n",
    "grid()\n",
    "\n",
    "figure()\n",
    "plot(Ts,-seebecks[:,1,1]*1e6,linestyle=\"-\",color=\"b\")\n",
    "#plot(Ts,-seebecks[:,2,2]*1e6,linestyle=\"-\",color=\"r\")\n",
    "#plot(Ts,-seebecks[:,3,3]*1e6,linestyle=\"-\",color=\"k\")\n",
    "#plot(Ts,-seebecks[:,4,4]*1e6,linestyle=\"-\",color=\"g\")\n",
    "#plot(Ts,-seebecks[:,2,2]*1e6,linestyle=\"-\",color=\"b\")\n",
    "#plot(SiGe_Vin_162_Bulk_SC_T,SiGe_Vin_162_Bulk_SC_S,linestyle=\"None\",marker=\".\",markersize=10,color=\"r\")\n",
    "#plot(SiGe_Suin_EC_T,-SiGe_Suin_Green_SC_S,linestyle=\"None\",marker=\"x\",markersize=2,color=\"g\")\n",
    "#plot(SiGe_Suin_EC_T,-SiGe_Suin_Blue_SC_S,linestyle=\"None\",marker=\"x\",markersize=2,color=\"b\")\n",
    "#plot(SiGe_Suin_EC_T,-SiGe_Suin_Pink_SC_S,linestyle=\"None\",marker=\"x\",markersize=2,color=\"r\")\n",
    "#plot(SiGe_Suin_EC_T,-SiGe_Suin_Black_SC_S,linestyle=\"None\",marker=\"x\",markersize=2,color=\"k\")\n",
    "grid()"
   ]
  },
  {
   "cell_type": "code",
   "execution_count": 28,
   "metadata": {},
   "outputs": [
    {
     "data": {
      "image/png": "[encoded data removed]",
      "text/plain": [
       "Figure(PyObject <matplotlib.figure.Figure object at 0x7fe506f7de80>)"
      ]
     },
     "metadata": {},
     "output_type": "display_data"
    },
    {
     "name": "stderr",
     "output_type": "stream",
     "text": [
      "No handles with labels found to put in legend.\n"
     ]
    }
   ],
   "source": [
    "figure()\n",
    "title(\"k\")\n",
    "plot(Ts,klsT[:,1,1]+kes[:,1,1]+kbis[:,1,1],linestyle=\"-\",color=\"r\")\n",
    "#plot(Ts,klsT[:,1,1]+kes[:,1,1]+kbis[:,1,1],linestyle=\"-\",color=\"r\")\n",
    "#plot(Ts,klsT[:,1,1]+kes[:,1,1]+kbis[:,1,1],linestyle=\"-\",color=\"r\")\n",
    "#plot(Ts,klsT[:,1,1]+kes[:,1,1]+kbis[:,1,1],linestyle=\"-\",color=\"r\")\n",
    "plot(MgSiSn4hKCT .+273,MgSiSn4hKCK,linestyle=\"None\",marker=\"o\",markersize=7,color=\"k\")\n",
    "#plot(MgSiSn2hKCT .+273,MgSiSn2hKCK,linestyle=\"None\",marker=\"^\",markersize=7,color=\"b\")\n",
    "#plot(MgSiSn05hKCT .+273,MgSiSn05hKCK,linestyle=\"None\",marker=\"D\",markersize=7,color=\"g\")\n",
    "#plot(MgSiSn2h2TiO2KCT  .+273,MgSiSn2h2TiO2KCK,linestyle=\"None\",marker=\"8\",markersize=7,color=\"tab:pink\")\n",
    "#plot(MgSiSn2h5TiO2KCT .+273,MgSiSn2h5TiO2KCK,linestyle=\"None\",marker=\"*\",markersize=7,color=\"tab:purple\")\n",
    "#plot(MgSiSn0hKCT .+273,MgSiSn0hKCK,linestyle=\"None\",marker=\"s\",markersize=7,color=\"r\",label=\"4 h\")\n",
    "#plot(SiGe_SA_162_Bulk_KC_T,SiGe_SA_162_Bulk_KC_KL,linestyle=\"None\",marker=\"o\",markersize=7,color=\"b\")\n",
    "#plot(SiGe_SA_162_Bulk_KC_T2,SiGe_SA_162_Bulk_KC_K2,linestyle=\"None\",marker=\"o\",markersize=7,color=\"g\")\n",
    "legend(loc=\"upper left\")\n",
    "#ylim(1.5,5.0)\n",
    "grid()"
   ]
  },
  {
   "cell_type": "code",
   "execution_count": 29,
   "metadata": {
    "scrolled": false
   },
   "outputs": [
    {
     "data": {
      "text/plain": [
       "61-element Array{Float64,1}:\n",
       " 300.0\n",
       " 310.0\n",
       " 320.0\n",
       " 330.0\n",
       " 340.0\n",
       " 350.0\n",
       " 360.0\n",
       " 370.0\n",
       " 380.0\n",
       " 390.0\n",
       " 400.0\n",
       " 410.0\n",
       " 420.0\n",
       "   ⋮  \n",
       " 790.0\n",
       " 800.0\n",
       " 810.0\n",
       " 820.0\n",
       " 830.0\n",
       " 840.0\n",
       " 850.0\n",
       " 860.0\n",
       " 870.0\n",
       " 880.0\n",
       " 890.0\n",
       " 900.0"
      ]
     },
     "execution_count": 29,
     "metadata": {},
     "output_type": "execute_result"
    }
   ],
   "source": [
    "Ts"
   ]
  },
  {
   "cell_type": "code",
   "execution_count": 30,
   "metadata": {},
   "outputs": [
    {
     "name": "stdout",
     "output_type": "stream",
     "text": [
      "1.409280968186009\n",
      "1.3814445407522933\n",
      "1.3545971230127916\n",
      "1.328755798419348\n",
      "1.3039502976035195\n",
      "1.2802324603742383\n",
      "1.2576881952433405\n",
      "1.2364522978729517\n",
      "1.2167260596701284\n",
      "1.198796718391842\n",
      "1.1830562328105232\n",
      "1.1700144573368698\n",
      "1.1603111674376867\n",
      "1.1546641425384707\n",
      "1.1538342056935047\n",
      "1.158542495810717\n",
      "1.1693680013495518\n",
      "1.186672004585478\n",
      "1.2105740318119802\n",
      "1.2409894505009875\n",
      "1.2777087261391211\n",
      "1.3204834243572257\n",
      "1.369091232071751\n",
      "1.4233702749352528\n",
      "1.4832275144493632\n",
      "1.548631432054913\n",
      "1.6195974396690387\n",
      "1.6961737398291066\n",
      "1.7784283964357819\n",
      "1.8664394728773117\n",
      "1.960287900505746\n",
      "2.0609479425980473\n",
      "2.167146833108248\n",
      "2.279239653677508\n",
      "2.397366383567322\n",
      "2.521603555363401\n",
      "2.6520046194984133\n",
      "2.7886083499996976\n",
      "2.931441780890305\n",
      "3.0805216282071\n",
      "3.2358551803836013\n",
      "3.3974409706542774\n",
      "3.5652693480005295\n",
      "3.7393229945325346\n",
      "3.9195774104396626\n",
      "4.106001376319677\n",
      "4.298557397602602\n",
      "4.497202133379947\n",
      "4.701886810772272\n",
      "4.912557625375037\n",
      "5.129930869892739\n",
      "5.352673857279876\n",
      "5.581100247804264\n",
      "5.815197423286812\n",
      "6.054913850376938\n",
      "6.3001844898309045\n",
      "6.550937167850983\n",
      "6.807095060448742\n",
      "7.068577952095648\n",
      "7.335303003093017\n",
      "7.607185284857021\n"
     ]
    }
   ],
   "source": [
    "foreach(x->println(ks[x,1,1]),1:length(Ts))"
   ]
  },
  {
   "cell_type": "code",
   "execution_count": 31,
   "metadata": {},
   "outputs": [
    {
     "name": "stdout",
     "output_type": "stream",
     "text": [
      "40.33803664610506\n",
      "38.796498751906064\n",
      "37.34711383818055\n",
      "35.98380612795423\n",
      "34.70192955272417\n",
      "33.49855239965507\n",
      "32.37287656489358\n",
      "31.326813272108502\n",
      "30.36572537381487\n",
      "29.499320146626264\n",
      "28.742626975445816\n",
      "28.116913495928262\n",
      "27.659528771784938\n",
      "27.398666782211322\n",
      "27.3725655119193\n",
      "27.625980256778412\n",
      "28.202343662971753\n",
      "29.14072022608806\n",
      "30.47297319348019\n",
      "32.22251466715276\n",
      "34.40481659452328\n",
      "37.02913568037778\n",
      "40.10064581604928\n",
      "43.62234431974626\n",
      "47.596429607744746\n",
      "52.02513007408078\n",
      "56.911168782400566\n",
      "62.257815054136046\n",
      "68.06885853472063\n",
      "74.34847972872937\n",
      "81.10109243618477\n",
      "88.47891774588658\n",
      "96.26315347626286\n",
      "104.50692933199085\n",
      "113.22795631325229\n",
      "122.43444927434506\n",
      "132.13187542434542\n",
      "142.32433087553318\n",
      "153.01498275645815\n",
      "164.2062478566919\n",
      "175.8998780961623\n",
      "188.09700876724054\n",
      "200.79819102291583\n",
      "214.00341769255775\n",
      "227.71214648303192\n",
      "241.92332240621815\n",
      "256.6354002374657\n",
      "271.84636730725396\n",
      "287.5537666820362\n",
      "303.7547206715489\n",
      "320.5753741116081\n",
      "337.79992361830097\n",
      "355.48812536862664\n",
      "373.6451935174235\n",
      "392.27010086541645\n",
      "411.3597886632087\n",
      "430.9101970979685\n",
      "450.9166498300092\n",
      "471.3740365034192\n",
      "492.2769154220438\n",
      "513.6195793741409\n"
     ]
    }
   ],
   "source": [
    "foreach(x->println(sigmas[x,1,1]/100),1:length(Ts))"
   ]
  },
  {
   "cell_type": "code",
   "execution_count": 32,
   "metadata": {},
   "outputs": [
    {
     "name": "stdout",
     "output_type": "stream",
     "text": [
      "440.04951064081143\n",
      "446.0636864207822\n",
      "451.86890914768\n",
      "457.45340379269857\n",
      "462.7936803880532\n",
      "467.84792294847165\n",
      "472.54688978906347\n",
      "476.78191691756916\n",
      "480.39005684358636\n",
      "483.1374171496612\n",
      "484.70375256413445\n",
      "484.67457324977744\n",
      "482.5108061828441\n",
      "477.6993103496406\n",
      "469.74737842311043\n",
      "458.30353225562754\n",
      "443.29923494750955\n",
      "425.0223899092553\n",
      "404.10201600519633\n",
      "381.3973209387997\n",
      "357.8354496981617\n",
      "334.2614749081762\n",
      "311.3441439955689\n",
      "289.5452801859862\n",
      "269.13576038931916\n",
      "250.2345453162539\n",
      "232.85310985957372\n",
      "216.93344995041755\n",
      "202.3779633655237\n",
      "189.0703037021999\n",
      "176.8889878908726\n",
      "165.66137843796585\n",
      "155.36757584034524\n",
      "145.88220565619253\n",
      "137.1080060164235\n",
      "128.9626266541341\n",
      "121.37470907497801\n",
      "114.28223904753267\n",
      "107.63131158167623\n",
      "101.37506448561594\n",
      "95.47273519171246\n",
      "89.8888291996464\n",
      "84.59239276244149\n",
      "79.55638150398926\n",
      "74.75711554283522\n",
      "70.17381128275164\n",
      "65.78818025335954\n",
      "61.58408601859529\n",
      "57.54725101949029\n",
      "53.66500614292214\n",
      "49.91386419144553\n",
      "46.304538122060805\n",
      "42.821542955426175\n",
      "39.45571076628826\n",
      "36.19932587489999\n",
      "33.04558379930558\n",
      "29.988393114541893\n",
      "27.02225881320811\n",
      "24.14219839146578\n",
      "21.343675796106723\n",
      "18.622547109860456\n"
     ]
    }
   ],
   "source": [
    "foreach(x->println(-seebecks[x,1,1]*1e6),1:length(Ts))"
   ]
  },
  {
   "cell_type": "code",
   "execution_count": 33,
   "metadata": {},
   "outputs": [
    {
     "name": "stdout",
     "output_type": "stream",
     "text": [
      "0.022790841985540586\n",
      "0.02270954150803122\n",
      "0.022603725760750218\n",
      "0.022477744303931745\n",
      "0.022336026711657946\n",
      "0.022183426885870244\n",
      "0.02202570630656742\n",
      "0.021870189940098213\n",
      "0.021726624341912536\n",
      "0.021608249938786753\n",
      "0.021533058726194567\n",
      "0.021525133272404566\n",
      "0.02162338851452532\n",
      "0.021862307716321954\n",
      "0.022287339989432938\n",
      "0.022952980205743184\n",
      "0.023916397193352694\n",
      "0.025234424688213\n",
      "0.0269603112451183\n",
      "0.029141603142913863\n",
      "0.031819607682225914\n",
      "0.03503018023107554\n",
      "0.03880520002886964\n",
      "0.04317412542494797\n",
      "0.048165257491720626\n",
      "0.05380659718525915\n",
      "0.0601264017680776\n",
      "0.06715334370217685\n",
      "0.07491657749588315\n",
      "0.08344568096951427\n",
      "0.0927705445604779\n",
      "0.10314499672566918\n",
      "0.11426921730142381\n",
      "0.12624236544982614\n",
      "0.13911363102738494\n",
      "0.152918800603002\n",
      "0.1676900326792491\n",
      "0.18345781307684872\n",
      "0.20025155985395815\n",
      "0.2180998478906242\n",
      "0.23703049833643908\n",
      "0.2570706135568941\n",
      "0.27824658877652597\n",
      "0.30058411385006356\n",
      "0.32410817135611314\n",
      "0.34884303397933913\n",
      "0.37481226260705003\n",
      "0.40203870579507606\n",
      "0.4305445008602329\n",
      "0.460351076647741\n",
      "0.4917497819406167\n",
      "0.5243208369668957\n",
      "0.5582143780593829\n",
      "0.5934682928010249\n",
      "0.6301077271708544\n",
      "0.6681536468270317\n",
      "0.7076248893225658\n",
      "0.7485389042466641\n",
      "0.7909120869279733\n",
      "0.8347599536886019\n",
      "0.8800972454288862\n"
     ]
    }
   ],
   "source": [
    "foreach(x->println(kes[x,1,1]),1:length(Ts))"
   ]
  },
  {
   "cell_type": "code",
   "execution_count": 34,
   "metadata": {},
   "outputs": [
    {
     "name": "stdout",
     "output_type": "stream",
     "text": [
      "4.123181396701599e-5\n",
      "8.458755805708213e-5\n",
      "0.00016639040523442673\n",
      "0.0003150063197024675\n",
      "0.0005758311958642279\n",
      "0.0010192681665686016\n",
      "0.0017513099998692446\n",
      "0.0029269949709661456\n",
      "0.004766594325700926\n",
      "0.007573539097359956\n",
      "0.011751573228132814\n",
      "0.017816295012110277\n",
      "0.026398202378046808\n",
      "0.038209846490967876\n",
      "0.05399531706443328\n",
      "0.07444930800872678\n",
      "0.1001209222546435\n",
      "0.13134104803514038\n",
      "0.1682015043312375\n",
      "0.21059472055480075\n",
      "0.2582935126563039\n",
      "0.3110362939424294\n",
      "0.36859062551802296\n",
      "0.4307859901328693\n",
      "0.497520942048668\n",
      "0.5687549540405852\n",
      "0.6444932948642474\n",
      "0.7247727559680975\n",
      "0.8096486831627577\n",
      "0.8991852027125035\n",
      "0.9934482308086697\n",
      "1.0931723430766758\n",
      "1.19739803118964\n",
      "1.3063939831080444\n",
      "1.4202631125094392\n",
      "1.5390576788130617\n",
      "1.6628099061221133\n",
      "1.7915384623971633\n",
      "1.9252508188178639\n",
      "2.0639444740948147\n",
      "2.2076077812332033\n",
      "2.3562206097408627\n",
      "2.5097549285902856\n",
      "2.6681753443978975\n",
      "2.831439609769532\n",
      "2.9994991086753333\n",
      "3.17229932216946\n",
      "3.349780276140608\n",
      "3.531876972002958\n",
      "3.71851980085541\n",
      "3.9101390592902\n",
      "4.105826935752497\n",
      "4.3057518068511875\n",
      "4.509867789581061\n",
      "4.7181026098394145\n",
      "4.930374462105803\n",
      "5.146596339584272\n",
      "5.366677788814274\n",
      "5.590525844411756\n",
      "5.8180456304167905\n",
      "6.049140800695263\n"
     ]
    }
   ],
   "source": [
    "foreach(x->println(kbis[x,1,1]),1:length(Ts))"
   ]
  },
  {
   "cell_type": "code",
   "execution_count": 35,
   "metadata": {},
   "outputs": [
    {
     "name": "stdout",
     "output_type": "stream",
     "text": [
      "1.3864488943865014\n",
      "1.358650411686205\n",
      "1.3318270068468068\n",
      "1.305963047795714\n",
      "1.2810384396959975\n",
      "1.2570297653217994\n",
      "1.233911178936904\n",
      "1.2116551129618875\n",
      "1.190232841002515\n",
      "1.1696149293556952\n",
      "1.1497716008561958\n",
      "1.130673029052355\n",
      "1.1122895765451144\n",
      "1.0945919883311808\n",
      "1.0775515486396383\n",
      "1.0611402075962473\n",
      "1.0453306819015555\n",
      "1.0300965318621245\n",
      "1.0154122162356245\n",
      "1.001253126803273\n",
      "0.9875956058005914\n",
      "0.9744169501837208\n",
      "0.9616954065248585\n",
      "0.9494101593774357\n",
      "0.9375413149089746\n",
      "0.9260698808290686\n",
      "0.9149777430367138\n",
      "0.9042476401588322\n",
      "0.893863135777141\n",
      "0.8838085891952941\n",
      "0.8740691251365985\n",
      "0.864630602795702\n",
      "0.8554795846171841\n",
      "0.8466033051196376\n",
      "0.8379896400304978\n",
      "0.8296270759473371\n",
      "0.8215046806970507\n",
      "0.8136120745256858\n",
      "0.805939402218483\n",
      "0.7984773062216611\n",
      "0.7912169008139587\n",
      "0.7841497473565204\n",
      "0.777267830633718\n",
      "0.7705635362845735\n",
      "0.7640296293140176\n",
      "0.7576592336650038\n",
      "0.7514458128260922\n",
      "0.7453831514442624\n",
      "0.7394653379090812\n",
      "0.7336867478718856\n",
      "0.7280420286619219\n",
      "0.7225260845604828\n",
      "0.7171340628936937\n",
      "0.7118613409047267\n",
      "0.7067035133666684\n",
      "0.7016563808980694\n",
      "0.6967159389441449\n",
      "0.6918783673878048\n",
      "0.6871400207559191\n",
      "0.6824974189876252\n",
      "0.6779472387328709\n"
     ]
    }
   ],
   "source": [
    "foreach(x->println(klsT[x,1,1]),1:length(Ts))"
   ]
  }
 ],
 "metadata": {
  "kernelspec": {
   "display_name": "Julia 1.0.1",
   "language": "julia",
   "name": "julia-1.0"
  },
  "language_info": {
   "file_extension": ".jl",
   "mimetype": "application/julia",
   "name": "julia",
   "version": "1.0.1"
  }
 },
 "nbformat": 4,
 "nbformat_minor": 1
}
