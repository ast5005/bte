{
 "cells": [
  {
   "cell_type": "code",
   "execution_count": 2,
   "metadata": {
    "collapsed": false
   },
   "outputs": [
    {
     "name": "stderr",
     "output_type": "stream",
     "text": [
      "\u001b[1m\u001b[36mINFO: \u001b[39m\u001b[22m\u001b[36mCloning cache of FastGaussQuadrature from https://github.com/ajt60gaibb/FastGaussQuadrature.jl.git\n",
      "\u001b[39m\u001b[1m\u001b[36mINFO: \u001b[39m\u001b[22m\u001b[36mInstalling FastGaussQuadrature v0.2.1\n",
      "\u001b[39m\u001b[1m\u001b[36mINFO: \u001b[39m\u001b[22m\u001b[36mBuilding SpecialFunctions\n",
      "\u001b[39m\u001b[1m\u001b[36mINFO: \u001b[39m\u001b[22m\u001b[36mPackage database updated\n",
      "\u001b[39m\u001b[1m\u001b[36mINFO: \u001b[39m\u001b[22m\u001b[36mMETADATA is out-of-date — you may not have the latest version of FastGaussQuadrature\n",
      "\u001b[39m\u001b[1m\u001b[36mINFO: \u001b[39m\u001b[22m\u001b[36mUse `Pkg.update()` to get the latest versions of your packages\n",
      "\u001b[39m"
     ]
    }
   ],
   "source": [
    "Pkg.add(\"FastGaussQuadrature\")"
   ]
  },
  {
   "cell_type": "code",
   "execution_count": 4,
   "metadata": {
    "collapsed": false
   },
   "outputs": [
    {
     "name": "stderr",
     "output_type": "stream",
     "text": [
      "\u001b[1m\u001b[36mINFO: \u001b[39m\u001b[22m\u001b[36mPrecompiling module FastGaussQuadrature.\n",
      "\u001b[39m"
     ]
    }
   ],
   "source": [
    "using FastGaussQuadrature"
   ]
  },
  {
   "cell_type": "code",
   "execution_count": 9,
   "metadata": {
    "collapsed": false
   },
   "outputs": [
    {
     "data": {
      "text/plain": [
       "f (generic function with 1 method)"
      ]
     },
     "execution_count": 9,
     "metadata": {},
     "output_type": "execute_result"
    }
   ],
   "source": [
    "f(x)=x.^2+x"
   ]
  },
  {
   "cell_type": "code",
   "execution_count": 6,
   "metadata": {
    "collapsed": false
   },
   "outputs": [
    {
     "data": {
      "text/plain": [
       "([-1.0, -1.0, -1.0, -1.0, -1.0, -1.0, -1.0, -1.0, -1.0, -1.0  …  1.0, 1.0, 1.0, 1.0, 1.0, 1.0, 1.0, 1.0, 1.0, 1.0], [7.42069e-10, 1.72739e-9, 2.71418e-9, 3.70109e-9, 4.68803e-9, 5.67497e-9, 6.66192e-9, 7.64887e-9, 8.63582e-9, 9.62277e-9  …  9.62277e-9, 8.63582e-9, 7.64887e-9, 6.66192e-9, 5.67497e-9, 4.68803e-9, 3.70109e-9, 2.71418e-9, 1.72739e-9, 7.42069e-10])"
      ]
     },
     "execution_count": 6,
     "metadata": {},
     "output_type": "execute_result"
    }
   ],
   "source": [
    "nodes,weights=gausslegendre(100000)"
   ]
  },
  {
   "cell_type": "code",
   "execution_count": 10,
   "metadata": {
    "collapsed": false
   },
   "outputs": [
    {
     "name": "stdout",
     "output_type": "stream",
     "text": [
      "  0.186854 seconds (50.92 k allocations: 3.888 MiB)\n"
     ]
    },
    {
     "data": {
      "text/plain": [
       "0.6666666666666667"
      ]
     },
     "execution_count": 10,
     "metadata": {},
     "output_type": "execute_result"
    }
   ],
   "source": [
    "@time dot(weights,f(nodes))"
   ]
  },
  {
   "cell_type": "code",
   "execution_count": 11,
   "metadata": {
    "collapsed": true
   },
   "outputs": [],
   "source": [
    "using Cubature\n",
    "using QuantEcon"
   ]
  },
  {
   "cell_type": "code",
   "execution_count": 21,
   "metadata": {
    "collapsed": false
   },
   "outputs": [
    {
     "data": {
      "text/plain": [
       "([0.000588436, 0.00310038, 0.00761935, 0.014146, 0.0226799, 0.0332204, 0.0457667, 0.0603177, 0.0768724, 0.0954293  …  49.9046, 49.9231, 49.9397, 49.9542, 49.9668, 49.9773, 49.9859, 49.9924, 49.9969, 49.9994], [0.00151011, 0.00351513, 0.00552284, 0.00753036, 0.00953733, 0.0115436, 0.0135488, 0.0155531, 0.017556, 0.0195576  …  0.0195576, 0.017556, 0.0155531, 0.0135488, 0.0115436, 0.00953733, 0.00753036, 0.00552284, 0.00351513, 0.00151011])"
      ]
     },
     "execution_count": 21,
     "metadata": {},
     "output_type": "execute_result"
    }
   ],
   "source": [
    "nodes, weights = qnwlege(350, 0.0, 50)"
   ]
  },
  {
   "cell_type": "code",
   "execution_count": 19,
   "metadata": {
    "collapsed": false
   },
   "outputs": [
    {
     "data": {
      "text/plain": [
       "350-element Array{Float64,1}:\n",
       "  0.00217686\n",
       "  0.0072007 \n",
       "  0.0162386 \n",
       "  0.0292917 \n",
       "  0.0463593 \n",
       "  0.0674401 \n",
       "  0.0925325 \n",
       "  0.121634  \n",
       "  0.154743  \n",
       "  0.191857  \n",
       "  0.232972  \n",
       "  0.278085  \n",
       "  0.327193  \n",
       "  ⋮         \n",
       " 99.7229    \n",
       " 99.768     \n",
       " 99.8091    \n",
       " 99.8463    \n",
       " 99.8794    \n",
       " 99.9085    \n",
       " 99.9336    \n",
       " 99.9546    \n",
       " 99.9717    \n",
       " 99.9848    \n",
       " 99.9938    \n",
       " 99.9988    "
      ]
     },
     "execution_count": 19,
     "metadata": {},
     "output_type": "execute_result"
    }
   ],
   "source": [
    "nodes"
   ]
  },
  {
   "cell_type": "code",
   "execution_count": 22,
   "metadata": {
    "collapsed": true
   },
   "outputs": [],
   "source": [
    "type test\n",
    "   h::Float64 \n",
    "end\n"
   ]
  },
  {
   "cell_type": "code",
   "execution_count": 23,
   "metadata": {
    "collapsed": true
   },
   "outputs": [],
   "source": [
    "type test2\n",
    "   t::test     \n",
    "end\n"
   ]
  },
  {
   "cell_type": "code",
   "execution_count": 28,
   "metadata": {
    "collapsed": false
   },
   "outputs": [
    {
     "data": {
      "text/plain": [
       "Nullable{Array{test2,1}}()"
      ]
     },
     "execution_count": 28,
     "metadata": {},
     "output_type": "execute_result"
    }
   ],
   "source": [
    "global g_test\n",
    "g_test=Nullable{Vector{test2}}()"
   ]
  },
  {
   "cell_type": "code",
   "execution_count": 25,
   "metadata": {
    "collapsed": false
   },
   "outputs": [
    {
     "ename": "LoadError",
     "evalue": "\u001b[91mUndefVarError: g_test not defined\u001b[39m",
     "output_type": "error",
     "traceback": [
      "\u001b[91mUndefVarError: g_test not defined\u001b[39m",
      "",
      "Stacktrace:",
      " [1] \u001b[1minclude_string\u001b[22m\u001b[22m\u001b[1m(\u001b[22m\u001b[22m::String, ::String\u001b[1m)\u001b[22m\u001b[22m at \u001b[1m./loading.jl:515\u001b[22m\u001b[22m"
     ]
    }
   ],
   "source": [
    "if g_test==0 \n",
    "    \n",
    "    println(true)\n",
    "else\n",
    "    println(false)\n",
    "end\n"
   ]
  }
 ],
 "metadata": {
  "kernelspec": {
   "display_name": "Julia 0.6.0",
   "language": "julia",
   "name": "julia-0.6"
  },
  "language_info": {
   "file_extension": ".jl",
   "mimetype": "application/julia",
   "name": "julia",
   "version": "0.6.0"
  }
 },
 "nbformat": 4,
 "nbformat_minor": 2
}
