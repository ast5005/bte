{
 "cells": [
  {
   "cell_type": "code",
   "execution_count": 1,
   "metadata": {},
   "outputs": [
    {
     "data": {
      "text/plain": [
       "kltSA (generic function with 1 method)"
      ]
     },
     "execution_count": 1,
     "metadata": {},
     "output_type": "execute_result"
    }
   ],
   "source": [
    "push!(LOAD_PATH,pwd())\n",
    "using ProfileView\n",
    "using constants\n",
    "using types10\n",
    "using Optim\n",
    "using PyPlot\n",
    "using data\n",
    "include(\"DOSfunctions.jl\")\n",
    "include(\"userfunctions.jl\")\n",
    "include(\"propertyfuncs.jl\")"
   ]
  },
  {
   "cell_type": "code",
   "execution_count": 2,
   "metadata": {},
   "outputs": [
    {
     "data": {
      "text/plain": [
       "3.0"
      ]
     },
     "execution_count": 2,
     "metadata": {},
     "output_type": "execute_result"
    }
   ],
   "source": [
    "Eoff=5.0\n",
    "Ts=collect(300.0:10.0:900.0)\n",
    "######################################################################################\n",
    "##for Liu x=0.6 best fit x=0.635 N=-1.45e20\n",
    "######################################################################################\n",
    "numofn=[-0.5e18]#,-1.22e18,-1.02e18,-0.94e18]#-9.5e19,-1.75e20,-3.0e19,-0.9e20]#Sample 1 -3.0e19, Sample 2 -1.25e20,\n",
    "numofnn=[1e17]#,1e18,1e18,1e18]\n",
    "#Sample 3 -1.75e20, Sample Sb 0.75% -1.03e20, #\n",
    "xs=[0.6]#,0.8,0.7,0.61]#collect(0.0:0.01:1.0)\n",
    "Es=collect(0.0:0.1:3.0)\n",
    "\n",
    "var0=[Ts[1],xs[1]]\n",
    "\n",
    "EX3(var)=Eoff#+Egx3(var[1],var[2])\n",
    "EX1(var)=Ec0(var[2])+EX3(var)\n",
    "ELH(var)=Eoff-Egx3(var[1],var[2])\n",
    "EHH(var)=Eoff-Egx3(var[1],var[2])\n",
    "\n",
    "effMassX1(var)=X1effMass(var[1])*me\n",
    "effMassX3(var)=0.38*me\n",
    "effMassLH(var)=-1.0*me\n",
    "effMassHH(var)=-1.5*me\n",
    "\n",
    "alphaX1(var)=0.0#EX1(var0)\n",
    "alphaX3(var)=0.0#EX1(var0)\n",
    "alphaLH(var)=0.0#EX3(var0)\n",
    "alphaHH(var)=0.0#EX3(var0)\n",
    "\n",
    "function Da(band::parBandTx,x::Float64)\n",
    "    Da=7.0#9.0-1.5*x*x\n",
    "    Dv=1.0\n",
    "    if band==bandX3 ||  band==bandX1\n",
    "        return Da\n",
    "    end\n",
    "    if band==bandHH ||  band==bandLH\n",
    "        return Dv\n",
    "    end\n",
    "end\n",
    "\n",
    "bandX3=parBandTx(true,1.0,effMassX3(var0),alphaX3(0.0),EX3(var0),[EX3],[effMassX3],[alphaX3],var0)\n",
    "bandX1=parBandTx(true,1.0,effMassX1(var0),alphaX1(0.0),EX1(var0),[EX1],[effMassX1],[alphaX1],var0)\n",
    "bandHH=parBandTx(true,1.0,effMassHH(var0),alphaHH(0.0),EHH(var0),[EHH],[effMassHH],[alphaHH],var0)\n",
    "bandLH=parBandTx(true,1.0,effMassLH(var0),alphaLH(0.0),ELH(var0),[ELH],[effMassLH],[alphaLH],var0)\n",
    "bndstTx=BandStrucTx([bandLH,bandHH,bandX1,bandX1,bandX1,bandX3,bandX3,bandX3],var0)#\n",
    "#bndstTx=BandStrucTx([bandLH,bandX1],var0)#\n",
    "\n",
    "#vartau0=[bandC.effMass,Ts[1],Ec(var0),xs[1],Ec(var0),bandC,numofn[1]*1e6,bndstTx,numofnn[1]*1e6,bandV]\n",
    "vartau0=[bandX3.effMass,Ts[1],EX1(var0),xs[1],EX1(var0),bandX3,numofn[1]*1e6,bndstTx,numofnn[1]*1e6,bandLH]\n",
    "#var array: var[1]: effMass , var[2]:T, var[3]:E, var[4]:x, var[5]:Ef, \n",
    "#var[6]:band, var[7]:NII var[8]:bndst\n",
    "#tauAC(var)=tauAC_func(Cl(var[4]),acPhDa(var[4]),var[2],var[1],var[3],var[6])\n",
    "tauAC(var)=tauAC_func(Cl(var[4]),Da(var[6],var[4]),var[2],var[1],var[3],var[6])\n",
    "tauPOP(var)=tauPOP_func(epsilon0_x(var[4]),epsilonhf_x(var[4]),var[6],var[5],var[2],var[1]\n",
    ",var[3],tauPOPIIint(var[5],var[2],var[4],var[6]),var[7],opPhE(var[4]),var[8])\n",
    "tauPOP2(var)=tauPOP2lowN_func(epsilon0_x(var[4]),epsilonhf_x(var[4]),var[6],var[5],var[2],var[1],\n",
    "var[3],opPhE(var[4]))\n",
    "tauPOP3(var)=tauPOP3_func(epsilon0_x(var[4]),epsilonhf_x(var[4]),var[6],var[5],var[2],var[1],\n",
    "var[3],opPhE(var[4]))\n",
    "tauII2(var)=tauII2_func(epsilon0_x(var[4]),epsilonhf_x(var[4]),var[6],var[5],var[2],var[7],var[1],var[3],var[8])\n",
    "tauNI(var)=tauNI_func(epsilon0_x(var[4]),var[1],var[9])\n",
    "tauTOTTx=tau_electron_B([tauAC,tauII2,tauNI,tauPOP3],vartau0)#,tauII2,tauPOP2,tauPOP3\n",
    "\n",
    "xmax=3.0"
   ]
  },
  {
   "cell_type": "code",
   "execution_count": 3,
   "metadata": {},
   "outputs": [
    {
     "name": "stdout",
     "output_type": "stream",
     "text": [
      " 42.535923 seconds (189.07 M allocations: 38.996 GiB, 10.19% gc time)\n"
     ]
    },
    {
     "data": {
      "text/plain": [
       "3.0"
      ]
     },
     "execution_count": 3,
     "metadata": {},
     "output_type": "execute_result"
    }
   ],
   "source": [
    "@time (Efs,sigmas,seebecks,kes,kees,kehs,kbis,sigmaes,sigmahs,seebeckes,seebeckhs)=electronicPropsiso(bndstTx,xs,Ts,numofn,numofnn,tauTOTTx,xmax)\n",
    "x=3.0"
   ]
  },
  {
   "cell_type": "code",
   "execution_count": 4,
   "metadata": {},
   "outputs": [
    {
     "name": "stdout",
     "output_type": "stream",
     "text": [
      "300.0 -0.09585114523158023\n",
      "310.0 -0.10068534980520383\n",
      "320.0 -0.10557585151795035\n",
      "330.0 -0.11051358756874308\n",
      "340.0 -0.11548421997170077\n",
      "350.0 -0.12046505175825306\n",
      "360.0 -0.1254209415346308\n",
      "370.0 -0.1302996640502725\n",
      "380.0 -0.13502813764317523\n",
      "390.0 -0.13951226434377784\n",
      "400.0 -0.14364381229728096\n",
      "410.0 -0.14731591191302318\n",
      "420.0 -0.15044354381152836\n",
      "430.0 -0.15298031363198028\n",
      "440.0 -0.15492366239502697\n",
      "450.0 -0.1563077629285461\n",
      "460.0 -0.15718988055982397\n",
      "470.0 -0.15763687587225306\n",
      "480.0 -0.157715467782654\n",
      "490.0 -0.15748673777948596\n",
      "500.0 -0.15700383686993824\n",
      "510.0 -0.15631162985985458\n",
      "520.0 -0.15544731525833821\n",
      "530.0 -0.1544414286801894\n",
      "540.0 -0.15331892594354102\n",
      "550.0 -0.1521001887472293\n",
      "560.0 -0.15080176404238532\n",
      "570.0 -0.14943721952906053\n",
      "580.0 -0.14801767667030852\n",
      "590.0 -0.1465522816681828\n",
      "600.0 -0.14504858339838744\n",
      "610.0 -0.14351283592211583\n",
      "620.0 -0.1419502405611146\n",
      "630.0 -0.1403651398406014\n",
      "640.0 -0.13876117320449666\n",
      "650.0 -0.13714140238441708\n",
      "660.0 -0.13550841265616143\n",
      "670.0 -0.13386439489979995\n",
      "680.0 -0.13221121233811406\n",
      "690.0 -0.13055045500921558\n",
      "700.0 -0.1288834843878135\n",
      "710.0 -0.12721147006732636\n",
      "720.0 -0.12553542002147466\n",
      "730.0 -0.12385620565514621\n",
      "740.0 -0.12217458261164005\n",
      "750.0 -0.12049120811177705\n",
      "760.0 -0.1188066554490339\n",
      "770.0 -0.11712142614468402\n",
      "780.0 -0.11543596017132085\n",
      "790.0 -0.1137506445768004\n",
      "800.0 -0.11206582077943761\n",
      "810.0 -0.11038179075609023\n",
      "820.0 -0.10869882230513728\n",
      "830.0 -0.10701715353417729\n",
      "840.0 -0.10533699669626806\n",
      "850.0 -0.10365854147723041\n",
      "860.0 -0.10198195781925445\n",
      "870.0 -0.1003073983517746\n",
      "880.0 -0.09863500048893581\n",
      "890.0 -0.09696488824330363\n",
      "900.0 -0.09529717379756875\n"
     ]
    }
   ],
   "source": [
    "foreach(x->println(Ts[x],\" \",Efs[x,1,1,]-Eoff),1:length(Ts))"
   ]
  },
  {
   "cell_type": "code",
   "execution_count": 5,
   "metadata": {},
   "outputs": [
    {
     "ename": "MethodError",
     "evalue": "MethodError: no method matching -(::Array{Float64,1}, ::Float64)\nClosest candidates are:\n  -(!Matched::Float64, ::Float64) at float.jl:397\n  -(!Matched::Complex{Bool}, ::Real) at complex.jl:298\n  -(!Matched::Missing, ::Number) at missing.jl:93\n  ...",
     "output_type": "error",
     "traceback": [
      "MethodError: no method matching -(::Array{Float64,1}, ::Float64)\nClosest candidates are:\n  -(!Matched::Float64, ::Float64) at float.jl:397\n  -(!Matched::Complex{Bool}, ::Real) at complex.jl:298\n  -(!Matched::Missing, ::Number) at missing.jl:93\n  ...",
      "",
      "Stacktrace:",
      " [1] top-level scope at In[5]:1"
     ]
    }
   ],
   "source": [
    "plot(Ts,Efs[:,1,1]-Eoff,linestyle=\"-\",marker=\"o\",color=\"c\")\n",
    "#ylim(0,7)\n",
    "grid()"
   ]
  },
  {
   "cell_type": "code",
   "execution_count": 6,
   "metadata": {},
   "outputs": [
    {
     "data": {
      "image/png": "[encoded data removed]",
      "text/plain": [
       "Figure(PyObject <matplotlib.figure.Figure object at 0x7f33686719b0>)"
      ]
     },
     "metadata": {},
     "output_type": "display_data"
    }
   ],
   "source": [
    "plot(Ts,sigmaes[:,1,1]/100,linestyle=\"-\",marker=\"o\",color=\"c\")\n",
    "#ylim(0,7)\n",
    "grid()"
   ]
  },
  {
   "cell_type": "code",
   "execution_count": 7,
   "metadata": {},
   "outputs": [
    {
     "data": {
      "text/plain": [
       "61-element Array{Float64,1}:\n",
       " 300.0\n",
       " 310.0\n",
       " 320.0\n",
       " 330.0\n",
       " 340.0\n",
       " 350.0\n",
       " 360.0\n",
       " 370.0\n",
       " 380.0\n",
       " 390.0\n",
       " 400.0\n",
       " 410.0\n",
       " 420.0\n",
       "   ⋮  \n",
       " 790.0\n",
       " 800.0\n",
       " 810.0\n",
       " 820.0\n",
       " 830.0\n",
       " 840.0\n",
       " 850.0\n",
       " 860.0\n",
       " 870.0\n",
       " 880.0\n",
       " 890.0\n",
       " 900.0"
      ]
     },
     "execution_count": 7,
     "metadata": {},
     "output_type": "execute_result"
    }
   ],
   "source": [
    "Ts"
   ]
  },
  {
   "cell_type": "code",
   "execution_count": 8,
   "metadata": {},
   "outputs": [
    {
     "data": {
      "image/png": "[encoded data removed]",
      "text/plain": [
       "Figure(PyObject <matplotlib.figure.Figure object at 0x7f3349ad34e0>)"
      ]
     },
     "metadata": {},
     "output_type": "display_data"
    }
   ],
   "source": [
    "plot(Ts,kbis[:,1,1],linestyle=\"-\",color=\"c\")\n",
    "#ylim(0,7)\n",
    "grid()"
   ]
  },
  {
   "cell_type": "code",
   "execution_count": 9,
   "metadata": {},
   "outputs": [
    {
     "data": {
      "image/png": "[encoded data removed]",
      "text/plain": [
       "Figure(PyObject <matplotlib.figure.Figure object at 0x7f33680d24e0>)"
      ]
     },
     "metadata": {},
     "output_type": "display_data"
    }
   ],
   "source": [
    "plot(Ts,seebecks[:,1,1]*1e6,linestyle=\"-\",color=\"c\")\n",
    "#plot(Ts,seebeckes[:,1,1]*1e6,linestyle=\"-\",color=\"y\")\n",
    "#plot(Ts,seebeckhs[:,1,1]*1e6,linestyle=\"-\",color=\"k\")\n",
    "#ylim(-250,-0)\n",
    "grid()"
   ]
  },
  {
   "cell_type": "code",
   "execution_count": 10,
   "metadata": {
    "scrolled": false
   },
   "outputs": [
    {
     "data": {
      "image/png": "[encoded data removed]",
      "text/plain": [
       "Figure(PyObject <matplotlib.figure.Figure object at 0x7f3340a3c780>)"
      ]
     },
     "metadata": {},
     "output_type": "display_data"
    }
   ],
   "source": [
    "plot(Ts,sigmas[:,1,1]/100,linestyle=\"-\",color=\"c\")\n",
    "#ylim(0,3500)\n",
    "grid()"
   ]
  },
  {
   "cell_type": "code",
   "execution_count": 11,
   "metadata": {},
   "outputs": [],
   "source": [
    "T_EF_Dict=Dict()\n",
    "for (Ti,Tx) in enumerate(Ts)\n",
    "    T_EF_Dict[Tx]=(Efs[Ti])    \n",
    "end\n",
    "T_EF_Dict_Array=Array{Dict{Float64,Float64},2}(undef,length(numofn),length(xs))\n",
    "Dict_temp=Dict()\n",
    "Efsr=Array{Float64,3}(undef,length(Ts),length(numofn),length(xs))\n",
    "for (j,jn) in enumerate(numofn)\n",
    "    for (k,kx) in enumerate(xs) \n",
    "        for (i,iT) in enumerate(Ts)\n",
    "            Efsr[i,j,k]=Efs[i,j,k]-EX3(0.0)\n",
    "            Dict_temp[iT]=Efsr[i,j,k]\n",
    "            T_EF_Dict_Array[j,k]=Dict_temp \n",
    "        end\n",
    "    end\n",
    "end\n",
    "#foreach(i->println(\"$i= \",Ts[i]),1:length(Ts))\n",
    "#Efsr"
   ]
  },
  {
   "cell_type": "code",
   "execution_count": 12,
   "metadata": {},
   "outputs": [
    {
     "data": {
      "text/plain": [
       "1.0"
      ]
     },
     "execution_count": 12,
     "metadata": {},
     "output_type": "execute_result"
    }
   ],
   "source": [
    "#println(\"-1\")\n",
    "#############Lattice Thermal Conductivity Parameters###############\n",
    "\n",
    "function klpar(con::Float64,p::Float64,NP::Float64)\n",
    "    thetaL=52.3e12*hbar/kB # K \n",
    "    thetaT=29.7e12*hbar/kB  # K\n",
    "    vL=(1-con)*7700+con*4900    # m/s\n",
    "    vT=(1-con)*4900+con*3000    # m/s\n",
    "    gammaL=2.5*(1-con)+1.7*con\n",
    "    gammaT=2.5*(1-con)+1.7*con\n",
    "    M=(2*(24.305e-3)+(28.0855e-3*(1-con)+118.71e-3*con))/3/Nav\n",
    "    V=((1-con)*(6.39e-10)^3+con*(6.77e-10)^3)/12\n",
    "    a=V^(1.0/3.0)\n",
    "    ro=M/V\n",
    "    Vdj=(((6.39e-10)^3)/((1-con)*(6.39e-10)^3+con*(6.77e-10)^3))^(1/3)\n",
    "    jL=vL/7700*Vdj\n",
    "    jT=vT/4900*Vdj\n",
    "    thetaLx=thetaL*jL\n",
    "    thetaTx=thetaT*jT\n",
    "    ##########Boundary Scattering###############3\n",
    "    D=11e-9\n",
    "    #p=1.0\n",
    "    ##########Alloy Scattering###################\n",
    "    mbar=(28.0855*(1-con)+118.71*con)\n",
    "    GammaSiSn=(1-con)*((28.0855-mbar)/mbar)^2+con*((118.71-mbar)/mbar)^2\n",
    "    GammaMgSiSn=2*((mbar/(24.305+mbar))^2*GammaSiSn);         \n",
    "    ##########Electron Scattering###################\n",
    "    Eep=5.0*q\n",
    "    xsp=xs[1]\n",
    "    Tp=300.0\n",
    "    mdx1=0.67*me\n",
    "    mdx3=0.38*me\n",
    "    Efx3=0.2589\n",
    "    Efx1=0.2589\n",
    "    ##########Nanoparticle Scattering###################\n",
    "    #NP=0\n",
    "    #alpha=1.0\n",
    "    Rnp=1/2*15.0e-9#\n",
    "    Vnp=4/3*pi*(Rnp)^3\n",
    "    rhonp=NP/100/Vnp\n",
    "    rhoM=3.0\n",
    "    rhoT=3.78\n",
    "    alphaNP=0.2289#1-exp(-1*(rhoT-rhoM)/rhoM);\n",
    "#vartauPH0=[[0.02],Ts[1],gammaL,gammaT,xsp,thetaCLx,thetaCTx,thetaCTx,MSi,MGe,VSi,a,T_EF_Dict,0.0]\n",
    "    Tsindex=1#25\n",
    "    numberofnindex=1\n",
    "    xsindex=1\n",
    "    vartauPH0=[ [0.02],  Ts[1],   gammaL,  gammaT, con,#5\n",
    "        thetaLx, thetaTx, thetaTx, M,   M, #10\n",
    "        V, a, T_EF_Dict_Array, Eep, alphaNP, #15\n",
    "        Rnp, thetaLx, thetaTx, vL, vT, #20\n",
    "        vL, vT, p, NP,Tsindex,#25\n",
    "        numberofnindex,xsindex,p,D,GammaMgSiSn,#30\n",
    "        mdx1,mdx3,Efx1,Efx3,ro,#35,\n",
    "        NP,alphaNP,Rnp,Vnp,rhonp #40\n",
    "        ]  \n",
    "    thetaCLx=thetaCL(vartauPH0[12],vartauPH0[5],vartauPH0[17],vartauPH0[19],vartauPH0[11])\n",
    "    thetaCTx=thetaCT(vartauPH0[12],vartauPH0[5],vartauPH0[18],vartauPH0[19],vartauPH0[11])\n",
    "    #println(\"2\")\n",
    "    tauPHNLf(var)=tauPH_NL(var[3],var[11],var[1],var[2],var[9],var[21])\n",
    "    tauPHNTf(var)=tauPH_NT(var[4],var[11],var[1],var[2],var[9],var[22]) \n",
    "\n",
    "    tauPHULf(var)=tauPH_U(var[3],var[1],var[2],var[9],var[19],var[17])\n",
    "    tauPHUTf(var)=tauPH_U(var[4],var[1],var[2],var[9],var[20],var[18])\n",
    "\n",
    "    tauPHALLLf(var)=tauPH_ALL(var[30],var[11],var[1],var[2],var[19])\n",
    "    tauPHALLTf(var)=tauPH_ALL(var[30],var[11],var[1],var[2],var[20])\n",
    "\n",
    "    tauPHeLfX3(var)=tauPH_e(var[14],var[32],var[35],(var[13][var[26],var[27]])[var[2]],var[1],var[2],var[21])\n",
    "    tauPHeTfX3(var)=tauPH_e(var[14],var[32],var[35],(var[13][var[26],var[27]])[var[2]],var[1],var[2],var[22])\n",
    "\n",
    "    tauPHeLfX1(var)=tauPH_e(var[14],X1effMass(var[2])*me,var[35],(var[13][var[26],var[27]])[var[2]]-Ec0(0.6)\n",
    "        ,var[1],var[2],var[21])\n",
    "    tauPHeTfX1(var)=tauPH_e(var[14],X1effMass(var[2])*me,var[35],(var[13][var[26],var[27]])[var[2]]-Ec0(0.6)\n",
    "        ,var[1],var[2],var[22])\n",
    "\n",
    "    tauPHBLf(var)=tauPH_B(var[19],var[28],var[29])\n",
    "    tauPHBTf(var)=tauPH_B(var[20],var[28],var[29])\n",
    "    #println(\"3\")\n",
    "\n",
    "    tauPHNPLf(var)=tauPH_NP(var[37],var[40],var[38],var[1],var[2],var[19])\n",
    "    tauPHNPTf(var)=tauPH_NP(var[37],var[40],var[38],var[1],var[2],var[20])\n",
    "\n",
    "    tauPHTOTL=tau_phonon_B([tauPHNLf,tauPHULf,tauPHBLf,tauPHALLLf,tauPHeLfX3,tauPHeLfX1,tauPHNPLf],vartauPH0)#,tauPHNPLf,tauPHALLLf,tauPHeLf,tauPH_eLf ,tauPHALLLf ,tauPHBLf,,tauPHULf\n",
    "    tauPHNL=tau_phonon_B([tauPHNLf],vartauPH0)\n",
    "    tauPHRL=tau_phonon_B([tauPHULf,tauPHBLf,tauPHALLLf,tauPHeLfX3,tauPHeLfX1,tauPHNPLf],vartauPH0) #,tauPHNPLf,tauPHALLLf,tauPHeLf,tauPHALLLf,tauPH_eLf] ,tauPHBLf\n",
    "\n",
    "    tauPHTOTTx=tau_phonon_B([tauPHNTf,tauPHUTf,tauPHALLTf,tauPHeTfX3,tauPHeTfX1,tauPHBTf,tauPHNPTf],vartauPH0) #,tauPHNPTf,tauPHALLTf,tauPHeTf,tauPHALLTf,tauPH_eTf ,tauPHBTf\n",
    "    tauPHNTx=tau_phonon_B([tauPHNTf],vartauPH0)\n",
    "    tauPHRTx=tau_phonon_B([tauPHUTf,tauPHALLTf,tauPHeTfX3,tauPHeTfX1,tauPHBTf,tauPHNPTf],vartauPH0) #,tauPHNPTf,tauPHALLTf,tauPHeTf,tauPHALLTf,tauPH_eTf ,tauPHBTf#\n",
    "\n",
    "    tauPHTOTTy=tau_phonon_B([tauPHNTf,tauPHUTf,tauPHBTf,tauPHALLTf,tauPHeTfX3,tauPHeTfX1,tauPHNPTf],vartauPH0) #,tauPHNPTf,tauPHALLTf,tauPHeTf,tauPHALLTf,tauPH_eTf tauPHBTf\n",
    "    tauPHNTy=tau_phonon_B([tauPHNTf],vartauPH0)\n",
    "    tauPHRTy=tau_phonon_B([tauPHUTf,tauPHBTf,tauPHALLTf,tauPHeTfX3,tauPHeTfX1,tauPHNPTf],vartauPH0) #,tauPHNPTf,tauPHALLTf,tauPH_eTf ,tauPHBTf,tauPHALLTf,tauPHeTf\n",
    "    #println(\"4\")\n",
    "    tauPHL=[tauPHTOTL,tauPHNL,tauPHRL]\n",
    "    tauPHTx=[tauPHTOTTx,tauPHNTx,tauPHRTx]\n",
    "    tauPHTy=[tauPHTOTTx,tauPHNTx,tauPHRTx]\n",
    "    return (vartauPH0,tauPHTOTL,tauPHNL,tauPHRL,tauPHTOTTx,tauPHNTx,tauPHRTx,tauPHTOTTy,tauPHNTy,tauPHRTy,tauPHL,tauPHTx,tauPHTy)\n",
    "end\n",
    "xmax=1.0"
   ]
  },
  {
   "cell_type": "code",
   "execution_count": 13,
   "metadata": {},
   "outputs": [],
   "source": [
    "(vartauPH0,tauPHTOTL,tauPHNL,tauPHRL,tauPHTOTTx,tauPHNTx,tauPHRTx,tauPHTOTTy,tauPHNTy,tauPHRTy,tauPHL,tauPHTx,tauPHTy)=klpar(0.6,0.65,0.0)\n",
    "klsM=Array{Float64}(undef,length(Ts),length(numofn),length(xs))\n",
    "for (iT,iTx) in enumerate(Ts)    \n",
    "   (IL1,ITx1,IL2,ITx2,IL3,ITx3,kL,kTx,kTy,klsM[iT,1,1])= klt(tauPHTOTL,tauPHNL,tauPHRL,tauPHTOTTx,tauPHNTx,tauPHRTx,tauPHTOTTy,tauPHNTy,\n",
    "        tauPHRTy,iTx,[vartauPH0[21],vartauPH0[22],vartauPH0[22]])\n",
    "    #println(\"T=\", iTx, \" kl= \" ,round(klsM[iT,1,1]*10000)/10000)\n",
    "   # println(\"IL1= \",IL1,\" IL2= \",IL2,\" IL3= \",IL3,\" ITx1= \",ITx1,\" ITx2= \",ITx2,\" ITx3= \",ITx3,\" kL/3=\",kL,    \" kTx/3=\",kTx,\" kTy/3=\",kTy)\n",
    "end"
   ]
  },
  {
   "cell_type": "code",
   "execution_count": 14,
   "metadata": {},
   "outputs": [
    {
     "name": "stdout",
     "output_type": "stream",
     "text": [
      "0.8545026577017785\n",
      "0.8377467496493191\n",
      "0.8216354693391686\n",
      "0.8061583675339742\n",
      "0.7913024490622367\n",
      "0.7770526970046819\n",
      "0.7633925015153368\n",
      "0.7503040188712399\n",
      "0.73776847837693\n",
      "0.7257664493141096\n",
      "0.7142780759843655\n",
      "0.703283284980572\n",
      "0.6927619652277494\n",
      "0.6826941197487528\n",
      "0.6730599897808611\n",
      "0.6638401549930193\n",
      "0.6550156149328684\n",
      "0.6465678557442129\n",
      "0.6384789043663078\n",
      "0.6307313712991975\n",
      "0.6233084827272198\n",
      "0.6161941028945696\n",
      "0.6093727477783789\n",
      "0.6028295911800599\n",
      "0.5965504643626789\n",
      "0.590521850276939\n",
      "0.5847308731671442\n",
      "0.5791652848805423\n",
      "0.5738134481128392\n",
      "0.5686643175210715\n",
      "0.5637074192128845\n",
      "0.5589328290943728\n",
      "0.55433115048404\n",
      "0.5498934913341159\n",
      "0.5456114413420893\n",
      "0.541477049184245\n",
      "0.537482800058706\n",
      "0.5336215936872798\n",
      "0.5298867228927174\n",
      "0.5262718528401655\n",
      "0.5227710010080938\n",
      "0.5193785179342642\n",
      "0.5160890687658776\n",
      "0.5128976156294961\n",
      "0.5097994008252295\n",
      "0.5067899308407143\n",
      "0.5038649611732322\n",
      "0.5010204819426869\n",
      "0.498252704273797\n",
      "0.4955580474226167\n",
      "0.4929331266201222\n",
      "0.49037474160401223\n",
      "0.4878798658088655\n",
      "0.48544563618432823\n",
      "0.48306934361091586\n",
      "0.4807484238832748\n",
      "0.4784804492312514\n",
      "0.4762631203498218\n",
      "0.47409425890980433\n",
      "0.4719718005222453\n",
      "0.4698937881304078\n"
     ]
    }
   ],
   "source": [
    "foreach(x->println(klsM[x,1,1]),1:length(Ts))"
   ]
  },
  {
   "cell_type": "code",
   "execution_count": 15,
   "metadata": {},
   "outputs": [
    {
     "data": {
      "image/png": "[encoded data removed]",
      "text/plain": [
       "Figure(PyObject <matplotlib.figure.Figure object at 0x7f33680d29e8>)"
      ]
     },
     "metadata": {},
     "output_type": "display_data"
    }
   ],
   "source": [
    "plot(Ts,klsM[:,1,1],linestyle=\"-\",color=\"b\")\n",
    "grid()"
   ]
  },
  {
   "cell_type": "code",
   "execution_count": 16,
   "metadata": {},
   "outputs": [],
   "source": [
    "(vartauPH0,tauPHTOTL,tauPHNL,tauPHRL,tauPHTOTTx,tauPHNTx,tauPHRTx,tauPHTOTTy,tauPHNTy,tauPHRTy,tauPHL,tauPHTx,tauPHTy)=klpar(0.0,0.65,0.0)\n",
    "kls0=Array{Float64}(undef,length(Ts),length(numofn),length(xs))\n",
    "for (iT,iTx) in enumerate(Ts)    \n",
    "   (IL1,ITx1,IL2,ITx2,IL3,ITx3,kL,kTx,kTy,kls0[iT,1,1])= klt(tauPHTOTL,tauPHNL,tauPHRL,tauPHTOTTx,tauPHNTx,tauPHRTx,tauPHTOTTy,tauPHNTy,tauPHRTy,iTx,[vartauPH0[21],vartauPH0[22],vartauPH0[22]])\n",
    "    #println(\"T=\", iTx, \" kl= \" ,round(kls0[iT,1,1]*10000)/10000)\n",
    "    #println(\"IL1= \",IL1,\" IL2= \",IL2,\" IL3= \",IL3,\" ITx1= \",ITx1,\" ITx2= \",ITx2,\" ITx3= \",ITx3,\" kL/3=\",kL,    \" kTx/3=\",kTx,\" kTy/3=\",kTy)\n",
    "end"
   ]
  },
  {
   "cell_type": "code",
   "execution_count": 17,
   "metadata": {},
   "outputs": [
    {
     "name": "stdout",
     "output_type": "stream",
     "text": [
      "5.762329383899217\n",
      "5.616727786052704\n",
      "5.476753827223397\n",
      "5.34223957645391\n",
      "5.212998781192882\n",
      "5.088834079729603\n",
      "4.969542415601559\n",
      "4.854919074341342\n",
      "4.744760666262588\n",
      "4.638867305932654\n",
      "4.537044181783284\n",
      "4.439102661187747\n",
      "4.3448610347170185\n",
      "4.2541449725947595\n",
      "4.166787751862603\n",
      "4.082630309537761\n",
      "4.00152117281828\n",
      "3.923316306752522\n",
      "3.847878907054273\n",
      "3.775079156026371\n",
      "3.7047939538340864\n",
      "3.6369066342312437\n",
      "3.571306671888266\n",
      "3.5078893869947816\n",
      "3.4465556516480764\n",
      "3.387211601378471\n",
      "3.329768353371101\n",
      "3.274141735688065\n",
      "3.2202520259257845\n",
      "3.168023701508703\n",
      "3.117385201740683\n",
      "3.0682687017603576\n",
      "3.0206098983459673\n",
      "2.9743478073664953\n",
      "2.9294245725680383\n",
      "2.885785285308401\n",
      "2.8433778148017517\n",
      "2.8021526484032564\n",
      "2.762062741446432\n",
      "2.7230633761399403\n",
      "2.6851120290329593\n",
      "2.648168246567014\n",
      "2.612193528245255\n",
      "2.5771512169666564\n",
      "2.5430063960910725\n",
      "2.509725792821009\n",
      "2.4772776875065587\n",
      "2.4456318285007685\n",
      "2.4147593522134283\n",
      "2.3846327080316634\n",
      "2.355225587795415\n",
      "2.3265128595350384\n",
      "2.298470505196467\n",
      "2.2710755620968324\n",
      "2.2443060678699527\n",
      "2.2181410086767896\n",
      "2.19256027047063\n",
      "2.1675445931207418\n",
      "2.1430755272111797\n",
      "2.1191353933437456\n",
      "2.0957072437854163\n"
     ]
    }
   ],
   "source": [
    "foreach(x->println(kls0[x,1,1]),1:length(Ts))"
   ]
  },
  {
   "cell_type": "code",
   "execution_count": 18,
   "metadata": {},
   "outputs": [],
   "source": [
    "(vartauPH0,tauPHTOTL,tauPHNL,tauPHRL,tauPHTOTTx,tauPHNTx,tauPHRTx,tauPHTOTTy,tauPHNTy,tauPHRTy,tauPHL,tauPHTx,tauPHTy)=klpar(1.0,0.5,0.0)\n",
    "kls1=Array{Float64}(undef,length(Ts),length(numofn),length(xs))\n",
    "for (iT,iTx) in enumerate(Ts)    \n",
    "   (IL1,ITx1,IL2,ITx2,IL3,ITx3,kL,kTx,kTy,kls1[iT,1,1])= klt(tauPHTOTL,tauPHNL,tauPHRL,tauPHTOTTx,tauPHNTx,tauPHRTx,tauPHTOTTy,tauPHNTy,tauPHRTy,iTx,[vartauPH0[21],vartauPH0[22],vartauPH0[22]])\n",
    "   # println(\"T=\", iTx, \" kl= \" ,round(kls1[iT,1,1]*10000)/10000)\n",
    "   # println(\"IL1= \",IL1,\" IL2= \",IL2,\" IL3= \",IL3,\" ITx1= \",ITx1,\" ITx2= \",ITx2,\" ITx3= \",ITx3,\" kL/3=\",kL,    \" kTx/3=\",kTx,\" kTy/3=\",kTy)\n",
    "end"
   ]
  },
  {
   "cell_type": "code",
   "execution_count": 19,
   "metadata": {},
   "outputs": [
    {
     "name": "stdout",
     "output_type": "stream",
     "text": [
      "3.3266330398488324\n",
      "3.274482216349753\n",
      "3.2236583514870563\n",
      "3.1741455208873397\n",
      "3.125921961560756\n",
      "3.0789616180447408\n",
      "3.033235348567812\n",
      "2.988711866573461\n",
      "2.9453584763380456\n",
      "2.903141649245677\n",
      "2.862027477641971\n",
      "2.8219820340005968\n",
      "2.7829716535880653\n",
      "2.7449631511329398\n",
      "2.7079239795633647\n",
      "2.671822340998908\n",
      "2.636627262022151\n",
      "2.6023086438382976\n",
      "2.56883729459689\n",
      "2.5361849482475907\n",
      "2.5043242726548254\n",
      "2.473228868960149\n",
      "2.442873263849282\n",
      "2.4132328961674454\n",
      "2.384284099181001\n",
      "2.3560040795364805\n",
      "2.3283708931969698\n",
      "2.3013634206580007\n",
      "2.2749613403208424\n",
      "2.2491451013734167\n",
      "2.22389589638006\n",
      "2.199195633877985\n",
      "2.1750269112134766\n",
      "2.1513729877982963\n",
      "2.1282177589238764\n",
      "2.1055457302362406\n",
      "2.0833419929465418\n",
      "2.061592199829436\n",
      "2.0402825420434176\n",
      "2.019399726792586\n",
      "1.998930955837803\n",
      "1.9788639048559808\n",
      "1.9591867036390465\n",
      "1.9398879171185595\n",
      "1.9209565271976734\n",
      "1.9023819153689496\n",
      "1.8841538460941525\n",
      "1.8662624509206118\n",
      "1.8486982133075918\n",
      "1.8314519541355663\n",
      "1.8145148178710402\n",
      "1.7978782593596387\n",
      "1.781534031220433\n",
      "1.7654741718149893\n",
      "1.7496909937651839\n",
      "1.73417707299459\n",
      "1.7189252382689426\n",
      "1.7039285612121207\n",
      "1.6891803467748832\n",
      "1.6746741241345067\n",
      "1.6604036380043936\n"
     ]
    }
   ],
   "source": [
    "foreach(x->println(kls1[x,1,1]),1:length(Ts))"
   ]
  },
  {
   "cell_type": "code",
   "execution_count": 20,
   "metadata": {},
   "outputs": [
    {
     "data": {
      "image/png": "[encoded data removed]",
      "text/plain": [
       "Figure(PyObject <matplotlib.figure.Figure object at 0x7f3340987748>)"
      ]
     },
     "metadata": {},
     "output_type": "display_data"
    }
   ],
   "source": [
    "plot(Ts,klsM[:,1,1],linestyle=\"-\",color=\"b\")\n",
    "plot(Ts,kls0[:,1,1],linestyle=\"-\",color=\"r\")\n",
    "\n",
    "plot(Ts,kls1[:,1,1],linestyle=\"-\",color=\"k\")\n",
    "grid()"
   ]
  },
  {
   "cell_type": "code",
   "execution_count": 21,
   "metadata": {},
   "outputs": [
    {
     "data": {
      "text/plain": [
       "6.77e-10"
      ]
     },
     "execution_count": 21,
     "metadata": {},
     "output_type": "execute_result"
    }
   ],
   "source": [
    "yaa=0.6\n",
    "aMgSi=6.39e-10\n",
    "aMgSn=6.77e-10"
   ]
  },
  {
   "cell_type": "code",
   "execution_count": 22,
   "metadata": {},
   "outputs": [],
   "source": [
    "ks=Array{Float64}(undef,length(Ts),length(numofn),length(xs))\n",
    "klsT=Array{Float64}(undef,length(Ts),length(numofn),length(xs))\n",
    "f=0.0\n",
    "for (iT,iTx) in enumerate(Ts)  \n",
    "    klsT[iT,1,1]=(1-f)*klsM[iT,1,1]+f*(kls1[iT,1,1]*(1-yaa)aMgSn^3/((1-yaa)*aMgSn^3+yaa*aMgSi^3)+kls0[iT,1,1]*(yaa)aMgSi^3/((1-yaa)*aMgSn^3+yaa*aMgSi^3))\n",
    "       ks[iT,1,1]=klsT[iT,1,1]+kes[iT,1,1]+kbis[iT,1,1,] \n",
    "    #println(\"T=\", iTx, \" kl= \" ,round(klsT[iT,1,1]*10000)/10000)\n",
    "    #println(\"IL1= \",IL1,\" IL2= \",IL2,\" IL3= \",IL3,\" ITx1= \",ITx1,\" ITx2= \",ITx2,\" ITx3= \",ITx3,\" kL/3=\",kL,    \" kTx/3=\",kTx,\" kTy/3=\",kTy)\n",
    "end"
   ]
  },
  {
   "cell_type": "code",
   "execution_count": 23,
   "metadata": {},
   "outputs": [
    {
     "data": {
      "text/plain": [
       "5-element Array{Float64,1}:\n",
       " 7.16256157635468\n",
       " 5.26108374384236\n",
       " 4.14778325123153\n",
       " 3.38916256157635\n",
       " 2.89655172413793"
      ]
     },
     "execution_count": 23,
     "metadata": {},
     "output_type": "execute_result"
    }
   ],
   "source": [
    "MgSn_KL_T=[303.381209787804   ,404.509621648526   ,508.944674606021   ,609.64854815216    ,715.169193157614]\n",
    "MgSn_KL_K=[ 7.16256157635468, 5.26108374384236, 4.14778325123153, 3.38916256157635, 2.89655172413793]"
   ]
  },
  {
   "cell_type": "code",
   "execution_count": 24,
   "metadata": {},
   "outputs": [
    {
     "data": {
      "image/png": "[encoded data removed]",
      "text/plain": [
       "Figure(PyObject <matplotlib.figure.Figure object at 0x7f33409df860>)"
      ]
     },
     "metadata": {},
     "output_type": "display_data"
    }
   ],
   "source": [
    "figure()\n",
    "#semilogy(Ts,kls[:,1,1],linestyle=\"-\",color=\"c\")\n",
    "#plot(Ts,kls0[:,1,1],linestyle=\"-\",color=\"b\")\n",
    "#plot(Ts,kls1[:,1,1],linestyle=\"-\",color=\"c\")\n",
    "#plot(Ts,klsM[:,1,1],linestyle=\"-\",color=\"k\")\n",
    "plot(Ts,klsT[:,1,1]+kes[:,1,1]+kbis[:,1,1],linestyle=\"-\",color=\"r\")\n",
    "#ylim(0,4.5)\n",
    "grid(true)\n",
    "#kes,kees,kehs,kbis"
   ]
  },
  {
   "cell_type": "code",
   "execution_count": 25,
   "metadata": {},
   "outputs": [
    {
     "data": {
      "text/plain": [
       "9-element Array{Float64,1}:\n",
       "  1.6\n",
       "  1.7\n",
       "  3.8\n",
       "  7.8\n",
       " 12.2\n",
       " 25.6\n",
       " 40.8\n",
       " 68.0\n",
       " 62.0"
      ]
     },
     "execution_count": 25,
     "metadata": {},
     "output_type": "execute_result"
    }
   ],
   "source": [
    "MgSiSn4hECE=[10,12.4,20.5,35.8,43.2,69.6,82.8,100,110]\n",
    "MgSiSn2hECE=[3,4.4,8.5,15.8,22.2,55.6,50.8,68,80]\n",
    "MgSiSn1hECE=[2,4.2,3.7,11.8,22.2,25.6,30.8,48,64]\n",
    "MgSiSn0hECE=[1.6,1.7,3.8,7.8,12.2,25.6,40.8,68,62]"
   ]
  },
  {
   "cell_type": "code",
   "execution_count": 26,
   "metadata": {},
   "outputs": [
    {
     "data": {
      "text/plain": [
       "9-element Array{Float64,1}:\n",
       " 2.1168755981\n",
       " 2.0268355263\n",
       " 1.9150855263\n",
       " 1.8140986842\n",
       " 1.7209888158\n",
       " 1.8544934211\n",
       " 1.9231644737\n",
       " 2.0605065789\n",
       " 2.1816907895"
      ]
     },
     "execution_count": 26,
     "metadata": {},
     "output_type": "execute_result"
    }
   ],
   "source": [
    "MgSiSn4hKCT=[27.204980536447565,125.22263104569937,250.3986028902043, 300.61256865568174,350.4225990508186, 400.31661600810537,\n",
    "450.60323681544304,500.88852450274595,550.37460672959,]\n",
    "MgSiSn4hKCK=[ 2.8789473684210525, 2.7375, 2.609210526315789, 2.5121710526315786, 2.4184210526315786, 2.531907894736842, 2.614144736842105\n",
    ", 2.6930921052631573, 2.7999999999999994]\n",
    "MgSiSn2hKCT=[27.174994546327184, 125.66321921825845, 250.56521889830958, 300.8030294412153, 350.04276302458277,400.3366068836394, \n",
    "450.6409643790327, 500.95101524496823,550.7594666065552]\n",
    "MgSiSn2hKCK=[2.608956937799043, 2.4846513157894736, 2.4523355263157893, 2.3861330409356722, 2.3131756578947367\n",
    ", 2.385235380116959, 2.4832374999999995, 2.595288011695906, 2.697641746411483]\n",
    "MgSiSn05hKCT=[26.1867119039,124.6184700145,249.7991072943,300.1809590466,349.8324946796,399.3641637338,450.1016014407,\n",
    "450.7811561579,549.7232004091,500.4092678505]\n",
    "MgSiSn05hKCK=[2.4217028509,2.3627326555,2.2459551435,2.1025076754,2.0223385167,2.2370652412,2.3803594498,2.302875,\n",
    "2.5966549043,2.5105263158]\n",
    "MgSiSn2h2TiO2KCT=[450.7811561579,26.5677491601,125.429931211,250.6172345758,300.4185996907,350.6278995361,\n",
    "400.1639737642,500.3759398496,550.2639577668]\n",
    "MgSiSn2h2TiO2KCK=[2.302875,2.3065789474,2.2490131579,2.1486842105,2.0335526316,1.925,2.1552631579,2.4282894737,\n",
    "2.5269736842]\n",
    "MgSiSn2h5TiO2KCT=[27.3549565403,124.5907321495,250.1753052845,299.9806697595,350.1926358449,400.1339785634,\n",
    "450.0339945609,500.3299472084,550.6152348958]\n",
    "MgSiSn2h5TiO2KCK=[2.2490131579,2.1782894737,2.0582236842,1.9529605263,1.8509868421,2.08125,2.2095394737,2.3148026316,\n",
    "2.39375]\n",
    "MgSiSn0hKCT=[26.9755694846,125.1437396683,250.3474884019,300.0735322348,349.8027683571,400.6191835973,449.916314723,\n",
    "500.2366154749,550.052698235]\n",
    "MgSiSn0hKCK=[2.1168755981,2.0268355263,1.9150855263,1.8140986842,1.7209888158,1.8544934211,1.9231644737,2.0605065789,\n",
    "2.1816907895]"
   ]
  },
  {
   "cell_type": "code",
   "execution_count": 27,
   "metadata": {},
   "outputs": [
    {
     "data": {
      "image/png": "[encoded data removed]",
      "text/plain": [
       "Figure(PyObject <matplotlib.figure.Figure object at 0x7f33408862e8>)"
      ]
     },
     "metadata": {},
     "output_type": "display_data"
    },
    {
     "data": {
      "image/png": "[encoded data removed]",
      "text/plain": [
       "Figure(PyObject <matplotlib.figure.Figure object at 0x7f33408b7da0>)"
      ]
     },
     "metadata": {},
     "output_type": "display_data"
    }
   ],
   "source": [
    "\n",
    "figure()\n",
    "plot(Ts,sigmas[:,1,1]/100,linestyle=\"-\",color=\"b\")\n",
    "#plot(Ts,sigmas[:,2,2]/100/6^(2/3),linestyle=\"-\",color=\"r\")\n",
    "#plot(Ts,sigmas[:,3,3]/100/6^(2/3),linestyle=\"-\",color=\"k\")\n",
    "#plot(Ts,sigmas[:,4,4]/100/6^(2/3),linestyle=\"-\",color=\"g\")\n",
    "plot(MgSiSn4hKCT .+273,MgSiSn4hECE,linestyle=\"None\",marker=\".\",markersize=10,color=\"r\")\n",
    "#plot(MgSiSn4hKCT .+273,MgSiSn2hECE,linestyle=\"None\",marker=\".\",markersize=10,color=\"k\")\n",
    "#plot(MgSiSn4hKCT .+273,MgSiSn1hECE,linestyle=\"None\",marker=\".\",markersize=10,color=\"b\")\n",
    "#plot(MgSiSn4hKCT .+273,MgSiSn0hECE,linestyle=\"None\",marker=\".\",markersize=10,color=\"g\")\n",
    "#plot(SiGe_Suin_EC_T,SiGe_Suin_Green_EC_E/100,linestyle=\"None\",marker=\"x\",markersize=2,color=\"g\")\n",
    "#plot(SiGe_Suin_EC_T,SiGe_Suin_Blue_EC_E/100,linestyle=\"None\",marker=\"o\",markersize=2,color=\"b\")\n",
    "#plot(SiGe_Suin_EC_T,SiGe_Suin_Pink_EC_E/100,linestyle=\"None\",marker=\"o\",markersize=2,color=\"r\")\n",
    "#plot(SiGe_Suin_EC_T,SiGe_Suin_Black_EC_E/100,linestyle=\"None\",marker=\"o\",markersize=2,color=\"k\")\n",
    "grid()\n",
    "\n",
    "figure()\n",
    "plot(Ts,-seebecks[:,1,1]*1e6,linestyle=\"-\",color=\"b\")\n",
    "#plot(Ts,-seebecks[:,2,2]*1e6,linestyle=\"-\",color=\"r\")\n",
    "#plot(Ts,-seebecks[:,3,3]*1e6,linestyle=\"-\",color=\"k\")\n",
    "#plot(Ts,-seebecks[:,4,4]*1e6,linestyle=\"-\",color=\"g\")\n",
    "#plot(Ts,-seebecks[:,2,2]*1e6,linestyle=\"-\",color=\"b\")\n",
    "#plot(SiGe_Vin_162_Bulk_SC_T,SiGe_Vin_162_Bulk_SC_S,linestyle=\"None\",marker=\".\",markersize=10,color=\"r\")\n",
    "#plot(SiGe_Suin_EC_T,-SiGe_Suin_Green_SC_S,linestyle=\"None\",marker=\"x\",markersize=2,color=\"g\")\n",
    "#plot(SiGe_Suin_EC_T,-SiGe_Suin_Blue_SC_S,linestyle=\"None\",marker=\"x\",markersize=2,color=\"b\")\n",
    "#plot(SiGe_Suin_EC_T,-SiGe_Suin_Pink_SC_S,linestyle=\"None\",marker=\"x\",markersize=2,color=\"r\")\n",
    "#plot(SiGe_Suin_EC_T,-SiGe_Suin_Black_SC_S,linestyle=\"None\",marker=\"x\",markersize=2,color=\"k\")\n",
    "grid()"
   ]
  },
  {
   "cell_type": "code",
   "execution_count": 28,
   "metadata": {},
   "outputs": [
    {
     "data": {
      "image/png": "[encoded data removed]",
      "text/plain": [
       "Figure(PyObject <matplotlib.figure.Figure object at 0x7f33680d2c88>)"
      ]
     },
     "metadata": {},
     "output_type": "display_data"
    },
    {
     "name": "stderr",
     "output_type": "stream",
     "text": [
      "No handles with labels found to put in legend.\n"
     ]
    }
   ],
   "source": [
    "figure()\n",
    "title(\"k\")\n",
    "plot(Ts,klsT[:,1,1]+kes[:,1,1]+kbis[:,1,1],linestyle=\"-\",color=\"r\")\n",
    "#plot(Ts,klsT[:,1,1]+kes[:,1,1]+kbis[:,1,1],linestyle=\"-\",color=\"r\")\n",
    "#plot(Ts,klsT[:,1,1]+kes[:,1,1]+kbis[:,1,1],linestyle=\"-\",color=\"r\")\n",
    "#plot(Ts,klsT[:,1,1]+kes[:,1,1]+kbis[:,1,1],linestyle=\"-\",color=\"r\")\n",
    "plot(MgSiSn4hKCT .+273,MgSiSn4hKCK,linestyle=\"None\",marker=\"o\",markersize=7,color=\"k\")\n",
    "#plot(MgSiSn2hKCT .+273,MgSiSn2hKCK,linestyle=\"None\",marker=\"^\",markersize=7,color=\"b\")\n",
    "#plot(MgSiSn05hKCT .+273,MgSiSn05hKCK,linestyle=\"None\",marker=\"D\",markersize=7,color=\"g\")\n",
    "#plot(MgSiSn2h2TiO2KCT  .+273,MgSiSn2h2TiO2KCK,linestyle=\"None\",marker=\"8\",markersize=7,color=\"tab:pink\")\n",
    "#plot(MgSiSn2h5TiO2KCT .+273,MgSiSn2h5TiO2KCK,linestyle=\"None\",marker=\"*\",markersize=7,color=\"tab:purple\")\n",
    "#plot(MgSiSn0hKCT .+273,MgSiSn0hKCK,linestyle=\"None\",marker=\"s\",markersize=7,color=\"r\",label=\"4 h\")\n",
    "#plot(SiGe_SA_162_Bulk_KC_T,SiGe_SA_162_Bulk_KC_KL,linestyle=\"None\",marker=\"o\",markersize=7,color=\"b\")\n",
    "#plot(SiGe_SA_162_Bulk_KC_T2,SiGe_SA_162_Bulk_KC_K2,linestyle=\"None\",marker=\"o\",markersize=7,color=\"g\")\n",
    "legend(loc=\"upper left\")\n",
    "#ylim(1.5,5.0)\n",
    "grid()"
   ]
  },
  {
   "cell_type": "code",
   "execution_count": 29,
   "metadata": {
    "scrolled": false
   },
   "outputs": [
    {
     "data": {
      "text/plain": [
       "61-element Array{Float64,1}:\n",
       " 300.0\n",
       " 310.0\n",
       " 320.0\n",
       " 330.0\n",
       " 340.0\n",
       " 350.0\n",
       " 360.0\n",
       " 370.0\n",
       " 380.0\n",
       " 390.0\n",
       " 400.0\n",
       " 410.0\n",
       " 420.0\n",
       "   ⋮  \n",
       " 790.0\n",
       " 800.0\n",
       " 810.0\n",
       " 820.0\n",
       " 830.0\n",
       " 840.0\n",
       " 850.0\n",
       " 860.0\n",
       " 870.0\n",
       " 880.0\n",
       " 890.0\n",
       " 900.0"
      ]
     },
     "execution_count": 29,
     "metadata": {},
     "output_type": "execute_result"
    }
   ],
   "source": [
    "Ts"
   ]
  },
  {
   "cell_type": "code",
   "execution_count": 36,
   "metadata": {},
   "outputs": [
    {
     "name": "stdout",
     "output_type": "stream",
     "text": [
      "0.8545026577017785\n",
      "0.8377467496493191\n",
      "0.8216354693391686\n",
      "0.8061583675339742\n",
      "0.7913024490622367\n",
      "0.7770526970046819\n",
      "0.7633925015153368\n",
      "0.7503040188712399\n",
      "0.73776847837693\n",
      "0.7257664493141096\n",
      "0.7142780759843655\n",
      "0.703283284980572\n",
      "0.6927619652277494\n",
      "0.6826941197487528\n",
      "0.6730599897808611\n",
      "0.6638401549930193\n",
      "0.6550156149328684\n",
      "0.6465678557442129\n",
      "0.6384789043663078\n",
      "0.6307313712991975\n",
      "0.6233084827272198\n",
      "0.6161941028945696\n",
      "0.6093727477783789\n",
      "0.6028295911800599\n",
      "0.5965504643626789\n",
      "0.590521850276939\n",
      "0.5847308731671442\n",
      "0.5791652848805423\n",
      "0.5738134481128392\n",
      "0.5686643175210715\n",
      "0.5637074192128845\n",
      "0.5589328290943728\n",
      "0.55433115048404\n",
      "0.5498934913341159\n",
      "0.5456114413420893\n",
      "0.541477049184245\n",
      "0.537482800058706\n",
      "0.5336215936872798\n",
      "0.5298867228927174\n",
      "0.5262718528401655\n",
      "0.5227710010080938\n",
      "0.5193785179342642\n",
      "0.5160890687658776\n",
      "0.5128976156294961\n",
      "0.5097994008252295\n",
      "0.5067899308407143\n",
      "0.5038649611732322\n",
      "0.5010204819426869\n",
      "0.498252704273797\n",
      "0.4955580474226167\n",
      "0.4929331266201222\n",
      "0.49037474160401223\n",
      "0.4878798658088655\n",
      "0.48544563618432823\n",
      "0.48306934361091586\n",
      "0.4807484238832748\n",
      "0.4784804492312514\n",
      "0.4762631203498218\n",
      "0.47409425890980433\n",
      "0.4719718005222453\n",
      "0.4698937881304078\n"
     ]
    }
   ],
   "source": [
    "foreach(x->println(klsT[x,1,1]),1:length(Ts))"
   ]
  },
  {
   "cell_type": "code",
   "execution_count": 37,
   "metadata": {},
   "outputs": [
    {
     "name": "stdout",
     "output_type": "stream",
     "text": [
      "0.007615984492965979\n",
      "0.007593448543783777\n",
      "0.007563493116480593\n",
      "0.007529405441543413\n",
      "0.00749589159639535\n",
      "0.007469989004021707\n",
      "0.007462277039394108\n",
      "0.0074883076864942725\n",
      "0.007569985575211365\n",
      "0.007736363038581268\n",
      "0.008023154824448047\n",
      "0.008470552712773215\n",
      "0.0091292310353857\n",
      "0.010030561884071379\n",
      "0.011207133348638217\n",
      "0.01269097755389751\n",
      "0.014510514889844742\n",
      "0.016692833888193356\n",
      "0.01926498409915707\n",
      "0.02225470574619068\n",
      "0.025690743597038934\n",
      "0.029602899633160984\n",
      "0.03402194498051142\n",
      "0.038979468251126886\n",
      "0.044507698898402226\n",
      "0.05063933001419041\n",
      "0.05740740839137859\n",
      "0.06484513743947018\n",
      "0.07298576906047033\n",
      "0.08186249174687454\n",
      "0.09150833219734172\n",
      "0.10205964095078901\n",
      "0.11339160976488516\n",
      "0.12557181707548437\n",
      "0.13864150874711179\n",
      "0.15263496895126671\n",
      "0.1675842986611623\n",
      "0.1835203798583359\n",
      "0.20047317529564945\n",
      "0.21847183979220852\n",
      "0.23754476423859194\n",
      "0.2577195924931006\n",
      "0.27902322687268133\n",
      "0.301481829082737\n",
      "0.3251208197866562\n",
      "0.3499648783688889\n",
      "0.3760379436457031\n",
      "0.40336321586719426\n",
      "0.43196316013646174\n",
      "0.46185951125223856\n",
      "0.4931703895418875\n",
      "0.5257575679054951\n",
      "0.5596881675051\n",
      "0.5949880713612004\n",
      "0.6316780874165184\n",
      "0.6697770657043152\n",
      "0.7093026533029683\n",
      "0.7502715725640847\n",
      "0.7926997516307526\n",
      "0.8366023974227899\n",
      "0.8819940426536252\n"
     ]
    }
   ],
   "source": [
    "foreach(x->println(kes[x,1,1]),1:length(Ts))"
   ]
  },
  {
   "cell_type": "code",
   "execution_count": 38,
   "metadata": {},
   "outputs": [
    {
     "name": "stdout",
     "output_type": "stream",
     "text": [
      "0.00014181565309533933\n",
      "0.0002878446435925512\n",
      "0.0005604778462693122\n",
      "0.0010505078836642798\n",
      "0.0019005003738655935\n",
      "0.0033254085146774554\n",
      "0.005634682359633944\n",
      "0.009249141244947192\n",
      "0.014699866117419674\n",
      "0.022592232937289184\n",
      "0.03352504953429588\n",
      "0.04798095154906235\n",
      "0.06627266867438701\n",
      "0.08844445704950053\n",
      "0.11439461112543618\n",
      "0.1439850556578633\n",
      "0.1771062059772492\n",
      "0.2137159242418569\n",
      "0.25384119370793423\n",
      "0.2975626396942841\n",
      "0.34499563783200393\n",
      "0.39627431248688216\n",
      "0.451539966003073\n",
      "0.5109334239585716\n",
      "0.5745903260338411\n",
      "0.6426383817052024\n",
      "0.715195060006089\n",
      "0.7923675053606473\n",
      "0.8742518755533125\n",
      "0.9609332277977196\n",
      "1.0524855781740048\n",
      "1.1492899741488383\n",
      "1.2509006034036303\n",
      "1.3574775320016288\n",
      "1.469085738041568\n",
      "1.5857590888382085\n",
      "1.7075164516201875\n",
      "1.8343654223228707\n",
      "1.9663038490568905\n",
      "2.103320712822641\n",
      "2.2453967682508256\n",
      "2.3925050791302898\n",
      "2.5446115015988915\n",
      "2.701675137947114\n",
      "2.8636487715903027\n",
      "3.0304792881425824\n",
      "3.2021080848104315\n",
      "3.37847146895761\n",
      "3.5595010459974716\n",
      "3.745124096422907\n",
      "3.935438893120696\n",
      "4.130075873871905\n",
      "4.3290391138365205\n",
      "4.532255624034916\n",
      "4.739641489040619\n",
      "4.951107985883322\n",
      "5.166563295058541\n",
      "5.385913296628825\n",
      "5.609062068877604\n",
      "5.835912260969274\n",
      "6.0663654005414696\n"
     ]
    }
   ],
   "source": [
    "foreach(x->println(kbis[x,1,1]),1:length(Ts))"
   ]
  },
  {
   "cell_type": "code",
   "execution_count": 30,
   "metadata": {},
   "outputs": [
    {
     "name": "stdout",
     "output_type": "stream",
     "text": [
      "0.8622604578478398\n",
      "0.8456280428366953\n",
      "0.8297594403019186\n",
      "0.8147382808591819\n",
      "0.8006988410324976\n",
      "0.7878480945233811\n",
      "0.7764894609143648\n",
      "0.7670414678026813\n",
      "0.7600383300695611\n",
      "0.7560950452899801\n",
      "0.7558262803431095\n",
      "0.7597347892424076\n",
      "0.768163864937522\n",
      "0.7811691386823247\n",
      "0.7986617342549355\n",
      "0.82051618820478\n",
      "0.8466323357999623\n",
      "0.8769766138742632\n",
      "0.9115850821733992\n",
      "0.9505487167396723\n",
      "0.9939948641562627\n",
      "1.0420713150146126\n",
      "1.0949346587619633\n",
      "1.1527424833897584\n",
      "1.2156484892949222\n",
      "1.2837995619963318\n",
      "1.3573333415646118\n",
      "1.4363779276806596\n",
      "1.5210510927266219\n",
      "1.6114600370656658\n",
      "1.707701329584231\n",
      "1.8102824441940002\n",
      "1.9186233636525554\n",
      "2.032942840411229\n",
      "2.153338688130769\n",
      "2.27987110697372\n",
      "2.412583550340056\n",
      "2.5515073958684864\n",
      "2.6966637472452573\n",
      "2.8480644054550153\n",
      "3.0057125334975114\n",
      "3.1696031895576544\n",
      "3.3397237972374505\n",
      "3.516054582659347\n",
      "3.6985689922021883\n",
      "3.8872340973521857\n",
      "4.082010989629367\n",
      "4.282855166767491\n",
      "4.48971691040773\n",
      "4.702541655097763\n",
      "4.921542409282706\n",
      "5.146208183381413\n",
      "5.3766071471504855\n",
      "5.6126893315804445\n",
      "5.854388920068054\n",
      "6.101633475470912\n",
      "6.354346397592761\n",
      "6.612447989542732\n",
      "6.875856079418161\n",
      "7.14448645891431\n",
      "7.418253231325503\n"
     ]
    }
   ],
   "source": [
    "foreach(x->println(ks[x,1,1]),1:length(Ts))"
   ]
  },
  {
   "cell_type": "code",
   "execution_count": 39,
   "metadata": {},
   "outputs": [
    {
     "name": "stdout",
     "output_type": "stream",
     "text": [
      "14.773546144407263\n",
      "14.154693738017839\n",
      "13.58150233717014\n",
      "13.054040659539499\n",
      "12.574976490102049\n",
      "12.150539076814415\n",
      "11.791687872056348\n",
      "11.515310465985813\n",
      "11.345047842761403\n",
      "11.311102100976555\n",
      "11.44836640972451\n",
      "11.792781021088112\n",
      "12.388446092369271\n",
      "13.250980000846146\n",
      "14.396084399680595\n",
      "15.837587139730477\n",
      "17.58461690058882\n",
      "19.64476228250089\n",
      "22.025632582055707\n",
      "24.735570529111097\n",
      "27.78383489501901\n",
      "31.180503467065297\n",
      "34.936259435426585\n",
      "39.0621507754845\n",
      "43.569359553816795\n",
      "48.468999788454184\n",
      "53.77200847788066\n",
      "59.4889586715888\n",
      "65.62997841859021\n",
      "72.20467242692945\n",
      "79.22206248926497\n",
      "86.75531147366586\n",
      "94.71186937091753\n",
      "103.12222572701415\n",
      "111.99914162125965\n",
      "121.35044743362596\n",
      "131.18217747362357\n",
      "141.49923573979876\n",
      "152.30562730932772\n",
      "163.6045653681232\n",
      "175.39853325050447\n",
      "187.68932786956518\n",
      "200.4780948271904\n",
      "213.7653596501905\n",
      "227.55105719581\n",
      "241.83456018785535\n",
      "256.6147073243602\n",
      "271.8898311361102\n",
      "287.6577856406965\n",
      "303.91597376741214\n",
      "320.70700375485865\n",
      "337.9523929121947\n",
      "355.67106336092155\n",
      "373.86227884994537\n",
      "392.522867233954\n",
      "411.6487360681047\n",
      "431.2352560940072\n",
      "451.2774139372587\n",
      "471.769892142766\n",
      "492.70712011303493\n",
      "514.0833112854846\n"
     ]
    }
   ],
   "source": [
    "foreach(x->println(sigmas[x,1,1]/100),1:length(Ts))"
   ]
  },
  {
   "cell_type": "code",
   "execution_count": 32,
   "metadata": {},
   "outputs": [
    {
     "name": "stdout",
     "output_type": "stream",
     "text": [
      "526.7117583833439\n",
      "532.7228455921006\n",
      "538.3509635463524\n",
      "543.4394214504267\n",
      "547.7294391656883\n",
      "550.8142443326446\n",
      "552.0909652726531\n",
      "550.7319328614321\n",
      "545.7178784531552\n",
      "535.989697369928\n",
      "520.7474432654917\n",
      "499.8216310311747\n",
      "473.8131143899655\n",
      "444.31447046865924\n",
      "413.1928592172938\n",
      "382.16012825677495\n",
      "352.50442683834143\n",
      "325.0014754892237\n",
      "299.99167158601267\n",
      "277.5134643835089\n",
      "257.4274317042332\n",
      "239.50739302860526\n",
      "223.49837810134932\n",
      "209.1494890005279\n",
      "196.23016460525534\n",
      "184.5365627825087\n",
      "173.89347171011622\n",
      "164.15154149705722\n",
      "155.18479853251648\n",
      "146.8874560978567\n",
      "139.17083567301222\n",
      "131.93779279088022\n",
      "125.16365194794969\n",
      "118.78602001277828\n",
      "112.75766825090304\n",
      "107.03997498823426\n",
      "101.60045024846916\n",
      "96.41148013387418\n",
      "91.44943541607576\n",
      "86.69398068033078\n",
      "82.1275221627806\n",
      "77.73476026040993\n",
      "73.50232399331762\n",
      "69.41847076729356\n",
      "65.47283867586471\n",
      "61.65624134149795\n",
      "57.96049735988115\n",
      "54.37828800153597\n",
      "50.90303806933573\n",
      "47.52881579393298\n",
      "44.2457596164982\n",
      "41.05667762728683\n",
      "37.95467501750891\n",
      "34.93526447527239\n",
      "31.994533406177318\n",
      "29.128939743559123\n",
      "26.335236777336366\n",
      "23.610428773476862\n",
      "20.951738967615164\n",
      "18.356584294281653\n",
      "15.82255452203029\n"
     ]
    }
   ],
   "source": [
    "foreach(x->println(-seebecks[x,1,1]*1e6),1:length(Ts))"
   ]
  },
  {
   "cell_type": "code",
   "execution_count": 33,
   "metadata": {},
   "outputs": [
    {
     "name": "stdout",
     "output_type": "stream",
     "text": [
      "0.007615984492965979\n",
      "0.007593448543783777\n",
      "0.007563493116480593\n",
      "0.007529405441543413\n",
      "0.00749589159639535\n",
      "0.007469989004021707\n",
      "0.007462277039394108\n",
      "0.0074883076864942725\n",
      "0.007569985575211365\n",
      "0.007736363038581268\n",
      "0.008023154824448047\n",
      "0.008470552712773215\n",
      "0.0091292310353857\n",
      "0.010030561884071379\n",
      "0.011207133348638217\n",
      "0.01269097755389751\n",
      "0.014510514889844742\n",
      "0.016692833888193356\n",
      "0.01926498409915707\n",
      "0.02225470574619068\n",
      "0.025690743597038934\n",
      "0.029602899633160984\n",
      "0.03402194498051142\n",
      "0.038979468251126886\n",
      "0.044507698898402226\n",
      "0.05063933001419041\n",
      "0.05740740839137859\n",
      "0.06484513743947018\n",
      "0.07298576906047033\n",
      "0.08186249174687454\n",
      "0.09150833219734172\n",
      "0.10205964095078901\n",
      "0.11339160976488516\n",
      "0.12557181707548437\n",
      "0.13864150874711179\n",
      "0.15263496895126671\n",
      "0.1675842986611623\n",
      "0.1835203798583359\n",
      "0.20047317529564945\n",
      "0.21847183979220852\n",
      "0.23754476423859194\n",
      "0.2577195924931006\n",
      "0.27902322687268133\n",
      "0.301481829082737\n",
      "0.3251208197866562\n",
      "0.3499648783688889\n",
      "0.3760379436457031\n",
      "0.40336321586719426\n",
      "0.43196316013646174\n",
      "0.46185951125223856\n",
      "0.4931703895418875\n",
      "0.5257575679054951\n",
      "0.5596881675051\n",
      "0.5949880713612004\n",
      "0.6316780874165184\n",
      "0.6697770657043152\n",
      "0.7093026533029683\n",
      "0.7502715725640847\n",
      "0.7926997516307526\n",
      "0.8366023974227899\n",
      "0.8819940426536252\n"
     ]
    }
   ],
   "source": [
    "foreach(x->println(kes[x,1,1]),1:length(Ts))"
   ]
  },
  {
   "cell_type": "code",
   "execution_count": 34,
   "metadata": {},
   "outputs": [
    {
     "name": "stdout",
     "output_type": "stream",
     "text": [
      "0.00014181565309533933\n",
      "0.0002878446435925512\n",
      "0.0005604778462693122\n",
      "0.0010505078836642798\n",
      "0.0019005003738655935\n",
      "0.0033254085146774554\n",
      "0.005634682359633944\n",
      "0.009249141244947192\n",
      "0.014699866117419674\n",
      "0.022592232937289184\n",
      "0.03352504953429588\n",
      "0.04798095154906235\n",
      "0.06627266867438701\n",
      "0.08844445704950053\n",
      "0.11439461112543618\n",
      "0.1439850556578633\n",
      "0.1771062059772492\n",
      "0.2137159242418569\n",
      "0.25384119370793423\n",
      "0.2975626396942841\n",
      "0.34499563783200393\n",
      "0.39627431248688216\n",
      "0.451539966003073\n",
      "0.5109334239585716\n",
      "0.5745903260338411\n",
      "0.6426383817052024\n",
      "0.715195060006089\n",
      "0.7923675053606473\n",
      "0.8742518755533125\n",
      "0.9609332277977196\n",
      "1.0524855781740048\n",
      "1.1492899741488383\n",
      "1.2509006034036303\n",
      "1.3574775320016288\n",
      "1.469085738041568\n",
      "1.5857590888382085\n",
      "1.7075164516201875\n",
      "1.8343654223228707\n",
      "1.9663038490568905\n",
      "2.103320712822641\n",
      "2.2453967682508256\n",
      "2.3925050791302898\n",
      "2.5446115015988915\n",
      "2.701675137947114\n",
      "2.8636487715903027\n",
      "3.0304792881425824\n",
      "3.2021080848104315\n",
      "3.37847146895761\n",
      "3.5595010459974716\n",
      "3.745124096422907\n",
      "3.935438893120696\n",
      "4.130075873871905\n",
      "4.3290391138365205\n",
      "4.532255624034916\n",
      "4.739641489040619\n",
      "4.951107985883322\n",
      "5.166563295058541\n",
      "5.385913296628825\n",
      "5.609062068877604\n",
      "5.835912260969274\n",
      "6.0663654005414696\n"
     ]
    }
   ],
   "source": [
    "foreach(x->println(kbis[x,1,1]),1:length(Ts))"
   ]
  },
  {
   "cell_type": "code",
   "execution_count": 35,
   "metadata": {},
   "outputs": [
    {
     "name": "stdout",
     "output_type": "stream",
     "text": [
      "0.8545026577017785\n",
      "0.8377467496493191\n",
      "0.8216354693391686\n",
      "0.8061583675339742\n",
      "0.7913024490622367\n",
      "0.7770526970046819\n",
      "0.7633925015153368\n",
      "0.7503040188712399\n",
      "0.73776847837693\n",
      "0.7257664493141096\n",
      "0.7142780759843655\n",
      "0.703283284980572\n",
      "0.6927619652277494\n",
      "0.6826941197487528\n",
      "0.6730599897808611\n",
      "0.6638401549930193\n",
      "0.6550156149328684\n",
      "0.6465678557442129\n",
      "0.6384789043663078\n",
      "0.6307313712991975\n",
      "0.6233084827272198\n",
      "0.6161941028945696\n",
      "0.6093727477783789\n",
      "0.6028295911800599\n",
      "0.5965504643626789\n",
      "0.590521850276939\n",
      "0.5847308731671442\n",
      "0.5791652848805423\n",
      "0.5738134481128392\n",
      "0.5686643175210715\n",
      "0.5637074192128845\n",
      "0.5589328290943728\n",
      "0.55433115048404\n",
      "0.5498934913341159\n",
      "0.5456114413420893\n",
      "0.541477049184245\n",
      "0.537482800058706\n",
      "0.5336215936872798\n",
      "0.5298867228927174\n",
      "0.5262718528401655\n",
      "0.5227710010080938\n",
      "0.5193785179342642\n",
      "0.5160890687658776\n",
      "0.5128976156294961\n",
      "0.5097994008252295\n",
      "0.5067899308407143\n",
      "0.5038649611732322\n",
      "0.5010204819426869\n",
      "0.498252704273797\n",
      "0.4955580474226167\n",
      "0.4929331266201222\n",
      "0.49037474160401223\n",
      "0.4878798658088655\n",
      "0.48544563618432823\n",
      "0.48306934361091586\n",
      "0.4807484238832748\n",
      "0.4784804492312514\n",
      "0.4762631203498218\n",
      "0.47409425890980433\n",
      "0.4719718005222453\n",
      "0.4698937881304078\n"
     ]
    }
   ],
   "source": [
    "foreach(x->println(klsT[x,1,1]),1:length(Ts))"
   ]
  }
 ],
 "metadata": {
  "kernelspec": {
   "display_name": "Julia 1.4.0",
   "language": "julia",
   "name": "julia-1.4"
  },
  "language_info": {
   "file_extension": ".jl",
   "mimetype": "application/julia",
   "name": "julia",
   "version": "1.4.0"
  }
 },
 "nbformat": 4,
 "nbformat_minor": 1
}
