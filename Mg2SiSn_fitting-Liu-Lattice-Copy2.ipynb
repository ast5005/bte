{
 "cells": [
  {
   "cell_type": "code",
   "execution_count": 1,
   "metadata": {
    "collapsed": false,
    "scrolled": false
   },
   "outputs": [
    {
     "data": {
      "text/plain": [
       "kltSA (generic function with 1 method)"
      ]
     },
     "execution_count": 1,
     "metadata": {},
     "output_type": "execute_result"
    }
   ],
   "source": [
    "using constants\n",
    "using types\n",
    "using Optim\n",
    "using PyPlot\n",
    "using data\n",
    "include(\"DOSfunctions.jl\")\n",
    "include(\"userfunctions.jl\")\n",
    "include(\"propertyfuncs.jl\")"
   ]
  },
  {
   "cell_type": "code",
   "execution_count": 2,
   "metadata": {
    "collapsed": false
   },
   "outputs": [
    {
     "ename": "LoadError",
     "evalue": "\u001b[91mUndefVarError: parBandTxo not defined\u001b[39m",
     "output_type": "error",
     "traceback": [
      "\u001b[91mUndefVarError: parBandTxo not defined\u001b[39m",
      "",
      "Stacktrace:",
      " [1] \u001b[1minclude_string\u001b[22m\u001b[22m\u001b[1m(\u001b[22m\u001b[22m::String, ::String\u001b[1m)\u001b[22m\u001b[22m at \u001b[1m./loading.jl:515\u001b[22m\u001b[22m"
     ]
    }
   ],
   "source": [
    "Eoff=2.0\n",
    "Ts=collect(300.0:10.0:800.0)\n",
    "######################################################################################\n",
    "##for Liu x=0.6 best fit x=0.635 N=-1.45e20\n",
    "######################################################################################\n",
    "numofn=[-1.15e20,-1.42e20,-1.52e20,-1.75e20]#-9.5e19,-1.75e20,-3.0e19,-0.9e20]#Sample 1 -3.0e19, Sample 2 -1.25e20,\n",
    "numofnn=[1e17,1e17,1e17,1e17]\n",
    "#Sample 3 -1.75e20, Sample Sb 0.75% -1.03e20, #\n",
    "xs=[0.635]#collect(0.0:0.01:1.0)\n",
    "Es=collect(0.0:0.1:3.0)\n",
    "\n",
    "var0=[Ts[1],xs[1]]\n",
    "\n",
    "EX3(var)=Eoff#+Egx3(var[1],var[2])\n",
    "EX1(var)=Ec0(var[2])+EX3(var)\n",
    "ELH(var)=Eoff-Egx3(var[1],var[2])\n",
    "EHH(var)=Eoff-Egx3(var[1],var[2])\n",
    "\n",
    "effMassX1(var)=X1effMass(var[1])*me\n",
    "effMassX3(var)=0.38*me\n",
    "effMassLH(var)=-1.0*me\n",
    "effMassHH(var)=-1.5*me\n",
    "\n",
    "bandX3=parBandTxo(effMassX3(var0),0.0,EX3(var0),[EX3],[effMassX3],var0)\n",
    "bandX1=parBandTxo(effMassX1(var0),0.0,EX1(var0),[EX1],[effMassX1],var0)\n",
    "bandHH=parBandTxo(effMassHH(var0),0.0,EHH(var0),[EHH],[effMassHH],var0)\n",
    "bandLH=parBandTxo(effMassLH(var0),0.0,ELH(var0),[ELH],[effMassLH],var0)\n",
    "bndstTx=BandStrucTx([bandLH,bandHH,bandX1,bandX1,bandX1,bandX3,bandX3,bandX3],var0)#\n",
    "\n",
    "NII=1e12*1e6\n",
    "vartau0=[bandX3.effMass,Ts[1],1.0,xs[1],1.5,bandX3,NII,bndstTx,numofnn,bandLH]\n",
    "#var array: var[1]: effMass , var[2]:T, var[3]:E, var[4]:x, var[5]:Ef, \n",
    "#var[6]:band, var[7]:NII var[8]:bndst\n",
    "tauAC(var)=tauAC_func(Cl(var[4]),acPhDa(var[4]),var[2],var[1],var[3],var[6])\n",
    "tauPOP(var)=tauPOP_func(epsilon0_x(var[4]),epsilonhf_x(var[4]),var[6],var[5],var[2],var[1]\n",
    ",var[3],tauPOPIIint(var[5],var[2],var[4],var[6]),var[7],opPhE(var[4]),var[8])\n",
    "tauPOP2(var)=tauPOP2_func(epsilon0_x(var[4]),epsilonhf_x(var[4]),var[6],var[5],var[2],var[1],\n",
    "var[3],opPhE(var[4]))\n",
    "tauII2(var)=tauII2_func(epsilon0_x(var[4]),epsilonhf_x(var[4]),var[6],var[5],var[2],var[7],var[1],var[3],var[8])\n",
    "\n",
    "tauTOTTx=tau_electron_B([tauAC,tauII2,tauPOP2],vartau0)#\n",
    "tauACs=Array{Float64}(length(Es),length(Ts),length(numofn))\n",
    "tauPOPs=Array{Float64}(length(Es),length(Ts),length(numofn))\n",
    "tauIIs=Array{Float64}(length(Es),length(Ts),length(numofn))\n",
    "tauTOTs=Array{Float64}(length(Es),length(Ts),length(numofn))\n",
    "\n",
    "numofnsout=Array{Float64}(length(Ts),length(numofn))\n",
    "numofnsoutn=Array{Float64}(length(Ts),length(numofn),length(bndstTx.bands))\n",
    "numofnsoutp=Array{Float64}(length(Ts),length(numofn),length(bndstTx.bands))\n",
    "\n",
    "xmax=3.0\n",
    "sigmas=Array{Float64}(length(Ts),length(numofn))\n",
    "seebecks=Array{Float64}(length(Ts),length(numofn))\n",
    "Efs=Array{Float64}(length(Ts),length(numofn))\n",
    "#@time (sigmas,seebecks)=sigmaArray(bndstTx,Ts,xs,numofn,tauTOTTx,xmax)"
   ]
  },
  {
   "cell_type": "code",
   "execution_count": null,
   "metadata": {
    "collapsed": false,
    "scrolled": false
   },
   "outputs": [],
   "source": [
    "@time (Efs,sigmas,seebecks,kes,kees,kehs,kbis)=electronicProps(bndstTx,xs,Ts,numofn,tauTOTTx,xmax)"
   ]
  },
  {
   "cell_type": "code",
   "execution_count": null,
   "metadata": {
    "collapsed": false,
    "scrolled": false
   },
   "outputs": [],
   "source": [
    "colors=[\"k\",\"b\",\"r\",\"g\",\"m\",\"y\",\"c\"]\n",
    "plots=Array{Any}(length(numofn)*length(xs))\n",
    "figure()\n",
    "k=1\n",
    "for p in 1:1:length(numofn)\n",
    "    for q in 1:1:length(xs)                \n",
    "        plot(Ts,sigmas[:,p,q]/100,linestyle=\"-\",color=colors[mod(k,length(colors))]\n",
    "        ,label=string(\"N: $(numofn[p]) x: $(xs[q])\"))\n",
    "        k+=1\n",
    "        #push!(plots,p)       \n",
    "    end\n",
    "end\n",
    "plot(LMg2SiSn04TE,LMg2SiSn04E, linestyle=\"None\",marker=\".\",markersize=20,color=\"k\")\n",
    "plot(LMg2SiSn07TE,LMg2SiSn07E, linestyle=\"None\",marker=\".\",markersize=20,color=\"r\")\n",
    "plot(LMg2SiSn06TE,LMg2SiSn06E, linestyle=\"None\",marker=\".\",markersize=20,color=\"b\")\n",
    "plot(LMg2SiSn08TE,LMg2SiSn08E, linestyle=\"None\",marker=\".\",markersize=20,color=\"g\")\n",
    "ylim(400,2200)\n",
    "legend()\n",
    "figure()\n",
    "k=1\n",
    "for p in 1:1:length(numofn)\n",
    "    for q in 1:1:length(xs)\n",
    "        plot(Ts,-1e6*seebecks[:,p,q],color=colors[mod(k,length(colors))]\n",
    "        ,label=string(\"N:$(numofn[p]) x:$(xs[q])\")) \n",
    "        k+=1\n",
    "    end\n",
    "end\n",
    "plot(LMg2SiSn04TS,LMg2SiSn04S, linestyle=\"None\",marker=\".\",markersize=20,color=\"g\")\n",
    "plot(LMg2SiSn07TS,LMg2SiSn07S, linestyle=\"None\",marker=\".\",markersize=20,color=\"k\")\n",
    "plot(LMg2SiSn06TS,LMg2SiSn06S, linestyle=\"None\",marker=\".\",markersize=20,color=\"b\")\n",
    "plot(LMg2SiSn08TS,LMg2SiSn08S, linestyle=\"None\",marker=\".\",markersize=20,color=\"r\")\n",
    "ylim(90,260)\n",
    "legend(loc=\"upper left\")"
   ]
  }
 ],
 "metadata": {
  "kernelspec": {
   "display_name": "Julia 0.6.0",
   "language": "julia",
   "name": "julia-0.6"
  },
  "language_info": {
   "file_extension": ".jl",
   "mimetype": "application/julia",
   "name": "julia",
   "version": "0.6.0"
  }
 },
 "nbformat": 4,
 "nbformat_minor": 0
}
