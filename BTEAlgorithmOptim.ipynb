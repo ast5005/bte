{
 "cells": [
  {
   "cell_type": "code",
   "execution_count": 1,
   "metadata": {
    "collapsed": false
   },
   "outputs": [
    {
     "name": "stdout",
     "output_type": "stream",
     "text": [
      "getdos_EPoint called\n",
      "  0.095037 seconds (141.48 k allocations: 5.929 MB)\n",
      "DOS at 0.7 is 1.9015342619863263e46\n",
      "fermiStatpoint called\n",
      "  0.006387 seconds (6.00 k allocations: 314.438 KB)\n",
      "Fermi at 300.0, 0.8, 0.7 is 0.9795312041510806\n",
      "Numofn is called\n",
      "  0.465801 seconds (772.59 k allocations: 37.091 MB, 2.24% gc time)\n",
      "Num. of n at 300.0, 0.8, 0.7 is -7.5314409993024e20\n",
      "optimize is called\n",
      "  0.337695 seconds (1.01 M allocations: 32.409 MB, 1.60% gc time)\n",
      "optimize result is 0.800000002561175\n",
      "optimize for multiband is called\n",
      "431.161368 seconds (8.68 G allocations: 160.037 GB, 25.19% gc time)\n",
      "optimize result for multiband is0.7999999894328761\n"
     ]
    }
   ],
   "source": [
    "using constants\n",
    "using types\n",
    "using Optim\n",
    "using FastAnonymous\n",
    "E_lowlimit=-1.0\n",
    "E_highlimit=1.0\n",
    "interval=0.01\n",
    "xmax=3.0\n",
    "Temp=300.0\n",
    "Ef=0.8\n",
    "E=0.7\n",
    "Erange=collect(E_lowlimit:interval:E_highlimit)\n",
    "band1=parBand(1.0*me,0.0,0.5)\n",
    "band2=parBand(-2.0*me,0.0,-0.2)\n",
    "bndst=BandStruc([band1,band2])\n",
    "function getDOS_Epoint(band::parBand,E)\n",
    "     if band.effMass<0.0 \n",
    "            if -E-band.offset>=0            \n",
    "            dos=real(im*(pi*8*sqrt(2).*Complex(band.effMass).^(3.0/2.0).*sqrt((-E-band.offset).*q)/h/h/h))\n",
    "             else\n",
    "                 dos=0.0\n",
    "             end\n",
    "        end\n",
    "        if band.effMass>0.0 \n",
    "            if E>=band.offset         \n",
    "               dos=real((pi*8*sqrt(2).*Complex(band.effMass).^(3.0/2.0).*sqrt((E-band.offset)*q)/h/h/h))\n",
    "             else\n",
    "                dos=0.0\n",
    "             end\n",
    "        end\n",
    "    return dos\n",
    "end\n",
    "function fermiStatpoint(Temp,Ef,E::Float64)\n",
    "   return 1.0./(1.0+exp(q*(E-Ef)./kB./Temp)) \n",
    "end\n",
    "function Numofnout(band::parBand,Ef,Temp,xmax::Float64)\n",
    "    if band.effMass>0.0\n",
    "        integrand(E)=q*getDOS_Epoint(band,E).*(-1*fermiStatpoint(Temp,Ef,E))\n",
    "        a=quadgk(integrand,-1*xmax,xmax)\n",
    "    else\n",
    "        integrand(E)=q*getDOS_Epoint(band,E).*(1-fermiStatpoint(Temp,Ef,E))\n",
    "        a=quadgk(integrand,-1*xmax,xmax)\n",
    "    end\n",
    "    \n",
    "    return a[1]\n",
    "end\n",
    "function FindFermiLevel(numberofn::Float64,band::parBand,Ef,Temp::Float64,xmax::Float64)\n",
    "    return abs(numberofn*1e6-Numofnout(band,Ef,Temp,xmax))\n",
    "end\n",
    "function NumofnMultiBand(bndst::BandStruc,Ef,Temp,xmax::Float64)\n",
    "    totalnumofn=0.0\n",
    "    for band in bndst.bands\n",
    "        totalnumofn=totalnumofn+Numofnout(band,Ef,Temp,xmax) \n",
    "    end\n",
    "    return totalnumofn \n",
    "end\n",
    "function FindFermiLevel(numberofn::Float64,bndst::BandStruc,Ef,Temp,xmax::Float64)\n",
    "    return abs(numberofn*1e6-NumofnMultiBand(bndst,Ef,Temp,xmax))\n",
    "end\n",
    "println(\"getdos_EPoint called\")\n",
    "@time dos=getDOS_Epoint(band1,E)\n",
    "println(\"DOS at $E is $dos\")\n",
    "println(\"fermiStatpoint called\")\n",
    "@time fSp=fermiStatpoint(Temp,Ef,E)\n",
    "println(\"Fermi at $Temp, $Ef, $E is $fSp\")\n",
    "println(\"Numofn is called\")\n",
    "@time numofnoutput=Numofnout(band1,Ef,Temp,xmax)/1e6\n",
    "println(\"Num. of n at $Temp, $Ef, $E is $numofnoutput\")\n",
    "numofninput=numofnoutput\n",
    "equation(x)=FindFermiLevel(numofninput,band1,x,Temp,xmax)\n",
    "println(\"optimize is called\")\n",
    "@time Efcalc=optimize(equation,-1.0,1.0)#method=:golden_section)\n",
    "println(\"optimize result is \", Efcalc.minimum)\n",
    "equation(x)=FindFermiLevel(numofninput,bndst,x,Temp,xmax)\n",
    "println(\"optimize for multiband is called\")\n",
    "@time EfcalcM=optimize(equation,-1.0,1.0,method=:golden_section)\n",
    "println(\"optimize result for multiband is\", EfcalcM.minimum)"
   ]
  },
  {
   "cell_type": "code",
   "execution_count": 52,
   "metadata": {
    "collapsed": false,
    "scrolled": true
   },
   "outputs": [
    {
     "name": "stdout",
     "output_type": "stream",
     "text": [
      "Numofn for band1 is called\n",
      "  0.050408 seconds (8.72 k allocations: 415.887 KB)\n",
      "Num. of n for band1 at 300.0, 0.95, 0.7 is -2.3233048688347152e20\n",
      "Numofn for band2 is called\n",
      "  0.002478 seconds (1.13 k allocations: 51.921 KB)\n",
      "Num. of n for band2 at 300.0, 0.95, 0.7 is 0.0\n",
      "NumofnMulti is called\n",
      "  0.006236 seconds (4.22 k allocations: 190.854 KB)\n",
      "NumMulti. of n at 300.0, 0.95, 0.7 is -2.3233048688347152e20\n",
      "optimize for multiband is called\n",
      "  0.011314 seconds (47.75 k allocations: 953.504 KB)\n",
      "optimize result for multiband is 0.949999995173154\n",
      "sucess\n"
     ]
    }
   ],
   "source": [
    "using constants\n",
    "using types\n",
    "using Optim\n",
    "using FastAnonymous\n",
    "E_lowlimit=-1.0\n",
    "E_highlimit=1.0\n",
    "interval=0.01\n",
    "xmax=3.0\n",
    "Temp=300.0\n",
    "Ef=0.95\n",
    "E=0.7\n",
    "Erange=collect(E_lowlimit:interval:E_highlimit)\n",
    "band1=parBand(1.0*me,0.0,0.5)\n",
    "band2=parBand(-2.0*me,0.0,-0.2)\n",
    "bndst=BandStruc([band1,band2])\n",
    "function getDOS_Epoint(band::parBand,E)\n",
    "     if band.effMass<0.0 \n",
    "            if -E-band.offset>=0            \n",
    "            dos=real(im*(pi*8*sqrt(2).*Complex(band.effMass).^(3.0/2.0).*sqrt((-E-band.offset).*q)/h/h/h))\n",
    "             else\n",
    "                 dos=0.0\n",
    "             end\n",
    "        end\n",
    "        if band.effMass>0.0 \n",
    "            if E>=band.offset         \n",
    "               dos=real((pi*8*sqrt(2).*Complex(band.effMass).^(3.0/2.0).*sqrt((E-band.offset)*q)/h/h/h))\n",
    "             else\n",
    "                dos=0.0\n",
    "             end\n",
    "        end\n",
    "    return dos\n",
    "end\n",
    "function fermiStatpoint(Temp,Ef,E::Float64)\n",
    "   return 1.0./(1.0+exp(q*(E-Ef)./kB./Temp)) \n",
    "end\n",
    "function Numofnout(band::parBand,Ef,Temp,xmax::Float64)\n",
    "    if band.effMass>0.0\n",
    "        integrand(E)=q*getDOS_Epoint(band,E).*(-1*fermiStatpoint(Temp,Ef,E))\n",
    "        a=quadgk(integrand,Ef-2kBe*Temp,Ef+2kBe*Temp)\n",
    "        #println(\"Numofn >0 Band eff mass is \",band.effMass)\n",
    "    else\n",
    "        #println(\"Numofn <0 Band eff mass is \",band.effMass)\n",
    "        integrand(E)=q*getDOS_Epoint(band,E).*(1-fermiStatpoint(Temp,Ef,E))\n",
    "        a=quadgk(integrand,Ef-2kBe*Temp,Ef+2kBe*Temp)\n",
    "    end\n",
    "    \n",
    "    return a[1]\n",
    "end\n",
    "function FindFermiLevel(numberofn::Float64,band::parBand,Ef,Temp::Float64,xmax::Float64)\n",
    "    return abs(numberofn*1e6-Numofnout(band,Ef,Temp,xmax))\n",
    "end\n",
    "function NumofnMultiBand(bndst::BandStruc,Ef,Temp,xmax::Float64)\n",
    "    totalnumofn=0.0\n",
    "    for band in bndst.bands\n",
    "        totalnumofn=totalnumofn+Numofnout(band,Ef,Temp,xmax) \n",
    "    end\n",
    "    return totalnumofn \n",
    "end\n",
    "function FindFermiLevel(numberofn::Float64,bndst::BandStruc,Ef,Temp,xmax::Float64)\n",
    "    return abs(numberofn*1e6-NumofnMultiBand(bndst,Ef,Temp,xmax))\n",
    "end\n",
    "#println(\"getdos_EPoint called\")\n",
    "#@time dos=getDOS_Epoint(band1,E)\n",
    "#println(\"DOS at $E is $dos\")\n",
    "#println(\"fermiStatpoint called\")\n",
    "#@time fSp=fermiStatpoint(Temp,Ef,E)\n",
    "#println(\"Fermi at $Temp, $Ef, $E is $fSp\")\n",
    "println(\"Numofn for band1 is called\")\n",
    "@time numofnoutput1=Numofnout(band1,Ef,Temp,xmax)/1e6\n",
    "println(\"Num. of n for band1 at $Temp, $Ef, $E is $numofnoutput1\")\n",
    "println(\"Numofn for band2 is called\")\n",
    "@time numofnoutput2=Numofnout(band2,Ef,Temp,xmax)/1e6\n",
    "println(\"Num. of n for band2 at $Temp, $Ef, $E is $numofnoutput2\")\n",
    "numofninput1=numofnoutput1\n",
    "numofninput2=numofnoutput2\n",
    "numofninput=numofninput1+numofninput2\n",
    "equation(x)=FindFermiLevel(numofninput1,band1,x,Temp,xmax)\n",
    "#println(\"optimize is called\")\n",
    "#@time Efcalc=optimize(equation,-1.0,1.0)#method=:golden_section)\n",
    "#println(\"Original Ef was $Ef optimize result is \", Efcalc.minimum)\n",
    "println(\"NumofnMulti is called\")\n",
    "@time numofnoutputMulti=NumofnMultiBand(bndst,Ef,Temp,xmax)/1e6\n",
    "println(\"NumMulti. of n at $Temp, $Ef, $E is $numofnoutputMulti\")\n",
    "numofninputMulti=numofnoutputMulti\n",
    "equation(x)=FindFermiLevel(numofninputMulti,bndst,x,Temp,xmax)\n",
    "println(\"optimize for multiband is called\")\n",
    "@time EfcalcM=optimize(equation,-1.0,1.0,method=:golden_section)\n",
    "println(\"optimize result for multiband is \", EfcalcM.minimum)\n",
    "message= EfcalcM.converged ? \"sucess\" : \"problem\"\n",
    "println(message)"
   ]
  },
  {
   "cell_type": "code",
   "execution_count": 4,
   "metadata": {
    "collapsed": false
   },
   "outputs": [
    {
     "data": {
      "text/plain": [
       "12"
      ]
     },
     "execution_count": 4,
     "metadata": {},
     "output_type": "execute_result"
    }
   ],
   "source": [
    "f(x)=x^2\n",
    "g(x)=x^3\n",
    "H=[f,g]\n",
    "function funcArray(H::Array{Function})\n",
    "    total=0\n",
    "    for func in H\n",
    "        total+=func(2)\n",
    "    end\n",
    "    return total\n",
    "end\n",
    "x=funcArray(H)"
   ]
  },
  {
   "cell_type": "code",
   "execution_count": 6,
   "metadata": {
    "collapsed": false
   },
   "outputs": [
    {
     "data": {
      "text/plain": [
       "4"
      ]
     },
     "execution_count": 6,
     "metadata": {},
     "output_type": "execute_result"
    }
   ],
   "source": [
    "type taaa\n",
    "    f::Function\n",
    "     \n",
    "end\n",
    "function test(x)\n",
    "    return x*x \n",
    "end\n",
    "t=taaa(test)\n",
    "t.f(2)"
   ]
  },
  {
   "cell_type": "code",
   "execution_count": 22,
   "metadata": {
    "collapsed": false
   },
   "outputs": [
    {
     "data": {
      "text/plain": [
       "0.025851997199999997"
      ]
     },
     "execution_count": 22,
     "metadata": {},
     "output_type": "execute_result"
    }
   ],
   "source": [
    "using constants\n",
    "a=kBe*300.0"
   ]
  }
 ],
 "metadata": {
  "kernelspec": {
   "display_name": "Julia 0.4.1",
   "language": "julia",
   "name": "julia-0.4"
  },
  "language_info": {
   "file_extension": ".jl",
   "mimetype": "application/julia",
   "name": "julia",
   "version": "0.4.1"
  }
 },
 "nbformat": 4,
 "nbformat_minor": 0
}
