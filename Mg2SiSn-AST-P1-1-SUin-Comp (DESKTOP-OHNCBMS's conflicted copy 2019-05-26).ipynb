{
 "cells": [
  {
   "cell_type": "code",
   "execution_count": 1,
   "metadata": {},
   "outputs": [
    {
     "data": {
      "text/plain": [
       "kltSA (generic function with 1 method)"
      ]
     },
     "execution_count": 1,
     "metadata": {},
     "output_type": "execute_result"
    }
   ],
   "source": [
    "push!(LOAD_PATH,pwd())\n",
    "using ProfileView\n",
    "using constants\n",
    "using types\n",
    "using Optim\n",
    "using PyPlot\n",
    "using data\n",
    "include(\"DOSfunctions.jl\")\n",
    "include(\"userfunctions.jl\")\n",
    "include(\"propertyfuncs.jl\")"
   ]
  },
  {
   "cell_type": "code",
   "execution_count": null,
   "metadata": {},
   "outputs": [],
   "source": []
  },
  {
   "cell_type": "code",
   "execution_count": 2,
   "metadata": {},
   "outputs": [
    {
     "name": "stderr",
     "output_type": "stream",
     "text": [
      "\u001b[1m\u001b[36mINFO: \u001b[39m\u001b[22m\u001b[36mPackage FastGaussQuadrature is already installed\n",
      "\u001b[39m\u001b[1m\u001b[36mINFO: \u001b[39m\u001b[22m\u001b[36mMETADATA is out-of-date — you may not have the latest version of FastGaussQuadrature\n",
      "\u001b[39m\u001b[1m\u001b[36mINFO: \u001b[39m\u001b[22m\u001b[36mUse `Pkg.update()` to get the latest versions of your packages\n",
      "\u001b[39m"
     ]
    }
   ],
   "source": [
    "Pkg.add(\"FastGaussQuadrature\")"
   ]
  },
  {
   "cell_type": "code",
   "execution_count": 3,
   "metadata": {},
   "outputs": [],
   "source": [
    "#tt=collect(1e-5:0.001:2.0)"
   ]
  },
  {
   "cell_type": "code",
   "execution_count": 4,
   "metadata": {},
   "outputs": [],
   "source": [
    "#yty=tt.^4.*exp.(tt)./((exp.(tt)-1).^2)"
   ]
  },
  {
   "cell_type": "code",
   "execution_count": 5,
   "metadata": {},
   "outputs": [
    {
     "data": {
      "text/html": [
       "3.0"
      ],
      "text/plain": [
       "3.0"
      ]
     },
     "execution_count": 5,
     "metadata": {},
     "output_type": "execute_result"
    }
   ],
   "source": [
    "Eoff=5.0\n",
    "Ts=collect(300.0:10.0:900.0)\n",
    "######################################################################################\n",
    "##for Liu x=0.6 best fit x=0.635 N=-1.45e20\n",
    "######################################################################################\n",
    "numofn=[-1.8e20]#,-1.22e18,-1.02e18,-0.94e18]#-9.5e19,-1.75e20,-3.0e19,-0.9e20]#Sample 1 -3.0e19, Sample 2 -1.25e20,\n",
    "numofnn=[1e18]#,1e18,1e18,1e18]\n",
    "#Sample 3 -1.75e20, Sample Sb 0.75% -1.03e20, #\n",
    "xs=[0.6]#,0.8,0.7,0.61]#collect(0.0:0.01:1.0)\n",
    "Es=collect(0.0:0.1:3.0)\n",
    "\n",
    "var0=[Ts[1],xs[1]]\n",
    "\n",
    "EX3(var)=Eoff#+Egx3(var[1],var[2])\n",
    "EX1(var)=Ec0(var[2])+EX3(var)\n",
    "ELH(var)=Eoff-Egx3(var[1],var[2])\n",
    "EHH(var)=Eoff-Egx3(var[1],var[2])\n",
    "\n",
    "effMassX1(var)=X1effMass(var[1])*me\n",
    "effMassX3(var)=0.38*me\n",
    "effMassLH(var)=-1.0*me\n",
    "effMassHH(var)=-1.5*me\n",
    "\n",
    "alphaX1(var)=0.0#EX1(var0)\n",
    "alphaX3(var)=0.0#EX1(var0)\n",
    "alphaLH(var)=0.0#EX3(var0)\n",
    "alphaHH(var)=0.0#EX3(var0)\n",
    "\n",
    "function Da(band::parBandTx,x::Float64)\n",
    "    Da=7.0#9.0-1.5*x*x\n",
    "    Dv=1.0\n",
    "    if band==bandX3 ||  band==bandX1\n",
    "        return Da\n",
    "    end\n",
    "    if band==bandHH ||  band==bandLH\n",
    "        return Dv\n",
    "    end\n",
    "end\n",
    "\n",
    "bandX3=parBandTx(true,1.0,effMassX3(var0),alphaX3(0.0),EX3(var0),[EX3],[effMassX3],[alphaX3],var0)\n",
    "bandX1=parBandTx(true,1.0,effMassX1(var0),alphaX1(0.0),EX1(var0),[EX1],[effMassX1],[alphaX1],var0)\n",
    "bandHH=parBandTx(true,1.0,effMassHH(var0),alphaHH(0.0),EHH(var0),[EHH],[effMassHH],[alphaHH],var0)\n",
    "bandLH=parBandTx(true,1.0,effMassLH(var0),alphaLH(0.0),ELH(var0),[ELH],[effMassLH],[alphaLH],var0)\n",
    "bndstTx=BandStrucTx([bandLH,bandHH,bandX1,bandX1,bandX1,bandX3,bandX3,bandX3],var0)#\n",
    "#bndstTx=BandStrucTx([bandX3,bandX3,bandX3],var0)#\n",
    "\n",
    "#vartau0=[bandC.effMass,Ts[1],Ec(var0),xs[1],Ec(var0),bandC,numofn[1]*1e6,bndstTx,numofnn[1]*1e6,bandV]\n",
    "vartau0=[bandX3.effMass,Ts[1],EX1(var0),xs[1],EX1(var0),bandX3,numofn[1]*1e6,bndstTx,numofnn[1]*1e6,bandLH]\n",
    "#var array: var[1]: effMass , var[2]:T, var[3]:E, var[4]:x, var[5]:Ef, \n",
    "#var[6]:band, var[7]:NII var[8]:bndst\n",
    "#tauAC(var)=tauAC_func(Cl(var[4]),acPhDa(var[4]),var[2],var[1],var[3],var[6])\n",
    "tauAC(var)=tauAC_func(Cl(var[4]),Da(var[6],var[4]),var[2],var[1],var[3],var[6])\n",
    "tauPOP(var)=tauPOP_func(epsilon0_x(var[4]),epsilonhf_x(var[4]),var[6],var[5],var[2],var[1]\n",
    ",var[3],tauPOPIIint(var[5],var[2],var[4],var[6]),var[7],opPhE(var[4]),var[8])\n",
    "tauPOP2(var)=tauPOP2_func(epsilon0_x(var[4]),epsilonhf_x(var[4]),var[6],var[5],var[2],var[1],\n",
    "var[3],opPhE(var[4]))\n",
    "tauPOP3(var)=tauPOP3_func(epsilon0_x(var[4]),epsilonhf_x(var[4]),var[6],var[5],var[2],var[1],\n",
    "var[3],opPhE(var[4]))\n",
    "tauII2(var)=tauII2_func(epsilon0_x(var[4]),epsilonhf_x(var[4]),var[6],var[5],var[2],var[7],var[1],var[3],var[8])\n",
    "tauNI(var)=tauNI_func(epsilon0_x(var[4]),var[1],var[9])\n",
    "tauTOTTx=tau_electron_B([tauAC,tauII2,tauNI,tauPOP3],vartau0)#,tauII2,tauPOP2,tauPOP3\n",
    "\n",
    "xmax=3.0"
   ]
  },
  {
   "cell_type": "code",
   "execution_count": 6,
   "metadata": {},
   "outputs": [
    {
     "data": {
      "text/html": [
       "-0.165"
      ],
      "text/plain": [
       "-0.165"
      ]
     },
     "execution_count": 6,
     "metadata": {},
     "output_type": "execute_result"
    }
   ],
   "source": [
    "Ec0(1.0)"
   ]
  },
  {
   "cell_type": "code",
   "execution_count": 7,
   "metadata": {},
   "outputs": [
    {
     "name": "stdout",
     "output_type": "stream",
     "text": [
      " 32.511451 seconds (94.63 M allocations: 16.233 GiB, 9.16% gc time)\n"
     ]
    },
    {
     "data": {
      "text/html": [
       "3.0"
      ],
      "text/plain": [
       "3.0"
      ]
     },
     "execution_count": 7,
     "metadata": {},
     "output_type": "execute_result"
    }
   ],
   "source": [
    "@time (Efs,sigmas,seebecks,kes,kees,kehs,kbis,sigmaes,sigmahs,seebeckes,seebeckhs)=electronicPropsiso(bndstTx,xs,Ts,numofn,numofnn,tauTOTTx,xmax)\n",
    "x=3.0"
   ]
  },
  {
   "cell_type": "code",
   "execution_count": 8,
   "metadata": {},
   "outputs": [
    {
     "name": "stdout",
     "output_type": "stream",
     "text": [
      "1 1.3155054623979414\n",
      "2 1.3283052816092886\n",
      "3 1.3399956332229888\n",
      "4 1.3511213697375395\n",
      "5 1.3603723419488611\n",
      "6 1.3687808926874447\n",
      "7 1.3763042016294664\n",
      "8 1.38296910112943\n",
      "9 1.3890365644730351\n",
      "10 1.393884886182886\n",
      "11 1.398057851634566\n",
      "12 1.4015591848697533\n",
      "13 1.404414264697371\n",
      "14 1.4069263571972515\n",
      "15 1.408336709874661\n",
      "16 1.4093014068807732\n",
      "17 1.4097818209512265\n",
      "18 1.4097908967384007\n",
      "19 1.4093499632121773\n",
      "20 1.408482824087639\n",
      "21 1.4073184337309221\n",
      "22 1.4055193975127565\n",
      "23 1.4034278532576154\n",
      "24 1.401030553019592\n",
      "25 1.39833799604896\n",
      "26 1.3953671326815709\n",
      "27 1.3921365346976171\n",
      "28 1.3886686198260518\n",
      "29 1.3849785686497578\n",
      "30 1.3810732260217962\n",
      "31 1.3769256387311466\n",
      "32 1.3726458505047234\n",
      "33 1.368234327543595\n",
      "34 1.3637077535702837\n",
      "35 1.359092667440767\n",
      "36 1.3544026270991703\n",
      "37 1.349654685909905\n",
      "38 1.3448722032354716\n",
      "39 1.3400986751810446\n",
      "40 1.335334483584509\n",
      "41 1.3305753380429088\n",
      "42 1.3258459738850732\n",
      "43 1.3212683538601153\n",
      "44 1.316801394424676\n",
      "45 1.3124833049757227\n",
      "46 1.308345589859496\n",
      "47 1.304498597992982\n",
      "48 1.3008586971476999\n",
      "49 1.2974937183281563\n",
      "50 1.2944924873070853\n",
      "51 1.2918722085918963\n",
      "52 1.2896138688487775\n",
      "53 1.287773824458097\n",
      "54 1.2864995352077488\n",
      "55 1.2857172333532607\n",
      "56 1.2853431535009463\n",
      "57 1.2855636424899286\n",
      "58 1.2865806721492894\n",
      "59 1.2881836286989103\n",
      "60 1.2904331291782385\n",
      "61 1.293374896592172\n"
     ]
    }
   ],
   "source": [
    "foreach(x->println(x,\" \", kees[x,1,1]),1:length(sigmaes[:,:,1]))"
   ]
  },
  {
   "cell_type": "code",
   "execution_count": 9,
   "metadata": {},
   "outputs": [
    {
     "data": {
      "image/png": "[encoded data removed]",
      "text/plain": [
       "PyPlot.Figure(PyObject <matplotlib.figure.Figure object at 0x144412850>)"
      ]
     },
     "metadata": {},
     "output_type": "display_data"
    }
   ],
   "source": [
    "plot(Ts,kees[:,1,1],linestyle=\"-\",color=\"c\")\n",
    "ylim(0,7)\n",
    "grid()"
   ]
  },
  {
   "cell_type": "code",
   "execution_count": 10,
   "metadata": {},
   "outputs": [
    {
     "name": "stdout",
     "output_type": "stream",
     "text": [
      "1 2.949109176052496e-8\n",
      "2 6.791330443388531e-8\n",
      "3 1.5014254234559267e-7\n",
      "4 3.1742243173470566e-7\n",
      "5 6.434305958150358e-7\n",
      "6 1.2619075922048286e-6\n",
      "7 2.3554069628515447e-6\n",
      "8 4.278690021591394e-6\n",
      "9 7.550329541746218e-6\n",
      "10 1.2970215982445927e-5\n",
      "11 2.165740258274611e-5\n",
      "12 3.520153979059079e-5\n",
      "13 5.6137933016661674e-5\n",
      "14 8.776142558619685e-5\n",
      "15 0.00013593283653349564\n",
      "16 0.0002017965357002294\n",
      "17 0.0002979602445263937\n",
      "18 0.0004338961564456515\n",
      "19 0.0006228836459444481\n",
      "20 0.0008824718521244369\n",
      "21 0.0012245211412993818\n",
      "22 0.001686710741253966\n",
      "23 0.0022992905630934567\n",
      "24 0.0031014139291431746\n",
      "25 0.004127631530026417\n",
      "26 0.005433706895402406\n",
      "27 0.007105777746671159\n",
      "28 0.009218102311196926\n",
      "29 0.011863988626711165\n",
      "30 0.015073529096103502\n",
      "31 0.019047082726504926\n",
      "32 0.023932679798967234\n",
      "33 0.02988119864325261\n",
      "34 0.037083302233216764\n",
      "35 0.04546674391444157\n",
      "36 0.05561778418516338\n",
      "37 0.06771091868498406\n",
      "38 0.08201020426279011\n",
      "39 0.0986791893408579\n",
      "40 0.11783962283911453\n",
      "41 0.14039361093810387\n",
      "42 0.1665795817239057\n",
      "43 0.19680607212360424\n",
      "44 0.23084659892346773\n",
      "45 0.26975864431282964\n",
      "46 0.31433501283793874\n",
      "47 0.36497070646026625\n",
      "48 0.4221750846930917\n",
      "49 0.4848174984825923\n",
      "50 0.5556943844846298\n",
      "51 0.6350805193719342\n",
      "52 0.7233627532227581\n",
      "53 0.8211546643048542\n",
      "54 0.9256088222639838\n",
      "55 1.0422469381212265\n",
      "56 1.1700903717313254\n",
      "57 1.3094050222002527\n",
      "58 1.4591339320868506\n",
      "59 1.6186283181802108\n",
      "60 1.7921958264266757\n",
      "61 1.9785180208783295\n"
     ]
    }
   ],
   "source": [
    "foreach(x->println(x,\" \", kbis[x,1,1]),1:length(sigmaes[:,:,1]))"
   ]
  },
  {
   "cell_type": "code",
   "execution_count": 11,
   "metadata": {},
   "outputs": [
    {
     "data": {
      "image/png": "[encoded data removed]",
      "text/plain": [
       "PyPlot.Figure(PyObject <matplotlib.figure.Figure object at 0x10ebbdf90>)"
      ]
     },
     "metadata": {},
     "output_type": "display_data"
    }
   ],
   "source": [
    "plot(Ts,kbis[:,1,1],linestyle=\"-\",color=\"c\")\n",
    "ylim(0,7)\n",
    "grid()"
   ]
  },
  {
   "cell_type": "code",
   "execution_count": 12,
   "metadata": {},
   "outputs": [
    {
     "name": "stdout",
     "output_type": "stream",
     "text": [
      "1 -0.00011538644255041913   es -0.00011538644277996743   hs 0.002054591429941007\n",
      "2 -0.00011834829005156932   es -0.00011834829058920873   hs 0.001985000525720358\n",
      "3 -0.00012126384127267546   es -0.0001212638424822436   hs 0.0019184071230918173\n",
      "4 -0.0001241342431765912   es -0.00012413424577863518   hs 0.0018557900295011177\n",
      "5 -0.00012696063637959544   es -0.00012696064174582444   hs 0.0017968813455387126\n",
      "6 -0.00012974415994144133   es -0.00012974417065725563   hs 0.0017396389406118232\n",
      "7 -0.00013248594489372015   es -0.00013248596523243213   hs 0.0016877303143423826\n",
      "8 -0.00013518710284537137   es -0.00013518714042839308   hs 0.0016377340162221025\n",
      "9 -0.000137848716581755   es -0.00013784878404076229   hs 0.0015902669168837353\n",
      "10 -0.00014047183291730685   es -0.00014047195079323871   hs 0.0015449755479323027\n",
      "11 -0.0001430574583944067   es -0.00014305765857281177   hs 0.0015020057737074623\n",
      "12 -0.00014560655687348643   es -0.0001456068876416397   hs 0.001461598267646147\n",
      "13 -0.0001481200434659965   es -0.00014812057985657631   hs 0.0014225114454482584\n",
      "14 -0.0001505987915935862   es -0.00015059964423108483   hs 0.0013851403333393505\n",
      "15 -0.00015304360912106175   es -0.00015304495391338263   hs 0.00134708416119035\n",
      "16 -0.00015545532208473622   es -0.0001554573477269   hs 0.0013157785880081037\n",
      "17 -0.00015783459376555317   es -0.0001578376335145373   hs 0.0012832966297182543\n",
      "18 -0.0001601820932700355   es -0.00016018659282250264   hs 0.0012517784414649773\n",
      "19 -0.00016249840669444062   es -0.00016250497219579303   hs 0.0012214828446839904\n",
      "20 -0.00016478401891110883   es -0.0001647934747527121   hs 0.0011920611555583907\n",
      "21 -0.00016703947312693329   es -0.00016705279310179097   hs 0.0011654885842298588\n",
      "22 -0.0001692649411075195   es -0.0001692835823068267   hs 0.0011387172455819986\n",
      "23 -0.00017146063669250958   es -0.00017148645747351967   hs 0.0011126769205931316\n",
      "24 -0.00017362655745138135   es -0.00017366194550230338   hs 0.001087518797764503\n",
      "25 -0.00017576282013466907   es -0.00017581064422239403   hs 0.0010639123927590022\n",
      "26 -0.00017786913750786343   es -0.00017793304835600086   hs 0.0010413363647799186\n",
      "27 -0.00017994472460295988   es -0.00018002961037590022   hs 0.0010188280532348961\n",
      "28 -0.00018198871871175483   es -0.00018210056795948162   hs 0.000996890085994202\n",
      "29 -0.000184000279220446   es -0.00018414649399012587   hs 0.0009755546446129365\n",
      "30 -0.00018597918258988046   es -0.00018616763619437073   hs 0.0009562090139729843\n",
      "31 -0.00018792242370329197   es -0.00018816411093492766   hs 0.0009368207962106268\n",
      "32 -0.0001898276832375158   es -0.00019013598676758802   hs 0.0009175898081749534\n",
      "33 -0.0001916928623761359   es -0.0001920836590139922   hs 0.0008988151097754549\n",
      "34 -0.0001935146727331929   es -0.0001940070726058724   hs 0.0008804257530773575\n",
      "35 -0.00019529382474255228   es -0.00019590569107889776   hs 0.0008643049757491542\n",
      "36 -0.00019702036830515738   es -0.00019777969993029323   hs 0.0008474778537790297\n",
      "37 -0.00019869107857288924   es -0.00019962906791153338   hs 0.0008308351035616944\n",
      "38 -0.00020030068746560692   es -0.0002014533610325524   hs 0.00081456547867167\n",
      "39 -0.00020184447345987662   es -0.0002032509001789732   hs 0.0007991449830774508\n",
      "40 -0.0002033209847068229   es -0.00020502248265230608   hs 0.0007849069512720718\n",
      "41 -0.0002047121815048329   es -0.00020676736296906578   hs 0.0007701758927415437\n",
      "42 -0.00020601233893835524   es -0.00020848461612924064   hs 0.0007556321248799255\n",
      "43 -0.00020720980083322824   es -0.00021017066226582917   hs 0.0007413956271574956\n",
      "44 -0.00020831173325419118   es -0.0002118279244701207   hs 0.0007284896386514802\n",
      "45 -0.00020929435126454588   es -0.00021345445454501702   hs 0.0007156756880256974\n",
      "46 -0.00021013946344276786   es -0.00021504877124936777   hs 0.0007027021825694957\n",
      "47 -0.00021083256576492706   es -0.0002166043675059104   hs 0.0006899046830675006\n",
      "48 -0.00021136786649671673   es -0.00021812699857338676   hs 0.0006773531093724166\n",
      "49 -0.00021176853818592623   es -0.00021961282856388398   hs 0.0006663981943772252\n",
      "50 -0.00021196585733494977   es -0.00022105656380327855   hs 0.0006549615336853576\n",
      "51 -0.0002119533190294226   es -0.0002224574775570865   hs 0.0006434993850208561\n",
      "52 -0.00021172384226157763   es -0.0002238172327078775   hs 0.0006322174430215058\n",
      "53 -0.0002112603407489574   es -0.00022513257563185095   hs 0.0006211140933550673\n",
      "54 -0.00021062995697957517   es -0.0002263941756416731   hs 0.0006117856428166578\n",
      "55 -0.0002096974407471813   es -0.00022760730930715688   hs 0.0006016303451435164\n",
      "56 -0.00020848890775537114   es -0.00022877124909047666   hs 0.0005915228652527379\n",
      "57 -0.0002069971177148706   es -0.00022988291329076112   hs 0.0005815903587350405\n",
      "58 -0.00020524512412382572   es -0.00023092818625690062   hs 0.0005723519936814668\n",
      "59 -0.00020326333078777423   es -0.0002319211175084337   hs 0.0005638756308415608\n",
      "60 -0.00020093072626717074   es -0.00023285807960754626   hs 0.0005549214001940895\n",
      "61 -0.00019828618051953524   es -0.00023373659515214584   hs 0.0005460502536413912\n"
     ]
    }
   ],
   "source": [
    "foreach(x->println(x,\" \", seebecks[x,1,1], \"   es \",seebeckes[x,1,1],\"   hs \",seebeckhs[x,1,1]),1:length(sigmaes[:,:,1]))"
   ]
  },
  {
   "cell_type": "code",
   "execution_count": 13,
   "metadata": {},
   "outputs": [
    {
     "data": {
      "image/png": "[encoded data removed]",
      "text/plain": [
       "PyPlot.Figure(PyObject <matplotlib.figure.Figure object at 0x1453122d0>)"
      ]
     },
     "metadata": {},
     "output_type": "display_data"
    }
   ],
   "source": [
    "plot(Ts,seebecks[:,1,1]*1e6,linestyle=\"-\",color=\"c\")\n",
    "ylim(-250,-0)\n",
    "grid()"
   ]
  },
  {
   "cell_type": "code",
   "execution_count": 14,
   "metadata": {},
   "outputs": [
    {
     "name": "stdout",
     "output_type": "stream",
     "text": [
      "1 197351.39315898   es 197351.39313810345   hs 2.087656226042524e-5\n",
      "2 193727.27933811626   es 193727.2792885974   hs 4.951885175855632e-5\n",
      "3 190179.3382471559   es 190179.33813437552   hs 0.00011278038160825933\n",
      "4 186706.9396186032   es 186706.93937323036   hs 0.0002453728539333199\n",
      "5 183309.17022399994   es 183309.1697126903   hs 0.0005113096563617155\n",
      "6 179984.87788664916   es 179984.8768549267   hs 0.0010317224525252403\n",
      "7 176732.74319067094   es 176732.74121589662   hs 0.001974774315775408\n",
      "8 173551.34840419333   es 173551.3447251893   hs 0.0036790040359559397\n",
      "9 170439.2308397447   es 170439.224186451   hs 0.006653293705643483\n",
      "10 167394.9159202617   es 167394.90421308498   hs 0.01170717670801267\n",
      "11 164416.93870695555   es 164416.91869999416   hs 0.020006961379866177\n",
      "12 161503.8531669521   es 161503.81992892327   hs 0.03323802881110774\n",
      "13 158654.24083964725   es 158654.18665722967   hs 0.05418241756349876\n",
      "14 155866.6984150079   es 155866.6118783586   hs 0.08653664930153891\n",
      "15 153139.8550656574   es 153139.7177832735   hs 0.13728238392036332\n",
      "16 150472.36190224517   es 150472.1547273432   hs 0.20717490196352104\n",
      "17 147862.9071475296   es 147862.5952639437   hs 0.3118835859086635\n",
      "18 145310.18871373186   es 145309.72564927753   hs 0.46306445432289856\n",
      "19 142812.94964424413   es 142812.2721537326   hs 0.6774905115441561\n",
      "20 140369.9995866916   es 140369.02135626643   hs 0.9782304251999757\n",
      "21 137980.119266141   es 137978.7400281295   hs 1.379238011480178\n",
      "22 135642.17819919225   es 135640.24507130397   hs 1.9331278882725371\n",
      "23 133355.08815859118   es 133352.40677662162   hs 2.6813819695671617\n",
      "24 131117.92726386513   es 131114.24816559823   hs 3.679098266903876\n",
      "25 128929.57452522374   es 128924.60088264511   hs 4.973642578626285\n",
      "26 126789.13052521412   es 126782.48457742015   hs 6.645947793961435\n",
      "27 124695.79624531152   es 124686.96709121927   hs 8.829154092251443\n",
      "28 122649.1213720506   es 122637.48581589601   hs 11.635556154589874\n",
      "29 120648.00897688571   es 120632.79771231272   hs 15.211264572988547\n",
      "30 118691.82720358431   es 118672.24705665399   hs 19.58014693032502\n",
      "31 116780.44521228601   es 116755.35657124445   hs 25.088641041553835\n",
      "32 114913.64992531686   es 114881.66702477666   hs 31.982900540199438\n",
      "33 113090.63993966876   es 113050.1270679653   hs 40.512871703472314\n",
      "34 111311.42143327574   es 111260.4087236569   hs 51.01270961883248\n",
      "35 109576.10569105255   es 109512.86738149963   hs 63.23830955292856\n",
      "36 107885.0166210209   es 107806.64310943236   hs 78.37351158854288\n",
      "37 106237.89887098178   es 106141.19486199283   hs 96.704008988946\n",
      "38 104635.24191032127   es 104516.5332084668   hs 118.7087018544699\n",
      "39 103078.96490565484   es 102934.33840344977   hs 144.6265022050618\n",
      "40 101567.25083148498   es 101392.67629849726   hs 174.57453298772114\n",
      "41 100102.37284265818   es 99891.78892185276   hs 210.5839208054303\n",
      "42 98685.1307179128   es 98432.07319139577   hs 253.0575265170292\n",
      "43 97320.04675347329   es 97017.22899263614   hs 302.81776083714374\n",
      "44 96002.07446363513   es 95643.08760198444   hs 358.98686165068995\n",
      "45 94735.3081657996   es 94311.13866766388   hs 424.1694981357178\n",
      "46 93522.43096254616   es 93022.15319273711   hs 500.2777698090492\n",
      "47 92370.83899076213   es 91782.70788609667   hs 588.1311046654558\n",
      "48 91273.6694103419   es 90584.73083851585   hs 688.9385718260519\n",
      "49 90230.43290846124   es 89431.57860717582   hs 798.8543012854236\n",
      "50 89254.17846404249   es 88327.96068405083   hs 926.2177799916604\n",
      "51 88344.91015303542   es 87273.27600881593   hs 1071.63414421949\n",
      "52 87500.55671231385   es 86264.41707148797   hs 1236.1396408258802\n",
      "53 86725.32688464856   es 85303.66798904567   hs 1421.6588956028918\n",
      "54 86017.25976410286   es 84399.4745803342   hs 1617.7851837686644\n",
      "55 85389.1309614938   es 83544.89715980522   hs 1844.2338016885938\n",
      "56 84837.13907888744   es 82739.48193054923   hs 2097.6571483382195\n",
      "57 84364.48524061665   es 81985.17290878596   hs 2379.3123318306853\n",
      "58 83979.7272570603   es 81294.6659211423   hs 2685.061335918004\n",
      "59 83665.7628950736   es 80652.83830868942   hs 3012.9245863841843\n",
      "60 83444.11196312429   es 80062.26499309232   hs 3381.846970031974\n",
      "61 83311.87412451464   es 79524.37695640596   hs 3787.497168108672\n"
     ]
    }
   ],
   "source": [
    "foreach(x->println(x,\" \", sigmas[x,1,1], \"   es \",sigmaes[x,1,1],\"   hs \",sigmahs[x,1,1]),1:length(sigmaes[:,:,1]))"
   ]
  },
  {
   "cell_type": "code",
   "execution_count": 15,
   "metadata": {
    "scrolled": false
   },
   "outputs": [
    {
     "data": {
      "image/png": "[encoded data removed]",
      "text/plain": [
       "PyPlot.Figure(PyObject <matplotlib.figure.Figure object at 0x10eb9b210>)"
      ]
     },
     "metadata": {},
     "output_type": "display_data"
    }
   ],
   "source": [
    "plot(Ts,sigmas[:,1,1]/100,linestyle=\"-\",color=\"c\")\n",
    "ylim(0,3500)\n",
    "grid()"
   ]
  },
  {
   "cell_type": "code",
   "execution_count": 16,
   "metadata": {},
   "outputs": [],
   "source": [
    "T_EF_Dict=Dict()\n",
    "for (Ti,Tx) in enumerate(Ts)\n",
    "    T_EF_Dict[Tx]=(Efs[Ti])    \n",
    "end\n",
    "T_EF_Dict_Array=Array{Dict{Float64,Float64},2}(length(numofn),length(xs))\n",
    "Dict_temp=Dict()\n",
    "Efsr=Array{Float64,3}(length(Ts),length(numofn),length(xs))\n",
    "for (j,jn) in enumerate(numofn)\n",
    "    for (k,kx) in enumerate(xs) \n",
    "        for (i,iT) in enumerate(Ts)\n",
    "            Efsr[i,j,k]=Efs[i,j,k]-EX3(0.0)\n",
    "            Dict_temp[iT]=Efsr[i,j,k]\n",
    "            T_EF_Dict_Array[j,k]=Dict_temp \n",
    "        end\n",
    "    end\n",
    "end\n",
    "#foreach(i->println(\"$i= \",Ts[i]),1:length(Ts))\n",
    "#Efsr"
   ]
  },
  {
   "cell_type": "code",
   "execution_count": 17,
   "metadata": {
    "scrolled": false
   },
   "outputs": [
    {
     "name": "stdout",
     "output_type": "stream",
     "text": [
      "1 EX3 0.10132632198393399 EX1 0.04032632198393396\n",
      "2 EX3 0.10052559761605462 EX1 0.03952559761605459\n",
      "3 EX3 0.09970004193718296 EX1 0.03870004193718293\n",
      "4 EX3 0.09884987345101237 EX1 0.037849873451012345\n",
      "5 EX3 0.0979752733457051 EX1 0.03697527334570508\n",
      "6 EX3 0.09707638455133338 EX1 0.03607638455133336\n",
      "7 EX3 0.09615332192249415 EX1 0.035153321922494124\n",
      "8 EX3 0.09520618499258315 EX1 0.03420618499258313\n",
      "9 EX3 0.09423506876004595 EX1 0.03323506876004592\n",
      "10 EX3 0.09324007095153863 EX1 0.03224007095153861\n",
      "11 EX3 0.09222129590980277 EX1 0.031221295909802743\n",
      "12 EX3 0.09117885596788522 EX1 0.030178855967885193\n",
      "13 EX3 0.09011287129009293 EX1 0.029112871290092907\n",
      "14 EX3 0.08902346899839753 EX1 0.0280234689983975\n",
      "15 EX3 0.08791078215833537 EX1 0.02691078215833534\n",
      "16 EX3 0.08677494897186122 EX1 0.025774948971861195\n",
      "17 EX3 0.08561611235410194 EX1 0.02461611235410191\n",
      "18 EX3 0.08443441996049739 EX1 0.02343441996049736\n",
      "19 EX3 0.08323002466967822 EX1 0.02223002466967819\n",
      "20 EX3 0.08200308550090885 EX1 0.02100308550090882\n",
      "21 EX3 0.08075376893980835 EX1 0.01975376893980832\n",
      "22 EX3 0.07948225065236159 EX1 0.01848225065236156\n",
      "23 EX3 0.07818871757821899 EX1 0.017188717578218965\n",
      "24 EX3 0.07687337040580644 EX1 0.015873370405806414\n",
      "25 EX3 0.07553642638670333 EX1 0.0145364263867033\n",
      "26 EX3 0.07417812244965205 EX1 0.013178122449652024\n",
      "27 EX3 0.07279871952901473 EX1 0.011798719529014706\n",
      "28 EX3 0.07139850618635801 EX1 0.010398506186357986\n",
      "29 EX3 0.06997780346189408 EX1 0.008977803461894057\n",
      "30 EX3 0.06853697007637471 EX1 0.007536970076374688\n",
      "31 EX3 0.06707640817427851 EX1 0.006076408174278486\n",
      "32 EX3 0.06559656962366045 EX1 0.004596569623660424\n",
      "33 EX3 0.06409796287996006 EX1 0.003097962879960031\n",
      "34 EX3 0.06258116041082751 EX1 0.0015811604108274813\n",
      "35 EX3 0.061046806666475106 EX1 4.680666647507992e-5\n",
      "36 EX3 0.05949562656472551 EX1 -0.0015043734352745142\n",
      "37 EX3 0.05792843444172213 EX1 -0.0030715655582778945\n",
      "38 EX3 0.05634614339776789 EX1 -0.004653856602232137\n",
      "39 EX3 0.05474977494278299 EX1 -0.006250225057217035\n",
      "40 EX3 0.05314046881727563 EX1 -0.007859531182724394\n",
      "41 EX3 0.05151949283255508 EX1 -0.009480507167444946\n",
      "42 EX3 0.049888252538472955 EX1 -0.011111747461527072\n",
      "43 EX3 0.04824830048874773 EX1 -0.012751699511252296\n",
      "44 EX3 0.046601344834132696 EX1 -0.01439865516586733\n",
      "45 EX3 0.04494925693352947 EX1 -0.016050743066470557\n",
      "46 EX3 0.043294077634983275 EX1 -0.017705922365016752\n",
      "47 EX3 0.04163802184478982 EX1 -0.019361978155210208\n",
      "48 EX3 0.0399834809770665 EX1 -0.021016519022933527\n",
      "49 EX3 0.03833302286195028 EX1 -0.022666977138049743\n",
      "50 EX3 0.036689388692209945 EX1 -0.02431061130779008\n",
      "51 EX3 0.035055486609846476 EX1 -0.02594451339015355\n",
      "52 EX3 0.033434381580240036 EX1 -0.02756561841975999\n",
      "53 EX3 0.031829281274735166 EX1 -0.02917071872526486\n",
      "54 EX3 0.030243517785079277 EX1 -0.03075648221492075\n",
      "55 EX3 0.028680525124654466 EX1 -0.03231947487534556\n",
      "56 EX3 0.027143812629049968 EX1 -0.03385618737095006\n",
      "57 EX3 0.025636934546607648 EX1 -0.03536306545339238\n",
      "58 EX3 0.024163456299040043 EX1 -0.036836543700959984\n",
      "59 EX3 0.022726918081557024 EX1 -0.038273081918443\n",
      "60 EX3 0.021330796647333727 EX1 -0.0396692033526663\n",
      "61 EX3 0.019978466267822625 EX1 -0.0410215337321774\n"
     ]
    }
   ],
   "source": [
    "foreach(x->println(x,\" EX3 \", Efsr[x,1,1],\" EX1 \", Efsr[x,1,1]-Ec0(0.6)),1:length(Efsr[:,:,1]))"
   ]
  },
  {
   "cell_type": "code",
   "execution_count": 18,
   "metadata": {},
   "outputs": [
    {
     "data": {
      "text/html": [
       "π = 3.1415926535897..."
      ],
      "text/plain": [
       "π = 3.1415926535897..."
      ]
     },
     "execution_count": 18,
     "metadata": {},
     "output_type": "execute_result"
    }
   ],
   "source": [
    "pi"
   ]
  },
  {
   "cell_type": "code",
   "execution_count": 19,
   "metadata": {},
   "outputs": [
    {
     "data": {
      "text/html": [
       "1.0"
      ],
      "text/plain": [
       "1.0"
      ]
     },
     "execution_count": 19,
     "metadata": {},
     "output_type": "execute_result"
    }
   ],
   "source": [
    "#println(\"-1\")\n",
    "#############Lattice Thermal Conductivity Parameters###############\n",
    "con=1.0\n",
    "thetaL=52.3e12*hbar/kB # K \n",
    "thetaT=29.7e12*hbar/kB  # K\n",
    "vL=(1-con)*7700+con*4900    # m/s\n",
    "vT=(1-con)*4900+con*3000    # m/s\n",
    "gammaL=2.5*(1-con)+1.7*con\n",
    "gammaT=2.5*(1-con)+1.7*con\n",
    "M=(2*(24.305e-3)+(28.0855e-3*(1-con)+118.71e-3*con))/3/Nav\n",
    "V=((1-con)*(6.39e-10)^3+con*(6.77e-10)^3)/12\n",
    "a=V^(1.0/3.0)\n",
    "ro=M/V\n",
    "Vdj=(((6.39e-10)^3)/((1-con)*(6.39e-10)^3+con*(6.77e-10)^3))^(1/3)\n",
    "jL=vL/7700*Vdj\n",
    "jT=vT/4900*Vdj\n",
    "thetaLx=thetaL*jL\n",
    "thetaTx=thetaT*jT\n",
    "##########Boundary Scattering###############3\n",
    "D=11e-9\n",
    "p=0.60\n",
    "##########Alloy Scattering###################\n",
    "mbar=(28.0855*(1-con)+118.71*con)\n",
    "GammaSiSn=(1-con)*((28.0855-mbar)/mbar)^2+con*((118.71-mbar)/mbar)^2\n",
    "GammaMgSiSn=2*((mbar/(24.305+mbar))^2*GammaSiSn);         \n",
    "##########Electron Scattering###################\n",
    "Eep=5.0*q\n",
    "xsp=xs[1]\n",
    "Tp=300.0\n",
    "mdx1=0.67*me\n",
    "mdx3=0.38*me\n",
    "Efx3=0.2589\n",
    "Efx1=0.2589\n",
    "##########Nanoparticle Scattering###################\n",
    "NP=1.0\n",
    "#alpha=1.0\n",
    "d=97.0e-9#\n",
    "Vnp=4/3*pi*d^3\n",
    "rhonp=NP/100/Vnp\n",
    "rhoM=3.0\n",
    "rhoT=3.78\n",
    "alpha=1-exp(-1*(rhoT-rhoM)/rhoM);\n",
    "\n",
    "#vartauPH0=[[0.02],Ts[1],gammaL,gammaT,xsp,thetaCLx,thetaCTx,thetaCTx,MSi,MGe,VSi,a,T_EF_Dict,0.0]\n",
    "vartauPH0=[ [0.02],  Ts[1],   gammaL,  gammaT, con,#5\n",
    "    thetaLx, thetaTx, thetaTx, M,   M, #10\n",
    "    V, a, T_EF_Dict_Array, Eep, alpha, #15\n",
    "    d, thetaLx, thetaTx, vL, vT, #20\n",
    "    vL, vT, p, NP,Tsindex=1,#25\n",
    "    numberofnindex=1,xsindex=1,p,D,GammaMgSiSn,#30\n",
    "    mdx1,mdx3,Efx1,Efx3,ro,#35,\n",
    "    NP,alpha,d,Vnp,rhonp #40\n",
    "    ]\n",
    "thetaCLx=thetaCL(vartauPH0[12],vartauPH0[5],vartauPH0[17],vartauPH0[19],vartauPH0[11])\n",
    "thetaCTx=thetaCT(vartauPH0[12],vartauPH0[5],vartauPH0[18],vartauPH0[19],vartauPH0[11])\n",
    "#println(\"2\")\n",
    "tauPHNLf(var)=tauPH_NL(var[3],var[11],var[1],var[2],var[9],var[21])\n",
    "tauPHNTf(var)=tauPH_NT(var[4],var[11],var[1],var[2],var[9],var[22])                  \n",
    "\n",
    "\n",
    "tauPHULf(var)=tauPH_U(var[3],var[1],var[2],var[9],var[19],var[17])\n",
    "tauPHUTf(var)=tauPH_U(var[4],var[1],var[2],var[9],var[20],var[18])\n",
    "\n",
    "tauPHALLLf(var)=tauPH_ALL(var[30],var[11],var[1],var[2],var[19])\n",
    "tauPHALLTf(var)=tauPH_ALL(var[30],var[11],var[1],var[2],var[20])\n",
    "\n",
    "tauPHeLfX3(var)=tauPH_e(var[14],mdx3,var[35],(var[13][var[26],var[27]])[var[2]],var[1],var[2],var[21])\n",
    "tauPHeTfX3(var)=tauPH_e(var[14],mdx3,var[35],(var[13][var[26],var[27]])[var[2]],var[1],var[2],var[22])\n",
    "\n",
    "tauPHeLfX1(var)=tauPH_e(var[14],X1effMass(var[2])*me,var[35],(var[13][var[26],var[27]])[var[2]]-Ec0(0.6)\n",
    "    ,var[1],var[2],var[21])\n",
    "tauPHeTfX1(var)=tauPH_e(var[14],X1effMass(var[2])*me,var[35],(var[13][var[26],var[27]])[var[2]]-Ec0(0.6)\n",
    "    ,var[1],var[2],var[22])\n",
    "\n",
    "tauPHBLf(var)=tauPH_B(var[19],var[28],var[29])\n",
    "tauPHBTf(var)=tauPH_B(var[20],var[28],var[29])\n",
    "#println(\"3\")\n",
    "tauPHTOTL=tau_phonon_B([tauPHNLf,tauPHULf,tauPHBLf,tauPHALLLf,tauPHeLfX3,tauPHeLfX1],vartauPH0)#,tauPHALLLf,tauPHeLf,tauPH_eLf ,tauPHALLLf ,tauPHBLf,,tauPHULf\n",
    "tauPHNL=tau_phonon_B([tauPHNLf],vartauPH0)\n",
    "tauPHRL=tau_phonon_B([tauPHULf,tauPHBLf,tauPHALLLf,tauPHeLfX3,tauPHeLfX1],vartauPH0) #,tauPHALLLf,tauPHeLf,tauPHALLLf,tauPH_eLf] ,tauPHBLf\n",
    "\n",
    "\n",
    "tauPHTOTTx=tau_phonon_B([tauPHNTf,tauPHUTf,tauPHBTf,tauPHALLTf,tauPHeTfX3,tauPHeTfX1],vartauPH0) #,tauPHALLTf,tauPHeTf,tauPHALLTf,tauPH_eTf ,tauPHBTf\n",
    "tauPHNTx=tau_phonon_B([tauPHNTf],vartauPH0)\n",
    "tauPHRTx=tau_phonon_B([tauPHUTf,tauPHBTf,tauPHALLTf,tauPHeTfX3,tauPHeTfX1],vartauPH0) #,tauPHALLTf,tauPHeTf,tauPHALLTf,tauPH_eTf ,tauPHBTf\n",
    "\n",
    "\n",
    "tauPHTOTTy=tau_phonon_B([tauPHNTf,tauPHUTf,tauPHBTf,tauPHALLTf,tauPHeTfX3,tauPHeTfX1],vartauPH0) #,tauPHALLTf,tauPHeTf,tauPHALLTf,tauPH_eTf tauPHBTf\n",
    "tauPHNTy=tau_phonon_B([tauPHNTf],vartauPH0)\n",
    "tauPHRTy=tau_phonon_B([tauPHUTf,tauPHBTf,tauPHALLTf,tauPHeTfX3,tauPHeTfX1],vartauPH0) #,tauPHALLTf,tauPH_eTf ,tauPHBTf,tauPHALLTf,tauPHeTf\n",
    "#println(\"4\")\n",
    "\n",
    "tauPHL=[tauPHTOTL,tauPHNL,tauPHRL]\n",
    "tauPHTx=[tauPHTOTTx,tauPHNTx,tauPHRTx]\n",
    "tauPHTy=[tauPHTOTTx,tauPHNTx,tauPHRTx]\n",
    "xmax=1.0"
   ]
  },
  {
   "cell_type": "code",
   "execution_count": 20,
   "metadata": {
    "scrolled": false
   },
   "outputs": [
    {
     "name": "stdout",
     "output_type": "stream",
     "text": [
      "T=300.0 kl= 3.8565\n",
      "IL1= 1.730778585641727e-13 IL2= 0.13552097980767797 IL3= 2.6073170271712776e10 ITx1= 1.0722756169020399e-14 ITx2= 0.02586811290352837 ITx3= 5.140275560042919e9 kL/3=2.5296289464783173 kTx/3=0.6634588379203764 kTy/3=0.6634588379203764\n",
      "T=310.0 kl= 3.7866\n",
      "IL1= 1.455680847257351e-13 IL2= 0.12476435949175242 IL3= 2.441095674913347e10 ITx1= 8.905050921548161e-15 ITx2= 0.023563123499968672 ITx3= 4.796849705743742e9 kL/3=2.491357828240754 kTx/3=0.6476139550305908 kTy/3=0.6476139550305908\n",
      "T=320.0 kl= 3.7188\n",
      "IL1= 1.229812271102473e-13 IL2= 0.11505325132101017 IL3= 2.288699887500315e10 ITx1= 7.435560423128858e-15 ITx2= 0.021520153765602394 ITx3= 4.485720262257957e9 kL/3=2.453833622011213 kTx/3=0.6324749479393371 kTy/3=0.6324749479393371\n",
      "T=330.0 kl= 3.6531\n",
      "IL1= 1.043445474849326e-13 IL2= 0.10627252441996418 IL3= 2.1488130491464592e10 ITx1= 6.240339397963812e-15 ITx2= 0.019703554193976684 ITx3= 4.203075981527645e9 kL/3=2.417080541520316 kTx/3=0.6179987844303596 kTy/3=0.6179987844303596\n",
      "T=340.0 kl= 3.5894\n",
      "IL1= 8.889440601865491e-14 IL2= 0.09832044104077152 IL3= 2.02024586153211e10 ITx1= 5.2625977876054525e-15 ITx2= 0.01808325110171225 ITx3= 3.9456356510563183e9 kL/3=2.381113122860594 kTx/3=0.604145484993765 kTy/3=0.604145484993765\n",
      "T=350.0 kl= 3.5277\n",
      "IL1= 7.602793389840053e-14 IL2= 0.09110717283602948 IL3= 1.901926786647812e10 ITx1= 4.458401686213876e-15 ITx2= 0.01663377184879524 ITx3= 3.7105646621262903e9 kL/3=2.3459382441763568 kTx/3=0.5908779161245566 kTy/3=0.5908779161245566\n",
      "T=360.0 kl= 3.4679\n",
      "IL1= 6.526660211322473e-14 IL2= 0.08455342920663149 IL3= 1.7928920371895214e10 ITx1= 3.793527437921052e-15 ITx2= 0.015333456561920589 ITx3= 3.4954060154720335e9 kL/3=2.3115567345784167 kTx/3=0.5781615866869229 kTy/3=0.5781615866869229\n",
      "T=370.0 kl= 3.4099\n",
      "IL1= 5.622859186368798e-14 IL2= 0.0785892113730233 IL3= 1.692275651064018e10 ITx1= 3.241140270223557e-15 ITx2= 0.014163817969535707 ITx3= 3.2980230811768546e9 kL/3=2.277964661435867 kTx/3=0.565964452292726 kTy/3=0.565964452292726\n",
      "T=380.0 kl= 3.3537\n",
      "IL1= 4.8607717151631557e-14 IL2= 0.07315269451430836 IL3= 1.5992999776563217e10 ITx1= 2.780067713940401e-15 ITx2= 0.013109019332542498 ITx3= 3.116551953778568e9 kL/3=2.245154364083219 kTx/3=0.5542567303064059 kTy/3=0.5542567303064059\n",
      "T=390.0 kl= 3.2991\n",
      "IL1= 4.215725426793062e-14 IL2= 0.0681892335928204 IL3= 1.5132667624074032e10 ITx1= 2.393505693982478e-15 ITx2= 0.012155446922073694 ITx3= 2.9493616629140644e9 kL/3=2.213115286142251 kTx/3=0.5430107266177319 kTy/3=0.5430107266177319\n",
      "T=400.0 kl= 3.2462\n",
      "IL1= 3.667746748904734e-14 IL2= 0.06365048474863227 IL3= 1.4335489222834782e10 ITx1= 2.068041885976064e-15 ITx2= 0.011291358501732468 ITx3= 2.7950208347318044e9 kL/3=2.1818346468906267 kTx/3=0.5322006744595867 kTy/3=0.5322006744595867\n",
      "T=410.0 kl= 3.1949\n",
      "IL1= 3.2005934806661066e-14 IL2= 0.05949363233863003 IL3= 1.3595830433617163e10 ITx1= 1.792913492285981e-15 ITx2= 0.010506593157480034 ITx3= 2.652269666881743e9 kL/3=2.1512979833321038 kTx/3=0.5218025850661582 kTy/3=0.5218025850661582\n",
      "T=420.0 kl= 3.1451\n",
      "IL1= 2.8010006483296988e-14 IL2= 0.055680711091938145 IL3= 1.2908625928236107e10 ITx1= 1.5594394852201952e-15 ITx2= 0.00979233084438758 ITx3= 2.5199962940217495e9 kL/3=2.1214895879937075 kTx/3=0.511794109709493 kTy/3=0.511794109709493\n",
      "T=430.0 kl= 3.0967\n",
      "IL1= 2.458089689298482e-14 IL2= 0.05217801298302523 IL3= 1.2269318140046522e10 ITx1= 1.3605835994910603e-15 ITx2= 0.009140892384224686 ITx3= 2.397216792494677e9 kL/3=2.092392862388885 kTx/3=0.5021544125210953 kTy/3=0.5021544125210953\n",
      "T=440.0 kl= 3.0497\n",
      "IL1= 2.162903358543871e-14 IL2= 0.04895556897472032 IL3= 1.1673802598184109e10 ITx1= 1.1906159604781207e-15 ITx2= 0.008545572502645841 ITx3= 2.283058210854266e9 kL/3=2.0639906021237118 kTx/3=0.4928640534437983 kTy/3=0.4928640534437983\n",
      "T=450.0 kl= 3.0041\n",
      "IL1= 1.9080378958847033e-14 IL2= 0.045986696554597986 IL3= 1.1118379133922358e10 ITx1= 1.0448495937348502e-15 ITx2= 0.008000499955033574 ITx3= 2.176744124132892e9 kL/3=2.0362652264997627 kTx/3=0.48390488063693304 kTy/3=0.48390488063693304\n",
      "T=460.0 kl= 2.9597\n",
      "IL1= 1.6873508019561603e-14 IL2= 0.04324760485221971 IL3= 1.0599708427258823e10 ITx1= 9.19434126584884e-16 ITx2= 0.007500519944161099 ITx3= 2.0775822995830204e9 kL/3=2.009198962983184 kTx/3=0.47525993165881847 kTy/3=0.47525993165881847\n",
      "T=470.0 kl= 2.9166\n",
      "IL1= 1.4957276680153312e-14 IL2= 0.040717050002836375 IL3= 1.0114773369692036e10 ITx1= 8.111934248653695e-16 ITx2= 0.007041094948440833 ITx3= 1.984954134383717e9 kL/3=1.9827739949231509 kTx/3=0.4669133427660859 kTy/3=0.4669133427660859\n",
      "T=480.0 kl= 2.8747\n",
      "IL1= 1.3288953402071408e-14 IL2= 0.038376034268777434 IL3= 9.660844743919075e9 ITx1= 7.174971685144593e-16 ITx2= 0.006618220808676602 ITx3= 1.8983055848874373e9 kL/3=1.9569725793089068 kTx/3=0.4588502656943001 kTy/3=0.4588502656943001\n",
      "T=490.0 kl= 2.8339\n",
      "IL1= 1.1832715994317693e-14 IL2= 0.0362075432172339 IL3= 9.235450755354656e9 ITx1= 6.361587839661908e-16 ITx2= 0.006228355504088291 ITx3= 1.817139355091856e9 kL/3=1.9317771400730273 kTx/3=0.4510567913155794 kTy/3=0.4510567913155794\n",
      "T=500.0 kl= 2.7942\n",
      "IL1= 1.0558437421481205e-14 IL2= 0.03419631597024505 IL3= 8.836349988973566e9 ITx1= 5.653539499953859e-16 ITx2= 0.005868358516007353 ITx3= 1.7410081513044837e9 kL/3=1.9071703414167838 kTx/3=0.4435198796040248 kTy/3=0.4435198796040248\n",
      "T=510.0 kl= 2.7556\n",
      "IL1= 9.440701304450886e-15 IL2= 0.032328644185589415 IL3= 8.461507404791809e9 ITx1= 5.035552416907165e-16 ITx2= 0.005535439054192853 ITx3= 1.669508842134443e9 kL/3=1.8831351448017157 kTx/3=0.4362272953770648 kTy/3=0.4362272953770648\n",
      "T=520.0 kl= 2.718\n",
      "IL1= 8.458000706917841e-15 IL2= 0.030592195997208485 IL3= 8.109073024314121e9 ITx1= 4.494794933118629e-16 ITx2= 0.005227111725010965 ITx3= 1.6022773893607068e9 kL/3=1.8596548525801662 kTx/3=0.4291675493188252 kTy/3=0.4291675493188252\n",
      "T=530.0 kl= 2.6814\n",
      "IL1= 7.592083748003023e-15 IL2= 0.028975861644909683 IL3= 7.777362997285844e9 ITx1= 4.020452308661192e-16 ITx2= 0.004941158467481591 ITx3= 1.538984436980324e9 kL/3=1.83671314069492 kTx/3=0.42232984382935285 kTy/3=0.42232984382935285\n",
      "T=540.0 kl= 2.6457\n",
      "IL1= 6.827417279368032e-15 IL2= 0.027469617961076557 IL3= 7.464842772407481e9 ITx1= 3.603381119691389e-16 ITx2= 0.004675595783986731 ITx3= 1.4793314636981416e9 kL/3=1.814294082449738 kTx/3=0.41570402328299155 kTy/3=0.41570402328299155\n",
      "T=550.0 kl= 2.6109\n",
      "IL1= 6.150745847764939e-15 IL2= 0.026064409263149062 IL3= 7.170112127079199e9 ITx1= 3.2358275986470697e-16 ITx2= 0.004428646456361808 ITx3= 1.4230474190041027e9 kL/3=1.7923821649945912 kTx/3=0.40928052831376754 kTy/3=0.40928052831376754\n",
      "T=560.0 kl= 2.5771\n",
      "IL1= 5.55072783221724e-15 IL2= 0.024752042530715657 IL3= 6.891891840164153e9 ITx1= 2.9111972423524075e-16 ITx2= 0.0041987150723351305 ITx3= 1.369885775491077e9 kL/3=1.770962299691744 kTx/3=0.4030503537318679 kTy/3=0.4030503537318679\n",
      "T=570.0 kl= 2.544\n",
      "IL1= 5.0176343046655185e-15 IL2= 0.02352509503320874 IL3= 6.629011815533688e9 ITx1= 2.62386568823035e-16 ITx2= 0.003984366797696506 ITx3= 1.3196219399041338e9 kL/3=1.7500198278672146 kTx/3=0.39700500985042103 kTy/3=0.39700500985042103\n",
      "T=580.0 kl= 2.5118\n",
      "IL1= 4.5430990376847266e-15 IL2= 0.022376832819347246 IL3= 6.380400489150141e9 ITx1= 2.3690229347753375e-16 ITx2= 0.0037843089203844966 ITx3= 1.2720509746509635e9 kL/3=1.7295405224661755 kTx/3=0.3911364868310687 kTy/3=0.3911364868310687\n",
      "T=590.0 kl= 2.4804\n",
      "IL1= 4.119910356512431e-15 IL2= 0.021301138693901853 IL3= 6.145075370830097e9 ITx1= 2.1425446029648853e-16 ITx2= 0.0035973747679588566 ITx3= 1.2269855882294388e9 kL/3=1.7095105865563014 kTx/3=0.3854372218303663 kTy/3=0.3854372218303663\n",
      "T=600.0 kl= 2.4497\n",
      "IL1= 3.741837332114564e-15 IL2= 0.020292448490540713 IL3= 5.922134590263191e9 ITx1= 1.9408852043740992e-16 ITx2= 0.0034225096622223002 ITx3= 1.1842543592599006e9 kL/3=1.6899166492681343 kTx/3=0.3799000686964988 kTy/3=0.3799000686964988\n",
      "T=610.0 kl= 2.4198\n",
      "IL1= 3.403484243892365e-15 IL2= 0.019345694607973172 IL3= 5.710749332417021e9 ITx1= 1.7609893803418304e-16 ITx2= 0.003258758626598009 ITx3= 1.1437001638709877e9 kL/3=1.6707457596902013 kTx/3=0.3745182699970169 kTy/3=0.3745182699970169\n",
      "T=620.0 kl= 2.3906\n",
      "IL1= 3.1001683832852076e-15 IL2= 0.01845625591312999 IL3= 5.510157061235795e9 ITx1= 1.6002178652372614e-16 ITx2= 0.003105255605094106 ITx3= 1.1051787804844122e9 kL/3=1.6519853791482875 kTx/3=0.36928543117847307 kTy/3=0.36928543117847307\n"
     ]
    },
    {
     "name": "stdout",
     "output_type": "stream",
     "text": [
      "T=630.0 kl= 2.362\n",
      "IL1= 2.8278171845448316e-15 IL2= 0.01761991323283569 IL3= 5.319655442643909e9 ITx1= 1.4562855522261564e-16 ITx2= 0.0029612139878288997 ITx3= 1.068557649679032e9 kL/3=1.6336233722255973 kTx/3=0.3641954966772913 kTy/3=0.3641954966772913\n",
      "T=640.0 kl= 2.3341\n",
      "IL1= 2.5828814041123426e-15 IL2= 0.016832809756974168 IL3= 5.138596888488512e9 ITx1= 1.3272095376188736e-16 ITx2= 0.00282591826839192 ITx3= 1.0337147698975892e9 kL/3=1.6156479968203195 kTx/3=0.3592427278179399 kTy/3=0.3592427278179399\n",
      "T=650.0 kl= 2.3069\n",
      "IL1= 2.362261662573593e-15 IL2= 0.016091415763799174 IL3= 4.966383652373101e9 ITx1= 1.2112654173929427e-16 ITx2= 0.0026987166837852817 ITx3= 1.000537712380178e9 kL/3=1.5980478934875517 kTx/3=0.354421682349747 kTy/3=0.354421682349747\n",
      "T=660.0 kl= 2.2803\n",
      "IL1= 2.1632461422585294e-15 IL2= 0.015392497153751902 IL3= 4.802463416505213e9 ITx1= 1.1069504280959848e-16 ITx2= 0.002579014709152376 ITx3= 9.68922740941586e8 kL/3=1.5808120742715597 kTx/3=0.34972719548755743 kTy/3=0.34972719548755743\n",
      "T=670.0 kl= 2.2542\n",
      "IL1= 1.9834576220875245e-15 IL2= 0.014733087343600909 IL3= 4.646325315846009e9 ITx1= 1.0129522805769159e-16 ITx2= 0.0024662692976310653 ITx3= 9.387740241166033e8 kL/3=1.5639299112005778 kTx/3=0.34515436233404767 kTy/3=0.34515436233404767\n",
      "T=680.0 kl= 2.2288\n",
      "IL1= 1.8208083473009373e-15 IL2= 0.014110462129356063 IL3= 4.497496352132683e9 ITx1= 9.281227417530678e-17 ITx2= 0.0023599837710205963 ITx3= 9.100029288294824e8 kL/3=1.5473911245885816 kTx/3=0.3406985215729909 kTy/3=0.3406985215729909\n",
      "T=690.0 kl= 2.2039\n",
      "IL1= 1.6734614895084796e-15 IL2= 0.013522117175465352 IL3= 4.355538155856677e9 ITx1= 8.514551869869525e-17 ITx2= 0.002259703279981363 ITx3= 8.825273861435388e8 kL/3=1.5311857712656343 kTx/3=0.3363552403332155 kTy/3=0.3363552403332155\n",
      "T=700.0 kl= 2.1795\n",
      "IL1= 1.5397981633830568e-15 IL2= 0.012965747830339262 IL3= 4.220044059117855e9 ITx1= 7.820654815449293e-17 ITx2= 0.0021650107635708764 ITx3= 8.562713208500559e8 kL/3=1.5153042328397566 kTx/3=0.33212030013249166 kTy/3=0.33212030013249166\n",
      "T=710.0 kl= 2.1557\n",
      "IL1= 1.4183891393084643e-15 IL2= 0.012439231005170106 IL3= 4.090636446522777e9 ITx1= 7.191756602900679e-17 ITx2= 0.0020755233473693222 ITx3= 8.311641376919111e8 kL/3=1.4997372040780046 kTx/3=0.32798968381923965 kTy/3=0.32798968381923965\n",
      "T=720.0 kl= 2.1324\n",
      "IL1= 1.3079705335622575e-15 IL2= 0.011940608885099367 IL3= 3.966964355027619e9 ITx1= 6.620999651668888e-17 ITx2= 0.001990889127522226 ITx3= 8.071402579116999e8 kL/3=1.4844756814819693 kTx/3=0.323959563437791 kTy/3=0.323959563437791\n",
      "T=730.0 kl= 2.1096\n",
      "IL1= 1.207422874931447e-15 IL2= 0.011468074269701659 IL3= 3.848701296908921e9 ITx1= 6.102328740905615e-17 ITx2= 0.0019107842949409666 ITx3= 7.84138700587571e8 kL/3=1.4695109521227145 kTx/3=0.3200262889500584 kTy/3=0.3200262889500584\n",
      "T=740.0 kl= 2.0872\n",
      "IL1= 1.1157530436417198e-15 IL2= 0.011019957364069294 IL3= 3.735543282934333e9 ITx1= 5.630388156826914e-17 ITx2= 0.0018349105598331802 ITx3= 7.62102703890177e8 kL/3=1.4548345827917377 kTx/3=0.3161863777528893 kTy/3=0.3161863777528893\n",
      "T=750.0 kl= 2.0653\n",
      "IL1= 1.032078658853004e-15 IL2= 0.010594713862986521 IL3= 3.627207025350975e9 ITx1= 5.2004331439648957e-17 ITx2= 0.0017629928418342853 ITx3= 7.409793819761394e8 kL/3=1.4404384095173244 kTx/3=0.3124365049361251 kTy/3=0.3124365049361251\n",
      "T=760.0 kl= 2.0439\n",
      "IL1= 9.556145577408137e-16 IL2= 0.010190914189197731 IL3= 3.5234283025538816e9 ITx1= 4.8082535194639986e-17 ITx2= 0.0016947771954036442 ITx3= 7.207194137397109e8 kL/3=1.4263145274894369 kTx/3=0.3087734942315046 kTy/3=0.3087734942315046\n",
      "T=770.0 kl= 2.0228\n",
      "IL1= 8.856610647775658e-16 IL2= 0.009807233762959722 IL3= 3.4239604692793746e9 ITx1= 4.450107652089865e-17 ITx2= 0.0016300289439396248 ITx3= 7.012767600858134e8 kL/3=1.412455281430394 kTx/3=0.30519430960702265 kTy/3=0.30519430960702265\n",
      "T=780.0 kl= 2.0022\n",
      "IL1= 8.215937962264111e-16 IL2= 0.00944244419423507 IL3= 3.32857309792046e9 ITx1= 4.1226652918907185e-17 ITx2= 0.0015685309993453888 ITx3= 6.826084067733042e8 kL/3=1.3988532564428748 kTx/3=0.3016960474651856 kTy/3=0.3016960474651856\n",
      "T=790.0 kl= 1.9821\n",
      "IL1= 7.628547836701252e-16 IL2= 0.00909540530129863 IL3= 3.237050738112996e9 ITx1= 3.8229579729532804e-17 ITx2= 0.0015100823466163665 ITx3= 6.646741302149942e8 kL/3=1.385501269360703 kTx/3=0.29827592940682474 kTy/3=0.29827592940682474\n",
      "T=800.0 kl= 1.9623\n",
      "IL1= 7.089447329312066e-16 IL2= 0.008765057870422144 IL3= 3.1491917831164e9 ITx1= 3.548335908919935e-17 ITx2= 0.0014544966754840788 ITx3= 6.474362839172579e8 kL/3=1.3723923606213246 kTx/3=0.2949312955246987 kTy/3=0.2949312955246987\n",
      "T=810.0 kl= 1.9428\n",
      "IL1= 6.594162620698618e-16 IL2= 0.008450417080870938 IL3= 3.064807432733623e9 ITx1= 3.296430465781885e-17 ITx2= 0.0014016011432925494 ITx3= 6.308596035024859e8 kL/3=1.359519786671396 kTx/3=0.2916595981930878 kTy/3=0.2916595981930878\n",
      "T=820.0 kl= 1.9238\n",
      "IL1= 6.138679851540013e-16 IL2= 0.008150566527863239 IL3= 2.983720743600088e9 ITx1= 3.0651214345592744e-17 ITx2= 0.0013512352551483889 ITx3= 6.149110284871119e8 kL/3=1.3468770129086307 kTx/3=0.28845839632095377 kTy/3=0.28845839632095377\n",
      "T=830.0 kl= 1.9051\n",
      "IL1= 5.719393279030332e-16 IL2= 0.007864652783554043 IL3= 2.9057657586368628e9 ITx1= 2.852508442417579e-17 ITx2= 0.0013032498490121128 ITx3= 5.995595391903406e8 kL/3=1.3344577071536785 kTx/3=0.28532535003707743 kTy/3=0.28532535003707743\n",
      "T=840.0 kl= 1.8868\n",
      "IL1= 5.333059777109541e-16 IL2= 0.007591880442639997 IL3= 2.8307867083231907e9 ITx1= 2.6568859383137626e-17 ITx2= 0.0012575061748192002 ITx3= 5.84776007327535e8 kL/3=1.3222557336356742 kTx/3=0.2822582157759589 kTy/3=0.2822582157759589\n",
      "T=850.0 kl= 1.8688\n",
      "IL1= 4.976758844459578e-16 IL2= 0.007331507604949794 IL3= 2.7586372772094984e9 ITx1= 2.4767212715046425e-17 ITx2= 0.0012138750579627428 ITx3= 5.705330590003177e8 kL/3=1.3102651474643776 kTx/3=0.2792548417332816 kTy/3=0.2792548417332816\n",
      "T=860.0 kl= 1.8511\n",
      "IL1= 4.64785740210559e-16 IL2= 0.007082841752482403 IL3= 2.6891799297744284e9 ITx1= 2.3106354507265665e-17 ITx2= 0.0011722361385591508 ITx3= 5.568049489351877e8 kL/3=1.2984801895509934 kTx/3=0.27631316365953557 kTy/3=0.27631316365953557\n",
      "T=870.0 kl= 1.8338\n",
      "IL1= 4.3439787626562843e-16 IL2= 0.0068452359828658415 IL3= 2.622285290336716e9 ITx1= 2.1573862306667793e-17 ITx2= 0.001132477178874779 ITx3= 5.435674449459437e8 kL/3=1.2868952819293475 kTx/3=0.27343120096012796 kTy/3=0.27343120096012796\n",
      "T=880.0 kl= 1.8167\n",
      "IL1= 4.0629752385421875e-16 IL2= 0.006618085565204927 IL3= 2.5578315722724404e9 ITx1= 2.0158532222267078e-17 ITx2= 0.001094493432131992 ITx3= 5.307977217040839e8 kL/3=1.275505023419884 kTx/3=0.27060705307016014 kTy/3=0.27060705307016014\n",
      "T=890.0 kl= 1.8\n",
      "IL1= 3.8029039294021036e-16 IL2= 0.0064008247878298095 IL3= 2.4957040522667074e9 ITx1= 1.8850247654623935e-17 ITx2= 0.0010581870666532445 ITx3= 5.1847426299716896e8 kL/3=1.264304185571483 kTx/3=0.26783889607219735 kTy/3=0.26783889607219735\n",
      "T=900.0 kl= 1.7835\n",
      "IL1= 3.562005290974868e-16 IL2= 0.006192924070603285 IL3= 2.4357945857520328e9 ITx1= 1.7639863401701355e-17 ITx2= 0.0010234666399541105 ITx3= 5.0657677173915446e8 kL/3=1.2532877088112675 kTx/3=0.2651249795259631 kTy/3=0.2651249795259631\n"
     ]
    }
   ],
   "source": [
    "kls=Array{Float64}(length(Ts),length(numofn),length(xs))\n",
    "for (iT,iTx) in enumerate(Ts)\n",
    "    \n",
    "   (IL1,ITx1,IL2,ITx2,IL3,ITx3,kL,kTx,kTy,kls[iT,1,1])= klt(tauPHTOTL,tauPHNL,tauPHRL,tauPHTOTTx,tauPHNTx,tauPHRTx,tauPHTOTTy,tauPHNTy,tauPHRTy,iTx,[vL,vT,vT])\n",
    "    println(\"T=\", iTx, \" kl= \" ,round(kls[iT,1,1]*10000)/10000)\n",
    "    println(\"IL1= \",IL1,\" IL2= \",IL2,\" IL3= \",IL3,\" ITx1= \",ITx1,\" ITx2= \",ITx2,\" ITx3= \",ITx3,\" kL/3=\",kL,\n",
    "    \" kTx/3=\",kTx,\" kTy/3=\",kTy)\n",
    "end"
   ]
  },
  {
   "cell_type": "code",
   "execution_count": 21,
   "metadata": {},
   "outputs": [
    {
     "data": {
      "image/png": "[encoded data removed]",
      "text/plain": [
       "PyPlot.Figure(PyObject <matplotlib.figure.Figure object at 0x146324090>)"
      ]
     },
     "metadata": {},
     "output_type": "display_data"
    },
    {
     "name": "stderr",
     "output_type": "stream",
     "text": [
      "/Volumes/OS_X_Vault/users/.julia/v0.6/Conda/deps/usr/lib/python2.7/site-packages/matplotlib/axes/_base.py:3245: UserWarning: Attempted to set non-positive ylimits for log-scale axis; invalid limits will be ignored.\n",
      "  'Attempted to set non-positive ylimits for log-scale axis; '\n"
     ]
    }
   ],
   "source": [
    "semilogy(Ts,kls[:,1,1],linestyle=\"-\",color=\"c\")\n",
    "ylim(0,10)\n",
    "\n",
    "grid(true,which=\"both\")\n"
   ]
  },
  {
   "cell_type": "code",
   "execution_count": 22,
   "metadata": {},
   "outputs": [
    {
     "data": {
      "text/plain": [
       "3-element Array{types.tau_phonon_B,1}:\n",
       " types.tau_phonon_B(Function[tauPHNTf, tauPHUTf, tauPHBTf, tauPHALLTf, tauPHeTfX3, tauPHeTfX1], Any[[0.000120835, 0.000209757, 0.000369643, 0.000600372, 0.000901723, 0.0012734, 0.00171505, 0.00222623, 0.00280645, 0.00345513  …  0.142306, 0.142955, 0.143535, 0.144046, 0.144488, 0.14486, 0.145161, 0.145392, 0.145552, 0.145641], 900.0, 1.7, 1.7, 1.0, 239.945, 131.095, 131.095, 9.26138e-26, 9.26138e-26  …  6.10329e-31, 3.46157e-31, 0.2589, 0.2589, 3581.71, 1.0, 0.228948, 9.7e-8, 3.823e-21, 2.61575e18])\n",
       " types.tau_phonon_B(Function[tauPHNTf], Any[[0.000120835, 0.000209757, 0.000369643, 0.000600372, 0.000901723, 0.0012734, 0.00171505, 0.00222623, 0.00280645, 0.00345513  …  0.142306, 0.142955, 0.143535, 0.144046, 0.144488, 0.14486, 0.145161, 0.145392, 0.145552, 0.145641], 900.0, 1.7, 1.7, 1.0, 239.945, 131.095, 131.095, 9.26138e-26, 9.26138e-26  …  6.10329e-31, 3.46157e-31, 0.2589, 0.2589, 3581.71, 1.0, 0.228948, 9.7e-8, 3.823e-21, 2.61575e18])                                                        \n",
       " types.tau_phonon_B(Function[tauPHUTf, tauPHBTf, tauPHALLTf, tauPHeTfX3, tauPHeTfX1], Any[[0.000120835, 0.000209757, 0.000369643, 0.000600372, 0.000901723, 0.0012734, 0.00171505, 0.00222623, 0.00280645, 0.00345513  …  0.142306, 0.142955, 0.143535, 0.144046, 0.144488, 0.14486, 0.145161, 0.145392, 0.145552, 0.145641], 900.0, 1.7, 1.7, 1.0, 239.945, 131.095, 131.095, 9.26138e-26, 9.26138e-26  …  6.10329e-31, 3.46157e-31, 0.2589, 0.2589, 3581.71, 1.0, 0.228948, 9.7e-8, 3.823e-21, 2.61575e18])          "
      ]
     },
     "execution_count": 22,
     "metadata": {},
     "output_type": "execute_result"
    }
   ],
   "source": [
    "tauPHL=[tauPHTOTL,tauPHNL,tauPHRL]\n",
    "tauPHTx=[tauPHTOTTx,tauPHNTx,tauPHRTx]\n",
    "tauPHTy=[tauPHTOTTx,tauPHNTx,tauPHRTx]"
   ]
  },
  {
   "cell_type": "code",
   "execution_count": 23,
   "metadata": {},
   "outputs": [
    {
     "data": {
      "text/plain": [
       "61×1×1 Array{Float64,3}:\n",
       "[:, :, 1] =\n",
       " 3.85655\n",
       " 3.78659\n",
       " 3.71878\n",
       " 3.65308\n",
       " 3.5894 \n",
       " 3.52769\n",
       " 3.46788\n",
       " 3.40989\n",
       " 3.35367\n",
       " 3.29914\n",
       " 3.24624\n",
       " 3.1949 \n",
       " 3.14508\n",
       " ⋮      \n",
       " 1.98205\n",
       " 1.96225\n",
       " 1.94284\n",
       " 1.92379\n",
       " 1.90511\n",
       " 1.88677\n",
       " 1.86877\n",
       " 1.85111\n",
       " 1.83376\n",
       " 1.81672\n",
       " 1.79998\n",
       " 1.78354"
      ]
     },
     "execution_count": 23,
     "metadata": {},
     "output_type": "execute_result"
    }
   ],
   "source": [
    "klscomp=Array{Float64}(length(Ts),length(numofn),length(xs))\n",
    "klscomp=thermalPropsiso(Ts,tauPHL,tauPHTx,tauPHTy,[vL,vT,vT])"
   ]
  },
  {
   "cell_type": "code",
   "execution_count": 24,
   "metadata": {},
   "outputs": [
    {
     "data": {
      "text/html": [
       "4.55469178e-31"
      ],
      "text/plain": [
       "4.55469178e-31"
      ]
     },
     "execution_count": 24,
     "metadata": {},
     "output_type": "execute_result"
    }
   ],
   "source": [
    "xxsp=0.6\n",
    "xsp=(100-xxsp)/100\n",
    "Eep=7.0\n",
    "etha=0.96\n",
    "thetaD=350.0#524.0\n",
    "#gammaSA,GM,Tts[Tti],MSiGecgs(xsp),thetaD,omegaD,beta,delta,Eep,mds,etha\n",
    "\n",
    "Tt=thetaD\n",
    "gammaSA=2.02\n",
    "beta=2.0\n",
    "\n",
    "eps=39\n",
    "deltaSi=6.39e-10\n",
    "deltaGe=6.77e-10\n",
    "delta=deltaSi*(1-xsp)+deltaGe*xsp\n",
    "deltacgs=delta*100\n",
    "V=((1-xsp)*(6.39e-10)^3+xsp*(6.77e-10)^3)/12\n",
    "MSiGecgs(xsp)=(2*(24.305)+(28.0855*(1-xsp)+118.71*xsp))/3\n",
    "#G=1.033*(1-xsp)+1.017*xsp\n",
    "\n",
    "a3=((1-xsp)*(6.39e-10)^3+xsp*(6.77e-10)^3)/12\n",
    "a1=a3^(1/3)\n",
    "#vtt=kB/hbar*(6*pi*pi)^(-1/3)*thetaD*delta\n",
    "dd=(4.66e-26*(1-xsp)+1.206e-25*xsp)/(2e-29*(1-xsp)+2.2636e-29*xsp)\n",
    "\n",
    "delMSiGe=(2*(24.305)+(28.0855*(1-xsp)-118.71*xsp))/3\n",
    "deldelta=deltaSi-deltaGe\n",
    "mbar=(28.0855*(1-xsp)+118.71*xsp)\n",
    "GM=(1-xsp)*((28.0855-mbar)/mbar)^2+xsp*((118.71-mbar)/mbar)^2\n",
    "\n",
    "omegaD=thetaD*kB/hbar\n",
    "mds=0.5*me#0.427*me\n",
    "#vt=5880.0"
   ]
  },
  {
   "cell_type": "code",
   "execution_count": null,
   "metadata": {},
   "outputs": [],
   "source": []
  },
  {
   "cell_type": "code",
   "execution_count": 25,
   "metadata": {},
   "outputs": [],
   "source": [
    "function tauPH_U_SAT(gamma::Float64,intx::Array{Float64},T::Float64,M::Float64,\n",
    "    theta::Float64,omegaD::Float64,beta::Float64,delta::Float64)\n",
    "    #intx is different from x in oither phonon calculations intx=omega/omegaD\n",
    "    Mcgs=M\n",
    "    #println(\"Mcgs= \",Mcgs)\n",
    "    deltacgs=delta*100\n",
    "    #println(\"deltacgs= \",deltacgs)\n",
    "    #println(\"1/Mcgs/deltacgs^2/(theta/T)= \",(1/Mcgs/deltacgs^2/(theta/T)))\n",
    "    return 1./((3.264e-2)*((1+beta*(5/9))/(1+beta))*gamma^2.*intx.^2./Mcgs/deltacgs^2/(theta/T))    \n",
    "end\n",
    "\n",
    "function tauPH_EP_SAT(Eep::Float64,md::Float64,x::Array{Float64},Ef::Float64,\n",
    "    T::Float64,M::Float64,theta::Float64,delta::Float64)\n",
    "    eta=Ef#Ef*q/kB/T\n",
    "    deltacgs=delta*100\n",
    "    Mcgs=M\n",
    "    A=6.76e26(md/me)^2*deltacgs^2/Mcgs\n",
    "    y=3.72e9(md/me)*deltacgs^2*theta\n",
    "    D=1.68e-11/(md/me)/deltacgs^2/theta\n",
    "    alphat=thetaD/T\n",
    "    #println(\"alphat \",alphat)\n",
    "    lambda=3\n",
    "    ex1=1+exp.(-alphat*y+eta-D*alphat*x.*x+alphat.*x/2)\n",
    "    ex2=1+exp.(-alphat*y+eta-D*alphat*x.*x-alphat.*x/2)    \n",
    "    ext=ex1./ex2\n",
    "    logt=log.(ext)\n",
    "    return 1./(lambda*(A*Eep^2/alphat).*logt) \n",
    "end\n",
    "\n",
    "function tauPH_PD_SAT(GM::Float64,intx::Array{Float64},theta::Float64)\n",
    "    return 1./(6.17e11*theta*GM.*intx.^4)\n",
    "end\n",
    "\n",
    "\n",
    "function I1(gammaSA,GM,Tt,MSiGecgs,thetaD,omegaD,beta,delta,Eep,mds,etha)\n",
    "    alphat=thetaD/Tt\n",
    "    tauPH_U_SA_Af(x)=tauPH_U_SAT(gammaSA,x,Tt,MSiGecgs,thetaD,omegaD,beta,delta)\n",
    "    #tauPH_N_SA_Af(x)=tauPH_U_SA_A(x)/(1+beta)\n",
    "    tauPH_EP_SA_Af(x)=tauPH_EP_SAT(Eep,mds,x,etha,Tt,MSiGecgs,thetaD,delta)\n",
    "    tauPH_PD_SA_Af(x)=tauPH_PD_SAT(GM,x,thetaD)\n",
    "    tauPH_C_SA_Af(x)=1./((beta+1)./tauPH_U_SA_Af(x)+1./tauPH_EP_SA_Af(x)+1./tauPH_PD_SA_Af(x))\n",
    "    \n",
    "    integrand(x)=tauPH_C_SA_Af(x).*(x.^4)*alphat^2.*exp.(alphat*x)./(exp.(alphat*x)-1).^2\n",
    "    \n",
    "    nodes, weights = qnwlege(1000,0.0,1.0)\n",
    "    return a= do_quad(integrand,nodes, weights)    \n",
    "end\n",
    "\n",
    "function I2(gammaSA,GM,Tt,MSiGecgs,thetaD,omegaD,beta,delta,Eep,mds,etha)\n",
    "    alphat=thetaD/Tt\n",
    "    tauPH_U_SA_Af(x)=tauPH_U_SAT(gammaSA,x,Tt,MSiGecgs,thetaD,omegaD,beta,delta)\n",
    "    #tauPH_N_SA_Af(x)=tauPH_U_SA_A(x)/(1+beta)\n",
    "    tauPH_EP_SA_Af(x)=tauPH_EP_SAT(Eep,mds,x,etha,Tt,MSiGecgs,thetaD,delta)\n",
    "    tauPH_PD_SA_Af(x)=tauPH_PD_SAT(GM,x,thetaD)\n",
    "    tauPH_C_SA_Af(x)=1./((beta+1)./tauPH_U_SA_Af(x)+1./tauPH_EP_SA_Af(x)+1./tauPH_PD_SA_Af(x))\n",
    "    \n",
    "    integrand(x)=beta*tauPH_C_SA_Af(x)./tauPH_U_SA_Af(x).*(x.^4)*alphat^2.*exp.(alphat*x)./(exp.(alphat*x)-1).^2\n",
    "    \n",
    "    nodes, weights = qnwlege(1000,0.0,1.0)\n",
    "    return a= do_quad(integrand,nodes, weights)    \n",
    "end\n",
    "\n",
    "function I3(gammaSA,GM,Tt,MSiGecgs,thetaD,omegaD,beta,delta,Eep,mds,etha)\n",
    "    alphat=thetaD/Tt\n",
    "    tauPH_U_SA_Af(x)=tauPH_U_SAT(gammaSA,x,Tt,MSiGecgs,thetaD,omegaD,beta,delta)\n",
    "    #tauPH_N_SA_Af(x)=tauPH_U_SA_A(x)/(1+beta)\n",
    "    tauPH_EP_SA_Af(x)=tauPH_EP_SAT(Eep,mds,x,etha,Tt,MSiGecgs,thetaD,delta)\n",
    "    tauPH_PD_SA_Af(x)=tauPH_PD_SAT(GM,x,thetaD)\n",
    "    tauPH_C_SA_Af(x)=1./((beta+1)./tauPH_U_SA_Af(x)+1./tauPH_EP_SA_Af(x)+1./tauPH_PD_SA_Af(x))\n",
    "    \n",
    "    integrand(x)=beta*1./tauPH_U_SA_Af(x).*\n",
    "    (1-beta*tauPH_C_SA_Af(x)./tauPH_U_SA_Af(x)).*(x.^4)*alphat^2.*exp.(alphat*x)./(exp.(alphat*x)-1).^2\n",
    "    \n",
    "    nodes, weights = qnwlege(1000,0.0,1.0)\n",
    "    return a= do_quad(integrand,nodes, weights)    \n",
    "end\n",
    "\n",
    "function klt(gammaSA,GM,Tt,MSiGecgs,thetaD,omegaD,beta,delta,Eep,mds,etha)    \n",
    "    I1t=I1(gammaSA,GM,Tt,MSiGecgs,thetaD,omegaD,beta,delta,Eep,mds,etha)\n",
    "    I2t=I2(gammaSA,GM,Tt,MSiGecgs,thetaD,omegaD,beta,delta,Eep,mds,etha)\n",
    "    I3t=I3(gammaSA,GM,Tt,MSiGecgs,thetaD,omegaD,beta,delta,Eep,mds,etha)\n",
    "    return 4.67e-2*(thetaD^2/delta/100)*(I1t+I2t.^2/I3t)#(I1t+I2t.^2/I3t)#(kB*thetaD/hbar)^3*(I1t+I2t.^2/I3t)    #4.67e-2*(thetaD^2/delta/100)*(I1t+I2t.^2/I3t)    \n",
    "end\n",
    "klt_SA_A=Array{Float64,1}(length(Ts))\n",
    "for Tti in 1:length(Ts)\n",
    "    klt_SA_A[Tti]=klt(gammaSA,GM,Ts[Tti],MSiGecgs(xsp),thetaD,omegaD,beta,delta,Eep,mds,\n",
    "        Efsr[Tti,1,1]/kBe/Ts[Tti])\n",
    "    #klt_V_A[Tti]=kltV(gammaSA,Tts[Tti],MSiGecgs(xsp),thetaD,omegaD,beta,delta,Eep,mds,etha,vtt,dd)*(thetaD/Ttt)^2    \n",
    "end"
   ]
  },
  {
   "cell_type": "code",
   "execution_count": 26,
   "metadata": {},
   "outputs": [
    {
     "data": {
      "text/plain": [
       "9-element Array{Float64,1}:\n",
       " 2.11688\n",
       " 2.02684\n",
       " 1.91509\n",
       " 1.8141 \n",
       " 1.72099\n",
       " 1.85449\n",
       " 1.92316\n",
       " 2.06051\n",
       " 2.18169"
      ]
     },
     "execution_count": 26,
     "metadata": {},
     "output_type": "execute_result"
    }
   ],
   "source": [
    "MgSiSn4hKCT=[27.204980536447565,125.22263104569937,250.3986028902043, 300.61256865568174,350.4225990508186, 400.31661600810537,\n",
    "450.60323681544304,500.88852450274595,550.37460672959,]\n",
    "MgSiSn4hKCK=[ 2.8789473684210525, 2.7375, 2.609210526315789, 2.5121710526315786, 2.4184210526315786, 2.531907894736842, 2.614144736842105\n",
    ", 2.6930921052631573, 2.7999999999999994]\n",
    "MgSiSn2hKCT=[27.174994546327184, 125.66321921825845, 250.56521889830958, 300.8030294412153, 350.04276302458277,400.3366068836394, \n",
    "450.6409643790327, 500.95101524496823,550.7594666065552]\n",
    "MgSiSn2hKCK=[2.608956937799043, 2.4846513157894736, 2.4523355263157893, 2.3861330409356722, 2.3131756578947367\n",
    ", 2.385235380116959, 2.4832374999999995, 2.595288011695906, 2.697641746411483]\n",
    "MgSiSn05hKCT=[26.1867119039,124.6184700145,249.7991072943,300.1809590466,349.8324946796,399.3641637338,450.1016014407,\n",
    "450.7811561579,549.7232004091,500.4092678505]\n",
    "MgSiSn05hKCK=[2.4217028509,2.3627326555,2.2459551435,2.1025076754,2.0223385167,2.2370652412,2.3803594498,2.302875,\n",
    "2.5966549043,2.5105263158]\n",
    "MgSiSn2h2TiO2KCT=[450.7811561579,26.5677491601,125.429931211,250.6172345758,300.4185996907,350.6278995361,\n",
    "400.1639737642,500.3759398496,550.2639577668]\n",
    "MgSiSn2h2TiO2KCK=[2.302875,2.3065789474,2.2490131579,2.1486842105,2.0335526316,1.925,2.1552631579,2.4282894737,\n",
    "2.5269736842]\n",
    "MgSiSn2h5TiO2KCT=[27.3549565403,124.5907321495,250.1753052845,299.9806697595,350.1926358449,400.1339785634,\n",
    "450.0339945609,500.3299472084,550.6152348958]\n",
    "MgSiSn2h5TiO2KCK=[2.2490131579,2.1782894737,2.0582236842,1.9529605263,1.8509868421,2.08125,2.2095394737,2.3148026316,\n",
    "2.39375]\n",
    "MgSiSn0hKCT=[26.9755694846,125.1437396683,250.3474884019,300.0735322348,349.8027683571,400.6191835973,449.916314723,\n",
    "500.2366154749,550.052698235]\n",
    "MgSiSn0hKCK=[2.1168755981,2.0268355263,1.9150855263,1.8140986842,1.7209888158,1.8544934211,1.9231644737,2.0605065789,\n",
    "2.1816907895]"
   ]
  },
  {
   "cell_type": "code",
   "execution_count": 27,
   "metadata": {},
   "outputs": [
    {
     "data": {
      "image/png": "[encoded data removed]",
      "text/plain": [
       "PyPlot.Figure(PyObject <matplotlib.figure.Figure object at 0x14eb4a050>)"
      ]
     },
     "metadata": {},
     "output_type": "display_data"
    },
    {
     "data": {
      "image/png": "[encoded data removed]",
      "text/plain": [
       "PyPlot.Figure(PyObject <matplotlib.figure.Figure object at 0x14ec4d150>)"
      ]
     },
     "metadata": {},
     "output_type": "display_data"
    }
   ],
   "source": [
    "figure()\n",
    "title(\"kl\")\n",
    "plot(Ts,36*klt_SA_A+kes[:,1,1]+0.6*kbis[:,1,1],Linestyle=\"-\",color=\"k\")\n",
    "plot(Ts,34*klt_SA_A+kes[:,1,1]+0.567*kbis[:,1,1],Linestyle=\"-\",color=\"b\")\n",
    "plot(Ts,28*klt_SA_A+1.48kes[:,1,1]+0.57*kbis[:,1,1],Linestyle=\"-\",color=\"g\")\n",
    "plot(Ts,29*klt_SA_A+1.5kes[:,1,1]+0.53*kbis[:,1,1],Linestyle=\"-.\",color=\"tab:pink\")\n",
    "plot(Ts,27*klt_SA_A+1.5kes[:,1,1]+0.53*kbis[:,1,1],Linestyle=\"-.\",color=\"tab:purple\")\n",
    "plot(Ts,26*klt_SA_A+1.3kes[:,1,1]+0.52*kbis[:,1,1],Linestyle=\"-\",color=\"r\")\n",
    "plot(MgSiSn4hKCT+273,MgSiSn4hKCK,linestyle=\"None\",marker=\"o\",markersize=7,color=\"k\")\n",
    "plot(MgSiSn2hKCT+273,MgSiSn2hKCK,linestyle=\"None\",marker=\"^\",markersize=7,color=\"b\")\n",
    "plot(MgSiSn05hKCT+273,MgSiSn05hKCK,linestyle=\"None\",marker=\"D\",markersize=7,color=\"g\")\n",
    "plot(MgSiSn2h2TiO2KCT+273,MgSiSn2h2TiO2KCK,linestyle=\"None\",marker=\"8\",markersize=7,color=\"tab:pink\")\n",
    "plot(MgSiSn2h5TiO2KCT+273,MgSiSn2h5TiO2KCK,linestyle=\"None\",marker=\"*\",markersize=7,color=\"tab:purple\")\n",
    "plot(MgSiSn0hKCT+273,MgSiSn0hKCK,linestyle=\"None\",marker=\"s\",markersize=7,color=\"r\")\n",
    "#plot(SiGe_SA_162_Bulk_KC_T,SiGe_SA_162_Bulk_KC_KL,linestyle=\"None\",marker=\"o\",markersize=7,color=\"b\")\n",
    "#plot(SiGe_SA_162_Bulk_KC_T2,SiGe_SA_162_Bulk_KC_K2,linestyle=\"None\",marker=\"o\",markersize=7,color=\"g\")\n",
    "legend(loc=\"upper left\")\n",
    "ylim(1.5,3.0)\n",
    "grid()\n",
    "\n",
    "\n",
    "figure()\n",
    "title(\"kl\")\n",
    "plot(Ts,36*klt_SA_A+kes[:,1,1]+0.6*kbis[:,1,1],Linestyle=\"-\",color=\"k\",label=\"\")\n",
    "plot(Ts,34*klt_SA_A+kes[:,1,1]+0.567*kbis[:,1,1],Linestyle=\"-\",color=\"b\")\n",
    "#plot(Ts,28*klt_SA_A+1.48kes[:,1,1]+0.57*kbis[:,1,1],Linestyle=\"-\",color=\"g\")\n",
    "plot(Ts,29*klt_SA_A+1.5kes[:,1,1]+0.53*kbis[:,1,1],Linestyle=\"-.\",color=\"tab:pink\")\n",
    "plot(Ts,27*klt_SA_A+1.5kes[:,1,1]+0.53*kbis[:,1,1],Linestyle=\"-.\",color=\"tab:purple\")\n",
    "plot(Ts,26*klt_SA_A+1.3kes[:,1,1]+0.52*kbis[:,1,1],Linestyle=\"-\",color=\"r\")\n",
    "plot(MgSiSn4hKCT+273,MgSiSn4hKCK,linestyle=\"None\",marker=\"o\",markersize=7,color=\"k\",label=\"4 h\")\n",
    "plot(MgSiSn2hKCT+273,MgSiSn2hKCK,linestyle=\"None\",marker=\"^\",markersize=7,color=\"b\",label=\"2 h\")\n",
    "#plot(MgSiSn05hKCT+273,MgSiSn05hKCK,linestyle=\"None\",marker=\"D\",markersize=7,color=\"g\")\n",
    "plot(MgSiSn2h2TiO2KCT+273,MgSiSn2h2TiO2KCK,linestyle=\"None\",marker=\"8\",markersize=7,color=\"tab:pink\",label=\"2 h + 2% TiO2\")\n",
    "plot(MgSiSn2h5TiO2KCT+273,MgSiSn2h5TiO2KCK,linestyle=\"None\",marker=\"*\",markersize=7,color=\"tab:purple\",label=\"2 h + 5% TiO2\")\n",
    "plot(MgSiSn0hKCT+273,MgSiSn0hKCK,linestyle=\"None\",marker=\"s\",markersize=7,color=\"r\",label=\"0 h\")\n",
    "#plot(SiGe_SA_162_Bulk_KC_T,SiGe_SA_162_Bulk_KC_KL,linestyle=\"None\",marker=\"o\",markersize=7,color=\"b\")\n",
    "#plot(SiGe_SA_162_Bulk_KC_T2,SiGe_SA_162_Bulk_KC_K2,linestyle=\"None\",marker=\"o\",markersize=7,color=\"g\")\n",
    "\n",
    "ylim(1.5,3.0)\n",
    "legend(loc=\"lower right\")\n",
    "grid()\n"
   ]
  },
  {
   "cell_type": "code",
   "execution_count": 28,
   "metadata": {},
   "outputs": [
    {
     "data": {
      "text/plain": [
       "9-element Array{Float64,1}:\n",
       "  1.6\n",
       "  1.7\n",
       "  3.8\n",
       "  7.8\n",
       " 12.2\n",
       " 25.6\n",
       " 40.8\n",
       " 68.0\n",
       " 62.0"
      ]
     },
     "execution_count": 28,
     "metadata": {},
     "output_type": "execute_result"
    }
   ],
   "source": [
    "MgSiSn4hECE=[10,12.4,20.5,35.8,43.2,69.6,82.8,100,110]\n",
    "MgSiSn2hECE=[3,4.4,8.5,15.8,22.2,55.6,50.8,68,80]\n",
    "MgSiSn1hECE=[2,4.2,3.7,11.8,22.2,25.6,30.8,48,64]\n",
    "MgSiSn0hECE=[1.6,1.7,3.8,7.8,12.2,25.6,40.8,68,62]"
   ]
  },
  {
   "cell_type": "code",
   "execution_count": 29,
   "metadata": {},
   "outputs": [
    {
     "ename": "LoadError",
     "evalue": "\u001b[91mBoundsError: attempt to access 61×1×1 Array{Float64,3} at index [Base.Slice(Base.OneTo(61)), 2, 2]\u001b[39m",
     "output_type": "error",
     "traceback": [
      "\u001b[91mBoundsError: attempt to access 61×1×1 Array{Float64,3} at index [Base.Slice(Base.OneTo(61)), 2, 2]\u001b[39m",
      "",
      "Stacktrace:",
      " [1] \u001b[1mthrow_boundserror\u001b[22m\u001b[22m\u001b[1m(\u001b[22m\u001b[22m::Array{Float64,3}, ::Tuple{Base.Slice{Base.OneTo{Int64}},Int64,Int64}\u001b[1m)\u001b[22m\u001b[22m at \u001b[1m./abstractarray.jl:434\u001b[22m\u001b[22m",
      " [2] \u001b[1mcheckbounds\u001b[22m\u001b[22m at \u001b[1m./abstractarray.jl:362\u001b[22m\u001b[22m [inlined]",
      " [3] \u001b[1mmacro expansion\u001b[22m\u001b[22m at \u001b[1m./multidimensional.jl:494\u001b[22m\u001b[22m [inlined]",
      " [4] \u001b[1m_getindex\u001b[22m\u001b[22m at \u001b[1m./multidimensional.jl:491\u001b[22m\u001b[22m [inlined]",
      " [5] \u001b[1mgetindex\u001b[22m\u001b[22m\u001b[1m(\u001b[22m\u001b[22m::Array{Float64,3}, ::Colon, ::Int64, ::Int64\u001b[1m)\u001b[22m\u001b[22m at \u001b[1m./abstractarray.jl:883\u001b[22m\u001b[22m",
      " [6] \u001b[1minclude_string\u001b[22m\u001b[22m\u001b[1m(\u001b[22m\u001b[22m::String, ::String\u001b[1m)\u001b[22m\u001b[22m at \u001b[1m./loading.jl:522\u001b[22m\u001b[22m"
     ]
    }
   ],
   "source": [
    "\n",
    "figure()\n",
    "plot(Ts,sigmas[:,1,1]/100/6^(2/3),linestyle=\"-\",color=\"b\")\n",
    "plot(Ts,sigmas[:,2,2]/100/6^(2/3),linestyle=\"-\",color=\"r\")\n",
    "plot(Ts,sigmas[:,3,3]/100/6^(2/3),linestyle=\"-\",color=\"k\")\n",
    "plot(Ts,sigmas[:,4,4]/100/6^(2/3),linestyle=\"-\",color=\"g\")\n",
    "plot(MgSiSn4hKCT+273,MgSiSn4hECE,linestyle=\"None\",marker=\".\",markersize=10,color=\"r\")\n",
    "plot(MgSiSn4hKCT+273,MgSiSn2hECE,linestyle=\"None\",marker=\".\",markersize=10,color=\"k\")\n",
    "plot(MgSiSn4hKCT+273,MgSiSn1hECE,linestyle=\"None\",marker=\".\",markersize=10,color=\"b\")\n",
    "plot(MgSiSn4hKCT+273,MgSiSn0hECE,linestyle=\"None\",marker=\".\",markersize=10,color=\"g\")\n",
    "#plot(SiGe_Suin_EC_T,SiGe_Suin_Green_EC_E/100,linestyle=\"None\",marker=\"x\",markersize=2,color=\"g\")\n",
    "#plot(SiGe_Suin_EC_T,SiGe_Suin_Blue_EC_E/100,linestyle=\"None\",marker=\"o\",markersize=2,color=\"b\")\n",
    "#plot(SiGe_Suin_EC_T,SiGe_Suin_Pink_EC_E/100,linestyle=\"None\",marker=\"o\",markersize=2,color=\"r\")\n",
    "#plot(SiGe_Suin_EC_T,SiGe_Suin_Black_EC_E/100,linestyle=\"None\",marker=\"o\",markersize=2,color=\"k\")\n",
    "grid()\n",
    "\n",
    "figure()\n",
    "plot(Ts,-seebecks[:,1,1]*1e6,linestyle=\"-\",color=\"b\")\n",
    "plot(Ts,-seebecks[:,2,2]*1e6,linestyle=\"-\",color=\"r\")\n",
    "plot(Ts,-seebecks[:,3,3]*1e6,linestyle=\"-\",color=\"k\")\n",
    "plot(Ts,-seebecks[:,4,4]*1e6,linestyle=\"-\",color=\"g\")\n",
    "#plot(Ts,-seebecks[:,2,2]*1e6,linestyle=\"-\",color=\"b\")\n",
    "#plot(SiGe_Vin_162_Bulk_SC_T,SiGe_Vin_162_Bulk_SC_S,linestyle=\"None\",marker=\".\",markersize=10,color=\"r\")\n",
    "#plot(SiGe_Suin_EC_T,-SiGe_Suin_Green_SC_S,linestyle=\"None\",marker=\"x\",markersize=2,color=\"g\")\n",
    "#plot(SiGe_Suin_EC_T,-SiGe_Suin_Blue_SC_S,linestyle=\"None\",marker=\"x\",markersize=2,color=\"b\")\n",
    "#plot(SiGe_Suin_EC_T,-SiGe_Suin_Pink_SC_S,linestyle=\"None\",marker=\"x\",markersize=2,color=\"r\")\n",
    "#plot(SiGe_Suin_EC_T,-SiGe_Suin_Black_SC_S,linestyle=\"None\",marker=\"x\",markersize=2,color=\"k\")\n",
    "grid()"
   ]
  }
 ],
 "metadata": {
  "kernelspec": {
   "display_name": "Julia 0.6.1",
   "language": "julia",
   "name": "julia-0.6"
  },
  "language_info": {
   "file_extension": ".jl",
   "mimetype": "application/julia",
   "name": "julia",
   "version": "0.6.3"
  }
 },
 "nbformat": 4,
 "nbformat_minor": 1
}
