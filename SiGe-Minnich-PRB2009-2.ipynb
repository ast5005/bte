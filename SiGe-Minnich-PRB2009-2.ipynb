{
 "cells": [
  {
   "cell_type": "code",
   "execution_count": 1,
   "metadata": {
    "collapsed": false
   },
   "outputs": [
    {
     "data": {
      "text/plain": [
       "electronicthermalPropsiso (generic function with 1 method)"
      ]
     },
     "execution_count": 1,
     "metadata": {},
     "output_type": "execute_result"
    }
   ],
   "source": [
    "using ProfileView\n",
    "using constants\n",
    "using types\n",
    "using Optim\n",
    "using PyPlot\n",
    "using data\n",
    "include(\"DOSfunctions.jl\")\n",
    "include(\"userfunctions.jl\")\n",
    "include(\"propertyfuncs.jl\")"
   ]
  },
  {
   "cell_type": "code",
   "execution_count": 2,
   "metadata": {
    "collapsed": false
   },
   "outputs": [
    {
     "data": {
      "text/html": [
       "3.0"
      ],
      "text/plain": [
       "3.0"
      ]
     },
     "execution_count": 2,
     "metadata": {},
     "output_type": "execute_result"
    }
   ],
   "source": [
    "Ts=collect(200.0:500:1200.0)\n",
    "#Ts=collect(663.8:0.01:664.0)#[663.0,663.1]\n",
    "numofn=[-17e19,-7.3e19]#,-2.3e19,-0.22e19]#,-7.3e19,-2.0e19,-0.15e19]#,-0.2e20]#,-1.75e20,-3.0e19,-0.9e20]#Sample 1 -3.0e19, Sample 2 -1.25e20,\n",
    "#Sample e-1.75e20, Sample Sb 0.75% -1.03e20, #\n",
    "numofnn=[1.5e17,1.8e17]#,2.3e17,2.3e17]#,1e17,1e17,1e17]#,1e17]\n",
    "xs=[0.3,0.3]#,0.3,0.3]#,0.3,0.3,0.3]#[0.287,0.3,0.262,0.332]#collect(0.0:0.01:1.0)\n",
    "\n",
    "var0=[Ts[1],xs[1]]\n",
    "Eoff=5.0\n",
    "Ev(var)=Eoff\n",
    "Ec(var)=Ev(var)+EgSiGe(var[1],var[2]) #var[1]:T var[2]:x\n",
    "Ec2(var)=Ec(var)+0.8\n",
    "alphanp=1.25#1/EgSiGe(Ts[1],xs[1])\n",
    "\n",
    "\n",
    "effMassV(var)=-1.2*me\n",
    "effMassC(var)=0.321me#0.321me#1.4/6^(2/3)*me#0.321me#0.424*me#0.424*me#1.4/6^(2/3)*me\n",
    "effMassC2(var)=0.21me#\n",
    "\n",
    "bandC=parBandTx(effMassC(var0),alphanp,Ec(var0),[Ec],[effMassC],var0)\n",
    "bandC2=parBandTx(effMassC2(var0),alphanp,Ec2(var0),[Ec2],[effMassC2],var0)\n",
    "bandV=parBandTx(effMassV(var0),0.0,Ev(var0),[Ev],[effMassV],var0)\n",
    "#bndstTx=BandStrucTx([bandV,bandC,bandC,bandC,bandC,bandC,bandC],var0)\n",
    "bndstTx=BandStrucTx([bandC,bandC,bandC,bandC,bandC,bandC],var0)#,bandC,bandC,bandC,bandC,bandC,bandV],var0)\n",
    "#bndstTx=BandStrucTx([bandC,bandC2,bandV],var0)#,bandC,bandC,bandC,bandC,bandC,bandV],var0)\n",
    "#bndstTx=BandStrucTx([bandC,bandC2,bandV],var0)#,bandC,bandC,bandC,bandC,bandC,bandV],var0)\n",
    "#bndstTx=BandStrucTx([bandC,bandC,bandC,bandC,bandC,bandC,bandC2,bandV],var0)#,bandC,bandC,bandC,bandC,bandC,bandV],var0)\n",
    "#var array: var[1]: effMass , var[2]:T, var[3]:E, var[4]:x, var[5]:Ef, \n",
    "#var[6]:band, var[7]:NII var[8]:bndst var[9]:NNI var[10]:bandV\n",
    "\n",
    "md=effMassC([Ts[1],xs[1]])*6^(2/3)#1.4*me;\n",
    "function Deftemp(band::parBandTx)\n",
    "    Da=10.5\n",
    "    Dv=4.8\n",
    "    Da2=10.5\n",
    "    if band==bandC\n",
    "        return [Da,Dv]#10.5#15.0\n",
    "    end\n",
    "    if band==bandV        \n",
    "        return [Dv,Da]#7.0\n",
    "    end\n",
    "    if band==bandC2\n",
    "        return [Da2,Dv]\n",
    "    end\n",
    "end\n",
    "ksi=21.0\n",
    "#tauAC(var)=tauAC_func(ClSiGe(var[4],var[2]),Deftemp(var[6])[1],Deftemp(var[6])[2],var[2],var[1],var[3],var[6])#DefP(var[1])\n",
    "#tauAC(var)=tauAC_func(ClSiGe(var[4],var[2]),Deftemp(var[6])[1],var[2],var[1],var[3],var[6])#DefP(var[1])\n",
    "tauAC(var)=tauAC_func(var[3])#DefP(var[1])\n",
    "\n",
    "tauII2(var)=tauII2_func(ksi*eps0,eps0,var[6],var[5],var[2],var[7],var[1],var[3],var[8])\n",
    "tauNI(var)=tauNI_func(ksi*eps0,var[1],var[9])\n",
    "vartau0=[bandC.effMass,Ts[1],Ec(var0),xs[1],Ec(var0),bandC,numofn[1]*1e6,bndstTx,numofnn[2]*1e6,bandV]\n",
    "#vartau0=[bandC.effMass,Ts[1],1.0,xs[1],1.5,bandC,numofn[1]*1e6,bndstTx,numofnn[1]*1e6]\n",
    "#tauTOTTx=tau_electron_B([tauAC,tauII2,tauNI],vartau0)#tauNI,,tauII2,tauAC,\n",
    "tauTOTTx=tau_electron_B([tauAC],vartau0)#tauNI,,tauII2,tauAC,tauII2,tauNI\n",
    "xmax=3.0\n",
    "#T_EF_Dict=Dict()\n",
    "#println(\"-3\")"
   ]
  },
  {
   "cell_type": "code",
   "execution_count": 3,
   "metadata": {
    "collapsed": false,
    "scrolled": false
   },
   "outputs": [
    {
     "name": "stdout",
     "output_type": "stream",
     "text": [
      "T=200.0\n",
      "n=-1.7e20\n",
      "x=0.3\n",
      "[6.10296 6.94877e-310; 6.94877e-310 6.94877e-310; 6.94877e-310 6.94877e-310]\n",
      "\n",
      "[6.94877e-310 6.94877e-310; 6.94877e-310 6.94877e-310; 6.94877e-310 6.94877e-310][i,j,k] ,200.0\n",
      "l = 1 , sigmae= 1.9492088863206048e9 \n",
      "temp0=1.9492088863206048e9\n",
      "presigmae=1.9492088863206048e9\n",
      "sigmaein=3.8984177726412096e9\n",
      "l = 2 , sigmae= 3.8984177726412096e9 \n",
      "temp0=1.9492088863206048e9\n",
      "presigmae=1.9492088863206048e9\n",
      "sigmaein=5.847626658961815e9\n",
      "l = 3 , sigmae= 5.847626658961815e9 \n",
      "temp0=1.9492088863206048e9\n",
      "presigmae=1.9492088863206048e9\n",
      "sigmaein=7.796835545282419e9\n",
      "l = 4 , sigmae= 7.796835545282419e9 \n",
      "temp0=1.9492088863206048e9\n",
      "presigmae=1.9492088863206048e9\n",
      "sigmaein=9.746044431603024e9\n",
      "l = 5 , sigmae= 9.746044431603024e9 \n",
      "temp0=1.9492088863206048e9\n",
      "presigmae=1.9492088863206048e9\n",
      "sigmaein=1.1695253317923628e10\n",
      "l = 6 , sigmae= 1.1695253317923628e10 \n",
      "n=-7.3e19\n",
      "x=0.3\n",
      "[6.10296 6.94877e-310; 6.94877e-310 6.94877e-310; 6.94877e-310 6.94877e-310]\n",
      "\n",
      "[6.94877e-310 6.06236; 6.94877e-310 6.94877e-310; 6.94877e-310 6.94877e-310][i,j,k] ,200.0\n",
      "l = 1 , sigmae= 8.912007311403446e8 \n",
      "temp0=8.912007311403446e8\n",
      "presigmae=8.912007311403446e8\n",
      "sigmaein=1.7824014622806892e9\n",
      "l = 2 , sigmae= 1.7824014622806892e9 \n",
      "temp0=8.912007311403446e8\n",
      "presigmae=8.912007311403446e8\n",
      "sigmaein=2.673602193421034e9\n",
      "l = 3 , sigmae= 2.673602193421034e9 \n",
      "temp0=8.912007311403446e8\n",
      "presigmae=8.912007311403446e8\n",
      "sigmaein=3.5648029245613785e9\n",
      "l = 4 , sigmae= 3.5648029245613785e9 \n",
      "temp0=8.912007311403446e8\n",
      "presigmae=8.912007311403446e8\n",
      "sigmaein=4.456003655701723e9\n",
      "l = 5 , sigmae= 4.456003655701723e9 \n",
      "temp0=8.912007311403446e8\n",
      "presigmae=8.912007311403446e8\n",
      "sigmaein=5.347204386842068e9\n",
      "l = 6 , sigmae= 5.347204386842068e9 \n",
      "T=700.0\n",
      "n=-1.7e20\n",
      "x=0.3\n",
      "[6.10296 6.94877e-310; 5.88584 6.94877e-310; 6.94877e-310 6.94877e-310]\n",
      "\n",
      "[6.94877e-310 6.06236; 6.94877e-310 6.94877e-310; 6.94877e-310 6.94877e-310][i,j,k] ,700.0\n",
      "l = 1 , sigmae= 1.6773549830398583e9 \n",
      "temp0=1.6773549830398583e9\n",
      "presigmae=1.6773549830398583e9\n",
      "sigmaein=3.3547099660797167e9\n",
      "l = 2 , sigmae= 3.3547099660797167e9 \n",
      "temp0=1.6773549830398583e9\n",
      "presigmae=1.6773549830398583e9\n",
      "sigmaein=5.0320649491195755e9\n",
      "l = 3 , sigmae= 5.0320649491195755e9 \n",
      "temp0=1.6773549830398583e9\n",
      "presigmae=1.6773549830398583e9\n",
      "sigmaein=6.709419932159433e9\n",
      "l = 4 , sigmae= 6.709419932159433e9 \n",
      "temp0=1.6773549830398583e9\n",
      "presigmae=1.6773549830398583e9\n",
      "sigmaein=8.386774915199291e9\n",
      "l = 5 , sigmae= 8.386774915199291e9 \n",
      "temp0=1.6773549830398583e9\n",
      "presigmae=1.6773549830398583e9\n",
      "sigmaein=1.006412989823915e10\n",
      "l = 6 , sigmae= 1.006412989823915e10 \n",
      "n=-7.3e19\n",
      "x=0.3\n",
      "[6.10296 6.94877e-310; 5.88584 6.94877e-310; 6.94877e-310 6.94877e-310]\n",
      "\n",
      "[6.94877e-310 6.06236; 6.94877e-310 5.82176; 6.94877e-310 6.94877e-310][i,j,k] ,700.0\n",
      "l = 1 , sigmae= 7.424886150346078e8 \n",
      "temp0=7.424886150346078e8\n",
      "presigmae=7.424886150346078e8\n",
      "sigmaein=1.4849772300692155e9\n",
      "l = 2 , sigmae= 1.4849772300692155e9 \n",
      "temp0=7.424886150346078e8\n",
      "presigmae=7.424886150346078e8\n",
      "sigmaein=2.227465845103823e9\n",
      "l = 3 , sigmae= 2.227465845103823e9 \n",
      "temp0=7.424886150346078e8\n",
      "presigmae=7.424886150346078e8\n",
      "sigmaein=2.969954460138431e9\n",
      "l = 4 , sigmae= 2.969954460138431e9 \n",
      "temp0=7.424886150346078e8\n",
      "presigmae=7.424886150346078e8\n",
      "sigmaein=3.712443075173039e9\n",
      "l = 5 , sigmae= 3.712443075173039e9 \n",
      "temp0=7.424886150346078e8\n",
      "presigmae=7.424886150346078e8\n",
      "sigmaein=4.454931690207646e9\n",
      "l = 6 , sigmae= 4.454931690207646e9 \n",
      "T=1200.0\n",
      "n=-1.7e20\n",
      "x=0.3\n",
      "[6.10296 6.94877e-310; 5.88584 6.94877e-310; 5.58136 6.94877e-310]\n",
      "\n",
      "[6.94877e-310 6.06236; 6.94877e-310 5.82176; 6.94877e-310 6.94877e-310][i,j,k] ,1200.0\n",
      "l = 1 , sigmae= 1.4248195856564803e9 \n",
      "temp0=1.4248195856564803e9\n",
      "presigmae=1.4248195856564803e9\n",
      "sigmaein=2.8496391713129606e9\n",
      "l = 2 , sigmae= 2.8496391713129606e9 \n",
      "temp0=1.4248195856564803e9\n",
      "presigmae=1.4248195856564803e9\n",
      "sigmaein=4.274458756969441e9\n",
      "l = 3 , sigmae= 4.274458756969441e9 \n",
      "temp0=1.4248195856564803e9\n",
      "presigmae=1.4248195856564803e9\n",
      "sigmaein=5.699278342625921e9\n",
      "l = 4 , sigmae= 5.699278342625921e9 \n",
      "temp0=1.4248195856564803e9\n",
      "presigmae=1.4248195856564803e9\n",
      "sigmaein=7.124097928282402e9\n",
      "l = 5 , sigmae= 7.124097928282402e9 \n",
      "temp0=1.4248195856564803e9\n",
      "presigmae=1.4248195856564803e9\n",
      "sigmaein=8.548917513938883e9\n",
      "l = 6 , sigmae= 8.548917513938883e9 \n",
      "n=-7.3e19\n",
      "x=0.3\n",
      "[6.10296 6.94877e-310; 5.88584 6.94877e-310; 5.58136 6.94877e-310]\n",
      "\n",
      "[6.94877e-310 6.06236; 6.94877e-310 5.82176; 6.94877e-310 5.48573][i,j,k] ,1200.0\n",
      "l = 1 , sigmae= 6.226584698570094e8 \n",
      "temp0=6.226584698570094e8\n",
      "presigmae=6.226584698570094e8\n",
      "sigmaein=1.2453169397140188e9\n",
      "l = 2 , sigmae= 1.2453169397140188e9 \n",
      "temp0=6.226584698570094e8\n",
      "presigmae=6.226584698570094e8\n",
      "sigmaein=1.8679754095710282e9\n",
      "l = 3 , sigmae= 1.8679754095710282e9 \n",
      "temp0=6.226584698570094e8\n",
      "presigmae=6.226584698570094e8\n",
      "sigmaein=2.4906338794280376e9\n",
      "l = 4 , sigmae= 2.4906338794280376e9 \n",
      "temp0=6.226584698570094e8\n",
      "presigmae=6.226584698570094e8\n",
      "sigmaein=3.113292349285047e9\n",
      "l = 5 , sigmae= 3.113292349285047e9 \n",
      "temp0=6.226584698570094e8\n",
      "presigmae=6.226584698570094e8\n",
      "sigmaein=3.7359508191420565e9\n",
      "l = 6 , sigmae= 3.7359508191420565e9 \n",
      " 10.415756 seconds (7.10 M allocations: 622.822 MiB, 1.29% gc time)\n"
     ]
    }
   ],
   "source": [
    "@time (Efs,sigmas,seebecks,kes,kees,kehs,kbis)=electronicPropsiso(bndstTx,xs,Ts,numofn,numofnn,tauTOTTx,xmax)\n",
    "x=3.0"
   ]
  },
  {
   "cell_type": "code",
   "execution_count": 4,
   "metadata": {
    "collapsed": false
   },
   "outputs": [
    {
     "data": {
      "text/html": [
       "1"
      ],
      "text/plain": [
       "1"
      ]
     },
     "execution_count": 4,
     "metadata": {},
     "output_type": "execute_result"
    }
   ],
   "source": [
    "SiGe_Vin_162_Bulk_EC_T=[304.367,321.834,343.668,365.502,385.153,404.803,426.638,450.655,470.306,494.323,513.974,\n",
    "535.808,551.092,568.559,579.476,599.127,620.961,640.611,658.079,679.913,699.563,719.214,741.048,760.699,782.533,\n",
    "802.183,821.834,843.668,863.319,885.153,904.803,926.638,946.288,965.939,987.773,1007.42,1027.07,1046.72,1075.11,\n",
    "1094.76,1114.41,1149.34,1171.18,1190.83,1210.48,1232.31,1254.15]\n",
    "SiGe_Vin_162_Bulk_EC_E=[121943.783915615,132463.665216631,128860.001340144,122140.388162154,119063.352419189,\n",
    "113297.757837372,108070.254310922,105664.795343141,98940.3488636701,96919.886022214,91232.5517744731,\n",
    "87811.7316473481,93134.1504302798,87866.513193157,84672.5711672961,80299.3559991649,77637.3404552654,\n",
    "76382.5236785823,71676.8806221553,69548.7675958382,66570.3615436335,64728.6896971345,62988.1582262535,\n",
    "61336.8990517315,59010.2795907047,56852.0992637653,55503.4439886995,53591.7168642415,51805.6872283439,\n",
    "50684.7509858184,49084.3317904492,47583.2468904348,46634.8306222952,45276.5263848958,44847.8760045924,\n",
    "45294.9835805685,45303.6020894021,46681.8538297793,49173.153425156,50250.2462262065,50812.2335533503,\n",
    "52561.5890419599,53795.2552584862,54439.8412534229,55100.0617120691,55777.7368741041,56472.6079615083]\n",
    "SiGe_Vin_162_Bulk_SC_T=[318.66,446.9,505.1,582,1039,1113,1190]\n",
    "SiGe_Vin_162_Bulk_SC_S=[105.96,146.7,157.6,175.6,278.9,279.8,262.7]\n",
    "SiGe_Vin_163_Bulk_EC_E=[1.32058,1.36356,1.36332,1.42786,1.47098,1.55721,1.57844,1.68614,1.75072,1.7936,1.87979,\n",
    "1.94414,2.00882,2.095,2.15954,2.2454,2.33163,2.39617,2.48236,2.54684,2.61143,2.67591,2.7621,2.82669,2.89117,2.97736,\n",
    "3.0419,3.12813,3.19267,3.27886,3.365,3.49459,3.55917,3.5804,3.58002,3.70952,3.81741,3.92525,4.01148,4.01106,\n",
    "4.1407,4.22679,4.3561,4.42063,4.52814,4.59268,4.63551,4.63504,4.61296,4.54758,4.48224]\n",
    "SiGe_Vin_163_Bulk_EC_T=[313.1,328.384,339.301,358.952,367.686,385.153,404.803,431.004,448.472,468.122,487.773,\n",
    "516.157,529.258,548.908,568.559,603.493,620.961,640.611,660.262,682.096,699.563,721.397,741.048,758.515,780.349,\n",
    "800,819.651,837.118,856.769,876.419,898.253,913.537,931.004,950.655,968.122,987.773,1005.24,1024.89,\n",
    "1042.36,1062.01,1075.11,1099.13,1127.51,1147.16,1182.1,1201.75,1223.58,1245.41,1265.07,1284.72,1302.18]\n",
    "SiGe_Vin_163_Bulk_SC_T=[328.148,363.006,425.776,507.074,606.958,1011.07,1097.05,1145.83,1219.95]\n",
    "SiGe_Vin_163_Bulk_SC_S=[165.84,177.781,204.665,224.544,249.394,334.819,363.676,375.603,349.581]\n",
    "SiGe_Vin_68_Bulk_EC_T=[303.332,320.776,353.489,373.121,388.376,408.008,425.452,442.896,458.161,471.228,488.672,\n",
    "506.111,521.362,536.612,551.863,560.578,569.279,584.529,597.592,608.467,621.529,634.592,645.471,656.346,669.413,\n",
    "680.288,686.796,695.501,708.564,721.626,734.689,747.752,760.819,773.882,786.944,802.191,813.084,826.161,845.788,\n",
    "863.236,885.066,906.914,926.598,935.374,944.15,950.748,957.345,963.938,970.536,979.317,983.773,985.909,992.535,\n",
    "999.147,1007.95,1014.55,1023.34,1027.75,1034.34,1040.93,1047.53,1054.13,1062.92,1067.32,1073.91,1078.3,1084.9,\n",
    "1091.48,1100.26,1109.04,1117.82,1126.59,1130.99,1141.95,1146.34,1152.91,1157.31,1163.87,1172.65,1183.61]\n",
    "SiGe_Vin_68_Bulk_EC_E=[18.9608,19.3921,20.0819,20.4266,20.9447,21.2893,21.7207,22.1521,22.4971,23.1021,\n",
    "23.5334,24.0514,24.6562,25.2609,25.8656,26.2112,26.8165,27.4213,28.1128,28.891,29.5826,30.2741,30.9658,31.744,\n",
    "32.349,33.1272,33.9059,34.4246,35.1161,35.8077,36.4992,37.1907,37.7956,38.4871,39.1786,39.8699,40.3019,\n",
    "40.7337,41.1649,41.5097,41.5944,41.3327,40.725,39.945,39.165,38.2986,37.4323,36.6525,35.7861,34.9195,\n",
    "33.2741,34.1397,32.7539,31.6278,30.3283,29.4619,28.4222,27.556,26.8628,26.083,25.2167,24.3503,23.3972,\n",
    "22.6175,22.0109,21.5776,20.7113,20.0181,19.2381,18.3715,17.5915,16.8116,16.2917,15.5115,14.9917,14.7313,\n",
    "14.1249,13.8646,13.0846,12.3044]\n",
    "SiGe_Vin_68_Bulk_SC_T=[310.512,345.535,378.353,408.614,552.902,687.851,818.065,905.888,976.977,1063.63]\n",
    "SiGe_Vin_68_Bulk_SC_S=[480,495,523,526,537,544,542,483,375,190]\n",
    "SiGe_Vin_41_Bulk_EC_T=[310.941,330.635,348.14,352.516,372.21,394.092,413.786,433.479,453.173,472.867,503.501,\n",
    "521.007,540.7,558.206,575.711,593.217,612.91,628.228,645.733,665.427,682.932,698.249,715.755,733.26,744.201,\n",
    "759.519,777.024,787.965,829.54,844.858,862.363,877.681,892.998,908.315,925.821,941.138,958.643,969.584,\n",
    "989.278,1008.97,1026.48,1048.36,1070.24,1089.93,1118.38,1138.07,1155.58,1179.65,1190.59,1208.1]\n",
    "SiGe_Vin_41_Bulk_EC_E=[3.2979,3.36214,3.38308,3.42629,3.51224,3.59809,3.64063,3.72658,3.81252,3.89847,4.02733,\n",
    "4.13507,4.24272,4.37216,4.4582,4.60934,4.71698,4.82481,4.95425,5.0836,5.21304,5.34257,5.49371,5.60145,5.73117,\n",
    "5.88241,6.01185,6.18497,6.48696,6.6382,6.76764,6.91887,7.0701,7.17794,7.32908,7.45861,7.65315,7.73948,7.82542,\n",
    "7.84627,7.954,7.97475,8.0172,7.97295,7.86322,7.77556,7.6663,7.57846,7.40439,7.29513]\n",
    "SiGe_Vin_41_Bulk_SC_T=[301.423,397.079,492.595,592.772,718.465,853.442,967.386,1027.72,1085.67,1154.87]\n",
    "SiGe_Vin_41_Bulk_SC_S=[253,286,304,323,335,345,344,330,309,248]\n",
    "x=1"
   ]
  },
  {
   "cell_type": "code",
   "execution_count": 5,
   "metadata": {
    "collapsed": false,
    "scrolled": false
   },
   "outputs": [
    {
     "data": {
      "image/png": "[encoded data removed]",
      "text/plain": [
       "PyPlot.Figure(PyObject <matplotlib.figure.Figure object at 0x7fea4974e518>)"
      ]
     },
     "metadata": {},
     "output_type": "display_data"
    },
    {
     "data": {
      "image/png": "[encoded data removed]",
      "text/plain": [
       "PyPlot.Figure(PyObject <matplotlib.figure.Figure object at 0x7fea3e7d64e0>)"
      ]
     },
     "metadata": {},
     "output_type": "display_data"
    }
   ],
   "source": [
    "SiGe_Suin_EC_T=[50.0100000000000,60.0100000000000,70.0100000000000,80.0100000000000,90.0100000000000,100.010000000000,\n",
    "110.010000000000,120.010000000000,130.010000000000,140.010000000000,150.010000000000,160.010000000000,170.010000000000,\n",
    "180.010000000000,190.010000000000,200.010000000000,210.010000000000,220.010000000000,230.010000000000,240.010000000000,\n",
    "250.010000000000,260.010000000000,270.010000000000,280.010000000000,290.010000000000,300.010000000000,310.010000000000,\n",
    "320.010000000000,330.010000000000,340.010000000000,350.010000000000,360.010000000000,370.010000000000,380.010000000000,\n",
    "390.010000000000,400.010000000000,410.010000000000,420.010000000000,430.010000000000,440.010000000000,450.010000000000,\n",
    "460.010000000000,470.010000000000,480.010000000000,490.010000000000,500.010000000000,510.010000000000,520.010000000000,\n",
    "530.010000000000,540.010000000000,550.010000000000,560.010000000000,570.010000000000,580.010000000000,590.010000000000,\n",
    "600.010000000000,610.010000000000,620.010000000000,630.010000000000,640.010000000000,650.010000000000,660.010000000000,\n",
    "670.010000000000,680.010000000000,690.010000000000,700.010000000000,710.010000000000,720.010000000000,730.010000000000,\n",
    "740.010000000000,750.010000000000,760.010000000000,770.010000000000,780.010000000000,790.010000000000,800.010000000000]\n",
    "\n",
    "SiGe_Suin_Green_EC_E=[197056.235797164,194320.869638783,191639.726004170,189004.089980826,186404.129258986,183831.389714421,\n",
    "181278.561149160,178739.838327999,176211.078554261,173689.820032834,171175.087928433,168667.170965295,166167.387785872,\n",
    "163677.780145979,161200.893579582,158739.569628146,156296.773858473,153875.463875003,151478.490325157,149108.525922849,\n",
    "146768.017906391,144459.159338732,142183.875109414,139943.819068554,137740.379339050,135574.689421683,133447.643191776,\n",
    "131359.912309890,129311.964919516,127304.084786733,125336.390268020,123408.852670586,121521.313710611,119673.501882254,\n",
    "117865.047631702,116095.497291016,114364.325770554,112670.948039989,111014.729449324,109394.994954804,107811.037323671,\n",
    "106262.124394220,104747.505469873,103266.416923878,101818.087088848,100401.740501025,99016.6015656697,97661.8977043105,\n",
    "96336.8620403833,95040.7356748171,93772.7695985254,92532.2262843721,91318.3809970343,90130.5228553333,88967.9556780466,\n",
    "87829.9986409496,86715.9867698647,85625.2712917903,84557.2198637538,83511.2166968223,82486.6625908072,81482.9748932318,\n",
    "80499.5873949161,79535.9501727694,78591.5293893648,77665.8070576933,76758.2807785317,75868.4634569961,74995.8830040928,\n",
    "74140.0820284097,73300.6175224935,72477.0605479449,71668.9959227969,70876.0219143384,70097.7499401889,69333.8042801100]\n",
    "\n",
    "SiGe_Suin_Blue_EC_E=[105217.718423598,103894.351590207,102597.378241505,101326.103752608,100076.690205017,98847.7335877961,97637.2784136888,\n",
    "96443.5832046020,95265.1079304967,94100.5283678664,92948.7829164667,91809.0016256134,90680.5818602652,89563.0857717702,\n",
    "88456.2529938136,87359.9754708476,86274.2533521397,85199.1751237078,84134.8966696508,83081.6197375549,82039.5744885061,\n",
    "81009.0055398650,79990.1607327244,78983.2822128468,77988.5995736031,77006.3247748143,76036.6485395295,75079.7379700720,\n",
    "74135.7351443028,73204.7564993546,72286.8928226126,71382.2097211777,70490.7484441301,69612.5269642873,68747.5412407379,\n",
    "67895.7665996923,67057.1591831364,66231.6574263637,65419.1835337387,64619.6449294639,63832.9356659927,63058.9377775023,\n",
    "62297.5225696718,61548.5518400721,60811.8790258860,60087.3502775685,59374.8054585196,58674.0790719648,57985.0011169990,\n",
    "57307.3978765571,56641.0926401712,55985.9063649732,55341.6582783843,54708.1664260703,54085.2481687875,53472.7206315772,\n",
    "52870.4011089235,52278.1074291506,51695.6582813696,51122.8735081021,50559.5743665851,50005.5837616225,49460.7264527182,\n",
    "48924.8292380895,48397.7211180361,47879.2334400197,47369.2000276938,46867.4572960151,46373.8443544707,45888.2031003578,\n",
    "45410.3783039662,44940.2176874331,44477.5719989557,44022.2950840000,43574.2439550117,43133.2788611721]\n",
    "\n",
    "SiGe_Suin_Pink_EC_E=[82556.0023800115,81678.0385079951,80812.0296722989,79958.1987557615,79114.3165600192,78278.9254780743,\n",
    "77450.6590202426,76628.3230121537,75810.9323951141,74997.7248530249,74188.1713761495,73381.9573163729,72578.9419993544,\n",
    "71779.1589659886,70982.7628736542,70190.0062645706,69401.2154894147,68616.7659645658,67837.0623647944,67062.5228167014,\n",
    "66293.5661792147,65530.6020846545,64774.0234115581,64024.2008027958,63281.4788707468,62546.1737643178,61818.5718199933,\n",
    "61098.9290655626,60387.4713801360,59684.3951499867,58989.8682891142,58304.0315192323,57626.9998243901,56958.8640138868,\n",
    "56299.6923412270,55649.5321389090,55008.4114384640,54376.3405529461,53753.3136053002,53139.3099909937,52534.2957672122,\n",
    "51938.2249639862,51351.0408150007,50772.6769076076,50203.0582531140,49642.1022791472,49089.7197469245,48545.8155965934,\n",
    "48010.2897242368,47483.0376942108,46963.9513907803,46452.9196128161,45949.8286153999,45454.5626020447,44967.0041711185,\n",
    "44487.0347199124,44014.5348096343,43549.3844944385,43091.4636174350,42640.6520764505,42196.8300621479,41759.8782709546,41329.6780950939,\n",
    "40906.1117918765,40489.0626342670,40078.4150446369,39674.0547134453,39275.8687045742,38883.7455488544,38497.5753272869,38117.2497453651,\n",
    "37742.6621998331,37373.7078391482,37010.2836188567,36652.2883530403,36299.6227629359]\n",
    "\n",
    "SiGe_Suin_Black_EC_E=[55622.0110551947,55136.9987140034,54655.7461666811,54176.7050907652,53698.6859337766,53220.6435980166,52741.7187796517,\n",
    "52261.2715226442,51778.9154868774,51294.4685778328,50807.9540688773,50319.5522408717,49829.5628688318,49338.3759903383,\n",
    "48846.4405788305,48354.2400831509,47862.2731101948,47371.0382839007,46881.0228407008,46392.6943614876,45906.4950443235,\n",
    "45422.8379814638,44942.1049992142,44464.6456911390,43990.7773463343,43520.7855346351,43054.9251603354,42593.4218378963,\n",
    "42136.4734762196,41684.2519849564,41236.9050375587,40794.5578425274,40357.3148874124,39925.2616303102,39498.4661214778,\n",
    "39076.9805436780,38660.8426645807,38250.0771978062,37844.6970719553,37444.7046087412,37050.0926127418,36660.8453761445,\n",
    "36276.9396026062,35898.3452545883,35525.0263288096,35156.9415644886,34794.0450890119,34436.2870055533,34083.6139270076,\n",
    "33735.9694604076,33393.2946457800,33055.5283531661,32722.6076413099,32394.4680812822,32071.0440481056,31752.2689831920,\n",
    "31438.0756302719,31128.3962472375,30823.1627961888,30522.3071137963,30225.7610639480,29933.4566745123,29645.3262599303,\n",
    "29361.3025312366,29081.3186950153,28805.3085427084,28533.2065316193,28264.9478588865,28000.4685296476,27739.7054205593,\n",
    "27482.5963398025,27229.0800846594,26979.0964977225,26732.5865227674,26489.4922612983,26249.7570307576]\n",
    "\n",
    "SiGe_Suin_Blue_SC_S=[-21.7523104187788,-25.9457204002138,-30.0885220308013,-34.1752109691754,-38.2059474144304,\n",
    "-42.1797418609697,-46.0954759095530,-49.9518978637138,-53.7477624431973,-57.4819058446367,-61.1533311583672,\n",
    "-64.7612422247736,-68.3050547503879,-71.7845188779827,-75.1995705465003,-78.5504115593362,-81.8374802613841,\n",
    "-85.0614045329619,-88.2229816539391,-91.3231552953944,-94.3629887985398,-97.3436405915296,-100.266342677214,-103.132381777112,\n",
    "-105.943082893110,-108.699795171442,-111.403879920946,-114.056700579642,-116.659614414779,-119.213965736556,-121.721080428019,\n",
    "-124.182261597514,-126.598786191152,-128.971902415277,-131.302827839417,-133.592748066665,-135.842815874843,-138.054150745006,\n",
    "-140.227838706636,-142.364932439552,-144.466451581937,-146.533383201924,-148.566682397137,-150.567272992435,-152.536048311113,\n",
    "-154.473871999049,-156.381578884797,-158.259975861592,-160.109842779774,-161.931933339902,-163.726975978875,-165.495674742295,\n",
    "-167.238710137589,-168.956739963088,-170.650400108826,-172.320305325328,-173.967049956605,-175.591208633931,-177.193336926711,\n",
    "-178.773971946652,-180.333632901168,-181.872821591559,-183.392022851104,-184.891704917703,-186.372319735156,-187.834303176590,\n",
    "-189.278075182972,-190.704039808980,-192.112585167937,-193.504083266858,-194.878889722103,-196.237343345530,-197.579765590541,\n",
    "-198.906459846879,-200.217710572716,-201.513782252026]\n",
    "\n",
    "SiGe_Suin_Pink_SC_S=[-23.9499856092501,-28.5862197803218,-33.1642400862037,-37.6838942251103,-42.1417891074287,\n",
    "-46.5354848035996,-50.8622421316613,-55.1193861772030,-59.3044095674959,-63.4152345459587,-67.4500696522240,\n",
    "-71.4077208901757,-75.2873965709307,-79.0887646432600,-82.8119326519797,-86.4573644907467,-90.0258385322594,\n",
    "-93.5184002417533,-96.9363116028287,-100.281005956880,-103.554048716190,-106.757103269786,-109.891901788896,\n",
    "-112.960220623040,-115.963859843036,-118.904626440842,-121.784320698673,-124.604725267716,-127.367596543106,\n",
    "-130.074657967341,-132.727594941413,-135.328051066670,-137.877625481650,-140.377871093353,-142.830293534574,\n",
    "-145.236350706119,-147.597452786277,-149.914962609895,-152.190196336330,-154.424424339805,-156.618872267610,\n",
    "-158.774722221604,-160.893114026721,-162.975146557200,-165.021879096728,-167.034332713749,-169.013491636757,\n",
    "-170.960304617744,-172.875686274481,-174.760518404568,-176.615651265625,-178.441904817611,-180.240069924170,\n",
    "-182.010909510748,-183.755159677845,-185.473530768178,-187.166708386816,-188.835354373476,-190.480107726201,\n",
    "-192.101585475562,-193.700383508339,-195.277077339430,-196.832222830361,-198.366356852445,-199.879997892153,-201.373646595803,\n",
    "-202.847786250179,-204.302883195038,-205.739387162987,-207.157731541534,-208.558333551541,-209.941594335643,\n",
    "-211.307898949608,-212.657616248962,-213.991098662638,-215.308681844780]\n",
    "\n",
    "SiGe_Suin_Black_SC_S=[-28.1599769459265,-33.6192218367073,-39.0090505459788,-44.3236547272048,-49.5568977453714,\n",
    "-54.7025528560025,-59.7547463145185,-64.7084385641298,-69.5594720018437,-74.3049058184381,-78.9427940698786,\n",
    "-83.4722516345093,-87.8932622874908,-92.2065532487622,-96.4134649761981,-100.515820970825,-104.515815041831,\n",
    "-108.415915324588,-112.218783783354,-115.927210057589,-119.544058018839,-123.072223240943,-126.514599634887,\n",
    "-129.874053670756,-133.153404805842,-136.355410939410,-139.482757904828,-142.538052178320,-145.523816131048,\n",
    "-148.442485275873,-151.296407064680,-154.087840878582,-156.818958924410,-159.491847808778,-162.108510608091,\n",
    "-164.670869290979,-167.180767380094,-169.639972765156,-172.050180598578,-174.413016220957,-176.730038076169,\n",
    "-179.002740585939,-181.232556961430,-183.420861935853,-185.568974406845,-187.678159981188,-189.749633417410,\n",
    "-191.784560963976,-193.784062592523,-195.749214126718,-197.681049268238,-199.580561521835,-201.448706021787,\n",
    "-203.286401262075,-205.094530732516,-206.873944462887,-208.625460476565,-210.349866154819,-212.047919512199,\n",
    "-213.720350382789,-215.367861516277,-216.991129581930,-218.590806077618,-220.167518140008,-221.721869251003,\n",
    "-223.254439834386,-224.765787735464,-226.256448575369,-227.726935970430,-229.177741605876,-230.609335151900,\n",
    "-232.022164008944,-233.416652867900,-234.793203069827,-236.152191748693,-237.493970739658]\n",
    "\n",
    "\n",
    "\n",
    "figure()\n",
    "plot(Ts,sigmas[:,1,1]/100,linestyle=\"-\",color=\"b\")\n",
    "plot(Ts,sigmas[:,2,2]/100,linestyle=\"-\",color=\"r\")\n",
    "#plot(Ts,sigmas[:,3,3]/100,linestyle=\"-\",color=\"g\")\n",
    "#plot(Ts,sigmas[:,4,4]/100,linestyle=\"-\",color=\"m\")\n",
    "#plot(Ts,(6^(2/3))*sigmas[:,1,1]/100,linestyle=\"-\",color=\"b\")\n",
    "#plot(Ts,(6^(2/3))*sigmas[:,2,2]/100,linestyle=\"-\",color=\"r\")\n",
    "#plot(Ts,(6^(2/3))*sigmas[:,3,3]/100,linestyle=\"-\",color=\"g\")\n",
    "#plot(Ts,(6^(2/3))*sigmas[:,4,4]/100,linestyle=\"-\",color=\"m\")\n",
    "#plot(Ts,sigmas[:,1,1]/100,linestyle=\"-\",color=\"b\")\n",
    "#plot(Ts,sigmas[:,2,2]/100,linestyle=\"-\",color=\"r\")\n",
    "#plot(Ts,sigmas[:,3,3]/100,linestyle=\"-\",color=\"g\")\n",
    "#plot(Ts,sigmas[:,4,4]/100,linestyle=\"-\",color=\"m\")\n",
    "#plot(SiGe_Vin_162_Bulk_EC_T,SiGe_Vin_162_Bulk_EC_E/100,linestyle=\"None\",marker=\".\",markersize=10,color=\"r\")\n",
    "#plot(SiGe_Suin_EC_T,SiGe_Suin_Green_EC_E/100,linestyle=\"None\",marker=\"x\",markersize=2,color=\"g\")\n",
    "#plot(SiGe_Suin_EC_T,SiGe_Suin_Blue_EC_E/100,linestyle=\"None\",marker=\"o\",markersize=2,color=\"b\")\n",
    "#plot(SiGe_Suin_EC_T,SiGe_Suin_Pink_EC_E/100,linestyle=\"None\",marker=\"o\",markersize=2,color=\"r\")\n",
    "#plot(SiGe_Suin_EC_T,SiGe_Suin_Black_EC_E/100,linestyle=\"None\",marker=\"o\",markersize=2,color=\"k\")\n",
    "plot(SiGe_Vin_162_Bulk_EC_T,SiGe_Vin_162_Bulk_EC_E/100, linestyle=\"None\",marker=\"s\",markersize=4,color=\"b\")\n",
    "plot(SiGe_Vin_163_Bulk_EC_T,1e3./SiGe_Vin_163_Bulk_EC_E, linestyle=\"None\",marker=\"s\",markersize=4,color=\"r\")\n",
    "plot(SiGe_Vin_41_Bulk_EC_T,1e3./SiGe_Vin_41_Bulk_EC_E, linestyle=\"None\",marker=\"s\",markersize=4,color=\"g\")\n",
    "plot(SiGe_Vin_68_Bulk_EC_T,1e3./SiGe_Vin_68_Bulk_EC_E, linestyle=\"None\",marker=\"s\",markersize=4,color=\"m\")\n",
    "grid()\n",
    "\n",
    "figure()\n",
    "plot(Ts,-seebecks[:,1,1]*1e6,linestyle=\"-\",color=\"b\")\n",
    "plot(Ts,-seebecks[:,2,2]*1e6,linestyle=\"-\",color=\"r\")\n",
    "#plot(Ts,-seebecks[:,3,3]*1e6,linestyle=\"-\",color=\"g\")\n",
    "#plot(Ts,-seebecks[:,4,4]*1e6,linestyle=\"-\",color=\"m\")\n",
    "plot(SiGe_Vin_162_Bulk_SC_T,SiGe_Vin_162_Bulk_SC_S, linestyle=\"None\",marker=\"s\",markersize=4,color=\"b\")\n",
    "plot(SiGe_Vin_163_Bulk_SC_T,SiGe_Vin_163_Bulk_SC_S, linestyle=\"None\",marker=\"s\",markersize=4,color=\"r\")\n",
    "plot(SiGe_Vin_41_Bulk_SC_T,SiGe_Vin_41_Bulk_SC_S, linestyle=\"None\",marker=\"s\",markersize=4,color=\"g\")\n",
    "plot(SiGe_Vin_68_Bulk_SC_T,SiGe_Vin_68_Bulk_SC_S, linestyle=\"None\",marker=\"s\",markersize=4,color=\"m\")\n",
    "#plot(Ts,-seebecks[:,2,2]*1e6,linestyle=\"-\",color=\"b\")\n",
    "#plot(SiGe_Vin_162_Bulk_SC_T,SiGe_Vin_162_Bulk_SC_S,linestyle=\"None\",marker=\".\",markersize=10,color=\"r\")\n",
    "#plot(SiGe_Suin_EC_T,-SiGe_Suin_Green_SC_S,linestyle=\"None\",marker=\"x\",markersize=2,color=\"g\")\n",
    "#plot(SiGe_Suin_EC_T,-SiGe_Suin_Blue_SC_S,linestyle=\"None\",marker=\"x\",markersize=2,color=\"b\")\n",
    "#plot(SiGe_Suin_EC_T,-SiGe_Suin_Pink_SC_S,linestyle=\"None\",marker=\"x\",markersize=2,color=\"r\")\n",
    "#plot(SiGe_Suin_EC_T,-SiGe_Suin_Black_SC_S,linestyle=\"None\",marker=\"x\",markersize=2,color=\"k\")\n",
    "grid()"
   ]
  },
  {
   "cell_type": "code",
   "execution_count": 6,
   "metadata": {
    "collapsed": false
   },
   "outputs": [],
   "source": [
    "T_EF_Dict=Dict()\n",
    "for (Ti,Tx) in enumerate(Ts)\n",
    "    T_EF_Dict[Tx]=(Efs[Ti])    \n",
    "end\n",
    "T_EF_Dict_Array=Array{Dict{Float64,Float64},2}(length(numofn),length(xs))\n",
    "Dict_temp=Dict()\n",
    "Efsr=Array{Float64,3}(length(Ts),length(numofn),length(xs))\n",
    "for (j,jn) in enumerate(numofn)\n",
    "    for (k,kx) in enumerate(xs) \n",
    "        for (i,iT) in enumerate(Ts)\n",
    "            Efsr[i,j,k]=Efs[i,j,k]-Ec([iT,kx])\n",
    "            Dict_temp[iT]=Efsr[i,j,k]\n",
    "            T_EF_Dict_Array[j,k]=Dict_temp \n",
    "        end\n",
    "    end\n",
    "end\n",
    "#foreach(i->println(\"$i= \",Ts[i]),1:length(Ts))"
   ]
  },
  {
   "cell_type": "code",
   "execution_count": 7,
   "metadata": {
    "collapsed": false
   },
   "outputs": [
    {
     "data": {
      "text/plain": [
       "3-element Array{Float64,1}:\n",
       "  0.0904459\n",
       "  0.0411421\n",
       " -0.0560564"
      ]
     },
     "execution_count": 7,
     "metadata": {},
     "output_type": "execute_result"
    }
   ],
   "source": [
    "Efsr[:,1,1]"
   ]
  },
  {
   "cell_type": "code",
   "execution_count": 8,
   "metadata": {
    "collapsed": false
   },
   "outputs": [
    {
     "data": {
      "text/plain": [
       "3-element Array{Float64,1}:\n",
       " 1.16953e10\n",
       " 1.00641e10\n",
       " 8.54892e9 "
      ]
     },
     "execution_count": 8,
     "metadata": {},
     "output_type": "execute_result"
    }
   ],
   "source": [
    "sigmas[:,1,1]"
   ]
  },
  {
   "cell_type": "code",
   "execution_count": 9,
   "metadata": {
    "collapsed": false
   },
   "outputs": [
    {
     "data": {
      "text/plain": [
       "3-element Array{Float64,1}:\n",
       " 63939.1 \n",
       " 19829.0 \n",
       "  9838.13"
      ]
     },
     "execution_count": 9,
     "metadata": {},
     "output_type": "execute_result"
    }
   ],
   "source": [
    "tests=[63939.1,19829.0,9838.13]"
   ]
  },
  {
   "cell_type": "code",
   "execution_count": 10,
   "metadata": {
    "collapsed": false
   },
   "outputs": [
    {
     "data": {
      "text/plain": [
       "3-element Array{Float64,1}:\n",
       "      1.82912e5\n",
       " 507546.0      \n",
       "      8.68958e5"
      ]
     },
     "execution_count": 10,
     "metadata": {},
     "output_type": "execute_result"
    }
   ],
   "source": [
    "sigmas[:,1,1]./tests"
   ]
  }
 ],
 "metadata": {
  "kernelspec": {
   "display_name": "Julia 0.6.0",
   "language": "julia",
   "name": "julia-0.6"
  },
  "language_info": {
   "file_extension": ".jl",
   "mimetype": "application/julia",
   "name": "julia",
   "version": "0.6.0"
  }
 },
 "nbformat": 4,
 "nbformat_minor": 0
}
