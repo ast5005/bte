{
 "cells": [
  {
   "cell_type": "code",
   "execution_count": 1,
   "metadata": {
    "collapsed": false
   },
   "outputs": [],
   "source": [
    "using GSL"
   ]
  },
  {
   "cell_type": "code",
   "execution_count": 2,
   "metadata": {
    "collapsed": false
   },
   "outputs": [
    {
     "ename": "LoadError",
     "evalue": "LoadError: pointerref: invalid pointer type\nwhile loading In[2], in expression starting on line 2",
     "output_type": "error",
     "traceback": [
      "LoadError: pointerref: invalid pointer type\nwhile loading In[2], in expression starting on line 2",
      "",
      " in unsafe_load at pointer.jl:48"
     ]
    }
   ],
   "source": [
    "dnewton_ptr_ptr = cglobal((:gsl_multiroot_fsolver_dnewton, \"libgsl-0\"), Ref{GSL.gsl_multiroot_fsolver_type})\n",
    "dnewton_ptr = unsafe_load(dnewton_ptr_ptr)"
   ]
  },
  {
   "cell_type": "code",
   "execution_count": null,
   "metadata": {
    "collapsed": true
   },
   "outputs": [],
   "source": [
    "dnewton_solver = GSL.multiroot_fsolver_alloc(dnewton_ptr, 3)"
   ]
  },
  {
   "cell_type": "markdown",
   "metadata": {},
   "source": [
    "Solvers->'\" gsl_root_fsolver_bisection; gsl_root_fsolver_brent; gsl_root_fsolver_falsepos;"
   ]
  },
  {
   "cell_type": "code",
   "execution_count": null,
   "metadata": {
    "collapsed": false
   },
   "outputs": [],
   "source": [
    "solver_ptr_ptr=cglobal((:gsl_root_fsolver_brent,\"libgsl-0\"),Ref{GSL.gsl_root_fsolver_type})"
   ]
  },
  {
   "cell_type": "code",
   "execution_count": null,
   "metadata": {
    "collapsed": false
   },
   "outputs": [],
   "source": [
    "solver_ptr=unsafe_load(solver_ptr_ptr)"
   ]
  },
  {
   "cell_type": "code",
   "execution_count": null,
   "metadata": {
    "collapsed": true
   },
   "outputs": [],
   "source": [
    "solver=GSL.root_fsolver_alloc(solver_ptr)"
   ]
  },
  {
   "cell_type": "code",
   "execution_count": null,
   "metadata": {
    "collapsed": true
   },
   "outputs": [],
   "source": [
    "#Adapted from the GSL multiroot test\n",
    "using GSL\n",
    "\n",
    "#vector_alloc\n",
    "v0 = Cdouble[1.0, 5.0, 2.0, 1.5, -1.0]\n",
    "\n",
    "n = length(v0)\n",
    "v = ccall((:gsl_vector_alloc, \"libgsl-0\"), Ptr{gsl_vector}, (Csize_t,), n)\n",
    "\n",
    "# #vector_set\n",
    "for i=1:n\n",
    "    ccall((:gsl_vector_set, \"libgsl-0\"), Void, (Ptr{gsl_vector}, Csize_t, Cdouble), v, i-1, v0[i])\n",
    "end\n",
    "\n",
    "dnewton_ptr_ptr = cglobal((:gsl_multiroot_fsolver_dnewton, \"libgsl-0\"), Ptr{GSL.gsl_multiroot_fsolver_type})\n",
    "dnewton_ptr = unsafe_load(dnewton_ptr_ptr)\n",
    "dnewton_solver = GSL.multiroot_fsolver_alloc(dnewton_ptr, n)\n",
    "\n",
    "gsl_multiroot_fsolver_set_ptr_ptr = cglobal((:gsl_multiroot_fsolver_set, \"libgsl-0\"), Ptr{Ptr{GSL.gsl_multiroot_fsolver}})\n",
    "gsl_multiroot_fsolver_set_ptr = unsafe_load(gsl_multiroot_fsolver_set_ptr_ptr)\n",
    "\n",
    "#vector_get\n",
    "for i=1:5\n",
    "    @assert v0[i] == ccall((:gsl_vector_get, \"libgsl-0\"), Cdouble, (Ptr{gsl_vector}, Csize_t), v, i-1)\n",
    "end\n",
    "\n",
    "function gsl_vector_ptr(x::Ptr{gsl_vector}, n)\n",
    "    return pointer_to_array(ccall((:gsl_vector_ptr, \"libgsl-0\"), Ptr{Cdouble}, (Ptr{gsl_vector}, Csize_t), x, 0), n)\n",
    "end\n",
    "\n",
    "function function_callback(x::Ptr{gsl_vector}, jlfunc::Function, f::Ptr{gsl_vector})\n",
    "    convert(Cint, jlfunc(gsl_vector_ptr(x, n), gsl_vector_ptr(f, n)))::Cint\n",
    "end\n",
    "const function_callback_ptr = cfunction(function_callback, Cint, (Ptr{gsl_vector}, Ref{Function}, Ptr{gsl_vector}))\n",
    "\n",
    "f = function(x, f)\n",
    "    f[:] = (x - (-3:2:5)) .^ 2\n",
    "    0.0\n",
    "end\n",
    "\n",
    "#Ptr{multiroot_function_struct}), is the thing we want but is very hard to do in pure Julia\n",
    "#Preferable to write C shim to create the multiroot_function_struct directly.\n",
    "\n",
    "func = Ref(gsl_multiroot_function(\n",
    "    function_callback_ptr,\n",
    "    n,\n",
    "    pointer_from_objref(f)))\n",
    "\n",
    "GSL.multiroot_fsolver_set(\n",
    "    dnewton_solver,\n",
    "    Base.unsafe_convert(Ptr{eltype(func)}, func),\n",
    "    v)\n",
    "\n",
    "maxiter = 100\n",
    "resid = 0.01\n",
    "for iter = 1:maxiter\n",
    "    status = GSL.multiroot_fsolver_iterate(dnewton_solver)\n",
    "    v = GSL.multiroot_fsolver_root(dnewton_solver)\n",
    "\n",
    "\n",
    "    #XXX What we need is to extract the residual which is a gsl_vector stored\n",
    "    #in a field called \"f\" in the dnewton_solver struct\n",
    "    #\n",
    "    # res = get f from dnewton_solver\n",
    "    #\n",
    "    # The rest of this test works so long as the correct residual res is given\n",
    "    #println(gsl_vector_ptr(res, n))\n",
    "    #errno = GSL.multiroot_test_residual(res, resid)\n",
    "    #if GSL.gsl_errno(errno) == GSL.SUCCESS\n",
    "    #    info(\"stopped after $iter iterations\")\n",
    "    #    break\n",
    "    #end\n",
    "end\n",
    "v = GSL.multiroot_fsolver_root(dnewton_solver)\n",
    "v1= gsl_vector_ptr(v, n)\n",
    "\n",
    "using Base.Test\n",
    "@test_approx_eq_eps v1 -3:2:5 resid"
   ]
  },
  {
   "cell_type": "code",
   "execution_count": 6,
   "metadata": {
    "collapsed": false
   },
   "outputs": [
    {
     "data": {
      "text/plain": [
       "9.869604401089358"
      ]
     },
     "execution_count": 6,
     "metadata": {},
     "output_type": "execute_result"
    }
   ],
   "source": [
    "using constants\n",
    "hbar*hbar*hbar\n",
    "pi*pi"
   ]
  },
  {
   "cell_type": "code",
   "execution_count": null,
   "metadata": {
    "collapsed": false
   },
   "outputs": [],
   "source": [
    "using GSL\n",
    "\n",
    "#vector_alloc\n",
    "v0 = Cdouble[1.0, 5.0, 2.0, 1.5, -1.0]\n",
    "\n",
    "n = length(v0)\n",
    "v = ccall((:gsl_vector_alloc, \"libgsl-0\"), Ptr{gsl_vector}, (Csize_t,), n)"
   ]
  }
 ],
 "metadata": {
  "kernelspec": {
   "display_name": "Julia 0.4.1",
   "language": "julia",
   "name": "julia-0.4"
  },
  "language_info": {
   "file_extension": ".jl",
   "mimetype": "application/julia",
   "name": "julia",
   "version": "0.4.1"
  }
 },
 "nbformat": 4,
 "nbformat_minor": 0
}
