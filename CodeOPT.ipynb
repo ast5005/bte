{
 "cells": [
  {
   "cell_type": "code",
   "execution_count": 1,
   "metadata": {
    "collapsed": false
   },
   "outputs": [],
   "source": [
    "using constants\n",
    "using types\n",
    "using Optim\n",
    "using PyPlot\n",
    "using data\n",
    "include(\"DOSfunctions.jl\")\n",
    "include(\"userfunctions.jl\")\n",
    "Eoff=2.0\n",
    "Ts=[600.0]#collect(300.0:100.0:900.0)\n",
    "xs=collect(0.0:0.01:1.0)\n",
    "Es=collect(0.0:0.1:4.0)\n",
    "x=0.6\n",
    "var0=[Ts[1],x]\n",
    "xmax=4.0\n",
    "EX3(var)=Eoff#+Egx3(var[1],var[2])\n",
    "EX1(var)=Ec0(var[2])+EX3(var)\n",
    "ELH(var)=Eoff-Egx3(var[1],var[2])\n",
    "EHH(var)=Eoff-Egx3(var[1],var[2])\n",
    "\n",
    "effMassX1(var)=X1effMass(var[1])*me\n",
    "effMassX3(var)=0.38*me\n",
    "effMassLH(var)=-1.0*me\n",
    "effMassHH(var)=-1.5*me\n",
    "\n",
    "NII=1e12*1e6\n",
    "bandX3=parBandTx(effMassX3(var0),0.0,EX3(var0),[EX3],[effMassX3],var0)\n",
    "bandX1=parBandTx(effMassX1(var0),0.0,EX1(var0),[EX1],[effMassX1],var0)\n",
    "bandHH=parBandTx(effMassHH(var0),0.0,EHH(var0),[EHH],[effMassHH],var0)\n",
    "bandLH=parBandTx(effMassLH(var0),0.0,ELH(var0),[ELH],[effMassLH],var0)\n",
    "bndstTx=BandStrucTx([bandLH,bandHH,bandX1,bandX1,bandX1,bandX3,bandX3,bandX3],var0)\n",
    "vartau0=[bandX3.effMass,Ts[1],1.0,x,1.5,bandX3,NII,bndstTx]\n",
    "\n",
    "tauAC(var)=tauAC_func(Cl(var[4]),acPhDa(var[4]),var[2],var[1],var[3],var[6])\n",
    "tauPOP(var)=tauPOP_func(epsilon0_x(var[4]),epsilonhf_x(var[4]),var[6],var[5],var[2],var[1],var[3]\n",
    ",tauPOPIIint(var[5],var[2],var[4],var[6]),var[7],opPhE(var[4]),var[8])\n",
    "tauPOP2(var)=tauPOP2_func(epsilon0_x(var[4]),epsilonhf_x(var[4]),var[6],var[5],var[2],var[1],var[3]\n",
    ",opPhE(var[4]))\n",
    "tauII2(var)=tauII2_func(epsilon0_x(var[4]),epsilonhf_x(var[4]),var[6],var[5],var[2],var[7],var[1],var[3],var[8])\n",
    "tauII(var)=tauII_func(epsilon0_x(var[4]),epsilonhf_x(var[4]),var[6],var[5],var[2],var[7],var[1],var[3]\n",
    ",tauPOPIIint(var[5],var[2],var[4],var[6]))\n",
    "\n",
    "tauTOTTx=tau_electron_B([tauAC,tauPOP2,tauII2],vartau0)#tauAC,tauII2,tauPOP2\n",
    "numofn=[-3.0e19]#Sample 1 -3.0e19, Sample 2 -1.25e20, Sample 3 -1.75e20, Sample Sb 0.75% -1.03e20, #\n",
    "bndstTx.var[1]=Ts[1]    \n",
    "tauTOTTx.variables[2]=Ts[1]    \n",
    "types.updatebnstTx(bndstTx)  "
   ]
  },
  {
   "cell_type": "code",
   "execution_count": null,
   "metadata": {
    "collapsed": true
   },
   "outputs": [],
   "source": [
    "function DOSrange(band::parBandTx,Es)\n",
    "    n=length(Es)\n",
    "    dos=Array{Float64}(n)\n",
    "    for i in 1:n\n",
    "        dos[i]=getDOS_SingleBand_E(band::parBandTx,Es[i])\n",
    "    end\n",
    "    return dos\n",
    "end"
   ]
  },
  {
   "cell_type": "code",
   "execution_count": null,
   "metadata": {
    "collapsed": false
   },
   "outputs": [],
   "source": [
    "function integrandV(band::parBandTx,E,T,Ef)\n",
    "    return (-1+fermiStat_Temp_Ef_E(T,Ef,E))*q*getDOS_SingleBand_E(band,E)#*(-1*fermiStat_Temp_Ef_E(T,Ef,E))\n",
    "    \n",
    "end"
   ]
  },
  {
   "cell_type": "code",
   "execution_count": null,
   "metadata": {
    "collapsed": false
   },
   "outputs": [],
   "source": [
    "function integrandVR(band::parBandTx,Es,T,Ef)\n",
    "    n=length(Es)\n",
    "    int=Array{Float64}(n)\n",
    "    for i in 1:n\n",
    "        int[i]=integrandV(bandLH,Es[i],600.0,Ef)\n",
    "    end\n",
    "    return int\n",
    "end"
   ]
  },
  {
   "cell_type": "code",
   "execution_count": null,
   "metadata": {
    "collapsed": false
   },
   "outputs": [],
   "source": [
    "ns=integrandVR(bandLH,Es,600.0,2.2)"
   ]
  },
  {
   "cell_type": "code",
   "execution_count": null,
   "metadata": {
    "collapsed": false
   },
   "outputs": [],
   "source": [
    "plot(Es,ns)"
   ]
  },
  {
   "cell_type": "code",
   "execution_count": null,
   "metadata": {
    "collapsed": false
   },
   "outputs": [],
   "source": [
    "function integralV(integrand,band,T)\n",
    "    min=band.offset-20kBe*T<0 ? 0.0 : band.offset-20kBe*T\n",
    "    return quadgk(integrand,min,band.offset)\n",
    "end"
   ]
  },
  {
   "cell_type": "code",
   "execution_count": null,
   "metadata": {
    "collapsed": false
   },
   "outputs": [],
   "source": [
    "integrandVf(x)=integrandV(bandLH,x,600.0,2.3)\n",
    "integralV(integrandVf,bandLH,600.0)"
   ]
  },
  {
   "cell_type": "code",
   "execution_count": null,
   "metadata": {
    "collapsed": false
   },
   "outputs": [],
   "source": [
    "function integralRange(band,T,Efs)\n",
    "    n=length(Efs)\n",
    "    int=Array{Float64}(n)\n",
    "    for i in 1:n\n",
    "        integrandVf(x)=integrandV(band,x,T,Efs[i])\n",
    "        @time int[i]=integralV(integrandVf,band,T)[1]\n",
    "    end\n",
    "    return int\n",
    "    \n",
    "end"
   ]
  },
  {
   "cell_type": "code",
   "execution_count": null,
   "metadata": {
    "collapsed": false
   },
   "outputs": [],
   "source": [
    "jj=integralRange(bandLH,600.0,Es)"
   ]
  },
  {
   "cell_type": "code",
   "execution_count": null,
   "metadata": {
    "collapsed": true
   },
   "outputs": [],
   "source": [
    "function integrandC(band::parBandTx,Es,T,Ef)\n",
    "    return q*getDOS_SingleBand_E(band,E).*(1-fermiStat_Temp_Ef_E(T,Ef,E))\n",
    "    \n",
    "end"
   ]
  },
  {
   "cell_type": "code",
   "execution_count": null,
   "metadata": {
    "collapsed": false
   },
   "outputs": [],
   "source": [
    "function NsEfrange(bndstTx,Efsx,T)\n",
    "    ns=Array{Float64}(length(Efsx))\n",
    "    for (i,Ef) in enumerate(Efsx)\n",
    "        ns[i]=NumofnMultiBand(bndstTx,Ef,600.0,3.0)\n",
    "    end\n",
    "    return ns\n",
    "end"
   ]
  },
  {
   "cell_type": "code",
   "execution_count": null,
   "metadata": {
    "collapsed": true
   },
   "outputs": [],
   "source": []
  },
  {
   "cell_type": "code",
   "execution_count": null,
   "metadata": {
    "collapsed": true
   },
   "outputs": [],
   "source": [
    "Profile.init(delay=0.0001)"
   ]
  },
  {
   "cell_type": "code",
   "execution_count": null,
   "metadata": {
    "collapsed": false
   },
   "outputs": [],
   "source": [
    "NumofnMultiBand(bndstTx,2.0,300.0,3.0)"
   ]
  },
  {
   "cell_type": "code",
   "execution_count": null,
   "metadata": {
    "collapsed": true
   },
   "outputs": [],
   "source": [
    "Profile.clear()"
   ]
  },
  {
   "cell_type": "code",
   "execution_count": null,
   "metadata": {
    "collapsed": false
   },
   "outputs": [],
   "source": [
    "@profile NumofnMultiBand(bndstTx,2.0,300.0,3.0)"
   ]
  },
  {
   "cell_type": "code",
   "execution_count": null,
   "metadata": {
    "collapsed": false
   },
   "outputs": [],
   "source": [
    "Profile.print()"
   ]
  },
  {
   "cell_type": "code",
   "execution_count": null,
   "metadata": {
    "collapsed": true
   },
   "outputs": [],
   "source": [
    "using ProfileView"
   ]
  },
  {
   "cell_type": "code",
   "execution_count": null,
   "metadata": {
    "collapsed": false
   },
   "outputs": [],
   "source": [
    "ProfileView.view()"
   ]
  },
  {
   "cell_type": "code",
   "execution_count": null,
   "metadata": {
    "collapsed": false
   },
   "outputs": [],
   "source": [
    "function EfArray(Ts,bndstTx,tauTOTTx,numofn,xmax)\n",
    "    Efs=Array{Float64}(length(Ts),length(numofn))\n",
    "    for (j,Tx) in enumerate(Ts)        \n",
    "        for (k,nx) in enumerate(numofn)\n",
    "            tauTOTTx.variables[7]=nx*1e6\n",
    "            @time Efs[j,k]=Fermilevel_n(nx,bndstTx,Tx,xmax) # Efinput[j]+Eoff#\n",
    "            #numofnsout[j,k]=NumofnMultiBand(bndstTx,Efs[j,k],Tx,xmax)    \n",
    "        end\n",
    "    end\n",
    "    return Efs\n",
    "end"
   ]
  },
  {
   "cell_type": "code",
   "execution_count": null,
   "metadata": {
    "collapsed": false
   },
   "outputs": [],
   "source": [
    "EfArray(Ts,bndstTx,tauTOTTx,numofn,xmax)"
   ]
  },
  {
   "cell_type": "code",
   "execution_count": null,
   "metadata": {
    "collapsed": false
   },
   "outputs": [],
   "source": [
    "Profile.init(delay=0.01)"
   ]
  },
  {
   "cell_type": "code",
   "execution_count": null,
   "metadata": {
    "collapsed": false
   },
   "outputs": [],
   "source": [
    "EfArray(Ts,bndstTx,tauTOTTx,numofn,xmax)"
   ]
  },
  {
   "cell_type": "code",
   "execution_count": null,
   "metadata": {
    "collapsed": false
   },
   "outputs": [],
   "source": [
    "Profile.clear()"
   ]
  },
  {
   "cell_type": "code",
   "execution_count": null,
   "metadata": {
    "collapsed": false
   },
   "outputs": [],
   "source": [
    "@profile EfArray(Ts,bndstTx,tauTOTTx,numofn,xmax)"
   ]
  },
  {
   "cell_type": "code",
   "execution_count": null,
   "metadata": {
    "collapsed": false
   },
   "outputs": [],
   "source": [
    "Profile.print()"
   ]
  },
  {
   "cell_type": "code",
   "execution_count": null,
   "metadata": {
    "collapsed": true
   },
   "outputs": [],
   "source": [
    "using ProfileView"
   ]
  },
  {
   "cell_type": "code",
   "execution_count": null,
   "metadata": {
    "collapsed": false,
    "scrolled": true
   },
   "outputs": [],
   "source": [
    "ProfileView.view()"
   ]
  },
  {
   "cell_type": "code",
   "execution_count": null,
   "metadata": {
    "collapsed": false
   },
   "outputs": [],
   "source": [
    "Pkg.add(\"QuantEcon\")"
   ]
  },
  {
   "cell_type": "code",
   "execution_count": null,
   "metadata": {
    "collapsed": true
   },
   "outputs": [],
   "source": []
  },
  {
   "cell_type": "code",
   "execution_count": null,
   "metadata": {
    "collapsed": false
   },
   "outputs": [],
   "source": [
    "function integranddeep(bndst,Ef,T,E)\n",
    "    x1=q*getDOS_MultiBand_E_Total(bndst,E)\n",
    "    x2=-fermiDerivativeTemp_Ef_E(Ef,T,E)\n",
    "    println(\"E:$E,\\n x1:$x1 ,\\n x2:$x2\\n\")\n",
    "    return x1.*x2\n",
    "end\n",
    "function integralDQK(bndst,Ef,T) \n",
    "    min=Ef-20kBe*T<0 ? 0.0 : Ef-20kBe*T\n",
    "    integrand(x)= integranddeep(bndst,Ef,T,x)\n",
    "    nodes, weights = qnwlege(65, min, (Ef+20kBe*T))\n",
    "    return do_quad(integrand,nodes,weights)\n",
    "end\n",
    "Efqs=[2.01,2.0023,1.98,1.95,1.93,1.90,1.88]\n",
    "integralDQK(bndstTx,Efqs[1],Ts[1])"
   ]
  },
  {
   "cell_type": "code",
   "execution_count": null,
   "metadata": {
    "collapsed": false
   },
   "outputs": [],
   "source": [
    "El=collect(1.5:0.01:2.5)\n",
    "getDOS_MultiBand_E_Total(bndstTx,El)"
   ]
  }
 ],
 "metadata": {
  "kernelspec": {
   "display_name": "Julia 0.4.6",
   "language": "julia",
   "name": "julia-0.4"
  },
  "language_info": {
   "file_extension": ".jl",
   "mimetype": "application/julia",
   "name": "julia",
   "version": "0.5.1"
  }
 },
 "nbformat": 4,
 "nbformat_minor": 0
}
