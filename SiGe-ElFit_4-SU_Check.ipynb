{
 "cells": [
  {
   "cell_type": "code",
   "execution_count": 1,
   "metadata": {
    "collapsed": false
   },
   "outputs": [
    {
     "data": {
      "text/plain": [
       "electronicthermalPropsiso (generic function with 1 method)"
      ]
     },
     "execution_count": 1,
     "metadata": {},
     "output_type": "execute_result"
    }
   ],
   "source": [
    "using constants\n",
    "using types\n",
    "using Optim\n",
    "using PyPlot\n",
    "using data\n",
    "include(\"DOSfunctions.jl\")\n",
    "include(\"userfunctions.jl\")\n",
    "include(\"propertyfuncs.jl\")"
   ]
  },
  {
   "cell_type": "code",
   "execution_count": 2,
   "metadata": {
    "collapsed": false
   },
   "outputs": [
    {
     "data": {
      "text/html": [
       "3.0"
      ],
      "text/plain": [
       "3.0"
      ]
     },
     "execution_count": 2,
     "metadata": {},
     "output_type": "execute_result"
    }
   ],
   "source": [
    "Eoff=0.0\n",
    "Ts=collect(50.01:10.0:800.01)\n",
    "numofn=[-1.5e20]#,-0.7e20,-0.022e20,-0.2e20]#,-1.75e20,-3.0e19,-0.9e20]#Sample 1 -3.0e19, Sample 2 -1.25e20,\n",
    "#Sample 3 -1.75e20, Sample Sb 0.75% -1.03e20, #\n",
    "numofnn=[1e17]#,1e17,1e17,1e17]\n",
    "xs=[0.287]#,0.3,0.262,0.332]#collect(0.0:0.01:1.0)\n",
    "\n",
    "var0=[Ts[1],xs[1]]\n",
    "\n",
    "Ev(var)=Eoff\n",
    "Ec(var)=0#Ev(var)+EgSiGe(var[1],var[2]) #var[1]:T var[2]:x\n",
    "\n",
    "effMassV(var)=-1.2*me\n",
    "effMassC(var)=0.424*me#1.4/6^(2/3)*me\n",
    "\n",
    "bandC=parBandTx(effMassC(var0),0.0,Ec(var0),[Ec],[effMassC],var0)\n",
    "bandV=parBandTx(effMassV(var0),0.0,Ev(var0),[Ev],[effMassV],var0)\n",
    "#bndstTx=BandStrucTx([bandV,bandC,bandC,bandC,bandC,bandC,bandC],var0)\n",
    "#bndstTx=BandStrucTx([bandC,bandC,bandC,bandC,bandC,bandC,bandV],var0)\n",
    "bndstTx=BandStrucTx([bandC,bandC,bandC,bandC,bandC,bandC,bandV],var0)\n",
    "#var array: var[1]: effMass , var[2]:T, var[3]:E, var[4]:x, var[5]:Ef, \n",
    "#var[6]:band, var[7]:NII var[8]:bndst var[9]:NNI \n",
    "function Deftemp(band::parBandTx)\n",
    "    if band==bandV            \n",
    "        return 15.0            \n",
    "    elseif band==bandC            \n",
    "        return 7.0\n",
    "    end\n",
    "end\n",
    "ksi=21.0\n",
    "tauAC(var)=tauAC_func(ClSiGe(var[4],var[2]),Deftemp(var[6]),var[2],var[1],var[3],var[6])#DefP(var[1])\n",
    "tauII2(var)=tauII2_func(ksi*eps0,eps0,var[6],var[5],var[2],var[7],var[1],var[3],var[8])\n",
    "tauNI(var)=tauNI_func(ksi*eps0,var[1],var[9])\n",
    "vartau0=[bandC.effMass,Ts[1],Ec(var0),xs[1],Ec(var0),bandC,numofn[1]*1e6,bndstTx,numofnn[1]*1e6]\n",
    "#vartau0=[bandC.effMass,Ts[1],1.0,xs[1],1.5,bandC,numofn[1]*1e6,bndstTx,numofnn[1]*1e6]\n",
    "tauTOTTx=tau_electron_B([tauAC,tauII2,tauNI],vartau0)#tauNI,,tauII2\n",
    "xmax=3.0"
   ]
  },
  {
   "cell_type": "code",
   "execution_count": 3,
   "metadata": {
    "collapsed": false,
    "scrolled": true
   },
   "outputs": [
    {
     "ename": "LoadError",
     "evalue": "\u001b[91mBoundsError: attempt to access 2-element Array{Float64,1} at index [3]\u001b[39m",
     "output_type": "error",
     "traceback": [
      "\u001b[91mBoundsError: attempt to access 2-element Array{Float64,1} at index [3]\u001b[39m",
      "",
      "Stacktrace:",
      " [1] \u001b[1mtauAC_func\u001b[22m\u001b[22m\u001b[1m(\u001b[22m\u001b[22m::Float64, ::Float64, ::Float64, ::Float64, ::types.parBandTx\u001b[1m)\u001b[22m\u001b[22m at \u001b[1m/mnt/win_vault/shared_folders/recovered/e/Dropbox/working_directory/jupyter_wd/julia/scienctific/BTE.git/userfunctions.jl:184\u001b[22m\u001b[22m",
      " [2] \u001b[1m_collect\u001b[22m\u001b[22m\u001b[1m(\u001b[22m\u001b[22m::Array{Float64,1}, ::Base.Generator{Array{Float64,1},##144#145}, ::Base.EltypeUnknown, ::Base.HasShape\u001b[1m)\u001b[22m\u001b[22m at \u001b[1m./array.jl:454\u001b[22m\u001b[22m",
      " [3] \u001b[1mmap\u001b[22m\u001b[22m\u001b[1m(\u001b[22m\u001b[22m::Function, ::Array{Float64,1}\u001b[1m)\u001b[22m\u001b[22m at \u001b[1m./abstractarray.jl:1865\u001b[22m\u001b[22m",
      " [4] \u001b[1minclude_string\u001b[22m\u001b[22m\u001b[1m(\u001b[22m\u001b[22m::String, ::String\u001b[1m)\u001b[22m\u001b[22m at \u001b[1m./loading.jl:515\u001b[22m\u001b[22m"
     ]
    }
   ],
   "source": [
    "Efx=collect(0.0:0.1:1.0)\n",
    "foreach(println,map(x->tauAC_func(ClSiGe(300.0,0.287),300.0,0.424*me,x,bandV),Efx))  "
   ]
  },
  {
   "cell_type": "code",
   "execution_count": 4,
   "metadata": {
    "collapsed": false
   },
   "outputs": [
    {
     "data": {
      "text/plain": [
       "3-element Array{Int64,1}:\n",
       " 1\n",
       " 2\n",
       " 4"
      ]
     },
     "execution_count": 4,
     "metadata": {},
     "output_type": "execute_result"
    }
   ],
   "source": [
    "A1=[1,2]\n",
    "A2=[4]\n",
    "A3=vcat(A1,A2)"
   ]
  },
  {
   "cell_type": "code",
   "execution_count": 5,
   "metadata": {
    "collapsed": false
   },
   "outputs": [
    {
     "data": {
      "text/plain": [
       "3-element Array{Int64,1}:\n",
       " 1\n",
       " 2\n",
       " 4"
      ]
     },
     "execution_count": 5,
     "metadata": {},
     "output_type": "execute_result"
    }
   ],
   "source": [
    "A3"
   ]
  },
  {
   "cell_type": "code",
   "execution_count": 6,
   "metadata": {
    "collapsed": false
   },
   "outputs": [
    {
     "data": {
      "text/html": [
       "3.86237862944e-31"
      ],
      "text/plain": [
       "3.86237862944e-31"
      ]
     },
     "execution_count": 6,
     "metadata": {},
     "output_type": "execute_result"
    }
   ],
   "source": [
    "effMassC(var0)"
   ]
  },
  {
   "cell_type": "code",
   "execution_count": null,
   "metadata": {
    "collapsed": true
   },
   "outputs": [],
   "source": []
  },
  {
   "cell_type": "code",
   "execution_count": 7,
   "metadata": {
    "collapsed": false
   },
   "outputs": [
    {
     "data": {
      "text/html": [
       "0.0"
      ],
      "text/plain": [
       "0.0"
      ]
     },
     "execution_count": 7,
     "metadata": {},
     "output_type": "execute_result"
    }
   ],
   "source": [
    "bandC.offset"
   ]
  },
  {
   "cell_type": "code",
   "execution_count": 8,
   "metadata": {
    "collapsed": false
   },
   "outputs": [
    {
     "data": {
      "text/html": [
       "-4.4492780290700306e26"
      ],
      "text/plain": [
       "-4.4492780290700306e26"
      ]
     },
     "execution_count": 8,
     "metadata": {},
     "output_type": "execute_result"
    }
   ],
   "source": [
    "Numofn2(bandC,0.5,300.0,3.0)"
   ]
  },
  {
   "cell_type": "code",
   "execution_count": 9,
   "metadata": {
    "collapsed": false
   },
   "outputs": [
    {
     "name": "stdout",
     "output_type": "stream",
     "text": [
      "-3.184380659982139e25\n",
      "-2.5887986881842224e26\n",
      "-6.869373061426895e26\n",
      "-1.2483681196243177e27\n",
      "-1.911003845175966e27\n",
      "-2.669566817442018e27\n",
      "-3.51144982403865e27\n",
      "-4.420092162831155e27\n",
      "-5.391784728087318e27\n",
      "-6.426051877212275e27\n",
      "-7.521119545995222e27\n"
     ]
    }
   ],
   "source": [
    "\n",
    "Temp=300.0\n",
    "xmax=3.0\n",
    "foreach(println,map(x->Numofn2(bandC,x,Temp,xmax)*6,Efx))"
   ]
  },
  {
   "cell_type": "code",
   "execution_count": 10,
   "metadata": {
    "collapsed": false
   },
   "outputs": [
    {
     "data": {
      "text/plain": [
       "11-element Array{Float64,1}:\n",
       " 0.0       \n",
       " 3.71214e45\n",
       " 5.24976e45\n",
       " 6.42961e45\n",
       " 7.42428e45\n",
       " 8.3006e45 \n",
       " 9.09285e45\n",
       " 9.8214e45 \n",
       " 1.04995e46\n",
       " 1.11364e46\n",
       " 1.17388e46"
      ]
     },
     "execution_count": 10,
     "metadata": {},
     "output_type": "execute_result"
    }
   ],
   "source": [
    "getDOS_SingleBand_E(bandC,Efx)"
   ]
  },
  {
   "cell_type": "code",
   "execution_count": 11,
   "metadata": {
    "collapsed": false
   },
   "outputs": [
    {
     "name": "stdout",
     "output_type": "stream",
     "text": [
      "-3.1843806599821386e25\n",
      "-2.588798688184222e26\n",
      "-6.869373061426895e26\n",
      "-1.2483681196243177e27\n",
      "-1.9110038451759662e27\n",
      "-2.669566817442018e27\n",
      "-3.51144982403865e27\n",
      "-4.4200921628311554e27\n",
      "-5.391784728087318e27\n",
      "-6.426051877212274e27\n",
      "-7.521119545995221e27\n"
     ]
    }
   ],
   "source": [
    "foreach(println,map(x->NumofnMultiBand2(bndstTx,x,300.0,xmax),Efx))"
   ]
  },
  {
   "cell_type": "code",
   "execution_count": 12,
   "metadata": {
    "collapsed": false
   },
   "outputs": [
    {
     "data": {
      "text/html": [
       "0.06462755587259665"
      ],
      "text/plain": [
       "0.06462755587259665"
      ]
     },
     "execution_count": 12,
     "metadata": {},
     "output_type": "execute_result"
    }
   ],
   "source": [
    "Fermilevel_n(-1.5e20,bndstTx,300.0,xmax)"
   ]
  },
  {
   "cell_type": "code",
   "execution_count": 13,
   "metadata": {
    "collapsed": false
   },
   "outputs": [
    {
     "name": "stdout",
     "output_type": "stream",
     "text": [
      "0.0"
     ]
    }
   ],
   "source": [
    "foreach(println,map(x->Fermilevel_n(-1.5e20,bndstTx,x,xmax),Ts))"
   ]
  },
  {
   "cell_type": "code",
   "execution_count": 14,
   "metadata": {
    "collapsed": false
   },
   "outputs": [
    {
     "data": {
      "text/html": [
       "-3.184279714910467e26"
      ],
      "text/plain": [
       "-3.184279714910467e26"
      ]
     },
     "execution_count": 14,
     "metadata": {},
     "output_type": "execute_result"
    }
   ],
   "source": [
    "NumofnMultiBand2(bndstTx,0.116514,300.0,xmax)"
   ]
  },
  {
   "cell_type": "code",
   "execution_count": 15,
   "metadata": {
    "collapsed": false
   },
   "outputs": [
    {
     "name": "stdout",
     "output_type": "stream",
     "text": [
      " 51.437431 seconds (271.01 M allocations: 88.638 GiB, 16.89% gc time)\n"
     ]
    },
    {
     "data": {
      "text/html": [
       "1"
      ],
      "text/plain": [
       "1"
      ]
     },
     "execution_count": 15,
     "metadata": {},
     "output_type": "execute_result"
    }
   ],
   "source": [
    "@time (Efs,sigmas,seebecks,kes,kees,kehs,kbis)=electronicProps(bndstTx,xs,Ts,numofn,tauTOTTx,xmax)\n",
    "x=1"
   ]
  },
  {
   "cell_type": "code",
   "execution_count": 16,
   "metadata": {
    "collapsed": false
   },
   "outputs": [
    {
     "name": "stdout",
     "output_type": "stream",
     "text": [
      "0.0732556156392244\n",
      "0.07318033201588048\n",
      "0.0731168604277065\n",
      "0.073001841857864\n",
      "0.07283044865563659\n",
      "0.07267589141105821\n",
      "0.07249817820757658\n",
      "0.0722783379445204\n",
      "0.07205668036919413\n",
      "0.07181616446783347\n",
      "0.07154550374532086\n",
      "0.07124978803296428\n",
      "0.07093347297859962\n",
      "0.07059598664230576\n",
      "0.07023507576914746\n",
      "0.0698492736816558\n",
      "0.06943820951457956\n",
      "0.06900207248516008\n",
      "0.06854114055689187\n",
      "0.06805558535757898\n",
      "0.06754546367108344\n",
      "0.06701077548757693\n",
      "0.06645152059286606\n",
      "0.06586773207491715\n",
      "0.06525948825115818\n",
      "0.06462691119121429\n",
      "0.0639701592544077\n",
      "0.06328941833903641\n",
      "0.0625848941291136\n",
      "0.061856806082410544\n",
      "0.06110538311606058\n",
      "0.060330860643642924\n",
      "0.05953347857143782\n",
      "0.05871347992340611\n",
      "0.057871109854406494\n",
      "0.05700661489323726\n",
      "0.05612024231956568\n",
      "0.055212239621347775\n",
      "0.05428285400585804\n",
      "0.0533323319525962\n",
      "0.05236091880410374\n",
      "0.05136885839407991\n",
      "0.05035639271311163\n",
      "0.049323761612094195\n",
      "0.048271202542730346\n",
      "0.047198950333752196\n",
      "0.04610723700088769\n",
      "0.044996291588154214\n",
      "0.043866340037802154\n",
      "0.04271760508614374\n",
      "0.041550306182509586\n",
      "0.04036465942869752\n",
      "0.03916087753643268\n",
      "0.0379391698005544\n",
      "0.03669974208585686\n",
      "0.03544279682571818\n",
      "0.03416853303085184\n",
      "0.03287714630670965\n",
      "0.031568828878241376\n",
      "0.030243769620864745\n",
      "0.028902154096659617\n",
      "0.027544164594908136\n",
      "0.026169980176230193\n",
      "0.024779776719654818\n",
      "0.023373726972053737\n",
      "0.021952000599447002\n",
      "0.020514764239747397\n",
      "0.019062181556574916\n",
      "0.017594413293820835\n",
      "0.01611161733068504\n",
      "0.014613948736948679\n",
      "0.013101559828276883\n",
      "0.011574600221378803\n",
      "0.010033216888871986\n",
      "0.008477554213727242\n",
      "0.006907754043182404\n"
     ]
    }
   ],
   "source": [
    "foreach(println,Efs-Ec([Ts[1],x[1]]))"
   ]
  },
  {
   "cell_type": "code",
   "execution_count": 17,
   "metadata": {
    "collapsed": false
   },
   "outputs": [
    {
     "data": {
      "text/plain": [
       "76×1×1 Array{Float64,3}:\n",
       "[:, :, 1] =\n",
       "      6.05039e5\n",
       "      6.36906e5\n",
       "      6.31964e5\n",
       "      6.23951e5\n",
       "      6.1502e5 \n",
       "      6.06747e5\n",
       "      5.98447e5\n",
       "      5.89814e5\n",
       "      5.81531e5\n",
       "      5.73308e5\n",
       "      5.64976e5\n",
       "      5.56629e5\n",
       "      5.48348e5\n",
       "      ⋮        \n",
       "      2.59126e5\n",
       " 256071.0      \n",
       "      2.53077e5\n",
       "      2.50141e5\n",
       "      2.47261e5\n",
       "      2.44438e5\n",
       "      2.41668e5\n",
       " 238951.0      \n",
       "      2.36285e5\n",
       "      2.33669e5\n",
       "      2.31101e5\n",
       "      2.2858e5 "
      ]
     },
     "execution_count": 17,
     "metadata": {},
     "output_type": "execute_result"
    }
   ],
   "source": [
    "sigmas"
   ]
  },
  {
   "cell_type": "code",
   "execution_count": 18,
   "metadata": {
    "collapsed": false
   },
   "outputs": [
    {
     "data": {
      "text/html": [
       "1"
      ],
      "text/plain": [
       "1"
      ]
     },
     "execution_count": 18,
     "metadata": {},
     "output_type": "execute_result"
    }
   ],
   "source": [
    "SiGe_Vin_162_Bulk_EC_T=[304.367,321.834,343.668,365.502,385.153,404.803,426.638,450.655,470.306,494.323,513.974,\n",
    "535.808,551.092,568.559,579.476,599.127,620.961,640.611,658.079,679.913,699.563,719.214,741.048,760.699,782.533,\n",
    "802.183,821.834,843.668,863.319,885.153,904.803,926.638,946.288,965.939,987.773,1007.42,1027.07,1046.72,1075.11,\n",
    "1094.76,1114.41,1149.34,1171.18,1190.83,1210.48,1232.31,1254.15]\n",
    "SiGe_Vin_162_Bulk_EC_E=[121943.783915615,132463.665216631,128860.001340144,122140.388162154,119063.352419189,\n",
    "113297.757837372,108070.254310922,105664.795343141,98940.3488636701,96919.886022214,91232.5517744731,\n",
    "87811.7316473481,93134.1504302798,87866.513193157,84672.5711672961,80299.3559991649,77637.3404552654,\n",
    "76382.5236785823,71676.8806221553,69548.7675958382,66570.3615436335,64728.6896971345,62988.1582262535,\n",
    "61336.8990517315,59010.2795907047,56852.0992637653,55503.4439886995,53591.7168642415,51805.6872283439,\n",
    "50684.7509858184,49084.3317904492,47583.2468904348,46634.8306222952,45276.5263848958,44847.8760045924,\n",
    "45294.9835805685,45303.6020894021,46681.8538297793,49173.153425156,50250.2462262065,50812.2335533503,\n",
    "52561.5890419599,53795.2552584862,54439.8412534229,55100.0617120691,55777.7368741041,56472.6079615083]\n",
    "SiGe_Vin_162_Bulk_SC_T=[318.66,446.9,505.1,582,1039,1113,1190]\n",
    "SiGe_Vin_162_Bulk_SC_S=[105.96,146.7,157.6,175.6,278.9,279.8,262.7]\n",
    "SiGe_Vin_163_Bulk_EC_E=[1.32058,1.36356,1.36332,1.42786,1.47098,1.55721,1.57844,1.68614,1.75072,1.7936,1.87979,\n",
    "1.94414,2.00882,2.095,2.15954,2.2454,2.33163,2.39617,2.48236,2.54684,2.61143,2.67591,2.7621,2.82669,2.89117,2.97736,\n",
    "3.0419,3.12813,3.19267,3.27886,3.365,3.49459,3.55917,3.5804,3.58002,3.70952,3.81741,3.92525,4.01148,4.01106,\n",
    "4.1407,4.22679,4.3561,4.42063,4.52814,4.59268,4.63551,4.63504,4.61296,4.54758,4.48224]\n",
    "SiGe_Vin_163_Bulk_EC_T=[313.1,328.384,339.301,358.952,367.686,385.153,404.803,431.004,448.472,468.122,487.773,\n",
    "516.157,529.258,548.908,568.559,603.493,620.961,640.611,660.262,682.096,699.563,721.397,741.048,758.515,780.349,\n",
    "800,819.651,837.118,856.769,876.419,898.253,913.537,931.004,950.655,968.122,987.773,1005.24,1024.89,\n",
    "1042.36,1062.01,1075.11,1099.13,1127.51,1147.16,1182.1,1201.75,1223.58,1245.41,1265.07,1284.72,1302.18]\n",
    "SiGe_Vin_163_Bulk_SC_T=[328.148,363.006,425.776,507.074,606.958,1011.07,1097.05,1145.83,1219.95]\n",
    "SiGe_Vin_163_Bulk_SC_S=[165.84,177.781,204.665,224.544,249.394,334.819,363.676,375.603,349.581]\n",
    "SiGe_Vin_68_Bulk_EC_T=[03.332,320.776,353.489,373.121,388.376,408.008,425.452,442.896,458.161,471.228,488.672,\n",
    "506.111,521.362,536.612,551.863,560.578,569.279,584.529,597.592,608.467,621.529,634.592,645.471,656.346,669.413,\n",
    "680.288,686.796,695.501,708.564,721.626,734.689,747.752,760.819,773.882,786.944,802.191,813.084,826.161,845.788,\n",
    "863.236,885.066,906.914,926.598,935.374,944.15,950.748,957.345,963.938,970.536,979.317,983.773,985.909,992.535,\n",
    "999.147,1007.95,1014.55,1023.34,1027.75,1034.34,1040.93,1047.53,1054.13,1062.92,1067.32,1073.91,1078.3,1084.9,\n",
    "1091.48,1100.26,1109.04,1117.82,1126.59,1130.99,1141.95,1146.34,1152.91,1157.31,1163.87,1172.65,1183.61]\n",
    "SiGe_Vin_68_Bulk_EC_E=[18.9608,19.3921,20.0819,20.4266,20.9447,21.2893,21.7207,22.1521,22.4971,23.1021,\n",
    "23.5334,24.0514,24.6562,25.2609,25.8656,26.2112,26.8165,27.4213,28.1128,28.891,29.5826,30.2741,30.9658,31.744,\n",
    "32.349,33.1272,33.9059,34.4246,35.1161,35.8077,36.4992,37.1907,37.7956,38.4871,39.1786,39.8699,40.3019,\n",
    "40.7337,41.1649,41.5097,41.5944,41.3327,40.725,39.945,39.165,38.2986,37.4323,36.6525,35.7861,34.9195,\n",
    "33.2741,34.1397,32.7539,31.6278,30.3283,29.4619,28.4222,27.556,26.8628,26.083,25.2167,24.3503,23.3972,\n",
    "22.6175,22.0109,21.5776,20.7113,20.0181,19.2381,18.3715,17.5915,16.8116,16.2917,15.5115,14.9917,14.7313,\n",
    "14.1249,13.8646,13.0846,12.3044]\n",
    "SiGe_Vin_68_Bulk_SC_T=[310.512,345.535,378.353,408.614,552.902,687.851,818.065,905.888,976.977,1063.63]\n",
    "SiGe_Vin_68_Bulk_SC_S=[480,495,523,526,537,544,542,483,375,190]\n",
    "SiGe_Vin_41_Bulk_EC_T=[310.941,330.635,348.14,352.516,372.21,394.092,413.786,433.479,453.173,472.867,503.501,\n",
    "521.007,540.7,558.206,575.711,593.217,612.91,628.228,645.733,665.427,682.932,698.249,715.755,733.26,744.201,\n",
    "759.519,777.024,787.965,829.54,844.858,862.363,877.681,892.998,908.315,925.821,941.138,958.643,969.584,\n",
    "989.278,1008.97,1026.48,1048.36,1070.24,1089.93,1118.38,1138.07,1155.58,1179.65,1190.59,1208.1]\n",
    "SiGe_Vin_41_Bulk_EC_E=[3.2979,3.36214,3.38308,3.42629,3.51224,3.59809,3.64063,3.72658,3.81252,3.89847,4.02733,\n",
    "4.13507,4.24272,4.37216,4.4582,4.60934,4.71698,4.82481,4.95425,5.0836,5.21304,5.34257,5.49371,5.60145,5.73117,\n",
    "5.88241,6.01185,6.18497,6.48696,6.6382,6.76764,6.91887,7.0701,7.17794,7.32908,7.45861,7.65315,7.73948,7.82542,\n",
    "7.84627,7.954,7.97475,8.0172,7.97295,7.86322,7.77556,7.6663,7.57846,7.40439,7.29513]\n",
    "SiGe_Vin_41_Bulk_SC_T=[301.423,397.079,492.595,592.772,718.465,853.442,967.386,1027.72,1085.67,1154.87]\n",
    "SiGe_Vin_41_Bulk_SC_S=[253,286,304,323,335,345,344,330,309,248]\n",
    "#plot(SiGe_Vin_162_Bulk_EC_T,SiGe_Vin_162_Bulk_EC_E, linestyle=\"None\",marker=\".\",markersize=20,color=\"r\")\n",
    "x=1"
   ]
  },
  {
   "cell_type": "code",
   "execution_count": 20,
   "metadata": {
    "collapsed": false,
    "scrolled": false
   },
   "outputs": [
    {
     "data": {
      "image/png": "[encoded data removed]",
      "text/plain": [
       "PyPlot.Figure(PyObject <matplotlib.figure.Figure object at 0x7f808aa392b0>)"
      ]
     },
     "metadata": {},
     "output_type": "display_data"
    },
    {
     "data": {
      "image/png": "[encoded data removed]",
      "text/plain": [
       "PyPlot.Figure(PyObject <matplotlib.figure.Figure object at 0x7f808a8ccc18>)"
      ]
     },
     "metadata": {},
     "output_type": "display_data"
    },
    {
     "data": {
      "text/plain": [
       "(-600, 0)"
      ]
     },
     "execution_count": 20,
     "metadata": {},
     "output_type": "execute_result"
    }
   ],
   "source": [
    "colors=[\"b\",\"g\",\"r\",\"c\",\"m\",\"y\",\"k\"]\n",
    "PS_Sn06_0PAEC=[10.0,13.0,17.0,25.0,30.0,46.0,88.0,108.0,232.0]\n",
    "PS_Sn06_0PASC=[327.0,241.0,105.0,98.0,74.0,62.0,42.0,35.0,15.0]\n",
    "PS_Sn06_0PAEC_1=[85.0,80.0,70.0,72.0,98.0,109.0,131.0,172.0,229.0]\n",
    "PS_Sn06_0PASC_1=[348.0,385.0,406.0,371.0,352.0,338.0,301.0,277.0,271.0]\n",
    "SY_16B_Sigma_Temp=[334,442,494,515,548,569,630,999,1066,1140,1200]\n",
    "SY_16B_Sigma=[129449.8,106450.9,96730.51,91575.09,92208.39,86415.49,78529.92,45374.11,48600.31,52723.15,55069.11]\n",
    "SY_16B_Seebeck=[-107,-111,-147,-151,-160,-167,-172,-177,-194,-282,-281]\n",
    "SY_16B_Seebeck_Temp=[323,335,445,467,494,515,550,571,633,999,1067]\n",
    "plots=Array{Any}(length(numofn)*length(xs))\n",
    "figure()\n",
    "k=1\n",
    "plot(Ts,sigmas[:,1,1]/100,linestyle=\"-\",color=\"c\")\n",
    "#plot(Ts,sigmas[:,2,2]/100,linestyle=\"-\",color=\"g\")\n",
    "#plot(Ts,sigmas[:,3,3]/100,linestyle=\"-\",color=\"b\")\n",
    "#plot(Ts,sigmas[:,4,4]/100,linestyle=\"-\",color=\"k\")       \n",
    "plot(SY_16B_Sigma_Temp,SY_16B_Sigma/100, linestyle=\"None\",marker=\".\",markersize=10,color=\"r\")\n",
    "plot(SiGe_Vin_162_Bulk_EC_T,SiGe_Vin_162_Bulk_EC_E/100, linestyle=\"None\",marker=\"s\",markersize=4,color=\"c\")\n",
    "plot(SiGe_Vin_163_Bulk_EC_T,1e3./SiGe_Vin_163_Bulk_EC_E, linestyle=\"None\",marker=\"s\",markersize=4,color=\"g\")\n",
    "plot(SiGe_Vin_68_Bulk_EC_T,1e3./SiGe_Vin_68_Bulk_EC_E, linestyle=\"None\",marker=\"s\",markersize=4,color=\"b\")\n",
    "plot(SiGe_Vin_41_Bulk_EC_T,1e3./SiGe_Vin_41_Bulk_EC_E, linestyle=\"None\",marker=\"s\",markersize=4,color=\"k\")\n",
    "ylim(0,1000)\n",
    "#legend(loc=\"upper right\")\n",
    "figure()\n",
    "plot(Ts,1e6*seebecks[:,1,1],color=\"c\") \n",
    "#plot(Ts,1e6*seebecks[:,2,2],color=\"g\") \n",
    "#plot(Ts,1e6*seebecks[:,3,3],color=\"b\") \n",
    "#plot(Ts,1e6*seebecks[:,4,4],color=\"k\")        \n",
    "plot(SY_16B_Seebeck_Temp,SY_16B_Seebeck, linestyle=\"None\",marker=\".\",markersize=10,color=\"r\")\n",
    "plot(SiGe_Vin_162_Bulk_SC_T,-SiGe_Vin_162_Bulk_SC_S, linestyle=\"None\",marker=\"s\",markersize=4,color=\"c\")\n",
    "plot(SiGe_Vin_163_Bulk_SC_T,-SiGe_Vin_163_Bulk_SC_S, linestyle=\"None\",marker=\"s\",markersize=4,color=\"g\")\n",
    "plot(SiGe_Vin_68_Bulk_SC_T,-SiGe_Vin_68_Bulk_SC_S, linestyle=\"None\",marker=\"s\",markersize=4,color=\"b\")\n",
    "plot(SiGe_Vin_41_Bulk_SC_T,-SiGe_Vin_41_Bulk_SC_S, linestyle=\"None\",marker=\"s\",markersize=4,color=\"k\")\n",
    "ylim(-600,0)\n",
    "#legend(loc=\"upper right\")"
   ]
  }
 ],
 "metadata": {
  "kernelspec": {
   "display_name": "Julia 0.6.0",
   "language": "julia",
   "name": "julia-0.6"
  },
  "language_info": {
   "file_extension": ".jl",
   "mimetype": "application/julia",
   "name": "julia",
   "version": "0.6.0"
  }
 },
 "nbformat": 4,
 "nbformat_minor": 0
}
