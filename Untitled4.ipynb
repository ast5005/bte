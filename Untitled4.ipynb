{
 "cells": [
  {
   "cell_type": "code",
   "execution_count": 1,
   "metadata": {
    "collapsed": false
   },
   "outputs": [
    {
     "data": {
      "text/plain": [
       "0.08610837438423645"
      ]
     },
     "execution_count": 1,
     "metadata": {},
     "output_type": "execute_result"
    }
   ],
   "source": [
    "1/(1/0.92+2/0.19)"
   ]
  },
  {
   "cell_type": "code",
   "execution_count": 2,
   "metadata": {
    "collapsed": false
   },
   "outputs": [
    {
     "data": {
      "text/plain": [
       "0.03996934396076027"
      ]
     },
     "execution_count": 2,
     "metadata": {},
     "output_type": "execute_result"
    }
   ],
   "source": [
    "1/(1/1.59+2/0.082)"
   ]
  },
  {
   "cell_type": "code",
   "execution_count": 3,
   "metadata": {
    "collapsed": false
   },
   "outputs": [
    {
     "name": "stderr",
     "output_type": "stream",
     "text": [
      "\n",
      "WARNING: deprecated syntax \"abstract tau_electron_Base\" at /home/abdullah/working_directory/jupyter_wd/julia/scienctific/BTE/types.jl:9.\n",
      "Use \"abstract type tau_electron_Base end\" instead.\n",
      "\n",
      "WARNING: deprecated syntax \"abstract tau_phonon_Base\" at /home/abdullah/working_directory/jupyter_wd/julia/scienctific/BTE/types.jl:10.\n",
      "Use \"abstract type tau_phonon_Base end\" instead.\n",
      "\u001b[1m\u001b[36mINFO: \u001b[39m\u001b[22m\u001b[36mRecompiling stale cache file /home/abdullah/.julia/lib/v0.6/Optim.ji for module Optim.\n",
      "\u001b[39m\u001b[1m\u001b[36mINFO: \u001b[39m\u001b[22m\u001b[36mRecompiling stale cache file /home/abdullah/.julia/lib/v0.6/PyPlot.ji for module PyPlot.\n",
      "\u001b[39m"
     ]
    }
   ],
   "source": [
    "using constants\n",
    "using types\n",
    "using Optim\n",
    "using PyPlot\n",
    "using data"
   ]
  },
  {
   "cell_type": "code",
   "execution_count": 4,
   "metadata": {
    "collapsed": false
   },
   "outputs": [
    {
     "name": "stderr",
     "output_type": "stream",
     "text": [
      "\u001b[1m\u001b[36mINFO: \u001b[39m\u001b[22m\u001b[36mRecompiling stale cache file /home/abdullah/.julia/lib/v0.6/Roots.ji for module Roots.\n",
      "\u001b[39m\u001b[1m\u001b[36mINFO: \u001b[39m\u001b[22m\u001b[36mRecompiling stale cache file /home/abdullah/.julia/lib/v0.6/QuantEcon.ji for module QuantEcon.\n",
      "\u001b[39mWARNING: --output requested, but no modules defined during run\n",
      "\u001b[1m\u001b[33mWARNING: \u001b[39m\u001b[22m\u001b[33mThe call to compilecache failed to create a usable precompiled cache file for module FFTW. Got:\u001b[39m\n",
      "\u001b[1m\u001b[33mWARNING: \u001b[39m\u001b[22m\u001b[33mCache file \"/home/abdullah/.julia/lib/v0.6/FFTW.ji\" not found.\u001b[39m\n",
      "WARNING: eval from module Main to DSP:    \n",
      "Expr(:call, Expr(:., :Base, :include_from_node1)::Any, \"/home/abdullah/.julia/v0.6/FFTW/src/FFTW.jl\")::Any\n",
      "  ** incremental compilation may be broken for this module **\n",
      "\n",
      "\n",
      "WARNING: deprecated syntax \"global g_Ef=0.0, g_band=parBandTx(0.0,0.0,0.0,[func1(x)=begin\n",
      "    # /media/abdullah/WIN_VAULT/shared_folders/recovered/e/Dropbox/working_directory/jupyter_wd/julia/scienctific/BTE/userfunctions.jl, line 12\n",
      "    1\n",
      "end],[func2(x)=begin\n",
      "    # /media/abdullah/WIN_VAULT/shared_folders/recovered/e/Dropbox/working_directory/jupyter_wd/julia/scienctific/BTE/userfunctions.jl, line 12\n",
      "    1\n",
      "end],[0.0,0.0]), g_intvalue=0.0\" at /media/abdullah/WIN_VAULT/shared_folders/recovered/e/Dropbox/working_directory/jupyter_wd/julia/scienctific/BTE/userfunctions.jl:13.\n",
      "Use \"global g_Ef, g_band, g_intvalue = 0.0, parBandTx(0.0,0.0,0.0,[func1(x)=begin\n",
      "    # /media/abdullah/WIN_VAULT/shared_folders/recovered/e/Dropbox/working_directory/jupyter_wd/julia/scienctific/BTE/userfunctions.jl, line 12\n",
      "    1\n",
      "end],[func2(x)=begin\n",
      "    # /media/abdullah/WIN_VAULT/shared_folders/recovered/e/Dropbox/working_directory/jupyter_wd/julia/scienctific/BTE/userfunctions.jl, line 12\n",
      "    1\n",
      "end],[0.0,0.0]), 0.0\" instead.\n",
      "\u001b[1m\u001b[36mINFO: \u001b[39m\u001b[22m\u001b[36mPrecompiling module Cubature.\n",
      "\u001b[39m"
     ]
    }
   ],
   "source": [
    "include(\"DOSfunctions.jl\")\n",
    "include(\"userfunctions.jl\")\n",
    "include(\"propertyfuncs.jl\")"
   ]
  },
  {
   "cell_type": "code",
   "execution_count": 5,
   "metadata": {
    "collapsed": false
   },
   "outputs": [
    {
     "name": "stderr",
     "output_type": "stream",
     "text": [
      "\u001b[1m\u001b[36mINFO: \u001b[39m\u001b[22m\u001b[36mPackage Cubature is already installed\n",
      "\u001b[39m"
     ]
    }
   ],
   "source": [
    "Pkg.add(\"Cubature\")"
   ]
  },
  {
   "cell_type": "code",
   "execution_count": 6,
   "metadata": {
    "collapsed": false,
    "scrolled": false
   },
   "outputs": [
    {
     "name": "stderr",
     "output_type": "stream",
     "text": [
      "\u001b[1m\u001b[36mINFO: \u001b[39m\u001b[22m\u001b[36mUpdating METADATA...\n",
      "\u001b[39m\u001b[1m\u001b[36mINFO: \u001b[39m\u001b[22m\u001b[36mNo packages to install, update or remove\n",
      "\u001b[39m\u001b[1m\u001b[36mINFO: \u001b[39m\u001b[22m\u001b[36mComputing changes...\n",
      "\u001b[39m"
     ]
    }
   ],
   "source": [
    "Pkg.update()"
   ]
  },
  {
   "cell_type": "code",
   "execution_count": 7,
   "metadata": {
    "collapsed": false
   },
   "outputs": [
    {
     "data": {
      "text/html": [
       "0.4239948049941659"
      ],
      "text/plain": [
       "0.4239948049941659"
      ]
     },
     "execution_count": 7,
     "metadata": {},
     "output_type": "execute_result"
    }
   ],
   "source": [
    "1.4/6^(2/3)"
   ]
  }
 ],
 "metadata": {
  "kernelspec": {
   "display_name": "Julia 0.6.0",
   "language": "julia",
   "name": "julia-0.6"
  },
  "language_info": {
   "file_extension": ".jl",
   "mimetype": "application/julia",
   "name": "julia",
   "version": "0.6.0"
  }
 },
 "nbformat": 4,
 "nbformat_minor": 2
}
