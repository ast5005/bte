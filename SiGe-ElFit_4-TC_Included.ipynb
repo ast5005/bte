{
 "cells": [
  {
   "cell_type": "code",
   "execution_count": 1,
   "metadata": {
    "collapsed": false
   },
   "outputs": [],
   "source": [
    "using constants\n",
    "using types\n",
    "using Optim\n",
    "using PyPlot\n",
    "using data"
   ]
  },
  {
   "cell_type": "code",
   "execution_count": 2,
   "metadata": {
    "collapsed": false
   },
   "outputs": [
    {
     "data": {
      "text/plain": [
       "electronicProps (generic function with 1 method)"
      ]
     },
     "execution_count": 2,
     "metadata": {},
     "output_type": "execute_result"
    }
   ],
   "source": [
    "include(\"DOSfunctions.jl\")\n",
    "include(\"userfunctions.jl\")\n",
    "include(\"propertyfuncs.jl\")"
   ]
  },
  {
   "cell_type": "code",
   "execution_count": 3,
   "metadata": {
    "collapsed": false
   },
   "outputs": [
    {
     "data": {
      "text/plain": [
       "types.tau_phonon_B(Function[tauPHUTf,tauPHALLTf],Any[0.0,300.0,0.3,0.6,0.2,101.338,59.617,59.617,4.6637e-26,1.206e-25,2.0024e-29,0.488])"
      ]
     },
     "execution_count": 3,
     "metadata": {},
     "output_type": "execute_result"
    }
   ],
   "source": [
    "Eoff=0.0\n",
    "Ts=collect(300:10.0:900.0)\n",
    "numofn=[-1.3e20]#[-1.3e20,-0.7e20,-0.022e20,-0.2e20]#,-1.75e20,-3.0e19,-0.9e20]#Sample 1 -3.0e19, Sample 2 -1.25e20,\n",
    "#Sample 3 -1.75e20, Sample Sb 0.75% -1.03e20, #\n",
    "numofnn=[1e17]#[1e17,1e17,1e17,1e17]\n",
    "xs=[0.2]#[0.287,0.3,0.262,0.332]#collect(0.0:0.01:1.0)\n",
    "\n",
    "var0=[Ts[1],xs[1]]\n",
    "Eoff=2.0\n",
    "Ev(var)=Eoff\n",
    "Ec(var)=Ev(var)+EgSiGe(var[1],var[2]) #var[1]:T var[2]:x\n",
    "\n",
    "effMassV(var)=-1.2*me\n",
    "effMassC(var)=0.424*me#1.4/6^(2/3)*me\n",
    "\n",
    "bandC=parBandTx(effMassC(var0),0.0,Ec(var0),[Ec],[effMassC],var0)\n",
    "bandV=parBandTx(effMassV(var0),0.0,Ev(var0),[Ev],[effMassV],var0)\n",
    "#bndstTx=BandStrucTx([bandV,bandC,bandC,bandC,bandC,bandC,bandC],var0)\n",
    "bndstTx=BandStrucTx([bandC,bandC,bandC,bandC,bandC,bandC,bandV],var0)\n",
    "#var array: var[1]: effMass , var[2]:T, var[3]:E, var[4]:x, var[5]:Ef, \n",
    "#var[6]:band, var[7]:NII var[8]:bndst var[9]:NNI\n",
    "Def_ph=5.0*q #eV\n",
    "md=1.4*me;\n",
    "function Deftemp(array)\n",
    "    return 15\n",
    "end\n",
    "ksi=21.0\n",
    "tauAC(var)=tauAC_func(ClSiGe(var[4],var[2]),Deftemp(var[1]),var[2],var[1],var[3],var[6])#DefP(var[1])\n",
    "tauII2(var)=tauII2_func(ksi*eps0,eps0,var[6],var[5],var[2],var[7],var[1],var[3],var[8])\n",
    "tauNI(var)=tauNI_func(ksi*eps0,var[1],var[9])\n",
    "vartau0=[bandC.effMass,Ts[1],Ec(var0),xs[1],Ec(var0),bandC,numofn[1]*1e6,bndstTx,numofnn[1]*1e6]\n",
    "#vartau0=[bandC.effMass,Ts[1],1.0,xs[1],1.5,bandC,numofn[1]*1e6,bndstTx,numofnn[1]*1e6]\n",
    "tauTOTTx=tau_electron_B([tauAC,tauII2,tauNI],vartau0)#tauNI,,tauII2\n",
    "xmax=3.0\n",
    "#############Lattice Thermal Conductivity Parameters###############\n",
    "thetaSiL=586.0 # K \n",
    "thetaSiT=240.0 # K\n",
    "vSiL=8430.0    # m/s\n",
    "vSiT=5840.0    # m/s\n",
    "vGeL=4920.0    # m/s\n",
    "vGeT=3540.0    # m/s\n",
    "gammaL=0.3\n",
    "gammaT=0.6\n",
    "MSi=4.6637e-26 # kg\n",
    "MGe=1.206e-25  # kg\n",
    "VSi=2.0024e-29\n",
    "Eh=3.8\n",
    "xsp=0.2\n",
    "Tp=300.0\n",
    "p=1.0\n",
    "D=20e-9\n",
    "NP=0\n",
    "a=0.488\n",
    "vv=[7728.0,3760.0,3760.0]\n",
    "#vartauPH0=[integration_var,T,gammaL,gammaT,xs,thetaL,thetaTx,thetaTy]\n",
    "\n",
    "thetaCLx=thetaCL(a,xsp,thetaSiL,vSiL,VSi)\n",
    "thetaCTx=thetaCT(a,xsp,thetaSiT,vSiL,VSi)\n",
    "vartauPH0=[0.0,Tp,gammaL,gammaT,xsp,thetaCLx,thetaCTx,thetaCTx,MSi,MGe,VSi,a]\n",
    "\n",
    "tauPHNLf(var)=tauPH_NL(var[3],VSiGe(var[5]),var[1],var[2],MSiGe(var[5]),vSiGeL_PH(var[5]))\n",
    "tauPHNTf(var)=tauPH_NT(var[4],VSiGe(var[5]),var[1],var[2],MSiGe(var[5]),vSiGeT_PH(var[5]))\n",
    "\n",
    "\n",
    "tauPHULf(var)=tauPH_U(var[3],var[1],var[2],MSiGe(var[5]),vSiGeL_PH(var[5]),thetaSiL)\n",
    "tauPHUTf(var)=tauPH_U(var[4],var[1],var[2],MSiGe(var[5]),vSiGeT_PH(var[5]),thetaSiT)\n",
    "\n",
    "tauPHALLLf(var)=tauPH_ALL(var[9],var[10],var[5],VSiGe(var[5]),var[1],var[2],MSiGe(var[5]),vSiGeL_PH(var[5]))\n",
    "tauPHALLTf(var)=tauPH_ALL(var[9],var[10],var[5],VSiGe(var[5]),var[1],var[2],MSiGe(var[5]),vSiGeT_PH(var[5]))\n",
    "\n",
    "#tauPHTOTL=tau_phonon_B([tauPHNLf,tauPHULf],vartauPH0)\n",
    "tauPHTOTL=tau_phonon_B([tauPHNLf,tauPHULf,tauPHALLLf],vartauPH0)\n",
    "tauPHNL=tau_phonon_B([tauPHNLf],vartauPH0)\n",
    "tauPHRL=tau_phonon_B([tauPHULf,tauPHALLLf],vartauPH0)\n",
    "\n",
    "\n",
    "tauPHTOTTx=tau_phonon_B([tauPHNTf,tauPHUTf,tauPHALLTf],vartauPH0)\n",
    "tauPHNTx=tau_phonon_B([tauPHNTf],vartauPH0)\n",
    "tauPHRTx=tau_phonon_B([tauPHUTf,tauPHALLTf],vartauPH0)\n",
    "\n",
    "\n",
    "tauPHTOTTy=tau_phonon_B([tauPHNTf,tauPHUTf,tauPHALLTf],vartauPH0)\n",
    "tauPHNTy=tau_phonon_B([tauPHNTf],vartauPH0)\n",
    "tauPHRTy=tau_phonon_B([tauPHUTf,tauPHALLTf],vartauPH0)\n",
    "\n",
    "#tauPH_U(gamma::Float64,x::Float64,T::Float64,M::Float64,v::Float64,theta::Float64)\n",
    "\n",
    "#tauPHTOT=tau_phonon_B()\n",
    "########u"
   ]
  },
  {
   "cell_type": "code",
   "execution_count": 4,
   "metadata": {
    "collapsed": false
   },
   "outputs": [
    {
     "name": "stdout",
     "output_type": "stream",
     "text": [
      " 14.679543 seconds (158.58 M allocations: 27.348 GB, 8.89% gc time)\n"
     ]
    }
   ],
   "source": [
    "@time (Efs,sigmas,seebecks,kes,kees,kehs,kbis)=electronicProps(bndstTx,xs,Ts,numofn,tauTOTTx,xmax)\n",
    "x=1"
   ]
  },
  {
   "cell_type": "code",
   "execution_count": 5,
   "metadata": {
    "collapsed": false
   },
   "outputs": [
    {
     "data": {
      "text/plain": [
       "(8.827742917222124e-12,5.518773118386305e-13,0.0012784253177218967,0.0016242627543600159,8.73211987542978e6,6.8109763378269095e6,16.478252301305858,3.528576627521938,3.528576627521938,23.535405556349733)"
      ]
     },
     "execution_count": 5,
     "metadata": {},
     "output_type": "execute_result"
    }
   ],
   "source": [
    "kl(tauPHTOTL,tauPHNL,tauPHRL,tauPHTOTTx,tauPHNTx,tauPHRTx,tauPHTOTTy,tauPHNTy,tauPHRTy,300.0,vv)"
   ]
  },
  {
   "cell_type": "code",
   "execution_count": 6,
   "metadata": {
    "collapsed": false
   },
   "outputs": [
    {
     "ename": "LoadError",
     "evalue": "MethodError: Cannot `convert` an object of type Tuple{Float64,Float64,Float64,Float64,Float64,Float64,Float64,Float64,Float64,Float64} to an object of type Float64\nThis may have arisen from a call to the constructor Float64(...),\nsince type constructors fall back to convert methods.",
     "output_type": "error",
     "traceback": [
      "MethodError: Cannot `convert` an object of type Tuple{Float64,Float64,Float64,Float64,Float64,Float64,Float64,Float64,Float64,Float64} to an object of type Float64\nThis may have arisen from a call to the constructor Float64(...),\nsince type constructors fall back to convert methods.",
      "",
      " in setindex!(::Array{Float64,1}, ::Tuple{Float64,Float64,Float64,Float64,Float64,Float64,Float64,Float64,Float64,Float64}, ::Int64) at ./array.jl:415",
      " in macro expansion; at ./In[6]:4 [inlined]",
      " in anonymous at ./<missing>:?"
     ]
    }
   ],
   "source": [
    "Tpp=collect(300.0:10:900.0)\n",
    "kl_A=Array{Float64}(length(Tpp))\n",
    "for (Ti,Tx) in enumerate(Tpp)\n",
    "    kl_A[Ti]=kl(tauPHTOTL,tauPHNL,tauPHRL,tauPHTOTTx,tauPHNTx,tauPHRTx,tauPHTOTTy,tauPHNTy,tauPHRTy,Tx,vv)\n",
    "end\n",
    "#plot(Tpp,kl_A,Linestyle=\"-\",Linewidth=\"2\",color=\"b\")\n",
    "#grid()"
   ]
  },
  {
   "cell_type": "code",
   "execution_count": 7,
   "metadata": {
    "collapsed": false
   },
   "outputs": [
    {
     "name": "stdout",
     "output_type": "stream",
     "text": [
      " 11.233005 seconds (154.81 M allocations: 27.194 GB, 12.36% gc time)\n"
     ]
    }
   ],
   "source": [
    "@time (Efs,sigmas,seebecks,kes,kees,kehs,kbis)=electronicProps(bndstTx,xs,Ts,numofn,tauTOTTx,xmax)\n",
    "x=1"
   ]
  },
  {
   "cell_type": "code",
   "execution_count": 19,
   "metadata": {
    "collapsed": false
   },
   "outputs": [
    {
     "data": {
      "text/plain": [
       "61×1×1 Array{Float64,3}:\n",
       "[:, :, 1] =\n",
       " 1.08875 \n",
       " 1.08519 \n",
       " 1.08156 \n",
       " 1.07786 \n",
       " 1.0741  \n",
       " 1.07027 \n",
       " 1.06639 \n",
       " 1.06244 \n",
       " 1.05843 \n",
       " 1.05437 \n",
       " 1.05025 \n",
       " 1.04607 \n",
       " 1.04185 \n",
       " ⋮       \n",
       " 0.856421\n",
       " 0.850797\n",
       " 0.845147\n",
       " 0.839473\n",
       " 0.833773\n",
       " 0.828049\n",
       " 0.822302\n",
       " 0.81653 \n",
       " 0.810735\n",
       " 0.804918\n",
       " 0.799077\n",
       " 0.793215"
      ]
     },
     "execution_count": 19,
     "metadata": {},
     "output_type": "execute_result"
    }
   ],
   "source": [
    "Efs-2.0"
   ]
  },
  {
   "cell_type": "code",
   "execution_count": 9,
   "metadata": {
    "collapsed": false
   },
   "outputs": [
    {
     "data": {
      "text/html": [
       "0.0"
      ],
      "text/plain": [
       "0.0"
      ]
     },
     "execution_count": 9,
     "metadata": {},
     "output_type": "execute_result"
    }
   ],
   "source": [
    "log(1)"
   ]
  },
  {
   "cell_type": "code",
   "execution_count": 10,
   "metadata": {
    "collapsed": false
   },
   "outputs": [],
   "source": [
    "#int=collect(0.01:0.001:0.5)\n",
    "#tauPH_e_A=Array{Float64}(length(int))\n",
    "#1./tauPH_e(Def_ph,md,(MSiGe(xsp)/VSiGe(xsp)),Efs[1]*q/kB/Ts[1],int,Ts[1],7728.0)"
   ]
  },
  {
   "cell_type": "code",
   "execution_count": 11,
   "metadata": {
    "collapsed": false
   },
   "outputs": [
    {
     "data": {
      "text/html": [
       "300.0"
      ],
      "text/plain": [
       "300.0"
      ]
     },
     "execution_count": 11,
     "metadata": {},
     "output_type": "execute_result"
    }
   ],
   "source": [
    "Ts[1]"
   ]
  },
  {
   "cell_type": "code",
   "execution_count": 12,
   "metadata": {
    "collapsed": false
   },
   "outputs": [],
   "source": [
    "#int=collect(0.01:0.001:0.5)\n",
    "#tauPH_ALL_A=Array{Float64}(length(int))\n",
    "#tauPH_ALL_A=tauPH_ALL(MSi,MGe,xsp,VSiGe(xsp),int,300.0,MSiGe(xsp),7728.0)#vSiGeL(xsp))\n",
    "#plot(int,tauPH_ALL_A,Linestyle=\"-\",Linewidth=\"2\",color=\"b\")\n",
    "#grid()"
   ]
  },
  {
   "cell_type": "code",
   "execution_count": 13,
   "metadata": {
    "collapsed": false
   },
   "outputs": [],
   "source": [
    "#1./tauPH_ALL_A"
   ]
  },
  {
   "cell_type": "code",
   "execution_count": 14,
   "metadata": {
    "collapsed": false,
    "scrolled": false
   },
   "outputs": [
    {
     "ename": "LoadError",
     "evalue": "MethodError: Cannot `convert` an object of type Tuple{Float64,Float64,Float64,Float64,Float64,Float64,Float64,Float64,Float64,Float64} to an object of type Float64\nThis may have arisen from a call to the constructor Float64(...),\nsince type constructors fall back to convert methods.",
     "output_type": "error",
     "traceback": [
      "MethodError: Cannot `convert` an object of type Tuple{Float64,Float64,Float64,Float64,Float64,Float64,Float64,Float64,Float64,Float64} to an object of type Float64\nThis may have arisen from a call to the constructor Float64(...),\nsince type constructors fall back to convert methods.",
      "",
      " in setindex!(::Array{Float64,1}, ::Tuple{Float64,Float64,Float64,Float64,Float64,Float64,Float64,Float64,Float64,Float64}, ::Int64) at ./array.jl:415",
      " in macro expansion; at ./In[14]:4 [inlined]",
      " in anonymous at ./<missing>:?"
     ]
    }
   ],
   "source": [
    "Tpp=collect(300.0:10:900)\n",
    "kl_A=Array{Float64}(length(Tpp))\n",
    "for (Ti,Tx) in enumerate(Tpp)\n",
    "    kl_A[Ti]=kl(tauPHTOTL,tauPHNL,tauPHRL,tauPHTOTTx,tauPHNTx,tauPHRTx,\n",
    "    tauPHTOTTy,tauPHNTy,tauPHRTy,\n",
    "    Tx,[7728.0,3760.0,3760.0])\n",
    "end\n",
    "#plot(Tpp,kl_A,Linestyle=\"-\",Linewidth=\"2\",color=\"b\")"
   ]
  },
  {
   "cell_type": "code",
   "execution_count": 15,
   "metadata": {
    "collapsed": false
   },
   "outputs": [
    {
     "data": {
      "image/png": "[encoded data removed]",
      "text/plain": [
       "PyPlot.Figure(PyObject <matplotlib.figure.Figure object at 0x7f1b672aa160>)"
      ]
     },
     "metadata": {},
     "output_type": "display_data"
    },
    {
     "data": {
      "text/plain": [
       "61-element Array{Float64,1}:\n",
       " 6.90487e-310\n",
       " 6.90487e-310\n",
       " 6.90487e-310\n",
       " 6.90487e-310\n",
       " 6.90487e-310\n",
       " 6.90487e-310\n",
       " 6.90487e-310\n",
       " 6.90487e-310\n",
       " 6.90487e-310\n",
       " 6.90487e-310\n",
       " 6.90487e-310\n",
       " 6.90487e-310\n",
       " 6.90487e-310\n",
       " ⋮           \n",
       " 6.90487e-310\n",
       " 6.90487e-310\n",
       " 6.90487e-310\n",
       " 6.90487e-310\n",
       " 6.90487e-310\n",
       " 6.90487e-310\n",
       " 6.90487e-310\n",
       " 6.90487e-310\n",
       " 6.90487e-310\n",
       " 6.90487e-310\n",
       " 6.90487e-310\n",
       " 6.90487e-310"
      ]
     },
     "execution_count": 15,
     "metadata": {},
     "output_type": "execute_result"
    }
   ],
   "source": [
    "plot(Tpp,kl_A,Linestyle=\"-\",Linewidth=\"2\",color=\"b\")\n",
    "grid()\n",
    "kl_A"
   ]
  },
  {
   "cell_type": "code",
   "execution_count": 16,
   "metadata": {
    "collapsed": false
   },
   "outputs": [
    {
     "data": {
      "text/plain": [
       "491-element Array{Float64,1}:\n",
       " 7.22257e-8 \n",
       " 5.96906e-8 \n",
       " 5.01567e-8 \n",
       " 4.27371e-8 \n",
       " 3.68498e-8 \n",
       " 3.21003e-8 \n",
       " 2.82132e-8 \n",
       " 2.49916e-8 \n",
       " 2.22919e-8 \n",
       " 2.00071e-8 \n",
       " 1.80564e-8 \n",
       " 1.63777e-8 \n",
       " 1.49227e-8 \n",
       " ⋮          \n",
       " 3.02047e-11\n",
       " 3.00815e-11\n",
       " 2.99591e-11\n",
       " 2.98374e-11\n",
       " 2.97165e-11\n",
       " 2.95963e-11\n",
       " 2.94769e-11\n",
       " 2.93581e-11\n",
       " 2.92401e-11\n",
       " 2.91228e-11\n",
       " 2.90062e-11\n",
       " 2.88903e-11"
      ]
     },
     "execution_count": 16,
     "metadata": {},
     "output_type": "execute_result"
    }
   ],
   "source": [
    "intx=collect(0.01:0.001:0.5)\n",
    "tauPH_NL_A=Array{Float64}(length(intx))\n",
    "tauPH_NL_A=tauPH_NL(gammaL,VSiGe(xsp),intx,500.0,MSiGe(xsp),7728.0)#vSiGeL(xsp))\n",
    "#plot(int,tauPH_NL_A,Linestyle=\"-\",Linewidth=\"2\",color=\"b\")\n",
    "#grid()"
   ]
  },
  {
   "cell_type": "code",
   "execution_count": 17,
   "metadata": {
    "collapsed": false
   },
   "outputs": [
    {
     "data": {
      "text/plain": [
       "(3.4831510747170037e-14,1.0081936138956332e-15,0.000328331413902214,9.357586356614964e-5,3.344285583578102e6,610287.2219243922,3.3099103958540748,1.5576799883572512,1.5576799883572512,6.425270372568576)"
      ]
     },
     "execution_count": 17,
     "metadata": {},
     "output_type": "execute_result"
    }
   ],
   "source": [
    "kl(tauPHTOTL,tauPHNL,tauPHRL,tauPHTOTTx,tauPHNTx,tauPHRTx,\n",
    "    tauPHTOTTy,tauPHNTy,tauPHRTy,\n",
    "    900.0,[7728.0,3760.0,3760.0])"
   ]
  },
  {
   "cell_type": "code",
   "execution_count": 18,
   "metadata": {
    "collapsed": false,
    "scrolled": false
   },
   "outputs": [],
   "source": [
    "#k=1\n",
    "#for tau in tauPH_NL_A\n",
    "    #print(\"$k  \")\n",
    "    #print(1./tau)\n",
    "    #print(\"\\n\")\n",
    "    #k=k+1\n",
    "#end"
   ]
  }
 ],
 "metadata": {
  "kernelspec": {
   "display_name": "Julia 0.5.1",
   "language": "julia",
   "name": "julia-0.5"
  },
  "language_info": {
   "file_extension": ".jl",
   "mimetype": "application/julia",
   "name": "julia",
   "version": "0.5.2"
  }
 },
 "nbformat": 4,
 "nbformat_minor": 0
}
