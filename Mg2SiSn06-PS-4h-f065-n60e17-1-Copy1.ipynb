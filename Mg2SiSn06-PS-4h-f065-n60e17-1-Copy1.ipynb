{
 "cells": [
  {
   "cell_type": "code",
   "execution_count": 1,
   "metadata": {},
   "outputs": [
    {
     "data": {
      "text/plain": [
       "kltSA (generic function with 1 method)"
      ]
     },
     "execution_count": 1,
     "metadata": {},
     "output_type": "execute_result"
    }
   ],
   "source": [
    "push!(LOAD_PATH,pwd())\n",
    "using ProfileView\n",
    "using constants\n",
    "using types10\n",
    "using Optim\n",
    "using PyPlot\n",
    "using data\n",
    "include(\"DOSfunctions.jl\")\n",
    "include(\"userfunctions.jl\")\n",
    "include(\"propertyfuncs.jl\")"
   ]
  },
  {
   "cell_type": "code",
   "execution_count": 2,
   "metadata": {},
   "outputs": [
    {
     "data": {
      "text/plain": [
       "3.0"
      ]
     },
     "execution_count": 2,
     "metadata": {},
     "output_type": "execute_result"
    }
   ],
   "source": [
    "Eoff=5.0\n",
    "Ts=collect(300.0:10.0:900.0)\n",
    "######################################################################################\n",
    "##for Liu x=0.6 best fit x=0.635 N=-1.45e20\n",
    "######################################################################################\n",
    "numofn=[-6.0e18]#,-1.22e18,-1.02e18,-0.94e18]#-9.5e19,-1.75e20,-3.0e19,-0.9e20]#Sample 1 -3.0e19, Sample 2 -1.25e20,\n",
    "numofnn=[1e17]#,1e18,1e18,1e18]\n",
    "#Sample 3 -1.75e20, Sample Sb 0.75% -1.03e20, #\n",
    "xs=[0.6]#,0.8,0.7,0.61]#collect(0.0:0.01:1.0)\n",
    "Es=collect(0.0:0.1:3.0)\n",
    "\n",
    "var0=[Ts[1],xs[1]]\n",
    "\n",
    "EX3(var)=Eoff#+Egx3(var[1],var[2])\n",
    "EX1(var)=Ec0(var[2])+EX3(var)\n",
    "ELH(var)=Eoff-Egx3(var[1],var[2])\n",
    "EHH(var)=Eoff-Egx3(var[1],var[2])\n",
    "\n",
    "effMassX1(var)=X1effMass(var[1])*me\n",
    "effMassX3(var)=0.38*me\n",
    "effMassLH(var)=-1.0*me\n",
    "effMassHH(var)=-1.5*me\n",
    "\n",
    "alphaX1(var)=0.0#EX1(var0)\n",
    "alphaX3(var)=0.0#EX1(var0)\n",
    "alphaLH(var)=0.0#EX3(var0)\n",
    "alphaHH(var)=0.0#EX3(var0)\n",
    "\n",
    "function Da(band::parBandTx,x::Float64)\n",
    "    Da=7.0#9.0-1.5*x*x\n",
    "    Dv=1.0\n",
    "    if band==bandX3 ||  band==bandX1\n",
    "        return Da\n",
    "    end\n",
    "    if band==bandHH ||  band==bandLH\n",
    "        return Dv\n",
    "    end\n",
    "end\n",
    "\n",
    "bandX3=parBandTx(true,1.0,effMassX3(var0),alphaX3(0.0),EX3(var0),[EX3],[effMassX3],[alphaX3],var0)\n",
    "bandX1=parBandTx(true,1.0,effMassX1(var0),alphaX1(0.0),EX1(var0),[EX1],[effMassX1],[alphaX1],var0)\n",
    "bandHH=parBandTx(true,1.0,effMassHH(var0),alphaHH(0.0),EHH(var0),[EHH],[effMassHH],[alphaHH],var0)\n",
    "bandLH=parBandTx(true,1.0,effMassLH(var0),alphaLH(0.0),ELH(var0),[ELH],[effMassLH],[alphaLH],var0)\n",
    "bndstTx=BandStrucTx([bandLH,bandHH,bandX1,bandX1,bandX1,bandX3,bandX3,bandX3],var0)#\n",
    "#bndstTx=BandStrucTx([bandLH,bandX1],var0)#\n",
    "\n",
    "#vartau0=[bandC.effMass,Ts[1],Ec(var0),xs[1],Ec(var0),bandC,numofn[1]*1e6,bndstTx,numofnn[1]*1e6,bandV]\n",
    "vartau0=[bandX3.effMass,Ts[1],EX1(var0),xs[1],EX1(var0),bandX3,numofn[1]*1e6,bndstTx,numofnn[1]*1e6,bandLH]\n",
    "#var array: var[1]: effMass , var[2]:T, var[3]:E, var[4]:x, var[5]:Ef, \n",
    "#var[6]:band, var[7]:NII var[8]:bndst\n",
    "#tauAC(var)=tauAC_func(Cl(var[4]),acPhDa(var[4]),var[2],var[1],var[3],var[6])\n",
    "tauAC(var)=tauAC_func(Cl(var[4]),Da(var[6],var[4]),var[2],var[1],var[3],var[6])\n",
    "tauPOP(var)=tauPOP_func(epsilon0_x(var[4]),epsilonhf_x(var[4]),var[6],var[5],var[2],var[1]\n",
    ",var[3],tauPOPIIint(var[5],var[2],var[4],var[6]),var[7],opPhE(var[4]),var[8])\n",
    "tauPOP2(var)=tauPOP2lowN_func(epsilon0_x(var[4]),epsilonhf_x(var[4]),var[6],var[5],var[2],var[1],\n",
    "var[3],opPhE(var[4]))\n",
    "tauPOP3(var)=tauPOP3_func(epsilon0_x(var[4]),epsilonhf_x(var[4]),var[6],var[5],var[2],var[1],\n",
    "var[3],opPhE(var[4]))\n",
    "tauII2(var)=tauII2_func(epsilon0_x(var[4]),epsilonhf_x(var[4]),var[6],var[5],var[2],var[7],var[1],var[3],var[8])\n",
    "tauNI(var)=tauNI_func(epsilon0_x(var[4]),var[1],var[9])\n",
    "tauTOTTx=tau_electron_B([tauAC,tauII2,tauNI,tauPOP3],vartau0)#,tauII2,tauPOP2,tauPOP3\n",
    "\n",
    "xmax=3.0"
   ]
  },
  {
   "cell_type": "code",
   "execution_count": 3,
   "metadata": {},
   "outputs": [
    {
     "name": "stdout",
     "output_type": "stream",
     "text": [
      " 39.055849 seconds (188.84 M allocations: 38.943 GiB, 10.97% gc time)\n"
     ]
    },
    {
     "data": {
      "text/plain": [
       "3.0"
      ]
     },
     "execution_count": 3,
     "metadata": {},
     "output_type": "execute_result"
    }
   ],
   "source": [
    "@time (Efs,sigmas,seebecks,kes,kees,kehs,kbis,sigmaes,sigmahs,seebeckes,seebeckhs)=electronicPropsiso(bndstTx,xs,Ts,numofn,numofnn,tauTOTTx,xmax)\n",
    "x=3.0"
   ]
  },
  {
   "cell_type": "code",
   "execution_count": 4,
   "metadata": {},
   "outputs": [
    {
     "name": "stdout",
     "output_type": "stream",
     "text": [
      "300.0 -0.029531574056464116\n",
      "310.0 -0.03230769843540848\n",
      "320.0 -0.03514390487297803\n",
      "330.0 -0.03803842053171369\n",
      "340.0 -0.0409895064154453\n",
      "350.0 -0.04399543108030901\n",
      "360.0 -0.047054431817016074\n",
      "370.0 -0.05016465871823961\n",
      "380.0 -0.05332409587233755\n",
      "390.0 -0.05653045270960977\n",
      "400.0 -0.05978101740577024\n",
      "410.0 -0.06307246346397477\n",
      "420.0 -0.06640060056823227\n",
      "430.0 -0.06976006219986441\n",
      "440.0 -0.07314392635180322\n",
      "450.0 -0.07654327337044986\n",
      "460.0 -0.07994669819792932\n",
      "470.0 -0.08333981462027129\n",
      "480.0 -0.086704816895252\n",
      "490.0 -0.09002019665358052\n",
      "500.0 -0.09326074216494717\n",
      "510.0 -0.09639795790228245\n",
      "520.0 -0.09940101482807773\n",
      "530.0 -0.10223825969308464\n",
      "540.0 -0.10487918007001884\n",
      "550.0 -0.10729656849903968\n",
      "560.0 -0.1094684825075749\n",
      "570.0 -0.11137972562272758\n",
      "580.0 -0.11302250899621757\n",
      "590.0 -0.11439628897038467\n",
      "600.0 -0.11550691243801658\n",
      "610.0 -0.1163653269110636\n",
      "620.0 -0.11698613202650687\n",
      "630.0 -0.11738619573983478\n",
      "640.0 -0.11758347367013666\n",
      "650.0 -0.1175960894002186\n",
      "660.0 -0.1174416751820555\n",
      "670.0 -0.11713693945867831\n",
      "680.0 -0.11669741467794026\n",
      "690.0 -0.1161373386549025\n",
      "700.0 -0.11546962893205315\n",
      "710.0 -0.11470591795945406\n",
      "720.0 -0.11385662511532946\n",
      "730.0 -0.11293104856334413\n",
      "740.0 -0.11193746541275384\n",
      "750.0 -0.11088323270637712\n",
      "760.0 -0.10977488465135998\n",
      "770.0 -0.10861822349612993\n",
      "780.0 -0.10741840278185055\n",
      "790.0 -0.10618000254993021\n",
      "800.0 -0.10490709661425779\n",
      "810.0 -0.10360331231351783\n",
      "820.0 -0.10227188332069126\n",
      "830.0 -0.10091569615505058\n",
      "840.0 -0.09953733105241547\n",
      "850.0 -0.09813909782548613\n",
      "860.0 -0.09672306730317004\n",
      "870.0 -0.09529109888594789\n",
      "880.0 -0.09384486469974274\n",
      "890.0 -0.09238587077700178\n",
      "900.0 -0.09091547564318692\n"
     ]
    }
   ],
   "source": [
    "foreach(x->println(Ts[x],\" \",Efs[x,1,1,]-Eoff),1:length(Ts))"
   ]
  },
  {
   "cell_type": "code",
   "execution_count": 5,
   "metadata": {},
   "outputs": [
    {
     "ename": "MethodError",
     "evalue": "MethodError: no method matching -(::Array{Float64,1}, ::Float64)\nClosest candidates are:\n  -(!Matched::Float64, ::Float64) at float.jl:397\n  -(!Matched::Complex{Bool}, ::Real) at complex.jl:298\n  -(!Matched::Missing, ::Number) at missing.jl:93\n  ...",
     "output_type": "error",
     "traceback": [
      "MethodError: no method matching -(::Array{Float64,1}, ::Float64)\nClosest candidates are:\n  -(!Matched::Float64, ::Float64) at float.jl:397\n  -(!Matched::Complex{Bool}, ::Real) at complex.jl:298\n  -(!Matched::Missing, ::Number) at missing.jl:93\n  ...",
      "",
      "Stacktrace:",
      " [1] top-level scope at In[5]:1"
     ]
    }
   ],
   "source": [
    "plot(Ts,Efs[:,1,1]-Eoff,linestyle=\"-\",marker=\"o\",color=\"c\")\n",
    "#ylim(0,7)\n",
    "grid()"
   ]
  },
  {
   "cell_type": "code",
   "execution_count": 6,
   "metadata": {},
   "outputs": [
    {
     "data": {
      "image/png": "[encoded data removed]",
      "text/plain": [
       "Figure(PyObject <matplotlib.figure.Figure object at 0x7f095ccc9940>)"
      ]
     },
     "metadata": {},
     "output_type": "display_data"
    }
   ],
   "source": [
    "plot(Ts,sigmaes[:,1,1]/100,linestyle=\"-\",marker=\"o\",color=\"c\")\n",
    "#ylim(0,7)\n",
    "grid()"
   ]
  },
  {
   "cell_type": "code",
   "execution_count": 7,
   "metadata": {},
   "outputs": [
    {
     "data": {
      "text/plain": [
       "61-element Array{Float64,1}:\n",
       " 300.0\n",
       " 310.0\n",
       " 320.0\n",
       " 330.0\n",
       " 340.0\n",
       " 350.0\n",
       " 360.0\n",
       " 370.0\n",
       " 380.0\n",
       " 390.0\n",
       " 400.0\n",
       " 410.0\n",
       " 420.0\n",
       "   ⋮  \n",
       " 790.0\n",
       " 800.0\n",
       " 810.0\n",
       " 820.0\n",
       " 830.0\n",
       " 840.0\n",
       " 850.0\n",
       " 860.0\n",
       " 870.0\n",
       " 880.0\n",
       " 890.0\n",
       " 900.0"
      ]
     },
     "execution_count": 7,
     "metadata": {},
     "output_type": "execute_result"
    }
   ],
   "source": [
    "Ts"
   ]
  },
  {
   "cell_type": "code",
   "execution_count": 8,
   "metadata": {},
   "outputs": [
    {
     "data": {
      "image/png": "[encoded data removed]",
      "text/plain": [
       "Figure(PyObject <matplotlib.figure.Figure object at 0x7f0932193048>)"
      ]
     },
     "metadata": {},
     "output_type": "display_data"
    }
   ],
   "source": [
    "plot(Ts,kbis[:,1,1],linestyle=\"-\",color=\"c\")\n",
    "#ylim(0,7)\n",
    "grid()"
   ]
  },
  {
   "cell_type": "code",
   "execution_count": 9,
   "metadata": {},
   "outputs": [
    {
     "data": {
      "image/png": "[encoded data removed]",
      "text/plain": [
       "Figure(PyObject <matplotlib.figure.Figure object at 0x7f095c771748>)"
      ]
     },
     "metadata": {},
     "output_type": "display_data"
    }
   ],
   "source": [
    "plot(Ts,seebecks[:,1,1]*1e6,linestyle=\"-\",color=\"c\")\n",
    "#plot(Ts,seebeckes[:,1,1]*1e6,linestyle=\"-\",color=\"y\")\n",
    "#plot(Ts,seebeckhs[:,1,1]*1e6,linestyle=\"-\",color=\"k\")\n",
    "#ylim(-250,-0)\n",
    "grid()"
   ]
  },
  {
   "cell_type": "code",
   "execution_count": 10,
   "metadata": {
    "scrolled": false
   },
   "outputs": [
    {
     "data": {
      "image/png": "[encoded data removed]",
      "text/plain": [
       "Figure(PyObject <matplotlib.figure.Figure object at 0x7f09290ae390>)"
      ]
     },
     "metadata": {},
     "output_type": "display_data"
    }
   ],
   "source": [
    "plot(Ts,sigmas[:,1,1]/100,linestyle=\"-\",color=\"c\")\n",
    "#ylim(0,3500)\n",
    "grid()"
   ]
  },
  {
   "cell_type": "code",
   "execution_count": 11,
   "metadata": {},
   "outputs": [],
   "source": [
    "T_EF_Dict=Dict()\n",
    "for (Ti,Tx) in enumerate(Ts)\n",
    "    T_EF_Dict[Tx]=(Efs[Ti])    \n",
    "end\n",
    "T_EF_Dict_Array=Array{Dict{Float64,Float64},2}(undef,length(numofn),length(xs))\n",
    "Dict_temp=Dict()\n",
    "Efsr=Array{Float64,3}(undef,length(Ts),length(numofn),length(xs))\n",
    "for (j,jn) in enumerate(numofn)\n",
    "    for (k,kx) in enumerate(xs) \n",
    "        for (i,iT) in enumerate(Ts)\n",
    "            Efsr[i,j,k]=Efs[i,j,k]-EX3(0.0)\n",
    "            Dict_temp[iT]=Efsr[i,j,k]\n",
    "            T_EF_Dict_Array[j,k]=Dict_temp \n",
    "        end\n",
    "    end\n",
    "end\n",
    "#foreach(i->println(\"$i= \",Ts[i]),1:length(Ts))\n",
    "#Efsr"
   ]
  },
  {
   "cell_type": "code",
   "execution_count": 12,
   "metadata": {},
   "outputs": [
    {
     "data": {
      "text/plain": [
       "1.0"
      ]
     },
     "execution_count": 12,
     "metadata": {},
     "output_type": "execute_result"
    }
   ],
   "source": [
    "#println(\"-1\")\n",
    "#############Lattice Thermal Conductivity Parameters###############\n",
    "\n",
    "function klpar(con::Float64,p::Float64,NP::Float64)\n",
    "    thetaL=52.3e12*hbar/kB # K \n",
    "    thetaT=29.7e12*hbar/kB  # K\n",
    "    vL=(1-con)*7700+con*4900    # m/s\n",
    "    vT=(1-con)*4900+con*3000    # m/s\n",
    "    gammaL=2.5*(1-con)+1.7*con\n",
    "    gammaT=2.5*(1-con)+1.7*con\n",
    "    M=(2*(24.305e-3)+(28.0855e-3*(1-con)+118.71e-3*con))/3/Nav\n",
    "    V=((1-con)*(6.39e-10)^3+con*(6.77e-10)^3)/12\n",
    "    a=V^(1.0/3.0)\n",
    "    ro=M/V\n",
    "    Vdj=(((6.39e-10)^3)/((1-con)*(6.39e-10)^3+con*(6.77e-10)^3))^(1/3)\n",
    "    jL=vL/7700*Vdj\n",
    "    jT=vT/4900*Vdj\n",
    "    thetaLx=thetaL*jL\n",
    "    thetaTx=thetaT*jT\n",
    "    ##########Boundary Scattering###############3\n",
    "    D=11e-9\n",
    "    #p=1.0\n",
    "    ##########Alloy Scattering###################\n",
    "    mbar=(28.0855*(1-con)+118.71*con)\n",
    "    GammaSiSn=(1-con)*((28.0855-mbar)/mbar)^2+con*((118.71-mbar)/mbar)^2\n",
    "    GammaMgSiSn=2*((mbar/(24.305+mbar))^2*GammaSiSn);         \n",
    "    ##########Electron Scattering###################\n",
    "    Eep=5.0*q\n",
    "    xsp=xs[1]\n",
    "    Tp=300.0\n",
    "    mdx1=0.67*me\n",
    "    mdx3=0.38*me\n",
    "    Efx3=0.2589\n",
    "    Efx1=0.2589\n",
    "    ##########Nanoparticle Scattering###################\n",
    "    #NP=0\n",
    "    #alpha=1.0\n",
    "    Rnp=1/2*15.0e-9#\n",
    "    Vnp=4/3*pi*(Rnp)^3\n",
    "    rhonp=NP/100/Vnp\n",
    "    rhoM=3.0\n",
    "    rhoT=3.78\n",
    "    alphaNP=0.2289#1-exp(-1*(rhoT-rhoM)/rhoM);\n",
    "#vartauPH0=[[0.02],Ts[1],gammaL,gammaT,xsp,thetaCLx,thetaCTx,thetaCTx,MSi,MGe,VSi,a,T_EF_Dict,0.0]\n",
    "    Tsindex=1#25\n",
    "    numberofnindex=1\n",
    "    xsindex=1\n",
    "    vartauPH0=[ [0.02],  Ts[1],   gammaL,  gammaT, con,#5\n",
    "        thetaLx, thetaTx, thetaTx, M,   M, #10\n",
    "        V, a, T_EF_Dict_Array, Eep, alphaNP, #15\n",
    "        Rnp, thetaLx, thetaTx, vL, vT, #20\n",
    "        vL, vT, p, NP,Tsindex,#25\n",
    "        numberofnindex,xsindex,p,D,GammaMgSiSn,#30\n",
    "        mdx1,mdx3,Efx1,Efx3,ro,#35,\n",
    "        NP,alphaNP,Rnp,Vnp,rhonp #40\n",
    "        ]  \n",
    "    thetaCLx=thetaCL(vartauPH0[12],vartauPH0[5],vartauPH0[17],vartauPH0[19],vartauPH0[11])\n",
    "    thetaCTx=thetaCT(vartauPH0[12],vartauPH0[5],vartauPH0[18],vartauPH0[19],vartauPH0[11])\n",
    "    #println(\"2\")\n",
    "    tauPHNLf(var)=tauPH_NL(var[3],var[11],var[1],var[2],var[9],var[21])\n",
    "    tauPHNTf(var)=tauPH_NT(var[4],var[11],var[1],var[2],var[9],var[22]) \n",
    "\n",
    "    tauPHULf(var)=tauPH_U(var[3],var[1],var[2],var[9],var[19],var[17])\n",
    "    tauPHUTf(var)=tauPH_U(var[4],var[1],var[2],var[9],var[20],var[18])\n",
    "\n",
    "    tauPHALLLf(var)=tauPH_ALL(var[30],var[11],var[1],var[2],var[19])\n",
    "    tauPHALLTf(var)=tauPH_ALL(var[30],var[11],var[1],var[2],var[20])\n",
    "\n",
    "    tauPHeLfX3(var)=tauPH_e(var[14],var[32],var[35],(var[13][var[26],var[27]])[var[2]],var[1],var[2],var[21])\n",
    "    tauPHeTfX3(var)=tauPH_e(var[14],var[32],var[35],(var[13][var[26],var[27]])[var[2]],var[1],var[2],var[22])\n",
    "\n",
    "    tauPHeLfX1(var)=tauPH_e(var[14],X1effMass(var[2])*me,var[35],(var[13][var[26],var[27]])[var[2]]-Ec0(0.6)\n",
    "        ,var[1],var[2],var[21])\n",
    "    tauPHeTfX1(var)=tauPH_e(var[14],X1effMass(var[2])*me,var[35],(var[13][var[26],var[27]])[var[2]]-Ec0(0.6)\n",
    "        ,var[1],var[2],var[22])\n",
    "\n",
    "    tauPHBLf(var)=tauPH_B(var[19],var[28],var[29])\n",
    "    tauPHBTf(var)=tauPH_B(var[20],var[28],var[29])\n",
    "    #println(\"3\")\n",
    "\n",
    "    tauPHNPLf(var)=tauPH_NP(var[37],var[40],var[38],var[1],var[2],var[19])\n",
    "    tauPHNPTf(var)=tauPH_NP(var[37],var[40],var[38],var[1],var[2],var[20])\n",
    "\n",
    "    tauPHTOTL=tau_phonon_B([tauPHNLf,tauPHULf,tauPHBLf,tauPHALLLf,tauPHeLfX3,tauPHeLfX1,tauPHNPLf],vartauPH0)#,tauPHNPLf,tauPHALLLf,tauPHeLf,tauPH_eLf ,tauPHALLLf ,tauPHBLf,,tauPHULf\n",
    "    tauPHNL=tau_phonon_B([tauPHNLf],vartauPH0)\n",
    "    tauPHRL=tau_phonon_B([tauPHULf,tauPHBLf,tauPHALLLf,tauPHeLfX3,tauPHeLfX1,tauPHNPLf],vartauPH0) #,tauPHNPLf,tauPHALLLf,tauPHeLf,tauPHALLLf,tauPH_eLf] ,tauPHBLf\n",
    "\n",
    "    tauPHTOTTx=tau_phonon_B([tauPHNTf,tauPHUTf,tauPHALLTf,tauPHeTfX3,tauPHeTfX1,tauPHBTf,tauPHNPTf],vartauPH0) #,tauPHNPTf,tauPHALLTf,tauPHeTf,tauPHALLTf,tauPH_eTf ,tauPHBTf\n",
    "    tauPHNTx=tau_phonon_B([tauPHNTf],vartauPH0)\n",
    "    tauPHRTx=tau_phonon_B([tauPHUTf,tauPHALLTf,tauPHeTfX3,tauPHeTfX1,tauPHBTf,tauPHNPTf],vartauPH0) #,tauPHNPTf,tauPHALLTf,tauPHeTf,tauPHALLTf,tauPH_eTf ,tauPHBTf#\n",
    "\n",
    "    tauPHTOTTy=tau_phonon_B([tauPHNTf,tauPHUTf,tauPHBTf,tauPHALLTf,tauPHeTfX3,tauPHeTfX1,tauPHNPTf],vartauPH0) #,tauPHNPTf,tauPHALLTf,tauPHeTf,tauPHALLTf,tauPH_eTf tauPHBTf\n",
    "    tauPHNTy=tau_phonon_B([tauPHNTf],vartauPH0)\n",
    "    tauPHRTy=tau_phonon_B([tauPHUTf,tauPHBTf,tauPHALLTf,tauPHeTfX3,tauPHeTfX1,tauPHNPTf],vartauPH0) #,tauPHNPTf,tauPHALLTf,tauPH_eTf ,tauPHBTf,tauPHALLTf,tauPHeTf\n",
    "    #println(\"4\")\n",
    "    tauPHL=[tauPHTOTL,tauPHNL,tauPHRL]\n",
    "    tauPHTx=[tauPHTOTTx,tauPHNTx,tauPHRTx]\n",
    "    tauPHTy=[tauPHTOTTx,tauPHNTx,tauPHRTx]\n",
    "    return (vartauPH0,tauPHTOTL,tauPHNL,tauPHRL,tauPHTOTTx,tauPHNTx,tauPHRTx,tauPHTOTTy,tauPHNTy,tauPHRTy,tauPHL,tauPHTx,tauPHTy)\n",
    "end\n",
    "xmax=1.0"
   ]
  },
  {
   "cell_type": "code",
   "execution_count": 13,
   "metadata": {},
   "outputs": [],
   "source": [
    "(vartauPH0,tauPHTOTL,tauPHNL,tauPHRL,tauPHTOTTx,tauPHNTx,tauPHRTx,tauPHTOTTy,tauPHNTy,tauPHRTy,tauPHL,tauPHTx,tauPHTy)=klpar(0.6,0.65,0.0)\n",
    "klsM=Array{Float64}(undef,length(Ts),length(numofn),length(xs))\n",
    "for (iT,iTx) in enumerate(Ts)    \n",
    "   (IL1,ITx1,IL2,ITx2,IL3,ITx3,kL,kTx,kTy,klsM[iT,1,1])= klt(tauPHTOTL,tauPHNL,tauPHRL,tauPHTOTTx,tauPHNTx,tauPHRTx,tauPHTOTTy,tauPHNTy,\n",
    "        tauPHRTy,iTx,[vartauPH0[21],vartauPH0[22],vartauPH0[22]])\n",
    "    #println(\"T=\", iTx, \" kl= \" ,round(klsM[iT,1,1]*10000)/10000)\n",
    "   # println(\"IL1= \",IL1,\" IL2= \",IL2,\" IL3= \",IL3,\" ITx1= \",ITx1,\" ITx2= \",ITx2,\" ITx3= \",ITx3,\" kL/3=\",kL,    \" kTx/3=\",kTx,\" kTy/3=\",kTy)\n",
    "end"
   ]
  },
  {
   "cell_type": "code",
   "execution_count": 14,
   "metadata": {},
   "outputs": [
    {
     "name": "stdout",
     "output_type": "stream",
     "text": [
      "0.8538398211514554\n",
      "0.8371284250432408\n",
      "0.821059035172464\n",
      "0.8056212966940256\n",
      "0.7908023190712314\n",
      "0.7765872001746293\n",
      "0.7629594553009857\n",
      "0.749901376047705\n",
      "0.737394335716273\n",
      "0.7254190522929536\n",
      "0.7139558163427521\n",
      "0.7029846887858954\n",
      "0.6924856720753181\n",
      "0.6824388574448066\n",
      "0.6728245504282023\n",
      "0.6636233766078766\n",
      "0.6548163694343184\n",
      "0.6463850419021799\n",
      "0.6383114438284213\n",
      "0.6305782064251341\n",
      "0.6231685757700504\n",
      "0.6160664366343895\n",
      "0.6092563279252338\n",
      "0.6027234507553482\n",
      "0.5964536699237883\n",
      "0.590433509421218\n",
      "0.5846501424353644\n",
      "0.5790913768373538\n",
      "0.5737456367305458\n",
      "0.5686019412240718\n",
      "0.5636498814215063\n",
      "0.5588795965098875\n",
      "0.5542817496140076\n",
      "0.5498475038499482\n",
      "0.5455684988251583\n",
      "0.5414368277094542\n",
      "0.5374450149349638\n",
      "0.5335859945547008\n",
      "0.5298530892813212\n",
      "0.5262399902271194\n",
      "0.5227407373667489\n",
      "0.5193497007428106\n",
      "0.5160615624308617\n",
      "0.5128712992751886\n",
      "0.5097741664005767\n",
      "0.5067656814990523\n",
      "0.5038416098846435\n",
      "0.5009979503039231\n",
      "0.49823092148559267\n",
      "0.4955369494087034\n",
      "0.4929126552662362\n",
      "0.4903548440986158\n",
      "0.48786049407025006\n",
      "0.48542674636123384\n",
      "0.48305089564588166\n",
      "0.4807303811296669\n",
      "0.478462778116358\n",
      "0.4762457900776083\n",
      "0.4740772411979128\n",
      "0.4719550693686589\n",
      "0.46987731960589346\n"
     ]
    }
   ],
   "source": [
    "foreach(x->println(klsM[x,1,1]),1:length(Ts))"
   ]
  },
  {
   "cell_type": "code",
   "execution_count": 15,
   "metadata": {},
   "outputs": [
    {
     "data": {
      "image/png": "[encoded data removed]",
      "text/plain": [
       "Figure(PyObject <matplotlib.figure.Figure object at 0x7f095c785860>)"
      ]
     },
     "metadata": {},
     "output_type": "display_data"
    }
   ],
   "source": [
    "plot(Ts,klsM[:,1,1],linestyle=\"-\",color=\"b\")\n",
    "grid()"
   ]
  },
  {
   "cell_type": "code",
   "execution_count": 16,
   "metadata": {},
   "outputs": [],
   "source": [
    "(vartauPH0,tauPHTOTL,tauPHNL,tauPHRL,tauPHTOTTx,tauPHNTx,tauPHRTx,tauPHTOTTy,tauPHNTy,tauPHRTy,tauPHL,tauPHTx,tauPHTy)=klpar(0.0,0.65,0.0)\n",
    "kls0=Array{Float64}(undef,length(Ts),length(numofn),length(xs))\n",
    "for (iT,iTx) in enumerate(Ts)    \n",
    "   (IL1,ITx1,IL2,ITx2,IL3,ITx3,kL,kTx,kTy,kls0[iT,1,1])= klt(tauPHTOTL,tauPHNL,tauPHRL,tauPHTOTTx,tauPHNTx,tauPHRTx,tauPHTOTTy,tauPHNTy,tauPHRTy,iTx,[vartauPH0[21],vartauPH0[22],vartauPH0[22]])\n",
    "    #println(\"T=\", iTx, \" kl= \" ,round(kls0[iT,1,1]*10000)/10000)\n",
    "    #println(\"IL1= \",IL1,\" IL2= \",IL2,\" IL3= \",IL3,\" ITx1= \",ITx1,\" ITx2= \",ITx2,\" ITx3= \",ITx3,\" kL/3=\",kL,    \" kTx/3=\",kTx,\" kTy/3=\",kTy)\n",
    "end"
   ]
  },
  {
   "cell_type": "code",
   "execution_count": 17,
   "metadata": {},
   "outputs": [
    {
     "name": "stdout",
     "output_type": "stream",
     "text": [
      "5.760509018548713\n",
      "5.614984760071162\n",
      "5.475085557181299\n",
      "5.340643413994396\n",
      "5.211472058688144\n",
      "5.087374158173161\n",
      "4.968146736275572\n",
      "4.853585213970708\n",
      "4.743486392036698\n",
      "4.637650621983392\n",
      "4.535883354376861\n",
      "4.437996210348099\n",
      "4.343807688884436\n",
      "4.253143597015617\n",
      "4.165837270395296\n",
      "4.081729636668282\n",
      "4.000669162365059\n",
      "3.9225117150826034\n",
      "3.84712036577343\n",
      "3.774365150565425\n",
      "3.7041228072400325\n",
      "3.6362764979250373\n",
      "3.570715526406987\n",
      "3.5073350555729097\n",
      "3.4460358279486836\n",
      "3.386723890260703\n",
      "3.329310321231903\n",
      "3.2737109640028588\n",
      "3.219846162272216\n",
      "3.1676405027109698\n",
      "3.117022565939557\n",
      "3.0679246884914035\n",
      "3.020282737567871\n",
      "2.974035899500881\n",
      "2.929126482005877\n",
      "2.885499729710478\n",
      "2.8431036521152433\n",
      "2.8018888630266954\n",
      "2.761808430518402\n",
      "2.722817736555397\n",
      "2.6848743455160125\n",
      "2.647937880939742\n",
      "2.6119699099106195\n",
      "2.5769338345512756\n",
      "2.5427947901551606\n",
      "2.509519549526171\n",
      "2.4770764331290853\n",
      "2.4454352246827527\n",
      "2.4145670918527937\n",
      "2.384444511722586\n",
      "2.3550412007414203\n",
      "2.3263320488672856\n",
      "2.298293057639171\n",
      "2.2709012819301218\n",
      "2.2441347751478244\n",
      "2.2179725376640795\n",
      "2.1923944682683985\n",
      "2.167381318454023\n",
      "2.1429146493570004\n",
      "2.1189767911805415\n",
      "2.095550804947847\n"
     ]
    }
   ],
   "source": [
    "foreach(x->println(kls0[x,1,1]),1:length(Ts))"
   ]
  },
  {
   "cell_type": "code",
   "execution_count": 18,
   "metadata": {},
   "outputs": [],
   "source": [
    "(vartauPH0,tauPHTOTL,tauPHNL,tauPHRL,tauPHTOTTx,tauPHNTx,tauPHRTx,tauPHTOTTy,tauPHNTy,tauPHRTy,tauPHL,tauPHTx,tauPHTy)=klpar(1.0,0.5,0.0)\n",
    "kls1=Array{Float64}(undef,length(Ts),length(numofn),length(xs))\n",
    "for (iT,iTx) in enumerate(Ts)    \n",
    "   (IL1,ITx1,IL2,ITx2,IL3,ITx3,kL,kTx,kTy,kls1[iT,1,1])= klt(tauPHTOTL,tauPHNL,tauPHRL,tauPHTOTTx,tauPHNTx,tauPHRTx,tauPHTOTTy,tauPHNTy,tauPHRTy,iTx,[vartauPH0[21],vartauPH0[22],vartauPH0[22]])\n",
    "   # println(\"T=\", iTx, \" kl= \" ,round(kls1[iT,1,1]*10000)/10000)\n",
    "   # println(\"IL1= \",IL1,\" IL2= \",IL2,\" IL3= \",IL3,\" ITx1= \",ITx1,\" ITx2= \",ITx2,\" ITx3= \",ITx3,\" kL/3=\",kL,    \" kTx/3=\",kTx,\" kTy/3=\",kTy)\n",
    "end"
   ]
  },
  {
   "cell_type": "code",
   "execution_count": 19,
   "metadata": {},
   "outputs": [
    {
     "name": "stdout",
     "output_type": "stream",
     "text": [
      "3.3260287836998628\n",
      "3.273888921818228\n",
      "3.2230758368904007\n",
      "3.173573591184581\n",
      "3.1253604193021878\n",
      "3.0784102767138326\n",
      "3.0326940493217744\n",
      "2.988180498800709\n",
      "2.944837001100805\n",
      "2.902630122408478\n",
      "2.8615260669349496\n",
      "2.8214910233319426\n",
      "2.7824914307304027\n",
      "2.744494180931593\n",
      "2.707466769835037\n",
      "2.671377408532299\n",
      "2.636195102457401\n",
      "2.60188970543297\n",
      "2.5684319542784597\n",
      "2.5357934887522364\n",
      "2.5039468608733166\n",
      "2.4728655369852826\n",
      "2.4425238951600172\n",
      "2.4128972196143685\n",
      "2.3839616927952787\n",
      "2.3556943847999308\n",
      "2.3280732387773218\n",
      "2.3010770523243513\n",
      "2.27468545351016\n",
      "2.248878872503405\n",
      "2.2236385099459084\n",
      "2.1989463036551933\n",
      "2.174784895145708\n",
      "2.151137597080813\n",
      "2.127988362309575\n",
      "2.1053217547523464\n",
      "2.0831229221369836\n",
      "2.06137757044875\n",
      "2.040071939906795\n",
      "2.0191927822820106\n",
      "1.9987273393963456\n",
      "1.9786633226755006\n",
      "1.95898889365607\n",
      "1.9396926453719556\n",
      "1.9207635845622428\n",
      "1.9021911146550081\n",
      "1.88396501948972\n",
      "1.866075447746079\n",
      "1.8485128980505532\n",
      "1.8312682047337496\n",
      "1.81433252421317\n",
      "1.7976973219765588\n",
      "1.7813543601417123\n",
      "1.7652956855690636\n",
      "1.749513618503844\n",
      "1.7340007417250565\n",
      "1.7187498901790892\n",
      "1.7037541410763044\n",
      "1.6890068044296305\n",
      "1.6745014140147736\n",
      "1.6602317187324278\n"
     ]
    }
   ],
   "source": [
    "foreach(x->println(kls1[x,1,1]),1:length(Ts))"
   ]
  },
  {
   "cell_type": "code",
   "execution_count": 20,
   "metadata": {},
   "outputs": [
    {
     "data": {
      "image/png": "[encoded data removed]",
      "text/plain": [
       "Figure(PyObject <matplotlib.figure.Figure object at 0x7f09290c3be0>)"
      ]
     },
     "metadata": {},
     "output_type": "display_data"
    }
   ],
   "source": [
    "plot(Ts,klsM[:,1,1],linestyle=\"-\",color=\"b\")\n",
    "plot(Ts,kls0[:,1,1],linestyle=\"-\",color=\"r\")\n",
    "\n",
    "plot(Ts,kls1[:,1,1],linestyle=\"-\",color=\"k\")\n",
    "grid()"
   ]
  },
  {
   "cell_type": "code",
   "execution_count": 21,
   "metadata": {},
   "outputs": [
    {
     "data": {
      "text/plain": [
       "6.77e-10"
      ]
     },
     "execution_count": 21,
     "metadata": {},
     "output_type": "execute_result"
    }
   ],
   "source": [
    "yaa=0.6\n",
    "aMgSi=6.39e-10\n",
    "aMgSn=6.77e-10"
   ]
  },
  {
   "cell_type": "code",
   "execution_count": 22,
   "metadata": {},
   "outputs": [],
   "source": [
    "ks=Array{Float64}(undef,length(Ts),length(numofn),length(xs))\n",
    "klsT=Array{Float64}(undef,length(Ts),length(numofn),length(xs))\n",
    "f=0.65\n",
    "for (iT,iTx) in enumerate(Ts)  \n",
    "    klsT[iT,1,1]=(1-f)*klsM[iT,1,1]+f*(kls1[iT,1,1]*(1-yaa)aMgSn^3/((1-yaa)*aMgSn^3+yaa*aMgSi^3)+kls0[iT,1,1]*(yaa)aMgSi^3/((1-yaa)*aMgSn^3+yaa*aMgSi^3))\n",
    "       ks[iT,1,1]=klsT[iT,1,1]+kes[iT,1,1]+kbis[iT,1,1,] \n",
    "    #println(\"T=\", iTx, \" kl= \" ,round(klsT[iT,1,1]*10000)/10000)\n",
    "    #println(\"IL1= \",IL1,\" IL2= \",IL2,\" IL3= \",IL3,\" ITx1= \",ITx1,\" ITx2= \",ITx2,\" ITx3= \",ITx3,\" kL/3=\",kL,    \" kTx/3=\",kTx,\" kTy/3=\",kTy)\n",
    "end"
   ]
  },
  {
   "cell_type": "code",
   "execution_count": 23,
   "metadata": {},
   "outputs": [
    {
     "data": {
      "text/plain": [
       "5-element Array{Float64,1}:\n",
       " 7.16256157635468\n",
       " 5.26108374384236\n",
       " 4.14778325123153\n",
       " 3.38916256157635\n",
       " 2.89655172413793"
      ]
     },
     "execution_count": 23,
     "metadata": {},
     "output_type": "execute_result"
    }
   ],
   "source": [
    "MgSn_KL_T=[303.381209787804   ,404.509621648526   ,508.944674606021   ,609.64854815216    ,715.169193157614]\n",
    "MgSn_KL_K=[ 7.16256157635468, 5.26108374384236, 4.14778325123153, 3.38916256157635, 2.89655172413793]"
   ]
  },
  {
   "cell_type": "code",
   "execution_count": 24,
   "metadata": {},
   "outputs": [
    {
     "data": {
      "image/png": "[encoded data removed]",
      "text/plain": [
       "Figure(PyObject <matplotlib.figure.Figure object at 0x7f096c82a4e0>)"
      ]
     },
     "metadata": {},
     "output_type": "display_data"
    }
   ],
   "source": [
    "figure()\n",
    "#semilogy(Ts,kls[:,1,1],linestyle=\"-\",color=\"c\")\n",
    "#plot(Ts,kls0[:,1,1],linestyle=\"-\",color=\"b\")\n",
    "#plot(Ts,kls1[:,1,1],linestyle=\"-\",color=\"c\")\n",
    "#plot(Ts,klsM[:,1,1],linestyle=\"-\",color=\"k\")\n",
    "plot(Ts,klsT[:,1,1]+kes[:,1,1]+kbis[:,1,1],linestyle=\"-\",color=\"r\")\n",
    "#ylim(0,4.5)\n",
    "grid(true)\n",
    "#kes,kees,kehs,kbis"
   ]
  },
  {
   "cell_type": "code",
   "execution_count": 25,
   "metadata": {},
   "outputs": [
    {
     "data": {
      "text/plain": [
       "9-element Array{Float64,1}:\n",
       "  1.6\n",
       "  1.7\n",
       "  3.8\n",
       "  7.8\n",
       " 12.2\n",
       " 25.6\n",
       " 40.8\n",
       " 68.0\n",
       " 62.0"
      ]
     },
     "execution_count": 25,
     "metadata": {},
     "output_type": "execute_result"
    }
   ],
   "source": [
    "MgSiSn4hECE=[10,12.4,20.5,35.8,43.2,69.6,82.8,100,110]\n",
    "MgSiSn2hECE=[3,4.4,8.5,15.8,22.2,55.6,50.8,68,80]\n",
    "MgSiSn1hECE=[2,4.2,3.7,11.8,22.2,25.6,30.8,48,64]\n",
    "MgSiSn0hECE=[1.6,1.7,3.8,7.8,12.2,25.6,40.8,68,62]"
   ]
  },
  {
   "cell_type": "code",
   "execution_count": 26,
   "metadata": {},
   "outputs": [
    {
     "data": {
      "text/plain": [
       "9-element Array{Float64,1}:\n",
       " 2.1168755981\n",
       " 2.0268355263\n",
       " 1.9150855263\n",
       " 1.8140986842\n",
       " 1.7209888158\n",
       " 1.8544934211\n",
       " 1.9231644737\n",
       " 2.0605065789\n",
       " 2.1816907895"
      ]
     },
     "execution_count": 26,
     "metadata": {},
     "output_type": "execute_result"
    }
   ],
   "source": [
    "MgSiSn4hKCT=[27.204980536447565,125.22263104569937,250.3986028902043, 300.61256865568174,350.4225990508186, 400.31661600810537,\n",
    "450.60323681544304,500.88852450274595,550.37460672959,]\n",
    "MgSiSn4hKCK=[ 2.8789473684210525, 2.7375, 2.609210526315789, 2.5121710526315786, 2.4184210526315786, 2.531907894736842, 2.614144736842105\n",
    ", 2.6930921052631573, 2.7999999999999994]\n",
    "MgSiSn2hKCT=[27.174994546327184, 125.66321921825845, 250.56521889830958, 300.8030294412153, 350.04276302458277,400.3366068836394, \n",
    "450.6409643790327, 500.95101524496823,550.7594666065552]\n",
    "MgSiSn2hKCK=[2.608956937799043, 2.4846513157894736, 2.4523355263157893, 2.3861330409356722, 2.3131756578947367\n",
    ", 2.385235380116959, 2.4832374999999995, 2.595288011695906, 2.697641746411483]\n",
    "MgSiSn05hKCT=[26.1867119039,124.6184700145,249.7991072943,300.1809590466,349.8324946796,399.3641637338,450.1016014407,\n",
    "450.7811561579,549.7232004091,500.4092678505]\n",
    "MgSiSn05hKCK=[2.4217028509,2.3627326555,2.2459551435,2.1025076754,2.0223385167,2.2370652412,2.3803594498,2.302875,\n",
    "2.5966549043,2.5105263158]\n",
    "MgSiSn2h2TiO2KCT=[450.7811561579,26.5677491601,125.429931211,250.6172345758,300.4185996907,350.6278995361,\n",
    "400.1639737642,500.3759398496,550.2639577668]\n",
    "MgSiSn2h2TiO2KCK=[2.302875,2.3065789474,2.2490131579,2.1486842105,2.0335526316,1.925,2.1552631579,2.4282894737,\n",
    "2.5269736842]\n",
    "MgSiSn2h5TiO2KCT=[27.3549565403,124.5907321495,250.1753052845,299.9806697595,350.1926358449,400.1339785634,\n",
    "450.0339945609,500.3299472084,550.6152348958]\n",
    "MgSiSn2h5TiO2KCK=[2.2490131579,2.1782894737,2.0582236842,1.9529605263,1.8509868421,2.08125,2.2095394737,2.3148026316,\n",
    "2.39375]\n",
    "MgSiSn0hKCT=[26.9755694846,125.1437396683,250.3474884019,300.0735322348,349.8027683571,400.6191835973,449.916314723,\n",
    "500.2366154749,550.052698235]\n",
    "MgSiSn0hKCK=[2.1168755981,2.0268355263,1.9150855263,1.8140986842,1.7209888158,1.8544934211,1.9231644737,2.0605065789,\n",
    "2.1816907895]"
   ]
  },
  {
   "cell_type": "code",
   "execution_count": 27,
   "metadata": {},
   "outputs": [
    {
     "data": {
      "image/png": "[encoded data removed]",
      "text/plain": [
       "Figure(PyObject <matplotlib.figure.Figure object at 0x7f096c860160>)"
      ]
     },
     "metadata": {},
     "output_type": "display_data"
    },
    {
     "data": {
      "image/png": "[encoded data removed]",
      "text/plain": [
       "Figure(PyObject <matplotlib.figure.Figure object at 0x7f09283ada58>)"
      ]
     },
     "metadata": {},
     "output_type": "display_data"
    }
   ],
   "source": [
    "\n",
    "figure()\n",
    "plot(Ts,sigmas[:,1,1]/100,linestyle=\"-\",color=\"b\")\n",
    "#plot(Ts,sigmas[:,2,2]/100/6^(2/3),linestyle=\"-\",color=\"r\")\n",
    "#plot(Ts,sigmas[:,3,3]/100/6^(2/3),linestyle=\"-\",color=\"k\")\n",
    "#plot(Ts,sigmas[:,4,4]/100/6^(2/3),linestyle=\"-\",color=\"g\")\n",
    "plot(MgSiSn4hKCT .+273,MgSiSn4hECE,linestyle=\"None\",marker=\".\",markersize=10,color=\"r\")\n",
    "#plot(MgSiSn4hKCT .+273,MgSiSn2hECE,linestyle=\"None\",marker=\".\",markersize=10,color=\"k\")\n",
    "#plot(MgSiSn4hKCT .+273,MgSiSn1hECE,linestyle=\"None\",marker=\".\",markersize=10,color=\"b\")\n",
    "#plot(MgSiSn4hKCT .+273,MgSiSn0hECE,linestyle=\"None\",marker=\".\",markersize=10,color=\"g\")\n",
    "#plot(SiGe_Suin_EC_T,SiGe_Suin_Green_EC_E/100,linestyle=\"None\",marker=\"x\",markersize=2,color=\"g\")\n",
    "#plot(SiGe_Suin_EC_T,SiGe_Suin_Blue_EC_E/100,linestyle=\"None\",marker=\"o\",markersize=2,color=\"b\")\n",
    "#plot(SiGe_Suin_EC_T,SiGe_Suin_Pink_EC_E/100,linestyle=\"None\",marker=\"o\",markersize=2,color=\"r\")\n",
    "#plot(SiGe_Suin_EC_T,SiGe_Suin_Black_EC_E/100,linestyle=\"None\",marker=\"o\",markersize=2,color=\"k\")\n",
    "grid()\n",
    "\n",
    "figure()\n",
    "plot(Ts,-seebecks[:,1,1]*1e6,linestyle=\"-\",color=\"b\")\n",
    "#plot(Ts,-seebecks[:,2,2]*1e6,linestyle=\"-\",color=\"r\")\n",
    "#plot(Ts,-seebecks[:,3,3]*1e6,linestyle=\"-\",color=\"k\")\n",
    "#plot(Ts,-seebecks[:,4,4]*1e6,linestyle=\"-\",color=\"g\")\n",
    "#plot(Ts,-seebecks[:,2,2]*1e6,linestyle=\"-\",color=\"b\")\n",
    "#plot(SiGe_Vin_162_Bulk_SC_T,SiGe_Vin_162_Bulk_SC_S,linestyle=\"None\",marker=\".\",markersize=10,color=\"r\")\n",
    "#plot(SiGe_Suin_EC_T,-SiGe_Suin_Green_SC_S,linestyle=\"None\",marker=\"x\",markersize=2,color=\"g\")\n",
    "#plot(SiGe_Suin_EC_T,-SiGe_Suin_Blue_SC_S,linestyle=\"None\",marker=\"x\",markersize=2,color=\"b\")\n",
    "#plot(SiGe_Suin_EC_T,-SiGe_Suin_Pink_SC_S,linestyle=\"None\",marker=\"x\",markersize=2,color=\"r\")\n",
    "#plot(SiGe_Suin_EC_T,-SiGe_Suin_Black_SC_S,linestyle=\"None\",marker=\"x\",markersize=2,color=\"k\")\n",
    "grid()"
   ]
  },
  {
   "cell_type": "code",
   "execution_count": 28,
   "metadata": {},
   "outputs": [
    {
     "data": {
      "image/png": "[encoded data removed]",
      "text/plain": [
       "Figure(PyObject <matplotlib.figure.Figure object at 0x7f092836f390>)"
      ]
     },
     "metadata": {},
     "output_type": "display_data"
    },
    {
     "name": "stderr",
     "output_type": "stream",
     "text": [
      "No handles with labels found to put in legend.\n"
     ]
    }
   ],
   "source": [
    "figure()\n",
    "title(\"k\")\n",
    "plot(Ts,klsT[:,1,1]+kes[:,1,1]+kbis[:,1,1],linestyle=\"-\",color=\"r\")\n",
    "#plot(Ts,klsT[:,1,1]+kes[:,1,1]+kbis[:,1,1],linestyle=\"-\",color=\"r\")\n",
    "#plot(Ts,klsT[:,1,1]+kes[:,1,1]+kbis[:,1,1],linestyle=\"-\",color=\"r\")\n",
    "#plot(Ts,klsT[:,1,1]+kes[:,1,1]+kbis[:,1,1],linestyle=\"-\",color=\"r\")\n",
    "plot(MgSiSn4hKCT .+273,MgSiSn4hKCK,linestyle=\"None\",marker=\"o\",markersize=7,color=\"k\")\n",
    "#plot(MgSiSn2hKCT .+273,MgSiSn2hKCK,linestyle=\"None\",marker=\"^\",markersize=7,color=\"b\")\n",
    "#plot(MgSiSn05hKCT .+273,MgSiSn05hKCK,linestyle=\"None\",marker=\"D\",markersize=7,color=\"g\")\n",
    "#plot(MgSiSn2h2TiO2KCT  .+273,MgSiSn2h2TiO2KCK,linestyle=\"None\",marker=\"8\",markersize=7,color=\"tab:pink\")\n",
    "#plot(MgSiSn2h5TiO2KCT .+273,MgSiSn2h5TiO2KCK,linestyle=\"None\",marker=\"*\",markersize=7,color=\"tab:purple\")\n",
    "#plot(MgSiSn0hKCT .+273,MgSiSn0hKCK,linestyle=\"None\",marker=\"s\",markersize=7,color=\"r\",label=\"4 h\")\n",
    "#plot(SiGe_SA_162_Bulk_KC_T,SiGe_SA_162_Bulk_KC_KL,linestyle=\"None\",marker=\"o\",markersize=7,color=\"b\")\n",
    "#plot(SiGe_SA_162_Bulk_KC_T2,SiGe_SA_162_Bulk_KC_K2,linestyle=\"None\",marker=\"o\",markersize=7,color=\"g\")\n",
    "legend(loc=\"upper left\")\n",
    "#ylim(1.5,5.0)\n",
    "grid()"
   ]
  },
  {
   "cell_type": "code",
   "execution_count": 29,
   "metadata": {
    "scrolled": false
   },
   "outputs": [
    {
     "data": {
      "text/plain": [
       "61-element Array{Float64,1}:\n",
       " 300.0\n",
       " 310.0\n",
       " 320.0\n",
       " 330.0\n",
       " 340.0\n",
       " 350.0\n",
       " 360.0\n",
       " 370.0\n",
       " 380.0\n",
       " 390.0\n",
       " 400.0\n",
       " 410.0\n",
       " 420.0\n",
       "   ⋮  \n",
       " 790.0\n",
       " 800.0\n",
       " 810.0\n",
       " 820.0\n",
       " 830.0\n",
       " 840.0\n",
       " 850.0\n",
       " 860.0\n",
       " 870.0\n",
       " 880.0\n",
       " 890.0\n",
       " 900.0"
      ]
     },
     "execution_count": 29,
     "metadata": {},
     "output_type": "execute_result"
    }
   ],
   "source": [
    "Ts"
   ]
  },
  {
   "cell_type": "code",
   "execution_count": 30,
   "metadata": {},
   "outputs": [
    {
     "name": "stdout",
     "output_type": "stream",
     "text": [
      "3.4315345086802216\n",
      "3.357504064316603\n",
      "3.286058204803455\n",
      "3.217144587953005\n",
      "3.150704353964538\n",
      "3.086677411314508\n",
      "3.025007651837526\n",
      "2.9656484447571505\n",
      "2.9085687268143436\n",
      "2.853759972201464\n",
      "2.8012442816522602\n",
      "2.7510837610524934\n",
      "2.703395669937423\n",
      "2.658353050827563\n",
      "2.6162061377798946\n",
      "2.5772951177036556\n",
      "2.5420592963800557\n",
      "2.5110449193791546\n",
      "2.484905897560721\n",
      "2.4643939615136876\n",
      "2.4503345820052846\n",
      "2.443586301725228\n",
      "2.444984255530328\n",
      "2.4552734733724315\n",
      "2.475042773865353\n",
      "2.504673228554604\n",
      "2.5443136457519953\n",
      "2.593889507308321\n",
      "2.6531419047474762\n",
      "2.7216854344918886\n",
      "2.79907065658659\n",
      "2.885898443620956\n",
      "2.980330380622231\n",
      "3.0822200548997793\n",
      "3.1913207211312313\n",
      "3.3073982002891866\n",
      "3.4302634559562586\n",
      "3.5597708167690305\n",
      "3.6958102780524777\n",
      "3.8382990177068317\n",
      "3.987173699844521\n",
      "4.142384058924362\n",
      "4.303887820172065\n",
      "4.47164682812872\n",
      "4.645624190554598\n",
      "4.8257822381741295\n",
      "5.0120811200304045\n",
      "5.204477882773641\n",
      "5.402925911632984\n",
      "5.607374637323129\n",
      "5.820256952154159\n",
      "6.037503112707711\n",
      "6.260215921453339\n",
      "6.488503889112509\n",
      "6.722363520412636\n",
      "6.961756343233354\n",
      "7.20662751525307\n",
      "7.456912655132268\n",
      "7.712541021335436\n",
      "7.973437260003511\n",
      "8.23952249782929\n"
     ]
    }
   ],
   "source": [
    "foreach(x->println(ks[x,1,1]),1:length(Ts))"
   ]
  },
  {
   "cell_type": "code",
   "execution_count": 36,
   "metadata": {},
   "outputs": [
    {
     "name": "stdout",
     "output_type": "stream",
     "text": [
      "140.7701786554191\n",
      "135.9002764960987\n",
      "131.3014600191764\n",
      "126.95120412031781\n",
      "122.82984412926244\n",
      "118.92025251646908\n",
      "115.20761866447292\n",
      "111.6793262025044\n",
      "108.32492555533014\n",
      "105.13620170567464\n",
      "102.10733849332634\n",
      "99.2351807408899\n",
      "96.5245358309687\n",
      "93.9754926153031\n",
      "91.59435248861732\n",
      "89.39387619640931\n",
      "87.39154266688931\n",
      "85.61043463806405\n",
      "84.07962963982844\n",
      "82.8342464982637\n",
      "81.91503009222036\n",
      "81.36735031524861\n",
      "81.23955309933532\n",
      "81.5807234129489\n",
      "82.43807630458184\n",
      "83.85434154563842\n",
      "85.86563062058354\n",
      "88.49999880757828\n",
      "91.77702831615592\n",
      "95.70829853321325\n",
      "100.29851637177427\n",
      "105.80744682559931\n",
      "111.86089620846556\n",
      "118.52080916686002\n",
      "125.79905913333114\n",
      "133.69272828538226\n",
      "142.19535372893503\n",
      "151.2994283389415\n",
      "160.9972747379597\n",
      "171.28139405889016\n",
      "182.1445936249508\n",
      "193.58000957977012\n",
      "205.5810784872681\n",
      "218.14148598547982\n",
      "231.2551077968961\n",
      "244.9159514325237\n",
      "259.11810292636534\n",
      "273.85568059504834\n",
      "289.1227964540253\n",
      "304.91352515055223\n",
      "321.6384130327031\n",
      "338.6170002437547\n",
      "356.0411461793854\n",
      "373.93415035408646\n",
      "392.3007849200425\n",
      "411.140318482703\n",
      "430.4496352209988\n",
      "450.22435485170206\n",
      "470.45933255974074\n",
      "491.14891689033846\n",
      "512.287097975171\n"
     ]
    }
   ],
   "source": [
    "foreach(x->println(sigmas[x,1,1]/100),1:length(Ts))"
   ]
  },
  {
   "cell_type": "code",
   "execution_count": 32,
   "metadata": {},
   "outputs": [
    {
     "name": "stdout",
     "output_type": "stream",
     "text": [
      "331.033032318451\n",
      "337.0013867897303\n",
      "342.7566027690796\n",
      "348.3084579761402\n",
      "353.66556968896435\n",
      "358.83495362798527\n",
      "363.821424675437\n",
      "368.62678073837566\n",
      "373.24870419827005\n",
      "377.6793106643083\n",
      "381.90327520131154\n",
      "385.89547685398725\n",
      "389.612212564893\n",
      "393.0031416315087\n",
      "395.9959125217735\n",
      "398.4924553381499\n",
      "400.36858246509394\n",
      "401.47182794916836\n",
      "401.622407004461\n",
      "400.61856702428935\n",
      "398.247887030153\n",
      "394.3054751378792\n",
      "388.61849219820823\n",
      "381.07407055804345\n",
      "371.64517633667606\n",
      "360.40755873344256\n",
      "347.5419830217914\n",
      "333.3195807658278\n",
      "318.0732185066191\n",
      "302.1618003577001\n",
      "285.93561379697104\n",
      "269.5515669312269\n",
      "253.52663622608947\n",
      "238.00272480768282\n",
      "223.10521997545302\n",
      "208.91967120198603\n",
      "195.4927178312242\n",
      "182.839710607677\n",
      "170.95270673245173\n",
      "159.80748586703564\n",
      "149.36923297870166\n",
      "139.59690389922233\n",
      "130.44643983272655\n",
      "121.87304352439595\n",
      "113.83272543515629\n",
      "106.28330168090224\n",
      "99.18499212525711\n",
      "92.50073459381328\n",
      "86.19630302662014\n",
      "80.2402944525666\n",
      "74.56677581090567\n",
      "69.2121214941378\n",
      "64.13365967397077\n",
      "59.306760542433366\n",
      "54.71070734328047\n",
      "50.327216339235356\n",
      "46.139935455521\n",
      "42.134158836130915\n",
      "38.29662020978402\n",
      "34.61532612745085\n",
      "31.079414577294543\n"
     ]
    }
   ],
   "source": [
    "foreach(x->println(-seebecks[x,1,1]*1e6),1:length(Ts))"
   ]
  },
  {
   "cell_type": "code",
   "execution_count": 37,
   "metadata": {},
   "outputs": [
    {
     "name": "stdout",
     "output_type": "stream",
     "text": [
      "0.08812309401792055\n",
      "0.08768116961733835\n",
      "0.08717041622617903\n",
      "0.08660155296714063\n",
      "0.08598419754779991\n",
      "0.08532704925782181\n",
      "0.08463810218752184\n",
      "0.08392489690091888\n",
      "0.08319482128148016\n",
      "0.08245547326635089\n",
      "0.08171509948278374\n",
      "0.08098312401725043\n",
      "0.08027504428286354\n",
      "0.07960210141631653\n",
      "0.07898065689052385\n",
      "0.0784330831995021\n",
      "0.07798677172435181\n",
      "0.07767544957051582\n",
      "0.07754011090334158\n",
      "0.07762964955407774\n",
      "0.0780010328963763\n",
      "0.07871883237008427\n",
      "0.07985397090727474\n",
      "0.08148166545975463\n",
      "0.08367871759147935\n",
      "0.08652049900061215\n",
      "0.09007816673099786\n",
      "0.09441641571285064\n",
      "0.09959222790133673\n",
      "0.1056546022402009\n",
      "0.11264511751370926\n",
      "0.1209495221538075\n",
      "0.13011487394152677\n",
      "0.14025431897587848\n",
      "0.15141740579025964\n",
      "0.16363378550830077\n",
      "0.17692771759558967\n",
      "0.19132131044282263\n",
      "0.20683570100456183\n",
      "0.22349157291959543\n",
      "0.24130939127931206\n",
      "0.2603094960893755\n",
      "0.2805121206344543\n",
      "0.30193736996626575\n",
      "0.32460517960954305\n",
      "0.3485352662679617\n",
      "0.37374707741223245\n",
      "0.40025974363931005\n",
      "0.4280920358411282\n",
      "0.4572623280806416\n",
      "0.48860479372313703\n",
      "0.5208303936931296\n",
      "0.5543343580199744\n",
      "0.5891885533958345\n",
      "0.6254294898143455\n",
      "0.6630830974906621\n",
      "0.7021705970447627\n",
      "0.742710580824745\n",
      "0.78471992690893\n",
      "0.8282142605062552\n",
      "0.8732082118343278\n"
     ]
    }
   ],
   "source": [
    "foreach(x->println(kes[x,1,1]),1:length(Ts))"
   ]
  },
  {
   "cell_type": "code",
   "execution_count": 34,
   "metadata": {},
   "outputs": [
    {
     "name": "stdout",
     "output_type": "stream",
     "text": [
      "7.978667476273648e-6\n",
      "1.663696706472482e-5\n",
      "3.322570947227635e-5\n",
      "6.379723698392211e-5\n",
      "0.00011817639227426907\n",
      "0.00021181912475147095\n",
      "0.00036835211098315535\n",
      "0.0006229529560427473\n",
      "0.0010267389228517153\n",
      "0.001652329445388445\n",
      "0.0026007267484752707\n",
      "0.004009608408895682\n",
      "0.006063187168382515\n",
      "0.009002904249923376\n",
      "0.01313929386425616\n",
      "0.018863761921507044\n",
      "0.026658709950751258\n",
      "0.03710404852537847\n",
      "0.05087703311491282\n",
      "0.06874185093997\n",
      "0.09152544869275131\n",
      "0.12007742536444481\n",
      "0.15521490289594686\n",
      "0.19765798780256816\n",
      "0.24796647722651186\n",
      "0.3064914421612026\n",
      "0.3733536024584831\n",
      "0.4484546185008709\n",
      "0.5315173872110527\n",
      "0.6221443162882798\n",
      "0.7198793275104934\n",
      "0.8249707200909036\n",
      "0.9360645306087454\n",
      "1.0529311383161717\n",
      "1.1753027049278968\n",
      "1.3029424566675032\n",
      "1.4356628328467695\n",
      "1.5733205408600135\n",
      "1.7158077468194006\n",
      "1.86304313782656\n",
      "2.014964051527885\n",
      "2.1715200239285783\n",
      "2.3326677452814892\n",
      "2.4983672608800793\n",
      "2.6685792040743364\n",
      "2.8432628503830872\n",
      "3.0223748057457898\n",
      "3.2058681734962966\n",
      "3.3936920759080773\n",
      "3.5857914337959516\n",
      "3.783778220019402\n",
      "3.984884405498721\n",
      "4.189829689067189\n",
      "4.398662320349864\n",
      "4.611353405344158\n",
      "4.827849183599483\n",
      "5.048083788212641\n",
      "5.271984017884108\n",
      "5.499471622678809\n",
      "5.7304646102597045\n",
      "5.964878099538622\n"
     ]
    }
   ],
   "source": [
    "foreach(x->println(kbis[x,1,1]),1:length(Ts))"
   ]
  },
  {
   "cell_type": "code",
   "execution_count": 35,
   "metadata": {},
   "outputs": [
    {
     "name": "stdout",
     "output_type": "stream",
     "text": [
      "3.3434034359948246\n",
      "3.2698062577322\n",
      "3.198854562867804\n",
      "3.130479237748881\n",
      "3.064601980024464\n",
      "3.001138542931935\n",
      "2.9400011975390212\n",
      "2.8811005949001887\n",
      "2.8243471666100115\n",
      "2.7696521694897247\n",
      "2.716928455421001\n",
      "2.6660910286263473\n",
      "2.6170574384861767\n",
      "2.569748045161323\n",
      "2.5240861870251146\n",
      "2.479998272582647\n",
      "2.4374138147049527\n",
      "2.3962654212832604\n",
      "2.356488753542467\n",
      "2.31802246101964\n",
      "2.280808100416157\n",
      "2.244790043990699\n",
      "2.2099153817271064\n",
      "2.176133820110109\n",
      "2.1433975790473614\n",
      "2.1116612873927894\n",
      "2.0808818765625143\n",
      "2.0510184730945995\n",
      "2.022032289635087\n",
      "1.9938865159634083\n",
      "1.9665462115623873\n",
      "1.9399782013762452\n",
      "1.914150976071959\n",
      "1.8890345976077292\n",
      "1.864600610413075\n",
      "1.8408219581133825\n",
      "1.8176729055138996\n",
      "1.7951289654661942\n",
      "1.7731668302285155\n",
      "1.7517643069606763\n",
      "1.7309002570373238\n",
      "1.7105545389064079\n",
      "1.6907079542561214\n",
      "1.671342197282375\n",
      "1.652439806870718\n",
      "1.6339841215230808\n",
      "1.615959236872382\n",
      "1.5983499656380338\n",
      "1.5811417998837782\n",
      "1.5643208754465356\n",
      "1.5478739384116191\n",
      "1.5317883135158608\n",
      "1.5160518743661755\n",
      "1.50065301536681\n",
      "1.4855806252541333\n",
      "1.4708240621432092\n",
      "1.4563731299956657\n",
      "1.4422180564234153\n",
      "1.4283494717476979\n",
      "1.4147583892375506\n",
      "1.4014361864563394\n"
     ]
    }
   ],
   "source": [
    "foreach(x->println(klsT[x,1,1]),1:length(Ts))"
   ]
  }
 ],
 "metadata": {
  "kernelspec": {
   "display_name": "Julia 1.0.1",
   "language": "julia",
   "name": "julia-1.0"
  },
  "language_info": {
   "file_extension": ".jl",
   "mimetype": "application/julia",
   "name": "julia",
   "version": "1.0.1"
  }
 },
 "nbformat": 4,
 "nbformat_minor": 1
}
